{
 "cells": [
  {
   "cell_type": "markdown",
   "metadata": {},
   "source": [
    "---    \n",
    "Привет, Вячесляв!\n",
    "\n",
    "Спасибо, за такие подробные и понятные пояснения! Отмечать исправление буду этими синими прямоугольничками.\n",
    "\n",
    "<div class=\"alert alert-block alert-info\">\n",
    "    \n",
    "### Правка"
   ]
  },
  {
   "cell_type": "markdown",
   "metadata": {},
   "source": [
    "Привет, Дарья!\n",
    "\n",
    "Меня зовут Вячеслав Погорелый, и я буду проводить ревью твоего проекта. \n",
    "\n",
    "Предлагаю перейти на \"ты\", если не против)\n",
    "\n",
    "Но если это не удобно - дай знать, и мы перейдем на \"вы\". Моя главная задача — не находить сделанные тобою ошибки, а передать свой опыт и помочь тебе стать аналитиком данных.\n",
    "\n",
    "Я отметил комментарии и замечания разным цветом далее по тексту markdown:\n",
    "\n",
    "---    \n",
    "<div class=\"alert alert-block alert-danger\">\n",
    "    \n",
    "### Ошибка\n",
    "    \n",
    "Критическое замечание, которые следует исправить.\n",
    "</div> \n",
    "    \n",
    "---\n",
    "    \n",
    "<div class=\"alert alert-block alert-warning\">\n",
    "    \n",
    "### Совет\n",
    "    \n",
    "Замечание\\совет на будущее.\n",
    "</div>\n",
    "    \n",
    "---\n",
    "    \n",
    "<div class=\"alert alert-block alert-success\">\n",
    "    \n",
    "### Успех\n",
    "    \n",
    "Когда всё сделано правильно.\n",
    "</div>\n",
    "    \n",
    "    \n",
    "    \n",
    "Будет здорово, если для ответов ты выберешь любой **<font color=\"maroon\">читабельный и заметный цвет</font>**, так мне будет проще все проверить.\n",
    "\n",
    "\n",
    "При доработке проекта попрошу тебя сохранить и не видоизменять заметки ревьюера, это осложняет повторную проверку."
   ]
  },
  {
   "cell_type": "markdown",
   "metadata": {},
   "source": [
    "<div class=\"alert alert-block alert-success\">\n",
    " \n",
    "# Итоговый комментарий ревьюера ver.2\n",
    "    \n",
    "#### Успех\n",
    "    \n",
    "Спасибо тебе за исправления замечаний. Вот теперь я точно смогу принять проект, ведь ты отлично постаралась. От себя желаю успехов в дальнейшей учебе. Ты точно справишься. \n",
    "</div "
   ]
  },
  {
   "cell_type": "markdown",
   "metadata": {},
   "source": [
    "# Исследование объявлений о продаже квартир\n",
    "\n",
    "В вашем распоряжении данные сервиса Яндекс.Недвижимость — архив объявлений о продаже квартир в Санкт-Петербурге и соседних населённых пунктов за несколько лет. Нужно научиться определять рыночную стоимость объектов недвижимости. Ваша задача — установить параметры. Это позволит построить автоматизированную систему: она отследит аномалии и мошенническую деятельность. \n",
    "\n",
    "По каждой квартире на продажу доступны два вида данных. Первые вписаны пользователем, вторые — получены автоматически на основе картографических данных. Например, расстояние до центра, аэропорта, ближайшего парка и водоёма. "
   ]
  },
  {
   "cell_type": "markdown",
   "metadata": {},
   "source": [
    "### Откройте файл с данными и изучите общую информацию. "
   ]
  },
  {
   "cell_type": "markdown",
   "metadata": {},
   "source": [
    "**Используемые переменные:**\n",
    "\n",
    "*df* - первоначальные данные (предоставленная таблица);\n",
    "\n",
    "*df_prepr* - данные после предобработки (с заполненными пропусками);\n",
    "\n",
    "*df_add* - данные с новыми столбцами;\n",
    "\n",
    "*df_10* - данные по 10 населенным пунктам, в которых продавалось больше всего недвижимости;\n",
    "\n",
    "*df_spb* - данные по Санкт-Петербургу.\n"
   ]
  },
  {
   "cell_type": "markdown",
   "metadata": {},
   "source": [
    "<div class=\"alert alert-block alert-success\">\n",
    " \n",
    "### Комментарий ревьюера\n",
    "    \n",
    "#### Успех\n",
    "    \n",
    "Спасибо тебе большое за оглавление к проекту. \n",
    "</div "
   ]
  },
  {
   "cell_type": "markdown",
   "metadata": {},
   "source": [
    "**1.1. Импортируем необходимые библиотеки.**"
   ]
  },
  {
   "cell_type": "code",
   "execution_count": 1,
   "metadata": {},
   "outputs": [],
   "source": [
    "import pandas as pd\n",
    "import matplotlib.pyplot as plt\n",
    "import numpy as np\n",
    "pd.set_option(\"display.float_format\", \"{:.2f}\".format) #чтобы не было экспоненциальных чисел в столбце цен"
   ]
  },
  {
   "cell_type": "markdown",
   "metadata": {},
   "source": [
    "**1.2. Открываем и сохраняем первоначальные данные в переменной df.**"
   ]
  },
  {
   "cell_type": "code",
   "execution_count": 2,
   "metadata": {},
   "outputs": [
    {
     "data": {
      "text/html": [
       "<div>\n",
       "<style scoped>\n",
       "    .dataframe tbody tr th:only-of-type {\n",
       "        vertical-align: middle;\n",
       "    }\n",
       "\n",
       "    .dataframe tbody tr th {\n",
       "        vertical-align: top;\n",
       "    }\n",
       "\n",
       "    .dataframe thead th {\n",
       "        text-align: right;\n",
       "    }\n",
       "</style>\n",
       "<table border=\"1\" class=\"dataframe\">\n",
       "  <thead>\n",
       "    <tr style=\"text-align: right;\">\n",
       "      <th></th>\n",
       "      <th>total_images</th>\n",
       "      <th>last_price</th>\n",
       "      <th>total_area</th>\n",
       "      <th>first_day_exposition</th>\n",
       "      <th>rooms</th>\n",
       "      <th>ceiling_height</th>\n",
       "      <th>floors_total</th>\n",
       "      <th>living_area</th>\n",
       "      <th>floor</th>\n",
       "      <th>is_apartment</th>\n",
       "      <th>...</th>\n",
       "      <th>kitchen_area</th>\n",
       "      <th>balcony</th>\n",
       "      <th>locality_name</th>\n",
       "      <th>airports_nearest</th>\n",
       "      <th>cityCenters_nearest</th>\n",
       "      <th>parks_around3000</th>\n",
       "      <th>parks_nearest</th>\n",
       "      <th>ponds_around3000</th>\n",
       "      <th>ponds_nearest</th>\n",
       "      <th>days_exposition</th>\n",
       "    </tr>\n",
       "  </thead>\n",
       "  <tbody>\n",
       "    <tr>\n",
       "      <th>0</th>\n",
       "      <td>20</td>\n",
       "      <td>13000000.00</td>\n",
       "      <td>108.00</td>\n",
       "      <td>2019-03-07T00:00:00</td>\n",
       "      <td>3</td>\n",
       "      <td>2.70</td>\n",
       "      <td>16.00</td>\n",
       "      <td>51.00</td>\n",
       "      <td>8</td>\n",
       "      <td>NaN</td>\n",
       "      <td>...</td>\n",
       "      <td>25.00</td>\n",
       "      <td>NaN</td>\n",
       "      <td>Санкт-Петербург</td>\n",
       "      <td>18863.00</td>\n",
       "      <td>16028.00</td>\n",
       "      <td>1.00</td>\n",
       "      <td>482.00</td>\n",
       "      <td>2.00</td>\n",
       "      <td>755.00</td>\n",
       "      <td>NaN</td>\n",
       "    </tr>\n",
       "    <tr>\n",
       "      <th>1</th>\n",
       "      <td>7</td>\n",
       "      <td>3350000.00</td>\n",
       "      <td>40.40</td>\n",
       "      <td>2018-12-04T00:00:00</td>\n",
       "      <td>1</td>\n",
       "      <td>NaN</td>\n",
       "      <td>11.00</td>\n",
       "      <td>18.60</td>\n",
       "      <td>1</td>\n",
       "      <td>NaN</td>\n",
       "      <td>...</td>\n",
       "      <td>11.00</td>\n",
       "      <td>2.00</td>\n",
       "      <td>посёлок Шушары</td>\n",
       "      <td>12817.00</td>\n",
       "      <td>18603.00</td>\n",
       "      <td>0.00</td>\n",
       "      <td>NaN</td>\n",
       "      <td>0.00</td>\n",
       "      <td>NaN</td>\n",
       "      <td>81.00</td>\n",
       "    </tr>\n",
       "    <tr>\n",
       "      <th>2</th>\n",
       "      <td>10</td>\n",
       "      <td>5196000.00</td>\n",
       "      <td>56.00</td>\n",
       "      <td>2015-08-20T00:00:00</td>\n",
       "      <td>2</td>\n",
       "      <td>NaN</td>\n",
       "      <td>5.00</td>\n",
       "      <td>34.30</td>\n",
       "      <td>4</td>\n",
       "      <td>NaN</td>\n",
       "      <td>...</td>\n",
       "      <td>8.30</td>\n",
       "      <td>0.00</td>\n",
       "      <td>Санкт-Петербург</td>\n",
       "      <td>21741.00</td>\n",
       "      <td>13933.00</td>\n",
       "      <td>1.00</td>\n",
       "      <td>90.00</td>\n",
       "      <td>2.00</td>\n",
       "      <td>574.00</td>\n",
       "      <td>558.00</td>\n",
       "    </tr>\n",
       "    <tr>\n",
       "      <th>3</th>\n",
       "      <td>0</td>\n",
       "      <td>64900000.00</td>\n",
       "      <td>159.00</td>\n",
       "      <td>2015-07-24T00:00:00</td>\n",
       "      <td>3</td>\n",
       "      <td>NaN</td>\n",
       "      <td>14.00</td>\n",
       "      <td>NaN</td>\n",
       "      <td>9</td>\n",
       "      <td>NaN</td>\n",
       "      <td>...</td>\n",
       "      <td>NaN</td>\n",
       "      <td>0.00</td>\n",
       "      <td>Санкт-Петербург</td>\n",
       "      <td>28098.00</td>\n",
       "      <td>6800.00</td>\n",
       "      <td>2.00</td>\n",
       "      <td>84.00</td>\n",
       "      <td>3.00</td>\n",
       "      <td>234.00</td>\n",
       "      <td>424.00</td>\n",
       "    </tr>\n",
       "    <tr>\n",
       "      <th>4</th>\n",
       "      <td>2</td>\n",
       "      <td>10000000.00</td>\n",
       "      <td>100.00</td>\n",
       "      <td>2018-06-19T00:00:00</td>\n",
       "      <td>2</td>\n",
       "      <td>3.03</td>\n",
       "      <td>14.00</td>\n",
       "      <td>32.00</td>\n",
       "      <td>13</td>\n",
       "      <td>NaN</td>\n",
       "      <td>...</td>\n",
       "      <td>41.00</td>\n",
       "      <td>NaN</td>\n",
       "      <td>Санкт-Петербург</td>\n",
       "      <td>31856.00</td>\n",
       "      <td>8098.00</td>\n",
       "      <td>2.00</td>\n",
       "      <td>112.00</td>\n",
       "      <td>1.00</td>\n",
       "      <td>48.00</td>\n",
       "      <td>121.00</td>\n",
       "    </tr>\n",
       "  </tbody>\n",
       "</table>\n",
       "<p>5 rows × 22 columns</p>\n",
       "</div>"
      ],
      "text/plain": [
       "   total_images  last_price  total_area first_day_exposition  rooms  \\\n",
       "0            20 13000000.00      108.00  2019-03-07T00:00:00      3   \n",
       "1             7  3350000.00       40.40  2018-12-04T00:00:00      1   \n",
       "2            10  5196000.00       56.00  2015-08-20T00:00:00      2   \n",
       "3             0 64900000.00      159.00  2015-07-24T00:00:00      3   \n",
       "4             2 10000000.00      100.00  2018-06-19T00:00:00      2   \n",
       "\n",
       "   ceiling_height  floors_total  living_area  floor is_apartment  ...  \\\n",
       "0            2.70         16.00        51.00      8          NaN  ...   \n",
       "1             NaN         11.00        18.60      1          NaN  ...   \n",
       "2             NaN          5.00        34.30      4          NaN  ...   \n",
       "3             NaN         14.00          NaN      9          NaN  ...   \n",
       "4            3.03         14.00        32.00     13          NaN  ...   \n",
       "\n",
       "   kitchen_area  balcony    locality_name  airports_nearest  \\\n",
       "0         25.00      NaN  Санкт-Петербург          18863.00   \n",
       "1         11.00     2.00   посёлок Шушары          12817.00   \n",
       "2          8.30     0.00  Санкт-Петербург          21741.00   \n",
       "3           NaN     0.00  Санкт-Петербург          28098.00   \n",
       "4         41.00      NaN  Санкт-Петербург          31856.00   \n",
       "\n",
       "  cityCenters_nearest  parks_around3000  parks_nearest  ponds_around3000  \\\n",
       "0            16028.00              1.00         482.00              2.00   \n",
       "1            18603.00              0.00            NaN              0.00   \n",
       "2            13933.00              1.00          90.00              2.00   \n",
       "3             6800.00              2.00          84.00              3.00   \n",
       "4             8098.00              2.00         112.00              1.00   \n",
       "\n",
       "   ponds_nearest  days_exposition  \n",
       "0         755.00              NaN  \n",
       "1            NaN            81.00  \n",
       "2         574.00           558.00  \n",
       "3         234.00           424.00  \n",
       "4          48.00           121.00  \n",
       "\n",
       "[5 rows x 22 columns]"
      ]
     },
     "execution_count": 2,
     "metadata": {},
     "output_type": "execute_result"
    }
   ],
   "source": [
    "df = pd.read_csv('/datasets/real_estate_data.csv', sep='\\t' , decimal='.')\n",
    "df.head()"
   ]
  },
  {
   "cell_type": "markdown",
   "metadata": {},
   "source": [
    "<div class=\"alert alert-block alert-success\">\n",
    " \n",
    "### Комментарий ревьюера\n",
    "    \n",
    "#### Успех\n",
    "    \n",
    "Избавились от разделителья и сохранили проект в переменную. \n",
    "</div "
   ]
  },
  {
   "cell_type": "markdown",
   "metadata": {},
   "source": [
    "**1.3. Изучаем общую информацию о полученном датафрейме.**\n",
    "\n",
    "\n",
    "\n",
    "*Описание данных:*\n",
    "\n",
    "*airports_nearest — расстояние до ближайшего аэропорта в метрах (м)*\n",
    "\n",
    "*balcony — число балконов*\n",
    "\n",
    "*ceiling_height — высота потолков (м)*\n",
    "\n",
    "*cityCenters_nearest — расстояние до центра города (м)*\n",
    "\n",
    "*days_exposition — сколько дней было размещено объявление (от публикации до снятия)*\n",
    "\n",
    "*first_day_exposition — дата публикации*\n",
    "\n",
    "*floor — этаж*\n",
    "\n",
    "*floors_total — всего этажей в доме*\n",
    "\n",
    "*is_apartment — апартаменты (булев тип)*\n",
    "\n",
    "*kitchen_area — площадь кухни в квадратных метрах (м²)*\n",
    "\n",
    "*last_price — цена на момент снятия с публикации*\n",
    "\n",
    "*living_area — жилая площадь в квадратных метрах (м²)*\n",
    "\n",
    "*locality_name — название населённого пункта*\n",
    "\n",
    "*open_plan — свободная планировка (булев тип)*\n",
    "\n",
    "*parks_around3000 — число парков в радиусе 3 км*\n",
    "\n",
    "*parks_nearest — расстояние до ближайшего парка (м)*\n",
    "\n",
    "*ponds_around3000 — число водоёмов в радиусе 3 км*\n",
    "\n",
    "*ponds_nearest — расстояние до ближайшего водоёма (м)*\n",
    "\n",
    "*rooms — число комнат*\n",
    "\n",
    "*studio — квартира-студия (булев тип)*\n",
    "\n",
    "*total_area — общая площадь квартиры в квадратных метрах (м²)*\n",
    "\n",
    "*total_images — число фотографий квартиры в объявлении*"
   ]
  },
  {
   "cell_type": "code",
   "execution_count": 3,
   "metadata": {},
   "outputs": [
    {
     "name": "stdout",
     "output_type": "stream",
     "text": [
      "<class 'pandas.core.frame.DataFrame'>\n",
      "RangeIndex: 23699 entries, 0 to 23698\n",
      "Data columns (total 22 columns):\n",
      " #   Column                Non-Null Count  Dtype  \n",
      "---  ------                --------------  -----  \n",
      " 0   total_images          23699 non-null  int64  \n",
      " 1   last_price            23699 non-null  float64\n",
      " 2   total_area            23699 non-null  float64\n",
      " 3   first_day_exposition  23699 non-null  object \n",
      " 4   rooms                 23699 non-null  int64  \n",
      " 5   ceiling_height        14504 non-null  float64\n",
      " 6   floors_total          23613 non-null  float64\n",
      " 7   living_area           21796 non-null  float64\n",
      " 8   floor                 23699 non-null  int64  \n",
      " 9   is_apartment          2775 non-null   object \n",
      " 10  studio                23699 non-null  bool   \n",
      " 11  open_plan             23699 non-null  bool   \n",
      " 12  kitchen_area          21421 non-null  float64\n",
      " 13  balcony               12180 non-null  float64\n",
      " 14  locality_name         23650 non-null  object \n",
      " 15  airports_nearest      18157 non-null  float64\n",
      " 16  cityCenters_nearest   18180 non-null  float64\n",
      " 17  parks_around3000      18181 non-null  float64\n",
      " 18  parks_nearest         8079 non-null   float64\n",
      " 19  ponds_around3000      18181 non-null  float64\n",
      " 20  ponds_nearest         9110 non-null   float64\n",
      " 21  days_exposition       20518 non-null  float64\n",
      "dtypes: bool(2), float64(14), int64(3), object(3)\n",
      "memory usage: 3.7+ MB\n"
     ]
    }
   ],
   "source": [
    "df.info()"
   ]
  },
  {
   "cell_type": "markdown",
   "metadata": {},
   "source": [
    "<div class=\"alert alert-block alert-success\">\n",
    " \n",
    "### Комментарий ревьюера\n",
    "    \n",
    "#### Успех\n",
    "    \n",
    "Первичная информация о проекте получена \n",
    "</div "
   ]
  },
  {
   "cell_type": "markdown",
   "metadata": {},
   "source": [
    "**1.4. Построим общую гистограмму для всех столбцов таблицы.**"
   ]
  },
  {
   "cell_type": "code",
   "execution_count": 4,
   "metadata": {},
   "outputs": [
    {
     "data": {
      "text/plain": [
       "array([[<AxesSubplot:title={'center':'total_images'}>,\n",
       "        <AxesSubplot:title={'center':'last_price'}>,\n",
       "        <AxesSubplot:title={'center':'total_area'}>,\n",
       "        <AxesSubplot:title={'center':'rooms'}>],\n",
       "       [<AxesSubplot:title={'center':'ceiling_height'}>,\n",
       "        <AxesSubplot:title={'center':'floors_total'}>,\n",
       "        <AxesSubplot:title={'center':'living_area'}>,\n",
       "        <AxesSubplot:title={'center':'floor'}>],\n",
       "       [<AxesSubplot:title={'center':'kitchen_area'}>,\n",
       "        <AxesSubplot:title={'center':'balcony'}>,\n",
       "        <AxesSubplot:title={'center':'airports_nearest'}>,\n",
       "        <AxesSubplot:title={'center':'cityCenters_nearest'}>],\n",
       "       [<AxesSubplot:title={'center':'parks_around3000'}>,\n",
       "        <AxesSubplot:title={'center':'parks_nearest'}>,\n",
       "        <AxesSubplot:title={'center':'ponds_around3000'}>,\n",
       "        <AxesSubplot:title={'center':'ponds_nearest'}>],\n",
       "       [<AxesSubplot:title={'center':'days_exposition'}>, <AxesSubplot:>,\n",
       "        <AxesSubplot:>, <AxesSubplot:>]], dtype=object)"
      ]
     },
     "execution_count": 4,
     "metadata": {},
     "output_type": "execute_result"
    },
    {
     "data": {
      "image/png": "[encoded data removed]",
      "text/plain": [
       "<Figure size 1080x1440 with 20 Axes>"
      ]
     },
     "metadata": {
      "needs_background": "light"
     },
     "output_type": "display_data"
    }
   ],
   "source": [
    "df.hist(figsize=(15, 20))"
   ]
  },
  {
   "cell_type": "markdown",
   "metadata": {},
   "source": [
    "<div class=\"alert alert-block alert-warning\">\n",
    " \n",
    "### Комментарий ревьюера\n",
    "    \n",
    "#### Совет\n",
    "    \n",
    "Тут не хватает промежуточного вывода по ходу Знакоства с данными. В нем обычно пишут все то, что обнаружили при знакомстве с датасетом. \n",
    "</div "
   ]
  },
  {
   "cell_type": "markdown",
   "metadata": {},
   "source": [
    "### Предобработка данных"
   ]
  },
  {
   "cell_type": "markdown",
   "metadata": {},
   "source": [
    "**Находим и изучем пропущенные значения в столбцах. Заполняем пропущенные значения там, где это возможно.**"
   ]
  },
  {
   "cell_type": "markdown",
   "metadata": {},
   "source": [
    "**2.1. Определяем, в каких столбцах есть пропущенные значения.**"
   ]
  },
  {
   "cell_type": "code",
   "execution_count": 5,
   "metadata": {},
   "outputs": [
    {
     "data": {
      "text/plain": [
       "total_images                0\n",
       "last_price                  0\n",
       "total_area                  0\n",
       "first_day_exposition        0\n",
       "rooms                       0\n",
       "ceiling_height           9195\n",
       "floors_total               86\n",
       "living_area              1903\n",
       "floor                       0\n",
       "is_apartment            20924\n",
       "studio                      0\n",
       "open_plan                   0\n",
       "kitchen_area             2278\n",
       "balcony                 11519\n",
       "locality_name              49\n",
       "airports_nearest         5542\n",
       "cityCenters_nearest      5519\n",
       "parks_around3000         5518\n",
       "parks_nearest           15620\n",
       "ponds_around3000         5518\n",
       "ponds_nearest           14589\n",
       "days_exposition          3181\n",
       "dtype: int64"
      ]
     },
     "execution_count": 5,
     "metadata": {},
     "output_type": "execute_result"
    }
   ],
   "source": [
    "df.isnull().sum()"
   ]
  },
  {
   "cell_type": "markdown",
   "metadata": {},
   "source": [
    "<div class=\"alert alert-block alert-warning\">\n",
    " \n",
    "### Комментарий ревьюера\n",
    "    \n",
    "#### Совет\n",
    "    \n",
    "Есть хорошая библиотека для изучения пропусков https://russianblogs.com/article/5001266235/\n",
    "</div "
   ]
  },
  {
   "cell_type": "code",
   "execution_count": 6,
   "metadata": {},
   "outputs": [],
   "source": [
    "#df[df['cityCenters_nearest'].isna()].head(30) #эта строка использовалась для анализа данных пропущенных значений каждого столбца\n",
    "\n",
    "#df[df['airports_nearest'].isna()]['locality_name'].unique() #эта строка использовалась для анализа данных пропущенных значений каждого столбца"
   ]
  },
  {
   "cell_type": "markdown",
   "metadata": {},
   "source": [
    "<p style=\"text-align: center; font-weight:bold\">Пропущенные значения присутствуют в колонках:</p>\n",
    "\n",
    "**ceiling_height** (+) — высота потолков (м) (Так этот тип данных относится к типу, который заполняют люди вручную, то, скорее всего, они просто не заполнили эту ячейку. Возможно, они сами ее не знают, или высота потолков не имеет значимой роли, или дом может оказаться необычной планировки с разными потолками, или некоторые такие объявления создавались еще до того, как появилась возможность добавлять высоту потолков. Пропущенных значений в этом столбце довольно много. *Лучше всего заполнить пропущенные значения медианным*);\n",
    "\n",
    "**balcony** (+) — число балконов (Скорее всего, значения пропущены, потому что балкона/балконов в доме нет. *Лучше всего заполнить пропущенные значения 0*);\n",
    "\n",
    "floors_total — всего этажей в доме (Так этот тип данных относится к типу, который заполняют люди вручную, то, скорее всего, они просто не заполнили эту ячейку. Возможно, некоторые такие объявления создавались еще до того, как появилась возможность добавлять количество этажей в доме или это частные одноэтажные дома. *Пропущенных значений в этом столбце очень мало, поэтому можно и не заполнять пропущенные значения, чтобы не искажать данные*);\n",
    "\n",
    "**living_area** (+) — жилая площадь в квадратных метрах (м²) (Так этот тип данных относится к типу, который заполняют люди вручную, то, скорее всего, они просто не заполнили эту ячейку. *Лучше всего заполнить пропущенные значения медианным*);\n",
    "\n",
    "**is_apartment** (+) — апартаменты (булев тип) (Так этот тип данных относится к типу, который заполняют люди вручную, то, скорее всего, они просто не заполнили эту ячейку. Скорее всего, пропущенные значения обозначают, что данное помещение не имеет юр статуса апартаментов. *Лучше всего заполнять пропущенные значения False*);\n",
    "\n",
    "**kitchen_area** (+) — площадь кухни в квадратных метрах (м²) (Так этот тип данных относится к типу, который заполняют люди вручную, то, скорее всего, они просто не заполнили эту ячейку. Возможно, владельцы студий не смогли определить размер своей кухни. Однако, пропущенные значения встречаются и в обычных квартирах. *Лучше всего заполнить пропущенные значения медианным*);\n",
    "\n",
    "*locality_name* (+) — название населённого пункта (Очень подозрительный пропуск. Обычно объявления о продаже недвимости без адреса являются мошенническими или же предложениями риелторов, которые так привлекают покупателей, чтобы сообщить, что конкретно эта квартира уже продана, но поблизости есть другая, не менее хорошая, но, скорее всего дороже. **Лучше не учитывать такие объявление вообще и удалить их из анализируемого.** Доля таких объявлений ничтожно мала и составляет всего лишь 0,2% (49 пропущенных значений из 23 699 объявлений));\n",
    "\n",
    "airports_nearest — расстояние до ближайшего аэропорта в метрах (м) (Эти данные заполнялись автоматически на основе картографических данных, это не может оказаться обычной человеческой ошибкой или \"недозаполнением\". Может показаться, что эта недвижимость находится слишком далеко, поэтому алгоритм не стал включать эти данные в объявление, но там присутствует как минимум одна квартира Санкт-Петербурга, а там без аэропорта никак обойтись нельзя. Можно было бы предположить, что пользователи неправильно или с опечаткой ввели адрес, поэтому возникла ошибка, но количество остальных пропусков, связанных с картографическими данными, не совпадает. Значит, эта какая-либо другая ощибка алгоритма или карт. *Так как это картографические данные, а недвижимость может находиться как в Питере, так и в сравнительно дальней деревне, лучше не заполнить пропущенные значения, чтобы не искажать данные*);\n",
    "\n",
    "cityCenters_nearest — расстояние до центра города (м) (Ситуация аналогична ситуации со столбиков \"airports_nearest\". *Так как это картографические данные, а недвижимость может находиться как в Питере, так и в сравнительно дальней деревне, лучше не заполнить пропущенные значения, чтобы не искажать данные*);\n",
    "\n",
    "**parks_around3000** (+) — число парков в радиусе 3 км (Скорее всего, парков в округе нет. *Лучше всего заполнить значение 0*);\n",
    "\n",
    "parks_nearest — расстояние до ближайшего парка (м) (Ситуация аналогична ситуации со столбиков \"airports_nearest\". *Так как это картографические данные, а недвижимость может находиться как в Питере, так и в сравнительно дальней деревне, лучше не заполнить пропущенные значения, чтобы не искажать данные*);\n",
    "\n",
    "**ponds_around3000** (+) — число водоёмов в радиусе 3 км (Скорее всего, водоемов в округе нет. *Лучше всего заполнить значение 0*);\n",
    "\n",
    "ponds_nearest — расстояние до ближайшего водоёма (м) (Ситуация аналогична ситуации со столбиков \"airports_nearest\". *Так как это картографические данные, а недвижимость может находиться как в Питере, так и в сравнительно дальней деревне, лучше не заполнить пропущенные значения, чтобы не искажать данные*);\n",
    "\n",
    "days_exposition — сколько дней было размещено объявление (от публикации до снятия) (Скорее всего, объявление еще просто не снято или возникла какая-то ошибка. *Лучше не заполнить пропущенные значения, чтобы не искажать данные*)\n",
    "\n",
    "Кроме того, о пропущенных значениях в столбцах \"airports_nearest\", \"cityCenters_nearest\", \"parks_around3000\", \"parks_nearest\", \"ponds_around3000\", \"ponds_nearest\" стоило бы сообщить на будущее."
   ]
  },
  {
   "cell_type": "markdown",
   "metadata": {},
   "source": [
    "<div class=\"alert alert-block alert-success\">\n",
    " \n",
    "### Комментарий ревьюера\n",
    "    \n",
    "#### Успех\n",
    "    \n",
    "Очень подробный разбор пропусков. Здорово \n",
    "</div "
   ]
  },
  {
   "cell_type": "markdown",
   "metadata": {},
   "source": [
    "**2.2. Заполняем пропущенные значения там, где это возможно**"
   ]
  },
  {
   "cell_type": "markdown",
   "metadata": {},
   "source": [
    "2.2.1. Заполняем ceiling_height, living_area, kitchen_area соответствующими медианными значениями. Логичнее всего было бы категоризировать данные, посчитать медиану по категориям, а после заполнить пропуски, но найти критерий категоризации в некоторых случаях (столбец \"ceiling_height\") случае сложно (высота потолков зависит от типа строения, а не от населенного пункта; в одном Санкт-Петербурге планировок домов очень много, есть и старинные, единственные в своем роде). Поэтому можно заполнить медианой или средним, либо оставить пропуски как есть. Так как многие методы не работают с пропусками, заполним пропущенные медианой. В случаях с living_area разделим данные по категорям, подсчитав медиану каждой и заполним полученные пропуски этими значениями. Однако, чтобы случайно не исказить данные, надо проверить столбцы на выбросы. После заполним kitchen_area вычитанием из общей площади жилой."
   ]
  },
  {
   "cell_type": "markdown",
   "metadata": {},
   "source": [
    "2.2.2. Проверяем на выбросы значения столбцов ceiling_height, living_area, kitchen_area."
   ]
  },
  {
   "cell_type": "code",
   "execution_count": 7,
   "metadata": {},
   "outputs": [
    {
     "name": "stdout",
     "output_type": "stream",
     "text": [
      "count   14504.00\n",
      "mean        2.77\n",
      "std         1.26\n",
      "min         1.00\n",
      "25%         2.52\n",
      "50%         2.65\n",
      "75%         2.80\n",
      "max       100.00\n",
      "Name: ceiling_height, dtype: float64\n"
     ]
    },
    {
     "data": {
      "image/png": "[encoded data removed]",
      "text/plain": [
       "<Figure size 432x288 with 1 Axes>"
      ]
     },
     "metadata": {
      "needs_background": "light"
     },
     "output_type": "display_data"
    },
    {
     "data": {
      "text/plain": [
       "count   21796.00\n",
       "mean       34.46\n",
       "std        22.03\n",
       "min         2.00\n",
       "25%        18.60\n",
       "50%        30.00\n",
       "75%        42.30\n",
       "max       409.70\n",
       "Name: living_area, dtype: float64"
      ]
     },
     "metadata": {},
     "output_type": "display_data"
    },
    {
     "data": {
      "text/plain": [
       "<AxesSubplot:>"
      ]
     },
     "metadata": {},
     "output_type": "display_data"
    },
    {
     "data": {
      "image/png": "[encoded data removed]",
      "text/plain": [
       "<Figure size 432x288 with 1 Axes>"
      ]
     },
     "metadata": {
      "needs_background": "light"
     },
     "output_type": "display_data"
    },
    {
     "data": {
      "text/plain": [
       "count   21421.00\n",
       "mean       10.57\n",
       "std         5.91\n",
       "min         1.30\n",
       "25%         7.00\n",
       "50%         9.10\n",
       "75%        12.00\n",
       "max       112.00\n",
       "Name: kitchen_area, dtype: float64"
      ]
     },
     "metadata": {},
     "output_type": "display_data"
    },
    {
     "data": {
      "text/plain": [
       "<AxesSubplot:>"
      ]
     },
     "metadata": {},
     "output_type": "display_data"
    },
    {
     "data": {
      "image/png": "[encoded data removed]",
      "text/plain": [
       "<Figure size 432x288 with 1 Axes>"
      ]
     },
     "metadata": {
      "needs_background": "light"
     },
     "output_type": "display_data"
    }
   ],
   "source": [
    "print(df[~df['ceiling_height'].isna()]['ceiling_height'].describe()) #      на всякий случай проверила, не учитывает ли \n",
    "#                                                                   график и расчеты пропущенные значения как 0 (Не учитывает)\n",
    "plt.ylim(2.1, 5)\n",
    "df.boxplot( column= 'ceiling_height')\n",
    "plt.show()\n",
    "display(df[~df['living_area'].isna()]['living_area'].describe())\n",
    "#plt.ylim(2, 3)\n",
    "display(df.boxplot( column= 'living_area'))\n",
    "plt.show()\n",
    "#plt.ylim(2, 3)\n",
    "display(df[~df['kitchen_area'].isna()]['kitchen_area'].describe())\n",
    "display(df.boxplot( column= 'kitchen_area'))\n",
    "plt.show()"
   ]
  },
  {
   "cell_type": "markdown",
   "metadata": {},
   "source": [
    "<div class=\"alert alert-block alert-warning\">\n",
    " \n",
    "### Комментарий ревьюера\n",
    "    \n",
    "#### Совет\n",
    "    \n",
    "В качестве альтернативы, тут можно графики вывести при помощи цикла. \n",
    "</div "
   ]
  },
  {
   "cell_type": "markdown",
   "metadata": {},
   "source": [
    "**Выводы**:\n",
    "В столбце \"living_area\" минимальная площадь составляет 2м2, что довольно подозрительно. Санитарная норма жилой площади на человека — минимальный метраж на одного человека, составляет 6 квадратных метров. Надо будет рассмотреть этот аспект ближе попозже и не забыть об этом.\n",
    "\n",
    "Кухня в среднем также составляет 9м2. Однако, существуют коммунальные квартиры, в которых общий метраж делится на проживающих. Будем считать, что здесь определить сложную границу сложнее, и трогать эти значения не будем. Только проверим математику (общая площадь - жилая) и заполним пропущенный значения."
   ]
  },
  {
   "cell_type": "markdown",
   "metadata": {},
   "source": [
    "**Работа со столбцом \"ceiling_height\"**\n",
    "\n",
    "2.2.3. Заполняем пропущенные значения ceiling_height, отчистив данные от выбросов и получая более точную медиану.\n",
    "\n",
    "Так как минимальная высота между напольным покрытием и потолком в России должна составлять минимум 2,5 м, а допустимая высота коридоров и прочих нежилых помещений составляет 2,1 м, сделаем срез допустимых значений высоты потолка от 2,1м до 5м (максимальная высота потолка, введенного пользователями составляет 100м)."
   ]
  },
  {
   "cell_type": "code",
   "execution_count": 8,
   "metadata": {},
   "outputs": [
    {
     "data": {
      "text/plain": [
       "22869   100.00\n",
       "22336    32.00\n",
       "3148     32.00\n",
       "21377    27.50\n",
       "22938    27.00\n",
       "10773    27.00\n",
       "21824    27.00\n",
       "4876     27.00\n",
       "20478    27.00\n",
       "5246     27.00\n",
       "5807     27.00\n",
       "17857    27.00\n",
       "5669     26.00\n",
       "18545    25.00\n",
       "14382    25.00\n",
       "11285    25.00\n",
       "355      25.00\n",
       "9379     25.00\n",
       "4643     25.00\n",
       "6246     25.00\n",
       "5076     24.00\n",
       "20507    22.60\n",
       "17496    20.00\n",
       "15061    14.00\n",
       "22309    10.30\n",
       "5863      8.30\n",
       "15743     8.00\n",
       "17442     8.00\n",
       "3474      8.00\n",
       "20264     6.00\n",
       "21227     5.80\n",
       "1388      5.60\n",
       "7578      5.50\n",
       "1026      5.30\n",
       "12628     5.30\n",
       "464       5.20\n",
       "Name: ceiling_height, dtype: float64"
      ]
     },
     "execution_count": 8,
     "metadata": {},
     "output_type": "execute_result"
    }
   ],
   "source": [
    "df[df['ceiling_height']>5]['ceiling_height'].sort_values(ascending=False)"
   ]
  },
  {
   "cell_type": "markdown",
   "metadata": {},
   "source": [
    "Вводим новую переменную для измененной таблицы, чтобы всегда иметь возможность смотреть на оригинал данных и сравнивать.\n",
    "\n",
    "Изменяем значения высоты потолков на более верные там, где это возможно.\n",
    "\n",
    "Можно предположить, что высота 25м на самом деле должна быть 2,5м. Исправим это.\n",
    "Остальные необычные значения просто удаляем из обработываемого датафрейма."
   ]
  },
  {
   "cell_type": "markdown",
   "metadata": {},
   "source": [
    "<div class=\"alert alert-block alert-success\">\n",
    " \n",
    "### Комментарий ревьюера\n",
    "    \n",
    "#### Успех\n",
    "    \n",
    "Верные предположения делаешь. Давай так и попробуем \n",
    "</div "
   ]
  },
  {
   "cell_type": "code",
   "execution_count": 9,
   "metadata": {},
   "outputs": [
    {
     "data": {
      "text/html": [
       "<div>\n",
       "<style scoped>\n",
       "    .dataframe tbody tr th:only-of-type {\n",
       "        vertical-align: middle;\n",
       "    }\n",
       "\n",
       "    .dataframe tbody tr th {\n",
       "        vertical-align: top;\n",
       "    }\n",
       "\n",
       "    .dataframe thead th {\n",
       "        text-align: right;\n",
       "    }\n",
       "</style>\n",
       "<table border=\"1\" class=\"dataframe\">\n",
       "  <thead>\n",
       "    <tr style=\"text-align: right;\">\n",
       "      <th></th>\n",
       "      <th>total_images</th>\n",
       "      <th>last_price</th>\n",
       "      <th>total_area</th>\n",
       "      <th>first_day_exposition</th>\n",
       "      <th>rooms</th>\n",
       "      <th>ceiling_height</th>\n",
       "      <th>floors_total</th>\n",
       "      <th>living_area</th>\n",
       "      <th>floor</th>\n",
       "      <th>is_apartment</th>\n",
       "      <th>...</th>\n",
       "      <th>kitchen_area</th>\n",
       "      <th>balcony</th>\n",
       "      <th>locality_name</th>\n",
       "      <th>airports_nearest</th>\n",
       "      <th>cityCenters_nearest</th>\n",
       "      <th>parks_around3000</th>\n",
       "      <th>parks_nearest</th>\n",
       "      <th>ponds_around3000</th>\n",
       "      <th>ponds_nearest</th>\n",
       "      <th>days_exposition</th>\n",
       "    </tr>\n",
       "  </thead>\n",
       "  <tbody>\n",
       "  </tbody>\n",
       "</table>\n",
       "<p>0 rows × 22 columns</p>\n",
       "</div>"
      ],
      "text/plain": [
       "Empty DataFrame\n",
       "Columns: [total_images, last_price, total_area, first_day_exposition, rooms, ceiling_height, floors_total, living_area, floor, is_apartment, studio, open_plan, kitchen_area, balcony, locality_name, airports_nearest, cityCenters_nearest, parks_around3000, parks_nearest, ponds_around3000, ponds_nearest, days_exposition]\n",
       "Index: []\n",
       "\n",
       "[0 rows x 22 columns]"
      ]
     },
     "metadata": {},
     "output_type": "display_data"
    }
   ],
   "source": [
    "df_prepr = df\n",
    "\n",
    "df_prepr.loc[(df_prepr['ceiling_height']>=22.6)&(df_prepr['ceiling_height']<=32), 'ceiling_height'] /= 10\n",
    "\n",
    "df_prepr = df_prepr.loc[((df_prepr['ceiling_height']>=2.1)&(df_prepr['ceiling_height']<=5))|(df_prepr['ceiling_height'].isna())]\n",
    "\n",
    "display(df_prepr.loc[(df_prepr['ceiling_height']<2.1)&(df_prepr['ceiling_height']>5)]) #проверка на выходящие за рамки значения"
   ]
  },
  {
   "cell_type": "markdown",
   "metadata": {},
   "source": [
    "Заполняем пропуски медианой."
   ]
  },
  {
   "cell_type": "code",
   "execution_count": 10,
   "metadata": {},
   "outputs": [
    {
     "name": "stdout",
     "output_type": "stream",
     "text": [
      "<class 'pandas.core.frame.DataFrame'>\n",
      "Int64Index: 23670 entries, 0 to 23698\n",
      "Data columns (total 22 columns):\n",
      " #   Column                Non-Null Count  Dtype  \n",
      "---  ------                --------------  -----  \n",
      " 0   total_images          23670 non-null  int64  \n",
      " 1   last_price            23670 non-null  float64\n",
      " 2   total_area            23670 non-null  float64\n",
      " 3   first_day_exposition  23670 non-null  object \n",
      " 4   rooms                 23670 non-null  int64  \n",
      " 5   ceiling_height        23670 non-null  float64\n",
      " 6   floors_total          23584 non-null  float64\n",
      " 7   living_area           21771 non-null  float64\n",
      " 8   floor                 23670 non-null  int64  \n",
      " 9   is_apartment          2772 non-null   object \n",
      " 10  studio                23670 non-null  bool   \n",
      " 11  open_plan             23670 non-null  bool   \n",
      " 12  kitchen_area          21399 non-null  float64\n",
      " 13  balcony               12166 non-null  float64\n",
      " 14  locality_name         23621 non-null  object \n",
      " 15  airports_nearest      18138 non-null  float64\n",
      " 16  cityCenters_nearest   18161 non-null  float64\n",
      " 17  parks_around3000      18162 non-null  float64\n",
      " 18  parks_nearest         8066 non-null   float64\n",
      " 19  ponds_around3000      18162 non-null  float64\n",
      " 20  ponds_nearest         9097 non-null   float64\n",
      " 21  days_exposition       20495 non-null  float64\n",
      "dtypes: bool(2), float64(14), int64(3), object(3)\n",
      "memory usage: 3.8+ MB\n"
     ]
    }
   ],
   "source": [
    "pd.options.mode.chained_assignment = None # убираю предупреждение, чтобы не напрягало\n",
    "df_prepr['ceiling_height'] = df_prepr['ceiling_height'].fillna(df_prepr['ceiling_height'].median())\n",
    "df_prepr.info() #проверка на пропуски"
   ]
  },
  {
   "cell_type": "markdown",
   "metadata": {},
   "source": [
    "2.2.4. Заполняем пропущенные значения living_area, kitchen_area, отчистив данные от выбросов и получая более точную медиану"
   ]
  },
  {
   "cell_type": "markdown",
   "metadata": {},
   "source": [
    "Напомним, что в самом начале данные в столбце жилой площади показались нам странными, ведь некоторые составляли менее 6м2. Рассмотрим поближе."
   ]
  },
  {
   "cell_type": "code",
   "execution_count": 11,
   "metadata": {
    "scrolled": true
   },
   "outputs": [
    {
     "data": {
      "text/html": [
       "<div>\n",
       "<style scoped>\n",
       "    .dataframe tbody tr th:only-of-type {\n",
       "        vertical-align: middle;\n",
       "    }\n",
       "\n",
       "    .dataframe tbody tr th {\n",
       "        vertical-align: top;\n",
       "    }\n",
       "\n",
       "    .dataframe thead th {\n",
       "        text-align: right;\n",
       "    }\n",
       "</style>\n",
       "<table border=\"1\" class=\"dataframe\">\n",
       "  <thead>\n",
       "    <tr style=\"text-align: right;\">\n",
       "      <th></th>\n",
       "      <th>total_area</th>\n",
       "      <th>living_area</th>\n",
       "      <th>kitchen_area</th>\n",
       "      <th>rooms</th>\n",
       "    </tr>\n",
       "  </thead>\n",
       "  <tbody>\n",
       "    <tr>\n",
       "      <th>19251</th>\n",
       "      <td>33.00</td>\n",
       "      <td>6.50</td>\n",
       "      <td>18.00</td>\n",
       "      <td>1</td>\n",
       "    </tr>\n",
       "    <tr>\n",
       "      <th>16431</th>\n",
       "      <td>31.00</td>\n",
       "      <td>6.00</td>\n",
       "      <td>17.00</td>\n",
       "      <td>1</td>\n",
       "    </tr>\n",
       "    <tr>\n",
       "      <th>21943</th>\n",
       "      <td>77.60</td>\n",
       "      <td>5.40</td>\n",
       "      <td>9.80</td>\n",
       "      <td>4</td>\n",
       "    </tr>\n",
       "    <tr>\n",
       "      <th>17582</th>\n",
       "      <td>22.00</td>\n",
       "      <td>5.00</td>\n",
       "      <td>NaN</td>\n",
       "      <td>0</td>\n",
       "    </tr>\n",
       "    <tr>\n",
       "      <th>3242</th>\n",
       "      <td>41.00</td>\n",
       "      <td>3.00</td>\n",
       "      <td>11.00</td>\n",
       "      <td>1</td>\n",
       "    </tr>\n",
       "    <tr>\n",
       "      <th>23574</th>\n",
       "      <td>139.00</td>\n",
       "      <td>3.00</td>\n",
       "      <td>16.00</td>\n",
       "      <td>3</td>\n",
       "    </tr>\n",
       "    <tr>\n",
       "      <th>13915</th>\n",
       "      <td>52.00</td>\n",
       "      <td>2.00</td>\n",
       "      <td>9.00</td>\n",
       "      <td>2</td>\n",
       "    </tr>\n",
       "    <tr>\n",
       "      <th>21758</th>\n",
       "      <td>23.00</td>\n",
       "      <td>2.00</td>\n",
       "      <td>NaN</td>\n",
       "      <td>0</td>\n",
       "    </tr>\n",
       "  </tbody>\n",
       "</table>\n",
       "</div>"
      ],
      "text/plain": [
       "       total_area  living_area  kitchen_area  rooms\n",
       "19251       33.00         6.50         18.00      1\n",
       "16431       31.00         6.00         17.00      1\n",
       "21943       77.60         5.40          9.80      4\n",
       "17582       22.00         5.00           NaN      0\n",
       "3242        41.00         3.00         11.00      1\n",
       "23574      139.00         3.00         16.00      3\n",
       "13915       52.00         2.00          9.00      2\n",
       "21758       23.00         2.00           NaN      0"
      ]
     },
     "execution_count": 11,
     "metadata": {},
     "output_type": "execute_result"
    }
   ],
   "source": [
    "df_prepr[['total_area', 'living_area', 'kitchen_area', 'rooms']].loc[df_prepr['living_area']<=7].sort_values(by='living_area', ascending=False)"
   ]
  },
  {
   "cell_type": "markdown",
   "metadata": {},
   "source": [
    "В строке с индексом 21 943 находится 4хкомнатная квартира с жилой площадью в 5м2 и кухней 9,8м2 при этом общая площадь составляет все 76м2. Довольно странно. Вариантов может быть несколько:\n",
    "\n",
    "1. Пользователь ошибся или опечатался и забыл поставить 0 в конце обозначения жилой площади, а, может, указал в десятках;\n",
    "\n",
    "2. Перепутал местами значения жилой площади и кухни. Это звучит более правдоподобно, но на практике метраж кухонь тоже слишком мал, чтобы подойти. В той же строчке 21 943 площади 54м2+9,8м2 не даст 77,6м2 общей площади.\n",
    "\n",
    "Очень странные данные. Решить попроще не представляется возможность, но удалять данные не хочется. Кажется, что это опечатки. Там, где это возможно, поставим дополнительный ноль за пользователя. Там, где невозможно, оставим как есть и откусим этот кусочек от исследуемых данных."
   ]
  },
  {
   "cell_type": "markdown",
   "metadata": {},
   "source": [
    "<div class=\"alert alert-block alert-success\">\n",
    " \n",
    "### Комментарий ревьюера\n",
    "    \n",
    "#### Успех\n",
    "    \n",
    "Чем мне нравится твой проект, так это пристальным и подробным изучением данных. Это очень хорошее качество для аналитика. \n",
    "</div "
   ]
  },
  {
   "cell_type": "code",
   "execution_count": 12,
   "metadata": {},
   "outputs": [
    {
     "data": {
      "text/plain": [
       "0"
      ]
     },
     "execution_count": 12,
     "metadata": {},
     "output_type": "execute_result"
    }
   ],
   "source": [
    "def min_liv_a (row):\n",
    "    if (row['living_area'] <= 7 and\n",
    "        row['living_area']*10 <= row['total_area']):\n",
    "        row['living_area'] *= 10\n",
    "        return row\n",
    "    else:\n",
    "        return row\n",
    "        \n",
    "df_prepr = df_prepr.apply(min_liv_a, axis=1)\n",
    "df_prepr = df_prepr.loc[df_prepr['living_area']>=7]\n",
    "len(df_prepr[['total_area', 'living_area', 'kitchen_area', 'rooms']].loc[df_prepr['living_area']<=7].sort_values(by='living_area', ascending=False))"
   ]
  },
  {
   "cell_type": "markdown",
   "metadata": {},
   "source": [
    "Очевидно, жилая площадь зависит от общей площади. Изначально хотелось категоризировать по взаимосвязи с количеством комнат, но некоторые комнаты крайне маленькие, а какие-то безумно большие. Данные получались слишком грязными и где-то могла не биться математика, поэтому было решено переделать в зависимости от общей площади. Категоризируем данные по общей площади, посчитаем медианы и заполним пропущенные значения."
   ]
  },
  {
   "cell_type": "code",
   "execution_count": 13,
   "metadata": {},
   "outputs": [
    {
     "name": "stdout",
     "output_type": "stream",
     "text": [
      "count   21768.00\n",
      "mean       60.07\n",
      "std        34.63\n",
      "min        12.00\n",
      "25%        40.00\n",
      "50%        52.00\n",
      "75%        69.60\n",
      "max       900.00\n",
      "Name: total_area, dtype: float64\n"
     ]
    },
    {
     "data": {
      "text/plain": [
       "<AxesSubplot:>"
      ]
     },
     "execution_count": 13,
     "metadata": {},
     "output_type": "execute_result"
    },
    {
     "data": {
      "image/png": "[encoded data removed]",
      "text/plain": [
       "<Figure size 432x288 with 1 Axes>"
      ]
     },
     "metadata": {
      "needs_background": "light"
     },
     "output_type": "display_data"
    }
   ],
   "source": [
    "print(df_prepr['total_area'].describe())\n",
    "plt.ylim(2, 150)\n",
    "df_prepr.boxplot( column= 'total_area')"
   ]
  },
  {
   "cell_type": "code",
   "execution_count": 14,
   "metadata": {},
   "outputs": [
    {
     "data": {
      "text/html": [
       "<div>\n",
       "<style scoped>\n",
       "    .dataframe tbody tr th:only-of-type {\n",
       "        vertical-align: middle;\n",
       "    }\n",
       "\n",
       "    .dataframe tbody tr th {\n",
       "        vertical-align: top;\n",
       "    }\n",
       "\n",
       "    .dataframe thead th {\n",
       "        text-align: right;\n",
       "    }\n",
       "</style>\n",
       "<table border=\"1\" class=\"dataframe\">\n",
       "  <thead>\n",
       "    <tr style=\"text-align: right;\">\n",
       "      <th></th>\n",
       "      <th>total_area</th>\n",
       "      <th>living_area</th>\n",
       "      <th>kitchen_area</th>\n",
       "      <th>rooms</th>\n",
       "    </tr>\n",
       "  </thead>\n",
       "  <tbody>\n",
       "    <tr>\n",
       "      <th>19540</th>\n",
       "      <td>900.00</td>\n",
       "      <td>409.70</td>\n",
       "      <td>112.00</td>\n",
       "      <td>12</td>\n",
       "    </tr>\n",
       "  </tbody>\n",
       "</table>\n",
       "</div>"
      ],
      "text/plain": [
       "       total_area  living_area  kitchen_area  rooms\n",
       "19540      900.00       409.70        112.00     12"
      ]
     },
     "execution_count": 14,
     "metadata": {},
     "output_type": "execute_result"
    }
   ],
   "source": [
    "df[['total_area','living_area', 'kitchen_area', 'rooms']].loc[df['total_area'] == 900]"
   ]
  },
  {
   "cell_type": "markdown",
   "metadata": {},
   "source": [
    "Проверила самый странный выброс, но он выглядит просто очень богато, целых 12 комнат."
   ]
  },
  {
   "cell_type": "code",
   "execution_count": 15,
   "metadata": {},
   "outputs": [
    {
     "name": "stdout",
     "output_type": "stream",
     "text": [
      "<class 'pandas.core.frame.DataFrame'>\n",
      "Int64Index: 21768 entries, 0 to 23698\n",
      "Data columns (total 23 columns):\n",
      " #   Column                Non-Null Count  Dtype  \n",
      "---  ------                --------------  -----  \n",
      " 0   total_images          21768 non-null  int64  \n",
      " 1   last_price            21768 non-null  float64\n",
      " 2   total_area            21768 non-null  float64\n",
      " 3   first_day_exposition  21768 non-null  object \n",
      " 4   rooms                 21768 non-null  int64  \n",
      " 5   ceiling_height        21768 non-null  float64\n",
      " 6   floors_total          21715 non-null  float64\n",
      " 7   living_area           21768 non-null  float64\n",
      " 8   floor                 21768 non-null  int64  \n",
      " 9   is_apartment          2652 non-null   object \n",
      " 10  studio                21768 non-null  bool   \n",
      " 11  open_plan             21768 non-null  bool   \n",
      " 12  kitchen_area          20958 non-null  float64\n",
      " 13  balcony               11668 non-null  float64\n",
      " 14  locality_name         21724 non-null  object \n",
      " 15  airports_nearest      16859 non-null  float64\n",
      " 16  cityCenters_nearest   16880 non-null  float64\n",
      " 17  parks_around3000      16881 non-null  float64\n",
      " 18  parks_nearest         7488 non-null   float64\n",
      " 19  ponds_around3000      16881 non-null  float64\n",
      " 20  ponds_nearest         8403 non-null   float64\n",
      " 21  days_exposition       18791 non-null  float64\n",
      " 22  categorize_area       21768 non-null  object \n",
      "dtypes: bool(2), float64(14), int64(3), object(4)\n",
      "memory usage: 3.7+ MB\n"
     ]
    }
   ],
   "source": [
    "def categorize_area(area):\n",
    "    try:\n",
    "        if 0 <= area <= 15:\n",
    "            return 'F'\n",
    "        elif area <= 40:\n",
    "            return 'E'\n",
    "        elif area <= 52:\n",
    "            return 'D'\n",
    "        elif area <= 69:\n",
    "            return 'C'\n",
    "        elif area <= 118:\n",
    "            return 'B'\n",
    "        elif area <= 900:\n",
    "            return 'A'\n",
    "    except:\n",
    "        pass\n",
    "    \n",
    "df_prepr['categorize_area'] = df_prepr['total_area'].apply(categorize_area)\n",
    "\n",
    "group_df = df_prepr.groupby(['categorize_area'])\n",
    "\n",
    "df_prepr['living_area']= group_df['living_area'].apply(lambda x: x.fillna(x.median()))\n",
    "\n",
    "df_prepr.info() #проверка на пропуски"
   ]
  },
  {
   "cell_type": "markdown",
   "metadata": {},
   "source": [
    "<div class=\"alert alert-block alert-success\">\n",
    " \n",
    "### Комментарий ревьюера\n",
    "    \n",
    "#### Успех\n",
    "    \n",
    "Достаточно простой и работоспособный метод категоризации. \n",
    "</div "
   ]
  },
  {
   "cell_type": "markdown",
   "metadata": {},
   "source": [
    "Подсчитаем математику площадей кухонь."
   ]
  },
  {
   "cell_type": "code",
   "execution_count": 16,
   "metadata": {},
   "outputs": [
    {
     "name": "stdout",
     "output_type": "stream",
     "text": [
      "<class 'pandas.core.frame.DataFrame'>\n",
      "Int64Index: 21768 entries, 0 to 23698\n",
      "Data columns (total 23 columns):\n",
      " #   Column                Non-Null Count  Dtype  \n",
      "---  ------                --------------  -----  \n",
      " 0   total_images          21768 non-null  int64  \n",
      " 1   last_price            21768 non-null  float64\n",
      " 2   total_area            21768 non-null  float64\n",
      " 3   first_day_exposition  21768 non-null  object \n",
      " 4   rooms                 21768 non-null  int64  \n",
      " 5   ceiling_height        21768 non-null  float64\n",
      " 6   floors_total          21715 non-null  float64\n",
      " 7   living_area           21768 non-null  float64\n",
      " 8   floor                 21768 non-null  int64  \n",
      " 9   is_apartment          2652 non-null   object \n",
      " 10  studio                21768 non-null  bool   \n",
      " 11  open_plan             21768 non-null  bool   \n",
      " 12  kitchen_area          21768 non-null  float64\n",
      " 13  balcony               11668 non-null  float64\n",
      " 14  locality_name         21724 non-null  object \n",
      " 15  airports_nearest      16859 non-null  float64\n",
      " 16  cityCenters_nearest   16880 non-null  float64\n",
      " 17  parks_around3000      16881 non-null  float64\n",
      " 18  parks_nearest         7488 non-null   float64\n",
      " 19  ponds_around3000      16881 non-null  float64\n",
      " 20  ponds_nearest         8403 non-null   float64\n",
      " 21  days_exposition       18791 non-null  float64\n",
      " 22  categorize_area       21768 non-null  object \n",
      "dtypes: bool(2), float64(14), int64(3), object(4)\n",
      "memory usage: 3.7+ MB\n"
     ]
    }
   ],
   "source": [
    "def calc (row):\n",
    "        if row['total_area'] == row['living_area']+row['kitchen_area']:\n",
    "            return row\n",
    "        elif row['total_area'] != row['living_area']+row['kitchen_area']:\n",
    "            row['kitchen_area'] = row['total_area']-row['living_area']\n",
    "            return row\n",
    "        else:\n",
    "            row['kitchen_area'] ='другой'\n",
    "            return row\n",
    "\n",
    "df_prepr = df_prepr.apply(calc, axis=1)\n",
    "df_prepr.info() #проверка на пропуски"
   ]
  },
  {
   "cell_type": "markdown",
   "metadata": {},
   "source": [
    "<div class=\"alert alert-block alert-success\">\n",
    " \n",
    "### Комментарий ревьюера\n",
    "    \n",
    "#### Успех\n",
    "    \n",
    "Автоматизация наше все \n",
    "</div "
   ]
  },
  {
   "cell_type": "code",
   "execution_count": 17,
   "metadata": {},
   "outputs": [
    {
     "data": {
      "text/plain": [
       "0"
      ]
     },
     "execution_count": 17,
     "metadata": {},
     "output_type": "execute_result"
    }
   ],
   "source": [
    "dg = df_prepr.loc[df_prepr['kitchen_area']<0]\n",
    "len(dg[['total_area','living_area', 'kitchen_area', 'rooms']]) #проверка математики и отрицательных значений"
   ]
  },
  {
   "cell_type": "markdown",
   "metadata": {},
   "source": [
    "2.2.5. Заполняем пропуски в balcony, parks_around3000, ponds_around3000 на 0, а в is_apartment ставим False. "
   ]
  },
  {
   "cell_type": "code",
   "execution_count": 18,
   "metadata": {},
   "outputs": [
    {
     "name": "stdout",
     "output_type": "stream",
     "text": [
      "<class 'pandas.core.frame.DataFrame'>\n",
      "Int64Index: 21768 entries, 0 to 23698\n",
      "Data columns (total 23 columns):\n",
      " #   Column                Non-Null Count  Dtype  \n",
      "---  ------                --------------  -----  \n",
      " 0   total_images          21768 non-null  int64  \n",
      " 1   last_price            21768 non-null  float64\n",
      " 2   total_area            21768 non-null  float64\n",
      " 3   first_day_exposition  21768 non-null  object \n",
      " 4   rooms                 21768 non-null  int64  \n",
      " 5   ceiling_height        21768 non-null  float64\n",
      " 6   floors_total          21715 non-null  float64\n",
      " 7   living_area           21768 non-null  float64\n",
      " 8   floor                 21768 non-null  int64  \n",
      " 9   is_apartment          21768 non-null  bool   \n",
      " 10  studio                21768 non-null  bool   \n",
      " 11  open_plan             21768 non-null  bool   \n",
      " 12  kitchen_area          21768 non-null  float64\n",
      " 13  balcony               21768 non-null  float64\n",
      " 14  locality_name         21724 non-null  object \n",
      " 15  airports_nearest      16859 non-null  float64\n",
      " 16  cityCenters_nearest   16880 non-null  float64\n",
      " 17  parks_around3000      21768 non-null  float64\n",
      " 18  parks_nearest         7488 non-null   float64\n",
      " 19  ponds_around3000      21768 non-null  float64\n",
      " 20  ponds_nearest         8403 non-null   float64\n",
      " 21  days_exposition       18791 non-null  float64\n",
      " 22  categorize_area       21768 non-null  object \n",
      "dtypes: bool(3), float64(14), int64(3), object(3)\n",
      "memory usage: 3.5+ MB\n"
     ]
    }
   ],
   "source": [
    "df_prepr['balcony'] = df_prepr['balcony'].fillna(0)\n",
    "df_prepr['parks_around3000'] = df_prepr['parks_around3000'].fillna(0)\n",
    "df_prepr['ponds_around3000'] = df_prepr['ponds_around3000'].fillna(0)\n",
    "df_prepr['is_apartment'] = df_prepr['is_apartment'].fillna(False)\n",
    "df_prepr.info() #проверка на пропуски"
   ]
  },
  {
   "cell_type": "markdown",
   "metadata": {},
   "source": [
    "<div class=\"alert alert-block alert-success\">\n",
    " \n",
    "### Комментарий ревьюера\n",
    "    \n",
    "#### Успех\n",
    "    \n",
    "Тут я тоже поддержу такую замену пропусков. \n",
    "</div "
   ]
  },
  {
   "cell_type": "markdown",
   "metadata": {},
   "source": [
    "2.2.6. Удаляем лишние возможно мошенические объявления с пропуском в \"locality_name\"."
   ]
  },
  {
   "cell_type": "code",
   "execution_count": 19,
   "metadata": {},
   "outputs": [
    {
     "name": "stdout",
     "output_type": "stream",
     "text": [
      "<class 'pandas.core.frame.DataFrame'>\n",
      "Int64Index: 21724 entries, 0 to 23698\n",
      "Data columns (total 23 columns):\n",
      " #   Column                Non-Null Count  Dtype  \n",
      "---  ------                --------------  -----  \n",
      " 0   total_images          21724 non-null  int64  \n",
      " 1   last_price            21724 non-null  float64\n",
      " 2   total_area            21724 non-null  float64\n",
      " 3   first_day_exposition  21724 non-null  object \n",
      " 4   rooms                 21724 non-null  int64  \n",
      " 5   ceiling_height        21724 non-null  float64\n",
      " 6   floors_total          21672 non-null  float64\n",
      " 7   living_area           21724 non-null  float64\n",
      " 8   floor                 21724 non-null  int64  \n",
      " 9   is_apartment          21724 non-null  bool   \n",
      " 10  studio                21724 non-null  bool   \n",
      " 11  open_plan             21724 non-null  bool   \n",
      " 12  kitchen_area          21724 non-null  float64\n",
      " 13  balcony               21724 non-null  float64\n",
      " 14  locality_name         21724 non-null  object \n",
      " 15  airports_nearest      16822 non-null  float64\n",
      " 16  cityCenters_nearest   16843 non-null  float64\n",
      " 17  parks_around3000      21724 non-null  float64\n",
      " 18  parks_nearest         7474 non-null   float64\n",
      " 19  ponds_around3000      21724 non-null  float64\n",
      " 20  ponds_nearest         8379 non-null   float64\n",
      " 21  days_exposition       18748 non-null  float64\n",
      " 22  categorize_area       21724 non-null  object \n",
      "dtypes: bool(3), float64(14), int64(3), object(3)\n",
      "memory usage: 3.5+ MB\n"
     ]
    }
   ],
   "source": [
    "df_prepr = df_prepr.dropna(subset=['locality_name'])\n",
    "df_prepr.info() #проверка"
   ]
  },
  {
   "cell_type": "markdown",
   "metadata": {},
   "source": [
    "2.2.7. Изучаем уникальные значения в столбце с названиями и устраняем неявные дубликаты."
   ]
  },
  {
   "cell_type": "code",
   "execution_count": 20,
   "metadata": {},
   "outputs": [
    {
     "data": {
      "text/plain": [
       "array(['Бокситогорск', 'Волосово', 'Волхов', 'Всеволожск', 'Выборг',\n",
       "       'Высоцк', 'Гатчина', 'Зеленогорск', 'Ивангород', 'Каменногорск',\n",
       "       'Кингисепп', 'Кириши', 'Кировск', 'Колпино', 'Коммунар',\n",
       "       'Кронштадт', 'Кудрово', 'Лодейное Поле', 'Ломоносов', 'Луга',\n",
       "       'Любань', 'Мурино', 'Никольское', 'Новая Ладога', 'Отрадное',\n",
       "       'Павловск', 'Петергоф', 'Пикалёво', 'Подпорожье', 'Приморск',\n",
       "       'Приозерск', 'Пушкин', 'Санкт-Петербург', 'Светогорск',\n",
       "       'Сертолово', 'Сестрорецк', 'Сланцы', 'Сосновый Бор', 'Сясьстрой',\n",
       "       'Тихвин', 'Тосно', 'Шлиссельбург', 'деревня Агалатово',\n",
       "       'деревня Аро', 'деревня Батово', 'деревня Бегуницы',\n",
       "       'деревня Белогорка', 'деревня Большая Вруда',\n",
       "       'деревня Большая Пустомержа', 'деревня Большие Колпаны',\n",
       "       'деревня Большое Рейзино', 'деревня Большой Сабск', 'деревня Бор',\n",
       "       'деревня Борисова Грива', 'деревня Ваганово', 'деревня Вартемяги',\n",
       "       'деревня Выскатка', 'деревня Гарболово', 'деревня Глинка',\n",
       "       'деревня Горбунки', 'деревня Гостилицы', 'деревня Заклинье',\n",
       "       'деревня Заневка', 'деревня Зимитицы', 'деревня Извара',\n",
       "       'деревня Калитино', 'деревня Кальтино', 'деревня Камышовка',\n",
       "       'деревня Каськово', 'деревня Келози', 'деревня Кипень',\n",
       "       'деревня Кисельня', 'деревня Колтуши', 'деревня Коркино',\n",
       "       'деревня Котлы', 'деревня Кривко', 'деревня Кудрово',\n",
       "       'деревня Кузьмолово', 'деревня Курковицы', 'деревня Куровицы',\n",
       "       'деревня Куттузи', 'деревня Лаголово', 'деревня Лампово',\n",
       "       'деревня Лесколово', 'деревня Лопухинка', 'деревня Лупполово',\n",
       "       'деревня Малая Романовка', 'деревня Малое Верево',\n",
       "       'деревня Малое Карлино', 'деревня Малые Колпаны',\n",
       "       'деревня Мануйлово', 'деревня Меньково', 'деревня Мины',\n",
       "       'деревня Мистолово', 'деревня Ненимяки', 'деревня Нижние Осельки',\n",
       "       'деревня Нижняя', 'деревня Низино', 'деревня Новое Девяткино',\n",
       "       'деревня Новолисино', 'деревня Нурма', 'деревня Оржицы',\n",
       "       'деревня Парицы', 'деревня Пельгора', 'деревня Пеники',\n",
       "       'деревня Пижма', 'деревня Пикколово', 'деревня Пудомяги',\n",
       "       'деревня Пустынка', 'деревня Рабитицы', 'деревня Разбегаево',\n",
       "       'деревня Разметелево', 'деревня Рапполово', 'деревня Реброво',\n",
       "       'деревня Сижно', 'деревня Снегирёвка', 'деревня Старая',\n",
       "       'деревня Старая Пустошь', 'деревня Старое Хинколово',\n",
       "       'деревня Старополье', 'деревня Старосиверская',\n",
       "       'деревня Старые Бегуницы', 'деревня Суоранда',\n",
       "       'деревня Сяськелево', 'деревня Терпилицы', 'деревня Тихковицы',\n",
       "       'деревня Тойворово', 'деревня Торосово', 'деревня Торошковичи',\n",
       "       'деревня Трубников Бор', 'деревня Фалилеево',\n",
       "       'деревня Фёдоровское', 'деревня Хапо-Ое', 'деревня Чудской Бор',\n",
       "       'деревня Шпаньково', 'деревня Щеглово', 'деревня Юкки',\n",
       "       'деревня Ялгино', 'деревня Яльгелево', 'деревня Ям-Тесово',\n",
       "       'поселок Александровская', 'поселок Алексеевка', 'поселок Аннино',\n",
       "       'поселок Барышево', 'поселок Белоостров', 'поселок Большая Ижора',\n",
       "       'поселок Бугры', 'поселок Будогощь', 'поселок Важины',\n",
       "       'поселок Вещево', 'поселок Виллози', 'поселок Вознесенье',\n",
       "       'поселок Возрождение', 'поселок Войсковицы', 'поселок Войскорово',\n",
       "       'поселок Володарское', 'поселок Вырица', 'поселок Высокоключевой',\n",
       "       'поселок Гаврилово', 'поселок Гарболово', 'поселок Гладкое',\n",
       "       'поселок Глажево', 'поселок Глебычево', 'поселок Гончарово',\n",
       "       'поселок Громово', 'поселок Дзержинского', 'поселок Дружная Горка',\n",
       "       'поселок Дружноселье', 'поселок Дубровка', 'поселок Елизаветино',\n",
       "       'поселок Ефимовский', 'поселок Жилгородок', 'поселок Жилпосёлок',\n",
       "       'поселок Житково', 'поселок Заводской', 'поселок Запорожское',\n",
       "       'поселок Зимитицы', 'поселок Ильичёво', 'поселок Калитино',\n",
       "       'поселок Каложицы', 'поселок Кивеннапа Север', 'поселок Кикерино',\n",
       "       'поселок Кингисеппский', 'поселок Кирпичное', 'поселок Кобралово',\n",
       "       'поселок Кобринское', 'поселок Коммунары', 'поселок Кондратьево',\n",
       "       'поселок Корнево', 'поселок Коробицыно', 'поселок Котельский',\n",
       "       'поселок Красная Долина', 'поселок Красный Бор',\n",
       "       'поселок Кузнечное', 'поселок Кузьмоловский', 'поселок Лебяжье',\n",
       "       'поселок Ленинское', 'поселок Лесное', 'поселок Лесогорский',\n",
       "       'поселок Лисий Нос', 'поселок Лукаши', 'поселок Любань',\n",
       "       'поселок Мга', 'поселок Мельниково', 'поселок Металлострой',\n",
       "       'поселок Мичуринское', 'поселок Молодцово', 'поселок Молодёжное',\n",
       "       'поселок Мурино', 'поселок Мыза-Ивановка', 'поселок Назия',\n",
       "       'поселок Никольский', 'поселок Новогорелово', 'поселок Новоселье',\n",
       "       'поселок Новый Свет', 'поселок Новый Учхоз', 'поселок Оредеж',\n",
       "       'поселок Павлово', 'поселок Пансионат Зелёный Бор',\n",
       "       'поселок Парголово', 'поселок Первомайское', 'поселок Перово',\n",
       "       'поселок Песочный', 'поселок Петровское',\n",
       "       'поселок Платформа 69-й километр', 'поселок Плодовое',\n",
       "       'поселок Победа', 'поселок Поляны', 'поселок Понтонный',\n",
       "       'поселок Почап', 'поселок Починок', 'поселок Приветнинское',\n",
       "       'поселок Пригородный', 'поселок Приладожский', 'поселок Пудость',\n",
       "       'поселок Пушное', 'поселок Рабитицы', 'поселок Рахья',\n",
       "       'поселок Репино', 'поселок Романовка', 'поселок Ромашки',\n",
       "       'поселок Ропша', 'поселок Рощино', 'поселок Рябово',\n",
       "       'поселок Сапёрное', 'поселок Сапёрный', 'поселок Свирь',\n",
       "       'поселок Селезнёво', 'поселок Сельцо', 'поселок Семиозерье',\n",
       "       'поселок Семрино', 'поселок Серебрянский', 'поселок Сиверский',\n",
       "       'поселок Синявино', 'поселок Советский', 'поселок Совхозный',\n",
       "       'поселок Сосново', 'поселок Старая Малукса', 'поселок Стеклянный',\n",
       "       'поселок Стрельна', 'поселок Суйда', 'поселок Сумино',\n",
       "       'поселок Суходолье', 'поселок Счастье', 'поселок Тайцы',\n",
       "       'поселок Тельмана', 'поселок Терволово', 'поселок Токсово',\n",
       "       'поселок Торковичи', 'поселок Торфяное', 'поселок Тёсово-4',\n",
       "       'поселок Углово', 'поселок Ульяновка', 'поселок Усть-Ижора',\n",
       "       'поселок Усть-Луга', 'поселок Ушаки', 'поселок Форносово',\n",
       "       'поселок Форт Красная Горка', 'поселок Фёдоровское',\n",
       "       'поселок Цвелодубово', 'поселок Цвылёво', 'поселок Шугозеро',\n",
       "       'поселок Шушары', 'поселок Щеглово', 'поселок Янино-1',\n",
       "       'поселок имени Морозова', 'поселок имени Свердлова',\n",
       "       'садовое товарищество Лесная Поляна',\n",
       "       'садовое товарищество Новая Ропша',\n",
       "       'садовое товарищество Приладожский', 'садовое товарищество Рахья',\n",
       "       'садовое товарищество Садко', 'село Копорье', 'село Красное',\n",
       "       'село Никольское', 'село Павлово', 'село Паша', 'село Путилово',\n",
       "       'село Рождествено', 'село Русско-Высоцкое', 'село Старая Ладога',\n",
       "       'село Шум'], dtype=object)"
      ]
     },
     "execution_count": 20,
     "metadata": {},
     "output_type": "execute_result"
    }
   ],
   "source": [
    "def replace_implicit_duplicates_in_locality_name(df, to_replace: list, value: str):\n",
    "    to_replace = reversed(sorted(to_replace, key=len))\n",
    "    to_replace = \"|\".join(to_replace)\n",
    "    df['locality_name'] = df['locality_name'].replace(to_replace=to_replace, value=value, regex=True)\n",
    "    return df\n",
    "\n",
    "poselok = ['^городской пос[её]лок', '^коттеджный пос[её]лок', '^пос[её]лок', '^пос[её]лок при железнодорожной станции', '^пос[её]лок городского типа', 'пос[её]лок станции']\n",
    "sad_tov = ['^садоводческое некоммерческое товарищество', '^садовое товарищество', '^садоводческое некоммерческое товарищество']\n",
    "selo    = ['^село', 'Село$']\n",
    "\n",
    "df_prepr = replace_implicit_duplicates_in_locality_name(df_prepr, poselok, \"поселок\")\n",
    "df_prepr = replace_implicit_duplicates_in_locality_name(df_prepr, sad_tov, \"садовое товарищество\")\n",
    "df_prepr = replace_implicit_duplicates_in_locality_name(df_prepr, selo, \"село\")\n",
    "\n",
    "df_prepr.loc[df_prepr['locality_name'] == \"Красное село\", 'locality_name'] = \"село Красное\" # частный случай\n",
    "\n",
    "#df_prepr.loc[~df_prepr['locality_name'].str.startswith('поселок')&\n",
    "#             ~df_prepr['locality_name'].str.startswith('садовое товарищество')&\n",
    "#             ~df_prepr['locality_name'].str.startswith('деревня')&\n",
    "#             ~df_prepr['locality_name'].str.startswith('село')\n",
    "#        , 'locality_name'].unique() # проверка необработанных названий\n",
    "\n",
    "df_prepr['locality_name'].sort_values().unique() # проверка"
   ]
  },
  {
   "cell_type": "markdown",
   "metadata": {},
   "source": [
    "<div class=\"alert alert-block alert-success\">\n",
    " \n",
    "### Комментарий ревьюера\n",
    "    \n",
    "#### Успех\n",
    "    \n",
    "И вновь хороший метод проработки данных. В целом, тут можно было даже чуть проще сделать, и заменть занчения на одно слово посёлок через цикл for. \n",
    "</div "
   ]
  },
  {
   "cell_type": "markdown",
   "metadata": {},
   "source": [
    "2.2.8. Изменяем тип данных в столбце \"first_day_exposition\" на время, чтобы могли использовать этот столбик для расчетов. Столбец \"is_apartment\" сам переконвертировался в булевы значения в процессе обработки. В самом начале он был object."
   ]
  },
  {
   "cell_type": "code",
   "execution_count": 21,
   "metadata": {},
   "outputs": [
    {
     "name": "stdout",
     "output_type": "stream",
     "text": [
      "<class 'pandas.core.frame.DataFrame'>\n",
      "Int64Index: 21724 entries, 0 to 23698\n",
      "Data columns (total 23 columns):\n",
      " #   Column                Non-Null Count  Dtype         \n",
      "---  ------                --------------  -----         \n",
      " 0   total_images          21724 non-null  int64         \n",
      " 1   last_price            21724 non-null  float64       \n",
      " 2   total_area            21724 non-null  float64       \n",
      " 3   first_day_exposition  21724 non-null  datetime64[ns]\n",
      " 4   rooms                 21724 non-null  int64         \n",
      " 5   ceiling_height        21724 non-null  float64       \n",
      " 6   floors_total          21672 non-null  float64       \n",
      " 7   living_area           21724 non-null  float64       \n",
      " 8   floor                 21724 non-null  int64         \n",
      " 9   is_apartment          21724 non-null  bool          \n",
      " 10  studio                21724 non-null  bool          \n",
      " 11  open_plan             21724 non-null  bool          \n",
      " 12  kitchen_area          21724 non-null  float64       \n",
      " 13  balcony               21724 non-null  float64       \n",
      " 14  locality_name         21724 non-null  object        \n",
      " 15  airports_nearest      16822 non-null  float64       \n",
      " 16  cityCenters_nearest   16843 non-null  float64       \n",
      " 17  parks_around3000      21724 non-null  float64       \n",
      " 18  parks_nearest         7474 non-null   float64       \n",
      " 19  ponds_around3000      21724 non-null  float64       \n",
      " 20  ponds_nearest         8379 non-null   float64       \n",
      " 21  days_exposition       18748 non-null  float64       \n",
      " 22  categorize_area       21724 non-null  object        \n",
      "dtypes: bool(3), datetime64[ns](1), float64(14), int64(3), object(2)\n",
      "memory usage: 3.5+ MB\n"
     ]
    }
   ],
   "source": [
    "df_prepr['first_day_exposition'] = pd.to_datetime(df_prepr['first_day_exposition'], format='%Y.%m.%dT%H:%M:%S')\n",
    "df_prepr.info() #проверка"
   ]
  },
  {
   "cell_type": "markdown",
   "metadata": {},
   "source": [
    "<div class=\"alert alert-block alert-success\">\n",
    " \n",
    "### Комментарий ревьюера\n",
    "    \n",
    "#### Успех\n",
    "    \n",
    "Верно переводишь столбец в формат даты. \n",
    "</div "
   ]
  },
  {
   "cell_type": "markdown",
   "metadata": {},
   "source": [
    "Теперь данные дозаполнены и почищены от выбросов или подозрительных значений. Можно идти дальше. В ходе процесса пришлось удалить 1 975 строки (а очень хотелось больше, очень уж непонятны некоторые объявления и задать уточняющие вопросы по выгрузке некому), это 8,3% от начального массива данных. Кажется допустимым. Такие измения не должны сильно повлиять на результат, если было урезано лишнее."
   ]
  },
  {
   "cell_type": "markdown",
   "metadata": {},
   "source": [
    "Довольно поздно (на 4м шаге) было замечено странное название колонки cityCenters_nearest, но лучше исправить его позже, чем никогда. До 4го шага этот столбец не использовался, поэтому нельзя сказать, что это критично. Чтобы быть порядочными, все же \n",
    "исправим на змеиный регистр."
   ]
  },
  {
   "cell_type": "code",
   "execution_count": 22,
   "metadata": {},
   "outputs": [],
   "source": [
    "df_prepr = df_prepr.rename (columns= {'cityCenters_nearest': 'city_centers_nearest'})"
   ]
  },
  {
   "cell_type": "markdown",
   "metadata": {},
   "source": [
    "### Посчитайте и добавьте в таблицу новые столбцы"
   ]
  },
  {
   "cell_type": "markdown",
   "metadata": {},
   "source": [
    "Добавляем в таблицу новые столбцы со следующими параметрами:\n",
    "\n",
    "3.1. цена одного квадратного метра;\n",
    "\n",
    "3.2. день недели публикации объявления (0 — понедельник, 1 — вторник и так далее);\n",
    "\n",
    "3.3. месяц публикации объявления;\n",
    "\n",
    "3.4. год публикации объявления;\n",
    "\n",
    "3.5. тип этажа квартиры (значения — «первый», «последний», «другой»);\n",
    "\n",
    "3.6. расстояние до центра города в километрах.\n"
   ]
  },
  {
   "cell_type": "code",
   "execution_count": 23,
   "metadata": {},
   "outputs": [],
   "source": [
    "df_add = df_prepr\n",
    "\n",
    "#                                     3.1.\n",
    "df_add['price'] = df_add['last_price']/(df_add['kitchen_area']+df_add['living_area'])\n",
    "df_add['price'] = df_add['price'].round()\n",
    "\n",
    "#                                     3.2.\n",
    "df_add['weekday'] = df_add['first_day_exposition'].dt.dayofweek\n",
    "\n",
    "#                                     3.3.\n",
    "df_add['month'] = df_add['first_day_exposition'].dt.month\n",
    "\n",
    "#                                     3.4.\n",
    "df_add['year'] = df_add['first_day_exposition'].dt.year\n",
    "\n",
    "#                                     3.5.\n",
    "def categor_floor(row):\n",
    "    try:\n",
    "        if row['floor'] == 1:\n",
    "            return 'первый' # первый этаж и в Африке первый, поэтому его проверяем первым, даже если нет значения \"всего этажей\"\n",
    "        elif row['floors_total'] == np.nan: # заполнять эти пропуски медианой было не очень умно, поэтому их малая часть осталась.\n",
    "            return np.nan                   # не будем никого обманывать и оставим там нан\n",
    "        elif row['floor'] == row['floors_total']:\n",
    "            return 'последний'\n",
    "        else:\n",
    "            return 'другой'\n",
    "    except:\n",
    "        return 'нет категории'\n",
    "    \n",
    "df_add['categor_floor'] = df_add.apply(categor_floor, axis=1)\n",
    "\n",
    "\n",
    "#                                     3.6.\n",
    "\n",
    "def distance_center(row):\n",
    "    try:\n",
    "        if row['city_centers_nearest'] == np.nan: # заполнять эти пропуски медианой было не очень умно, поэтому их малая часть осталась.\n",
    "            return np.nan                        # не будем никого обманывать и оставим там нан\n",
    "        else:\n",
    "            return row['city_centers_nearest']/1000\n",
    "    except:\n",
    "        return np.nan\n",
    "\n",
    "\n",
    "df_add['distance_center_in_km'] = df_add.apply(distance_center, axis=1)"
   ]
  },
  {
   "cell_type": "markdown",
   "metadata": {},
   "source": [
    "<div class=\"alert alert-block alert-success\">\n",
    " \n",
    "### Комментарий ревьюера\n",
    "    \n",
    "#### Успех\n",
    "    \n",
    "Лихо ты проработала все в одной ячейке кода. На будущее, советую так много разного кода выводить в нескольких ячейках. Это для того, чтобы если ты поймала ошибку, то тебе проще было ее найти. \n",
    "</div "
   ]
  },
  {
   "cell_type": "code",
   "execution_count": 24,
   "metadata": {
    "scrolled": false
   },
   "outputs": [
    {
     "data": {
      "text/plain": [
       "182"
      ]
     },
     "execution_count": 24,
     "metadata": {},
     "output_type": "execute_result"
    }
   ],
   "source": [
    "len(df_add.loc[(df_add['price']>275000)|(df_add['price']<5000)])"
   ]
  },
  {
   "cell_type": "code",
   "execution_count": 25,
   "metadata": {},
   "outputs": [],
   "source": [
    "df_add = df_add.loc[(df_add['price']<=275000)&(df_add['price']>5000)]"
   ]
  },
  {
   "cell_type": "markdown",
   "metadata": {},
   "source": [
    "Позже будет выяснено, что выбросы цены довольно сильно влияют на корреляцию, показывая менее корректные цифры, поэтому все-таки отрежем подозрительные строки, например 2 млн рублей или 100 рублей за м2."
   ]
  },
  {
   "cell_type": "code",
   "execution_count": 26,
   "metadata": {},
   "outputs": [
    {
     "data": {
      "text/html": [
       "<div>\n",
       "<style scoped>\n",
       "    .dataframe tbody tr th:only-of-type {\n",
       "        vertical-align: middle;\n",
       "    }\n",
       "\n",
       "    .dataframe tbody tr th {\n",
       "        vertical-align: top;\n",
       "    }\n",
       "\n",
       "    .dataframe thead th {\n",
       "        text-align: right;\n",
       "    }\n",
       "</style>\n",
       "<table border=\"1\" class=\"dataframe\">\n",
       "  <thead>\n",
       "    <tr style=\"text-align: right;\">\n",
       "      <th></th>\n",
       "      <th>total_images</th>\n",
       "      <th>last_price</th>\n",
       "      <th>total_area</th>\n",
       "      <th>first_day_exposition</th>\n",
       "      <th>rooms</th>\n",
       "      <th>ceiling_height</th>\n",
       "      <th>floors_total</th>\n",
       "      <th>living_area</th>\n",
       "      <th>floor</th>\n",
       "      <th>is_apartment</th>\n",
       "      <th>...</th>\n",
       "      <th>ponds_around3000</th>\n",
       "      <th>ponds_nearest</th>\n",
       "      <th>days_exposition</th>\n",
       "      <th>categorize_area</th>\n",
       "      <th>price</th>\n",
       "      <th>weekday</th>\n",
       "      <th>month</th>\n",
       "      <th>year</th>\n",
       "      <th>categor_floor</th>\n",
       "      <th>distance_center_in_km</th>\n",
       "    </tr>\n",
       "  </thead>\n",
       "  <tbody>\n",
       "    <tr>\n",
       "      <th>0</th>\n",
       "      <td>20</td>\n",
       "      <td>13000000.00</td>\n",
       "      <td>108.00</td>\n",
       "      <td>2019-03-07</td>\n",
       "      <td>3</td>\n",
       "      <td>2.70</td>\n",
       "      <td>16.00</td>\n",
       "      <td>51.00</td>\n",
       "      <td>8</td>\n",
       "      <td>False</td>\n",
       "      <td>...</td>\n",
       "      <td>2.00</td>\n",
       "      <td>755.00</td>\n",
       "      <td>NaN</td>\n",
       "      <td>B</td>\n",
       "      <td>120370.00</td>\n",
       "      <td>3</td>\n",
       "      <td>3</td>\n",
       "      <td>2019</td>\n",
       "      <td>другой</td>\n",
       "      <td>16.03</td>\n",
       "    </tr>\n",
       "    <tr>\n",
       "      <th>1</th>\n",
       "      <td>7</td>\n",
       "      <td>3350000.00</td>\n",
       "      <td>40.40</td>\n",
       "      <td>2018-12-04</td>\n",
       "      <td>1</td>\n",
       "      <td>2.65</td>\n",
       "      <td>11.00</td>\n",
       "      <td>18.60</td>\n",
       "      <td>1</td>\n",
       "      <td>False</td>\n",
       "      <td>...</td>\n",
       "      <td>0.00</td>\n",
       "      <td>NaN</td>\n",
       "      <td>81.00</td>\n",
       "      <td>D</td>\n",
       "      <td>82921.00</td>\n",
       "      <td>1</td>\n",
       "      <td>12</td>\n",
       "      <td>2018</td>\n",
       "      <td>первый</td>\n",
       "      <td>18.60</td>\n",
       "    </tr>\n",
       "    <tr>\n",
       "      <th>2</th>\n",
       "      <td>10</td>\n",
       "      <td>5196000.00</td>\n",
       "      <td>56.00</td>\n",
       "      <td>2015-08-20</td>\n",
       "      <td>2</td>\n",
       "      <td>2.65</td>\n",
       "      <td>5.00</td>\n",
       "      <td>34.30</td>\n",
       "      <td>4</td>\n",
       "      <td>False</td>\n",
       "      <td>...</td>\n",
       "      <td>2.00</td>\n",
       "      <td>574.00</td>\n",
       "      <td>558.00</td>\n",
       "      <td>C</td>\n",
       "      <td>92786.00</td>\n",
       "      <td>3</td>\n",
       "      <td>8</td>\n",
       "      <td>2015</td>\n",
       "      <td>другой</td>\n",
       "      <td>13.93</td>\n",
       "    </tr>\n",
       "    <tr>\n",
       "      <th>4</th>\n",
       "      <td>2</td>\n",
       "      <td>10000000.00</td>\n",
       "      <td>100.00</td>\n",
       "      <td>2018-06-19</td>\n",
       "      <td>2</td>\n",
       "      <td>3.03</td>\n",
       "      <td>14.00</td>\n",
       "      <td>32.00</td>\n",
       "      <td>13</td>\n",
       "      <td>False</td>\n",
       "      <td>...</td>\n",
       "      <td>1.00</td>\n",
       "      <td>48.00</td>\n",
       "      <td>121.00</td>\n",
       "      <td>B</td>\n",
       "      <td>100000.00</td>\n",
       "      <td>1</td>\n",
       "      <td>6</td>\n",
       "      <td>2018</td>\n",
       "      <td>другой</td>\n",
       "      <td>8.10</td>\n",
       "    </tr>\n",
       "    <tr>\n",
       "      <th>5</th>\n",
       "      <td>10</td>\n",
       "      <td>2890000.00</td>\n",
       "      <td>30.40</td>\n",
       "      <td>2018-09-10</td>\n",
       "      <td>1</td>\n",
       "      <td>2.65</td>\n",
       "      <td>12.00</td>\n",
       "      <td>14.40</td>\n",
       "      <td>5</td>\n",
       "      <td>False</td>\n",
       "      <td>...</td>\n",
       "      <td>0.00</td>\n",
       "      <td>NaN</td>\n",
       "      <td>55.00</td>\n",
       "      <td>E</td>\n",
       "      <td>95066.00</td>\n",
       "      <td>0</td>\n",
       "      <td>9</td>\n",
       "      <td>2018</td>\n",
       "      <td>другой</td>\n",
       "      <td>NaN</td>\n",
       "    </tr>\n",
       "    <tr>\n",
       "      <th>6</th>\n",
       "      <td>6</td>\n",
       "      <td>3700000.00</td>\n",
       "      <td>37.30</td>\n",
       "      <td>2017-11-02</td>\n",
       "      <td>1</td>\n",
       "      <td>2.65</td>\n",
       "      <td>26.00</td>\n",
       "      <td>10.60</td>\n",
       "      <td>6</td>\n",
       "      <td>False</td>\n",
       "      <td>...</td>\n",
       "      <td>0.00</td>\n",
       "      <td>NaN</td>\n",
       "      <td>155.00</td>\n",
       "      <td>E</td>\n",
       "      <td>99196.00</td>\n",
       "      <td>3</td>\n",
       "      <td>11</td>\n",
       "      <td>2017</td>\n",
       "      <td>другой</td>\n",
       "      <td>19.14</td>\n",
       "    </tr>\n",
       "    <tr>\n",
       "      <th>8</th>\n",
       "      <td>20</td>\n",
       "      <td>2900000.00</td>\n",
       "      <td>33.16</td>\n",
       "      <td>2018-05-23</td>\n",
       "      <td>1</td>\n",
       "      <td>2.65</td>\n",
       "      <td>27.00</td>\n",
       "      <td>15.43</td>\n",
       "      <td>26</td>\n",
       "      <td>False</td>\n",
       "      <td>...</td>\n",
       "      <td>0.00</td>\n",
       "      <td>NaN</td>\n",
       "      <td>189.00</td>\n",
       "      <td>E</td>\n",
       "      <td>87455.00</td>\n",
       "      <td>2</td>\n",
       "      <td>5</td>\n",
       "      <td>2018</td>\n",
       "      <td>другой</td>\n",
       "      <td>NaN</td>\n",
       "    </tr>\n",
       "    <tr>\n",
       "      <th>9</th>\n",
       "      <td>18</td>\n",
       "      <td>5400000.00</td>\n",
       "      <td>61.00</td>\n",
       "      <td>2017-02-26</td>\n",
       "      <td>3</td>\n",
       "      <td>2.50</td>\n",
       "      <td>9.00</td>\n",
       "      <td>43.60</td>\n",
       "      <td>7</td>\n",
       "      <td>False</td>\n",
       "      <td>...</td>\n",
       "      <td>0.00</td>\n",
       "      <td>NaN</td>\n",
       "      <td>289.00</td>\n",
       "      <td>C</td>\n",
       "      <td>88525.00</td>\n",
       "      <td>6</td>\n",
       "      <td>2</td>\n",
       "      <td>2017</td>\n",
       "      <td>другой</td>\n",
       "      <td>15.01</td>\n",
       "    </tr>\n",
       "    <tr>\n",
       "      <th>10</th>\n",
       "      <td>5</td>\n",
       "      <td>5050000.00</td>\n",
       "      <td>39.60</td>\n",
       "      <td>2017-11-16</td>\n",
       "      <td>1</td>\n",
       "      <td>2.67</td>\n",
       "      <td>12.00</td>\n",
       "      <td>20.30</td>\n",
       "      <td>3</td>\n",
       "      <td>False</td>\n",
       "      <td>...</td>\n",
       "      <td>2.00</td>\n",
       "      <td>553.00</td>\n",
       "      <td>137.00</td>\n",
       "      <td>E</td>\n",
       "      <td>127525.00</td>\n",
       "      <td>3</td>\n",
       "      <td>11</td>\n",
       "      <td>2017</td>\n",
       "      <td>другой</td>\n",
       "      <td>13.88</td>\n",
       "    </tr>\n",
       "    <tr>\n",
       "      <th>11</th>\n",
       "      <td>9</td>\n",
       "      <td>3300000.00</td>\n",
       "      <td>44.00</td>\n",
       "      <td>2018-08-27</td>\n",
       "      <td>2</td>\n",
       "      <td>2.65</td>\n",
       "      <td>5.00</td>\n",
       "      <td>31.00</td>\n",
       "      <td>4</td>\n",
       "      <td>False</td>\n",
       "      <td>...</td>\n",
       "      <td>0.00</td>\n",
       "      <td>NaN</td>\n",
       "      <td>7.00</td>\n",
       "      <td>D</td>\n",
       "      <td>75000.00</td>\n",
       "      <td>0</td>\n",
       "      <td>8</td>\n",
       "      <td>2018</td>\n",
       "      <td>другой</td>\n",
       "      <td>51.68</td>\n",
       "    </tr>\n",
       "    <tr>\n",
       "      <th>12</th>\n",
       "      <td>10</td>\n",
       "      <td>3890000.00</td>\n",
       "      <td>54.00</td>\n",
       "      <td>2016-06-30</td>\n",
       "      <td>2</td>\n",
       "      <td>2.65</td>\n",
       "      <td>5.00</td>\n",
       "      <td>30.00</td>\n",
       "      <td>5</td>\n",
       "      <td>False</td>\n",
       "      <td>...</td>\n",
       "      <td>0.00</td>\n",
       "      <td>NaN</td>\n",
       "      <td>90.00</td>\n",
       "      <td>C</td>\n",
       "      <td>72037.00</td>\n",
       "      <td>3</td>\n",
       "      <td>6</td>\n",
       "      <td>2016</td>\n",
       "      <td>последний</td>\n",
       "      <td>NaN</td>\n",
       "    </tr>\n",
       "    <tr>\n",
       "      <th>13</th>\n",
       "      <td>20</td>\n",
       "      <td>3550000.00</td>\n",
       "      <td>42.80</td>\n",
       "      <td>2017-07-01</td>\n",
       "      <td>2</td>\n",
       "      <td>2.56</td>\n",
       "      <td>5.00</td>\n",
       "      <td>27.00</td>\n",
       "      <td>5</td>\n",
       "      <td>False</td>\n",
       "      <td>...</td>\n",
       "      <td>3.00</td>\n",
       "      <td>298.00</td>\n",
       "      <td>366.00</td>\n",
       "      <td>D</td>\n",
       "      <td>82944.00</td>\n",
       "      <td>5</td>\n",
       "      <td>7</td>\n",
       "      <td>2017</td>\n",
       "      <td>последний</td>\n",
       "      <td>33.06</td>\n",
       "    </tr>\n",
       "    <tr>\n",
       "      <th>14</th>\n",
       "      <td>1</td>\n",
       "      <td>4400000.00</td>\n",
       "      <td>36.00</td>\n",
       "      <td>2016-06-23</td>\n",
       "      <td>1</td>\n",
       "      <td>2.65</td>\n",
       "      <td>6.00</td>\n",
       "      <td>17.00</td>\n",
       "      <td>1</td>\n",
       "      <td>False</td>\n",
       "      <td>...</td>\n",
       "      <td>1.00</td>\n",
       "      <td>96.00</td>\n",
       "      <td>203.00</td>\n",
       "      <td>E</td>\n",
       "      <td>122222.00</td>\n",
       "      <td>3</td>\n",
       "      <td>6</td>\n",
       "      <td>2016</td>\n",
       "      <td>первый</td>\n",
       "      <td>30.76</td>\n",
       "    </tr>\n",
       "    <tr>\n",
       "      <th>15</th>\n",
       "      <td>16</td>\n",
       "      <td>4650000.00</td>\n",
       "      <td>39.00</td>\n",
       "      <td>2017-11-18</td>\n",
       "      <td>1</td>\n",
       "      <td>2.65</td>\n",
       "      <td>14.00</td>\n",
       "      <td>20.50</td>\n",
       "      <td>5</td>\n",
       "      <td>False</td>\n",
       "      <td>...</td>\n",
       "      <td>1.00</td>\n",
       "      <td>296.00</td>\n",
       "      <td>19.00</td>\n",
       "      <td>E</td>\n",
       "      <td>119231.00</td>\n",
       "      <td>5</td>\n",
       "      <td>11</td>\n",
       "      <td>2017</td>\n",
       "      <td>другой</td>\n",
       "      <td>14.26</td>\n",
       "    </tr>\n",
       "    <tr>\n",
       "      <th>16</th>\n",
       "      <td>11</td>\n",
       "      <td>6700000.00</td>\n",
       "      <td>82.00</td>\n",
       "      <td>2017-11-23</td>\n",
       "      <td>3</td>\n",
       "      <td>3.05</td>\n",
       "      <td>5.00</td>\n",
       "      <td>55.60</td>\n",
       "      <td>1</td>\n",
       "      <td>False</td>\n",
       "      <td>...</td>\n",
       "      <td>0.00</td>\n",
       "      <td>NaN</td>\n",
       "      <td>397.00</td>\n",
       "      <td>B</td>\n",
       "      <td>81707.00</td>\n",
       "      <td>3</td>\n",
       "      <td>11</td>\n",
       "      <td>2017</td>\n",
       "      <td>первый</td>\n",
       "      <td>10.70</td>\n",
       "    </tr>\n",
       "    <tr>\n",
       "      <th>17</th>\n",
       "      <td>6</td>\n",
       "      <td>4180000.00</td>\n",
       "      <td>36.00</td>\n",
       "      <td>2016-09-09</td>\n",
       "      <td>1</td>\n",
       "      <td>2.65</td>\n",
       "      <td>17.00</td>\n",
       "      <td>16.50</td>\n",
       "      <td>7</td>\n",
       "      <td>False</td>\n",
       "      <td>...</td>\n",
       "      <td>1.00</td>\n",
       "      <td>859.00</td>\n",
       "      <td>571.00</td>\n",
       "      <td>E</td>\n",
       "      <td>116111.00</td>\n",
       "      <td>4</td>\n",
       "      <td>9</td>\n",
       "      <td>2016</td>\n",
       "      <td>другой</td>\n",
       "      <td>14.62</td>\n",
       "    </tr>\n",
       "    <tr>\n",
       "      <th>18</th>\n",
       "      <td>8</td>\n",
       "      <td>3250000.00</td>\n",
       "      <td>31.00</td>\n",
       "      <td>2017-01-27</td>\n",
       "      <td>1</td>\n",
       "      <td>2.50</td>\n",
       "      <td>5.00</td>\n",
       "      <td>19.40</td>\n",
       "      <td>2</td>\n",
       "      <td>False</td>\n",
       "      <td>...</td>\n",
       "      <td>0.00</td>\n",
       "      <td>NaN</td>\n",
       "      <td>168.00</td>\n",
       "      <td>E</td>\n",
       "      <td>104839.00</td>\n",
       "      <td>4</td>\n",
       "      <td>1</td>\n",
       "      <td>2017</td>\n",
       "      <td>другой</td>\n",
       "      <td>10.84</td>\n",
       "    </tr>\n",
       "    <tr>\n",
       "      <th>19</th>\n",
       "      <td>16</td>\n",
       "      <td>14200000.00</td>\n",
       "      <td>121.00</td>\n",
       "      <td>2019-01-09</td>\n",
       "      <td>3</td>\n",
       "      <td>2.75</td>\n",
       "      <td>16.00</td>\n",
       "      <td>76.00</td>\n",
       "      <td>8</td>\n",
       "      <td>False</td>\n",
       "      <td>...</td>\n",
       "      <td>0.00</td>\n",
       "      <td>NaN</td>\n",
       "      <td>97.00</td>\n",
       "      <td>A</td>\n",
       "      <td>117355.00</td>\n",
       "      <td>2</td>\n",
       "      <td>1</td>\n",
       "      <td>2019</td>\n",
       "      <td>другой</td>\n",
       "      <td>12.84</td>\n",
       "    </tr>\n",
       "    <tr>\n",
       "      <th>20</th>\n",
       "      <td>12</td>\n",
       "      <td>6120000.00</td>\n",
       "      <td>80.00</td>\n",
       "      <td>2017-09-28</td>\n",
       "      <td>3</td>\n",
       "      <td>2.70</td>\n",
       "      <td>27.00</td>\n",
       "      <td>48.00</td>\n",
       "      <td>11</td>\n",
       "      <td>False</td>\n",
       "      <td>...</td>\n",
       "      <td>0.00</td>\n",
       "      <td>NaN</td>\n",
       "      <td>74.00</td>\n",
       "      <td>B</td>\n",
       "      <td>76500.00</td>\n",
       "      <td>3</td>\n",
       "      <td>9</td>\n",
       "      <td>2017</td>\n",
       "      <td>другой</td>\n",
       "      <td>19.31</td>\n",
       "    </tr>\n",
       "    <tr>\n",
       "      <th>21</th>\n",
       "      <td>13</td>\n",
       "      <td>3200000.00</td>\n",
       "      <td>31.60</td>\n",
       "      <td>2018-03-14</td>\n",
       "      <td>1</td>\n",
       "      <td>2.65</td>\n",
       "      <td>5.00</td>\n",
       "      <td>16.90</td>\n",
       "      <td>2</td>\n",
       "      <td>False</td>\n",
       "      <td>...</td>\n",
       "      <td>0.00</td>\n",
       "      <td>NaN</td>\n",
       "      <td>310.00</td>\n",
       "      <td>E</td>\n",
       "      <td>101266.00</td>\n",
       "      <td>2</td>\n",
       "      <td>3</td>\n",
       "      <td>2018</td>\n",
       "      <td>другой</td>\n",
       "      <td>9.72</td>\n",
       "    </tr>\n",
       "    <tr>\n",
       "      <th>22</th>\n",
       "      <td>20</td>\n",
       "      <td>5000000.00</td>\n",
       "      <td>58.00</td>\n",
       "      <td>2017-04-24</td>\n",
       "      <td>2</td>\n",
       "      <td>2.75</td>\n",
       "      <td>25.00</td>\n",
       "      <td>30.00</td>\n",
       "      <td>15</td>\n",
       "      <td>False</td>\n",
       "      <td>...</td>\n",
       "      <td>0.00</td>\n",
       "      <td>NaN</td>\n",
       "      <td>60.00</td>\n",
       "      <td>C</td>\n",
       "      <td>86207.00</td>\n",
       "      <td>0</td>\n",
       "      <td>4</td>\n",
       "      <td>2017</td>\n",
       "      <td>другой</td>\n",
       "      <td>NaN</td>\n",
       "    </tr>\n",
       "    <tr>\n",
       "      <th>23</th>\n",
       "      <td>11</td>\n",
       "      <td>2950000.00</td>\n",
       "      <td>32.00</td>\n",
       "      <td>2016-10-29</td>\n",
       "      <td>1</td>\n",
       "      <td>2.60</td>\n",
       "      <td>9.00</td>\n",
       "      <td>17.70</td>\n",
       "      <td>9</td>\n",
       "      <td>False</td>\n",
       "      <td>...</td>\n",
       "      <td>1.00</td>\n",
       "      <td>190.00</td>\n",
       "      <td>615.00</td>\n",
       "      <td>E</td>\n",
       "      <td>92188.00</td>\n",
       "      <td>5</td>\n",
       "      <td>10</td>\n",
       "      <td>2016</td>\n",
       "      <td>последний</td>\n",
       "      <td>14.21</td>\n",
       "    </tr>\n",
       "    <tr>\n",
       "      <th>24</th>\n",
       "      <td>8</td>\n",
       "      <td>6500000.00</td>\n",
       "      <td>97.20</td>\n",
       "      <td>2015-10-31</td>\n",
       "      <td>2</td>\n",
       "      <td>2.65</td>\n",
       "      <td>3.00</td>\n",
       "      <td>46.50</td>\n",
       "      <td>1</td>\n",
       "      <td>False</td>\n",
       "      <td>...</td>\n",
       "      <td>3.00</td>\n",
       "      <td>124.00</td>\n",
       "      <td>265.00</td>\n",
       "      <td>B</td>\n",
       "      <td>66872.00</td>\n",
       "      <td>5</td>\n",
       "      <td>10</td>\n",
       "      <td>2015</td>\n",
       "      <td>первый</td>\n",
       "      <td>2.34</td>\n",
       "    </tr>\n",
       "    <tr>\n",
       "      <th>25</th>\n",
       "      <td>3</td>\n",
       "      <td>6800000.00</td>\n",
       "      <td>76.00</td>\n",
       "      <td>2015-10-01</td>\n",
       "      <td>2</td>\n",
       "      <td>2.75</td>\n",
       "      <td>23.00</td>\n",
       "      <td>39.00</td>\n",
       "      <td>18</td>\n",
       "      <td>False</td>\n",
       "      <td>...</td>\n",
       "      <td>1.00</td>\n",
       "      <td>564.00</td>\n",
       "      <td>300.00</td>\n",
       "      <td>B</td>\n",
       "      <td>89474.00</td>\n",
       "      <td>3</td>\n",
       "      <td>10</td>\n",
       "      <td>2015</td>\n",
       "      <td>другой</td>\n",
       "      <td>14.64</td>\n",
       "    </tr>\n",
       "    <tr>\n",
       "      <th>26</th>\n",
       "      <td>6</td>\n",
       "      <td>4050000.00</td>\n",
       "      <td>60.00</td>\n",
       "      <td>2017-04-28</td>\n",
       "      <td>4</td>\n",
       "      <td>2.65</td>\n",
       "      <td>5.00</td>\n",
       "      <td>43.00</td>\n",
       "      <td>4</td>\n",
       "      <td>False</td>\n",
       "      <td>...</td>\n",
       "      <td>1.00</td>\n",
       "      <td>95.00</td>\n",
       "      <td>265.00</td>\n",
       "      <td>C</td>\n",
       "      <td>67500.00</td>\n",
       "      <td>4</td>\n",
       "      <td>4</td>\n",
       "      <td>2017</td>\n",
       "      <td>другой</td>\n",
       "      <td>10.51</td>\n",
       "    </tr>\n",
       "    <tr>\n",
       "      <th>27</th>\n",
       "      <td>20</td>\n",
       "      <td>7100000.00</td>\n",
       "      <td>70.00</td>\n",
       "      <td>2017-05-12</td>\n",
       "      <td>3</td>\n",
       "      <td>2.60</td>\n",
       "      <td>17.00</td>\n",
       "      <td>49.00</td>\n",
       "      <td>11</td>\n",
       "      <td>False</td>\n",
       "      <td>...</td>\n",
       "      <td>1.00</td>\n",
       "      <td>779.00</td>\n",
       "      <td>151.00</td>\n",
       "      <td>B</td>\n",
       "      <td>101429.00</td>\n",
       "      <td>4</td>\n",
       "      <td>5</td>\n",
       "      <td>2017</td>\n",
       "      <td>другой</td>\n",
       "      <td>11.46</td>\n",
       "    </tr>\n",
       "    <tr>\n",
       "      <th>28</th>\n",
       "      <td>8</td>\n",
       "      <td>4170000.00</td>\n",
       "      <td>44.00</td>\n",
       "      <td>2017-12-13</td>\n",
       "      <td>1</td>\n",
       "      <td>2.90</td>\n",
       "      <td>6.00</td>\n",
       "      <td>20.80</td>\n",
       "      <td>1</td>\n",
       "      <td>False</td>\n",
       "      <td>...</td>\n",
       "      <td>1.00</td>\n",
       "      <td>118.00</td>\n",
       "      <td>74.00</td>\n",
       "      <td>D</td>\n",
       "      <td>94773.00</td>\n",
       "      <td>2</td>\n",
       "      <td>12</td>\n",
       "      <td>2017</td>\n",
       "      <td>первый</td>\n",
       "      <td>30.71</td>\n",
       "    </tr>\n",
       "    <tr>\n",
       "      <th>29</th>\n",
       "      <td>9</td>\n",
       "      <td>8600000.00</td>\n",
       "      <td>100.00</td>\n",
       "      <td>2016-04-09</td>\n",
       "      <td>3</td>\n",
       "      <td>2.65</td>\n",
       "      <td>19.00</td>\n",
       "      <td>52.00</td>\n",
       "      <td>15</td>\n",
       "      <td>False</td>\n",
       "      <td>...</td>\n",
       "      <td>1.00</td>\n",
       "      <td>896.00</td>\n",
       "      <td>125.00</td>\n",
       "      <td>B</td>\n",
       "      <td>86000.00</td>\n",
       "      <td>5</td>\n",
       "      <td>4</td>\n",
       "      <td>2016</td>\n",
       "      <td>другой</td>\n",
       "      <td>11.53</td>\n",
       "    </tr>\n",
       "    <tr>\n",
       "      <th>31</th>\n",
       "      <td>8</td>\n",
       "      <td>7200000.00</td>\n",
       "      <td>67.90</td>\n",
       "      <td>2017-10-26</td>\n",
       "      <td>2</td>\n",
       "      <td>2.80</td>\n",
       "      <td>16.00</td>\n",
       "      <td>38.10</td>\n",
       "      <td>4</td>\n",
       "      <td>False</td>\n",
       "      <td>...</td>\n",
       "      <td>0.00</td>\n",
       "      <td>NaN</td>\n",
       "      <td>112.00</td>\n",
       "      <td>C</td>\n",
       "      <td>106038.00</td>\n",
       "      <td>3</td>\n",
       "      <td>10</td>\n",
       "      <td>2017</td>\n",
       "      <td>другой</td>\n",
       "      <td>12.94</td>\n",
       "    </tr>\n",
       "    <tr>\n",
       "      <th>32</th>\n",
       "      <td>7</td>\n",
       "      <td>4990000.00</td>\n",
       "      <td>60.00</td>\n",
       "      <td>2016-05-22</td>\n",
       "      <td>3</td>\n",
       "      <td>2.65</td>\n",
       "      <td>5.00</td>\n",
       "      <td>39.00</td>\n",
       "      <td>4</td>\n",
       "      <td>False</td>\n",
       "      <td>...</td>\n",
       "      <td>1.00</td>\n",
       "      <td>426.00</td>\n",
       "      <td>224.00</td>\n",
       "      <td>C</td>\n",
       "      <td>83167.00</td>\n",
       "      <td>6</td>\n",
       "      <td>5</td>\n",
       "      <td>2016</td>\n",
       "      <td>другой</td>\n",
       "      <td>12.89</td>\n",
       "    </tr>\n",
       "  </tbody>\n",
       "</table>\n",
       "<p>30 rows × 29 columns</p>\n",
       "</div>"
      ],
      "text/plain": [
       "    total_images  last_price  total_area first_day_exposition  rooms  \\\n",
       "0             20 13000000.00      108.00           2019-03-07      3   \n",
       "1              7  3350000.00       40.40           2018-12-04      1   \n",
       "2             10  5196000.00       56.00           2015-08-20      2   \n",
       "4              2 10000000.00      100.00           2018-06-19      2   \n",
       "5             10  2890000.00       30.40           2018-09-10      1   \n",
       "6              6  3700000.00       37.30           2017-11-02      1   \n",
       "8             20  2900000.00       33.16           2018-05-23      1   \n",
       "9             18  5400000.00       61.00           2017-02-26      3   \n",
       "10             5  5050000.00       39.60           2017-11-16      1   \n",
       "11             9  3300000.00       44.00           2018-08-27      2   \n",
       "12            10  3890000.00       54.00           2016-06-30      2   \n",
       "13            20  3550000.00       42.80           2017-07-01      2   \n",
       "14             1  4400000.00       36.00           2016-06-23      1   \n",
       "15            16  4650000.00       39.00           2017-11-18      1   \n",
       "16            11  6700000.00       82.00           2017-11-23      3   \n",
       "17             6  4180000.00       36.00           2016-09-09      1   \n",
       "18             8  3250000.00       31.00           2017-01-27      1   \n",
       "19            16 14200000.00      121.00           2019-01-09      3   \n",
       "20            12  6120000.00       80.00           2017-09-28      3   \n",
       "21            13  3200000.00       31.60           2018-03-14      1   \n",
       "22            20  5000000.00       58.00           2017-04-24      2   \n",
       "23            11  2950000.00       32.00           2016-10-29      1   \n",
       "24             8  6500000.00       97.20           2015-10-31      2   \n",
       "25             3  6800000.00       76.00           2015-10-01      2   \n",
       "26             6  4050000.00       60.00           2017-04-28      4   \n",
       "27            20  7100000.00       70.00           2017-05-12      3   \n",
       "28             8  4170000.00       44.00           2017-12-13      1   \n",
       "29             9  8600000.00      100.00           2016-04-09      3   \n",
       "31             8  7200000.00       67.90           2017-10-26      2   \n",
       "32             7  4990000.00       60.00           2016-05-22      3   \n",
       "\n",
       "    ceiling_height  floors_total  living_area  floor  is_apartment  ...  \\\n",
       "0             2.70         16.00        51.00      8         False  ...   \n",
       "1             2.65         11.00        18.60      1         False  ...   \n",
       "2             2.65          5.00        34.30      4         False  ...   \n",
       "4             3.03         14.00        32.00     13         False  ...   \n",
       "5             2.65         12.00        14.40      5         False  ...   \n",
       "6             2.65         26.00        10.60      6         False  ...   \n",
       "8             2.65         27.00        15.43     26         False  ...   \n",
       "9             2.50          9.00        43.60      7         False  ...   \n",
       "10            2.67         12.00        20.30      3         False  ...   \n",
       "11            2.65          5.00        31.00      4         False  ...   \n",
       "12            2.65          5.00        30.00      5         False  ...   \n",
       "13            2.56          5.00        27.00      5         False  ...   \n",
       "14            2.65          6.00        17.00      1         False  ...   \n",
       "15            2.65         14.00        20.50      5         False  ...   \n",
       "16            3.05          5.00        55.60      1         False  ...   \n",
       "17            2.65         17.00        16.50      7         False  ...   \n",
       "18            2.50          5.00        19.40      2         False  ...   \n",
       "19            2.75         16.00        76.00      8         False  ...   \n",
       "20            2.70         27.00        48.00     11         False  ...   \n",
       "21            2.65          5.00        16.90      2         False  ...   \n",
       "22            2.75         25.00        30.00     15         False  ...   \n",
       "23            2.60          9.00        17.70      9         False  ...   \n",
       "24            2.65          3.00        46.50      1         False  ...   \n",
       "25            2.75         23.00        39.00     18         False  ...   \n",
       "26            2.65          5.00        43.00      4         False  ...   \n",
       "27            2.60         17.00        49.00     11         False  ...   \n",
       "28            2.90          6.00        20.80      1         False  ...   \n",
       "29            2.65         19.00        52.00     15         False  ...   \n",
       "31            2.80         16.00        38.10      4         False  ...   \n",
       "32            2.65          5.00        39.00      4         False  ...   \n",
       "\n",
       "    ponds_around3000  ponds_nearest  days_exposition  categorize_area  \\\n",
       "0               2.00         755.00              NaN                B   \n",
       "1               0.00            NaN            81.00                D   \n",
       "2               2.00         574.00           558.00                C   \n",
       "4               1.00          48.00           121.00                B   \n",
       "5               0.00            NaN            55.00                E   \n",
       "6               0.00            NaN           155.00                E   \n",
       "8               0.00            NaN           189.00                E   \n",
       "9               0.00            NaN           289.00                C   \n",
       "10              2.00         553.00           137.00                E   \n",
       "11              0.00            NaN             7.00                D   \n",
       "12              0.00            NaN            90.00                C   \n",
       "13              3.00         298.00           366.00                D   \n",
       "14              1.00          96.00           203.00                E   \n",
       "15              1.00         296.00            19.00                E   \n",
       "16              0.00            NaN           397.00                B   \n",
       "17              1.00         859.00           571.00                E   \n",
       "18              0.00            NaN           168.00                E   \n",
       "19              0.00            NaN            97.00                A   \n",
       "20              0.00            NaN            74.00                B   \n",
       "21              0.00            NaN           310.00                E   \n",
       "22              0.00            NaN            60.00                C   \n",
       "23              1.00         190.00           615.00                E   \n",
       "24              3.00         124.00           265.00                B   \n",
       "25              1.00         564.00           300.00                B   \n",
       "26              1.00          95.00           265.00                C   \n",
       "27              1.00         779.00           151.00                B   \n",
       "28              1.00         118.00            74.00                D   \n",
       "29              1.00         896.00           125.00                B   \n",
       "31              0.00            NaN           112.00                C   \n",
       "32              1.00         426.00           224.00                C   \n",
       "\n",
       "       price  weekday  month  year  categor_floor  distance_center_in_km  \n",
       "0  120370.00        3      3  2019         другой                  16.03  \n",
       "1   82921.00        1     12  2018         первый                  18.60  \n",
       "2   92786.00        3      8  2015         другой                  13.93  \n",
       "4  100000.00        1      6  2018         другой                   8.10  \n",
       "5   95066.00        0      9  2018         другой                    NaN  \n",
       "6   99196.00        3     11  2017         другой                  19.14  \n",
       "8   87455.00        2      5  2018         другой                    NaN  \n",
       "9   88525.00        6      2  2017         другой                  15.01  \n",
       "10 127525.00        3     11  2017         другой                  13.88  \n",
       "11  75000.00        0      8  2018         другой                  51.68  \n",
       "12  72037.00        3      6  2016      последний                    NaN  \n",
       "13  82944.00        5      7  2017      последний                  33.06  \n",
       "14 122222.00        3      6  2016         первый                  30.76  \n",
       "15 119231.00        5     11  2017         другой                  14.26  \n",
       "16  81707.00        3     11  2017         первый                  10.70  \n",
       "17 116111.00        4      9  2016         другой                  14.62  \n",
       "18 104839.00        4      1  2017         другой                  10.84  \n",
       "19 117355.00        2      1  2019         другой                  12.84  \n",
       "20  76500.00        3      9  2017         другой                  19.31  \n",
       "21 101266.00        2      3  2018         другой                   9.72  \n",
       "22  86207.00        0      4  2017         другой                    NaN  \n",
       "23  92188.00        5     10  2016      последний                  14.21  \n",
       "24  66872.00        5     10  2015         первый                   2.34  \n",
       "25  89474.00        3     10  2015         другой                  14.64  \n",
       "26  67500.00        4      4  2017         другой                  10.51  \n",
       "27 101429.00        4      5  2017         другой                  11.46  \n",
       "28  94773.00        2     12  2017         первый                  30.71  \n",
       "29  86000.00        5      4  2016         другой                  11.53  \n",
       "31 106038.00        3     10  2017         другой                  12.94  \n",
       "32  83167.00        6      5  2016         другой                  12.89  \n",
       "\n",
       "[30 rows x 29 columns]"
      ]
     },
     "execution_count": 26,
     "metadata": {},
     "output_type": "execute_result"
    }
   ],
   "source": [
    "df_add.head(30)"
   ]
  },
  {
   "cell_type": "markdown",
   "metadata": {},
   "source": [
    "### Проведите исследовательский анализ данных"
   ]
  },
  {
   "cell_type": "markdown",
   "metadata": {},
   "source": [
    "Изучаем следующие показатели:\n",
    "\n",
    "4.1.1. общая площадь; (+)\n",
    "\n",
    "4.1.2. жилая площадь; (+)\n",
    "\n",
    "4.1.3. площадь кухни; (+)\n",
    "\n",
    "4.1.4. цена объекта; (+)\n",
    "\n",
    "4.1.5. количество комнат; (+)\n",
    "\n",
    "4.1.6. высота потолков; (+)\n",
    "\n",
    "4.1.7. этаж квартиры; (+)\n",
    "\n",
    "4.1.8. тип этажа квартиры («первый», «последний», «другой»); (+)\n",
    "\n",
    "4.1.9. общее количество этажей в доме; (+)\n",
    "\n",
    "4.1.10. расстояние до центра города в метрах; (+)\n",
    "\n",
    "4.1.11. расстояние до ближайшего аэропорта; (+)\n",
    "\n",
    "4.1.12. расстояние до ближайшего парка; (+)\n",
    "\n",
    "4.1.13. день и месяц публикации объявления. (+)"
   ]
  },
  {
   "cell_type": "code",
   "execution_count": 27,
   "metadata": {},
   "outputs": [
    {
     "data": {
      "text/plain": [
       "count   21542.00\n",
       "mean       59.21\n",
       "std        32.22\n",
       "min        12.00\n",
       "25%        40.00\n",
       "50%        51.70\n",
       "75%        68.97\n",
       "max       631.20\n",
       "Name: total_area, dtype: float64"
      ]
     },
     "execution_count": 27,
     "metadata": {},
     "output_type": "execute_result"
    },
    {
     "data": {
      "image/png": "[encoded data removed]",
      "text/plain": [
       "<Figure size 1440x360 with 1 Axes>"
      ]
     },
     "metadata": {
      "needs_background": "light"
     },
     "output_type": "display_data"
    }
   ],
   "source": [
    "df_add['total_area'].loc[df_add['total_area']<200].hist(figsize=(20, 5), bins=30) #чтобы видеть побольше, приближаем срезом. \n",
    "                                                       # Можно было бы удалить данные, но не очень хочется о них нечаянно забыть\n",
    "df_add['total_area'].describe()"
   ]
  },
  {
   "cell_type": "markdown",
   "metadata": {},
   "source": [
    "<div class=\"alert alert-block alert-warning\">\n",
    " \n",
    "### Комментарий ревьюера\n",
    "    \n",
    "#### Совет\n",
    "    \n",
    "А еще, не забывай давать графикам названия. Так сразу будет понятно, что ты на них пытаешься показать. \n",
    "</div "
   ]
  },
  {
   "cell_type": "markdown",
   "metadata": {},
   "source": [
    "Больше всего квартир попадают в диапазон примерно 31-46м2. Какие-то однушки-двушки. Кажется, что в жизни их действительно больше других. Похоже на правду."
   ]
  },
  {
   "cell_type": "code",
   "execution_count": 28,
   "metadata": {},
   "outputs": [
    {
     "data": {
      "text/plain": [
       "count   21542.00\n",
       "mean       33.99\n",
       "std        20.82\n",
       "min         8.00\n",
       "25%        18.60\n",
       "50%        30.00\n",
       "75%        42.00\n",
       "max       409.00\n",
       "Name: living_area, dtype: float64"
      ]
     },
     "execution_count": 28,
     "metadata": {},
     "output_type": "execute_result"
    },
    {
     "data": {
      "image/png": "[encoded data removed]",
      "text/plain": [
       "<Figure size 1440x360 with 1 Axes>"
      ]
     },
     "metadata": {
      "needs_background": "light"
     },
     "output_type": "display_data"
    }
   ],
   "source": [
    "df_add['living_area'].loc[df_add['living_area']<100].hist(figsize=(20, 5), bins=100)\n",
    "df_add['living_area'].describe()"
   ]
  },
  {
   "cell_type": "markdown",
   "metadata": {},
   "source": [
    "Гистограмма намного более \"прыгучая\" нежели в первом случае. Есть несколько пиков. Больше всего случаев приходится на жилые площади примерно в 18м2. Кроме того есть пик ниже примерно между 25 и 30м2. Возможно, на метраж примерно в 22-24м2, приходящийся на место провала, просто крайне мало планировок квартир, а потому и строят их реже. Больших квартир все также довольно мало."
   ]
  },
  {
   "cell_type": "code",
   "execution_count": 29,
   "metadata": {},
   "outputs": [
    {
     "data": {
      "text/plain": [
       "count   21542.00\n",
       "mean       25.22\n",
       "std        14.54\n",
       "min         0.00\n",
       "25%        17.00\n",
       "50%        22.00\n",
       "75%        29.00\n",
       "max       339.30\n",
       "Name: kitchen_area, dtype: float64"
      ]
     },
     "execution_count": 29,
     "metadata": {},
     "output_type": "execute_result"
    },
    {
     "data": {
      "image/png": "[encoded data removed]",
      "text/plain": [
       "<Figure size 1440x360 with 1 Axes>"
      ]
     },
     "metadata": {
      "needs_background": "light"
     },
     "output_type": "display_data"
    }
   ],
   "source": [
    "df_add['kitchen_area'].loc[df_add['kitchen_area']<60].hist(figsize=(20, 5), bins=50)\n",
    "df_add['kitchen_area'].describe()"
   ]
  },
  {
   "cell_type": "markdown",
   "metadata": {},
   "source": [
    "Пик приходится на кухни метражом примерно 18м2 до 25м2. Это разница с пиком жилой площади в 18м2, но там он не один, да и количество объявлений в пиках больше."
   ]
  },
  {
   "cell_type": "markdown",
   "metadata": {},
   "source": [
    "<div class=\"alert alert-block alert-success\">\n",
    " \n",
    "### Комментарий ревьюера\n",
    "    \n",
    "#### Успех\n",
    "    \n",
    "Да, кухни у нас небольшие.\n",
    "</div "
   ]
  },
  {
   "cell_type": "code",
   "execution_count": 30,
   "metadata": {},
   "outputs": [
    {
     "data": {
      "text/plain": [
       "count    21542.00\n",
       "mean     96750.54\n",
       "std      34245.82\n",
       "min       9615.00\n",
       "25%      77000.00\n",
       "50%      94854.50\n",
       "75%     113333.00\n",
       "max     275000.00\n",
       "Name: price, dtype: float64"
      ]
     },
     "execution_count": 30,
     "metadata": {},
     "output_type": "execute_result"
    },
    {
     "data": {
      "image/png": "[encoded data removed]",
      "text/plain": [
       "<Figure size 1440x360 with 1 Axes>"
      ]
     },
     "metadata": {
      "needs_background": "light"
     },
     "output_type": "display_data"
    }
   ],
   "source": [
    "df_add['price'].loc[df_add['price']<=260000].hist(figsize=(20, 5), bins=80)\n",
    "df_add['price'].describe()"
   ]
  },
  {
   "cell_type": "markdown",
   "metadata": {},
   "source": [
    "Цена за м2 дала довольно красивую гистограмму с пиком в 98 тыс. рублей за м2. Похоже на нормальное распределение, если не смотреть на хвост в конце. Можно было бы обрезать некоторые данные, например ту же неадекватную цену почти в 2 млн за м2, но рука не поднимается. Для меня многие данные в этом датафрейме выглядят странными (например, цена в рублях (112 рублей), а не тысячах) и если их удалять, то потеряется слишком большой объем."
   ]
  },
  {
   "cell_type": "code",
   "execution_count": 31,
   "metadata": {},
   "outputs": [
    {
     "data": {
      "text/plain": [
       "count   21542.00\n",
       "mean        2.69\n",
       "std         0.21\n",
       "min         2.20\n",
       "25%         2.60\n",
       "50%         2.65\n",
       "75%         2.70\n",
       "max         4.70\n",
       "Name: ceiling_height, dtype: float64"
      ]
     },
     "execution_count": 31,
     "metadata": {},
     "output_type": "execute_result"
    },
    {
     "data": {
      "image/png": "[encoded data removed]",
      "text/plain": [
       "<Figure size 1440x360 with 1 Axes>"
      ]
     },
     "metadata": {
      "needs_background": "light"
     },
     "output_type": "display_data"
    }
   ],
   "source": [
    "df_add['ceiling_height'].hist(figsize=(20, 5), bins=20)\n",
    "df_add['ceiling_height'].describe()"
   ]
  },
  {
   "cell_type": "markdown",
   "metadata": {},
   "source": [
    "Стандартные потолки в Санкт-Петербурге и ЛО приходятся примерно на 2,6м. Немного и немало, нормально. Самые низкие - 2,2м, самые высокие- 4,7. Были и больше, но мы убрали их из датасета за подозрительность."
   ]
  },
  {
   "cell_type": "markdown",
   "metadata": {},
   "source": [
    "<div class=\"alert alert-block alert-success\">\n",
    " \n",
    "### Комментарий ревьюера\n",
    "    \n",
    "#### Успех\n",
    "    \n",
    "Слишком высокие потолки могут свидетельствовать о дореволюцоннной застройке. \n",
    "</div "
   ]
  },
  {
   "cell_type": "code",
   "execution_count": 32,
   "metadata": {},
   "outputs": [
    {
     "data": {
      "text/plain": [
       "count   21542.00\n",
       "mean        2.06\n",
       "std         1.07\n",
       "min         0.00\n",
       "25%         1.00\n",
       "50%         2.00\n",
       "75%         3.00\n",
       "max        19.00\n",
       "Name: rooms, dtype: float64"
      ]
     },
     "execution_count": 32,
     "metadata": {},
     "output_type": "execute_result"
    },
    {
     "data": {
      "image/png": "[encoded data removed]",
      "text/plain": [
       "<Figure size 1440x360 with 1 Axes>"
      ]
     },
     "metadata": {
      "needs_background": "light"
     },
     "output_type": "display_data"
    }
   ],
   "source": [
    "df_add['rooms'].hist(figsize=(20, 5), bins=11)\n",
    "df_add['rooms'].describe()"
   ]
  },
  {
   "cell_type": "markdown",
   "metadata": {},
   "source": [
    "Пик приходится на квартиры с 1-3 комнатами. Есть и 5, и даже 12 комнат, но большая часть населения продает квартиры с 2-3 комнатами."
   ]
  },
  {
   "cell_type": "code",
   "execution_count": 33,
   "metadata": {},
   "outputs": [
    {
     "data": {
      "text/plain": [
       "count   21542.00\n",
       "mean        5.90\n",
       "std         4.88\n",
       "min         1.00\n",
       "25%         2.00\n",
       "50%         4.00\n",
       "75%         8.00\n",
       "max        33.00\n",
       "Name: floor, dtype: float64"
      ]
     },
     "execution_count": 33,
     "metadata": {},
     "output_type": "execute_result"
    },
    {
     "data": {
      "image/png": "[encoded data removed]",
      "text/plain": [
       "<Figure size 1440x360 with 1 Axes>"
      ]
     },
     "metadata": {
      "needs_background": "light"
     },
     "output_type": "display_data"
    }
   ],
   "source": [
    "df_add['floor'].hist(figsize=(20, 5), bins=20)\n",
    "df_add['floor'].describe()"
   ]
  },
  {
   "cell_type": "markdown",
   "metadata": {},
   "source": [
    "Больше всего хотят избавиться от своих квартир владельцы помещений первых этажей (от 1 до 4). Это неудивительно. Во-первых, существуют частные дома, они априори стоят на первом и могут прописать у себя первый этаж, а во-вторых, абсолютно в каждом доме есть первый этаж в отличие от 25. "
   ]
  },
  {
   "cell_type": "code",
   "execution_count": 34,
   "metadata": {},
   "outputs": [
    {
     "data": {
      "text/plain": [
       "count      21542\n",
       "unique         3\n",
       "top       другой\n",
       "freq       15860\n",
       "Name: categor_floor, dtype: object"
      ]
     },
     "execution_count": 34,
     "metadata": {},
     "output_type": "execute_result"
    },
    {
     "data": {
      "image/png": "[encoded data removed]",
      "text/plain": [
       "<Figure size 1440x360 with 1 Axes>"
      ]
     },
     "metadata": {
      "needs_background": "light"
     },
     "output_type": "display_data"
    }
   ],
   "source": [
    "df_add['categor_floor'].hist(figsize=(20, 5), bins=3)\n",
    "df_add['categor_floor'].describe()"
   ]
  },
  {
   "cell_type": "markdown",
   "metadata": {},
   "source": [
    "<div class=\"alert alert-block alert-success\">\n",
    " \n",
    "### Комментарий ревьюера\n",
    "    \n",
    "#### Успех\n",
    "    \n",
    "Квартиры на первом этаже пользуются наименьшим спросом. \n",
    "</div "
   ]
  },
  {
   "cell_type": "markdown",
   "metadata": {},
   "source": [
    "Последних этажей продавалось в исследуемый период больше, чем первых. Но иных этажей, конечно, было в разы больше, чем первых и последних вместе взятых, что тоже абсолютно неудивительно."
   ]
  },
  {
   "cell_type": "code",
   "execution_count": 35,
   "metadata": {},
   "outputs": [
    {
     "data": {
      "text/plain": [
       "count   21490.00\n",
       "mean       10.67\n",
       "std         6.58\n",
       "min         1.00\n",
       "25%         5.00\n",
       "50%         9.00\n",
       "75%        16.00\n",
       "max        60.00\n",
       "Name: floors_total, dtype: float64"
      ]
     },
     "execution_count": 35,
     "metadata": {},
     "output_type": "execute_result"
    },
    {
     "data": {
      "image/png": "[encoded data removed]",
      "text/plain": [
       "<Figure size 1440x360 with 1 Axes>"
      ]
     },
     "metadata": {
      "needs_background": "light"
     },
     "output_type": "display_data"
    }
   ],
   "source": [
    "df_add['floors_total'].hist(figsize=(20, 5), bins=30)\n",
    "df_add['floors_total'].describe()"
   ]
  },
  {
   "cell_type": "markdown",
   "metadata": {},
   "source": [
    "Много домов на 7 и 9-11 этажей. Между ними наблюдается провал на 8 этажах. Если подумать, то сложно вспомнить дом на 8 этажей, хоть такие все равно существуют. Есть и небоскреб на 60, но домов выше 28 этайжей крайне мало."
   ]
  },
  {
   "cell_type": "code",
   "execution_count": 36,
   "metadata": {},
   "outputs": [
    {
     "data": {
      "image/png": "[encoded data removed]",
      "text/plain": [
       "<Figure size 1440x360 with 1 Axes>"
      ]
     },
     "metadata": {
      "needs_background": "light"
     },
     "output_type": "display_data"
    },
    {
     "data": {
      "image/png": "[encoded data removed]",
      "text/plain": [
       "<Figure size 1440x360 with 1 Axes>"
      ]
     },
     "metadata": {
      "needs_background": "light"
     },
     "output_type": "display_data"
    },
    {
     "data": {
      "image/png": "[encoded data removed]",
      "text/plain": [
       "<Figure size 1440x360 with 1 Axes>"
      ]
     },
     "metadata": {
      "needs_background": "light"
     },
     "output_type": "display_data"
    }
   ],
   "source": [
    "df_add['airports_nearest'].hist(figsize=(20, 5), bins=30)\n",
    "plt.show()\n",
    "df_add['city_centers_nearest'].hist(figsize=(20, 5), bins=30)\n",
    "plt.show()\n",
    "df_add['parks_nearest'].hist(figsize=(20, 5), bins=30)\n",
    "plt.show()"
   ]
  },
  {
   "cell_type": "markdown",
   "metadata": {},
   "source": [
    "Большая часть продаваемой недвижимости находится примерно в 12-24 км от аэропорта.\n",
    "Большая часть продаваемой недвижимости находится примерно в 9-18 км от центра города.\n",
    "Пик продаваемой недвижимости находится примерно в 0,5 км от парка. Очень удобно и приятно."
   ]
  },
  {
   "cell_type": "markdown",
   "metadata": {},
   "source": [
    "<div class=\"alert alert-block alert-success\">\n",
    " \n",
    "### Комментарий ревьюера\n",
    "    \n",
    "#### Успех\n",
    "    \n",
    "По выводам согласен. \n",
    "</div "
   ]
  },
  {
   "cell_type": "code",
   "execution_count": 37,
   "metadata": {},
   "outputs": [
    {
     "data": {
      "image/png": "[encoded data removed]",
      "text/plain": [
       "<Figure size 1440x360 with 1 Axes>"
      ]
     },
     "metadata": {
      "needs_background": "light"
     },
     "output_type": "display_data"
    },
    {
     "data": {
      "image/png": "[encoded data removed]",
      "text/plain": [
       "<Figure size 1440x360 with 1 Axes>"
      ]
     },
     "metadata": {
      "needs_background": "light"
     },
     "output_type": "display_data"
    }
   ],
   "source": [
    "df_add['weekday'].hist(figsize=(20, 5), bins=7) \n",
    "plt.show()\n",
    "df_add['month'].hist(figsize=(20, 5), bins=12)\n",
    "plt.show()"
   ]
  },
  {
   "cell_type": "markdown",
   "metadata": {},
   "source": [
    "В будни пользователи вполне охотно и примерно одинаково выставляют объявления на продажу, однако в четверг и вторник они чуть более активны. В выходные же наоборот, примерно половина потенциальных создателей объявлений отдыхает и не проявляет активности так, как в будни.\n",
    "\n",
    "Чаще всего помещения выставляют на продажу в самом конце зимы-начале весны. Почему-то в мае гораздо меньше желающих выставить помещение для продажи. Май насыщен праздниками, может, люди радуются первому теплу и шашлыкам. Летом желающих становится больше, но еще не так много, как в августе-ноябре. Ноябрь можно назвать вторым пиком второго полугодия. Потом активность тоже падает, возможно, тоже из-за праздников."
   ]
  },
  {
   "cell_type": "markdown",
   "metadata": {},
   "source": [
    "<div class=\"alert alert-block alert-success\">\n",
    " \n",
    "### Комментарий ревьюера\n",
    "    \n",
    "#### Успех\n",
    "    \n",
    "Все так и есть. Праздники и выходные дают просадку. \n",
    "</div "
   ]
  },
  {
   "cell_type": "markdown",
   "metadata": {},
   "source": [
    "**Изучим некоторые параметры наших данных**"
   ]
  },
  {
   "cell_type": "code",
   "execution_count": 38,
   "metadata": {},
   "outputs": [
    {
     "data": {
      "text/plain": [
       "count   18609.00\n",
       "mean      183.85\n",
       "std       220.23\n",
       "min         1.00\n",
       "25%        44.00\n",
       "50%       100.00\n",
       "75%       237.00\n",
       "max      1580.00\n",
       "Name: days_exposition, dtype: float64"
      ]
     },
     "execution_count": 38,
     "metadata": {},
     "output_type": "execute_result"
    },
    {
     "data": {
      "image/png": "[encoded data removed]",
      "text/plain": [
       "<Figure size 1440x360 with 1 Axes>"
      ]
     },
     "metadata": {
      "needs_background": "light"
     },
     "output_type": "display_data"
    }
   ],
   "source": [
    "df_add['days_exposition'].loc[df_add['days_exposition']<=400].hist(figsize=(20, 5), bins=30)\n",
    "df_add['days_exposition'].describe()"
   ]
  },
  {
   "cell_type": "markdown",
   "metadata": {},
   "source": [
    "Примерно четверть недвижимости уходит с рынка не больше чем за 44 дня. Пик количества продаж мелкает у нуля. Это подозрительно, поэтому смотрим дальше. Второй пик количества продаж приходится примерно на 48-51 сутки. Довольно быстро и более правдоподобно. Однако, есть и рекордсмены. Кто-то продавал недвижимость целых 1 580 дней. Возможно, это та самая квартира со стоимостью м2 почти 2 млн рублей.\n",
    "Среднее составляет 180.76 суток, а медиана - 95.00. Это можно объяснить устойчивостью медианы к выбросам, которые так сильно влияют на среднее, ведь максимально долгая продажа составила 1 580 дней и подобный случай не единственный."
   ]
  },
  {
   "cell_type": "code",
   "execution_count": 39,
   "metadata": {},
   "outputs": [
    {
     "data": {
      "text/plain": [
       "<AxesSubplot:>"
      ]
     },
     "execution_count": 39,
     "metadata": {},
     "output_type": "execute_result"
    },
    {
     "data": {
      "image/png": "[encoded data removed]",
      "text/plain": [
       "<Figure size 432x288 with 1 Axes>"
      ]
     },
     "metadata": {
      "needs_background": "light"
     },
     "output_type": "display_data"
    }
   ],
   "source": [
    "plt.ylim(0, 600)\n",
    "df_add.boxplot( column = 'days_exposition')"
   ]
  },
  {
   "cell_type": "markdown",
   "metadata": {},
   "source": [
    "Я бы сказала, что необычно долгий срок продажи превышает 220 суток, а совсем выходящий за рамки превышает 500. Быстрые продажи же-это те, которые успевают уложиться в срок до 45 суток.\n",
    "\n",
    "(Для меня эти выводы кажутся странноватыми, но это может быть из-за отсуствия какого-либо опыта в области продажи/покупки недвижимости. Перед реальными выводами обязательно посоветовалась бы с теми, кто этим вопросом занимается, потому что кажется, что недвижимость не относится к собственности, которую приобретают так быстро. Это серьезная дорогая покупка, часто берется в ипотеку, а потому и выбирают недвижимость обычно небыстро. Где-то прекрасная квартира, но не лучшая инфрастуктура, а где-то отличная инфрастуктура и даже местро рядом, но сама квартира ужасной планировки или дом проблемный. Квартира или другая недвижимость кажется слишком важной покупкой, чтобы укладываться за 45 дней в четверти случаев. Кажется, что медиана должна проходить гораздо выше. Конечно, в объявлениях есть мошенники или странные подозрительные объявления-однодневки, но убирать их не хочется. К тому же следует учитывать, что пользователи могут снимать объявления чуть раньше, чем продавали квартиры. Конечно, разница в 1-2 дня ничего не решает, но вариантов может быть немало. Сначала следовало бы посоветоваться с более опытными коллегами, прежде чем совершать какие-то действия с этими данными. Дальше будем действовать из того, что ситуация нормальна)"
   ]
  },
  {
   "cell_type": "markdown",
   "metadata": {},
   "source": [
    "<div class=\"alert alert-block alert-success\">\n",
    " \n",
    "### Комментарий ревьюера\n",
    "    \n",
    "#### Успех\n",
    "    \n",
    "Очень основательные выводы получились. \n",
    "</div "
   ]
  },
  {
   "cell_type": "markdown",
   "metadata": {},
   "source": [
    "**Изучим, какие факторы больше всего влияют на общую (полную) стоимость объекта**"
   ]
  },
  {
   "cell_type": "code",
   "execution_count": 71,
   "metadata": {},
   "outputs": [
    {
     "data": {
      "text/html": [
       "<div>\n",
       "<style scoped>\n",
       "    .dataframe tbody tr th:only-of-type {\n",
       "        vertical-align: middle;\n",
       "    }\n",
       "\n",
       "    .dataframe tbody tr th {\n",
       "        vertical-align: top;\n",
       "    }\n",
       "\n",
       "    .dataframe thead th {\n",
       "        text-align: right;\n",
       "    }\n",
       "</style>\n",
       "<table border=\"1\" class=\"dataframe\">\n",
       "  <thead>\n",
       "    <tr style=\"text-align: right;\">\n",
       "      <th></th>\n",
       "      <th>last_price</th>\n",
       "      <th>total_area</th>\n",
       "      <th>living_area</th>\n",
       "      <th>kitchen_area</th>\n",
       "      <th>rooms</th>\n",
       "    </tr>\n",
       "  </thead>\n",
       "  <tbody>\n",
       "    <tr>\n",
       "      <th>last_price</th>\n",
       "      <td>1.00</td>\n",
       "      <td>0.83</td>\n",
       "      <td>0.74</td>\n",
       "      <td>0.78</td>\n",
       "      <td>0.54</td>\n",
       "    </tr>\n",
       "    <tr>\n",
       "      <th>total_area</th>\n",
       "      <td>0.83</td>\n",
       "      <td>1.00</td>\n",
       "      <td>0.94</td>\n",
       "      <td>0.87</td>\n",
       "      <td>0.78</td>\n",
       "    </tr>\n",
       "    <tr>\n",
       "      <th>living_area</th>\n",
       "      <td>0.74</td>\n",
       "      <td>0.94</td>\n",
       "      <td>1.00</td>\n",
       "      <td>0.65</td>\n",
       "      <td>0.86</td>\n",
       "    </tr>\n",
       "    <tr>\n",
       "      <th>kitchen_area</th>\n",
       "      <td>0.78</td>\n",
       "      <td>0.87</td>\n",
       "      <td>0.65</td>\n",
       "      <td>1.00</td>\n",
       "      <td>0.51</td>\n",
       "    </tr>\n",
       "    <tr>\n",
       "      <th>rooms</th>\n",
       "      <td>0.54</td>\n",
       "      <td>0.78</td>\n",
       "      <td>0.86</td>\n",
       "      <td>0.51</td>\n",
       "      <td>1.00</td>\n",
       "    </tr>\n",
       "  </tbody>\n",
       "</table>\n",
       "</div>"
      ],
      "text/plain": [
       "              last_price  total_area  living_area  kitchen_area  rooms\n",
       "last_price          1.00        0.83         0.74          0.78   0.54\n",
       "total_area          0.83        1.00         0.94          0.87   0.78\n",
       "living_area         0.74        0.94         1.00          0.65   0.86\n",
       "kitchen_area        0.78        0.87         0.65          1.00   0.51\n",
       "rooms               0.54        0.78         0.86          0.51   1.00"
      ]
     },
     "execution_count": 71,
     "metadata": {},
     "output_type": "execute_result"
    }
   ],
   "source": [
    "df_add[['last_price', 'total_area', 'living_area', 'kitchen_area', 'rooms', 'categor_floor']].corr()"
   ]
  },
  {
   "cell_type": "markdown",
   "metadata": {},
   "source": [
    "<div class=\"alert alert-block alert-danger\">\n",
    " \n",
    "### Комментарий ревьюера\n",
    "    \n",
    "#### Ошибка\n",
    "    \n",
    "А вот здесь не могу похвалить. Для месяца, года и дня недели нет смысла считать корреляцию, так как для этого параметра нет линейной связи.\n",
    "</div "
   ]
  },
  {
   "cell_type": "markdown",
   "metadata": {},
   "source": [
    "<div class=\"alert alert-block alert-info\">\n",
    "    \n",
    "### Правка"
   ]
  },
  {
   "cell_type": "markdown",
   "metadata": {},
   "source": [
    "<div class=\"alert alert-block alert-success\">\n",
    " \n",
    "# Комментарий ревьюера ver.2 \n",
    "    \n",
    "#### Успех\n",
    "    \n",
    "Так намного лучше. \n",
    "</div "
   ]
  },
  {
   "cell_type": "markdown",
   "metadata": {},
   "source": [
    " "
   ]
  },
  {
   "cell_type": "markdown",
   "metadata": {},
   "source": [
    "Искать зависимость стоимости продаваемой недвижимости от дней недели так просто через корреляцию нельзя, ведь дни недели - категориальные данные. Обычной прямой зависимости здесь просто не может быть. Поступим также, как с км до центра города: сгруппируем и построим графики. Будем искать зависимость глазами на графиках."
   ]
  },
  {
   "cell_type": "code",
   "execution_count": 95,
   "metadata": {},
   "outputs": [],
   "source": [
    "df_d = df_add[['weekday', 'month', 'year', 'last_price']]\n",
    "\n",
    "time = ['weekday', 'month', 'year']\n",
    "df_time = []\n",
    "for e in time:\n",
    "    df_sorted = df_d[[e, 'last_price']].pivot_table(index= e, values = 'last_price', aggfunc='mean').sort_values(by=e, ascending = False)\n",
    "    df_time.append(df_sorted)"
   ]
  },
  {
   "cell_type": "code",
   "execution_count": 96,
   "metadata": {},
   "outputs": [
    {
     "data": {
      "text/plain": [
       "<AxesSubplot:title={'center':'Зависимость стоимости недвижимости от дня недели'}, xlabel='weekday'>"
      ]
     },
     "execution_count": 96,
     "metadata": {},
     "output_type": "execute_result"
    },
    {
     "data": {
      "image/png": "[encoded data removed]",
      "text/plain": [
       "<Figure size 432x288 with 1 Axes>"
      ]
     },
     "metadata": {
      "needs_background": "light"
     },
     "output_type": "display_data"
    }
   ],
   "source": [
    "df_time[0].plot(grid=True, title= 'Зависимость стоимости недвижимости от дня недели')"
   ]
  },
  {
   "cell_type": "code",
   "execution_count": 97,
   "metadata": {
    "scrolled": true
   },
   "outputs": [
    {
     "data": {
      "text/plain": [
       "<AxesSubplot:title={'center':'Зависимость стоимости недвижимости от месяца'}, xlabel='month'>"
      ]
     },
     "execution_count": 97,
     "metadata": {},
     "output_type": "execute_result"
    },
    {
     "data": {
      "image/png": "[encoded data removed]",
      "text/plain": [
       "<Figure size 432x288 with 1 Axes>"
      ]
     },
     "metadata": {
      "needs_background": "light"
     },
     "output_type": "display_data"
    }
   ],
   "source": [
    "df_time[1].plot(grid=True, title= 'Зависимость стоимости недвижимости от месяца')"
   ]
  },
  {
   "cell_type": "code",
   "execution_count": 98,
   "metadata": {},
   "outputs": [
    {
     "data": {
      "text/plain": [
       "<AxesSubplot:title={'center':'Зависимость стоимости недвижимости от года'}, xlabel='year'>"
      ]
     },
     "execution_count": 98,
     "metadata": {},
     "output_type": "execute_result"
    },
    {
     "data": {
      "image/png": "[encoded data removed]",
      "text/plain": [
       "<Figure size 432x288 with 1 Axes>"
      ]
     },
     "metadata": {
      "needs_background": "light"
     },
     "output_type": "display_data"
    }
   ],
   "source": [
    "df_time[2].plot(grid=True, title= 'Зависимость стоимости недвижимости от года')"
   ]
  },
  {
   "cell_type": "markdown",
   "metadata": {},
   "source": [
    "Вывод:\n",
    "    \n",
    "Если вы хотите купить недвижимость в Санкт-Петербурге и ЛО подешевле, то лучше делать это в пятницу или субботу. Благоприятными будут и воскресенье с вторником, хотя там и немного дороже. Самым дорогим днем оказывается четверг, поэтому если речь не о покупке, а о продаже, то лучше пытаться продать свое имущество в четверг или понедельник.\n",
    "    \n",
    "Как ни странно, но пик цен приходится на декабрь. Чуть меньше на январь и сентябрь. При этом стоит вспомнить, что в празничные зимние месяцы (январь, декабрь) и предложений значительно меньше. Скорее всего, спрос повышается, а предложений не хватает, поэтому цена растет. При этом популярные по количеству объявлений месяцы июнь, август и октябрь наоборот оказываются самыми \"дешевыми\". Звучит тоже логично: чем больше предложений, тем ниже цена. Все хотят продать свой товар.\n",
    "    \n",
    "2014 год был крайне насыщен не самыми удачными для покупки жилья событиями: санкции, повышение ЦБ ключевой ставки, падение курса рубля по отношению к доллару и евро. Все это привело к вкладам в недвижимость и пику цен. В 2015 цены резко упали и продолжили падать, хоть чуть менее быстро до 2016. На ближайшие 2 года цена более-менее стабилизировалась, но в 2019 снова медленно поползла вверх. Даже интересно посмотреть, что случилось с ценами в первом полугодии 2022 года.\n",
    "    \n",
    "Все это можно учитывать при расчете рыночной цены недвижимости.\n",
    "    \n",
    "(Если честно, я бы искала зависимость между ценой за м2 и этими показателями, так мне кажется корректнее, но задание посмотреть взаимосвязь с именно полной стоимостью)."
   ]
  },
  {
   "cell_type": "code",
   "execution_count": 72,
   "metadata": {},
   "outputs": [
    {
     "data": {
      "text/plain": [
       "array([[<AxesSubplot:xlabel='last_price', ylabel='last_price'>,\n",
       "        <AxesSubplot:xlabel='total_area', ylabel='last_price'>,\n",
       "        <AxesSubplot:xlabel='living_area', ylabel='last_price'>,\n",
       "        <AxesSubplot:xlabel='kitchen_area', ylabel='last_price'>,\n",
       "        <AxesSubplot:xlabel='rooms', ylabel='last_price'>],\n",
       "       [<AxesSubplot:xlabel='last_price', ylabel='total_area'>,\n",
       "        <AxesSubplot:xlabel='total_area', ylabel='total_area'>,\n",
       "        <AxesSubplot:xlabel='living_area', ylabel='total_area'>,\n",
       "        <AxesSubplot:xlabel='kitchen_area', ylabel='total_area'>,\n",
       "        <AxesSubplot:xlabel='rooms', ylabel='total_area'>],\n",
       "       [<AxesSubplot:xlabel='last_price', ylabel='living_area'>,\n",
       "        <AxesSubplot:xlabel='total_area', ylabel='living_area'>,\n",
       "        <AxesSubplot:xlabel='living_area', ylabel='living_area'>,\n",
       "        <AxesSubplot:xlabel='kitchen_area', ylabel='living_area'>,\n",
       "        <AxesSubplot:xlabel='rooms', ylabel='living_area'>],\n",
       "       [<AxesSubplot:xlabel='last_price', ylabel='kitchen_area'>,\n",
       "        <AxesSubplot:xlabel='total_area', ylabel='kitchen_area'>,\n",
       "        <AxesSubplot:xlabel='living_area', ylabel='kitchen_area'>,\n",
       "        <AxesSubplot:xlabel='kitchen_area', ylabel='kitchen_area'>,\n",
       "        <AxesSubplot:xlabel='rooms', ylabel='kitchen_area'>],\n",
       "       [<AxesSubplot:xlabel='last_price', ylabel='rooms'>,\n",
       "        <AxesSubplot:xlabel='total_area', ylabel='rooms'>,\n",
       "        <AxesSubplot:xlabel='living_area', ylabel='rooms'>,\n",
       "        <AxesSubplot:xlabel='kitchen_area', ylabel='rooms'>,\n",
       "        <AxesSubplot:xlabel='rooms', ylabel='rooms'>]], dtype=object)"
      ]
     },
     "execution_count": 72,
     "metadata": {},
     "output_type": "execute_result"
    },
    {
     "data": {
      "image/png": "[encoded data removed]",
      "text/plain": [
       "<Figure size 648x648 with 25 Axes>"
      ]
     },
     "metadata": {
      "needs_background": "light"
     },
     "output_type": "display_data"
    }
   ],
   "source": [
    "pd.plotting.scatter_matrix(df_add[['last_price', 'total_area', 'living_area', 'kitchen_area', 'rooms', 'categor_floor']], figsize=(9, 9)) "
   ]
  },
  {
   "cell_type": "code",
   "execution_count": 42,
   "metadata": {},
   "outputs": [
    {
     "data": {
      "text/plain": [
       "<AxesSubplot:xlabel='total_area', ylabel='last_price'>"
      ]
     },
     "execution_count": 42,
     "metadata": {},
     "output_type": "execute_result"
    },
    {
     "data": {
      "image/png": "[encoded data removed]",
      "text/plain": [
       "<Figure size 432x288 with 1 Axes>"
      ]
     },
     "metadata": {
      "needs_background": "light"
     },
     "output_type": "display_data"
    }
   ],
   "source": [
    "df_add.plot(x='total_area', y='last_price', kind='scatter', grid=True) "
   ]
  },
  {
   "cell_type": "code",
   "execution_count": 43,
   "metadata": {
    "scrolled": true
   },
   "outputs": [
    {
     "data": {
      "text/plain": [
       "<AxesSubplot:xlabel='living_area', ylabel='last_price'>"
      ]
     },
     "execution_count": 43,
     "metadata": {},
     "output_type": "execute_result"
    },
    {
     "data": {
      "image/png": "[encoded data removed]",
      "text/plain": [
       "<Figure size 432x288 with 1 Axes>"
      ]
     },
     "metadata": {
      "needs_background": "light"
     },
     "output_type": "display_data"
    }
   ],
   "source": [
    "df_add.plot(x='living_area', y='last_price', kind='scatter', grid=True) "
   ]
  },
  {
   "cell_type": "code",
   "execution_count": 44,
   "metadata": {},
   "outputs": [
    {
     "data": {
      "text/plain": [
       "<AxesSubplot:xlabel='kitchen_area', ylabel='last_price'>"
      ]
     },
     "execution_count": 44,
     "metadata": {},
     "output_type": "execute_result"
    },
    {
     "data": {
      "image/png": "[encoded data removed]",
      "text/plain": [
       "<Figure size 432x288 with 1 Axes>"
      ]
     },
     "metadata": {
      "needs_background": "light"
     },
     "output_type": "display_data"
    }
   ],
   "source": [
    "df_add.plot(x='kitchen_area', y='last_price', kind='scatter', grid=True)"
   ]
  },
  {
   "cell_type": "code",
   "execution_count": 45,
   "metadata": {},
   "outputs": [
    {
     "data": {
      "text/plain": [
       "<AxesSubplot:xlabel='rooms', ylabel='last_price'>"
      ]
     },
     "execution_count": 45,
     "metadata": {},
     "output_type": "execute_result"
    },
    {
     "data": {
      "image/png": "[encoded data removed]",
      "text/plain": [
       "<Figure size 432x288 with 1 Axes>"
      ]
     },
     "metadata": {
      "needs_background": "light"
     },
     "output_type": "display_data"
    }
   ],
   "source": [
    "df_add.plot(x='rooms', y='last_price', kind='scatter', grid=True)"
   ]
  },
  {
   "cell_type": "code",
   "execution_count": 46,
   "metadata": {},
   "outputs": [
    {
     "data": {
      "text/plain": [
       "<AxesSubplot:xlabel='total_area', ylabel='last_price'>"
      ]
     },
     "execution_count": 46,
     "metadata": {},
     "output_type": "execute_result"
    },
    {
     "data": {
      "image/png": "[encoded data removed]",
      "text/plain": [
       "<Figure size 432x288 with 1 Axes>"
      ]
     },
     "metadata": {
      "needs_background": "light"
     },
     "output_type": "display_data"
    }
   ],
   "source": [
    "df_add.plot(x='total_area', y='last_price', kind='scatter', grid=True) "
   ]
  },
  {
   "cell_type": "markdown",
   "metadata": {},
   "source": [
    "Уже заметны довольно очевидные вещи: чем больше площадь квартиры, тем выше цена. Это видно и на графике, и в таблице коэффициентов корреляции Пирсона. Высокая прямолинейная зависимость между общей площадью и ценой с коэффицентом в 0,83. Значит, при увеличении площади квартиры увеличивается и цена. Логично. Аналогичная зависимость прослеживается и между ценой и жилой площадью/площадью кухни. Хоть она и чуть слабее общей, но вполне ожидаемо (ведь общая площадь прямо влиет на жилую и кухонную площадь) сильно влияет на значение цены с коэффициентами 0,74 и 0,78 соотвественно. Количество комнат умерено влияет на цену с коэффициентом 0,54. А вот дни недели, месеца, года демонстрируют либо крайне слабую обратную зависимость, либо и вовсе ее отсуствие. Здесь она скорее отсуствует. Ну или просто нелинейная.\n",
    "\n",
    "Поближе построены только те графики, где можно увидеть заметную и высокую зависимость."
   ]
  },
  {
   "cell_type": "markdown",
   "metadata": {},
   "source": [
    "<div class=\"alert alert-block alert-success\">\n",
    " \n",
    "### Комментарий ревьюера\n",
    "    \n",
    "#### Успех\n",
    "    \n",
    "И снова графики хороший с отличными выводами. \n",
    "</div "
   ]
  },
  {
   "cell_type": "code",
   "execution_count": 47,
   "metadata": {},
   "outputs": [
    {
     "data": {
      "image/png": "[encoded data removed]",
      "text/plain": [
       "<Figure size 432x288 with 1 Axes>"
      ]
     },
     "metadata": {
      "needs_background": "light"
     },
     "output_type": "display_data"
    }
   ],
   "source": [
    "xs = df_add['total_area']\n",
    "ys = df_add['last_price'].apply( np.log )\n",
    "pd.DataFrame(np.array([xs,ys]).T).plot.scatter(0, 1, s=12, grid=True, alpha=1)\n",
    "plt.xlabel('Общая площадь')\n",
    "plt.ylabel('Цена')\n",
    "plt.show()"
   ]
  },
  {
   "cell_type": "code",
   "execution_count": 48,
   "metadata": {},
   "outputs": [
    {
     "data": {
      "image/png": "[encoded data removed]",
      "text/plain": [
       "<Figure size 432x288 with 1 Axes>"
      ]
     },
     "metadata": {
      "needs_background": "light"
     },
     "output_type": "display_data"
    }
   ],
   "source": [
    "xs = df_add['month']\n",
    "ys = df_add['last_price'].apply( np.log )\n",
    "pd.DataFrame(np.array([xs,ys]).T).plot.scatter(0, 1, s=12, grid=True, alpha=1)\n",
    "plt.xlabel('Общая площадь')\n",
    "plt.ylabel('Месяц')\n",
    "plt.show()"
   ]
  },
  {
   "cell_type": "markdown",
   "metadata": {},
   "source": [
    "Хотелось как-то визуализировать корреляцию. Результат получился не менее очевидным, нежели обычные графики. Очевидная сильная зависимость на графике и ничего интересного на графике с месяцами."
   ]
  },
  {
   "cell_type": "markdown",
   "metadata": {},
   "source": [
    "**Посчитаем среднюю цену одного квадратного метра в 10 населённых пунктах с наибольшим числом объявлений. Выделим населённые пункты с самой высокой и низкой стоимостью квадратного метра. Эти данные будем искать по имени в столбце locality_name**"
   ]
  },
  {
   "cell_type": "code",
   "execution_count": 49,
   "metadata": {},
   "outputs": [
    {
     "data": {
      "text/html": [
       "<div>\n",
       "<style scoped>\n",
       "    .dataframe tbody tr th:only-of-type {\n",
       "        vertical-align: middle;\n",
       "    }\n",
       "\n",
       "    .dataframe tbody tr th {\n",
       "        vertical-align: top;\n",
       "    }\n",
       "\n",
       "    .dataframe thead th {\n",
       "        text-align: right;\n",
       "    }\n",
       "</style>\n",
       "<table border=\"1\" class=\"dataframe\">\n",
       "  <thead>\n",
       "    <tr style=\"text-align: right;\">\n",
       "      <th></th>\n",
       "      <th>price</th>\n",
       "      <th>total_area</th>\n",
       "    </tr>\n",
       "    <tr>\n",
       "      <th>locality_name</th>\n",
       "      <th></th>\n",
       "      <th></th>\n",
       "    </tr>\n",
       "  </thead>\n",
       "  <tbody>\n",
       "    <tr>\n",
       "      <th>Санкт-Петербург</th>\n",
       "      <td>110313.70</td>\n",
       "      <td>14383</td>\n",
       "    </tr>\n",
       "    <tr>\n",
       "      <th>Пушкин</th>\n",
       "      <td>103428.49</td>\n",
       "      <td>345</td>\n",
       "    </tr>\n",
       "    <tr>\n",
       "      <th>деревня Кудрово</th>\n",
       "      <td>92702.22</td>\n",
       "      <td>262</td>\n",
       "    </tr>\n",
       "    <tr>\n",
       "      <th>поселок Парголово</th>\n",
       "      <td>90442.55</td>\n",
       "      <td>301</td>\n",
       "    </tr>\n",
       "    <tr>\n",
       "      <th>поселок Мурино</th>\n",
       "      <td>86308.31</td>\n",
       "      <td>492</td>\n",
       "    </tr>\n",
       "    <tr>\n",
       "      <th>Петергоф</th>\n",
       "      <td>84480.94</td>\n",
       "      <td>197</td>\n",
       "    </tr>\n",
       "    <tr>\n",
       "      <th>поселок Шушары</th>\n",
       "      <td>78886.41</td>\n",
       "      <td>404</td>\n",
       "    </tr>\n",
       "    <tr>\n",
       "      <th>Колпино</th>\n",
       "      <td>75344.09</td>\n",
       "      <td>328</td>\n",
       "    </tr>\n",
       "    <tr>\n",
       "      <th>Гатчина</th>\n",
       "      <td>68627.34</td>\n",
       "      <td>292</td>\n",
       "    </tr>\n",
       "    <tr>\n",
       "      <th>Всеволожск</th>\n",
       "      <td>67401.62</td>\n",
       "      <td>369</td>\n",
       "    </tr>\n",
       "  </tbody>\n",
       "</table>\n",
       "</div>"
      ],
      "text/plain": [
       "                      price  total_area\n",
       "locality_name                          \n",
       "Санкт-Петербург   110313.70       14383\n",
       "Пушкин            103428.49         345\n",
       "деревня Кудрово    92702.22         262\n",
       "поселок Парголово  90442.55         301\n",
       "поселок Мурино     86308.31         492\n",
       "Петергоф           84480.94         197\n",
       "поселок Шушары     78886.41         404\n",
       "Колпино            75344.09         328\n",
       "Гатчина            68627.34         292\n",
       "Всеволожск         67401.62         369"
      ]
     },
     "execution_count": 49,
     "metadata": {},
     "output_type": "execute_result"
    }
   ],
   "source": [
    "df_10 = df_add.pivot_table(index='locality_name', values = ['total_area', 'price'],\n",
    "                               aggfunc={'total_area': 'count',\n",
    "                                        'price': 'mean'}).sort_values(by='total_area', ascending = False).head(10)\n",
    "\n",
    "df_10 = df_10[df_10['total_area']>=197]\n",
    "\n",
    "len(df_10) #проверка, чтобы не оказалось 2х или 3х территорий с количеством объявлений 197.\n",
    "\n",
    "df_10.sort_values(by='price', ascending=False)"
   ]
  },
  {
   "cell_type": "markdown",
   "metadata": {},
   "source": [
    "<div class=\"alert alert-block alert-success\">\n",
    " \n",
    "### Комментарий ревьюера\n",
    "    \n",
    "#### Успех\n",
    "    \n",
    "Рейтинг топ-10 составлен верно. \n",
    "</div "
   ]
  },
  {
   "cell_type": "markdown",
   "metadata": {},
   "source": [
    "Ожидаемо, самый дорогой м2 оказался в Питере. Да и количество объявлений там в разы больше, чем в других населенных пунктах. А купить квартиру подешевле можно во Всеволжске со средней ценой за м2 в 67,4 тыс. рублей."
   ]
  },
  {
   "cell_type": "markdown",
   "metadata": {},
   "source": [
    "Теперь выделим квартиры в Санкт-Петербурге с помощью столбца locality_name и вычислим среднюю цену каждого километра. Посмотрим, как стоимость объектов зависит от расстояния до центра города.\n"
   ]
  },
  {
   "cell_type": "markdown",
   "metadata": {},
   "source": [
    "<div class=\"alert alert-block alert-danger\">\n",
    " \n",
    "### Комментарий ревьюера\n",
    "    \n",
    "#### Ошибка\n",
    "\n",
    "А вот здесь надо было поступить чуть иначе. Зависимость тут надо считать не через корреляцию, а по графику. Для эттго построй сводную таблицу со средней ценой за целый км. Далее, ты ее визуализируешь и увидишь, как сильно меняется цена в зависимости от центра. \n",
    "</div "
   ]
  },
  {
   "cell_type": "code",
   "execution_count": 50,
   "metadata": {},
   "outputs": [
    {
     "name": "stdout",
     "output_type": "stream",
     "text": [
      "14589.980463068609\n"
     ]
    },
    {
     "data": {
      "text/html": [
       "<div>\n",
       "<style scoped>\n",
       "    .dataframe tbody tr th:only-of-type {\n",
       "        vertical-align: middle;\n",
       "    }\n",
       "\n",
       "    .dataframe tbody tr th {\n",
       "        vertical-align: top;\n",
       "    }\n",
       "\n",
       "    .dataframe thead th {\n",
       "        text-align: right;\n",
       "    }\n",
       "</style>\n",
       "<table border=\"1\" class=\"dataframe\">\n",
       "  <thead>\n",
       "    <tr style=\"text-align: right;\">\n",
       "      <th></th>\n",
       "      <th>distance_center_in_km</th>\n",
       "      <th>price</th>\n",
       "    </tr>\n",
       "  </thead>\n",
       "  <tbody>\n",
       "    <tr>\n",
       "      <th>distance_center_in_km</th>\n",
       "      <td>1.00</td>\n",
       "      <td>-0.35</td>\n",
       "    </tr>\n",
       "    <tr>\n",
       "      <th>price</th>\n",
       "      <td>-0.35</td>\n",
       "      <td>1.00</td>\n",
       "    </tr>\n",
       "  </tbody>\n",
       "</table>\n",
       "</div>"
      ],
      "text/plain": [
       "                       distance_center_in_km  price\n",
       "distance_center_in_km                   1.00  -0.35\n",
       "price                                  -0.35   1.00"
      ]
     },
     "execution_count": 50,
     "metadata": {},
     "output_type": "execute_result"
    }
   ],
   "source": [
    "df_spb = df_add.loc[df_add['locality_name'] == 'Санкт-Петербург']\n",
    "df_spb = df_spb[['distance_center_in_km','price']]\n",
    "df_spb = df_spb.loc[~df_spb['distance_center_in_km'].isna()]\n",
    "print((df_spb['price']/df_spb['distance_center_in_km']).mean())\n",
    "df_spb.corr()"
   ]
  },
  {
   "cell_type": "markdown",
   "metadata": {},
   "source": [
    "Средняя ценность 1км до центра города в Санкт-Петербурге составляет 14,5 тыс рублей. Зависимость между ценой м2 и расстоянием от центра города обратная умеренная. Выглядит логично: чем дальше недвижимость от центра города, тем она дешевле."
   ]
  },
  {
   "cell_type": "markdown",
   "metadata": {},
   "source": [
    "<div class=\"alert alert-block alert-info\">\n",
    "    \n",
    "### Правка"
   ]
  },
  {
   "cell_type": "markdown",
   "metadata": {},
   "source": [
    "Строим сводную таблицу со средней ценой за целый км до центра города."
   ]
  },
  {
   "cell_type": "code",
   "execution_count": 56,
   "metadata": {},
   "outputs": [],
   "source": [
    "df_spb['distance_center_in_km'] = round(df_spb['distance_center_in_km']) #в этом столбце есть nan, которые не переводятся\n",
    "                                                           # в int(). Поэтому просто округляю. В данном случае это не критично."
   ]
  },
  {
   "cell_type": "code",
   "execution_count": 65,
   "metadata": {},
   "outputs": [
    {
     "data": {
      "text/html": [
       "<div>\n",
       "<style scoped>\n",
       "    .dataframe tbody tr th:only-of-type {\n",
       "        vertical-align: middle;\n",
       "    }\n",
       "\n",
       "    .dataframe tbody tr th {\n",
       "        vertical-align: top;\n",
       "    }\n",
       "\n",
       "    .dataframe thead th {\n",
       "        text-align: right;\n",
       "    }\n",
       "</style>\n",
       "<table border=\"1\" class=\"dataframe\">\n",
       "  <thead>\n",
       "    <tr style=\"text-align: right;\">\n",
       "      <th></th>\n",
       "      <th>price</th>\n",
       "    </tr>\n",
       "    <tr>\n",
       "      <th>distance_center_in_km</th>\n",
       "      <th></th>\n",
       "    </tr>\n",
       "  </thead>\n",
       "  <tbody>\n",
       "    <tr>\n",
       "      <th>29.00</th>\n",
       "      <td>72953.50</td>\n",
       "    </tr>\n",
       "    <tr>\n",
       "      <th>28.00</th>\n",
       "      <td>81161.86</td>\n",
       "    </tr>\n",
       "    <tr>\n",
       "      <th>27.00</th>\n",
       "      <td>132115.50</td>\n",
       "    </tr>\n",
       "    <tr>\n",
       "      <th>26.00</th>\n",
       "      <td>89451.22</td>\n",
       "    </tr>\n",
       "    <tr>\n",
       "      <th>25.00</th>\n",
       "      <td>90883.41</td>\n",
       "    </tr>\n",
       "    <tr>\n",
       "      <th>24.00</th>\n",
       "      <td>85445.78</td>\n",
       "    </tr>\n",
       "    <tr>\n",
       "      <th>23.00</th>\n",
       "      <td>92213.41</td>\n",
       "    </tr>\n",
       "    <tr>\n",
       "      <th>22.00</th>\n",
       "      <td>89659.79</td>\n",
       "    </tr>\n",
       "    <tr>\n",
       "      <th>21.00</th>\n",
       "      <td>91650.45</td>\n",
       "    </tr>\n",
       "    <tr>\n",
       "      <th>20.00</th>\n",
       "      <td>102193.87</td>\n",
       "    </tr>\n",
       "  </tbody>\n",
       "</table>\n",
       "</div>"
      ],
      "text/plain": [
       "                          price\n",
       "distance_center_in_km          \n",
       "29.00                  72953.50\n",
       "28.00                  81161.86\n",
       "27.00                 132115.50\n",
       "26.00                  89451.22\n",
       "25.00                  90883.41\n",
       "24.00                  85445.78\n",
       "23.00                  92213.41\n",
       "22.00                  89659.79\n",
       "21.00                  91650.45\n",
       "20.00                 102193.87"
      ]
     },
     "execution_count": 65,
     "metadata": {},
     "output_type": "execute_result"
    }
   ],
   "source": [
    "df_spb.pivot_table (index='distance_center_in_km', values = 'price', aggfunc='mean').sort_values(by='distance_center_in_km', ascending = False).head(10)"
   ]
  },
  {
   "cell_type": "code",
   "execution_count": 70,
   "metadata": {},
   "outputs": [
    {
     "data": {
      "text/plain": [
       "<AxesSubplot:title={'center':'Зависимость стоимости м2 от расстония до центра города'}, xlabel='distance_center_in_km', ylabel='price'>"
      ]
     },
     "execution_count": 70,
     "metadata": {},
     "output_type": "execute_result"
    },
    {
     "data": {
      "image/png": "[encoded data removed]",
      "text/plain": [
       "<Figure size 432x288 with 1 Axes>"
      ]
     },
     "metadata": {
      "needs_background": "light"
     },
     "output_type": "display_data"
    }
   ],
   "source": [
    "df_spb.sort_values(by='distance_center_in_km').plot(x='distance_center_in_km', y='price', kind='scatter', grid=True, title= 'Зависимость стоимости м2 от расстония до центра города')"
   ]
  },
  {
   "cell_type": "markdown",
   "metadata": {},
   "source": [
    "<div class=\"alert alert-block alert-info\">\n",
    "    \n",
    "### Вывод по правке\n",
    "\n",
    "На этом графике действительно хорошо видно, как с отдалением от центра города падает и цена за м2. В промежутке от 25 до 30 км от центра есть только одно предлодение, стремящиеся к стоимость 200 тыс рублей за м2."
   ]
  },
  {
   "cell_type": "markdown",
   "metadata": {},
   "source": [
    "<div class=\"alert alert-block alert-success\">\n",
    " \n",
    "### Комментарий ревьюера\n",
    "    \n",
    "#### Успех\n",
    "    \n",
    "Отлично и тут. \n",
    "</div "
   ]
  },
  {
   "cell_type": "markdown",
   "metadata": {},
   "source": [
    "### Общий вывод"
   ]
  },
  {
   "cell_type": "markdown",
   "metadata": {},
   "source": [
    "Основными показателями, влиящими на стоимость недвижимости и которые следует учитывать при расчете цены:\n",
    "\n",
    "1. Общая площадь (высокая прямая зависимость, коэффициент корреляции Пирсона - 0,83);\n",
    "\n",
    "2. Площадь кухни (высокая прямая зависимость, коэффициент корреляции Пирсона - 0,78);\n",
    "\n",
    "3. Жилая площадь (высокая прямая зависимость, коэффициент корреляции Пирсона - 0,74);\n",
    "\n",
    "4. Количество комнат (заметная прямая зависимость, коэффициент корреляции Пирсона - 0,54);\n",
    "\n",
    "5. Расстояние до центра города (обратная зависимость).\n",
    "\n",
    "Как интересную особенность можно отметить, что пользовательская активность в части создания новых объявлений о продаже падает в субботу, воскресенье. Также менее активными других мясяцев выходят январь, май и декабрь.\n",
    "\n",
    "Чаще всего недвижимость в Санкт-Петербурге и ЛО имеет следующие характеристики:\n",
    "\n",
    "1. Высота потолков 2,2м;\n",
    "\n",
    "2. Пики жилой площади появляются на значениях 18, 25, 30м2;\n",
    "\n",
    "3. Большая часть цен недвижимости за м2 составляет 98 тысяч рублей;\n",
    "\n",
    "4. Самые популярные предложения встречаются на этажах до 4 включительно, но последний этаж встречается чаще первого;\n",
    "\n",
    "5. Самая популярная этажность зданий, где продается недвижимость - 7 и 9-11 этажей;\n",
    "\n",
    "6. В среднем недвижимость в Санкт-Петербурге и ЛО находится в 12-24км до аэропорта, 9 и 18км от центра города и 0,5км от ближайшего парка;\n",
    "\n",
    "7. Минимум в половине случаев объявление о продаже недвижимости \"висит\" на сайте не больше 100 дней."
   ]
  },
  {
   "cell_type": "markdown",
   "metadata": {},
   "source": [
    "<div class=\"alert alert-block alert-success\">\n",
    " \n",
    "### Комментарий ревьюера\n",
    "    \n",
    "#### Успех\n",
    "    \n",
    "Итоговый вывод, как идеальное дополнение для твоего проекта. Тут ты описала все то, что обнаружила в ходе исследования. Отлично. \n",
    "</div "
   ]
  },
  {
   "cell_type": "markdown",
   "metadata": {},
   "source": [
    "<div class=\"alert alert-block alert-info\">\n",
    "\n",
    "## Итоговый комментарии от ревьюера:\n",
    "    \n",
    "#### Успех\n",
    "\n",
    "Поздравляю тебя с выполнением твоего проекта по Исследовательскому анализу. Мне показалось, что работа выполненна прекрасно и ты здорово постаралась. Понравилось, что ты хорошо владеешь отличными навыками Предобработки данных и построения графиков. А еще особенно ценно, что ты везде пишешь аргументацию своим действиям. Так, если проект попадет в руки незнакомому человеку, он сможет разобраться. Это тебе очень пригодится в будущем.\n",
    "\n",
    "В проекте осталось небольшое замечение:\n",
    "    \n",
    "* Требуется уброать подсчет корреляции для дня, месяца и года продажи.\n",
    "* Пересомтреть вопрос нахожденяи зависимости от центра.\n",
    "       \n",
    "Еще я оставил рекомендации. Очень надеюсь, что ты учтешь их в этом и последующих проектах.\n",
    "    \n",
    "    \n",
    "Жду проект после доработки. Уверен, ты справишься.\n",
    "</div>"
   ]
  },
  {
   "cell_type": "markdown",
   "metadata": {},
   "source": [
    "**Чек-лист готовности проекта**\n",
    "\n",
    "Поставьте 'x' в выполненных пунктах. Далее нажмите Shift+Enter."
   ]
  },
  {
   "cell_type": "markdown",
   "metadata": {},
   "source": [
    "- [x]  открыт файл\n",
    "- [x]  файлы изучены (выведены первые строки, метод `info()`, гистограммы и т.д.)\n",
    "- [x]  определены пропущенные значения\n",
    "- [x]  заполнены пропущенные значения там, где это возможно\n",
    "- [x]  есть пояснение, какие пропущенные значения обнаружены\n",
    "- [x]  изменены типы данных\n",
    "- [x]  есть пояснение, в каких столбцах изменены типы и почему\n",
    "- [x]  устранены неявные дубликаты в названиях населённых пунктов\n",
    "- [x]  устранены редкие и выбивающиеся значения (аномалии) во всех столбцах\n",
    "- [x]  посчитано и добавлено в таблицу: цена одного квадратного метра\n",
    "- [x]  посчитано и добавлено в таблицу: день публикации объявления (0 - понедельник, 1 - вторник и т.д.)\n",
    "- [x]  посчитано и добавлено в таблицу: месяц публикации объявления\n",
    "- [x]  посчитано и добавлено в таблицу: год публикации объявления\n",
    "- [x]  посчитано и добавлено в таблицу: тип этажа квартиры (значения — «первый», «последний», «другой»)\n",
    "- [x]  посчитано и добавлено в таблицу: расстояние в км до центра города\n",
    "- [x]  изучены и описаны следующие параметры:\n",
    "        - общая площадь;\n",
    "        - жилая площадь;\n",
    "        - площадь кухни;\n",
    "        - цена объекта;\n",
    "        - количество комнат;\n",
    "        - высота потолков;\n",
    "        - этаж квартиры;\n",
    "        - тип этажа квартиры («первый», «последний», «другой»);\n",
    "        - общее количество этажей в доме;\n",
    "        - расстояние до центра города в метрах;\n",
    "        - расстояние до ближайшего аэропорта;\n",
    "        - расстояние до ближайшего парка;\n",
    "        - день и месяц публикации объявления\n",
    "- [x]  построены гистограммы для каждого параметра\n",
    "- [x]  выполнено задание: \"Изучите, как быстро продавались квартиры (столбец days_exposition). Этот параметр показывает, сколько дней «висело» каждое объявление.\n",
    "    - Постройте гистограмму.\n",
    "    - Посчитайте среднее и медиану.\n",
    "    - В ячейке типа markdown опишите, сколько обычно занимает продажа. Какие продажи можно считать быстрыми, а какие — необычно долгими?\"\n",
    "- [x]  выполнено задание: \"Какие факторы больше всего влияют на общую (полную) стоимость объекта? Постройте графики, которые покажут зависимость цены от указанных ниже параметров. Для подготовки данных перед визуализацией вы можете использовать сводные таблицы.\"\n",
    "        - общей площади;\n",
    "        - жилой площади;\n",
    "        - площади кухни;\n",
    "        - количество комнат;\n",
    "        - типа этажа, на котором расположена квартира (первый, последний, другой);\n",
    "        - даты размещения (день недели, месяц, год);\n",
    "- [x]  выполнено задание: \"Посчитайте среднюю цену одного квадратного метра в 10 населённых пунктах с наибольшим числом объявлений. Выделите населённые пункты с самой высокой и низкой стоимостью квадратного метра. Эти данные можно найти по имени в столбце `locality_name`.\"\n",
    "- [x]  выполнено задание: \"Ранее вы посчитали расстояние до центра в километрах. Теперь выделите квартиры в Санкт-Петербурге с помощью столбца `locality_name` и вычислите среднюю цену каждого километра. Опишите, как стоимость объектов зависит от расстояния до центра города.\"\n",
    "- [x]  в каждом этапе есть промежуточные выводы\n",
    "- [x]  есть общий вывод"
   ]
  }
 ],
 "metadata": {
  "ExecuteTimeLog": [
   {
    "duration": 843,
    "start_time": "2022-09-18T08:37:22.643Z"
   },
   {
    "duration": 279,
    "start_time": "2022-09-18T08:42:01.693Z"
   },
   {
    "duration": 170,
    "start_time": "2022-09-18T08:43:38.092Z"
   },
   {
    "duration": 21,
    "start_time": "2022-09-18T08:45:32.960Z"
   },
   {
    "duration": 18,
    "start_time": "2022-09-18T08:51:26.171Z"
   },
   {
    "duration": 22429,
    "start_time": "2022-09-18T08:55:59.110Z"
   },
   {
    "duration": 1827,
    "start_time": "2022-09-18T08:58:24.145Z"
   },
   {
    "duration": 1842,
    "start_time": "2022-09-18T08:58:57.649Z"
   },
   {
    "duration": 2047,
    "start_time": "2022-09-18T08:59:32.737Z"
   },
   {
    "duration": 97,
    "start_time": "2022-09-18T09:00:20.638Z"
   },
   {
    "duration": 14,
    "start_time": "2022-09-18T09:00:32.888Z"
   },
   {
    "duration": 226,
    "start_time": "2022-09-18T09:15:53.343Z"
   },
   {
    "duration": 604,
    "start_time": "2022-09-18T09:16:48.145Z"
   },
   {
    "duration": 120,
    "start_time": "2022-09-18T09:16:50.372Z"
   },
   {
    "duration": 14,
    "start_time": "2022-09-18T09:16:54.645Z"
   },
   {
    "duration": 219,
    "start_time": "2022-09-18T09:16:57.143Z"
   },
   {
    "duration": 1932,
    "start_time": "2022-09-18T09:17:27.376Z"
   },
   {
    "duration": 109,
    "start_time": "2022-09-18T09:22:01.047Z"
   },
   {
    "duration": 11,
    "start_time": "2022-09-18T09:26:59.245Z"
   },
   {
    "duration": 9,
    "start_time": "2022-09-18T09:27:20.147Z"
   },
   {
    "duration": 8,
    "start_time": "2022-09-18T09:27:24.477Z"
   },
   {
    "duration": 8,
    "start_time": "2022-09-18T09:27:28.907Z"
   },
   {
    "duration": 8,
    "start_time": "2022-09-18T09:27:34.348Z"
   },
   {
    "duration": 8,
    "start_time": "2022-09-18T09:28:03.866Z"
   },
   {
    "duration": 171,
    "start_time": "2022-09-18T09:37:10.776Z"
   },
   {
    "duration": 120,
    "start_time": "2022-09-18T09:37:26.594Z"
   },
   {
    "duration": 186,
    "start_time": "2022-09-18T09:38:03.363Z"
   },
   {
    "duration": 127,
    "start_time": "2022-09-18T09:38:09.581Z"
   },
   {
    "duration": 90,
    "start_time": "2022-09-18T09:39:44.990Z"
   },
   {
    "duration": 146,
    "start_time": "2022-09-18T09:40:11.629Z"
   },
   {
    "duration": 133,
    "start_time": "2022-09-18T09:40:17.578Z"
   },
   {
    "duration": 91,
    "start_time": "2022-09-18T09:44:57.672Z"
   },
   {
    "duration": 133,
    "start_time": "2022-09-18T09:45:19.811Z"
   },
   {
    "duration": 157,
    "start_time": "2022-09-18T09:47:42.614Z"
   },
   {
    "duration": 141,
    "start_time": "2022-09-18T09:53:56.041Z"
   },
   {
    "duration": 118,
    "start_time": "2022-09-18T09:56:38.766Z"
   },
   {
    "duration": 109,
    "start_time": "2022-09-18T10:03:29.819Z"
   },
   {
    "duration": 35,
    "start_time": "2022-09-18T10:06:32.094Z"
   },
   {
    "duration": 48,
    "start_time": "2022-09-18T10:07:19.761Z"
   },
   {
    "duration": 31,
    "start_time": "2022-09-18T10:08:07.544Z"
   },
   {
    "duration": 12,
    "start_time": "2022-09-18T10:08:50.645Z"
   },
   {
    "duration": 8,
    "start_time": "2022-09-18T10:09:28.535Z"
   },
   {
    "duration": 10,
    "start_time": "2022-09-18T10:09:38.390Z"
   },
   {
    "duration": 46,
    "start_time": "2022-09-18T10:17:58.357Z"
   },
   {
    "duration": 40,
    "start_time": "2022-09-18T10:18:04.133Z"
   },
   {
    "duration": 3,
    "start_time": "2022-09-18T10:44:10.072Z"
   },
   {
    "duration": 80,
    "start_time": "2022-09-18T10:48:29.243Z"
   },
   {
    "duration": 70,
    "start_time": "2022-09-18T11:06:56.316Z"
   },
   {
    "duration": 12,
    "start_time": "2022-09-18T11:12:00.572Z"
   },
   {
    "duration": 10,
    "start_time": "2022-09-18T11:12:50.496Z"
   },
   {
    "duration": 13,
    "start_time": "2022-09-18T11:13:03.504Z"
   },
   {
    "duration": 151,
    "start_time": "2022-09-18T11:29:14.360Z"
   },
   {
    "duration": 8,
    "start_time": "2022-09-18T11:29:39.408Z"
   },
   {
    "duration": 11,
    "start_time": "2022-09-18T11:29:46.948Z"
   },
   {
    "duration": 136,
    "start_time": "2022-09-18T11:29:51.252Z"
   },
   {
    "duration": 136,
    "start_time": "2022-09-18T11:30:09.403Z"
   },
   {
    "duration": 150,
    "start_time": "2022-09-18T11:30:19.362Z"
   },
   {
    "duration": 7,
    "start_time": "2022-09-18T11:33:42.109Z"
   },
   {
    "duration": 486,
    "start_time": "2022-09-18T11:33:58.949Z"
   },
   {
    "duration": 129,
    "start_time": "2022-09-18T11:34:43.148Z"
   },
   {
    "duration": 7,
    "start_time": "2022-09-18T11:35:35.102Z"
   },
   {
    "duration": 154,
    "start_time": "2022-09-18T11:35:45.869Z"
   },
   {
    "duration": 104,
    "start_time": "2022-09-18T11:35:53.860Z"
   },
   {
    "duration": 123,
    "start_time": "2022-09-18T11:40:59.500Z"
   },
   {
    "duration": 126,
    "start_time": "2022-09-18T11:41:18.660Z"
   },
   {
    "duration": 102,
    "start_time": "2022-09-18T11:41:23.959Z"
   },
   {
    "duration": 117,
    "start_time": "2022-09-18T11:41:38.906Z"
   },
   {
    "duration": 131,
    "start_time": "2022-09-18T11:43:49.009Z"
   },
   {
    "duration": 219,
    "start_time": "2022-09-18T11:44:22.367Z"
   },
   {
    "duration": 227,
    "start_time": "2022-09-18T11:44:41.314Z"
   },
   {
    "duration": 417,
    "start_time": "2022-09-18T11:50:05.264Z"
   },
   {
    "duration": 320,
    "start_time": "2022-09-18T11:50:53.768Z"
   },
   {
    "duration": 419,
    "start_time": "2022-09-18T11:55:39.023Z"
   },
   {
    "duration": 452,
    "start_time": "2022-09-18T11:55:45.760Z"
   },
   {
    "duration": 330,
    "start_time": "2022-09-18T11:56:03.080Z"
   },
   {
    "duration": 325,
    "start_time": "2022-09-18T11:56:48.668Z"
   },
   {
    "duration": 465,
    "start_time": "2022-09-18T11:57:00.138Z"
   },
   {
    "duration": 372,
    "start_time": "2022-09-18T11:57:33.268Z"
   },
   {
    "duration": 392,
    "start_time": "2022-09-18T12:01:41.464Z"
   },
   {
    "duration": 37,
    "start_time": "2022-09-18T12:18:56.700Z"
   },
   {
    "duration": 42,
    "start_time": "2022-09-18T12:21:33.676Z"
   },
   {
    "duration": 9,
    "start_time": "2022-09-18T12:24:24.771Z"
   },
   {
    "duration": 113,
    "start_time": "2022-09-18T12:31:54.999Z"
   },
   {
    "duration": 131,
    "start_time": "2022-09-18T12:32:13.151Z"
   },
   {
    "duration": 105,
    "start_time": "2022-09-18T12:33:09.303Z"
   },
   {
    "duration": 95,
    "start_time": "2022-09-18T12:34:10.351Z"
   },
   {
    "duration": 362,
    "start_time": "2022-09-18T12:34:57.788Z"
   },
   {
    "duration": 360,
    "start_time": "2022-09-18T12:35:42.568Z"
   },
   {
    "duration": 322,
    "start_time": "2022-09-18T12:36:44.956Z"
   },
   {
    "duration": 587,
    "start_time": "2022-09-18T12:37:46.479Z"
   },
   {
    "duration": 110,
    "start_time": "2022-09-18T12:37:48.363Z"
   },
   {
    "duration": 15,
    "start_time": "2022-09-18T12:37:51.159Z"
   },
   {
    "duration": 1766,
    "start_time": "2022-09-18T12:37:55.926Z"
   },
   {
    "duration": 9,
    "start_time": "2022-09-18T12:38:27.616Z"
   },
   {
    "duration": 4,
    "start_time": "2022-09-18T12:38:29.759Z"
   },
   {
    "duration": 456,
    "start_time": "2022-09-18T12:38:40.676Z"
   },
   {
    "duration": 465,
    "start_time": "2022-09-18T12:39:21.553Z"
   },
   {
    "duration": 392,
    "start_time": "2022-09-18T12:40:23.106Z"
   },
   {
    "duration": 68,
    "start_time": "2022-09-18T12:53:31.855Z"
   },
   {
    "duration": 7,
    "start_time": "2022-09-18T12:53:55.967Z"
   },
   {
    "duration": 40,
    "start_time": "2022-09-18T13:01:10.267Z"
   },
   {
    "duration": 18,
    "start_time": "2022-09-18T13:06:48.674Z"
   },
   {
    "duration": 44,
    "start_time": "2022-09-18T13:07:06.637Z"
   },
   {
    "duration": 40,
    "start_time": "2022-09-18T13:07:25.824Z"
   },
   {
    "duration": 83,
    "start_time": "2022-09-18T13:08:35.988Z"
   },
   {
    "duration": 52,
    "start_time": "2022-09-18T13:11:25.767Z"
   },
   {
    "duration": 43,
    "start_time": "2022-09-18T13:11:48.798Z"
   },
   {
    "duration": 132,
    "start_time": "2022-09-18T13:12:46.463Z"
   },
   {
    "duration": 12,
    "start_time": "2022-09-18T13:16:05.386Z"
   },
   {
    "duration": 6,
    "start_time": "2022-09-18T13:16:37.508Z"
   },
   {
    "duration": 14,
    "start_time": "2022-09-18T13:16:47.763Z"
   },
   {
    "duration": 7,
    "start_time": "2022-09-18T13:17:09.797Z"
   },
   {
    "duration": 8,
    "start_time": "2022-09-18T13:17:30.368Z"
   },
   {
    "duration": 13,
    "start_time": "2022-09-18T13:17:44.286Z"
   },
   {
    "duration": 44,
    "start_time": "2022-09-18T13:19:55.611Z"
   },
   {
    "duration": 8,
    "start_time": "2022-09-18T13:20:09.496Z"
   },
   {
    "duration": 43,
    "start_time": "2022-09-18T13:30:44.773Z"
   },
   {
    "duration": 553,
    "start_time": "2022-09-18T13:31:33.567Z"
   },
   {
    "duration": 108,
    "start_time": "2022-09-18T13:31:35.562Z"
   },
   {
    "duration": 15,
    "start_time": "2022-09-18T13:31:37.407Z"
   },
   {
    "duration": 1667,
    "start_time": "2022-09-18T13:31:38.873Z"
   },
   {
    "duration": 9,
    "start_time": "2022-09-18T13:31:41.192Z"
   },
   {
    "duration": 2,
    "start_time": "2022-09-18T13:31:41.856Z"
   },
   {
    "duration": 344,
    "start_time": "2022-09-18T13:31:45.017Z"
   },
   {
    "duration": 8,
    "start_time": "2022-09-18T13:31:47.071Z"
   },
   {
    "duration": 45,
    "start_time": "2022-09-18T13:31:48.786Z"
   },
   {
    "duration": 53,
    "start_time": "2022-09-18T13:32:08.822Z"
   },
   {
    "duration": 49,
    "start_time": "2022-09-18T13:35:33.452Z"
   },
   {
    "duration": 44,
    "start_time": "2022-09-18T13:35:47.256Z"
   },
   {
    "duration": 48,
    "start_time": "2022-09-18T13:36:00.123Z"
   },
   {
    "duration": 44,
    "start_time": "2022-09-18T13:36:12.565Z"
   },
   {
    "duration": 45,
    "start_time": "2022-09-18T13:36:42.564Z"
   },
   {
    "duration": 50,
    "start_time": "2022-09-18T13:36:59.187Z"
   },
   {
    "duration": 577,
    "start_time": "2022-09-18T13:38:38.448Z"
   },
   {
    "duration": 105,
    "start_time": "2022-09-18T13:38:39.895Z"
   },
   {
    "duration": 16,
    "start_time": "2022-09-18T13:38:41.829Z"
   },
   {
    "duration": 1950,
    "start_time": "2022-09-18T13:38:43.610Z"
   },
   {
    "duration": 11,
    "start_time": "2022-09-18T13:38:46.950Z"
   },
   {
    "duration": 2,
    "start_time": "2022-09-18T13:38:51.101Z"
   },
   {
    "duration": 312,
    "start_time": "2022-09-18T13:38:56.251Z"
   },
   {
    "duration": 7,
    "start_time": "2022-09-18T13:39:01.104Z"
   },
   {
    "duration": 79,
    "start_time": "2022-09-18T13:39:07.358Z"
   },
   {
    "duration": 59,
    "start_time": "2022-09-18T13:39:23.243Z"
   },
   {
    "duration": 98,
    "start_time": "2022-09-18T13:39:44.629Z"
   },
   {
    "duration": 12,
    "start_time": "2022-09-18T13:40:57.252Z"
   },
   {
    "duration": 18,
    "start_time": "2022-09-18T13:41:53.022Z"
   },
   {
    "duration": 24,
    "start_time": "2022-09-18T13:42:19.556Z"
   },
   {
    "duration": 64,
    "start_time": "2022-09-18T13:43:21.319Z"
   },
   {
    "duration": 51,
    "start_time": "2022-09-18T13:44:17.018Z"
   },
   {
    "duration": 45,
    "start_time": "2022-09-18T13:44:34.680Z"
   },
   {
    "duration": 72,
    "start_time": "2022-09-18T13:45:07.372Z"
   },
   {
    "duration": 86,
    "start_time": "2022-09-18T13:46:32.283Z"
   },
   {
    "duration": 63,
    "start_time": "2022-09-18T13:46:39.015Z"
   },
   {
    "duration": 29,
    "start_time": "2022-09-18T13:46:42.197Z"
   },
   {
    "duration": 21,
    "start_time": "2022-09-18T13:47:55.586Z"
   },
   {
    "duration": 26,
    "start_time": "2022-09-18T13:48:11.594Z"
   },
   {
    "duration": 46,
    "start_time": "2022-09-18T13:48:34.787Z"
   },
   {
    "duration": 22,
    "start_time": "2022-09-18T13:48:36.975Z"
   },
   {
    "duration": 46,
    "start_time": "2022-09-18T13:48:57.455Z"
   },
   {
    "duration": 24,
    "start_time": "2022-09-18T13:49:01.755Z"
   },
   {
    "duration": 4,
    "start_time": "2022-09-18T13:51:37.663Z"
   },
   {
    "duration": 48,
    "start_time": "2022-09-18T13:52:00.154Z"
   },
   {
    "duration": 56,
    "start_time": "2022-09-18T13:52:41.552Z"
   },
   {
    "duration": 53,
    "start_time": "2022-09-18T13:53:27.984Z"
   },
   {
    "duration": 53,
    "start_time": "2022-09-18T13:54:34.481Z"
   },
   {
    "duration": 55,
    "start_time": "2022-09-18T13:54:52.149Z"
   },
   {
    "duration": 10,
    "start_time": "2022-09-18T13:55:25.246Z"
   },
   {
    "duration": 24,
    "start_time": "2022-09-18T13:56:10.445Z"
   },
   {
    "duration": 26,
    "start_time": "2022-09-18T13:56:59.559Z"
   },
   {
    "duration": 9,
    "start_time": "2022-09-18T13:57:02.706Z"
   },
   {
    "duration": 8,
    "start_time": "2022-09-18T13:58:13.451Z"
   },
   {
    "duration": 12,
    "start_time": "2022-09-18T13:59:15.455Z"
   },
   {
    "duration": 14,
    "start_time": "2022-09-18T13:59:22.171Z"
   },
   {
    "duration": 15,
    "start_time": "2022-09-18T14:00:35.287Z"
   },
   {
    "duration": 36,
    "start_time": "2022-09-18T14:01:15.065Z"
   },
   {
    "duration": 18,
    "start_time": "2022-09-18T14:01:17.617Z"
   },
   {
    "duration": 14,
    "start_time": "2022-09-18T14:02:14.784Z"
   },
   {
    "duration": 7,
    "start_time": "2022-09-18T14:07:42.671Z"
   },
   {
    "duration": 11,
    "start_time": "2022-09-18T14:08:13.813Z"
   },
   {
    "duration": 27,
    "start_time": "2022-09-18T14:08:25.913Z"
   },
   {
    "duration": 27,
    "start_time": "2022-09-18T14:10:53.870Z"
   },
   {
    "duration": 28,
    "start_time": "2022-09-18T14:12:47.697Z"
   },
   {
    "duration": 14,
    "start_time": "2022-09-18T14:12:55.832Z"
   },
   {
    "duration": 68,
    "start_time": "2022-09-18T14:13:47.395Z"
   },
   {
    "duration": 6,
    "start_time": "2022-09-18T14:13:58.311Z"
   },
   {
    "duration": 6,
    "start_time": "2022-09-18T14:14:07.801Z"
   },
   {
    "duration": 5,
    "start_time": "2022-09-18T14:14:22.739Z"
   },
   {
    "duration": 5,
    "start_time": "2022-09-18T14:15:52.797Z"
   },
   {
    "duration": 607,
    "start_time": "2022-09-18T14:16:40.208Z"
   },
   {
    "duration": 133,
    "start_time": "2022-09-18T14:16:41.448Z"
   },
   {
    "duration": 16,
    "start_time": "2022-09-18T14:16:42.630Z"
   },
   {
    "duration": 1815,
    "start_time": "2022-09-18T14:16:43.677Z"
   },
   {
    "duration": 11,
    "start_time": "2022-09-18T14:16:46.084Z"
   },
   {
    "duration": 3,
    "start_time": "2022-09-18T14:16:46.752Z"
   },
   {
    "duration": 311,
    "start_time": "2022-09-18T14:16:49.514Z"
   },
   {
    "duration": 8,
    "start_time": "2022-09-18T14:16:51.618Z"
   },
   {
    "duration": 30,
    "start_time": "2022-09-18T14:16:53.560Z"
   },
   {
    "duration": 14,
    "start_time": "2022-09-18T14:16:55.047Z"
   },
   {
    "duration": 25,
    "start_time": "2022-09-18T14:16:57.863Z"
   },
   {
    "duration": 5,
    "start_time": "2022-09-18T14:17:00.070Z"
   },
   {
    "duration": 72,
    "start_time": "2022-09-18T14:17:44.861Z"
   },
   {
    "duration": 72,
    "start_time": "2022-09-18T14:18:14.951Z"
   },
   {
    "duration": 5,
    "start_time": "2022-09-18T14:18:21.955Z"
   },
   {
    "duration": 6,
    "start_time": "2022-09-18T14:18:32.363Z"
   },
   {
    "duration": 5,
    "start_time": "2022-09-18T14:18:34.947Z"
   },
   {
    "duration": 6,
    "start_time": "2022-09-18T14:18:38.451Z"
   },
   {
    "duration": 6,
    "start_time": "2022-09-18T14:20:17.024Z"
   },
   {
    "duration": 6,
    "start_time": "2022-09-18T14:20:22.996Z"
   },
   {
    "duration": 71,
    "start_time": "2022-09-18T14:21:23.521Z"
   },
   {
    "duration": 13,
    "start_time": "2022-09-18T14:21:30.468Z"
   },
   {
    "duration": 5,
    "start_time": "2022-09-18T14:21:55.248Z"
   },
   {
    "duration": 5,
    "start_time": "2022-09-18T14:22:39.053Z"
   },
   {
    "duration": 15,
    "start_time": "2022-09-18T14:23:46.803Z"
   },
   {
    "duration": 21,
    "start_time": "2022-09-18T14:24:24.749Z"
   },
   {
    "duration": 15,
    "start_time": "2022-09-18T14:25:15.866Z"
   },
   {
    "duration": 15,
    "start_time": "2022-09-18T14:25:48.806Z"
   },
   {
    "duration": 16,
    "start_time": "2022-09-18T14:27:37.718Z"
   },
   {
    "duration": 16,
    "start_time": "2022-09-18T14:27:46.521Z"
   },
   {
    "duration": 70,
    "start_time": "2022-09-18T14:28:35.709Z"
   },
   {
    "duration": 71,
    "start_time": "2022-09-18T14:29:13.252Z"
   },
   {
    "duration": 16,
    "start_time": "2022-09-18T14:29:26.856Z"
   },
   {
    "duration": 15,
    "start_time": "2022-09-18T14:29:52.305Z"
   },
   {
    "duration": 15,
    "start_time": "2022-09-18T14:31:01.686Z"
   },
   {
    "duration": 14,
    "start_time": "2022-09-18T14:32:37.015Z"
   },
   {
    "duration": 17,
    "start_time": "2022-09-18T14:32:49.034Z"
   },
   {
    "duration": 15,
    "start_time": "2022-09-18T14:33:08.496Z"
   },
   {
    "duration": 15,
    "start_time": "2022-09-18T14:33:19.588Z"
   },
   {
    "duration": 15,
    "start_time": "2022-09-18T14:34:11.607Z"
   },
   {
    "duration": 20,
    "start_time": "2022-09-18T14:34:20.373Z"
   },
   {
    "duration": 9,
    "start_time": "2022-09-18T14:34:32.815Z"
   },
   {
    "duration": 9,
    "start_time": "2022-09-18T14:34:41.663Z"
   },
   {
    "duration": 17,
    "start_time": "2022-09-18T14:34:48.294Z"
   },
   {
    "duration": 14,
    "start_time": "2022-09-18T14:34:55.457Z"
   },
   {
    "duration": 548,
    "start_time": "2022-09-18T14:35:24.668Z"
   },
   {
    "duration": 142,
    "start_time": "2022-09-18T14:35:26.084Z"
   },
   {
    "duration": 17,
    "start_time": "2022-09-18T14:35:27.320Z"
   },
   {
    "duration": 1657,
    "start_time": "2022-09-18T14:35:28.319Z"
   },
   {
    "duration": 8,
    "start_time": "2022-09-18T14:35:30.172Z"
   },
   {
    "duration": 2,
    "start_time": "2022-09-18T14:35:31.504Z"
   },
   {
    "duration": 317,
    "start_time": "2022-09-18T14:35:34.654Z"
   },
   {
    "duration": 8,
    "start_time": "2022-09-18T14:35:37.155Z"
   },
   {
    "duration": 27,
    "start_time": "2022-09-18T14:35:38.316Z"
   },
   {
    "duration": 20,
    "start_time": "2022-09-18T14:35:40.622Z"
   },
   {
    "duration": 34,
    "start_time": "2022-09-18T14:35:44.653Z"
   },
   {
    "duration": 16,
    "start_time": "2022-09-18T14:35:47.304Z"
   },
   {
    "duration": 15,
    "start_time": "2022-09-18T14:35:50.355Z"
   },
   {
    "duration": 625,
    "start_time": "2022-09-18T14:39:51.121Z"
   },
   {
    "duration": 8,
    "start_time": "2022-09-18T14:40:41.766Z"
   },
   {
    "duration": 1845,
    "start_time": "2022-09-18T14:40:52.163Z"
   },
   {
    "duration": 1620,
    "start_time": "2022-09-18T14:40:54.564Z"
   },
   {
    "duration": 703,
    "start_time": "2022-09-18T14:41:09.057Z"
   },
   {
    "duration": 554,
    "start_time": "2022-09-18T14:41:31.058Z"
   },
   {
    "duration": 13,
    "start_time": "2022-09-18T14:44:54.348Z"
   },
   {
    "duration": 16,
    "start_time": "2022-09-18T14:45:10.007Z"
   },
   {
    "duration": 15,
    "start_time": "2022-09-18T14:45:12.291Z"
   },
   {
    "duration": 12,
    "start_time": "2022-09-18T14:45:35.119Z"
   },
   {
    "duration": 11,
    "start_time": "2022-09-18T14:45:39.305Z"
   },
   {
    "duration": 19,
    "start_time": "2022-09-18T14:45:44.453Z"
   },
   {
    "duration": 18,
    "start_time": "2022-09-18T14:47:10.887Z"
   },
   {
    "duration": 19,
    "start_time": "2022-09-18T14:47:18.646Z"
   },
   {
    "duration": 23,
    "start_time": "2022-09-18T14:47:25.947Z"
   },
   {
    "duration": 14,
    "start_time": "2022-09-18T14:47:39.852Z"
   },
   {
    "duration": 14,
    "start_time": "2022-09-18T14:47:43.051Z"
   },
   {
    "duration": 15,
    "start_time": "2022-09-18T14:48:30.495Z"
   },
   {
    "duration": 14,
    "start_time": "2022-09-18T14:48:34.355Z"
   },
   {
    "duration": 15,
    "start_time": "2022-09-18T14:50:25.148Z"
   },
   {
    "duration": 15,
    "start_time": "2022-09-18T14:50:41.149Z"
   },
   {
    "duration": 13,
    "start_time": "2022-09-18T14:52:12.450Z"
   },
   {
    "duration": 15,
    "start_time": "2022-09-18T14:54:24.257Z"
   },
   {
    "duration": 15,
    "start_time": "2022-09-18T14:54:30.949Z"
   },
   {
    "duration": 16,
    "start_time": "2022-09-18T14:56:30.114Z"
   },
   {
    "duration": 15,
    "start_time": "2022-09-18T14:56:31.107Z"
   },
   {
    "duration": 10,
    "start_time": "2022-09-18T15:00:17.462Z"
   },
   {
    "duration": 16,
    "start_time": "2022-09-18T15:00:25.695Z"
   },
   {
    "duration": 24,
    "start_time": "2022-09-18T15:00:49.073Z"
   },
   {
    "duration": 28,
    "start_time": "2022-09-18T15:01:06.603Z"
   },
   {
    "duration": 29,
    "start_time": "2022-09-18T15:01:11.085Z"
   },
   {
    "duration": 50,
    "start_time": "2022-09-18T15:01:49.065Z"
   },
   {
    "duration": 25,
    "start_time": "2022-09-18T15:02:17.994Z"
   },
   {
    "duration": 37,
    "start_time": "2022-09-18T15:02:31.968Z"
   },
   {
    "duration": 33,
    "start_time": "2022-09-18T15:04:13.211Z"
   },
   {
    "duration": 36,
    "start_time": "2022-09-18T15:04:34.161Z"
   },
   {
    "duration": 32,
    "start_time": "2022-09-18T15:05:06.297Z"
   },
   {
    "duration": 31,
    "start_time": "2022-09-18T15:05:30.805Z"
   },
   {
    "duration": 35,
    "start_time": "2022-09-18T15:07:23.784Z"
   },
   {
    "duration": 16,
    "start_time": "2022-09-18T15:08:34.053Z"
   },
   {
    "duration": 48,
    "start_time": "2022-09-18T15:09:25.790Z"
   },
   {
    "duration": 7,
    "start_time": "2022-09-18T15:09:48.354Z"
   },
   {
    "duration": 29,
    "start_time": "2022-09-18T15:09:50.387Z"
   },
   {
    "duration": 14,
    "start_time": "2022-09-18T15:09:52.112Z"
   },
   {
    "duration": 28,
    "start_time": "2022-09-18T15:10:00.873Z"
   },
   {
    "duration": 25,
    "start_time": "2022-09-18T15:10:09.549Z"
   },
   {
    "duration": 7,
    "start_time": "2022-09-18T15:10:13.256Z"
   },
   {
    "duration": 30,
    "start_time": "2022-09-18T15:10:15.689Z"
   },
   {
    "duration": 21,
    "start_time": "2022-09-18T15:10:23.550Z"
   },
   {
    "duration": 8,
    "start_time": "2022-09-18T15:11:35.757Z"
   },
   {
    "duration": 17,
    "start_time": "2022-09-18T15:11:43.501Z"
   },
   {
    "duration": 25,
    "start_time": "2022-09-18T15:12:12.916Z"
   },
   {
    "duration": 27,
    "start_time": "2022-09-18T15:12:39.114Z"
   },
   {
    "duration": 616,
    "start_time": "2022-09-18T15:12:58.094Z"
   },
   {
    "duration": 108,
    "start_time": "2022-09-18T15:12:59.373Z"
   },
   {
    "duration": 14,
    "start_time": "2022-09-18T15:13:00.647Z"
   },
   {
    "duration": 1735,
    "start_time": "2022-09-18T15:13:01.781Z"
   },
   {
    "duration": 9,
    "start_time": "2022-09-18T15:13:04.911Z"
   },
   {
    "duration": 2,
    "start_time": "2022-09-18T15:13:06.254Z"
   },
   {
    "duration": 336,
    "start_time": "2022-09-18T15:13:09.123Z"
   },
   {
    "duration": 8,
    "start_time": "2022-09-18T15:13:11.753Z"
   },
   {
    "duration": 34,
    "start_time": "2022-09-18T15:13:12.871Z"
   },
   {
    "duration": 21,
    "start_time": "2022-09-18T15:13:15.377Z"
   },
   {
    "duration": 70,
    "start_time": "2022-09-18T15:13:22.622Z"
   },
   {
    "duration": 13,
    "start_time": "2022-09-18T15:13:26.553Z"
   },
   {
    "duration": 32,
    "start_time": "2022-09-18T15:14:15.697Z"
   },
   {
    "duration": 38,
    "start_time": "2022-09-18T15:14:50.564Z"
   },
   {
    "duration": 37,
    "start_time": "2022-09-18T15:15:17.813Z"
   },
   {
    "duration": 28,
    "start_time": "2022-09-18T15:15:24.048Z"
   },
   {
    "duration": 22,
    "start_time": "2022-09-18T15:15:26.058Z"
   },
   {
    "duration": 16,
    "start_time": "2022-09-18T15:15:49.216Z"
   },
   {
    "duration": 29,
    "start_time": "2022-09-18T15:15:55.399Z"
   },
   {
    "duration": 15,
    "start_time": "2022-09-18T15:15:57.955Z"
   },
   {
    "duration": 14,
    "start_time": "2022-09-18T15:16:06.862Z"
   },
   {
    "duration": 26,
    "start_time": "2022-09-18T15:16:35.577Z"
   },
   {
    "duration": 27,
    "start_time": "2022-09-18T15:16:38.655Z"
   },
   {
    "duration": 23,
    "start_time": "2022-09-18T15:16:42.121Z"
   },
   {
    "duration": 46,
    "start_time": "2022-09-18T15:16:49.506Z"
   },
   {
    "duration": 47,
    "start_time": "2022-09-18T15:17:07.785Z"
   },
   {
    "duration": 66,
    "start_time": "2022-09-18T15:17:19.316Z"
   },
   {
    "duration": 17,
    "start_time": "2022-09-18T15:17:45.189Z"
   },
   {
    "duration": 26,
    "start_time": "2022-09-18T15:17:46.865Z"
   },
   {
    "duration": 14,
    "start_time": "2022-09-18T15:17:52.456Z"
   },
   {
    "duration": 35,
    "start_time": "2022-09-18T15:17:54.173Z"
   },
   {
    "duration": 26,
    "start_time": "2022-09-18T15:17:55.454Z"
   },
   {
    "duration": 25,
    "start_time": "2022-09-18T15:17:56.654Z"
   },
   {
    "duration": 52,
    "start_time": "2022-09-18T15:17:57.714Z"
   },
   {
    "duration": 15,
    "start_time": "2022-09-18T15:18:07.558Z"
   },
   {
    "duration": 16,
    "start_time": "2022-09-18T15:22:47.312Z"
   },
   {
    "duration": 13,
    "start_time": "2022-09-18T15:25:42.397Z"
   },
   {
    "duration": 17,
    "start_time": "2022-09-18T15:26:10.238Z"
   },
   {
    "duration": 21,
    "start_time": "2022-09-18T15:31:27.800Z"
   },
   {
    "duration": 23,
    "start_time": "2022-09-18T15:31:39.491Z"
   },
   {
    "duration": 71,
    "start_time": "2022-09-18T15:33:22.520Z"
   },
   {
    "duration": 8,
    "start_time": "2022-09-18T15:34:36.216Z"
   },
   {
    "duration": 8,
    "start_time": "2022-09-18T15:35:23.892Z"
   },
   {
    "duration": 15,
    "start_time": "2022-09-18T15:35:40.757Z"
   },
   {
    "duration": 7,
    "start_time": "2022-09-18T15:37:53.566Z"
   },
   {
    "duration": 15,
    "start_time": "2022-09-18T15:39:37.668Z"
   },
   {
    "duration": 6,
    "start_time": "2022-09-18T15:46:25.977Z"
   },
   {
    "duration": 494,
    "start_time": "2022-09-18T15:46:31.969Z"
   },
   {
    "duration": 32,
    "start_time": "2022-09-18T15:46:45.868Z"
   },
   {
    "duration": 30,
    "start_time": "2022-09-18T15:47:06.693Z"
   },
   {
    "duration": 38,
    "start_time": "2022-09-18T15:55:42.610Z"
   },
   {
    "duration": 28,
    "start_time": "2022-09-18T15:56:00.915Z"
   },
   {
    "duration": 53,
    "start_time": "2022-09-18T15:57:04.035Z"
   },
   {
    "duration": 45,
    "start_time": "2022-09-18T15:57:15.559Z"
   },
   {
    "duration": 70,
    "start_time": "2022-09-18T15:58:12.292Z"
   },
   {
    "duration": 2746,
    "start_time": "2022-09-18T15:58:19.992Z"
   },
   {
    "duration": 24,
    "start_time": "2022-09-18T15:58:56.256Z"
   },
   {
    "duration": 2585,
    "start_time": "2022-09-18T15:58:58.357Z"
   },
   {
    "duration": 32,
    "start_time": "2022-09-18T15:59:09.238Z"
   },
   {
    "duration": 17,
    "start_time": "2022-09-18T15:59:10.691Z"
   },
   {
    "duration": 26,
    "start_time": "2022-09-18T15:59:11.894Z"
   },
   {
    "duration": 39,
    "start_time": "2022-09-18T15:59:12.844Z"
   },
   {
    "duration": 25,
    "start_time": "2022-09-18T15:59:13.553Z"
   },
   {
    "duration": 15,
    "start_time": "2022-09-18T15:59:13.888Z"
   },
   {
    "duration": 17,
    "start_time": "2022-09-18T15:59:14.495Z"
   },
   {
    "duration": 17,
    "start_time": "2022-09-18T15:59:15.117Z"
   },
   {
    "duration": 2844,
    "start_time": "2022-09-18T15:59:15.698Z"
   },
   {
    "duration": 53,
    "start_time": "2022-09-18T15:59:49.646Z"
   },
   {
    "duration": 89,
    "start_time": "2022-09-18T16:02:11.291Z"
   },
   {
    "duration": 26,
    "start_time": "2022-09-18T16:08:27.021Z"
   },
   {
    "duration": 37,
    "start_time": "2022-09-18T16:11:20.397Z"
   },
   {
    "duration": 19,
    "start_time": "2022-09-18T16:14:29.652Z"
   },
   {
    "duration": 31,
    "start_time": "2022-09-18T16:18:30.985Z"
   },
   {
    "duration": 710,
    "start_time": "2022-09-18T16:25:17.476Z"
   },
   {
    "duration": 146,
    "start_time": "2022-09-18T16:25:18.188Z"
   },
   {
    "duration": 16,
    "start_time": "2022-09-18T16:25:18.343Z"
   },
   {
    "duration": 2465,
    "start_time": "2022-09-18T16:25:18.360Z"
   },
   {
    "duration": 20,
    "start_time": "2022-09-18T16:25:20.828Z"
   },
   {
    "duration": 3,
    "start_time": "2022-09-18T16:25:20.851Z"
   },
   {
    "duration": 442,
    "start_time": "2022-09-18T16:25:20.856Z"
   },
   {
    "duration": 9,
    "start_time": "2022-09-18T16:25:21.299Z"
   },
   {
    "duration": 38,
    "start_time": "2022-09-18T16:25:21.325Z"
   },
   {
    "duration": 24,
    "start_time": "2022-09-18T16:25:21.366Z"
   },
   {
    "duration": 87,
    "start_time": "2022-09-18T16:25:21.392Z"
   },
   {
    "duration": 38,
    "start_time": "2022-09-18T16:25:21.481Z"
   },
   {
    "duration": 67,
    "start_time": "2022-09-18T16:25:21.522Z"
   },
   {
    "duration": 15,
    "start_time": "2022-09-18T16:25:21.592Z"
   },
   {
    "duration": 25,
    "start_time": "2022-09-18T16:25:21.609Z"
   },
   {
    "duration": 20,
    "start_time": "2022-09-18T16:25:21.643Z"
   },
   {
    "duration": 32,
    "start_time": "2022-09-18T16:25:21.665Z"
   },
   {
    "duration": 39,
    "start_time": "2022-09-18T16:25:21.699Z"
   },
   {
    "duration": 2383,
    "start_time": "2022-09-18T16:25:44.586Z"
   },
   {
    "duration": 2269,
    "start_time": "2022-09-18T16:26:31.083Z"
   },
   {
    "duration": 37,
    "start_time": "2022-09-18T16:26:50.598Z"
   },
   {
    "duration": 25,
    "start_time": "2022-09-18T16:27:33.694Z"
   },
   {
    "duration": 41,
    "start_time": "2022-09-18T16:27:55.719Z"
   },
   {
    "duration": 2239,
    "start_time": "2022-09-18T16:28:14.549Z"
   },
   {
    "duration": 449,
    "start_time": "2022-09-18T16:30:26.456Z"
   },
   {
    "duration": 25,
    "start_time": "2022-09-18T16:30:37.849Z"
   },
   {
    "duration": 2281,
    "start_time": "2022-09-18T16:30:53.560Z"
   },
   {
    "duration": 2246,
    "start_time": "2022-09-18T16:31:02.288Z"
   },
   {
    "duration": 420,
    "start_time": "2022-09-18T16:31:40.389Z"
   },
   {
    "duration": 59,
    "start_time": "2022-09-18T16:34:24.789Z"
   },
   {
    "duration": 60,
    "start_time": "2022-09-18T16:34:29.904Z"
   },
   {
    "duration": 211,
    "start_time": "2022-09-18T16:34:39.656Z"
   },
   {
    "duration": 425,
    "start_time": "2022-09-18T16:38:48.388Z"
   },
   {
    "duration": 737,
    "start_time": "2022-09-18T16:38:57.512Z"
   },
   {
    "duration": 19,
    "start_time": "2022-09-18T16:39:49.189Z"
   },
   {
    "duration": 155,
    "start_time": "2022-09-18T16:39:59.811Z"
   },
   {
    "duration": 185,
    "start_time": "2022-09-18T16:40:11.957Z"
   },
   {
    "duration": 183,
    "start_time": "2022-09-18T16:40:54.883Z"
   },
   {
    "duration": 652,
    "start_time": "2022-09-18T16:41:12.608Z"
   },
   {
    "duration": 170,
    "start_time": "2022-09-18T16:41:13.262Z"
   },
   {
    "duration": 22,
    "start_time": "2022-09-18T16:41:13.434Z"
   },
   {
    "duration": 1846,
    "start_time": "2022-09-18T16:41:13.458Z"
   },
   {
    "duration": 9,
    "start_time": "2022-09-18T16:41:15.307Z"
   },
   {
    "duration": 9,
    "start_time": "2022-09-18T16:41:15.317Z"
   },
   {
    "duration": 370,
    "start_time": "2022-09-18T16:41:15.328Z"
   },
   {
    "duration": 8,
    "start_time": "2022-09-18T16:41:15.700Z"
   },
   {
    "duration": 31,
    "start_time": "2022-09-18T16:41:15.726Z"
   },
   {
    "duration": 13,
    "start_time": "2022-09-18T16:41:15.758Z"
   },
   {
    "duration": 24,
    "start_time": "2022-09-18T16:41:15.772Z"
   },
   {
    "duration": 49,
    "start_time": "2022-09-18T16:41:15.798Z"
   },
   {
    "duration": 24,
    "start_time": "2022-09-18T16:41:15.848Z"
   },
   {
    "duration": 13,
    "start_time": "2022-09-18T16:41:15.875Z"
   },
   {
    "duration": 51,
    "start_time": "2022-09-18T16:41:15.890Z"
   },
   {
    "duration": 17,
    "start_time": "2022-09-18T16:41:15.942Z"
   },
   {
    "duration": 242,
    "start_time": "2022-09-18T16:41:15.961Z"
   },
   {
    "duration": 23,
    "start_time": "2022-09-18T16:41:16.205Z"
   },
   {
    "duration": 661,
    "start_time": "2022-09-18T16:43:56.749Z"
   },
   {
    "duration": 130,
    "start_time": "2022-09-18T16:43:57.414Z"
   },
   {
    "duration": 14,
    "start_time": "2022-09-18T16:43:57.545Z"
   },
   {
    "duration": 1839,
    "start_time": "2022-09-18T16:43:57.561Z"
   },
   {
    "duration": 8,
    "start_time": "2022-09-18T16:43:59.403Z"
   },
   {
    "duration": 2,
    "start_time": "2022-09-18T16:43:59.413Z"
   },
   {
    "duration": 353,
    "start_time": "2022-09-18T16:43:59.416Z"
   },
   {
    "duration": 8,
    "start_time": "2022-09-18T16:43:59.770Z"
   },
   {
    "duration": 52,
    "start_time": "2022-09-18T16:43:59.779Z"
   },
   {
    "duration": 14,
    "start_time": "2022-09-18T16:43:59.840Z"
   },
   {
    "duration": 25,
    "start_time": "2022-09-18T16:43:59.855Z"
   },
   {
    "duration": 24,
    "start_time": "2022-09-18T16:43:59.882Z"
   },
   {
    "duration": 40,
    "start_time": "2022-09-18T16:43:59.908Z"
   },
   {
    "duration": 14,
    "start_time": "2022-09-18T16:43:59.950Z"
   },
   {
    "duration": 18,
    "start_time": "2022-09-18T16:43:59.966Z"
   },
   {
    "duration": 47,
    "start_time": "2022-09-18T16:43:59.986Z"
   },
   {
    "duration": 94,
    "start_time": "2022-09-18T16:44:00.040Z"
   },
   {
    "duration": 20,
    "start_time": "2022-09-18T16:44:00.135Z"
   },
   {
    "duration": 40,
    "start_time": "2022-09-18T16:44:53.539Z"
   },
   {
    "duration": 50,
    "start_time": "2022-09-18T16:45:21.628Z"
   },
   {
    "duration": 86,
    "start_time": "2022-09-18T16:45:40.788Z"
   },
   {
    "duration": 121,
    "start_time": "2022-09-18T16:45:51.198Z"
   },
   {
    "duration": 76,
    "start_time": "2022-09-18T16:46:22.208Z"
   },
   {
    "duration": 37,
    "start_time": "2022-09-18T16:50:15.093Z"
   },
   {
    "duration": 53,
    "start_time": "2022-09-18T16:57:20.854Z"
   },
   {
    "duration": 98,
    "start_time": "2022-09-18T16:57:35.596Z"
   },
   {
    "duration": 45,
    "start_time": "2022-09-18T16:57:56.333Z"
   },
   {
    "duration": 622,
    "start_time": "2022-09-18T16:58:40.757Z"
   },
   {
    "duration": 112,
    "start_time": "2022-09-18T16:58:41.381Z"
   },
   {
    "duration": 13,
    "start_time": "2022-09-18T16:58:41.495Z"
   },
   {
    "duration": 2060,
    "start_time": "2022-09-18T16:58:41.524Z"
   },
   {
    "duration": 9,
    "start_time": "2022-09-18T16:58:43.587Z"
   },
   {
    "duration": 4,
    "start_time": "2022-09-18T16:58:43.598Z"
   },
   {
    "duration": 382,
    "start_time": "2022-09-18T16:58:43.604Z"
   },
   {
    "duration": 9,
    "start_time": "2022-09-18T16:58:43.988Z"
   },
   {
    "duration": 64,
    "start_time": "2022-09-18T16:58:43.999Z"
   },
   {
    "duration": 22,
    "start_time": "2022-09-18T16:58:44.066Z"
   },
   {
    "duration": 51,
    "start_time": "2022-09-18T16:58:44.090Z"
   },
   {
    "duration": 30,
    "start_time": "2022-09-18T16:58:44.143Z"
   },
   {
    "duration": 27,
    "start_time": "2022-09-18T16:58:44.174Z"
   },
   {
    "duration": 18,
    "start_time": "2022-09-18T16:58:44.223Z"
   },
   {
    "duration": 22,
    "start_time": "2022-09-18T16:58:44.243Z"
   },
   {
    "duration": 23,
    "start_time": "2022-09-18T16:58:44.267Z"
   },
   {
    "duration": 87,
    "start_time": "2022-09-18T16:58:44.292Z"
   },
   {
    "duration": 16,
    "start_time": "2022-09-18T16:58:44.381Z"
   },
   {
    "duration": 160,
    "start_time": "2022-09-18T17:02:53.393Z"
   },
   {
    "duration": 81,
    "start_time": "2022-09-18T17:03:05.183Z"
   },
   {
    "duration": 138,
    "start_time": "2022-09-18T17:03:41.610Z"
   },
   {
    "duration": 75,
    "start_time": "2022-09-18T17:04:10.741Z"
   },
   {
    "duration": 114,
    "start_time": "2022-09-18T17:04:25.988Z"
   },
   {
    "duration": 495,
    "start_time": "2022-09-18T17:04:43.015Z"
   },
   {
    "duration": 98,
    "start_time": "2022-09-18T17:04:52.564Z"
   },
   {
    "duration": 81,
    "start_time": "2022-09-18T17:06:50.874Z"
   },
   {
    "duration": 605,
    "start_time": "2022-09-18T17:08:43.539Z"
   },
   {
    "duration": 116,
    "start_time": "2022-09-18T17:08:44.146Z"
   },
   {
    "duration": 13,
    "start_time": "2022-09-18T17:08:44.263Z"
   },
   {
    "duration": 1863,
    "start_time": "2022-09-18T17:08:44.278Z"
   },
   {
    "duration": 11,
    "start_time": "2022-09-18T17:08:46.143Z"
   },
   {
    "duration": 3,
    "start_time": "2022-09-18T17:08:46.156Z"
   },
   {
    "duration": 419,
    "start_time": "2022-09-18T17:08:46.161Z"
   },
   {
    "duration": 8,
    "start_time": "2022-09-18T17:08:46.582Z"
   },
   {
    "duration": 48,
    "start_time": "2022-09-18T17:08:46.592Z"
   },
   {
    "duration": 15,
    "start_time": "2022-09-18T17:08:46.643Z"
   },
   {
    "duration": 27,
    "start_time": "2022-09-18T17:08:46.660Z"
   },
   {
    "duration": 56,
    "start_time": "2022-09-18T17:08:46.689Z"
   },
   {
    "duration": 25,
    "start_time": "2022-09-18T17:08:46.746Z"
   },
   {
    "duration": 13,
    "start_time": "2022-09-18T17:08:46.772Z"
   },
   {
    "duration": 15,
    "start_time": "2022-09-18T17:08:46.787Z"
   },
   {
    "duration": 41,
    "start_time": "2022-09-18T17:08:46.804Z"
   },
   {
    "duration": 94,
    "start_time": "2022-09-18T17:08:46.847Z"
   },
   {
    "duration": 18,
    "start_time": "2022-09-18T17:08:46.943Z"
   },
   {
    "duration": 96,
    "start_time": "2022-09-18T17:09:32.255Z"
   },
   {
    "duration": 122,
    "start_time": "2022-09-18T17:13:34.057Z"
   },
   {
    "duration": 129,
    "start_time": "2022-09-18T17:15:18.073Z"
   },
   {
    "duration": 113,
    "start_time": "2022-09-18T17:15:27.889Z"
   },
   {
    "duration": 116,
    "start_time": "2022-09-18T17:16:42.889Z"
   },
   {
    "duration": 656,
    "start_time": "2022-09-18T17:16:55.787Z"
   },
   {
    "duration": 118,
    "start_time": "2022-09-18T17:16:56.445Z"
   },
   {
    "duration": 14,
    "start_time": "2022-09-18T17:16:56.565Z"
   },
   {
    "duration": 1911,
    "start_time": "2022-09-18T17:16:56.580Z"
   },
   {
    "duration": 8,
    "start_time": "2022-09-18T17:16:58.493Z"
   },
   {
    "duration": 6,
    "start_time": "2022-09-18T17:16:58.503Z"
   },
   {
    "duration": 363,
    "start_time": "2022-09-18T17:16:58.510Z"
   },
   {
    "duration": 8,
    "start_time": "2022-09-18T17:16:58.875Z"
   },
   {
    "duration": 54,
    "start_time": "2022-09-18T17:16:58.885Z"
   },
   {
    "duration": 19,
    "start_time": "2022-09-18T17:16:58.941Z"
   },
   {
    "duration": 31,
    "start_time": "2022-09-18T17:16:58.962Z"
   },
   {
    "duration": 50,
    "start_time": "2022-09-18T17:16:58.994Z"
   },
   {
    "duration": 29,
    "start_time": "2022-09-18T17:16:59.045Z"
   },
   {
    "duration": 19,
    "start_time": "2022-09-18T17:16:59.077Z"
   },
   {
    "duration": 36,
    "start_time": "2022-09-18T17:16:59.097Z"
   },
   {
    "duration": 18,
    "start_time": "2022-09-18T17:16:59.139Z"
   },
   {
    "duration": 123,
    "start_time": "2022-09-18T17:16:59.158Z"
   },
   {
    "duration": 17,
    "start_time": "2022-09-18T17:16:59.283Z"
   },
   {
    "duration": 243,
    "start_time": "2022-09-18T17:19:01.109Z"
   },
   {
    "duration": 166,
    "start_time": "2022-09-18T17:19:59.063Z"
   },
   {
    "duration": 129,
    "start_time": "2022-09-18T17:20:07.067Z"
   },
   {
    "duration": 123,
    "start_time": "2022-09-18T17:22:32.073Z"
   },
   {
    "duration": 122,
    "start_time": "2022-09-18T17:23:00.158Z"
   },
   {
    "duration": 146,
    "start_time": "2022-09-18T17:24:34.184Z"
   },
   {
    "duration": 585,
    "start_time": "2022-09-18T17:25:23.965Z"
   },
   {
    "duration": 116,
    "start_time": "2022-09-18T17:25:24.552Z"
   },
   {
    "duration": 15,
    "start_time": "2022-09-18T17:25:24.670Z"
   },
   {
    "duration": 2050,
    "start_time": "2022-09-18T17:25:24.686Z"
   },
   {
    "duration": 9,
    "start_time": "2022-09-18T17:25:26.738Z"
   },
   {
    "duration": 2,
    "start_time": "2022-09-18T17:25:26.749Z"
   },
   {
    "duration": 348,
    "start_time": "2022-09-18T17:25:26.753Z"
   },
   {
    "duration": 8,
    "start_time": "2022-09-18T17:25:27.102Z"
   },
   {
    "duration": 36,
    "start_time": "2022-09-18T17:25:27.126Z"
   },
   {
    "duration": 15,
    "start_time": "2022-09-18T17:25:27.164Z"
   },
   {
    "duration": 51,
    "start_time": "2022-09-18T17:25:27.181Z"
   },
   {
    "duration": 31,
    "start_time": "2022-09-18T17:25:27.233Z"
   },
   {
    "duration": 26,
    "start_time": "2022-09-18T17:25:27.266Z"
   },
   {
    "duration": 43,
    "start_time": "2022-09-18T17:25:27.294Z"
   },
   {
    "duration": 26,
    "start_time": "2022-09-18T17:25:27.340Z"
   },
   {
    "duration": 25,
    "start_time": "2022-09-18T17:25:27.367Z"
   },
   {
    "duration": 150,
    "start_time": "2022-09-18T17:25:27.395Z"
   },
   {
    "duration": 1033,
    "start_time": "2022-09-18T17:25:27.547Z"
   },
   {
    "duration": 677,
    "start_time": "2022-09-18T17:26:57.320Z"
   },
   {
    "duration": 137,
    "start_time": "2022-09-18T17:26:57.999Z"
   },
   {
    "duration": 23,
    "start_time": "2022-09-18T17:26:58.138Z"
   },
   {
    "duration": 1925,
    "start_time": "2022-09-18T17:26:58.163Z"
   },
   {
    "duration": 9,
    "start_time": "2022-09-18T17:27:00.091Z"
   },
   {
    "duration": 4,
    "start_time": "2022-09-18T17:27:00.102Z"
   },
   {
    "duration": 370,
    "start_time": "2022-09-18T17:27:00.107Z"
   },
   {
    "duration": 8,
    "start_time": "2022-09-18T17:27:00.479Z"
   },
   {
    "duration": 54,
    "start_time": "2022-09-18T17:27:00.489Z"
   },
   {
    "duration": 22,
    "start_time": "2022-09-18T17:27:00.545Z"
   },
   {
    "duration": 28,
    "start_time": "2022-09-18T17:27:00.569Z"
   },
   {
    "duration": 51,
    "start_time": "2022-09-18T17:27:00.599Z"
   },
   {
    "duration": 32,
    "start_time": "2022-09-18T17:27:00.652Z"
   },
   {
    "duration": 16,
    "start_time": "2022-09-18T17:27:00.687Z"
   },
   {
    "duration": 28,
    "start_time": "2022-09-18T17:27:00.721Z"
   },
   {
    "duration": 38,
    "start_time": "2022-09-18T17:27:00.751Z"
   },
   {
    "duration": 153,
    "start_time": "2022-09-18T17:27:00.792Z"
   },
   {
    "duration": 3111,
    "start_time": "2022-09-18T17:27:00.947Z"
   },
   {
    "duration": 123,
    "start_time": "2022-09-18T17:27:12.950Z"
   },
   {
    "duration": 128,
    "start_time": "2022-09-18T17:28:05.149Z"
   },
   {
    "duration": 188,
    "start_time": "2022-09-18T17:29:46.461Z"
   },
   {
    "duration": 173,
    "start_time": "2022-09-18T17:33:42.759Z"
   },
   {
    "duration": 899,
    "start_time": "2022-09-18T17:33:53.175Z"
   },
   {
    "duration": 180,
    "start_time": "2022-09-18T17:34:15.753Z"
   },
   {
    "duration": 655,
    "start_time": "2022-09-18T17:35:08.249Z"
   },
   {
    "duration": 120,
    "start_time": "2022-09-18T17:35:08.906Z"
   },
   {
    "duration": 21,
    "start_time": "2022-09-18T17:35:09.028Z"
   },
   {
    "duration": 2013,
    "start_time": "2022-09-18T17:35:09.051Z"
   },
   {
    "duration": 9,
    "start_time": "2022-09-18T17:35:11.067Z"
   },
   {
    "duration": 9,
    "start_time": "2022-09-18T17:35:11.077Z"
   },
   {
    "duration": 433,
    "start_time": "2022-09-18T17:35:11.088Z"
   },
   {
    "duration": 10,
    "start_time": "2022-09-18T17:35:11.523Z"
   },
   {
    "duration": 57,
    "start_time": "2022-09-18T17:35:11.537Z"
   },
   {
    "duration": 23,
    "start_time": "2022-09-18T17:35:11.595Z"
   },
   {
    "duration": 39,
    "start_time": "2022-09-18T17:35:11.620Z"
   },
   {
    "duration": 44,
    "start_time": "2022-09-18T17:35:11.661Z"
   },
   {
    "duration": 50,
    "start_time": "2022-09-18T17:35:11.707Z"
   },
   {
    "duration": 19,
    "start_time": "2022-09-18T17:35:11.761Z"
   },
   {
    "duration": 17,
    "start_time": "2022-09-18T17:35:11.781Z"
   },
   {
    "duration": 49,
    "start_time": "2022-09-18T17:35:11.800Z"
   },
   {
    "duration": 154,
    "start_time": "2022-09-18T17:35:11.851Z"
   },
   {
    "duration": 25,
    "start_time": "2022-09-18T17:35:12.007Z"
   },
   {
    "duration": 6,
    "start_time": "2022-09-18T17:44:34.447Z"
   },
   {
    "duration": 97,
    "start_time": "2022-09-18T17:46:29.642Z"
   },
   {
    "duration": 147,
    "start_time": "2022-09-18T17:46:35.108Z"
   },
   {
    "duration": 140,
    "start_time": "2022-09-18T17:46:40.317Z"
   },
   {
    "duration": 14,
    "start_time": "2022-09-18T17:50:21.651Z"
   },
   {
    "duration": 2,
    "start_time": "2022-09-18T17:53:07.093Z"
   },
   {
    "duration": 32,
    "start_time": "2022-09-18T18:00:03.657Z"
   },
   {
    "duration": 22,
    "start_time": "2022-09-18T18:05:43.701Z"
   },
   {
    "duration": 1485,
    "start_time": "2022-09-18T18:06:34.495Z"
   },
   {
    "duration": 1708,
    "start_time": "2022-09-18T18:07:48.601Z"
   },
   {
    "duration": 0,
    "start_time": "2022-09-18T18:09:15.836Z"
   },
   {
    "duration": 677,
    "start_time": "2022-09-18T18:10:25.802Z"
   },
   {
    "duration": 127,
    "start_time": "2022-09-18T18:10:26.480Z"
   },
   {
    "duration": 25,
    "start_time": "2022-09-18T18:10:26.609Z"
   },
   {
    "duration": 1898,
    "start_time": "2022-09-18T18:10:26.642Z"
   },
   {
    "duration": 9,
    "start_time": "2022-09-18T18:10:28.542Z"
   },
   {
    "duration": 5,
    "start_time": "2022-09-18T18:10:28.552Z"
   },
   {
    "duration": 352,
    "start_time": "2022-09-18T18:10:28.559Z"
   },
   {
    "duration": 27,
    "start_time": "2022-09-18T18:10:28.912Z"
   },
   {
    "duration": 29,
    "start_time": "2022-09-18T18:10:28.941Z"
   },
   {
    "duration": 21,
    "start_time": "2022-09-18T18:10:28.973Z"
   },
   {
    "duration": 45,
    "start_time": "2022-09-18T18:10:28.996Z"
   },
   {
    "duration": 26,
    "start_time": "2022-09-18T18:10:29.043Z"
   },
   {
    "duration": 28,
    "start_time": "2022-09-18T18:10:29.071Z"
   },
   {
    "duration": 34,
    "start_time": "2022-09-18T18:10:29.101Z"
   },
   {
    "duration": 21,
    "start_time": "2022-09-18T18:10:29.136Z"
   },
   {
    "duration": 18,
    "start_time": "2022-09-18T18:10:29.158Z"
   },
   {
    "duration": 165,
    "start_time": "2022-09-18T18:10:29.178Z"
   },
   {
    "duration": 21,
    "start_time": "2022-09-18T18:10:29.344Z"
   },
   {
    "duration": 463,
    "start_time": "2022-09-18T18:10:29.368Z"
   },
   {
    "duration": 36,
    "start_time": "2022-09-18T18:10:29.832Z"
   },
   {
    "duration": 654,
    "start_time": "2022-09-18T18:14:52.802Z"
   },
   {
    "duration": 57,
    "start_time": "2022-09-18T18:15:47.898Z"
   },
   {
    "duration": 786,
    "start_time": "2022-09-18T18:18:05.950Z"
   },
   {
    "duration": 47,
    "start_time": "2022-09-18T18:18:10.351Z"
   },
   {
    "duration": 532,
    "start_time": "2022-09-18T18:19:47.220Z"
   },
   {
    "duration": 567,
    "start_time": "2022-09-18T18:19:50.747Z"
   },
   {
    "duration": 729,
    "start_time": "2022-09-18T18:20:33.437Z"
   },
   {
    "duration": 48,
    "start_time": "2022-09-18T18:20:36.072Z"
   },
   {
    "duration": 13,
    "start_time": "2022-09-18T18:25:28.307Z"
   },
   {
    "duration": 39,
    "start_time": "2022-09-18T18:26:12.067Z"
   },
   {
    "duration": 8662,
    "start_time": "2022-09-18T18:26:30.242Z"
   },
   {
    "duration": 1,
    "start_time": "2022-09-18T18:26:38.905Z"
   },
   {
    "duration": 643,
    "start_time": "2022-09-18T18:26:53.340Z"
   },
   {
    "duration": 708,
    "start_time": "2022-09-18T18:28:29.641Z"
   },
   {
    "duration": 36,
    "start_time": "2022-09-18T18:28:31.647Z"
   },
   {
    "duration": 624,
    "start_time": "2022-09-18T18:28:41.241Z"
   },
   {
    "duration": 126,
    "start_time": "2022-09-18T18:28:41.867Z"
   },
   {
    "duration": 14,
    "start_time": "2022-09-18T18:28:41.994Z"
   },
   {
    "duration": 1950,
    "start_time": "2022-09-18T18:28:42.010Z"
   },
   {
    "duration": 9,
    "start_time": "2022-09-18T18:28:43.963Z"
   },
   {
    "duration": 6,
    "start_time": "2022-09-18T18:28:43.973Z"
   },
   {
    "duration": 360,
    "start_time": "2022-09-18T18:28:43.981Z"
   },
   {
    "duration": 8,
    "start_time": "2022-09-18T18:28:44.343Z"
   },
   {
    "duration": 29,
    "start_time": "2022-09-18T18:28:44.353Z"
   },
   {
    "duration": 48,
    "start_time": "2022-09-18T18:28:44.383Z"
   },
   {
    "duration": 35,
    "start_time": "2022-09-18T18:28:44.434Z"
   },
   {
    "duration": 28,
    "start_time": "2022-09-18T18:28:44.470Z"
   },
   {
    "duration": 43,
    "start_time": "2022-09-18T18:28:44.500Z"
   },
   {
    "duration": 14,
    "start_time": "2022-09-18T18:28:44.545Z"
   },
   {
    "duration": 17,
    "start_time": "2022-09-18T18:28:44.560Z"
   },
   {
    "duration": 18,
    "start_time": "2022-09-18T18:28:44.578Z"
   },
   {
    "duration": 165,
    "start_time": "2022-09-18T18:28:44.597Z"
   },
   {
    "duration": 16,
    "start_time": "2022-09-18T18:28:44.763Z"
   },
   {
    "duration": 732,
    "start_time": "2022-09-18T18:28:44.781Z"
   },
   {
    "duration": 51,
    "start_time": "2022-09-18T18:28:45.515Z"
   },
   {
    "duration": 652,
    "start_time": "2022-09-18T18:32:02.108Z"
   },
   {
    "duration": 709,
    "start_time": "2022-09-18T18:32:13.911Z"
   },
   {
    "duration": 47,
    "start_time": "2022-09-18T18:32:17.213Z"
   },
   {
    "duration": 725,
    "start_time": "2022-09-18T18:33:07.841Z"
   },
   {
    "duration": 780,
    "start_time": "2022-09-18T18:33:45.806Z"
   },
   {
    "duration": 40,
    "start_time": "2022-09-18T18:33:52.076Z"
   },
   {
    "duration": 595,
    "start_time": "2022-09-18T18:34:01.644Z"
   },
   {
    "duration": 37,
    "start_time": "2022-09-18T18:34:04.792Z"
   },
   {
    "duration": 669,
    "start_time": "2022-09-18T18:34:09.861Z"
   },
   {
    "duration": 39,
    "start_time": "2022-09-18T18:34:12.161Z"
   },
   {
    "duration": 631,
    "start_time": "2022-09-18T18:34:47.439Z"
   },
   {
    "duration": 718,
    "start_time": "2022-09-18T18:35:33.295Z"
   },
   {
    "duration": 2571,
    "start_time": "2022-09-18T18:36:09.975Z"
   },
   {
    "duration": 0,
    "start_time": "2022-09-18T18:36:12.548Z"
   },
   {
    "duration": 688,
    "start_time": "2022-09-18T18:36:29.204Z"
   },
   {
    "duration": 37,
    "start_time": "2022-09-18T18:36:30.503Z"
   },
   {
    "duration": 683,
    "start_time": "2022-09-18T18:38:26.485Z"
   },
   {
    "duration": 695,
    "start_time": "2022-09-18T18:38:36.841Z"
   },
   {
    "duration": 643,
    "start_time": "2022-09-18T18:38:56.540Z"
   },
   {
    "duration": 40,
    "start_time": "2022-09-18T18:38:59.644Z"
   },
   {
    "duration": 757,
    "start_time": "2022-09-18T18:39:21.093Z"
   },
   {
    "duration": 43,
    "start_time": "2022-09-18T18:39:22.899Z"
   },
   {
    "duration": 640,
    "start_time": "2022-09-18T18:40:16.646Z"
   },
   {
    "duration": 706,
    "start_time": "2022-09-18T18:40:24.007Z"
   },
   {
    "duration": 47,
    "start_time": "2022-09-18T18:40:27.096Z"
   },
   {
    "duration": 650,
    "start_time": "2022-09-18T18:40:57.399Z"
   },
   {
    "duration": 818,
    "start_time": "2022-09-18T18:41:19.189Z"
   },
   {
    "duration": 45,
    "start_time": "2022-09-18T18:41:22.119Z"
   },
   {
    "duration": 1023,
    "start_time": "2022-09-18T18:41:53.115Z"
   },
   {
    "duration": 1108,
    "start_time": "2022-09-18T18:42:18.210Z"
   },
   {
    "duration": 1034,
    "start_time": "2022-09-18T18:43:04.473Z"
   },
   {
    "duration": 1094,
    "start_time": "2022-09-18T18:43:20.804Z"
   },
   {
    "duration": 38,
    "start_time": "2022-09-18T18:43:25.148Z"
   },
   {
    "duration": 967,
    "start_time": "2022-09-18T18:44:59.917Z"
   },
   {
    "duration": 667,
    "start_time": "2022-09-18T18:45:06.952Z"
   },
   {
    "duration": 37,
    "start_time": "2022-09-18T18:45:09.004Z"
   },
   {
    "duration": 590,
    "start_time": "2022-09-18T18:45:24.995Z"
   },
   {
    "duration": 38,
    "start_time": "2022-09-18T18:45:26.693Z"
   },
   {
    "duration": 701,
    "start_time": "2022-09-18T18:46:06.054Z"
   },
   {
    "duration": 37,
    "start_time": "2022-09-18T18:46:07.938Z"
   },
   {
    "duration": 12,
    "start_time": "2022-09-18T18:47:30.591Z"
   },
   {
    "duration": 40,
    "start_time": "2022-09-18T18:47:33.001Z"
   },
   {
    "duration": 583,
    "start_time": "2022-09-18T18:47:56.289Z"
   },
   {
    "duration": 50,
    "start_time": "2022-09-18T18:47:58.794Z"
   },
   {
    "duration": 692,
    "start_time": "2022-09-18T18:48:30.374Z"
   },
   {
    "duration": 640,
    "start_time": "2022-09-18T18:48:31.321Z"
   },
   {
    "duration": 40,
    "start_time": "2022-09-18T18:48:34.312Z"
   },
   {
    "duration": 711,
    "start_time": "2022-09-18T18:49:10.438Z"
   },
   {
    "duration": 55,
    "start_time": "2022-09-18T18:49:12.939Z"
   },
   {
    "duration": 86,
    "start_time": "2022-09-18T18:58:30.477Z"
   },
   {
    "duration": 1050,
    "start_time": "2022-09-18T18:58:56.899Z"
   },
   {
    "duration": 2163,
    "start_time": "2022-09-18T18:59:24.111Z"
   },
   {
    "duration": 51,
    "start_time": "2022-09-18T19:00:34.103Z"
   },
   {
    "duration": 1788,
    "start_time": "2022-09-18T19:01:40.505Z"
   },
   {
    "duration": 2240,
    "start_time": "2022-09-18T19:01:48.695Z"
   },
   {
    "duration": 10,
    "start_time": "2022-09-18T19:01:59.502Z"
   },
   {
    "duration": 11,
    "start_time": "2022-09-18T19:02:16.355Z"
   },
   {
    "duration": 15,
    "start_time": "2022-09-18T19:02:54.049Z"
   },
   {
    "duration": 2814,
    "start_time": "2022-09-18T19:03:03.049Z"
   },
   {
    "duration": 23,
    "start_time": "2022-09-18T19:03:18.003Z"
   },
   {
    "duration": 603,
    "start_time": "2022-09-18T19:04:06.910Z"
   },
   {
    "duration": 1436,
    "start_time": "2022-09-18T19:04:09.916Z"
   },
   {
    "duration": 20,
    "start_time": "2022-09-18T19:04:13.747Z"
   },
   {
    "duration": 695,
    "start_time": "2022-09-18T19:04:46.149Z"
   },
   {
    "duration": 1599,
    "start_time": "2022-09-18T19:04:50.841Z"
   },
   {
    "duration": 23,
    "start_time": "2022-09-18T19:04:52.999Z"
   },
   {
    "duration": 4,
    "start_time": "2022-09-18T19:05:13.845Z"
   },
   {
    "duration": 3,
    "start_time": "2022-09-18T19:05:28.098Z"
   },
   {
    "duration": 38,
    "start_time": "2022-09-18T19:05:45.949Z"
   },
   {
    "duration": 13,
    "start_time": "2022-09-18T19:06:12.795Z"
   },
   {
    "duration": 28,
    "start_time": "2022-09-18T19:06:55.472Z"
   },
   {
    "duration": 21,
    "start_time": "2022-09-18T19:06:57.820Z"
   },
   {
    "duration": 25,
    "start_time": "2022-09-18T19:07:02.440Z"
   },
   {
    "duration": 691,
    "start_time": "2022-09-18T19:07:15.047Z"
   },
   {
    "duration": 12,
    "start_time": "2022-09-18T19:07:52.203Z"
   },
   {
    "duration": 709,
    "start_time": "2022-09-18T19:08:54.093Z"
   },
   {
    "duration": 17,
    "start_time": "2022-09-18T19:08:56.961Z"
   },
   {
    "duration": 1964,
    "start_time": "2022-09-18T19:10:21.299Z"
   },
   {
    "duration": 20,
    "start_time": "2022-09-18T19:11:05.642Z"
   },
   {
    "duration": 38,
    "start_time": "2022-09-18T19:11:29.202Z"
   },
   {
    "duration": 863,
    "start_time": "2022-09-18T19:11:32.745Z"
   },
   {
    "duration": 1398,
    "start_time": "2022-09-18T19:15:58.224Z"
   },
   {
    "duration": 1531,
    "start_time": "2022-09-18T19:16:41.371Z"
   },
   {
    "duration": 767,
    "start_time": "2022-09-18T19:18:55.093Z"
   },
   {
    "duration": 924,
    "start_time": "2022-09-18T19:20:11.670Z"
   },
   {
    "duration": 463,
    "start_time": "2022-09-18T19:21:13.049Z"
   },
   {
    "duration": 765,
    "start_time": "2022-09-18T19:21:27.346Z"
   },
   {
    "duration": 821,
    "start_time": "2022-09-18T19:21:50.418Z"
   },
   {
    "duration": 1069,
    "start_time": "2022-09-18T19:23:18.383Z"
   },
   {
    "duration": 34,
    "start_time": "2022-09-18T19:23:39.672Z"
   },
   {
    "duration": 15,
    "start_time": "2022-09-18T19:25:01.636Z"
   },
   {
    "duration": 13,
    "start_time": "2022-09-18T19:26:39.516Z"
   },
   {
    "duration": 8,
    "start_time": "2022-09-18T19:27:00.111Z"
   },
   {
    "duration": 9,
    "start_time": "2022-09-18T19:27:11.213Z"
   },
   {
    "duration": 141,
    "start_time": "2022-09-18T19:27:20.704Z"
   },
   {
    "duration": 128,
    "start_time": "2022-09-18T19:27:46.657Z"
   },
   {
    "duration": 105,
    "start_time": "2022-09-18T19:28:06.653Z"
   },
   {
    "duration": 130,
    "start_time": "2022-09-18T19:28:28.652Z"
   },
   {
    "duration": 13,
    "start_time": "2022-09-18T19:28:33.938Z"
   },
   {
    "duration": 156,
    "start_time": "2022-09-18T19:29:05.913Z"
   },
   {
    "duration": 114,
    "start_time": "2022-09-18T19:29:49.447Z"
   },
   {
    "duration": 116,
    "start_time": "2022-09-18T19:30:04.254Z"
   },
   {
    "duration": 9,
    "start_time": "2022-09-18T19:31:27.912Z"
   },
   {
    "duration": 12,
    "start_time": "2022-09-18T19:35:20.103Z"
   },
   {
    "duration": 22,
    "start_time": "2022-09-18T19:35:25.212Z"
   },
   {
    "duration": 23,
    "start_time": "2022-09-18T19:36:48.000Z"
   },
   {
    "duration": 605,
    "start_time": "2022-09-18T19:37:12.055Z"
   },
   {
    "duration": 122,
    "start_time": "2022-09-18T19:37:12.662Z"
   },
   {
    "duration": 13,
    "start_time": "2022-09-18T19:37:12.785Z"
   },
   {
    "duration": 1839,
    "start_time": "2022-09-18T19:37:12.800Z"
   },
   {
    "duration": 11,
    "start_time": "2022-09-18T19:37:14.645Z"
   },
   {
    "duration": 6,
    "start_time": "2022-09-18T19:37:14.659Z"
   },
   {
    "duration": 337,
    "start_time": "2022-09-18T19:37:14.667Z"
   },
   {
    "duration": 20,
    "start_time": "2022-09-18T19:37:15.006Z"
   },
   {
    "duration": 45,
    "start_time": "2022-09-18T19:37:15.035Z"
   },
   {
    "duration": 15,
    "start_time": "2022-09-18T19:37:15.082Z"
   },
   {
    "duration": 36,
    "start_time": "2022-09-18T19:37:15.099Z"
   },
   {
    "duration": 36,
    "start_time": "2022-09-18T19:37:15.136Z"
   },
   {
    "duration": 126,
    "start_time": "2022-09-18T19:37:15.174Z"
   },
   {
    "duration": 19,
    "start_time": "2022-09-18T19:37:15.303Z"
   },
   {
    "duration": 22,
    "start_time": "2022-09-18T19:37:15.327Z"
   },
   {
    "duration": 2283,
    "start_time": "2022-09-18T19:37:15.351Z"
   },
   {
    "duration": 34,
    "start_time": "2022-09-18T19:37:17.640Z"
   },
   {
    "duration": 21,
    "start_time": "2022-09-18T19:37:17.676Z"
   },
   {
    "duration": 31,
    "start_time": "2022-09-18T19:37:17.699Z"
   },
   {
    "duration": 202,
    "start_time": "2022-09-18T19:37:17.738Z"
   },
   {
    "duration": 29,
    "start_time": "2022-09-18T19:37:17.947Z"
   },
   {
    "duration": 784,
    "start_time": "2022-09-18T19:37:17.978Z"
   },
   {
    "duration": 44,
    "start_time": "2022-09-18T19:37:18.764Z"
   },
   {
    "duration": 489,
    "start_time": "2022-09-18T19:38:33.878Z"
   },
   {
    "duration": 456,
    "start_time": "2022-09-18T19:40:00.050Z"
   },
   {
    "duration": 484,
    "start_time": "2022-09-18T19:40:13.805Z"
   },
   {
    "duration": 559,
    "start_time": "2022-09-18T19:40:29.658Z"
   },
   {
    "duration": 475,
    "start_time": "2022-09-18T19:40:37.647Z"
   },
   {
    "duration": 36,
    "start_time": "2022-09-18T19:45:53.980Z"
   },
   {
    "duration": 50,
    "start_time": "2022-09-18T19:46:19.811Z"
   },
   {
    "duration": 15,
    "start_time": "2022-09-18T19:46:22.754Z"
   },
   {
    "duration": 77,
    "start_time": "2022-09-18T19:46:25.762Z"
   },
   {
    "duration": 19,
    "start_time": "2022-09-18T19:46:30.065Z"
   },
   {
    "duration": 27,
    "start_time": "2022-09-18T19:46:45.521Z"
   },
   {
    "duration": 3,
    "start_time": "2022-09-18T19:47:10.674Z"
   },
   {
    "duration": 126,
    "start_time": "2022-09-18T19:47:30.957Z"
   },
   {
    "duration": 85,
    "start_time": "2022-09-18T19:47:37.647Z"
   },
   {
    "duration": 13,
    "start_time": "2022-09-18T19:48:06.849Z"
   },
   {
    "duration": 16,
    "start_time": "2022-09-18T19:48:12.774Z"
   },
   {
    "duration": 5,
    "start_time": "2022-09-18T19:48:25.897Z"
   },
   {
    "duration": 17,
    "start_time": "2022-09-18T19:48:35.907Z"
   },
   {
    "duration": 23,
    "start_time": "2022-09-18T19:52:55.817Z"
   },
   {
    "duration": 11,
    "start_time": "2022-09-18T19:53:18.477Z"
   },
   {
    "duration": 16,
    "start_time": "2022-09-18T19:53:22.754Z"
   },
   {
    "duration": 37,
    "start_time": "2022-09-18T19:53:28.606Z"
   },
   {
    "duration": 55,
    "start_time": "2022-09-18T19:54:18.825Z"
   },
   {
    "duration": 1904,
    "start_time": "2022-09-18T19:54:35.272Z"
   },
   {
    "duration": 15,
    "start_time": "2022-09-18T19:54:38.458Z"
   },
   {
    "duration": 30,
    "start_time": "2022-09-18T19:55:15.415Z"
   },
   {
    "duration": 18,
    "start_time": "2022-09-18T19:55:19.984Z"
   },
   {
    "duration": 13,
    "start_time": "2022-09-18T19:55:22.373Z"
   },
   {
    "duration": 21,
    "start_time": "2022-09-18T19:55:24.608Z"
   },
   {
    "duration": 24,
    "start_time": "2022-09-18T19:55:28.418Z"
   },
   {
    "duration": 39,
    "start_time": "2022-09-18T19:55:31.357Z"
   },
   {
    "duration": 655,
    "start_time": "2022-09-18T19:55:37.296Z"
   },
   {
    "duration": 1937,
    "start_time": "2022-09-18T19:55:42.237Z"
   },
   {
    "duration": 14,
    "start_time": "2022-09-18T19:55:44.415Z"
   },
   {
    "duration": 8,
    "start_time": "2022-09-18T19:55:57.951Z"
   },
   {
    "duration": 56,
    "start_time": "2022-09-18T19:56:48.214Z"
   },
   {
    "duration": 1710,
    "start_time": "2022-09-18T19:56:49.954Z"
   },
   {
    "duration": 16,
    "start_time": "2022-09-18T19:56:51.666Z"
   },
   {
    "duration": 8,
    "start_time": "2022-09-18T19:57:10.853Z"
   },
   {
    "duration": 23,
    "start_time": "2022-09-18T19:57:13.814Z"
   },
   {
    "duration": 21,
    "start_time": "2022-09-18T19:57:21.210Z"
   },
   {
    "duration": 135,
    "start_time": "2022-09-18T19:57:25.904Z"
   },
   {
    "duration": 22,
    "start_time": "2022-09-18T19:57:29.788Z"
   },
   {
    "duration": 558,
    "start_time": "2022-09-18T19:58:50.044Z"
   },
   {
    "duration": 820,
    "start_time": "2022-09-19T13:57:22.072Z"
   },
   {
    "duration": 185,
    "start_time": "2022-09-19T13:57:23.190Z"
   },
   {
    "duration": 18,
    "start_time": "2022-09-19T13:57:23.795Z"
   },
   {
    "duration": 1895,
    "start_time": "2022-09-19T13:57:24.138Z"
   },
   {
    "duration": 10,
    "start_time": "2022-09-19T13:57:26.035Z"
   },
   {
    "duration": 5,
    "start_time": "2022-09-19T13:57:26.047Z"
   },
   {
    "duration": 470,
    "start_time": "2022-09-19T13:57:28.928Z"
   },
   {
    "duration": 11,
    "start_time": "2022-09-19T13:57:32.080Z"
   },
   {
    "duration": 30,
    "start_time": "2022-09-19T13:57:33.607Z"
   },
   {
    "duration": 16,
    "start_time": "2022-09-19T13:57:35.600Z"
   },
   {
    "duration": 15,
    "start_time": "2022-09-19T13:57:40.559Z"
   },
   {
    "duration": 19,
    "start_time": "2022-09-19T13:57:44.589Z"
   },
   {
    "duration": 26,
    "start_time": "2022-09-19T13:57:45.217Z"
   },
   {
    "duration": 30,
    "start_time": "2022-09-19T13:57:52.895Z"
   },
   {
    "duration": 60,
    "start_time": "2022-09-19T14:03:01.422Z"
   },
   {
    "duration": 28,
    "start_time": "2022-09-19T14:03:45.372Z"
   },
   {
    "duration": 7,
    "start_time": "2022-09-19T14:04:15.724Z"
   },
   {
    "duration": 39,
    "start_time": "2022-09-19T14:04:22.563Z"
   },
   {
    "duration": 16,
    "start_time": "2022-09-19T14:04:25.618Z"
   },
   {
    "duration": 14,
    "start_time": "2022-09-19T14:04:30.122Z"
   },
   {
    "duration": 18,
    "start_time": "2022-09-19T14:04:34.551Z"
   },
   {
    "duration": 27,
    "start_time": "2022-09-19T14:04:38.112Z"
   },
   {
    "duration": 28,
    "start_time": "2022-09-19T14:04:43.393Z"
   },
   {
    "duration": 28,
    "start_time": "2022-09-19T14:04:47.507Z"
   },
   {
    "duration": 56,
    "start_time": "2022-09-19T14:05:53.692Z"
   },
   {
    "duration": 2066,
    "start_time": "2022-09-19T14:05:54.203Z"
   },
   {
    "duration": 25,
    "start_time": "2022-09-19T14:05:56.272Z"
   },
   {
    "duration": 9,
    "start_time": "2022-09-19T14:06:01.727Z"
   },
   {
    "duration": 1026,
    "start_time": "2022-09-19T14:06:55.576Z"
   },
   {
    "duration": 112,
    "start_time": "2022-09-19T14:07:38.485Z"
   },
   {
    "duration": 130,
    "start_time": "2022-09-19T14:09:21.644Z"
   },
   {
    "duration": 116,
    "start_time": "2022-09-19T14:09:58.159Z"
   },
   {
    "duration": 128,
    "start_time": "2022-09-19T14:10:04.029Z"
   },
   {
    "duration": 143,
    "start_time": "2022-09-19T14:10:29.308Z"
   },
   {
    "duration": 61,
    "start_time": "2022-09-19T14:12:11.479Z"
   },
   {
    "duration": 14,
    "start_time": "2022-09-19T14:12:37.368Z"
   },
   {
    "duration": 11,
    "start_time": "2022-09-19T14:13:15.362Z"
   },
   {
    "duration": 13,
    "start_time": "2022-09-19T14:13:26.411Z"
   },
   {
    "duration": 10,
    "start_time": "2022-09-19T14:13:37.602Z"
   },
   {
    "duration": 11,
    "start_time": "2022-09-19T14:13:44.403Z"
   },
   {
    "duration": 12,
    "start_time": "2022-09-19T14:15:34.443Z"
   },
   {
    "duration": 13,
    "start_time": "2022-09-19T14:16:02.482Z"
   },
   {
    "duration": 9,
    "start_time": "2022-09-19T14:21:45.449Z"
   },
   {
    "duration": 44,
    "start_time": "2022-09-19T14:22:39.479Z"
   },
   {
    "duration": 4368,
    "start_time": "2022-09-19T14:23:01.378Z"
   },
   {
    "duration": 10567,
    "start_time": "2022-09-19T14:23:16.631Z"
   },
   {
    "duration": 6579,
    "start_time": "2022-09-19T14:23:38.403Z"
   },
   {
    "duration": 1185,
    "start_time": "2022-09-19T14:23:48.292Z"
   },
   {
    "duration": 14,
    "start_time": "2022-09-19T14:24:16.879Z"
   },
   {
    "duration": 14,
    "start_time": "2022-09-19T14:24:30.495Z"
   },
   {
    "duration": 12,
    "start_time": "2022-09-19T14:24:47.659Z"
   },
   {
    "duration": 12,
    "start_time": "2022-09-19T14:25:08.020Z"
   },
   {
    "duration": 5,
    "start_time": "2022-09-19T14:25:20.650Z"
   },
   {
    "duration": 15,
    "start_time": "2022-09-19T14:25:59.740Z"
   },
   {
    "duration": 23,
    "start_time": "2022-09-19T14:26:41.970Z"
   },
   {
    "duration": 25,
    "start_time": "2022-09-19T14:27:44.098Z"
   },
   {
    "duration": 7,
    "start_time": "2022-09-19T14:28:01.997Z"
   },
   {
    "duration": 5,
    "start_time": "2022-09-19T14:29:17.198Z"
   },
   {
    "duration": 5,
    "start_time": "2022-09-19T14:29:20.697Z"
   },
   {
    "duration": 16,
    "start_time": "2022-09-19T14:29:29.508Z"
   },
   {
    "duration": 18,
    "start_time": "2022-09-19T14:34:11.846Z"
   },
   {
    "duration": 17,
    "start_time": "2022-09-19T14:34:41.232Z"
   },
   {
    "duration": 15,
    "start_time": "2022-09-19T14:35:21.073Z"
   },
   {
    "duration": 15,
    "start_time": "2022-09-19T14:35:32.908Z"
   },
   {
    "duration": 252,
    "start_time": "2022-09-19T14:36:45.921Z"
   },
   {
    "duration": 11,
    "start_time": "2022-09-19T14:38:00.192Z"
   },
   {
    "duration": 17,
    "start_time": "2022-09-19T14:38:10.700Z"
   },
   {
    "duration": 21,
    "start_time": "2022-09-19T14:38:12.038Z"
   },
   {
    "duration": 132,
    "start_time": "2022-09-19T14:38:13.540Z"
   },
   {
    "duration": 17,
    "start_time": "2022-09-19T14:38:15.275Z"
   },
   {
    "duration": 173,
    "start_time": "2022-09-19T14:40:53.456Z"
   },
   {
    "duration": 17,
    "start_time": "2022-09-19T14:43:00.638Z"
   },
   {
    "duration": 19,
    "start_time": "2022-09-19T14:43:02.614Z"
   },
   {
    "duration": 143,
    "start_time": "2022-09-19T14:43:03.770Z"
   },
   {
    "duration": 25,
    "start_time": "2022-09-19T14:43:05.072Z"
   },
   {
    "duration": 632,
    "start_time": "2022-09-19T14:43:07.538Z"
   },
   {
    "duration": 50,
    "start_time": "2022-09-19T14:43:08.172Z"
   },
   {
    "duration": 203,
    "start_time": "2022-09-19T14:52:59.868Z"
   },
   {
    "duration": 122,
    "start_time": "2022-09-19T14:53:08.699Z"
   },
   {
    "duration": 135,
    "start_time": "2022-09-19T14:53:18.869Z"
   },
   {
    "duration": 127,
    "start_time": "2022-09-19T14:53:28.904Z"
   },
   {
    "duration": 127,
    "start_time": "2022-09-19T14:53:38.254Z"
   },
   {
    "duration": 137,
    "start_time": "2022-09-19T14:54:07.351Z"
   },
   {
    "duration": 198,
    "start_time": "2022-09-19T14:54:37.982Z"
   },
   {
    "duration": 123,
    "start_time": "2022-09-19T14:54:45.271Z"
   },
   {
    "duration": 130,
    "start_time": "2022-09-19T14:56:09.734Z"
   },
   {
    "duration": 145,
    "start_time": "2022-09-19T14:56:17.446Z"
   },
   {
    "duration": 139,
    "start_time": "2022-09-19T14:56:33.456Z"
   },
   {
    "duration": 119,
    "start_time": "2022-09-19T14:57:20.454Z"
   },
   {
    "duration": 155,
    "start_time": "2022-09-19T14:57:28.302Z"
   },
   {
    "duration": 802,
    "start_time": "2022-09-19T17:56:07.478Z"
   },
   {
    "duration": 343,
    "start_time": "2022-09-19T17:56:08.282Z"
   },
   {
    "duration": 14,
    "start_time": "2022-09-19T17:56:08.627Z"
   },
   {
    "duration": 1794,
    "start_time": "2022-09-19T17:56:08.643Z"
   },
   {
    "duration": 8,
    "start_time": "2022-09-19T17:56:10.439Z"
   },
   {
    "duration": 2,
    "start_time": "2022-09-19T17:56:10.449Z"
   },
   {
    "duration": 477,
    "start_time": "2022-09-19T17:56:10.453Z"
   },
   {
    "duration": 9,
    "start_time": "2022-09-19T17:56:10.932Z"
   },
   {
    "duration": 28,
    "start_time": "2022-09-19T17:56:10.943Z"
   },
   {
    "duration": 15,
    "start_time": "2022-09-19T17:56:11.036Z"
   },
   {
    "duration": 18,
    "start_time": "2022-09-19T17:56:11.734Z"
   },
   {
    "duration": 18,
    "start_time": "2022-09-19T17:56:12.228Z"
   },
   {
    "duration": 33,
    "start_time": "2022-09-19T17:56:12.501Z"
   },
   {
    "duration": 31,
    "start_time": "2022-09-19T17:56:12.834Z"
   },
   {
    "duration": 53,
    "start_time": "2022-09-19T17:56:13.296Z"
   },
   {
    "duration": 2213,
    "start_time": "2022-09-19T17:56:13.577Z"
   },
   {
    "duration": 17,
    "start_time": "2022-09-19T17:56:15.792Z"
   },
   {
    "duration": 119,
    "start_time": "2022-09-19T17:56:15.810Z"
   },
   {
    "duration": 13,
    "start_time": "2022-09-19T17:56:15.932Z"
   },
   {
    "duration": 16,
    "start_time": "2022-09-19T17:56:15.946Z"
   },
   {
    "duration": 9,
    "start_time": "2022-09-19T17:56:15.964Z"
   },
   {
    "duration": 135,
    "start_time": "2022-09-19T17:56:15.974Z"
   },
   {
    "duration": 17,
    "start_time": "2022-09-19T17:56:16.110Z"
   },
   {
    "duration": 17,
    "start_time": "2022-09-19T17:56:16.129Z"
   },
   {
    "duration": 150,
    "start_time": "2022-09-19T17:56:16.338Z"
   },
   {
    "duration": 17,
    "start_time": "2022-09-19T17:56:16.669Z"
   },
   {
    "duration": 662,
    "start_time": "2022-09-19T17:56:17.364Z"
   },
   {
    "duration": 39,
    "start_time": "2022-09-19T17:56:18.028Z"
   },
   {
    "duration": 175,
    "start_time": "2022-09-19T17:56:18.070Z"
   },
   {
    "duration": 124,
    "start_time": "2022-09-19T17:58:57.530Z"
   },
   {
    "duration": 390,
    "start_time": "2022-09-19T18:00:02.403Z"
   },
   {
    "duration": 1959,
    "start_time": "2022-09-19T18:02:48.767Z"
   },
   {
    "duration": 10,
    "start_time": "2022-09-19T18:03:00.013Z"
   },
   {
    "duration": 10,
    "start_time": "2022-09-19T18:03:16.495Z"
   },
   {
    "duration": 11,
    "start_time": "2022-09-19T18:03:23.175Z"
   },
   {
    "duration": 14,
    "start_time": "2022-09-19T18:03:33.541Z"
   },
   {
    "duration": 10,
    "start_time": "2022-09-19T18:04:34.917Z"
   },
   {
    "duration": 11,
    "start_time": "2022-09-19T18:04:40.414Z"
   },
   {
    "duration": 9,
    "start_time": "2022-09-19T18:04:44.547Z"
   },
   {
    "duration": 10,
    "start_time": "2022-09-19T18:05:06.184Z"
   },
   {
    "duration": 13,
    "start_time": "2022-09-19T18:05:09.812Z"
   },
   {
    "duration": 11,
    "start_time": "2022-09-19T18:14:22.774Z"
   },
   {
    "duration": 5,
    "start_time": "2022-09-19T18:15:01.319Z"
   },
   {
    "duration": 7,
    "start_time": "2022-09-19T18:16:17.766Z"
   },
   {
    "duration": 28,
    "start_time": "2022-09-19T18:16:29.694Z"
   },
   {
    "duration": 15,
    "start_time": "2022-09-19T18:16:32.080Z"
   },
   {
    "duration": 15,
    "start_time": "2022-09-19T18:16:34.129Z"
   },
   {
    "duration": 15,
    "start_time": "2022-09-19T18:16:36.350Z"
   },
   {
    "duration": 11,
    "start_time": "2022-09-19T18:16:47.761Z"
   },
   {
    "duration": 7,
    "start_time": "2022-09-19T18:19:49.482Z"
   },
   {
    "duration": 27,
    "start_time": "2022-09-19T18:19:56.099Z"
   },
   {
    "duration": 16,
    "start_time": "2022-09-19T18:20:01.164Z"
   },
   {
    "duration": 11,
    "start_time": "2022-09-19T18:21:02.154Z"
   },
   {
    "duration": 554,
    "start_time": "2022-09-19T18:24:06.361Z"
   },
   {
    "duration": 125,
    "start_time": "2022-09-19T18:24:07.523Z"
   },
   {
    "duration": 14,
    "start_time": "2022-09-19T18:24:08.363Z"
   },
   {
    "duration": 1825,
    "start_time": "2022-09-19T18:24:09.156Z"
   },
   {
    "duration": 9,
    "start_time": "2022-09-19T18:24:10.983Z"
   },
   {
    "duration": 2,
    "start_time": "2022-09-19T18:24:11.064Z"
   },
   {
    "duration": 330,
    "start_time": "2022-09-19T18:24:13.328Z"
   },
   {
    "duration": 8,
    "start_time": "2022-09-19T18:24:14.538Z"
   },
   {
    "duration": 31,
    "start_time": "2022-09-19T18:24:15.443Z"
   },
   {
    "duration": 16,
    "start_time": "2022-09-19T18:24:16.271Z"
   },
   {
    "duration": 13,
    "start_time": "2022-09-19T18:24:18.958Z"
   },
   {
    "duration": 27,
    "start_time": "2022-09-19T18:31:46.903Z"
   },
   {
    "duration": 14,
    "start_time": "2022-09-19T18:37:00.709Z"
   },
   {
    "duration": 13,
    "start_time": "2022-09-19T18:37:40.797Z"
   },
   {
    "duration": 12,
    "start_time": "2022-09-19T18:38:27.199Z"
   },
   {
    "duration": 29,
    "start_time": "2022-09-19T18:38:42.781Z"
   },
   {
    "duration": 15,
    "start_time": "2022-09-19T18:38:45.047Z"
   },
   {
    "duration": 12,
    "start_time": "2022-09-19T18:38:47.255Z"
   },
   {
    "duration": 12,
    "start_time": "2022-09-19T18:38:49.650Z"
   },
   {
    "duration": 10,
    "start_time": "2022-09-19T18:40:00.779Z"
   },
   {
    "duration": 29,
    "start_time": "2022-09-19T18:42:03.098Z"
   },
   {
    "duration": 15,
    "start_time": "2022-09-19T18:42:05.045Z"
   },
   {
    "duration": 11,
    "start_time": "2022-09-19T18:42:07.077Z"
   },
   {
    "duration": 725,
    "start_time": "2022-09-19T18:42:09.628Z"
   },
   {
    "duration": 91,
    "start_time": "2022-09-19T18:44:00.591Z"
   },
   {
    "duration": 649,
    "start_time": "2022-09-19T18:44:17.185Z"
   },
   {
    "duration": 1189,
    "start_time": "2022-09-19T18:44:31.254Z"
   },
   {
    "duration": 1054,
    "start_time": "2022-09-19T18:45:11.191Z"
   },
   {
    "duration": 27,
    "start_time": "2022-09-19T18:51:04.873Z"
   },
   {
    "duration": 15,
    "start_time": "2022-09-19T18:51:05.534Z"
   },
   {
    "duration": 11,
    "start_time": "2022-09-19T18:51:06.586Z"
   },
   {
    "duration": 72,
    "start_time": "2022-09-19T18:51:09.602Z"
   },
   {
    "duration": 75,
    "start_time": "2022-09-19T18:51:47.273Z"
   },
   {
    "duration": 69,
    "start_time": "2022-09-19T18:51:55.323Z"
   },
   {
    "duration": 87,
    "start_time": "2022-09-19T18:52:00.613Z"
   },
   {
    "duration": 75,
    "start_time": "2022-09-19T18:52:09.127Z"
   },
   {
    "duration": 83,
    "start_time": "2022-09-19T18:52:27.391Z"
   },
   {
    "duration": 643,
    "start_time": "2022-09-19T18:52:50.511Z"
   },
   {
    "duration": 1450,
    "start_time": "2022-09-19T18:53:33.882Z"
   },
   {
    "duration": 9,
    "start_time": "2022-09-19T18:59:54.242Z"
   },
   {
    "duration": 63,
    "start_time": "2022-09-19T19:00:20.309Z"
   },
   {
    "duration": 650,
    "start_time": "2022-09-19T19:00:23.145Z"
   },
   {
    "duration": 120,
    "start_time": "2022-09-19T19:00:24.777Z"
   },
   {
    "duration": 108,
    "start_time": "2022-09-19T19:00:31.954Z"
   },
   {
    "duration": 14,
    "start_time": "2022-09-19T19:00:37.116Z"
   },
   {
    "duration": 1224,
    "start_time": "2022-09-19T19:01:02.146Z"
   },
   {
    "duration": 1912,
    "start_time": "2022-09-19T19:01:10.737Z"
   },
   {
    "duration": 2,
    "start_time": "2022-09-19T19:02:38.574Z"
   },
   {
    "duration": 386,
    "start_time": "2022-09-19T19:04:10.623Z"
   },
   {
    "duration": 646,
    "start_time": "2022-09-19T19:05:07.943Z"
   },
   {
    "duration": 113,
    "start_time": "2022-09-19T19:05:08.591Z"
   },
   {
    "duration": 14,
    "start_time": "2022-09-19T19:05:08.705Z"
   },
   {
    "duration": 1816,
    "start_time": "2022-09-19T19:05:08.721Z"
   },
   {
    "duration": 9,
    "start_time": "2022-09-19T19:05:10.538Z"
   },
   {
    "duration": 6,
    "start_time": "2022-09-19T19:05:10.548Z"
   },
   {
    "duration": 328,
    "start_time": "2022-09-19T19:05:10.555Z"
   },
   {
    "duration": 9,
    "start_time": "2022-09-19T19:05:10.884Z"
   },
   {
    "duration": 42,
    "start_time": "2022-09-19T19:05:10.894Z"
   },
   {
    "duration": 15,
    "start_time": "2022-09-19T19:05:10.938Z"
   },
   {
    "duration": 11,
    "start_time": "2022-09-19T19:05:10.954Z"
   },
   {
    "duration": 1386,
    "start_time": "2022-09-19T19:05:10.966Z"
   },
   {
    "duration": 180,
    "start_time": "2022-09-19T19:05:12.353Z"
   },
   {
    "duration": 0,
    "start_time": "2022-09-19T19:05:12.540Z"
   },
   {
    "duration": 0,
    "start_time": "2022-09-19T19:05:12.542Z"
   },
   {
    "duration": 0,
    "start_time": "2022-09-19T19:05:12.543Z"
   },
   {
    "duration": 0,
    "start_time": "2022-09-19T19:05:12.544Z"
   },
   {
    "duration": 0,
    "start_time": "2022-09-19T19:05:12.546Z"
   },
   {
    "duration": 0,
    "start_time": "2022-09-19T19:05:12.547Z"
   },
   {
    "duration": 0,
    "start_time": "2022-09-19T19:05:12.548Z"
   },
   {
    "duration": 0,
    "start_time": "2022-09-19T19:05:12.549Z"
   },
   {
    "duration": 0,
    "start_time": "2022-09-19T19:05:12.550Z"
   },
   {
    "duration": 0,
    "start_time": "2022-09-19T19:05:12.552Z"
   },
   {
    "duration": 0,
    "start_time": "2022-09-19T19:05:12.553Z"
   },
   {
    "duration": 0,
    "start_time": "2022-09-19T19:05:12.554Z"
   },
   {
    "duration": 30,
    "start_time": "2022-09-19T19:07:15.635Z"
   },
   {
    "duration": 19,
    "start_time": "2022-09-19T19:07:41.471Z"
   },
   {
    "duration": 17,
    "start_time": "2022-09-19T19:07:53.112Z"
   },
   {
    "duration": 644,
    "start_time": "2022-09-19T19:11:21.014Z"
   },
   {
    "duration": 140,
    "start_time": "2022-09-19T19:11:21.660Z"
   },
   {
    "duration": 16,
    "start_time": "2022-09-19T19:11:21.810Z"
   },
   {
    "duration": 1925,
    "start_time": "2022-09-19T19:11:21.828Z"
   },
   {
    "duration": 9,
    "start_time": "2022-09-19T19:11:23.755Z"
   },
   {
    "duration": 14,
    "start_time": "2022-09-19T19:11:23.766Z"
   },
   {
    "duration": 347,
    "start_time": "2022-09-19T19:11:23.781Z"
   },
   {
    "duration": 8,
    "start_time": "2022-09-19T19:11:24.130Z"
   },
   {
    "duration": 55,
    "start_time": "2022-09-19T19:11:24.141Z"
   },
   {
    "duration": 23,
    "start_time": "2022-09-19T19:11:24.198Z"
   },
   {
    "duration": 26,
    "start_time": "2022-09-19T19:11:24.222Z"
   },
   {
    "duration": 1419,
    "start_time": "2022-09-19T19:11:24.250Z"
   },
   {
    "duration": 664,
    "start_time": "2022-09-19T19:11:25.670Z"
   },
   {
    "duration": 0,
    "start_time": "2022-09-19T19:11:26.336Z"
   },
   {
    "duration": 0,
    "start_time": "2022-09-19T19:11:26.337Z"
   },
   {
    "duration": 0,
    "start_time": "2022-09-19T19:11:26.338Z"
   },
   {
    "duration": 0,
    "start_time": "2022-09-19T19:11:26.340Z"
   },
   {
    "duration": 0,
    "start_time": "2022-09-19T19:11:26.342Z"
   },
   {
    "duration": 0,
    "start_time": "2022-09-19T19:11:26.343Z"
   },
   {
    "duration": 0,
    "start_time": "2022-09-19T19:11:26.345Z"
   },
   {
    "duration": 0,
    "start_time": "2022-09-19T19:11:26.346Z"
   },
   {
    "duration": 1,
    "start_time": "2022-09-19T19:11:26.347Z"
   },
   {
    "duration": 0,
    "start_time": "2022-09-19T19:11:26.349Z"
   },
   {
    "duration": 0,
    "start_time": "2022-09-19T19:11:26.351Z"
   },
   {
    "duration": 0,
    "start_time": "2022-09-19T19:11:26.352Z"
   },
   {
    "duration": 3,
    "start_time": "2022-09-19T19:11:26.700Z"
   },
   {
    "duration": 105,
    "start_time": "2022-09-19T19:11:27.516Z"
   },
   {
    "duration": 14,
    "start_time": "2022-09-19T19:11:28.804Z"
   },
   {
    "duration": 1682,
    "start_time": "2022-09-19T19:11:29.836Z"
   },
   {
    "duration": 9,
    "start_time": "2022-09-19T19:11:32.050Z"
   },
   {
    "duration": 3,
    "start_time": "2022-09-19T19:11:32.589Z"
   },
   {
    "duration": 405,
    "start_time": "2022-09-19T19:11:35.575Z"
   },
   {
    "duration": 7,
    "start_time": "2022-09-19T19:11:37.516Z"
   },
   {
    "duration": 24,
    "start_time": "2022-09-19T19:11:38.378Z"
   },
   {
    "duration": 15,
    "start_time": "2022-09-19T19:11:40.114Z"
   },
   {
    "duration": 14,
    "start_time": "2022-09-19T19:11:41.952Z"
   },
   {
    "duration": 1339,
    "start_time": "2022-09-19T19:11:46.186Z"
   },
   {
    "duration": 8,
    "start_time": "2022-09-19T19:12:56.705Z"
   },
   {
    "duration": 118,
    "start_time": "2022-09-19T19:15:52.530Z"
   },
   {
    "duration": 112,
    "start_time": "2022-09-19T19:16:32.742Z"
   },
   {
    "duration": 104,
    "start_time": "2022-09-19T19:16:37.139Z"
   },
   {
    "duration": 114,
    "start_time": "2022-09-19T19:17:04.692Z"
   },
   {
    "duration": 45,
    "start_time": "2022-09-19T19:19:22.617Z"
   },
   {
    "duration": 42,
    "start_time": "2022-09-19T19:19:39.031Z"
   },
   {
    "duration": 34,
    "start_time": "2022-09-19T19:20:34.693Z"
   },
   {
    "duration": 33,
    "start_time": "2022-09-19T19:20:46.888Z"
   },
   {
    "duration": 32,
    "start_time": "2022-09-19T19:20:56.307Z"
   },
   {
    "duration": 2108,
    "start_time": "2022-09-19T19:21:04.881Z"
   },
   {
    "duration": 20,
    "start_time": "2022-09-19T19:21:16.851Z"
   },
   {
    "duration": 13,
    "start_time": "2022-09-19T19:21:34.986Z"
   },
   {
    "duration": 35,
    "start_time": "2022-09-19T19:23:17.547Z"
   },
   {
    "duration": 1520,
    "start_time": "2022-09-19T19:23:19.387Z"
   },
   {
    "duration": 17,
    "start_time": "2022-09-19T19:23:20.909Z"
   },
   {
    "duration": 108,
    "start_time": "2022-09-19T19:23:21.641Z"
   },
   {
    "duration": 17,
    "start_time": "2022-09-19T19:23:23.748Z"
   },
   {
    "duration": 18,
    "start_time": "2022-09-19T19:23:41.729Z"
   },
   {
    "duration": 15,
    "start_time": "2022-09-19T19:23:43.004Z"
   },
   {
    "duration": 21,
    "start_time": "2022-09-19T19:23:47.661Z"
   },
   {
    "duration": 32,
    "start_time": "2022-09-19T19:24:03.541Z"
   },
   {
    "duration": 1378,
    "start_time": "2022-09-19T19:24:04.177Z"
   },
   {
    "duration": 17,
    "start_time": "2022-09-19T19:24:05.556Z"
   },
   {
    "duration": 106,
    "start_time": "2022-09-19T19:24:05.689Z"
   },
   {
    "duration": 19,
    "start_time": "2022-09-19T19:24:08.050Z"
   },
   {
    "duration": 18,
    "start_time": "2022-09-19T19:24:26.446Z"
   },
   {
    "duration": 14,
    "start_time": "2022-09-19T19:26:10.607Z"
   },
   {
    "duration": 13,
    "start_time": "2022-09-19T19:26:37.947Z"
   },
   {
    "duration": 12,
    "start_time": "2022-09-19T19:26:56.280Z"
   },
   {
    "duration": 13,
    "start_time": "2022-09-19T19:27:03.002Z"
   },
   {
    "duration": 646,
    "start_time": "2022-09-19T19:27:12.315Z"
   },
   {
    "duration": 114,
    "start_time": "2022-09-19T19:27:12.963Z"
   },
   {
    "duration": 15,
    "start_time": "2022-09-19T19:27:13.079Z"
   },
   {
    "duration": 1828,
    "start_time": "2022-09-19T19:27:13.097Z"
   },
   {
    "duration": 13,
    "start_time": "2022-09-19T19:27:14.926Z"
   },
   {
    "duration": 3,
    "start_time": "2022-09-19T19:27:14.940Z"
   },
   {
    "duration": 345,
    "start_time": "2022-09-19T19:27:14.945Z"
   },
   {
    "duration": 20,
    "start_time": "2022-09-19T19:27:15.291Z"
   },
   {
    "duration": 20,
    "start_time": "2022-09-19T19:27:15.313Z"
   },
   {
    "duration": 16,
    "start_time": "2022-09-19T19:27:15.335Z"
   },
   {
    "duration": 11,
    "start_time": "2022-09-19T19:27:15.352Z"
   },
   {
    "duration": 1430,
    "start_time": "2022-09-19T19:27:15.364Z"
   },
   {
    "duration": 123,
    "start_time": "2022-09-19T19:27:16.796Z"
   },
   {
    "duration": 16,
    "start_time": "2022-09-19T19:27:16.921Z"
   },
   {
    "duration": 32,
    "start_time": "2022-09-19T19:27:16.939Z"
   },
   {
    "duration": 2108,
    "start_time": "2022-09-19T19:27:16.973Z"
   },
   {
    "duration": 14,
    "start_time": "2022-09-19T19:27:19.083Z"
   },
   {
    "duration": 116,
    "start_time": "2022-09-19T19:27:19.108Z"
   },
   {
    "duration": 17,
    "start_time": "2022-09-19T19:27:19.225Z"
   },
   {
    "duration": 14,
    "start_time": "2022-09-19T19:27:19.244Z"
   },
   {
    "duration": 20,
    "start_time": "2022-09-19T19:27:19.259Z"
   },
   {
    "duration": 41,
    "start_time": "2022-09-19T19:27:19.281Z"
   },
   {
    "duration": 187,
    "start_time": "2022-09-19T19:27:19.324Z"
   },
   {
    "duration": 0,
    "start_time": "2022-09-19T19:27:19.513Z"
   },
   {
    "duration": 0,
    "start_time": "2022-09-19T19:27:19.515Z"
   },
   {
    "duration": 0,
    "start_time": "2022-09-19T19:27:19.516Z"
   },
   {
    "duration": 0,
    "start_time": "2022-09-19T19:27:19.517Z"
   },
   {
    "duration": 33,
    "start_time": "2022-09-19T19:28:35.715Z"
   },
   {
    "duration": 614,
    "start_time": "2022-09-19T19:28:47.543Z"
   },
   {
    "duration": 113,
    "start_time": "2022-09-19T19:28:48.158Z"
   },
   {
    "duration": 13,
    "start_time": "2022-09-19T19:28:48.273Z"
   },
   {
    "duration": 1814,
    "start_time": "2022-09-19T19:28:48.287Z"
   },
   {
    "duration": 9,
    "start_time": "2022-09-19T19:28:50.103Z"
   },
   {
    "duration": 14,
    "start_time": "2022-09-19T19:28:50.114Z"
   },
   {
    "duration": 368,
    "start_time": "2022-09-19T19:28:50.129Z"
   },
   {
    "duration": 17,
    "start_time": "2022-09-19T19:28:50.499Z"
   },
   {
    "duration": 35,
    "start_time": "2022-09-19T19:28:50.517Z"
   },
   {
    "duration": 15,
    "start_time": "2022-09-19T19:28:50.553Z"
   },
   {
    "duration": 10,
    "start_time": "2022-09-19T19:28:50.570Z"
   },
   {
    "duration": 1424,
    "start_time": "2022-09-19T19:28:50.581Z"
   },
   {
    "duration": 126,
    "start_time": "2022-09-19T19:28:52.008Z"
   },
   {
    "duration": 15,
    "start_time": "2022-09-19T19:28:52.146Z"
   },
   {
    "duration": 33,
    "start_time": "2022-09-19T19:28:52.163Z"
   },
   {
    "duration": 2259,
    "start_time": "2022-09-19T19:28:52.197Z"
   },
   {
    "duration": 13,
    "start_time": "2022-09-19T19:28:54.457Z"
   },
   {
    "duration": 118,
    "start_time": "2022-09-19T19:28:54.471Z"
   },
   {
    "duration": 28,
    "start_time": "2022-09-19T19:28:54.591Z"
   },
   {
    "duration": 23,
    "start_time": "2022-09-19T19:28:54.620Z"
   },
   {
    "duration": 20,
    "start_time": "2022-09-19T19:28:54.645Z"
   },
   {
    "duration": 19,
    "start_time": "2022-09-19T19:28:54.667Z"
   },
   {
    "duration": 193,
    "start_time": "2022-09-19T19:28:54.708Z"
   },
   {
    "duration": 0,
    "start_time": "2022-09-19T19:28:54.903Z"
   },
   {
    "duration": 0,
    "start_time": "2022-09-19T19:28:54.905Z"
   },
   {
    "duration": 0,
    "start_time": "2022-09-19T19:28:54.909Z"
   },
   {
    "duration": 0,
    "start_time": "2022-09-19T19:28:54.909Z"
   },
   {
    "duration": 6,
    "start_time": "2022-09-19T19:29:49.486Z"
   },
   {
    "duration": 118,
    "start_time": "2022-09-19T19:32:15.246Z"
   },
   {
    "duration": 189,
    "start_time": "2022-09-19T19:32:31.971Z"
   },
   {
    "duration": 115,
    "start_time": "2022-09-19T19:32:37.344Z"
   },
   {
    "duration": 641,
    "start_time": "2022-09-19T19:34:34.716Z"
   },
   {
    "duration": 121,
    "start_time": "2022-09-19T19:34:35.359Z"
   },
   {
    "duration": 15,
    "start_time": "2022-09-19T19:34:35.481Z"
   },
   {
    "duration": 1928,
    "start_time": "2022-09-19T19:34:35.497Z"
   },
   {
    "duration": 10,
    "start_time": "2022-09-19T19:34:37.427Z"
   },
   {
    "duration": 44,
    "start_time": "2022-09-19T19:34:37.438Z"
   },
   {
    "duration": 388,
    "start_time": "2022-09-19T19:34:37.484Z"
   },
   {
    "duration": 8,
    "start_time": "2022-09-19T19:34:37.873Z"
   },
   {
    "duration": 38,
    "start_time": "2022-09-19T19:34:37.883Z"
   },
   {
    "duration": 19,
    "start_time": "2022-09-19T19:34:37.924Z"
   },
   {
    "duration": 29,
    "start_time": "2022-09-19T19:34:37.945Z"
   },
   {
    "duration": 1591,
    "start_time": "2022-09-19T19:34:37.975Z"
   },
   {
    "duration": 118,
    "start_time": "2022-09-19T19:34:39.567Z"
   },
   {
    "duration": 30,
    "start_time": "2022-09-19T19:34:39.687Z"
   },
   {
    "duration": 64,
    "start_time": "2022-09-19T19:34:39.719Z"
   },
   {
    "duration": 2379,
    "start_time": "2022-09-19T19:34:39.784Z"
   },
   {
    "duration": 11,
    "start_time": "2022-09-19T19:34:42.165Z"
   },
   {
    "duration": 31,
    "start_time": "2022-09-19T19:34:42.178Z"
   },
   {
    "duration": 24,
    "start_time": "2022-09-19T19:34:42.211Z"
   },
   {
    "duration": 178,
    "start_time": "2022-09-19T19:34:42.236Z"
   },
   {
    "duration": 26,
    "start_time": "2022-09-19T19:34:42.416Z"
   },
   {
    "duration": 780,
    "start_time": "2022-09-19T19:34:42.444Z"
   },
   {
    "duration": 44,
    "start_time": "2022-09-19T19:34:43.226Z"
   },
   {
    "duration": 155,
    "start_time": "2022-09-19T19:34:43.271Z"
   },
   {
    "duration": 126,
    "start_time": "2022-09-19T19:34:48.604Z"
   },
   {
    "duration": 193,
    "start_time": "2022-09-19T19:35:05.375Z"
   },
   {
    "duration": 136,
    "start_time": "2022-09-19T19:35:20.803Z"
   },
   {
    "duration": 22,
    "start_time": "2022-09-19T19:38:03.505Z"
   },
   {
    "duration": 7,
    "start_time": "2022-09-19T19:38:25.081Z"
   },
   {
    "duration": 9,
    "start_time": "2022-09-19T19:38:56.287Z"
   },
   {
    "duration": 141,
    "start_time": "2022-09-19T19:40:37.903Z"
   },
   {
    "duration": 2377,
    "start_time": "2022-09-19T19:41:20.586Z"
   },
   {
    "duration": 177,
    "start_time": "2022-09-19T19:41:34.703Z"
   },
   {
    "duration": 202,
    "start_time": "2022-09-19T19:41:43.285Z"
   },
   {
    "duration": 152,
    "start_time": "2022-09-19T19:41:48.419Z"
   },
   {
    "duration": 169,
    "start_time": "2022-09-19T19:42:47.018Z"
   },
   {
    "duration": 274,
    "start_time": "2022-09-19T19:42:52.038Z"
   },
   {
    "duration": 478,
    "start_time": "2022-09-19T19:43:07.580Z"
   },
   {
    "duration": 193,
    "start_time": "2022-09-19T19:43:14.773Z"
   },
   {
    "duration": 174,
    "start_time": "2022-09-19T19:43:23.840Z"
   },
   {
    "duration": 163,
    "start_time": "2022-09-19T19:44:14.317Z"
   },
   {
    "duration": 161,
    "start_time": "2022-09-19T19:45:51.806Z"
   },
   {
    "duration": 148,
    "start_time": "2022-09-19T19:46:53.691Z"
   },
   {
    "duration": 165,
    "start_time": "2022-09-19T19:47:03.817Z"
   },
   {
    "duration": 274,
    "start_time": "2022-09-19T19:47:22.706Z"
   },
   {
    "duration": 1489,
    "start_time": "2022-09-19T19:49:58.986Z"
   },
   {
    "duration": 1593,
    "start_time": "2022-09-19T19:50:09.060Z"
   },
   {
    "duration": 710,
    "start_time": "2022-09-19T19:50:23.915Z"
   },
   {
    "duration": 162,
    "start_time": "2022-09-19T19:50:27.680Z"
   },
   {
    "duration": 185,
    "start_time": "2022-09-19T19:50:30.294Z"
   },
   {
    "duration": 208,
    "start_time": "2022-09-19T19:51:12.126Z"
   },
   {
    "duration": 210,
    "start_time": "2022-09-19T19:51:24.492Z"
   },
   {
    "duration": 237,
    "start_time": "2022-09-19T19:51:34.414Z"
   },
   {
    "duration": 200,
    "start_time": "2022-09-19T19:51:54.054Z"
   },
   {
    "duration": 233,
    "start_time": "2022-09-19T19:54:04.942Z"
   },
   {
    "duration": 348,
    "start_time": "2022-09-19T19:54:20.211Z"
   },
   {
    "duration": 173,
    "start_time": "2022-09-19T19:55:19.142Z"
   },
   {
    "duration": 186,
    "start_time": "2022-09-19T19:55:37.939Z"
   },
   {
    "duration": 233,
    "start_time": "2022-09-19T19:56:25.351Z"
   },
   {
    "duration": 236,
    "start_time": "2022-09-19T19:57:01.633Z"
   },
   {
    "duration": 250,
    "start_time": "2022-09-19T19:58:36.218Z"
   },
   {
    "duration": 333,
    "start_time": "2022-09-19T19:58:43.213Z"
   },
   {
    "duration": 320,
    "start_time": "2022-09-19T20:00:29.926Z"
   },
   {
    "duration": 238,
    "start_time": "2022-09-19T20:06:31.842Z"
   },
   {
    "duration": 204,
    "start_time": "2022-09-19T20:06:39.076Z"
   },
   {
    "duration": 218,
    "start_time": "2022-09-19T20:12:27.944Z"
   },
   {
    "duration": 208,
    "start_time": "2022-09-19T20:13:07.585Z"
   },
   {
    "duration": 250,
    "start_time": "2022-09-19T20:14:30.596Z"
   },
   {
    "duration": 332,
    "start_time": "2022-09-19T20:14:42.620Z"
   },
   {
    "duration": 228,
    "start_time": "2022-09-19T20:14:48.353Z"
   },
   {
    "duration": 379,
    "start_time": "2022-09-19T20:16:14.683Z"
   },
   {
    "duration": 13,
    "start_time": "2022-09-19T20:16:29.278Z"
   },
   {
    "duration": 16,
    "start_time": "2022-09-19T20:17:12.451Z"
   },
   {
    "duration": 4,
    "start_time": "2022-09-19T20:18:57.136Z"
   },
   {
    "duration": 220,
    "start_time": "2022-09-19T20:19:07.483Z"
   },
   {
    "duration": 8,
    "start_time": "2022-09-19T20:21:25.190Z"
   },
   {
    "duration": 3549,
    "start_time": "2022-09-19T20:21:31.359Z"
   },
   {
    "duration": 210,
    "start_time": "2022-09-19T20:21:42.087Z"
   },
   {
    "duration": 220,
    "start_time": "2022-09-19T20:21:51.255Z"
   },
   {
    "duration": 205,
    "start_time": "2022-09-19T20:21:57.724Z"
   },
   {
    "duration": 240,
    "start_time": "2022-09-19T20:22:16.858Z"
   },
   {
    "duration": 248,
    "start_time": "2022-09-19T20:22:23.542Z"
   },
   {
    "duration": 454,
    "start_time": "2022-09-19T20:23:00.100Z"
   },
   {
    "duration": 244,
    "start_time": "2022-09-19T20:23:12.097Z"
   },
   {
    "duration": 58,
    "start_time": "2022-09-19T20:26:31.604Z"
   },
   {
    "duration": 221,
    "start_time": "2022-09-19T20:28:56.469Z"
   },
   {
    "duration": 187,
    "start_time": "2022-09-19T20:29:05.268Z"
   },
   {
    "duration": 192,
    "start_time": "2022-09-19T20:31:41.794Z"
   },
   {
    "duration": 174,
    "start_time": "2022-09-19T20:34:44.238Z"
   },
   {
    "duration": 153,
    "start_time": "2022-09-19T20:34:50.340Z"
   },
   {
    "duration": 173,
    "start_time": "2022-09-19T20:35:00.093Z"
   },
   {
    "duration": 176,
    "start_time": "2022-09-19T20:35:09.369Z"
   },
   {
    "duration": 293,
    "start_time": "2022-09-19T20:35:17.179Z"
   },
   {
    "duration": 184,
    "start_time": "2022-09-19T20:35:27.587Z"
   },
   {
    "duration": 168,
    "start_time": "2022-09-19T20:35:55.874Z"
   },
   {
    "duration": 192,
    "start_time": "2022-09-19T20:36:03.305Z"
   },
   {
    "duration": 184,
    "start_time": "2022-09-19T20:36:27.845Z"
   },
   {
    "duration": 202,
    "start_time": "2022-09-19T20:37:12.816Z"
   },
   {
    "duration": 185,
    "start_time": "2022-09-19T20:37:18.242Z"
   },
   {
    "duration": 161,
    "start_time": "2022-09-19T20:38:02.934Z"
   },
   {
    "duration": 182,
    "start_time": "2022-09-19T20:38:18.958Z"
   },
   {
    "duration": 10,
    "start_time": "2022-09-19T20:38:29.987Z"
   },
   {
    "duration": 158,
    "start_time": "2022-09-19T20:38:43.738Z"
   },
   {
    "duration": 157,
    "start_time": "2022-09-19T20:39:02.165Z"
   },
   {
    "duration": 277,
    "start_time": "2022-09-19T20:39:16.205Z"
   },
   {
    "duration": 156,
    "start_time": "2022-09-19T20:44:26.116Z"
   },
   {
    "duration": 161,
    "start_time": "2022-09-19T20:44:44.374Z"
   },
   {
    "duration": 190,
    "start_time": "2022-09-19T20:48:01.663Z"
   },
   {
    "duration": 203,
    "start_time": "2022-09-19T20:49:44.146Z"
   },
   {
    "duration": 247,
    "start_time": "2022-09-19T20:53:26.194Z"
   },
   {
    "duration": 499,
    "start_time": "2022-09-19T20:53:58.702Z"
   },
   {
    "duration": 438,
    "start_time": "2022-09-19T20:58:40.655Z"
   },
   {
    "duration": 295,
    "start_time": "2022-09-19T20:58:47.262Z"
   },
   {
    "duration": 300,
    "start_time": "2022-09-19T20:58:55.037Z"
   },
   {
    "duration": 319,
    "start_time": "2022-09-19T20:59:15.796Z"
   },
   {
    "duration": 304,
    "start_time": "2022-09-19T20:59:26.925Z"
   },
   {
    "duration": 322,
    "start_time": "2022-09-19T21:04:22.909Z"
   },
   {
    "duration": 178,
    "start_time": "2022-09-19T21:08:25.673Z"
   },
   {
    "duration": 30,
    "start_time": "2022-09-19T21:08:45.728Z"
   },
   {
    "duration": 2571,
    "start_time": "2022-09-19T21:09:48.729Z"
   },
   {
    "duration": 179,
    "start_time": "2022-09-19T21:09:57.477Z"
   },
   {
    "duration": 173,
    "start_time": "2022-09-19T21:10:03.842Z"
   },
   {
    "duration": 185,
    "start_time": "2022-09-19T21:10:10.497Z"
   },
   {
    "duration": 181,
    "start_time": "2022-09-19T21:10:27.703Z"
   },
   {
    "duration": 189,
    "start_time": "2022-09-19T21:12:38.960Z"
   },
   {
    "duration": 183,
    "start_time": "2022-09-19T21:12:51.947Z"
   },
   {
    "duration": 264,
    "start_time": "2022-09-19T21:21:19.564Z"
   },
   {
    "duration": 107,
    "start_time": "2022-09-19T21:21:40.340Z"
   },
   {
    "duration": 107,
    "start_time": "2022-09-19T21:24:07.749Z"
   },
   {
    "duration": 914,
    "start_time": "2022-09-20T10:12:16.408Z"
   },
   {
    "duration": 70,
    "start_time": "2022-09-20T10:17:32.034Z"
   },
   {
    "duration": 629,
    "start_time": "2022-09-20T10:17:40.377Z"
   },
   {
    "duration": 319,
    "start_time": "2022-09-20T10:17:41.007Z"
   },
   {
    "duration": 14,
    "start_time": "2022-09-20T10:17:41.327Z"
   },
   {
    "duration": 1956,
    "start_time": "2022-09-20T10:17:41.344Z"
   },
   {
    "duration": 9,
    "start_time": "2022-09-20T10:17:43.302Z"
   },
   {
    "duration": 2,
    "start_time": "2022-09-20T10:17:43.313Z"
   },
   {
    "duration": 339,
    "start_time": "2022-09-20T10:17:43.316Z"
   },
   {
    "duration": 8,
    "start_time": "2022-09-20T10:17:43.656Z"
   },
   {
    "duration": 19,
    "start_time": "2022-09-20T10:17:43.676Z"
   },
   {
    "duration": 16,
    "start_time": "2022-09-20T10:17:43.698Z"
   },
   {
    "duration": 11,
    "start_time": "2022-09-20T10:17:43.716Z"
   },
   {
    "duration": 1380,
    "start_time": "2022-09-20T10:17:43.728Z"
   },
   {
    "duration": 118,
    "start_time": "2022-09-20T10:17:45.110Z"
   },
   {
    "duration": 10,
    "start_time": "2022-09-20T10:17:45.229Z"
   },
   {
    "duration": 55,
    "start_time": "2022-09-20T10:17:45.240Z"
   },
   {
    "duration": 1831,
    "start_time": "2022-09-20T10:17:45.297Z"
   },
   {
    "duration": 12,
    "start_time": "2022-09-20T10:17:47.129Z"
   },
   {
    "duration": 18,
    "start_time": "2022-09-20T10:17:47.142Z"
   },
   {
    "duration": 17,
    "start_time": "2022-09-20T10:17:47.176Z"
   },
   {
    "duration": 116,
    "start_time": "2022-09-20T10:17:47.195Z"
   },
   {
    "duration": 20,
    "start_time": "2022-09-20T10:17:47.313Z"
   },
   {
    "duration": 4,
    "start_time": "2022-09-20T10:17:47.335Z"
   },
   {
    "duration": 635,
    "start_time": "2022-09-20T10:17:47.341Z"
   },
   {
    "duration": 27,
    "start_time": "2022-09-20T10:17:47.978Z"
   },
   {
    "duration": 204,
    "start_time": "2022-09-20T10:17:48.007Z"
   },
   {
    "duration": 15,
    "start_time": "2022-09-20T10:17:48.212Z"
   },
   {
    "duration": 277,
    "start_time": "2022-09-20T10:17:48.228Z"
   },
   {
    "duration": 229,
    "start_time": "2022-09-20T10:17:48.508Z"
   },
   {
    "duration": 243,
    "start_time": "2022-09-20T10:17:48.739Z"
   },
   {
    "duration": 261,
    "start_time": "2022-09-20T10:17:48.984Z"
   },
   {
    "duration": 179,
    "start_time": "2022-09-20T10:17:49.246Z"
   },
   {
    "duration": 177,
    "start_time": "2022-09-20T10:17:49.427Z"
   },
   {
    "duration": 157,
    "start_time": "2022-09-20T10:17:49.606Z"
   },
   {
    "duration": 208,
    "start_time": "2022-09-20T10:17:49.765Z"
   },
   {
    "duration": 1479,
    "start_time": "2022-09-20T10:17:49.976Z"
   },
   {
    "duration": 0,
    "start_time": "2022-09-20T10:17:51.457Z"
   },
   {
    "duration": 0,
    "start_time": "2022-09-20T10:17:51.458Z"
   },
   {
    "duration": 0,
    "start_time": "2022-09-20T10:17:51.459Z"
   },
   {
    "duration": 567,
    "start_time": "2022-09-20T10:18:52.068Z"
   },
   {
    "duration": 121,
    "start_time": "2022-09-20T10:22:06.480Z"
   },
   {
    "duration": 132,
    "start_time": "2022-09-20T10:34:39.305Z"
   },
   {
    "duration": 341,
    "start_time": "2022-09-20T10:34:48.607Z"
   },
   {
    "duration": 606,
    "start_time": "2022-09-20T10:34:56.825Z"
   },
   {
    "duration": 114,
    "start_time": "2022-09-20T10:34:57.432Z"
   },
   {
    "duration": 18,
    "start_time": "2022-09-20T10:34:57.548Z"
   },
   {
    "duration": 2092,
    "start_time": "2022-09-20T10:34:57.568Z"
   },
   {
    "duration": 9,
    "start_time": "2022-09-20T10:34:59.662Z"
   },
   {
    "duration": 2,
    "start_time": "2022-09-20T10:34:59.673Z"
   },
   {
    "duration": 378,
    "start_time": "2022-09-20T10:34:59.677Z"
   },
   {
    "duration": 21,
    "start_time": "2022-09-20T10:35:00.056Z"
   },
   {
    "duration": 33,
    "start_time": "2022-09-20T10:35:00.079Z"
   },
   {
    "duration": 18,
    "start_time": "2022-09-20T10:35:00.115Z"
   },
   {
    "duration": 25,
    "start_time": "2022-09-20T10:35:00.135Z"
   },
   {
    "duration": 1589,
    "start_time": "2022-09-20T10:35:00.161Z"
   },
   {
    "duration": 143,
    "start_time": "2022-09-20T10:35:01.753Z"
   },
   {
    "duration": 10,
    "start_time": "2022-09-20T10:35:01.898Z"
   },
   {
    "duration": 55,
    "start_time": "2022-09-20T10:35:01.910Z"
   },
   {
    "duration": 1838,
    "start_time": "2022-09-20T10:35:01.967Z"
   },
   {
    "duration": 12,
    "start_time": "2022-09-20T10:35:03.807Z"
   },
   {
    "duration": 30,
    "start_time": "2022-09-20T10:35:03.821Z"
   },
   {
    "duration": 32,
    "start_time": "2022-09-20T10:35:03.853Z"
   },
   {
    "duration": 125,
    "start_time": "2022-09-20T10:35:03.887Z"
   },
   {
    "duration": 20,
    "start_time": "2022-09-20T10:35:04.015Z"
   },
   {
    "duration": 4,
    "start_time": "2022-09-20T10:35:04.037Z"
   },
   {
    "duration": 667,
    "start_time": "2022-09-20T10:35:04.043Z"
   },
   {
    "duration": 34,
    "start_time": "2022-09-20T10:35:04.712Z"
   },
   {
    "duration": 222,
    "start_time": "2022-09-20T10:35:04.747Z"
   },
   {
    "duration": 21,
    "start_time": "2022-09-20T10:35:04.976Z"
   },
   {
    "duration": 339,
    "start_time": "2022-09-20T10:35:04.999Z"
   },
   {
    "duration": 284,
    "start_time": "2022-09-20T10:35:05.343Z"
   },
   {
    "duration": 262,
    "start_time": "2022-09-20T10:35:05.629Z"
   },
   {
    "duration": 294,
    "start_time": "2022-09-20T10:35:05.893Z"
   },
   {
    "duration": 173,
    "start_time": "2022-09-20T10:35:06.188Z"
   },
   {
    "duration": 180,
    "start_time": "2022-09-20T10:35:06.363Z"
   },
   {
    "duration": 164,
    "start_time": "2022-09-20T10:35:06.544Z"
   },
   {
    "duration": 194,
    "start_time": "2022-09-20T10:35:06.710Z"
   },
   {
    "duration": 606,
    "start_time": "2022-09-20T10:35:06.906Z"
   },
   {
    "duration": 297,
    "start_time": "2022-09-20T10:35:07.514Z"
   },
   {
    "duration": 230,
    "start_time": "2022-09-20T10:35:07.813Z"
   },
   {
    "duration": 212,
    "start_time": "2022-09-20T10:35:08.044Z"
   },
   {
    "duration": 198,
    "start_time": "2022-09-20T10:47:12.983Z"
   },
   {
    "duration": 191,
    "start_time": "2022-09-20T10:47:19.247Z"
   },
   {
    "duration": 198,
    "start_time": "2022-09-20T10:47:25.681Z"
   },
   {
    "duration": 198,
    "start_time": "2022-09-20T10:48:01.123Z"
   },
   {
    "duration": 204,
    "start_time": "2022-09-20T10:48:07.243Z"
   },
   {
    "duration": 177,
    "start_time": "2022-09-20T10:48:22.675Z"
   },
   {
    "duration": 81,
    "start_time": "2022-09-20T10:49:17.983Z"
   },
   {
    "duration": 226,
    "start_time": "2022-09-20T10:49:23.938Z"
   },
   {
    "duration": 52,
    "start_time": "2022-09-20T10:51:13.298Z"
   },
   {
    "duration": 19,
    "start_time": "2022-09-20T10:54:31.923Z"
   },
   {
    "duration": 102,
    "start_time": "2022-09-20T11:06:40.854Z"
   },
   {
    "duration": 10,
    "start_time": "2022-09-20T11:07:28.570Z"
   },
   {
    "duration": 70,
    "start_time": "2022-09-20T11:07:38.497Z"
   },
   {
    "duration": 9,
    "start_time": "2022-09-20T11:08:55.196Z"
   },
   {
    "duration": 10,
    "start_time": "2022-09-20T11:09:12.309Z"
   },
   {
    "duration": 15,
    "start_time": "2022-09-20T11:10:22.030Z"
   },
   {
    "duration": 10,
    "start_time": "2022-09-20T11:10:33.462Z"
   },
   {
    "duration": 691,
    "start_time": "2022-09-20T11:10:40.231Z"
   },
   {
    "duration": 109,
    "start_time": "2022-09-20T11:10:40.924Z"
   },
   {
    "duration": 16,
    "start_time": "2022-09-20T11:10:41.034Z"
   },
   {
    "duration": 1968,
    "start_time": "2022-09-20T11:10:41.052Z"
   },
   {
    "duration": 13,
    "start_time": "2022-09-20T11:10:43.023Z"
   },
   {
    "duration": 2,
    "start_time": "2022-09-20T11:10:43.038Z"
   },
   {
    "duration": 384,
    "start_time": "2022-09-20T11:10:43.042Z"
   },
   {
    "duration": 8,
    "start_time": "2022-09-20T11:10:43.429Z"
   },
   {
    "duration": 20,
    "start_time": "2022-09-20T11:10:43.439Z"
   },
   {
    "duration": 21,
    "start_time": "2022-09-20T11:10:43.477Z"
   },
   {
    "duration": 11,
    "start_time": "2022-09-20T11:10:43.500Z"
   },
   {
    "duration": 1468,
    "start_time": "2022-09-20T11:10:43.512Z"
   },
   {
    "duration": 131,
    "start_time": "2022-09-20T11:10:44.981Z"
   },
   {
    "duration": 10,
    "start_time": "2022-09-20T11:10:45.113Z"
   },
   {
    "duration": 37,
    "start_time": "2022-09-20T11:10:45.125Z"
   },
   {
    "duration": 2003,
    "start_time": "2022-09-20T11:10:45.163Z"
   },
   {
    "duration": 17,
    "start_time": "2022-09-20T11:10:47.168Z"
   },
   {
    "duration": 30,
    "start_time": "2022-09-20T11:10:47.187Z"
   },
   {
    "duration": 23,
    "start_time": "2022-09-20T11:10:47.219Z"
   },
   {
    "duration": 109,
    "start_time": "2022-09-20T11:10:47.244Z"
   },
   {
    "duration": 32,
    "start_time": "2022-09-20T11:10:47.354Z"
   },
   {
    "duration": 4,
    "start_time": "2022-09-20T11:10:47.388Z"
   },
   {
    "duration": 646,
    "start_time": "2022-09-20T11:10:47.393Z"
   },
   {
    "duration": 38,
    "start_time": "2022-09-20T11:10:48.040Z"
   },
   {
    "duration": 210,
    "start_time": "2022-09-20T11:10:48.079Z"
   },
   {
    "duration": 18,
    "start_time": "2022-09-20T11:10:48.291Z"
   },
   {
    "duration": 295,
    "start_time": "2022-09-20T11:10:48.310Z"
   },
   {
    "duration": 234,
    "start_time": "2022-09-20T11:10:48.608Z"
   },
   {
    "duration": 253,
    "start_time": "2022-09-20T11:10:48.843Z"
   },
   {
    "duration": 270,
    "start_time": "2022-09-20T11:10:49.098Z"
   },
   {
    "duration": 187,
    "start_time": "2022-09-20T11:10:49.376Z"
   },
   {
    "duration": 189,
    "start_time": "2022-09-20T11:10:49.565Z"
   },
   {
    "duration": 166,
    "start_time": "2022-09-20T11:10:49.756Z"
   },
   {
    "duration": 207,
    "start_time": "2022-09-20T11:10:49.923Z"
   },
   {
    "duration": 643,
    "start_time": "2022-09-20T11:10:50.133Z"
   },
   {
    "duration": 360,
    "start_time": "2022-09-20T11:10:50.778Z"
   },
   {
    "duration": 262,
    "start_time": "2022-09-20T11:10:51.140Z"
   },
   {
    "duration": 218,
    "start_time": "2022-09-20T11:10:51.403Z"
   },
   {
    "duration": 81,
    "start_time": "2022-09-20T11:10:51.623Z"
   },
   {
    "duration": 0,
    "start_time": "2022-09-20T11:10:51.706Z"
   },
   {
    "duration": 0,
    "start_time": "2022-09-20T11:10:51.707Z"
   },
   {
    "duration": 10,
    "start_time": "2022-09-20T11:10:57.330Z"
   },
   {
    "duration": 10,
    "start_time": "2022-09-20T11:11:20.106Z"
   },
   {
    "duration": 182,
    "start_time": "2022-09-20T11:11:23.394Z"
   },
   {
    "duration": 11,
    "start_time": "2022-09-20T11:12:01.868Z"
   },
   {
    "duration": 143,
    "start_time": "2022-09-20T11:12:18.487Z"
   },
   {
    "duration": 140,
    "start_time": "2022-09-20T11:12:46.194Z"
   },
   {
    "duration": 167,
    "start_time": "2022-09-20T11:12:53.730Z"
   },
   {
    "duration": 21,
    "start_time": "2022-09-20T11:13:11.478Z"
   },
   {
    "duration": 19,
    "start_time": "2022-09-20T11:13:50.680Z"
   },
   {
    "duration": 572,
    "start_time": "2022-09-20T12:19:10.896Z"
   },
   {
    "duration": 10,
    "start_time": "2022-09-20T12:20:00.463Z"
   },
   {
    "duration": 30,
    "start_time": "2022-09-20T12:20:47.130Z"
   },
   {
    "duration": 38,
    "start_time": "2022-09-20T12:22:09.803Z"
   },
   {
    "duration": 8,
    "start_time": "2022-09-20T12:42:51.966Z"
   },
   {
    "duration": 8,
    "start_time": "2022-09-20T12:43:04.956Z"
   },
   {
    "duration": 8,
    "start_time": "2022-09-20T12:43:25.392Z"
   },
   {
    "duration": 8,
    "start_time": "2022-09-20T12:47:41.736Z"
   },
   {
    "duration": 680,
    "start_time": "2022-09-20T12:47:48.407Z"
   },
   {
    "duration": 129,
    "start_time": "2022-09-20T12:47:49.089Z"
   },
   {
    "duration": 15,
    "start_time": "2022-09-20T12:47:49.220Z"
   },
   {
    "duration": 2391,
    "start_time": "2022-09-20T12:47:49.237Z"
   },
   {
    "duration": 14,
    "start_time": "2022-09-20T12:47:51.630Z"
   },
   {
    "duration": 3,
    "start_time": "2022-09-20T12:47:51.646Z"
   },
   {
    "duration": 402,
    "start_time": "2022-09-20T12:47:51.651Z"
   },
   {
    "duration": 9,
    "start_time": "2022-09-20T12:47:52.055Z"
   },
   {
    "duration": 41,
    "start_time": "2022-09-20T12:47:52.066Z"
   },
   {
    "duration": 17,
    "start_time": "2022-09-20T12:47:52.109Z"
   },
   {
    "duration": 10,
    "start_time": "2022-09-20T12:47:52.127Z"
   },
   {
    "duration": 1484,
    "start_time": "2022-09-20T12:47:52.139Z"
   },
   {
    "duration": 120,
    "start_time": "2022-09-20T12:47:53.625Z"
   },
   {
    "duration": 8,
    "start_time": "2022-09-20T12:47:53.747Z"
   },
   {
    "duration": 48,
    "start_time": "2022-09-20T12:47:53.757Z"
   },
   {
    "duration": 1970,
    "start_time": "2022-09-20T12:47:53.807Z"
   },
   {
    "duration": 15,
    "start_time": "2022-09-20T12:47:55.781Z"
   },
   {
    "duration": 18,
    "start_time": "2022-09-20T12:47:55.798Z"
   },
   {
    "duration": 17,
    "start_time": "2022-09-20T12:47:55.817Z"
   },
   {
    "duration": 124,
    "start_time": "2022-09-20T12:47:55.836Z"
   },
   {
    "duration": 36,
    "start_time": "2022-09-20T12:47:55.962Z"
   },
   {
    "duration": 5,
    "start_time": "2022-09-20T12:47:56.000Z"
   },
   {
    "duration": 658,
    "start_time": "2022-09-20T12:47:56.007Z"
   },
   {
    "duration": 19,
    "start_time": "2022-09-20T12:47:56.667Z"
   },
   {
    "duration": 10,
    "start_time": "2022-09-20T12:47:56.690Z"
   },
   {
    "duration": 33,
    "start_time": "2022-09-20T12:47:56.701Z"
   },
   {
    "duration": 197,
    "start_time": "2022-09-20T12:47:56.736Z"
   },
   {
    "duration": 18,
    "start_time": "2022-09-20T12:47:56.936Z"
   },
   {
    "duration": 307,
    "start_time": "2022-09-20T12:47:56.956Z"
   },
   {
    "duration": 250,
    "start_time": "2022-09-20T12:47:57.265Z"
   },
   {
    "duration": 267,
    "start_time": "2022-09-20T12:47:57.517Z"
   },
   {
    "duration": 265,
    "start_time": "2022-09-20T12:47:57.785Z"
   },
   {
    "duration": 212,
    "start_time": "2022-09-20T12:47:58.052Z"
   },
   {
    "duration": 181,
    "start_time": "2022-09-20T12:47:58.266Z"
   },
   {
    "duration": 181,
    "start_time": "2022-09-20T12:47:58.448Z"
   },
   {
    "duration": 207,
    "start_time": "2022-09-20T12:47:58.630Z"
   },
   {
    "duration": 559,
    "start_time": "2022-09-20T12:47:58.838Z"
   },
   {
    "duration": 319,
    "start_time": "2022-09-20T12:47:59.400Z"
   },
   {
    "duration": 230,
    "start_time": "2022-09-20T12:47:59.721Z"
   },
   {
    "duration": 247,
    "start_time": "2022-09-20T12:47:59.953Z"
   },
   {
    "duration": 109,
    "start_time": "2022-09-20T12:48:00.202Z"
   },
   {
    "duration": 0,
    "start_time": "2022-09-20T12:48:00.312Z"
   },
   {
    "duration": 0,
    "start_time": "2022-09-20T12:48:00.314Z"
   },
   {
    "duration": 18,
    "start_time": "2022-09-20T12:48:59.142Z"
   },
   {
    "duration": 172,
    "start_time": "2022-09-20T12:49:03.150Z"
   },
   {
    "duration": 190,
    "start_time": "2022-09-20T12:49:08.446Z"
   },
   {
    "duration": 7,
    "start_time": "2022-09-20T12:56:29.834Z"
   },
   {
    "duration": 6,
    "start_time": "2022-09-20T12:56:57.865Z"
   },
   {
    "duration": 6,
    "start_time": "2022-09-20T12:57:02.243Z"
   },
   {
    "duration": 645,
    "start_time": "2022-09-20T12:57:07.735Z"
   },
   {
    "duration": 122,
    "start_time": "2022-09-20T12:57:08.392Z"
   },
   {
    "duration": 16,
    "start_time": "2022-09-20T12:57:08.516Z"
   },
   {
    "duration": 2319,
    "start_time": "2022-09-20T12:57:08.534Z"
   },
   {
    "duration": 12,
    "start_time": "2022-09-20T12:57:10.855Z"
   },
   {
    "duration": 46,
    "start_time": "2022-09-20T12:57:10.868Z"
   },
   {
    "duration": 499,
    "start_time": "2022-09-20T12:57:10.917Z"
   },
   {
    "duration": 11,
    "start_time": "2022-09-20T12:57:11.418Z"
   },
   {
    "duration": 21,
    "start_time": "2022-09-20T12:57:11.430Z"
   },
   {
    "duration": 49,
    "start_time": "2022-09-20T12:57:11.453Z"
   },
   {
    "duration": 19,
    "start_time": "2022-09-20T12:57:11.504Z"
   },
   {
    "duration": 1683,
    "start_time": "2022-09-20T12:57:11.524Z"
   },
   {
    "duration": 142,
    "start_time": "2022-09-20T12:57:13.209Z"
   },
   {
    "duration": 11,
    "start_time": "2022-09-20T12:57:13.353Z"
   },
   {
    "duration": 51,
    "start_time": "2022-09-20T12:57:13.366Z"
   },
   {
    "duration": 2069,
    "start_time": "2022-09-20T12:57:13.419Z"
   },
   {
    "duration": 15,
    "start_time": "2022-09-20T12:57:15.490Z"
   },
   {
    "duration": 27,
    "start_time": "2022-09-20T12:57:15.507Z"
   },
   {
    "duration": 46,
    "start_time": "2022-09-20T12:57:15.536Z"
   },
   {
    "duration": 151,
    "start_time": "2022-09-20T12:57:15.584Z"
   },
   {
    "duration": 39,
    "start_time": "2022-09-20T12:57:15.737Z"
   },
   {
    "duration": 8,
    "start_time": "2022-09-20T12:57:15.779Z"
   },
   {
    "duration": 817,
    "start_time": "2022-09-20T12:57:15.789Z"
   },
   {
    "duration": 8,
    "start_time": "2022-09-20T12:57:16.608Z"
   },
   {
    "duration": 21,
    "start_time": "2022-09-20T12:57:16.618Z"
   },
   {
    "duration": 18,
    "start_time": "2022-09-20T12:57:16.641Z"
   },
   {
    "duration": 55,
    "start_time": "2022-09-20T12:57:16.661Z"
   },
   {
    "duration": 248,
    "start_time": "2022-09-20T12:57:16.722Z"
   },
   {
    "duration": 23,
    "start_time": "2022-09-20T12:57:16.972Z"
   },
   {
    "duration": 339,
    "start_time": "2022-09-20T12:57:16.998Z"
   },
   {
    "duration": 234,
    "start_time": "2022-09-20T12:57:17.339Z"
   },
   {
    "duration": 266,
    "start_time": "2022-09-20T12:57:17.579Z"
   },
   {
    "duration": 195,
    "start_time": "2022-09-20T12:57:17.846Z"
   },
   {
    "duration": 276,
    "start_time": "2022-09-20T12:57:18.043Z"
   },
   {
    "duration": 251,
    "start_time": "2022-09-20T12:57:18.321Z"
   },
   {
    "duration": 199,
    "start_time": "2022-09-20T12:57:18.574Z"
   },
   {
    "duration": 251,
    "start_time": "2022-09-20T12:57:18.775Z"
   },
   {
    "duration": 526,
    "start_time": "2022-09-20T12:57:19.028Z"
   },
   {
    "duration": 316,
    "start_time": "2022-09-20T12:57:19.555Z"
   },
   {
    "duration": 214,
    "start_time": "2022-09-20T12:57:19.878Z"
   },
   {
    "duration": 105,
    "start_time": "2022-09-20T12:57:20.094Z"
   },
   {
    "duration": 14,
    "start_time": "2022-09-20T12:57:20.200Z"
   },
   {
    "duration": 260,
    "start_time": "2022-09-20T12:57:20.216Z"
   },
   {
    "duration": 160,
    "start_time": "2022-09-20T12:57:20.478Z"
   },
   {
    "duration": 805,
    "start_time": "2022-09-20T12:58:08.127Z"
   },
   {
    "duration": 126,
    "start_time": "2022-09-20T12:58:08.934Z"
   },
   {
    "duration": 27,
    "start_time": "2022-09-20T12:58:09.062Z"
   },
   {
    "duration": 2216,
    "start_time": "2022-09-20T12:58:09.092Z"
   },
   {
    "duration": 13,
    "start_time": "2022-09-20T12:58:11.310Z"
   },
   {
    "duration": 8,
    "start_time": "2022-09-20T12:58:11.325Z"
   },
   {
    "duration": 468,
    "start_time": "2022-09-20T12:58:11.335Z"
   },
   {
    "duration": 9,
    "start_time": "2022-09-20T12:58:11.808Z"
   },
   {
    "duration": 27,
    "start_time": "2022-09-20T12:58:11.819Z"
   },
   {
    "duration": 46,
    "start_time": "2022-09-20T12:58:11.849Z"
   },
   {
    "duration": 12,
    "start_time": "2022-09-20T12:58:11.897Z"
   },
   {
    "duration": 1724,
    "start_time": "2022-09-20T12:58:11.912Z"
   },
   {
    "duration": 140,
    "start_time": "2022-09-20T12:58:13.638Z"
   },
   {
    "duration": 17,
    "start_time": "2022-09-20T12:58:13.780Z"
   },
   {
    "duration": 42,
    "start_time": "2022-09-20T12:58:13.800Z"
   },
   {
    "duration": 2156,
    "start_time": "2022-09-20T12:58:13.844Z"
   },
   {
    "duration": 12,
    "start_time": "2022-09-20T12:58:16.002Z"
   },
   {
    "duration": 21,
    "start_time": "2022-09-20T12:58:16.016Z"
   },
   {
    "duration": 50,
    "start_time": "2022-09-20T12:58:16.039Z"
   },
   {
    "duration": 148,
    "start_time": "2022-09-20T12:58:16.091Z"
   },
   {
    "duration": 28,
    "start_time": "2022-09-20T12:58:16.241Z"
   },
   {
    "duration": 7,
    "start_time": "2022-09-20T12:58:16.271Z"
   },
   {
    "duration": 762,
    "start_time": "2022-09-20T12:58:16.280Z"
   },
   {
    "duration": 9,
    "start_time": "2022-09-20T12:58:17.044Z"
   },
   {
    "duration": 11,
    "start_time": "2022-09-20T12:58:17.055Z"
   },
   {
    "duration": 22,
    "start_time": "2022-09-20T12:58:17.068Z"
   },
   {
    "duration": 57,
    "start_time": "2022-09-20T12:58:17.092Z"
   },
   {
    "duration": 205,
    "start_time": "2022-09-20T12:58:17.153Z"
   },
   {
    "duration": 35,
    "start_time": "2022-09-20T12:58:17.360Z"
   },
   {
    "duration": 307,
    "start_time": "2022-09-20T12:58:17.398Z"
   },
   {
    "duration": 244,
    "start_time": "2022-09-20T12:58:17.708Z"
   },
   {
    "duration": 318,
    "start_time": "2022-09-20T12:58:17.954Z"
   },
   {
    "duration": 303,
    "start_time": "2022-09-20T12:58:18.273Z"
   },
   {
    "duration": 214,
    "start_time": "2022-09-20T12:58:18.580Z"
   },
   {
    "duration": 196,
    "start_time": "2022-09-20T12:58:18.795Z"
   },
   {
    "duration": 164,
    "start_time": "2022-09-20T12:58:18.994Z"
   },
   {
    "duration": 206,
    "start_time": "2022-09-20T12:58:19.160Z"
   },
   {
    "duration": 600,
    "start_time": "2022-09-20T12:58:19.367Z"
   },
   {
    "duration": 351,
    "start_time": "2022-09-20T12:58:19.969Z"
   },
   {
    "duration": 247,
    "start_time": "2022-09-20T12:58:20.322Z"
   },
   {
    "duration": 237,
    "start_time": "2022-09-20T12:58:20.571Z"
   },
   {
    "duration": 23,
    "start_time": "2022-09-20T12:58:20.810Z"
   },
   {
    "duration": 204,
    "start_time": "2022-09-20T12:58:20.835Z"
   },
   {
    "duration": 211,
    "start_time": "2022-09-20T12:58:21.041Z"
   },
   {
    "duration": 746,
    "start_time": "2022-09-20T12:59:42.194Z"
   },
   {
    "duration": 117,
    "start_time": "2022-09-20T12:59:42.942Z"
   },
   {
    "duration": 28,
    "start_time": "2022-09-20T12:59:43.061Z"
   },
   {
    "duration": 2144,
    "start_time": "2022-09-20T12:59:43.093Z"
   },
   {
    "duration": 13,
    "start_time": "2022-09-20T12:59:45.239Z"
   },
   {
    "duration": 38,
    "start_time": "2022-09-20T12:59:45.257Z"
   },
   {
    "duration": 518,
    "start_time": "2022-09-20T12:59:45.296Z"
   },
   {
    "duration": 10,
    "start_time": "2022-09-20T12:59:45.815Z"
   },
   {
    "duration": 24,
    "start_time": "2022-09-20T12:59:45.827Z"
   },
   {
    "duration": 46,
    "start_time": "2022-09-20T12:59:45.853Z"
   },
   {
    "duration": 15,
    "start_time": "2022-09-20T12:59:45.902Z"
   },
   {
    "duration": 1616,
    "start_time": "2022-09-20T12:59:45.919Z"
   },
   {
    "duration": 157,
    "start_time": "2022-09-20T12:59:47.536Z"
   },
   {
    "duration": 11,
    "start_time": "2022-09-20T12:59:47.696Z"
   },
   {
    "duration": 39,
    "start_time": "2022-09-20T12:59:47.709Z"
   },
   {
    "duration": 1996,
    "start_time": "2022-09-20T12:59:47.750Z"
   },
   {
    "duration": 13,
    "start_time": "2022-09-20T12:59:49.747Z"
   },
   {
    "duration": 40,
    "start_time": "2022-09-20T12:59:49.762Z"
   },
   {
    "duration": 21,
    "start_time": "2022-09-20T12:59:49.803Z"
   },
   {
    "duration": 141,
    "start_time": "2022-09-20T12:59:49.826Z"
   },
   {
    "duration": 27,
    "start_time": "2022-09-20T12:59:49.969Z"
   },
   {
    "duration": 9,
    "start_time": "2022-09-20T12:59:49.999Z"
   },
   {
    "duration": 737,
    "start_time": "2022-09-20T12:59:50.010Z"
   },
   {
    "duration": 8,
    "start_time": "2022-09-20T12:59:50.749Z"
   },
   {
    "duration": 30,
    "start_time": "2022-09-20T12:59:50.759Z"
   },
   {
    "duration": 10,
    "start_time": "2022-09-20T12:59:50.793Z"
   },
   {
    "duration": 45,
    "start_time": "2022-09-20T12:59:50.805Z"
   },
   {
    "duration": 215,
    "start_time": "2022-09-20T12:59:50.851Z"
   },
   {
    "duration": 38,
    "start_time": "2022-09-20T12:59:51.068Z"
   },
   {
    "duration": 290,
    "start_time": "2022-09-20T12:59:51.108Z"
   },
   {
    "duration": 262,
    "start_time": "2022-09-20T12:59:51.400Z"
   },
   {
    "duration": 272,
    "start_time": "2022-09-20T12:59:51.664Z"
   },
   {
    "duration": 270,
    "start_time": "2022-09-20T12:59:51.938Z"
   },
   {
    "duration": 198,
    "start_time": "2022-09-20T12:59:52.210Z"
   },
   {
    "duration": 202,
    "start_time": "2022-09-20T12:59:52.410Z"
   },
   {
    "duration": 173,
    "start_time": "2022-09-20T12:59:52.615Z"
   },
   {
    "duration": 222,
    "start_time": "2022-09-20T12:59:52.790Z"
   },
   {
    "duration": 591,
    "start_time": "2022-09-20T12:59:53.013Z"
   },
   {
    "duration": 340,
    "start_time": "2022-09-20T12:59:53.605Z"
   },
   {
    "duration": 215,
    "start_time": "2022-09-20T12:59:53.946Z"
   },
   {
    "duration": 238,
    "start_time": "2022-09-20T12:59:54.164Z"
   },
   {
    "duration": 28,
    "start_time": "2022-09-20T12:59:54.404Z"
   },
   {
    "duration": 254,
    "start_time": "2022-09-20T12:59:54.435Z"
   },
   {
    "duration": 191,
    "start_time": "2022-09-20T12:59:54.690Z"
   },
   {
    "duration": 591,
    "start_time": "2022-09-20T13:01:07.703Z"
   },
   {
    "duration": 7,
    "start_time": "2022-09-20T13:01:08.864Z"
   },
   {
    "duration": 660,
    "start_time": "2022-09-20T13:03:25.975Z"
   },
   {
    "duration": 118,
    "start_time": "2022-09-20T13:03:27.714Z"
   },
   {
    "duration": 18,
    "start_time": "2022-09-20T13:03:29.193Z"
   },
   {
    "duration": 2171,
    "start_time": "2022-09-20T13:03:30.189Z"
   },
   {
    "duration": 10,
    "start_time": "2022-09-20T13:03:32.362Z"
   },
   {
    "duration": 20,
    "start_time": "2022-09-20T13:03:32.374Z"
   },
   {
    "duration": 418,
    "start_time": "2022-09-20T13:03:34.938Z"
   },
   {
    "duration": 8,
    "start_time": "2022-09-20T13:03:36.165Z"
   },
   {
    "duration": 24,
    "start_time": "2022-09-20T13:03:37.018Z"
   },
   {
    "duration": 17,
    "start_time": "2022-09-20T13:03:37.909Z"
   },
   {
    "duration": 11,
    "start_time": "2022-09-20T13:03:40.248Z"
   },
   {
    "duration": 1485,
    "start_time": "2022-09-20T13:03:42.464Z"
   },
   {
    "duration": 150,
    "start_time": "2022-09-20T13:03:43.951Z"
   },
   {
    "duration": 16,
    "start_time": "2022-09-20T13:03:44.971Z"
   },
   {
    "duration": 37,
    "start_time": "2022-09-20T13:03:46.033Z"
   },
   {
    "duration": 2086,
    "start_time": "2022-09-20T13:03:46.848Z"
   },
   {
    "duration": 14,
    "start_time": "2022-09-20T13:03:48.936Z"
   },
   {
    "duration": 38,
    "start_time": "2022-09-20T13:03:48.952Z"
   },
   {
    "duration": 21,
    "start_time": "2022-09-20T13:03:50.284Z"
   },
   {
    "duration": 109,
    "start_time": "2022-09-20T13:03:51.113Z"
   },
   {
    "duration": 19,
    "start_time": "2022-09-20T13:03:51.946Z"
   },
   {
    "duration": 4,
    "start_time": "2022-09-20T13:03:53.793Z"
   },
   {
    "duration": 645,
    "start_time": "2022-09-20T13:03:55.793Z"
   },
   {
    "duration": 8,
    "start_time": "2022-09-20T13:03:57.189Z"
   },
   {
    "duration": 729,
    "start_time": "2022-09-20T13:04:57.566Z"
   },
   {
    "duration": 119,
    "start_time": "2022-09-20T13:04:58.297Z"
   },
   {
    "duration": 15,
    "start_time": "2022-09-20T13:04:58.418Z"
   },
   {
    "duration": 2005,
    "start_time": "2022-09-20T13:04:58.436Z"
   },
   {
    "duration": 10,
    "start_time": "2022-09-20T13:05:00.443Z"
   },
   {
    "duration": 17,
    "start_time": "2022-09-20T13:05:00.455Z"
   },
   {
    "duration": 387,
    "start_time": "2022-09-20T13:05:00.474Z"
   },
   {
    "duration": 29,
    "start_time": "2022-09-20T13:05:00.862Z"
   },
   {
    "duration": 42,
    "start_time": "2022-09-20T13:05:00.893Z"
   },
   {
    "duration": 41,
    "start_time": "2022-09-20T13:05:00.939Z"
   },
   {
    "duration": 19,
    "start_time": "2022-09-20T13:05:00.988Z"
   },
   {
    "duration": 1670,
    "start_time": "2022-09-20T13:05:01.009Z"
   },
   {
    "duration": 146,
    "start_time": "2022-09-20T13:05:02.685Z"
   },
   {
    "duration": 14,
    "start_time": "2022-09-20T13:05:02.834Z"
   },
   {
    "duration": 53,
    "start_time": "2022-09-20T13:05:02.849Z"
   },
   {
    "duration": 2011,
    "start_time": "2022-09-20T13:05:02.904Z"
   },
   {
    "duration": 13,
    "start_time": "2022-09-20T13:05:04.918Z"
   },
   {
    "duration": 19,
    "start_time": "2022-09-20T13:05:04.932Z"
   },
   {
    "duration": 45,
    "start_time": "2022-09-20T13:05:04.952Z"
   },
   {
    "duration": 114,
    "start_time": "2022-09-20T13:05:04.998Z"
   },
   {
    "duration": 19,
    "start_time": "2022-09-20T13:05:05.114Z"
   },
   {
    "duration": 4,
    "start_time": "2022-09-20T13:05:05.136Z"
   },
   {
    "duration": 744,
    "start_time": "2022-09-20T13:05:05.142Z"
   },
   {
    "duration": 9,
    "start_time": "2022-09-20T13:05:05.887Z"
   },
   {
    "duration": 10,
    "start_time": "2022-09-20T13:05:05.898Z"
   },
   {
    "duration": 32,
    "start_time": "2022-09-20T13:05:05.909Z"
   },
   {
    "duration": 237,
    "start_time": "2022-09-20T13:05:05.944Z"
   },
   {
    "duration": 19,
    "start_time": "2022-09-20T13:05:06.184Z"
   },
   {
    "duration": 290,
    "start_time": "2022-09-20T13:05:06.205Z"
   },
   {
    "duration": 265,
    "start_time": "2022-09-20T13:05:06.499Z"
   },
   {
    "duration": 339,
    "start_time": "2022-09-20T13:05:06.766Z"
   },
   {
    "duration": 258,
    "start_time": "2022-09-20T13:05:07.107Z"
   },
   {
    "duration": 191,
    "start_time": "2022-09-20T13:05:07.367Z"
   },
   {
    "duration": 204,
    "start_time": "2022-09-20T13:05:07.560Z"
   },
   {
    "duration": 176,
    "start_time": "2022-09-20T13:05:07.766Z"
   },
   {
    "duration": 219,
    "start_time": "2022-09-20T13:05:07.943Z"
   },
   {
    "duration": 603,
    "start_time": "2022-09-20T13:05:08.163Z"
   },
   {
    "duration": 354,
    "start_time": "2022-09-20T13:05:08.767Z"
   },
   {
    "duration": 238,
    "start_time": "2022-09-20T13:05:09.123Z"
   },
   {
    "duration": 246,
    "start_time": "2022-09-20T13:05:09.363Z"
   },
   {
    "duration": 24,
    "start_time": "2022-09-20T13:05:09.613Z"
   },
   {
    "duration": 188,
    "start_time": "2022-09-20T13:05:09.638Z"
   },
   {
    "duration": 194,
    "start_time": "2022-09-20T13:05:09.827Z"
   },
   {
    "duration": 637,
    "start_time": "2022-09-20T13:05:37.532Z"
   },
   {
    "duration": 15,
    "start_time": "2022-09-20T13:05:38.462Z"
   },
   {
    "duration": 195,
    "start_time": "2022-09-20T13:09:44.558Z"
   },
   {
    "duration": 196,
    "start_time": "2022-09-20T13:09:55.064Z"
   },
   {
    "duration": 184,
    "start_time": "2022-09-20T13:10:04.416Z"
   },
   {
    "duration": 266,
    "start_time": "2022-09-20T13:10:29.992Z"
   },
   {
    "duration": 187,
    "start_time": "2022-09-20T13:10:42.630Z"
   },
   {
    "duration": 3,
    "start_time": "2022-09-20T13:10:53.922Z"
   },
   {
    "duration": 187,
    "start_time": "2022-09-20T13:10:58.621Z"
   },
   {
    "duration": 183,
    "start_time": "2022-09-20T13:13:36.544Z"
   },
   {
    "duration": 198,
    "start_time": "2022-09-20T13:14:07.305Z"
   },
   {
    "duration": 187,
    "start_time": "2022-09-20T13:14:24.207Z"
   },
   {
    "duration": 209,
    "start_time": "2022-09-20T13:14:30.398Z"
   },
   {
    "duration": 201,
    "start_time": "2022-09-20T13:14:34.993Z"
   },
   {
    "duration": 177,
    "start_time": "2022-09-20T13:15:23.270Z"
   },
   {
    "duration": 184,
    "start_time": "2022-09-20T13:17:51.670Z"
   },
   {
    "duration": 192,
    "start_time": "2022-09-20T13:18:04.106Z"
   },
   {
    "duration": 208,
    "start_time": "2022-09-20T13:18:12.240Z"
   },
   {
    "duration": 147,
    "start_time": "2022-09-20T13:21:03.911Z"
   },
   {
    "duration": 148,
    "start_time": "2022-09-20T13:21:09.797Z"
   },
   {
    "duration": 152,
    "start_time": "2022-09-20T13:21:14.838Z"
   },
   {
    "duration": 151,
    "start_time": "2022-09-20T13:21:49.697Z"
   },
   {
    "duration": 293,
    "start_time": "2022-09-20T13:21:55.303Z"
   },
   {
    "duration": 147,
    "start_time": "2022-09-20T13:22:05.863Z"
   },
   {
    "duration": 420,
    "start_time": "2022-09-20T13:22:10.901Z"
   },
   {
    "duration": 352,
    "start_time": "2022-09-20T13:22:20.843Z"
   },
   {
    "duration": 205,
    "start_time": "2022-09-20T13:22:26.557Z"
   },
   {
    "duration": 161,
    "start_time": "2022-09-20T13:22:32.093Z"
   },
   {
    "duration": 608,
    "start_time": "2022-09-20T13:31:12.312Z"
   },
   {
    "duration": 6,
    "start_time": "2022-09-20T13:31:13.069Z"
   },
   {
    "duration": 6,
    "start_time": "2022-09-20T13:31:13.918Z"
   },
   {
    "duration": 666,
    "start_time": "2022-09-20T13:31:19.147Z"
   },
   {
    "duration": 129,
    "start_time": "2022-09-20T13:31:19.815Z"
   },
   {
    "duration": 15,
    "start_time": "2022-09-20T13:31:19.946Z"
   },
   {
    "duration": 2026,
    "start_time": "2022-09-20T13:31:19.963Z"
   },
   {
    "duration": 10,
    "start_time": "2022-09-20T13:31:21.991Z"
   },
   {
    "duration": 3,
    "start_time": "2022-09-20T13:31:22.003Z"
   },
   {
    "duration": 387,
    "start_time": "2022-09-20T13:31:22.007Z"
   },
   {
    "duration": 9,
    "start_time": "2022-09-20T13:31:22.396Z"
   },
   {
    "duration": 24,
    "start_time": "2022-09-20T13:31:22.407Z"
   },
   {
    "duration": 16,
    "start_time": "2022-09-20T13:31:22.435Z"
   },
   {
    "duration": 41,
    "start_time": "2022-09-20T13:31:22.453Z"
   },
   {
    "duration": 1499,
    "start_time": "2022-09-20T13:31:22.495Z"
   },
   {
    "duration": 126,
    "start_time": "2022-09-20T13:31:23.995Z"
   },
   {
    "duration": 10,
    "start_time": "2022-09-20T13:31:24.122Z"
   },
   {
    "duration": 58,
    "start_time": "2022-09-20T13:31:24.133Z"
   },
   {
    "duration": 1847,
    "start_time": "2022-09-20T13:31:24.192Z"
   },
   {
    "duration": 12,
    "start_time": "2022-09-20T13:31:26.041Z"
   },
   {
    "duration": 40,
    "start_time": "2022-09-20T13:31:26.054Z"
   },
   {
    "duration": 23,
    "start_time": "2022-09-20T13:31:26.096Z"
   },
   {
    "duration": 165,
    "start_time": "2022-09-20T13:31:26.121Z"
   },
   {
    "duration": 25,
    "start_time": "2022-09-20T13:31:26.295Z"
   },
   {
    "duration": 4,
    "start_time": "2022-09-20T13:31:26.322Z"
   },
   {
    "duration": 691,
    "start_time": "2022-09-20T13:31:26.328Z"
   },
   {
    "duration": 8,
    "start_time": "2022-09-20T13:31:27.020Z"
   },
   {
    "duration": 20,
    "start_time": "2022-09-20T13:31:27.029Z"
   },
   {
    "duration": 49,
    "start_time": "2022-09-20T13:31:27.051Z"
   },
   {
    "duration": 200,
    "start_time": "2022-09-20T13:31:27.102Z"
   },
   {
    "duration": 15,
    "start_time": "2022-09-20T13:31:27.306Z"
   },
   {
    "duration": 291,
    "start_time": "2022-09-20T13:31:27.323Z"
   },
   {
    "duration": 234,
    "start_time": "2022-09-20T13:31:27.616Z"
   },
   {
    "duration": 277,
    "start_time": "2022-09-20T13:31:27.851Z"
   },
   {
    "duration": 276,
    "start_time": "2022-09-20T13:31:28.129Z"
   },
   {
    "duration": 202,
    "start_time": "2022-09-20T13:31:28.406Z"
   },
   {
    "duration": 200,
    "start_time": "2022-09-20T13:31:28.610Z"
   },
   {
    "duration": 169,
    "start_time": "2022-09-20T13:31:28.812Z"
   },
   {
    "duration": 213,
    "start_time": "2022-09-20T13:31:28.983Z"
   },
   {
    "duration": 546,
    "start_time": "2022-09-20T13:31:29.197Z"
   },
   {
    "duration": 322,
    "start_time": "2022-09-20T13:31:29.745Z"
   },
   {
    "duration": 226,
    "start_time": "2022-09-20T13:31:30.068Z"
   },
   {
    "duration": 232,
    "start_time": "2022-09-20T13:31:30.296Z"
   },
   {
    "duration": 18,
    "start_time": "2022-09-20T13:31:30.530Z"
   },
   {
    "duration": 194,
    "start_time": "2022-09-20T13:31:30.550Z"
   },
   {
    "duration": 198,
    "start_time": "2022-09-20T13:31:30.746Z"
   },
   {
    "duration": 581,
    "start_time": "2022-09-20T13:34:37.225Z"
   },
   {
    "duration": 7,
    "start_time": "2022-09-20T13:34:38.222Z"
   },
   {
    "duration": 686,
    "start_time": "2022-09-20T13:35:11.476Z"
   },
   {
    "duration": 146,
    "start_time": "2022-09-20T13:35:12.163Z"
   },
   {
    "duration": 17,
    "start_time": "2022-09-20T13:35:12.311Z"
   },
   {
    "duration": 2157,
    "start_time": "2022-09-20T13:35:12.331Z"
   },
   {
    "duration": 11,
    "start_time": "2022-09-20T13:35:14.490Z"
   },
   {
    "duration": 6,
    "start_time": "2022-09-20T13:35:14.503Z"
   },
   {
    "duration": 453,
    "start_time": "2022-09-20T13:35:14.511Z"
   },
   {
    "duration": 7,
    "start_time": "2022-09-20T13:35:14.966Z"
   },
   {
    "duration": 32,
    "start_time": "2022-09-20T13:35:14.977Z"
   },
   {
    "duration": 55,
    "start_time": "2022-09-20T13:35:15.012Z"
   },
   {
    "duration": 16,
    "start_time": "2022-09-20T13:35:15.069Z"
   },
   {
    "duration": 1687,
    "start_time": "2022-09-20T13:35:15.088Z"
   },
   {
    "duration": 129,
    "start_time": "2022-09-20T13:35:16.779Z"
   },
   {
    "duration": 12,
    "start_time": "2022-09-20T13:35:16.909Z"
   },
   {
    "duration": 74,
    "start_time": "2022-09-20T13:35:16.923Z"
   },
   {
    "duration": 1994,
    "start_time": "2022-09-20T13:35:16.999Z"
   },
   {
    "duration": 13,
    "start_time": "2022-09-20T13:35:18.995Z"
   },
   {
    "duration": 28,
    "start_time": "2022-09-20T13:35:19.010Z"
   },
   {
    "duration": 42,
    "start_time": "2022-09-20T13:35:19.040Z"
   },
   {
    "duration": 109,
    "start_time": "2022-09-20T13:35:19.088Z"
   },
   {
    "duration": 19,
    "start_time": "2022-09-20T13:35:19.199Z"
   },
   {
    "duration": 5,
    "start_time": "2022-09-20T13:35:19.219Z"
   },
   {
    "duration": 679,
    "start_time": "2022-09-20T13:35:19.225Z"
   },
   {
    "duration": 8,
    "start_time": "2022-09-20T13:35:19.905Z"
   },
   {
    "duration": 18,
    "start_time": "2022-09-20T13:35:19.915Z"
   },
   {
    "duration": 32,
    "start_time": "2022-09-20T13:35:19.935Z"
   },
   {
    "duration": 233,
    "start_time": "2022-09-20T13:35:19.969Z"
   },
   {
    "duration": 16,
    "start_time": "2022-09-20T13:35:20.206Z"
   },
   {
    "duration": 302,
    "start_time": "2022-09-20T13:35:20.224Z"
   },
   {
    "duration": 233,
    "start_time": "2022-09-20T13:35:20.537Z"
   },
   {
    "duration": 256,
    "start_time": "2022-09-20T13:35:20.772Z"
   },
   {
    "duration": 266,
    "start_time": "2022-09-20T13:35:21.030Z"
   },
   {
    "duration": 194,
    "start_time": "2022-09-20T13:35:21.299Z"
   },
   {
    "duration": 189,
    "start_time": "2022-09-20T13:35:21.497Z"
   },
   {
    "duration": 168,
    "start_time": "2022-09-20T13:35:21.687Z"
   },
   {
    "duration": 202,
    "start_time": "2022-09-20T13:35:21.857Z"
   },
   {
    "duration": 577,
    "start_time": "2022-09-20T13:35:22.061Z"
   },
   {
    "duration": 320,
    "start_time": "2022-09-20T13:35:22.640Z"
   },
   {
    "duration": 231,
    "start_time": "2022-09-20T13:35:22.961Z"
   },
   {
    "duration": 218,
    "start_time": "2022-09-20T13:35:23.194Z"
   },
   {
    "duration": 18,
    "start_time": "2022-09-20T13:35:23.414Z"
   },
   {
    "duration": 188,
    "start_time": "2022-09-20T13:35:23.434Z"
   },
   {
    "duration": 199,
    "start_time": "2022-09-20T13:35:23.624Z"
   },
   {
    "duration": 6764,
    "start_time": "2022-09-20T13:42:04.580Z"
   },
   {
    "duration": 25,
    "start_time": "2022-09-20T13:45:41.544Z"
   },
   {
    "duration": 648,
    "start_time": "2022-09-20T13:52:39.406Z"
   },
   {
    "duration": 132,
    "start_time": "2022-09-20T13:52:40.056Z"
   },
   {
    "duration": 18,
    "start_time": "2022-09-20T13:52:40.190Z"
   },
   {
    "duration": 2177,
    "start_time": "2022-09-20T13:52:40.211Z"
   },
   {
    "duration": 11,
    "start_time": "2022-09-20T13:52:42.389Z"
   },
   {
    "duration": 8,
    "start_time": "2022-09-20T13:52:42.401Z"
   },
   {
    "duration": 426,
    "start_time": "2022-09-20T13:52:42.410Z"
   },
   {
    "duration": 10,
    "start_time": "2022-09-20T13:52:42.838Z"
   },
   {
    "duration": 48,
    "start_time": "2022-09-20T13:52:42.850Z"
   },
   {
    "duration": 20,
    "start_time": "2022-09-20T13:52:42.901Z"
   },
   {
    "duration": 26,
    "start_time": "2022-09-20T13:52:42.924Z"
   },
   {
    "duration": 1696,
    "start_time": "2022-09-20T13:52:42.953Z"
   },
   {
    "duration": 138,
    "start_time": "2022-09-20T13:52:44.651Z"
   },
   {
    "duration": 11,
    "start_time": "2022-09-20T13:52:44.792Z"
   },
   {
    "duration": 51,
    "start_time": "2022-09-20T13:52:44.805Z"
   },
   {
    "duration": 2395,
    "start_time": "2022-09-20T13:52:44.858Z"
   },
   {
    "duration": 11,
    "start_time": "2022-09-20T13:52:47.255Z"
   },
   {
    "duration": 34,
    "start_time": "2022-09-20T13:52:47.268Z"
   },
   {
    "duration": 38,
    "start_time": "2022-09-20T13:52:47.303Z"
   },
   {
    "duration": 149,
    "start_time": "2022-09-20T13:52:47.343Z"
   },
   {
    "duration": 21,
    "start_time": "2022-09-20T13:52:47.494Z"
   },
   {
    "duration": 11,
    "start_time": "2022-09-20T13:52:47.517Z"
   },
   {
    "duration": 715,
    "start_time": "2022-09-20T13:52:47.530Z"
   },
   {
    "duration": 2,
    "start_time": "2022-09-20T13:52:48.248Z"
   },
   {
    "duration": 45,
    "start_time": "2022-09-20T13:52:48.252Z"
   },
   {
    "duration": 52,
    "start_time": "2022-09-20T13:52:48.300Z"
   },
   {
    "duration": 240,
    "start_time": "2022-09-20T13:52:48.354Z"
   },
   {
    "duration": 17,
    "start_time": "2022-09-20T13:52:48.598Z"
   },
   {
    "duration": 297,
    "start_time": "2022-09-20T13:52:48.617Z"
   },
   {
    "duration": 263,
    "start_time": "2022-09-20T13:52:48.916Z"
   },
   {
    "duration": 285,
    "start_time": "2022-09-20T13:52:49.180Z"
   },
   {
    "duration": 294,
    "start_time": "2022-09-20T13:52:49.468Z"
   },
   {
    "duration": 219,
    "start_time": "2022-09-20T13:52:49.764Z"
   },
   {
    "duration": 208,
    "start_time": "2022-09-20T13:52:49.985Z"
   },
   {
    "duration": 165,
    "start_time": "2022-09-20T13:52:50.195Z"
   },
   {
    "duration": 236,
    "start_time": "2022-09-20T13:52:50.361Z"
   },
   {
    "duration": 627,
    "start_time": "2022-09-20T13:52:50.600Z"
   },
   {
    "duration": 362,
    "start_time": "2022-09-20T13:52:51.229Z"
   },
   {
    "duration": 211,
    "start_time": "2022-09-20T13:52:51.594Z"
   },
   {
    "duration": 235,
    "start_time": "2022-09-20T13:52:51.806Z"
   },
   {
    "duration": 37,
    "start_time": "2022-09-20T13:52:52.043Z"
   },
   {
    "duration": 6947,
    "start_time": "2022-09-20T13:52:52.081Z"
   },
   {
    "duration": 210,
    "start_time": "2022-09-20T13:52:59.030Z"
   },
   {
    "duration": 173,
    "start_time": "2022-09-20T13:52:59.242Z"
   },
   {
    "duration": 747,
    "start_time": "2022-09-20T13:53:49.354Z"
   },
   {
    "duration": 121,
    "start_time": "2022-09-20T13:53:50.103Z"
   },
   {
    "duration": 15,
    "start_time": "2022-09-20T13:53:50.226Z"
   },
   {
    "duration": 2192,
    "start_time": "2022-09-20T13:53:50.244Z"
   },
   {
    "duration": 9,
    "start_time": "2022-09-20T13:53:52.438Z"
   },
   {
    "duration": 5,
    "start_time": "2022-09-20T13:53:52.449Z"
   },
   {
    "duration": 387,
    "start_time": "2022-09-20T13:53:52.455Z"
   },
   {
    "duration": 9,
    "start_time": "2022-09-20T13:53:52.843Z"
   },
   {
    "duration": 38,
    "start_time": "2022-09-20T13:53:52.854Z"
   },
   {
    "duration": 20,
    "start_time": "2022-09-20T13:53:52.895Z"
   },
   {
    "duration": 16,
    "start_time": "2022-09-20T13:53:52.917Z"
   },
   {
    "duration": 1579,
    "start_time": "2022-09-20T13:53:52.935Z"
   },
   {
    "duration": 126,
    "start_time": "2022-09-20T13:53:54.515Z"
   },
   {
    "duration": 10,
    "start_time": "2022-09-20T13:53:54.643Z"
   },
   {
    "duration": 53,
    "start_time": "2022-09-20T13:53:54.655Z"
   },
   {
    "duration": 2144,
    "start_time": "2022-09-20T13:53:54.710Z"
   },
   {
    "duration": 12,
    "start_time": "2022-09-20T13:53:56.856Z"
   },
   {
    "duration": 29,
    "start_time": "2022-09-20T13:53:56.879Z"
   },
   {
    "duration": 23,
    "start_time": "2022-09-20T13:53:56.910Z"
   },
   {
    "duration": 149,
    "start_time": "2022-09-20T13:53:56.935Z"
   },
   {
    "duration": 27,
    "start_time": "2022-09-20T13:53:57.086Z"
   },
   {
    "duration": 5,
    "start_time": "2022-09-20T13:53:57.115Z"
   },
   {
    "duration": 697,
    "start_time": "2022-09-20T13:53:57.122Z"
   },
   {
    "duration": 7,
    "start_time": "2022-09-20T13:53:57.821Z"
   },
   {
    "duration": 13,
    "start_time": "2022-09-20T13:53:57.830Z"
   },
   {
    "duration": 47,
    "start_time": "2022-09-20T13:53:57.845Z"
   },
   {
    "duration": 220,
    "start_time": "2022-09-20T13:53:57.895Z"
   },
   {
    "duration": 15,
    "start_time": "2022-09-20T13:53:58.119Z"
   },
   {
    "duration": 304,
    "start_time": "2022-09-20T13:53:58.136Z"
   },
   {
    "duration": 324,
    "start_time": "2022-09-20T13:53:58.442Z"
   },
   {
    "duration": 278,
    "start_time": "2022-09-20T13:53:58.779Z"
   },
   {
    "duration": 290,
    "start_time": "2022-09-20T13:53:59.058Z"
   },
   {
    "duration": 232,
    "start_time": "2022-09-20T13:53:59.350Z"
   },
   {
    "duration": 208,
    "start_time": "2022-09-20T13:53:59.583Z"
   },
   {
    "duration": 167,
    "start_time": "2022-09-20T13:53:59.796Z"
   },
   {
    "duration": 229,
    "start_time": "2022-09-20T13:53:59.965Z"
   },
   {
    "duration": 632,
    "start_time": "2022-09-20T13:54:00.196Z"
   },
   {
    "duration": 361,
    "start_time": "2022-09-20T13:54:00.830Z"
   },
   {
    "duration": 224,
    "start_time": "2022-09-20T13:54:01.193Z"
   },
   {
    "duration": 226,
    "start_time": "2022-09-20T13:54:01.419Z"
   },
   {
    "duration": 43,
    "start_time": "2022-09-20T13:54:01.647Z"
   },
   {
    "duration": 7233,
    "start_time": "2022-09-20T13:54:01.697Z"
   },
   {
    "duration": 243,
    "start_time": "2022-09-20T13:54:08.932Z"
   },
   {
    "duration": 195,
    "start_time": "2022-09-20T13:54:09.177Z"
   },
   {
    "duration": 25,
    "start_time": "2022-09-20T13:54:28.414Z"
   },
   {
    "duration": 5785,
    "start_time": "2022-09-20T13:54:33.578Z"
   },
   {
    "duration": 6666,
    "start_time": "2022-09-20T14:06:28.755Z"
   },
   {
    "duration": 6707,
    "start_time": "2022-09-20T14:07:11.417Z"
   },
   {
    "duration": 186,
    "start_time": "2022-09-20T14:07:27.870Z"
   },
   {
    "duration": 196,
    "start_time": "2022-09-20T14:08:18.401Z"
   },
   {
    "duration": 224,
    "start_time": "2022-09-20T14:08:42.596Z"
   },
   {
    "duration": 203,
    "start_time": "2022-09-20T14:09:02.642Z"
   },
   {
    "duration": 167,
    "start_time": "2022-09-20T14:11:46.017Z"
   },
   {
    "duration": 165,
    "start_time": "2022-09-20T14:12:27.996Z"
   },
   {
    "duration": 149,
    "start_time": "2022-09-20T14:17:04.292Z"
   },
   {
    "duration": 200,
    "start_time": "2022-09-20T14:18:29.789Z"
   },
   {
    "duration": 153,
    "start_time": "2022-09-20T14:21:00.788Z"
   },
   {
    "duration": 15,
    "start_time": "2022-09-20T14:31:24.759Z"
   },
   {
    "duration": 15,
    "start_time": "2022-09-20T14:31:50.913Z"
   },
   {
    "duration": 17,
    "start_time": "2022-09-20T14:32:06.967Z"
   },
   {
    "duration": 17,
    "start_time": "2022-09-20T14:32:21.435Z"
   },
   {
    "duration": 74,
    "start_time": "2022-09-20T14:36:51.661Z"
   },
   {
    "duration": 21,
    "start_time": "2022-09-20T14:37:00.600Z"
   },
   {
    "duration": 25,
    "start_time": "2022-09-20T14:37:15.910Z"
   },
   {
    "duration": 20,
    "start_time": "2022-09-20T14:39:15.167Z"
   },
   {
    "duration": 18,
    "start_time": "2022-09-20T14:39:22.889Z"
   },
   {
    "duration": 16,
    "start_time": "2022-09-20T14:40:55.255Z"
   },
   {
    "duration": 14,
    "start_time": "2022-09-20T14:41:02.445Z"
   },
   {
    "duration": 20,
    "start_time": "2022-09-20T14:41:06.721Z"
   },
   {
    "duration": 19,
    "start_time": "2022-09-20T14:41:16.190Z"
   },
   {
    "duration": 16,
    "start_time": "2022-09-20T14:41:46.931Z"
   },
   {
    "duration": 19,
    "start_time": "2022-09-20T14:42:56.705Z"
   },
   {
    "duration": 19,
    "start_time": "2022-09-20T14:43:16.146Z"
   },
   {
    "duration": 31,
    "start_time": "2022-09-20T14:43:30.958Z"
   },
   {
    "duration": 28,
    "start_time": "2022-09-20T14:56:45.773Z"
   },
   {
    "duration": 10,
    "start_time": "2022-09-20T14:57:51.329Z"
   },
   {
    "duration": 10,
    "start_time": "2022-09-20T14:58:12.574Z"
   },
   {
    "duration": 11,
    "start_time": "2022-09-20T14:58:35.560Z"
   },
   {
    "duration": 49,
    "start_time": "2022-09-20T17:04:18.712Z"
   },
   {
    "duration": 954,
    "start_time": "2022-09-20T17:04:24.592Z"
   },
   {
    "duration": 166,
    "start_time": "2022-09-20T17:04:25.548Z"
   },
   {
    "duration": 15,
    "start_time": "2022-09-20T17:04:25.718Z"
   },
   {
    "duration": 2097,
    "start_time": "2022-09-20T17:04:25.735Z"
   },
   {
    "duration": 10,
    "start_time": "2022-09-20T17:04:27.834Z"
   },
   {
    "duration": 3,
    "start_time": "2022-09-20T17:04:27.846Z"
   },
   {
    "duration": 417,
    "start_time": "2022-09-20T17:04:27.851Z"
   },
   {
    "duration": 8,
    "start_time": "2022-09-20T17:04:28.269Z"
   },
   {
    "duration": 37,
    "start_time": "2022-09-20T17:04:28.279Z"
   },
   {
    "duration": 18,
    "start_time": "2022-09-20T17:04:28.318Z"
   },
   {
    "duration": 11,
    "start_time": "2022-09-20T17:04:28.337Z"
   },
   {
    "duration": 1566,
    "start_time": "2022-09-20T17:04:28.350Z"
   },
   {
    "duration": 138,
    "start_time": "2022-09-20T17:04:29.919Z"
   },
   {
    "duration": 9,
    "start_time": "2022-09-20T17:04:30.059Z"
   },
   {
    "duration": 47,
    "start_time": "2022-09-20T17:04:30.070Z"
   },
   {
    "duration": 1900,
    "start_time": "2022-09-20T17:04:30.119Z"
   },
   {
    "duration": 12,
    "start_time": "2022-09-20T17:04:32.021Z"
   },
   {
    "duration": 18,
    "start_time": "2022-09-20T17:04:32.035Z"
   },
   {
    "duration": 42,
    "start_time": "2022-09-20T17:04:32.055Z"
   },
   {
    "duration": 112,
    "start_time": "2022-09-20T17:04:32.099Z"
   },
   {
    "duration": 22,
    "start_time": "2022-09-20T17:04:32.213Z"
   },
   {
    "duration": 4,
    "start_time": "2022-09-20T17:04:32.237Z"
   },
   {
    "duration": 704,
    "start_time": "2022-09-20T17:04:32.243Z"
   },
   {
    "duration": 7,
    "start_time": "2022-09-20T17:04:32.949Z"
   },
   {
    "duration": 11,
    "start_time": "2022-09-20T17:04:32.957Z"
   },
   {
    "duration": 39,
    "start_time": "2022-09-20T17:04:32.970Z"
   },
   {
    "duration": 208,
    "start_time": "2022-09-20T17:04:33.011Z"
   },
   {
    "duration": 15,
    "start_time": "2022-09-20T17:04:33.221Z"
   },
   {
    "duration": 281,
    "start_time": "2022-09-20T17:04:33.238Z"
   },
   {
    "duration": 232,
    "start_time": "2022-09-20T17:04:33.520Z"
   },
   {
    "duration": 244,
    "start_time": "2022-09-20T17:04:33.754Z"
   },
   {
    "duration": 260,
    "start_time": "2022-09-20T17:04:34.000Z"
   },
   {
    "duration": 179,
    "start_time": "2022-09-20T17:04:34.262Z"
   },
   {
    "duration": 188,
    "start_time": "2022-09-20T17:04:34.443Z"
   },
   {
    "duration": 161,
    "start_time": "2022-09-20T17:04:34.634Z"
   },
   {
    "duration": 206,
    "start_time": "2022-09-20T17:04:34.797Z"
   },
   {
    "duration": 539,
    "start_time": "2022-09-20T17:04:35.005Z"
   },
   {
    "duration": 309,
    "start_time": "2022-09-20T17:04:35.545Z"
   },
   {
    "duration": 221,
    "start_time": "2022-09-20T17:04:35.856Z"
   },
   {
    "duration": 229,
    "start_time": "2022-09-20T17:04:36.080Z"
   },
   {
    "duration": 17,
    "start_time": "2022-09-20T17:04:36.311Z"
   },
   {
    "duration": 6373,
    "start_time": "2022-09-20T17:04:36.329Z"
   },
   {
    "duration": 236,
    "start_time": "2022-09-20T17:04:42.704Z"
   },
   {
    "duration": 240,
    "start_time": "2022-09-20T17:04:42.942Z"
   },
   {
    "duration": 350,
    "start_time": "2022-09-20T17:04:43.184Z"
   },
   {
    "duration": 207,
    "start_time": "2022-09-20T17:04:43.536Z"
   },
   {
    "duration": 226,
    "start_time": "2022-09-20T17:04:43.745Z"
   },
   {
    "duration": 173,
    "start_time": "2022-09-20T17:04:43.974Z"
   },
   {
    "duration": 173,
    "start_time": "2022-09-20T17:04:44.149Z"
   },
   {
    "duration": 23,
    "start_time": "2022-09-20T17:04:44.324Z"
   },
   {
    "duration": 10,
    "start_time": "2022-09-20T17:04:44.349Z"
   },
   {
    "duration": 38,
    "start_time": "2022-09-20T17:04:44.361Z"
   },
   {
    "duration": 19,
    "start_time": "2022-09-20T17:08:43.325Z"
   },
   {
    "duration": 17,
    "start_time": "2022-09-20T17:09:10.361Z"
   },
   {
    "duration": 10,
    "start_time": "2022-09-20T17:12:39.322Z"
   },
   {
    "duration": 10,
    "start_time": "2022-09-20T17:12:53.522Z"
   },
   {
    "duration": 5,
    "start_time": "2022-09-20T17:13:06.757Z"
   },
   {
    "duration": 10,
    "start_time": "2022-09-20T17:13:33.005Z"
   },
   {
    "duration": 9,
    "start_time": "2022-09-20T17:13:49.076Z"
   },
   {
    "duration": 2171,
    "start_time": "2022-09-20T17:14:56.341Z"
   },
   {
    "duration": 607,
    "start_time": "2022-09-20T17:15:24.105Z"
   },
   {
    "duration": 656,
    "start_time": "2022-09-20T17:15:47.853Z"
   },
   {
    "duration": 705,
    "start_time": "2022-09-20T17:16:00.847Z"
   },
   {
    "duration": 124,
    "start_time": "2022-09-20T17:16:01.556Z"
   },
   {
    "duration": 22,
    "start_time": "2022-09-20T17:16:01.685Z"
   },
   {
    "duration": 2223,
    "start_time": "2022-09-20T17:16:01.709Z"
   },
   {
    "duration": 11,
    "start_time": "2022-09-20T17:16:03.934Z"
   },
   {
    "duration": 4,
    "start_time": "2022-09-20T17:16:03.947Z"
   },
   {
    "duration": 425,
    "start_time": "2022-09-20T17:16:03.953Z"
   },
   {
    "duration": 17,
    "start_time": "2022-09-20T17:16:04.382Z"
   },
   {
    "duration": 21,
    "start_time": "2022-09-20T17:16:04.402Z"
   },
   {
    "duration": 20,
    "start_time": "2022-09-20T17:16:04.425Z"
   },
   {
    "duration": 11,
    "start_time": "2022-09-20T17:16:04.447Z"
   },
   {
    "duration": 1679,
    "start_time": "2022-09-20T17:16:04.460Z"
   },
   {
    "duration": 140,
    "start_time": "2022-09-20T17:16:06.142Z"
   },
   {
    "duration": 19,
    "start_time": "2022-09-20T17:16:06.284Z"
   },
   {
    "duration": 37,
    "start_time": "2022-09-20T17:16:06.305Z"
   },
   {
    "duration": 2083,
    "start_time": "2022-09-20T17:16:06.345Z"
   },
   {
    "duration": 13,
    "start_time": "2022-09-20T17:16:08.430Z"
   },
   {
    "duration": 20,
    "start_time": "2022-09-20T17:16:08.445Z"
   },
   {
    "duration": 45,
    "start_time": "2022-09-20T17:16:08.467Z"
   },
   {
    "duration": 126,
    "start_time": "2022-09-20T17:16:08.514Z"
   },
   {
    "duration": 21,
    "start_time": "2022-09-20T17:16:08.642Z"
   },
   {
    "duration": 4,
    "start_time": "2022-09-20T17:16:08.664Z"
   },
   {
    "duration": 745,
    "start_time": "2022-09-20T17:16:08.670Z"
   },
   {
    "duration": 8,
    "start_time": "2022-09-20T17:16:09.417Z"
   },
   {
    "duration": 7,
    "start_time": "2022-09-20T17:16:09.426Z"
   },
   {
    "duration": 29,
    "start_time": "2022-09-20T17:16:09.435Z"
   },
   {
    "duration": 231,
    "start_time": "2022-09-20T17:16:09.468Z"
   },
   {
    "duration": 15,
    "start_time": "2022-09-20T17:16:09.700Z"
   },
   {
    "duration": 307,
    "start_time": "2022-09-20T17:16:09.717Z"
   },
   {
    "duration": 235,
    "start_time": "2022-09-20T17:16:10.026Z"
   },
   {
    "duration": 253,
    "start_time": "2022-09-20T17:16:10.262Z"
   },
   {
    "duration": 282,
    "start_time": "2022-09-20T17:16:10.516Z"
   },
   {
    "duration": 218,
    "start_time": "2022-09-20T17:16:10.801Z"
   },
   {
    "duration": 266,
    "start_time": "2022-09-20T17:16:11.021Z"
   },
   {
    "duration": 210,
    "start_time": "2022-09-20T17:16:11.295Z"
   },
   {
    "duration": 282,
    "start_time": "2022-09-20T17:16:11.507Z"
   },
   {
    "duration": 620,
    "start_time": "2022-09-20T17:16:11.791Z"
   },
   {
    "duration": 309,
    "start_time": "2022-09-20T17:16:12.412Z"
   },
   {
    "duration": 250,
    "start_time": "2022-09-20T17:16:12.723Z"
   },
   {
    "duration": 231,
    "start_time": "2022-09-20T17:16:12.975Z"
   },
   {
    "duration": 17,
    "start_time": "2022-09-20T17:16:13.207Z"
   },
   {
    "duration": 6687,
    "start_time": "2022-09-20T17:16:13.226Z"
   },
   {
    "duration": 222,
    "start_time": "2022-09-20T17:16:19.915Z"
   },
   {
    "duration": 229,
    "start_time": "2022-09-20T17:16:20.139Z"
   },
   {
    "duration": 321,
    "start_time": "2022-09-20T17:16:20.370Z"
   },
   {
    "duration": 211,
    "start_time": "2022-09-20T17:16:20.695Z"
   },
   {
    "duration": 206,
    "start_time": "2022-09-20T17:16:20.908Z"
   },
   {
    "duration": 171,
    "start_time": "2022-09-20T17:16:21.116Z"
   },
   {
    "duration": 170,
    "start_time": "2022-09-20T17:16:21.294Z"
   },
   {
    "duration": 20,
    "start_time": "2022-09-20T17:16:21.466Z"
   },
   {
    "duration": 10,
    "start_time": "2022-09-20T17:16:21.495Z"
   },
   {
    "duration": 19,
    "start_time": "2022-09-20T17:16:21.507Z"
   },
   {
    "duration": 93,
    "start_time": "2022-09-20T17:20:04.910Z"
   },
   {
    "duration": 12,
    "start_time": "2022-09-20T17:20:42.887Z"
   },
   {
    "duration": 17,
    "start_time": "2022-09-20T17:21:37.882Z"
   },
   {
    "duration": 17,
    "start_time": "2022-09-20T17:21:44.684Z"
   },
   {
    "duration": 13,
    "start_time": "2022-09-20T17:21:52.010Z"
   },
   {
    "duration": 14,
    "start_time": "2022-09-20T17:22:42.960Z"
   },
   {
    "duration": 11,
    "start_time": "2022-09-20T17:22:49.549Z"
   },
   {
    "duration": 16,
    "start_time": "2022-09-20T17:23:27.566Z"
   },
   {
    "duration": 17,
    "start_time": "2022-09-20T17:26:14.141Z"
   },
   {
    "duration": 16,
    "start_time": "2022-09-20T17:27:53.138Z"
   },
   {
    "duration": 19,
    "start_time": "2022-09-20T17:28:10.151Z"
   },
   {
    "duration": 16,
    "start_time": "2022-09-20T17:29:39.805Z"
   },
   {
    "duration": 48,
    "start_time": "2022-09-21T04:34:08.557Z"
   },
   {
    "duration": 770,
    "start_time": "2022-09-21T04:34:12.882Z"
   },
   {
    "duration": 335,
    "start_time": "2022-09-21T04:34:13.654Z"
   },
   {
    "duration": 15,
    "start_time": "2022-09-21T04:34:13.991Z"
   },
   {
    "duration": 1992,
    "start_time": "2022-09-21T04:34:14.008Z"
   },
   {
    "duration": 9,
    "start_time": "2022-09-21T04:34:16.002Z"
   },
   {
    "duration": 3,
    "start_time": "2022-09-21T04:34:16.012Z"
   },
   {
    "duration": 379,
    "start_time": "2022-09-21T04:34:16.016Z"
   },
   {
    "duration": 7,
    "start_time": "2022-09-21T04:34:16.397Z"
   },
   {
    "duration": 32,
    "start_time": "2022-09-21T04:34:16.406Z"
   },
   {
    "duration": 17,
    "start_time": "2022-09-21T04:34:16.441Z"
   },
   {
    "duration": 11,
    "start_time": "2022-09-21T04:34:16.459Z"
   },
   {
    "duration": 1465,
    "start_time": "2022-09-21T04:34:16.472Z"
   },
   {
    "duration": 137,
    "start_time": "2022-09-21T04:34:17.939Z"
   },
   {
    "duration": 9,
    "start_time": "2022-09-21T04:34:18.078Z"
   },
   {
    "duration": 52,
    "start_time": "2022-09-21T04:34:18.089Z"
   },
   {
    "duration": 2019,
    "start_time": "2022-09-21T04:34:18.143Z"
   },
   {
    "duration": 12,
    "start_time": "2022-09-21T04:34:20.163Z"
   },
   {
    "duration": 19,
    "start_time": "2022-09-21T04:34:20.176Z"
   },
   {
    "duration": 45,
    "start_time": "2022-09-21T04:34:20.196Z"
   },
   {
    "duration": 108,
    "start_time": "2022-09-21T04:34:20.243Z"
   },
   {
    "duration": 19,
    "start_time": "2022-09-21T04:34:20.353Z"
   },
   {
    "duration": 4,
    "start_time": "2022-09-21T04:34:20.374Z"
   },
   {
    "duration": 698,
    "start_time": "2022-09-21T04:34:20.379Z"
   },
   {
    "duration": 7,
    "start_time": "2022-09-21T04:34:21.079Z"
   },
   {
    "duration": 13,
    "start_time": "2022-09-21T04:34:21.088Z"
   },
   {
    "duration": 40,
    "start_time": "2022-09-21T04:34:21.102Z"
   },
   {
    "duration": 204,
    "start_time": "2022-09-21T04:34:21.143Z"
   },
   {
    "duration": 277,
    "start_time": "2022-09-21T04:34:21.350Z"
   },
   {
    "duration": 230,
    "start_time": "2022-09-21T04:34:21.629Z"
   },
   {
    "duration": 250,
    "start_time": "2022-09-21T04:34:21.862Z"
   },
   {
    "duration": 254,
    "start_time": "2022-09-21T04:34:22.113Z"
   },
   {
    "duration": 178,
    "start_time": "2022-09-21T04:34:22.369Z"
   },
   {
    "duration": 195,
    "start_time": "2022-09-21T04:34:22.549Z"
   },
   {
    "duration": 150,
    "start_time": "2022-09-21T04:34:22.745Z"
   },
   {
    "duration": 194,
    "start_time": "2022-09-21T04:34:22.897Z"
   },
   {
    "duration": 554,
    "start_time": "2022-09-21T04:34:23.093Z"
   },
   {
    "duration": 312,
    "start_time": "2022-09-21T04:34:23.649Z"
   },
   {
    "duration": 218,
    "start_time": "2022-09-21T04:34:23.962Z"
   },
   {
    "duration": 208,
    "start_time": "2022-09-21T04:34:24.182Z"
   },
   {
    "duration": 29,
    "start_time": "2022-09-21T04:34:24.392Z"
   },
   {
    "duration": 6398,
    "start_time": "2022-09-21T04:34:24.423Z"
   },
   {
    "duration": 212,
    "start_time": "2022-09-21T04:34:30.823Z"
   },
   {
    "duration": 216,
    "start_time": "2022-09-21T04:34:31.036Z"
   },
   {
    "duration": 324,
    "start_time": "2022-09-21T04:34:31.254Z"
   },
   {
    "duration": 211,
    "start_time": "2022-09-21T04:34:31.580Z"
   },
   {
    "duration": 208,
    "start_time": "2022-09-21T04:34:31.793Z"
   },
   {
    "duration": 176,
    "start_time": "2022-09-21T04:34:32.003Z"
   },
   {
    "duration": 173,
    "start_time": "2022-09-21T04:34:32.180Z"
   },
   {
    "duration": 20,
    "start_time": "2022-09-21T04:34:32.355Z"
   },
   {
    "duration": 15,
    "start_time": "2022-09-21T04:34:32.377Z"
   },
   {
    "duration": 31,
    "start_time": "2022-09-21T04:34:32.394Z"
   },
   {
    "duration": 17,
    "start_time": "2022-09-21T04:36:57.572Z"
   },
   {
    "duration": 75,
    "start_time": "2022-09-21T04:38:47.958Z"
   },
   {
    "duration": 8,
    "start_time": "2022-09-21T04:38:53.959Z"
   },
   {
    "duration": 389,
    "start_time": "2022-09-21T04:41:16.481Z"
   },
   {
    "duration": 195,
    "start_time": "2022-09-21T04:41:45.962Z"
   },
   {
    "duration": 174,
    "start_time": "2022-09-21T04:42:38.752Z"
   },
   {
    "duration": 166,
    "start_time": "2022-09-21T04:43:18.647Z"
   },
   {
    "duration": 54,
    "start_time": "2022-09-21T06:32:28.524Z"
   },
   {
    "duration": 826,
    "start_time": "2022-09-21T06:32:33.022Z"
   },
   {
    "duration": 367,
    "start_time": "2022-09-21T06:32:33.850Z"
   },
   {
    "duration": 25,
    "start_time": "2022-09-21T06:32:34.218Z"
   },
   {
    "duration": 2187,
    "start_time": "2022-09-21T06:32:34.245Z"
   },
   {
    "duration": 9,
    "start_time": "2022-09-21T06:32:36.434Z"
   },
   {
    "duration": 4,
    "start_time": "2022-09-21T06:32:36.444Z"
   },
   {
    "duration": 379,
    "start_time": "2022-09-21T06:32:36.449Z"
   },
   {
    "duration": 8,
    "start_time": "2022-09-21T06:32:36.830Z"
   },
   {
    "duration": 18,
    "start_time": "2022-09-21T06:32:36.839Z"
   },
   {
    "duration": 43,
    "start_time": "2022-09-21T06:32:36.859Z"
   },
   {
    "duration": 11,
    "start_time": "2022-09-21T06:32:36.904Z"
   },
   {
    "duration": 1486,
    "start_time": "2022-09-21T06:32:36.917Z"
   },
   {
    "duration": 130,
    "start_time": "2022-09-21T06:32:38.405Z"
   },
   {
    "duration": 10,
    "start_time": "2022-09-21T06:32:38.539Z"
   },
   {
    "duration": 51,
    "start_time": "2022-09-21T06:32:38.551Z"
   },
   {
    "duration": 1837,
    "start_time": "2022-09-21T06:32:38.604Z"
   },
   {
    "duration": 11,
    "start_time": "2022-09-21T06:32:40.443Z"
   },
   {
    "duration": 34,
    "start_time": "2022-09-21T06:32:40.455Z"
   },
   {
    "duration": 18,
    "start_time": "2022-09-21T06:32:40.491Z"
   },
   {
    "duration": 116,
    "start_time": "2022-09-21T06:32:40.510Z"
   },
   {
    "duration": 17,
    "start_time": "2022-09-21T06:32:40.628Z"
   },
   {
    "duration": 3,
    "start_time": "2022-09-21T06:32:40.647Z"
   },
   {
    "duration": 699,
    "start_time": "2022-09-21T06:32:40.652Z"
   },
   {
    "duration": 9,
    "start_time": "2022-09-21T06:32:41.353Z"
   },
   {
    "duration": 28,
    "start_time": "2022-09-21T06:32:41.363Z"
   },
   {
    "duration": 28,
    "start_time": "2022-09-21T06:32:41.393Z"
   },
   {
    "duration": 216,
    "start_time": "2022-09-21T06:32:41.423Z"
   },
   {
    "duration": 355,
    "start_time": "2022-09-21T06:32:41.641Z"
   },
   {
    "duration": 246,
    "start_time": "2022-09-21T06:32:42.001Z"
   },
   {
    "duration": 367,
    "start_time": "2022-09-21T06:32:42.249Z"
   },
   {
    "duration": 282,
    "start_time": "2022-09-21T06:32:42.618Z"
   },
   {
    "duration": 187,
    "start_time": "2022-09-21T06:32:42.901Z"
   },
   {
    "duration": 190,
    "start_time": "2022-09-21T06:32:43.094Z"
   },
   {
    "duration": 154,
    "start_time": "2022-09-21T06:32:43.292Z"
   },
   {
    "duration": 196,
    "start_time": "2022-09-21T06:32:43.448Z"
   },
   {
    "duration": 569,
    "start_time": "2022-09-21T06:32:43.645Z"
   },
   {
    "duration": 312,
    "start_time": "2022-09-21T06:32:44.216Z"
   },
   {
    "duration": 233,
    "start_time": "2022-09-21T06:32:44.530Z"
   },
   {
    "duration": 224,
    "start_time": "2022-09-21T06:32:44.765Z"
   },
   {
    "duration": 18,
    "start_time": "2022-09-21T06:32:44.992Z"
   },
   {
    "duration": 7130,
    "start_time": "2022-09-21T06:32:45.013Z"
   },
   {
    "duration": 216,
    "start_time": "2022-09-21T06:32:52.145Z"
   },
   {
    "duration": 235,
    "start_time": "2022-09-21T06:32:52.363Z"
   },
   {
    "duration": 336,
    "start_time": "2022-09-21T06:32:52.600Z"
   },
   {
    "duration": 228,
    "start_time": "2022-09-21T06:32:52.938Z"
   },
   {
    "duration": 264,
    "start_time": "2022-09-21T06:32:53.176Z"
   },
   {
    "duration": 216,
    "start_time": "2022-09-21T06:32:53.443Z"
   },
   {
    "duration": 185,
    "start_time": "2022-09-21T06:32:53.661Z"
   },
   {
    "duration": 41,
    "start_time": "2022-09-21T06:32:53.848Z"
   },
   {
    "duration": 24,
    "start_time": "2022-09-21T06:32:53.893Z"
   },
   {
    "duration": 37,
    "start_time": "2022-09-21T06:32:53.920Z"
   },
   {
    "duration": 207,
    "start_time": "2022-09-21T06:32:53.958Z"
   },
   {
    "duration": 75,
    "start_time": "2022-09-21T06:34:30.153Z"
   },
   {
    "duration": 3,
    "start_time": "2022-09-21T06:34:44.709Z"
   },
   {
    "duration": 164,
    "start_time": "2022-09-21T06:34:53.857Z"
   },
   {
    "duration": 3,
    "start_time": "2022-09-21T06:36:00.962Z"
   },
   {
    "duration": 26,
    "start_time": "2022-09-21T06:36:02.373Z"
   },
   {
    "duration": 156,
    "start_time": "2022-09-21T06:36:06.253Z"
   },
   {
    "duration": 159,
    "start_time": "2022-09-21T06:37:33.489Z"
   },
   {
    "duration": 151,
    "start_time": "2022-09-21T06:38:38.152Z"
   },
   {
    "duration": 12,
    "start_time": "2022-09-21T06:39:53.512Z"
   },
   {
    "duration": 13,
    "start_time": "2022-09-21T06:40:03.089Z"
   },
   {
    "duration": 13,
    "start_time": "2022-09-21T06:40:28.820Z"
   },
   {
    "duration": 13,
    "start_time": "2022-09-21T06:40:36.352Z"
   },
   {
    "duration": 12,
    "start_time": "2022-09-21T06:41:01.335Z"
   },
   {
    "duration": 256,
    "start_time": "2022-09-21T06:49:22.434Z"
   },
   {
    "duration": 319,
    "start_time": "2022-09-21T06:51:54.494Z"
   },
   {
    "duration": 205,
    "start_time": "2022-09-21T06:52:05.021Z"
   },
   {
    "duration": 173,
    "start_time": "2022-09-21T06:52:16.333Z"
   },
   {
    "duration": 191,
    "start_time": "2022-09-21T06:52:34.569Z"
   },
   {
    "duration": 12,
    "start_time": "2022-09-21T06:53:26.401Z"
   },
   {
    "duration": 2625,
    "start_time": "2022-09-21T06:53:42.884Z"
   },
   {
    "duration": 9,
    "start_time": "2022-09-21T06:56:48.473Z"
   },
   {
    "duration": 830,
    "start_time": "2022-09-21T09:56:30.346Z"
   },
   {
    "duration": 4,
    "start_time": "2022-09-21T09:59:22.214Z"
   },
   {
    "duration": 522,
    "start_time": "2022-09-21T09:59:30.147Z"
   },
   {
    "duration": 154,
    "start_time": "2022-09-21T10:00:08.875Z"
   },
   {
    "duration": 81,
    "start_time": "2022-09-21T10:00:15.541Z"
   },
   {
    "duration": 24,
    "start_time": "2022-09-21T10:00:57.571Z"
   },
   {
    "duration": 20,
    "start_time": "2022-09-21T10:01:13.011Z"
   },
   {
    "duration": 21,
    "start_time": "2022-09-21T10:02:38.033Z"
   },
   {
    "duration": 24,
    "start_time": "2022-09-21T10:02:45.304Z"
   },
   {
    "duration": 2309,
    "start_time": "2022-09-21T10:04:48.050Z"
   },
   {
    "duration": 7,
    "start_time": "2022-09-21T10:05:06.919Z"
   },
   {
    "duration": 13,
    "start_time": "2022-09-21T10:05:27.064Z"
   },
   {
    "duration": 1230,
    "start_time": "2022-09-21T10:05:58.261Z"
   },
   {
    "duration": 160,
    "start_time": "2022-09-21T10:06:53.267Z"
   },
   {
    "duration": 136,
    "start_time": "2022-09-21T10:08:06.587Z"
   },
   {
    "duration": 90,
    "start_time": "2022-09-21T10:08:07.458Z"
   },
   {
    "duration": 142,
    "start_time": "2022-09-21T10:08:17.502Z"
   },
   {
    "duration": 26,
    "start_time": "2022-09-21T10:29:15.452Z"
   },
   {
    "duration": 139,
    "start_time": "2022-09-21T10:29:19.071Z"
   },
   {
    "duration": 143,
    "start_time": "2022-09-21T10:29:24.659Z"
   },
   {
    "duration": 141,
    "start_time": "2022-09-21T10:29:29.020Z"
   },
   {
    "duration": 21,
    "start_time": "2022-09-21T10:30:12.632Z"
   },
   {
    "duration": 158,
    "start_time": "2022-09-21T10:30:13.346Z"
   },
   {
    "duration": 139,
    "start_time": "2022-09-21T10:30:14.077Z"
   },
   {
    "duration": 137,
    "start_time": "2022-09-21T10:30:14.727Z"
   }
  ],
  "kernelspec": {
   "display_name": "Python 3 (ipykernel)",
   "language": "python",
   "name": "python3"
  },
  "language_info": {
   "codemirror_mode": {
    "name": "ipython",
    "version": 3
   },
   "file_extension": ".py",
   "mimetype": "text/x-python",
   "name": "python",
   "nbconvert_exporter": "python",
   "pygments_lexer": "ipython3",
   "version": "3.9.5"
  },
  "toc": {
   "base_numbering": 1,
   "nav_menu": {},
   "number_sections": true,
   "sideBar": true,
   "skip_h1_title": true,
   "title_cell": "Table of Contents",
   "title_sidebar": "Contents",
   "toc_cell": false,
   "toc_position": {},
   "toc_section_display": true,
   "toc_window_display": false
  }
 },
 "nbformat": 4,
 "nbformat_minor": 2
}
