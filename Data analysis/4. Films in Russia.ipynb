{
 "cells": [
  {
   "cell_type": "markdown",
   "metadata": {},
   "source": [
    "<div class=\"alert alert-success\"; style=\"border-left: 7px solid green\">\n",
    "<h3>✔ Комментарий ревьюера V.2</h3>\n",
    "    \n",
    "Тоже спасибо за лестный комментарий :) Удачи в следующих спринтах </div>    \n"
   ]
  },
  {
   "cell_type": "markdown",
   "metadata": {},
   "source": [
    "Привет! \n",
    "\n",
    "Большое спасибо за такие комментарии, там было ооочень много полезной для меня информации и ответы на большую часть вопросов, которые возникали. И даже на те, которые существовали неосознанно. А красивое и удобное оглавление вдохновило бежать учиться делать так же\n",
    "\n",
    "<div class = \"alert alert-info\" style=\"border-left: 7px solid blue\">\n",
    "<h3>Комментарий студента I </h3>\n",
    "Буду писать правки в этом квадратике (ревьюер не душнила, у ревьюера педагогический талант и основательные познания, которые он умеет интересно доносить :) )\n",
    "    \n",
    "Внесла изменения только по комментарию **2.39**\n",
    "    \n",
    "</div>"
   ]
  },
  {
   "cell_type": "markdown",
   "metadata": {},
   "source": [
    "# <div class=\"alert alert-success\">\n",
    "<h2> Комментарий ревьюера</h2>\n",
    "    \n",
    "Привет! Меня зовут Алексей Тюрин, я буду делать ревью твоей работы. Давай будем общаться на «ты».\n",
    "\n",
    "У тебя хорошая, аккуратная работа 👍. В ней всё здорово, я её вернул, чтобы у тебя была возможность посмотреть комментарии и задать вопросы, если есть. Нужно только поправить момент с подсчётом окупаемости фильмов с поддержкой. \n",
    "\n",
    "---\n",
    "Комментарии делятся на 3 группы:\n",
    "    \n",
    "Зелёным цветом отмечены комментарии, либо подчёркивающие удачные решения, либо содержащие какую-то дополнительную информацию или советы, они формально не требуют правки, но правки приветствуются. Выделены они так:\n",
    "\n",
    "<div class=\"alert alert-success\"; style=\"border-left: 7px solid green\">\n",
    "<h3>✔ Комментарий ревьюера</h3>\n",
    "    \n",
    "Тут текст    \n",
    "</div>    \n",
    "\n",
    "Жёлтым цветом выделены правки, которые желательны:\n",
    "\n",
    "<div class=\"alert alert-warning\"; style=\"border-left: 7px solid yellow\" >\n",
    "<h3>!! Комментарий ревьюера</h3>\n",
    "    \n",
    "Тут текст    \n",
    "</div>    \n",
    "\n",
    "Красным выделены правки, которые обязательны\n",
    "    \n",
    "<div class=\"alert alert-danger\"; style=\"border-left: 7px solid red\">\n",
    "<h3>👀 Комментарий ревьюера</h3>\n",
    "    \n",
    "Тут текст    \n",
    "</div>    \n",
    "    \n",
    "Давай работать над проектом в диалоге: если ты **что-то меняешь** в проекте по моим рекомендациям — **пиши об этом**. Выбери для своих комментариев какой-то заметный цвет, так мне будет легче отследить изменения. Пожалуйста, **не перемещай, не изменяй и не удаляй мои комментарии**. Всё это поможет выполнить повторную проверку твоего проекта оперативнее. Если оставляешь комментарии на какой-то итерации ревью, пиши что-то вроде `комментарий студента V.{номер итерации}`\n",
    "</div>\n",
    "\n",
    "Цвет можно сделать, например, так\n",
    "\n",
    "<div class = \"alert alert-info\" style=\"border-left: 7px solid blue\">\n",
    "<h3>Комментарий студента</h3>\n",
    "Ревьюер душнила :)\n",
    "</div>\n",
    "\n",
    "Или так:\n",
    "    \n",
    "<div class=\"alert alert-info\" style=\"background:#ffdbf1;color:#2e00ab;border-left:7px solid #2e00ab\">\n",
    "<h3>Комментарий студента </h3>\n",
    "    ...\n",
    "</div>"
   ]
  },
  {
   "cell_type": "markdown",
   "metadata": {},
   "source": [
    "<div class=\"alert alert-warning\"; style=\"border-left: 7px solid yellow\" >\n",
    "<h3>!! Комментарий ревьюера</h3>\n",
    "    \n",
    "Проект это не только код, но ещё и контекст, поэтому этот контекст, т.е. описание предметной области проекта и поставленных задач, нужно писать в самом начале работы. Можно такое введение сопроводить гиперссылками на разделы работы\n",
    "</div>    \n"
   ]
  },
  {
   "cell_type": "markdown",
   "metadata": {},
   "source": [
    "**Конечно, перед работой импортируем нужные нам библиотеки**"
   ]
  },
  {
   "cell_type": "code",
   "execution_count": 2,
   "metadata": {},
   "outputs": [],
   "source": [
    "import pandas as pd\n",
    "import matplotlib.pyplot as plt\n",
    "import numpy as np\n",
    "pd.options.display.float_format = '{:20,.2f}'.format"
   ]
  },
  {
   "cell_type": "markdown",
   "metadata": {},
   "source": [
    "<div class=\"alert alert-success\"; style=\"border-left: 7px solid green\">\n",
    "<h3>✔ Комментарий ревьюера</h3>\n",
    "    \n",
    "Здорово, что все импорты собраны в самом начале, так сразу понятно, какие у проекта зависимости 👍 Здорово, что форматируешь числа, тут это удобно в некоторых пунктах</div>    "
   ]
  },
  {
   "cell_type": "markdown",
   "metadata": {
    "id": "dw87FlzMgFyM"
   },
   "source": [
    "**Используемые переменные:**\n",
    "\n",
    "*df_mov, df_sh* - первоначальные данные (предоставленные таблица);\n",
    "\n",
    "*df* - общая таблица (2 объединенные первоначальные);\n",
    "\n",
    "*df_edit* - таблица с предобработанными данными и добавленными столбцами;\n",
    "\n",
    "*df_sum, kf_bud* - промежуточная переменые для расчета заполнения пропущенных значений в столбце бюджета фильма;\n",
    "\n",
    "*gov_sup* - таблица для исследования фильмов с гос поддержкой."
   ]
  },
  {
   "cell_type": "markdown",
   "metadata": {},
   "source": [
    "<div class=\"alert alert-success\"; style=\"border-left: 7px solid green\">\n",
    "<h3>✔ Комментарий ревьюера</h3>\n",
    "    \n",
    "Тоже здорово, что прорезюмировала переменные. Если делать проект (и открывать) в редакторе для кода, а не в браузере, то там работает go-to, т.е. можно кликнув на перменную посмотреть, где она объвлена, поэтому текстом писать необязательно\n",
    "</div>    "
   ]
  },
  {
   "cell_type": "markdown",
   "metadata": {
    "id": "sIfNaMOxgFyK"
   },
   "source": [
    "## Исследование данных о российском кинопрокате\n",
    "\n"
   ]
  },
  {
   "cell_type": "markdown",
   "metadata": {
    "id": "3bSlkCsbgFyL"
   },
   "source": [
    "### Шаг 1. Откройте файлы с данными и объедините их в один датафрейм. \n",
    "\n",
    "Объедините данные таким образом, чтобы все объекты из датасета `mkrf_movies` обязательно вошли в получившийся датафрейм. \n",
    "\n",
    "<div id=\"accordion\">\n",
    "    <div class=\"card\">\n",
    "        <div class=\"card-header\" id=\"headingThree\">\n",
    "            <button class=\"btn btn-link collapsed\" data-toggle=\"collapse\" data-target=\"#collapseHint_0\" aria-expanded=\"false\" aria-controls=\"collapseHint_0\">Подсказка</button>\n",
    "        </div>\n",
    "        <div id=\"collapseHint_0\" class=\"collapse\" aria-labelledby=\"headingThree\" data-parent=\"#accordion\">\n",
    "            <div class=\"card-body\">\n",
    "Обратите внимание на тип данных столбца, по которому будете соединять датафреймы. Тип данных этих столбцов должен быть одинаковым в обоих датафреймах.\n",
    "            </div>\n",
    "        </div>\n",
    "    </div>\n",
    "</div>"
   ]
  },
  {
   "cell_type": "code",
   "execution_count": 3,
   "metadata": {},
   "outputs": [],
   "source": [
    "df_mov = pd.read_csv('/datasets/mkrf_movies.csv')\n",
    "df_sh = pd.read_csv('/datasets/mkrf_shows.csv')\n",
    "\n",
    "#df_mov = pd.read_csv('datasets/mkrf_movies.csv')\n",
    "#df_sh = pd.read_csv('datasets/mkrf_shows.csv')"
   ]
  },
  {
   "cell_type": "markdown",
   "metadata": {},
   "source": [
    "<div class=\"alert alert-success\"; style=\"border-left: 7px solid green\">\n",
    "<h3>✔ Комментарий ревьюера</h3>\n",
    "    \n",
    "Чтобы перед/после отправки не комментировать туда-сюда, можно написать в духе:\n",
    "    \n",
    "```python\n",
    "\n",
    "try:\n",
    "    df_mov = pd.read_csv('/datasets/mkrf_movies.csv')\n",
    "    df_sh = pd.read_csv('/datasets/mkrf_shows.csv')\n",
    "except FileNotFoundError as e:\n",
    "    df_mov = pd.read_csv('datasets/mkrf_movies.csv')\n",
    "    df_sh = pd.read_csv('datasets/mkrf_shows.csv')\n",
    "```\n",
    "</div>    "
   ]
  },
  {
   "cell_type": "code",
   "execution_count": 4,
   "metadata": {},
   "outputs": [
    {
     "name": "stdout",
     "output_type": "stream",
     "text": [
      "<class 'pandas.core.frame.DataFrame'>\n",
      "RangeIndex: 7486 entries, 0 to 7485\n",
      "Data columns (total 15 columns):\n",
      " #   Column                 Non-Null Count  Dtype  \n",
      "---  ------                 --------------  -----  \n",
      " 0   title                  7486 non-null   object \n",
      " 1   puNumber               7486 non-null   object \n",
      " 2   show_start_date        7486 non-null   object \n",
      " 3   type                   7486 non-null   object \n",
      " 4   film_studio            7468 non-null   object \n",
      " 5   production_country     7484 non-null   object \n",
      " 6   director               7477 non-null   object \n",
      " 7   producer               6918 non-null   object \n",
      " 8   age_restriction        7486 non-null   object \n",
      " 9   refundable_support     332 non-null    float64\n",
      " 10  nonrefundable_support  332 non-null    float64\n",
      " 11  budget                 332 non-null    float64\n",
      " 12  financing_source       332 non-null    object \n",
      " 13  ratings                6519 non-null   object \n",
      " 14  genres                 6510 non-null   object \n",
      "dtypes: float64(3), object(12)\n",
      "memory usage: 877.4+ KB\n"
     ]
    },
    {
     "data": {
      "text/plain": [
       "None"
      ]
     },
     "metadata": {},
     "output_type": "display_data"
    },
    {
     "name": "stdout",
     "output_type": "stream",
     "text": [
      "<class 'pandas.core.frame.DataFrame'>\n",
      "RangeIndex: 3158 entries, 0 to 3157\n",
      "Data columns (total 2 columns):\n",
      " #   Column      Non-Null Count  Dtype  \n",
      "---  ------      --------------  -----  \n",
      " 0   puNumber    3158 non-null   int64  \n",
      " 1   box_office  3158 non-null   float64\n",
      "dtypes: float64(1), int64(1)\n",
      "memory usage: 49.5 KB\n"
     ]
    },
    {
     "data": {
      "text/plain": [
       "None"
      ]
     },
     "metadata": {},
     "output_type": "display_data"
    }
   ],
   "source": [
    "display(df_mov.info())\n",
    "display(df_sh.info())"
   ]
  },
  {
   "cell_type": "markdown",
   "metadata": {},
   "source": [
    "<div class=\"alert alert-success\"; style=\"border-left: 7px solid green\">\n",
    "<h3>✔ Комментарий ревьюера</h3>\n",
    "    \n",
    "`info` делает вывод сам, поэтому оборачивать в `display` не надо \n",
    "</div>    "
   ]
  },
  {
   "cell_type": "code",
   "execution_count": 5,
   "metadata": {},
   "outputs": [
    {
     "data": {
      "text/html": [
       "<div>\n",
       "<style scoped>\n",
       "    .dataframe tbody tr th:only-of-type {\n",
       "        vertical-align: middle;\n",
       "    }\n",
       "\n",
       "    .dataframe tbody tr th {\n",
       "        vertical-align: top;\n",
       "    }\n",
       "\n",
       "    .dataframe thead th {\n",
       "        text-align: right;\n",
       "    }\n",
       "</style>\n",
       "<table border=\"1\" class=\"dataframe\">\n",
       "  <thead>\n",
       "    <tr style=\"text-align: right;\">\n",
       "      <th></th>\n",
       "      <th>title</th>\n",
       "      <th>puNumber</th>\n",
       "      <th>show_start_date</th>\n",
       "      <th>type</th>\n",
       "      <th>film_studio</th>\n",
       "      <th>production_country</th>\n",
       "      <th>director</th>\n",
       "      <th>producer</th>\n",
       "      <th>age_restriction</th>\n",
       "      <th>refundable_support</th>\n",
       "      <th>nonrefundable_support</th>\n",
       "      <th>budget</th>\n",
       "      <th>financing_source</th>\n",
       "      <th>ratings</th>\n",
       "      <th>genres</th>\n",
       "    </tr>\n",
       "  </thead>\n",
       "  <tbody>\n",
       "    <tr>\n",
       "      <th>804</th>\n",
       "      <td>Паранормальный Якутск</td>\n",
       "      <td>111004112</td>\n",
       "      <td>2012-08-24T12:00:00.000Z</td>\n",
       "      <td>Художественный</td>\n",
       "      <td>ИП Тимофеев К.П.</td>\n",
       "      <td>Россия</td>\n",
       "      <td>К.Тимофеев</td>\n",
       "      <td>NaN</td>\n",
       "      <td>«16+» - для детей старше 16 лет</td>\n",
       "      <td>NaN</td>\n",
       "      <td>NaN</td>\n",
       "      <td>NaN</td>\n",
       "      <td>NaN</td>\n",
       "      <td>NaN</td>\n",
       "      <td>NaN</td>\n",
       "    </tr>\n",
       "    <tr>\n",
       "      <th>3962</th>\n",
       "      <td>Небесный тихоход (новая цветная версия)</td>\n",
       "      <td>111000110</td>\n",
       "      <td>2010-01-14T12:00:00.000Z</td>\n",
       "      <td>Художественный</td>\n",
       "      <td>Киностудия \"Ленфильм\", ЗАО \"Киновидеообъединен...</td>\n",
       "      <td>СССР, Россия</td>\n",
       "      <td>И.Цветов (режиссер ч/б фильма - С.Тимошенко)</td>\n",
       "      <td>ЗАО \"Киновидеообъединение \"Крупный план\"</td>\n",
       "      <td>«0+» - для любой зрительской аудитории</td>\n",
       "      <td>NaN</td>\n",
       "      <td>NaN</td>\n",
       "      <td>NaN</td>\n",
       "      <td>NaN</td>\n",
       "      <td>8.0</td>\n",
       "      <td>комедия,военный</td>\n",
       "    </tr>\n",
       "    <tr>\n",
       "      <th>4768</th>\n",
       "      <td>И не было лучше брата</td>\n",
       "      <td>111000111</td>\n",
       "      <td>2011-01-13T12:00:00.000Z</td>\n",
       "      <td>Художественный</td>\n",
       "      <td>ООО \"Ибрус\"  при поддержке Киностудии \"Азербай...</td>\n",
       "      <td>Россия - Азербайджан</td>\n",
       "      <td>М.Ибрагимбеков</td>\n",
       "      <td>М.Ибрагимбеков, А.Швыдкой, Д.Шуфутинский</td>\n",
       "      <td>«16+» - для детей старше 16 лет</td>\n",
       "      <td>NaN</td>\n",
       "      <td>NaN</td>\n",
       "      <td>NaN</td>\n",
       "      <td>NaN</td>\n",
       "      <td>6.7</td>\n",
       "      <td>детектив</td>\n",
       "    </tr>\n",
       "    <tr>\n",
       "      <th>729</th>\n",
       "      <td>Детский юмористический киножурнал \"Ералаш\", вы...</td>\n",
       "      <td>111000112</td>\n",
       "      <td>2012-01-16T12:00:00.000Z</td>\n",
       "      <td>Художественный</td>\n",
       "      <td>ООО \"Ералаш\"</td>\n",
       "      <td>Россия</td>\n",
       "      <td>В.Панжев, Г.Курлаев, И.Белостоцкий, М.Сулейман...</td>\n",
       "      <td>ООО \"Ералаш\"</td>\n",
       "      <td>«0+» - для любой зрительской аудитории</td>\n",
       "      <td>NaN</td>\n",
       "      <td>NaN</td>\n",
       "      <td>NaN</td>\n",
       "      <td>NaN</td>\n",
       "      <td>7.2</td>\n",
       "      <td>детский,комедия</td>\n",
       "    </tr>\n",
       "    <tr>\n",
       "      <th>1128</th>\n",
       "      <td>Тайна перевала Дятлова</td>\n",
       "      <td>111000113</td>\n",
       "      <td>2013-01-17T12:00:00.000Z</td>\n",
       "      <td>Художественный</td>\n",
       "      <td>ООО \"Нон-Стоп Продакшн\"</td>\n",
       "      <td>Россия</td>\n",
       "      <td>Ренни Харлин</td>\n",
       "      <td>А.Роднянский, С.Мелькумов, С.Беспалов, Киа Джэм</td>\n",
       "      <td>«16+» - для детей старше 16 лет</td>\n",
       "      <td>NaN</td>\n",
       "      <td>NaN</td>\n",
       "      <td>NaN</td>\n",
       "      <td>NaN</td>\n",
       "      <td>5.1</td>\n",
       "      <td>ужасы,фантастика</td>\n",
       "    </tr>\n",
       "  </tbody>\n",
       "</table>\n",
       "</div>"
      ],
      "text/plain": [
       "                                                  title    puNumber  \\\n",
       "804                               Паранормальный Якутск   111004112   \n",
       "3962            Небесный тихоход (новая цветная версия)   111000110   \n",
       "4768                              И не было лучше брата   111000111   \n",
       "729   Детский юмористический киножурнал \"Ералаш\", вы...   111000112   \n",
       "1128                             Тайна перевала Дятлова   111000113   \n",
       "\n",
       "               show_start_date            type  \\\n",
       "804   2012-08-24T12:00:00.000Z  Художественный   \n",
       "3962  2010-01-14T12:00:00.000Z  Художественный   \n",
       "4768  2011-01-13T12:00:00.000Z  Художественный   \n",
       "729   2012-01-16T12:00:00.000Z  Художественный   \n",
       "1128  2013-01-17T12:00:00.000Z  Художественный   \n",
       "\n",
       "                                            film_studio    production_country  \\\n",
       "804                                    ИП Тимофеев К.П.                Россия   \n",
       "3962  Киностудия \"Ленфильм\", ЗАО \"Киновидеообъединен...          СССР, Россия   \n",
       "4768  ООО \"Ибрус\"  при поддержке Киностудии \"Азербай...  Россия - Азербайджан   \n",
       "729                                        ООО \"Ералаш\"                Россия   \n",
       "1128                            ООО \"Нон-Стоп Продакшн\"                Россия   \n",
       "\n",
       "                                               director  \\\n",
       "804                                          К.Тимофеев   \n",
       "3962       И.Цветов (режиссер ч/б фильма - С.Тимошенко)   \n",
       "4768                                     М.Ибрагимбеков   \n",
       "729   В.Панжев, Г.Курлаев, И.Белостоцкий, М.Сулейман...   \n",
       "1128                                       Ренни Харлин   \n",
       "\n",
       "                                             producer  \\\n",
       "804                                               NaN   \n",
       "3962         ЗАО \"Киновидеообъединение \"Крупный план\"   \n",
       "4768         М.Ибрагимбеков, А.Швыдкой, Д.Шуфутинский   \n",
       "729                                      ООО \"Ералаш\"   \n",
       "1128  А.Роднянский, С.Мелькумов, С.Беспалов, Киа Джэм   \n",
       "\n",
       "                             age_restriction  refundable_support  \\\n",
       "804          «16+» - для детей старше 16 лет                 NaN   \n",
       "3962  «0+» - для любой зрительской аудитории                 NaN   \n",
       "4768         «16+» - для детей старше 16 лет                 NaN   \n",
       "729   «0+» - для любой зрительской аудитории                 NaN   \n",
       "1128         «16+» - для детей старше 16 лет                 NaN   \n",
       "\n",
       "      nonrefundable_support  budget financing_source ratings            genres  \n",
       "804                     NaN     NaN              NaN     NaN               NaN  \n",
       "3962                    NaN     NaN              NaN     8.0   комедия,военный  \n",
       "4768                    NaN     NaN              NaN     6.7          детектив  \n",
       "729                     NaN     NaN              NaN     7.2   детский,комедия  \n",
       "1128                    NaN     NaN              NaN     5.1  ужасы,фантастика  "
      ]
     },
     "metadata": {},
     "output_type": "display_data"
    },
    {
     "data": {
      "text/html": [
       "<div>\n",
       "<style scoped>\n",
       "    .dataframe tbody tr th:only-of-type {\n",
       "        vertical-align: middle;\n",
       "    }\n",
       "\n",
       "    .dataframe tbody tr th {\n",
       "        vertical-align: top;\n",
       "    }\n",
       "\n",
       "    .dataframe thead th {\n",
       "        text-align: right;\n",
       "    }\n",
       "</style>\n",
       "<table border=\"1\" class=\"dataframe\">\n",
       "  <thead>\n",
       "    <tr style=\"text-align: right;\">\n",
       "      <th></th>\n",
       "      <th>puNumber</th>\n",
       "      <th>box_office</th>\n",
       "    </tr>\n",
       "  </thead>\n",
       "  <tbody>\n",
       "    <tr>\n",
       "      <th>0</th>\n",
       "      <td>111000113</td>\n",
       "      <td>2,450.00</td>\n",
       "    </tr>\n",
       "    <tr>\n",
       "      <th>1</th>\n",
       "      <td>111000115</td>\n",
       "      <td>61,040.00</td>\n",
       "    </tr>\n",
       "    <tr>\n",
       "      <th>2</th>\n",
       "      <td>111000116</td>\n",
       "      <td>153,030,013.40</td>\n",
       "    </tr>\n",
       "    <tr>\n",
       "      <th>3</th>\n",
       "      <td>111000117</td>\n",
       "      <td>12,260,956.00</td>\n",
       "    </tr>\n",
       "    <tr>\n",
       "      <th>4</th>\n",
       "      <td>111000118</td>\n",
       "      <td>163,684,057.79</td>\n",
       "    </tr>\n",
       "  </tbody>\n",
       "</table>\n",
       "</div>"
      ],
      "text/plain": [
       "    puNumber           box_office\n",
       "0  111000113             2,450.00\n",
       "1  111000115            61,040.00\n",
       "2  111000116       153,030,013.40\n",
       "3  111000117        12,260,956.00\n",
       "4  111000118       163,684,057.79"
      ]
     },
     "metadata": {},
     "output_type": "display_data"
    }
   ],
   "source": [
    "display(df_mov.sort_values(by='puNumber').head())\n",
    "display(df_sh.head())"
   ]
  },
  {
   "cell_type": "markdown",
   "metadata": {},
   "source": [
    "Во-первых, обе эти таблицы имеют одинаковые данные в столбце \"puNumber\", несущую в себе информацию по номеру прокатного удостоверения. Значит, соединять таблицы необходимо по этому столбцу. \n",
    "\n",
    "А, во-вторых, количество строк в таблице разное (7 486 против 3 158). Т е строк с информацией о сборах в рублях получится максимум 3 158, что составляет около 40% от первой таблицы. Чисто теоретически, на фильм можно получить прокатное удостоверение, но сам фильм так и не выйдет в прокат. Также существуют некоммерческие показы в кинозалах (некоторые кинофестивали, киноклубы, премьеры). Вряд ли это все составляет почти 60%, но останется весомой причиной для того, чтобы недозаполнять и тем более не удалять (ведь это было бы примерно 60% данных) пропуски этого столбца.\n",
    "\n",
    "Возможно, у меня маловато знаний в этой области и в будущем анализе станет очевидно, почему пропусков так много.\n",
    "\n",
    "Пока просто соединяем таблицы, сохранив все строки из первой таблицы с большим количеством данных (df_mov).\n",
    "\n",
    "Заметим, что в разных таблицах столбик 'puNumber' имеет разный формат: int и object. Такое необходимо исправить иначе объединить не получится."
   ]
  },
  {
   "cell_type": "markdown",
   "metadata": {},
   "source": [
    "<div class=\"alert alert-success\"; style=\"border-left: 7px solid green\">\n",
    "<h3>✔ Комментарий ревьюера</h3>\n",
    "    \n",
    "> Возможно, у меня маловато знаний в этой области и в будущем анализе станет очевидно, почему пропусков так много.\n",
    "\n",
    "Основная причина видимо в самом сборе данных. Т.е. данные отсутствуют просто потому, что их нет ( а не потому, например, что фильм в прокат не выходил). Да, у фильма может быть несколько прокатных удостоверений, но таких фильмов в нашем датасете не так много\n",
    "</div>    "
   ]
  },
  {
   "cell_type": "code",
   "execution_count": 6,
   "metadata": {},
   "outputs": [
    {
     "name": "stdout",
     "output_type": "stream",
     "text": [
      "<class 'pandas.core.frame.DataFrame'>\n",
      "RangeIndex: 3158 entries, 0 to 3157\n",
      "Data columns (total 2 columns):\n",
      " #   Column      Non-Null Count  Dtype  \n",
      "---  ------      --------------  -----  \n",
      " 0   puNumber    3158 non-null   object \n",
      " 1   box_office  3158 non-null   float64\n",
      "dtypes: float64(1), object(1)\n",
      "memory usage: 49.5+ KB\n"
     ]
    }
   ],
   "source": [
    "df_sh['puNumber'] = df_sh['puNumber'].astype('str')\n",
    "df_sh.info()"
   ]
  },
  {
   "cell_type": "code",
   "execution_count": 7,
   "metadata": {},
   "outputs": [
    {
     "data": {
      "text/html": [
       "<div>\n",
       "<style scoped>\n",
       "    .dataframe tbody tr th:only-of-type {\n",
       "        vertical-align: middle;\n",
       "    }\n",
       "\n",
       "    .dataframe tbody tr th {\n",
       "        vertical-align: top;\n",
       "    }\n",
       "\n",
       "    .dataframe thead th {\n",
       "        text-align: right;\n",
       "    }\n",
       "</style>\n",
       "<table border=\"1\" class=\"dataframe\">\n",
       "  <thead>\n",
       "    <tr style=\"text-align: right;\">\n",
       "      <th></th>\n",
       "      <th>title</th>\n",
       "      <th>puNumber</th>\n",
       "      <th>show_start_date</th>\n",
       "      <th>type</th>\n",
       "      <th>film_studio</th>\n",
       "      <th>production_country</th>\n",
       "      <th>director</th>\n",
       "      <th>producer</th>\n",
       "      <th>age_restriction</th>\n",
       "      <th>refundable_support</th>\n",
       "      <th>nonrefundable_support</th>\n",
       "      <th>budget</th>\n",
       "      <th>financing_source</th>\n",
       "      <th>ratings</th>\n",
       "      <th>genres</th>\n",
       "    </tr>\n",
       "  </thead>\n",
       "  <tbody>\n",
       "  </tbody>\n",
       "</table>\n",
       "</div>"
      ],
      "text/plain": [
       "Empty DataFrame\n",
       "Columns: [title, puNumber, show_start_date, type, film_studio, production_country, director, producer, age_restriction, refundable_support, nonrefundable_support, budget, financing_source, ratings, genres]\n",
       "Index: []"
      ]
     },
     "execution_count": 7,
     "metadata": {},
     "output_type": "execute_result"
    }
   ],
   "source": [
    "df_mov.loc[df_mov['genres'] == '0']"
   ]
  },
  {
   "cell_type": "markdown",
   "metadata": {},
   "source": [
    "Эти цифры в расчете не могут пригодиться, ведь это уникальный идентификатор удостоверения. Считаю целесообразным перевести в формат object."
   ]
  },
  {
   "cell_type": "code",
   "execution_count": 8,
   "metadata": {},
   "outputs": [
    {
     "name": "stdout",
     "output_type": "stream",
     "text": [
      "<class 'pandas.core.frame.DataFrame'>\n",
      "Int64Index: 7486 entries, 0 to 7485\n",
      "Data columns (total 16 columns):\n",
      " #   Column                 Non-Null Count  Dtype  \n",
      "---  ------                 --------------  -----  \n",
      " 0   title                  7486 non-null   object \n",
      " 1   puNumber               7486 non-null   object \n",
      " 2   show_start_date        7486 non-null   object \n",
      " 3   type                   7486 non-null   object \n",
      " 4   film_studio            7468 non-null   object \n",
      " 5   production_country     7484 non-null   object \n",
      " 6   director               7477 non-null   object \n",
      " 7   producer               6918 non-null   object \n",
      " 8   age_restriction        7486 non-null   object \n",
      " 9   refundable_support     332 non-null    float64\n",
      " 10  nonrefundable_support  332 non-null    float64\n",
      " 11  budget                 332 non-null    float64\n",
      " 12  financing_source       332 non-null    object \n",
      " 13  ratings                6519 non-null   object \n",
      " 14  genres                 6510 non-null   object \n",
      " 15  box_office             3158 non-null   float64\n",
      "dtypes: float64(4), object(12)\n",
      "memory usage: 994.2+ KB\n"
     ]
    }
   ],
   "source": [
    "df = df_mov.merge(df_sh, on='puNumber', how='left') \n",
    "df.info()"
   ]
  },
  {
   "cell_type": "markdown",
   "metadata": {},
   "source": [
    "<div class=\"alert alert-success\"; style=\"border-left: 7px solid green\">\n",
    "<h3>✔ Комментарий ревьюера</h3>\n",
    "    \n",
    "На самом деле лучше было бы привести к числовому типу, т.к.:</div>    "
   ]
  },
  {
   "cell_type": "code",
   "execution_count": 9,
   "metadata": {},
   "outputs": [
    {
     "data": {
      "text/plain": [
       "(False, True)"
      ]
     },
     "execution_count": 9,
     "metadata": {},
     "output_type": "execute_result"
    }
   ],
   "source": [
    "# код ревьюера\n",
    "\n",
    "\"1123\" == \" 1123\", int(\"1123\") == int(\" 1123\")"
   ]
  },
  {
   "cell_type": "markdown",
   "metadata": {},
   "source": [
    "<div class=\"alert alert-success\"; style=\"border-left: 7px solid green\">\n",
    "<h3>✔ Комментарий ревьюера</h3>\n",
    "    \n",
    "Посмотреть, какие строки содержат нечисловые значения можно так:</div>    "
   ]
  },
  {
   "cell_type": "code",
   "execution_count": 10,
   "metadata": {},
   "outputs": [
    {
     "data": {
      "text/html": [
       "<div>\n",
       "<style scoped>\n",
       "    .dataframe tbody tr th:only-of-type {\n",
       "        vertical-align: middle;\n",
       "    }\n",
       "\n",
       "    .dataframe tbody tr th {\n",
       "        vertical-align: top;\n",
       "    }\n",
       "\n",
       "    .dataframe thead th {\n",
       "        text-align: right;\n",
       "    }\n",
       "</style>\n",
       "<table border=\"1\" class=\"dataframe\">\n",
       "  <thead>\n",
       "    <tr style=\"text-align: right;\">\n",
       "      <th></th>\n",
       "      <th>title</th>\n",
       "      <th>puNumber</th>\n",
       "      <th>show_start_date</th>\n",
       "      <th>type</th>\n",
       "      <th>film_studio</th>\n",
       "      <th>production_country</th>\n",
       "      <th>director</th>\n",
       "      <th>producer</th>\n",
       "      <th>age_restriction</th>\n",
       "      <th>refundable_support</th>\n",
       "      <th>nonrefundable_support</th>\n",
       "      <th>budget</th>\n",
       "      <th>financing_source</th>\n",
       "      <th>ratings</th>\n",
       "      <th>genres</th>\n",
       "      <th>box_office</th>\n",
       "    </tr>\n",
       "  </thead>\n",
       "  <tbody>\n",
       "    <tr>\n",
       "      <th>1797</th>\n",
       "      <td>Курбан-роман. (История с жертвой)</td>\n",
       "      <td>нет</td>\n",
       "      <td>2014-05-15T12:00:00.000Z</td>\n",
       "      <td>Художественный</td>\n",
       "      <td>ФОНД \"ИННОВАЦИЯ\"</td>\n",
       "      <td>Россия</td>\n",
       "      <td>С.Юзеев</td>\n",
       "      <td>М.Галицкая</td>\n",
       "      <td>«12+» - для детей старше 12 лет</td>\n",
       "      <td>NaN</td>\n",
       "      <td>NaN</td>\n",
       "      <td>NaN</td>\n",
       "      <td>NaN</td>\n",
       "      <td>NaN</td>\n",
       "      <td>NaN</td>\n",
       "      <td>NaN</td>\n",
       "    </tr>\n",
       "  </tbody>\n",
       "</table>\n",
       "</div>"
      ],
      "text/plain": [
       "                                  title puNumber           show_start_date  \\\n",
       "1797  Курбан-роман. (История с жертвой)      нет  2014-05-15T12:00:00.000Z   \n",
       "\n",
       "                type       film_studio production_country director  \\\n",
       "1797  Художественный  ФОНД \"ИННОВАЦИЯ\"             Россия  С.Юзеев   \n",
       "\n",
       "        producer                  age_restriction  refundable_support  \\\n",
       "1797  М.Галицкая  «12+» - для детей старше 12 лет                 NaN   \n",
       "\n",
       "      nonrefundable_support  budget financing_source ratings genres  \\\n",
       "1797                    NaN     NaN              NaN     NaN    NaN   \n",
       "\n",
       "      box_office  \n",
       "1797         NaN  "
      ]
     },
     "execution_count": 10,
     "metadata": {},
     "output_type": "execute_result"
    }
   ],
   "source": [
    "# Код ревьюера\n",
    "\n",
    "df[pd.to_numeric(df['puNumber'], errors='coerce').isna()]"
   ]
  },
  {
   "cell_type": "markdown",
   "metadata": {},
   "source": [
    "<div class=\"alert alert-success\"; style=\"border-left: 7px solid green\">\n",
    "<h3>✔ Комментарий ревьюера</h3>\n",
    "    \n",
    "Такая функция заменяет всё, что не является числом, на пропуск и приводит нужный тип. Так можно привести столбец к типу `float`\n",
    " и объединить</div>    "
   ]
  },
  {
   "cell_type": "markdown",
   "metadata": {},
   "source": [
    "Все отлично соединилось, все значения второй таблицы с кассовыми сборами нашли себе место в новой таблице по совпадению с прокатным удостоверением."
   ]
  },
  {
   "cell_type": "markdown",
   "metadata": {},
   "source": [
    "<div class=\"alert alert-success\"; style=\"border-left: 7px solid green\">\n",
    "<h3>✔ Комментарий ревьюера</h3>\n",
    "    \n",
    "Да, ненулевых значений в `box_office` столько же, сколько было в изначальной таблице</div>    "
   ]
  },
  {
   "cell_type": "markdown",
   "metadata": {
    "id": "KLDGpPG0gFyM"
   },
   "source": [
    "### Шаг 2. Предобработка данных"
   ]
  },
  {
   "cell_type": "markdown",
   "metadata": {
    "id": "ssWwKXsxgFyO"
   },
   "source": [
    "#### Шаг 2.1. Проверьте типы данных\n",
    "\n",
    "- Проверьте типы данных в датафрейме и преобразуйте их там, где это необходимо"
   ]
  },
  {
   "cell_type": "code",
   "execution_count": 11,
   "metadata": {
    "id": "kVGSplJOgFyO"
   },
   "outputs": [
    {
     "name": "stdout",
     "output_type": "stream",
     "text": [
      "<class 'pandas.core.frame.DataFrame'>\n",
      "Int64Index: 7486 entries, 0 to 7485\n",
      "Data columns (total 16 columns):\n",
      " #   Column                 Non-Null Count  Dtype  \n",
      "---  ------                 --------------  -----  \n",
      " 0   title                  7486 non-null   object \n",
      " 1   puNumber               7486 non-null   object \n",
      " 2   show_start_date        7486 non-null   object \n",
      " 3   type                   7486 non-null   object \n",
      " 4   film_studio            7468 non-null   object \n",
      " 5   production_country     7484 non-null   object \n",
      " 6   director               7477 non-null   object \n",
      " 7   producer               6918 non-null   object \n",
      " 8   age_restriction        7486 non-null   object \n",
      " 9   refundable_support     332 non-null    float64\n",
      " 10  nonrefundable_support  332 non-null    float64\n",
      " 11  budget                 332 non-null    float64\n",
      " 12  financing_source       332 non-null    object \n",
      " 13  ratings                6519 non-null   object \n",
      " 14  genres                 6510 non-null   object \n",
      " 15  box_office             3158 non-null   float64\n",
      "dtypes: float64(4), object(12)\n",
      "memory usage: 994.2+ KB\n"
     ]
    }
   ],
   "source": [
    "df.info()"
   ]
  },
  {
   "cell_type": "markdown",
   "metadata": {},
   "source": [
    "В глаза бросаются названия столбцов, особенно змеиный регистр. Исправим"
   ]
  },
  {
   "cell_type": "code",
   "execution_count": 12,
   "metadata": {},
   "outputs": [
    {
     "data": {
      "text/plain": [
       "Index(['title', 'pu_number', 'show_start_date', 'type', 'film_studio',\n",
       "       'production_country', 'director', 'producer', 'age_restriction',\n",
       "       'refundable_support', 'non_refundable_support', 'budget',\n",
       "       'financing_source', 'ratings', 'genres', 'box_office'],\n",
       "      dtype='object')"
      ]
     },
     "execution_count": 12,
     "metadata": {},
     "output_type": "execute_result"
    }
   ],
   "source": [
    "df = df.rename(columns = {\n",
    "    'puNumber':'pu_number',\n",
    "    'nonrefundable_support':'non_refundable_support'\n",
    "})\n",
    "df.columns"
   ]
  },
  {
   "cell_type": "markdown",
   "metadata": {},
   "source": [
    "<div class=\"alert alert-success\"; style=\"border-left: 7px solid green\">\n",
    "<h3>✔ Комментарий ревьюера</h3>\n",
    "    \n",
    "Здорово, что следишь на званиями столбцов 👍</div>    "
   ]
  },
  {
   "cell_type": "markdown",
   "metadata": {},
   "source": [
    "Теперь проверим данные на пропущенные значения"
   ]
  },
  {
   "cell_type": "code",
   "execution_count": 13,
   "metadata": {
    "scrolled": true
   },
   "outputs": [
    {
     "data": {
      "text/plain": [
       "title                        0\n",
       "pu_number                    0\n",
       "show_start_date              0\n",
       "type                         0\n",
       "film_studio                 18\n",
       "production_country           2\n",
       "director                     9\n",
       "producer                   568\n",
       "age_restriction              0\n",
       "refundable_support        7154\n",
       "non_refundable_support    7154\n",
       "budget                    7154\n",
       "financing_source          7154\n",
       "ratings                    967\n",
       "genres                     976\n",
       "box_office                4328\n",
       "dtype: int64"
      ]
     },
     "execution_count": 13,
     "metadata": {},
     "output_type": "execute_result"
    }
   ],
   "source": [
    "df.isnull().sum()"
   ]
  },
  {
   "cell_type": "code",
   "execution_count": 14,
   "metadata": {},
   "outputs": [],
   "source": [
    "#add = ['film_studio', 'production_country', 'director', 'producer', 'ratings', 'genres'] #эти столбцы мы попытаемся заполнить\n",
    "                                                                                        #соответственно с названиями фильмов\n",
    "#titles = list(df['title'].unique())\n",
    "\n",
    "#for title in titles:\n",
    "#    if len(x := df.loc[df[\"title\"] == title, add]) > 1:\n",
    "#        display(x[add])\n",
    "\n",
    "\n"
   ]
  },
  {
   "cell_type": "markdown",
   "metadata": {},
   "source": [
    "Этим крышесносным кодом были проверены пустые значения в столбцах 'film_studio', 'production_country', 'director', 'producer', 'ratings', 'genres'. Лучше его не запускать, потому что иногда крашится Юпитер. Но все же глазами было просмотрено, что ни одно пропущенное значение в данных столбиках по аналогии с другими столбиками (если фильм одинаковый и попал в выборку, потому что на него имеется несколько удостоверений) заполнить нельзя. Фильмы разные, а ориентироваться исключительно на название фильма нельзя. Часто встречаются разные фильмы с одним названием. Так что эти пропущенные придется оставить пропущенными. Займемся другими столбиками. В пропусках 'producer' часто встречаются произведения Мосфильма. В принципе, эти пропуски не будут мешать анализу, так что оставим их."
   ]
  },
  {
   "cell_type": "markdown",
   "metadata": {},
   "source": [
    "<div class=\"alert alert-success\"; style=\"border-left: 7px solid green\">\n",
    "<h3>✔ Комментарий ревьюера</h3>\n",
    "    \n",
    "Лайк за `:=` :) Возможно чуть проще такое было бы посмотреть, сгруппировав по `title`, взяв `unique` и `len(unique)` по колонкам выше, отфильтровав строки, где `nunique > 1`\n",
    "    \n",
    "Идентифицировать фильм можно по `title` и режиссеру с продюссером например (или по дате):\n",
    "</div>    "
   ]
  },
  {
   "cell_type": "code",
   "execution_count": 15,
   "metadata": {},
   "outputs": [
    {
     "data": {
      "text/html": [
       "<div>\n",
       "<style scoped>\n",
       "    .dataframe tbody tr th:only-of-type {\n",
       "        vertical-align: middle;\n",
       "    }\n",
       "\n",
       "    .dataframe tbody tr th {\n",
       "        vertical-align: top;\n",
       "    }\n",
       "\n",
       "    .dataframe thead th {\n",
       "        text-align: right;\n",
       "    }\n",
       "</style>\n",
       "<table border=\"1\" class=\"dataframe\">\n",
       "  <thead>\n",
       "    <tr style=\"text-align: right;\">\n",
       "      <th></th>\n",
       "      <th></th>\n",
       "      <th>ratings_unique</th>\n",
       "      <th>ratings_n</th>\n",
       "    </tr>\n",
       "    <tr>\n",
       "      <th>title</th>\n",
       "      <th>director</th>\n",
       "      <th></th>\n",
       "      <th></th>\n",
       "    </tr>\n",
       "  </thead>\n",
       "  <tbody>\n",
       "  </tbody>\n",
       "</table>\n",
       "</div>"
      ],
      "text/plain": [
       "Empty DataFrame\n",
       "Columns: [ratings_unique, ratings_n]\n",
       "Index: []"
      ]
     },
     "execution_count": 15,
     "metadata": {},
     "output_type": "execute_result"
    }
   ],
   "source": [
    "# Код ревьюера\n",
    "\n",
    "df.groupby(['title','director']).agg(ratings_unique = ('ratings','unique'),\n",
    "                                     ratings_n = ('ratings', lambda x : len(x.unique())))[lambda x : x['ratings_n'] > 1]"
   ]
  },
  {
   "cell_type": "markdown",
   "metadata": {},
   "source": [
    "<div class=\"alert alert-success\"; style=\"border-left: 7px solid green\">\n",
    "<h3>✔ Комментарий ревьюера</h3>\n",
    "    \n",
    "Собственно нет фильмов, где был бы разные рейтинги (`nan` один из них в том числе)</div>    "
   ]
  },
  {
   "cell_type": "markdown",
   "metadata": {},
   "source": [
    "Для нас в исследовании очень важны строки 'title' и 'pu_number', ведь они показывают названия фильмов и прокатное удостоверение. Удалять дупликать в стоке 'title' не имеет смысла, ведь с удалением этой строки мы потеряем немало данных и номеров прокатных удостоверений, а вот прокатные удостоверения дублироваться никак не должны.\n",
    "\n",
    "Немного приведем в порядок столбик с названием фильмов (перебирать каждое название очень сложно, поэтому уберем пробелы, нижние подчеркивания в начале и конце названия, а также переведем все в нижний регистр) и уберем дубликаты столбца удостоверений, если такие есть."
   ]
  },
  {
   "cell_type": "markdown",
   "metadata": {},
   "source": [
    "<div class=\"alert alert-success\"; style=\"border-left: 7px solid green\">\n",
    "<h3>✔ Комментарий ревьюера</h3>\n",
    "    \n",
    "Отдельно нам прокатные удостоверения не нужны, но чтобы чуть корректнее проанализировать выпуск фильмов для каждого года можно было бы посмотерть на дубликаты по `title`. Т.к. по прокатному удостоверению мы не моджем определять для какого типа показа оно выдано, то из дублирующихся фильмов можно оставить 1, сложив сборы. например, чтобы за выход фильма считался именно показ в кинотеатре\n",
    "    \n",
    "</div>    "
   ]
  },
  {
   "cell_type": "markdown",
   "metadata": {},
   "source": [
    "<div class=\"alert alert-success\"; style=\"border-left: 7px solid green\">\n",
    "<h3>✔ Комментарий ревьюера</h3>\n",
    "    \n",
    "Руками перебирать и правда тяжело, но можно оценить символы, которые расположены по бокам:    \n",
    "</div>    "
   ]
  },
  {
   "cell_type": "code",
   "execution_count": 16,
   "metadata": {},
   "outputs": [
    {
     "data": {
      "text/plain": [
       "(array(['\"', '(', '.', '#', ' '], dtype=object),\n",
       " array(['.', '/', ')', '?', '!', '\"', '-', '=', '%', '+', ' '],\n",
       "       dtype=object))"
      ]
     },
     "execution_count": 16,
     "metadata": {},
     "output_type": "execute_result"
    }
   ],
   "source": [
    "# Код ревьюера\n",
    "\n",
    "demo = df['title'].str.extract('(^\\W)|(\\W$)')\n",
    "demo[0].dropna().unique(),demo[1].dropna().unique()"
   ]
  },
  {
   "cell_type": "markdown",
   "metadata": {},
   "source": [
    "<div class=\"alert alert-success\"; style=\"border-left: 7px solid green\">\n",
    "<h3>✔ Комментарий ревьюера</h3>\n",
    "    \n",
    "А зачем `df_edit = df`?\n",
    "\n",
    "Ты так просто ещё одну ссылку создаешь на датафрейм. Если хотелось сделать копию, то надо `df_edit = df.copy()`, иначе, меняя `df_edit`, ты меняешь и `df`\n",
    "</div>    "
   ]
  },
  {
   "cell_type": "code",
   "execution_count": 17,
   "metadata": {},
   "outputs": [],
   "source": [
    "df_edit = df\n",
    "df_edit['title'] = df_edit['title'].replace(to_replace=r'^[\\._\\s]+|[\\._\\s]$', value=\"\", regex=True) # Убираем в начале и в конце мусор\n",
    "df_edit['title'] = df_edit['title'].str.lower().replace(to_replace=r'ё', value=\"е\") # Переводим в нижний регистр и заменяем \"ё\" на \"е\""
   ]
  },
  {
   "cell_type": "code",
   "execution_count": 18,
   "metadata": {},
   "outputs": [
    {
     "data": {
      "text/html": [
       "<div>\n",
       "<style scoped>\n",
       "    .dataframe tbody tr th:only-of-type {\n",
       "        vertical-align: middle;\n",
       "    }\n",
       "\n",
       "    .dataframe tbody tr th {\n",
       "        vertical-align: top;\n",
       "    }\n",
       "\n",
       "    .dataframe thead th {\n",
       "        text-align: right;\n",
       "    }\n",
       "</style>\n",
       "<table border=\"1\" class=\"dataframe\">\n",
       "  <thead>\n",
       "    <tr style=\"text-align: right;\">\n",
       "      <th></th>\n",
       "      <th>title</th>\n",
       "      <th>pu_number</th>\n",
       "      <th>show_start_date</th>\n",
       "      <th>type</th>\n",
       "      <th>film_studio</th>\n",
       "      <th>production_country</th>\n",
       "      <th>director</th>\n",
       "      <th>producer</th>\n",
       "      <th>age_restriction</th>\n",
       "      <th>refundable_support</th>\n",
       "      <th>non_refundable_support</th>\n",
       "      <th>budget</th>\n",
       "      <th>financing_source</th>\n",
       "      <th>ratings</th>\n",
       "      <th>genres</th>\n",
       "      <th>box_office</th>\n",
       "    </tr>\n",
       "  </thead>\n",
       "  <tbody>\n",
       "    <tr>\n",
       "      <th>4638</th>\n",
       "      <td>как жениться и остаться холостым</td>\n",
       "      <td>221154310</td>\n",
       "      <td>2010-12-17T12:00:00.000Z</td>\n",
       "      <td>Художественный</td>\n",
       "      <td>Ше Вам, Скрипт Ассосье, Тэ Фэ 1 Фильм Продюксь...</td>\n",
       "      <td>Франция</td>\n",
       "      <td>Эрик Лартиго</td>\n",
       "      <td>Амандин Било, Алан Шаба</td>\n",
       "      <td>«16+» - для детей старше 16 лет</td>\n",
       "      <td>NaN</td>\n",
       "      <td>NaN</td>\n",
       "      <td>NaN</td>\n",
       "      <td>NaN</td>\n",
       "      <td>7.0</td>\n",
       "      <td>мелодрама,комедия</td>\n",
       "      <td>NaN</td>\n",
       "    </tr>\n",
       "    <tr>\n",
       "      <th>4639</th>\n",
       "      <td>иоанна - женщина на папском престоле /по роман...</td>\n",
       "      <td>221154310</td>\n",
       "      <td>2010-12-17T12:00:00.000Z</td>\n",
       "      <td>Художественный</td>\n",
       "      <td>Константин Фильм, А Эр Ди Дегето Фильм, Дюне ...</td>\n",
       "      <td>Германия - Великобритания - Италия - Испания</td>\n",
       "      <td>Зенке Вортманн</td>\n",
       "      <td>Оливер Бербен, Дорис Д.Хайнце, Фарук Элтан</td>\n",
       "      <td>«16+» - для детей старше 16 лет</td>\n",
       "      <td>NaN</td>\n",
       "      <td>NaN</td>\n",
       "      <td>NaN</td>\n",
       "      <td>NaN</td>\n",
       "      <td>7.6</td>\n",
       "      <td>драма,мелодрама,история</td>\n",
       "      <td>NaN</td>\n",
       "    </tr>\n",
       "    <tr>\n",
       "      <th>5067</th>\n",
       "      <td>анализируй это!</td>\n",
       "      <td>221054410</td>\n",
       "      <td>2010-05-25T12:00:00.000Z</td>\n",
       "      <td>Художественный</td>\n",
       "      <td>Уорнер Бразерс, Вилладж Роудшоу Филмз ЛТД</td>\n",
       "      <td>США-Австралия</td>\n",
       "      <td>ХЭрольд Рэмис</td>\n",
       "      <td>Джейн Розенталь, Пола Уейнстейн</td>\n",
       "      <td>«16+» - для детей старше 16 лет</td>\n",
       "      <td>NaN</td>\n",
       "      <td>NaN</td>\n",
       "      <td>NaN</td>\n",
       "      <td>NaN</td>\n",
       "      <td>7.4</td>\n",
       "      <td>комедия,криминал</td>\n",
       "      <td>NaN</td>\n",
       "    </tr>\n",
       "    <tr>\n",
       "      <th>5068</th>\n",
       "      <td>анализируй то!</td>\n",
       "      <td>221054410</td>\n",
       "      <td>2010-05-25T12:00:00.000Z</td>\n",
       "      <td>Художественный</td>\n",
       "      <td>Уорнер Бразерс, Виллидж Роадшоу Пикчерз, Эн-Пи...</td>\n",
       "      <td>США</td>\n",
       "      <td>Гарольд Реймис</td>\n",
       "      <td>Джейн Розенталь, Паул Уэйнстейн</td>\n",
       "      <td>«12+» - для детей старше 12 лет</td>\n",
       "      <td>NaN</td>\n",
       "      <td>NaN</td>\n",
       "      <td>NaN</td>\n",
       "      <td>NaN</td>\n",
       "      <td>6.8</td>\n",
       "      <td>комедия,криминал</td>\n",
       "      <td>NaN</td>\n",
       "    </tr>\n",
       "  </tbody>\n",
       "</table>\n",
       "</div>"
      ],
      "text/plain": [
       "                                                  title  pu_number  \\\n",
       "4638                   как жениться и остаться холостым  221154310   \n",
       "4639  иоанна - женщина на папском престоле /по роман...  221154310   \n",
       "5067                                    анализируй это!  221054410   \n",
       "5068                                     анализируй то!  221054410   \n",
       "\n",
       "               show_start_date            type  \\\n",
       "4638  2010-12-17T12:00:00.000Z  Художественный   \n",
       "4639  2010-12-17T12:00:00.000Z  Художественный   \n",
       "5067  2010-05-25T12:00:00.000Z  Художественный   \n",
       "5068  2010-05-25T12:00:00.000Z  Художественный   \n",
       "\n",
       "                                            film_studio  \\\n",
       "4638  Ше Вам, Скрипт Ассосье, Тэ Фэ 1 Фильм Продюксь...   \n",
       "4639   Константин Фильм, А Эр Ди Дегето Фильм, Дюне ...   \n",
       "5067          Уорнер Бразерс, Вилладж Роудшоу Филмз ЛТД   \n",
       "5068  Уорнер Бразерс, Виллидж Роадшоу Пикчерз, Эн-Пи...   \n",
       "\n",
       "                                production_country        director  \\\n",
       "4638                                       Франция    Эрик Лартиго   \n",
       "4639  Германия - Великобритания - Италия - Испания  Зенке Вортманн   \n",
       "5067                                 США-Австралия   ХЭрольд Рэмис   \n",
       "5068                                           США  Гарольд Реймис   \n",
       "\n",
       "                                        producer  \\\n",
       "4638                     Амандин Било, Алан Шаба   \n",
       "4639  Оливер Бербен, Дорис Д.Хайнце, Фарук Элтан   \n",
       "5067             Джейн Розенталь, Пола Уейнстейн   \n",
       "5068             Джейн Розенталь, Паул Уэйнстейн   \n",
       "\n",
       "                      age_restriction  refundable_support  \\\n",
       "4638  «16+» - для детей старше 16 лет                 NaN   \n",
       "4639  «16+» - для детей старше 16 лет                 NaN   \n",
       "5067  «16+» - для детей старше 16 лет                 NaN   \n",
       "5068  «12+» - для детей старше 12 лет                 NaN   \n",
       "\n",
       "      non_refundable_support  budget financing_source ratings  \\\n",
       "4638                     NaN     NaN              NaN     7.0   \n",
       "4639                     NaN     NaN              NaN     7.6   \n",
       "5067                     NaN     NaN              NaN     7.4   \n",
       "5068                     NaN     NaN              NaN     6.8   \n",
       "\n",
       "                       genres  box_office  \n",
       "4638        мелодрама,комедия         NaN  \n",
       "4639  драма,мелодрама,история         NaN  \n",
       "5067         комедия,криминал         NaN  \n",
       "5068         комедия,криминал         NaN  "
      ]
     },
     "execution_count": 18,
     "metadata": {},
     "output_type": "execute_result"
    }
   ],
   "source": [
    "df_edit.loc[df_edit['pu_number'].duplicated(keep=False)]"
   ]
  },
  {
   "cell_type": "markdown",
   "metadata": {},
   "source": [
    "Нашлось 2 пары дубликаты, одна из которых только кажется дупликатом. Чтобы не искажать данные, дадим строке с индексом 4 638 минус в строке удостоверение. Другой дубликат удалим."
   ]
  },
  {
   "cell_type": "markdown",
   "metadata": {},
   "source": [
    "<div class=\"alert alert-success\"; style=\"border-left: 7px solid green\">\n",
    "<h3>✔ Комментарий ревьюера</h3>\n",
    "    \n",
    "На самом деле выше везде фильммы разные</div>    "
   ]
  },
  {
   "cell_type": "code",
   "execution_count": 19,
   "metadata": {},
   "outputs": [],
   "source": [
    "df_edit.loc[4638, 'pu_number'] *= -1"
   ]
  },
  {
   "cell_type": "code",
   "execution_count": 20,
   "metadata": {},
   "outputs": [
    {
     "data": {
      "text/plain": [
       "7485"
      ]
     },
     "execution_count": 20,
     "metadata": {},
     "output_type": "execute_result"
    }
   ],
   "source": [
    "df_edit = df_edit.drop_duplicates(subset=['pu_number']).reset_index(drop=True)\n",
    "len(df_edit)"
   ]
  },
  {
   "cell_type": "markdown",
   "metadata": {},
   "source": [
    "С этим разобрались, но надо еще проверить столбик с рейтингом. Переведем его в числа и посмотрим на выбросы.\n",
    "\n",
    "В процессе были замечены проценты, которые убираются в самом начале. Проценты слишком высокие и не похожи на оценки с кинопоиска."
   ]
  },
  {
   "cell_type": "markdown",
   "metadata": {},
   "source": [
    "<div class=\"alert alert-success\"; style=\"border-left: 7px solid green\">\n",
    "<h3>✔ Комментарий ревьюера</h3>\n",
    "    \n",
    "Рейтинг в процентах это рейтинг ожидания. Ниже такую страшную лямбду можно не делать, это то же самое, что и `.astype('str').str.strip('%')`</div>    "
   ]
  },
  {
   "cell_type": "code",
   "execution_count": 21,
   "metadata": {},
   "outputs": [],
   "source": [
    "df_edit['ratings'] =  df_edit['ratings'].apply(lambda r: int(r[:-1]) if isinstance(r, str) and r[-1]==\"%\" else r)"
   ]
  },
  {
   "cell_type": "code",
   "execution_count": 22,
   "metadata": {},
   "outputs": [],
   "source": [
    "df_edit['ratings'] = df_edit['ratings'].astype(float)"
   ]
  },
  {
   "cell_type": "code",
   "execution_count": 23,
   "metadata": {},
   "outputs": [
    {
     "data": {
      "text/plain": [
       "count               6,518.00\n",
       "mean                    6.83\n",
       "std                     5.48\n",
       "min                     1.00\n",
       "25%                     5.90\n",
       "50%                     6.60\n",
       "75%                     7.20\n",
       "max                    99.00\n",
       "Name: ratings, dtype: float64"
      ]
     },
     "metadata": {},
     "output_type": "display_data"
    },
    {
     "data": {
      "text/plain": [
       "<AxesSubplot:>"
      ]
     },
     "execution_count": 23,
     "metadata": {},
     "output_type": "execute_result"
    },
    {
     "data": {
      "image/png": "[encoded data removed]",
      "text/plain": [
       "<Figure size 432x288 with 1 Axes>"
      ]
     },
     "metadata": {
      "needs_background": "light"
     },
     "output_type": "display_data"
    }
   ],
   "source": [
    "display(df_edit['ratings'].describe())\n",
    "df_edit.boxplot(column = 'ratings')"
   ]
  },
  {
   "cell_type": "code",
   "execution_count": 24,
   "metadata": {},
   "outputs": [
    {
     "data": {
      "text/plain": [
       "7485"
      ]
     },
     "execution_count": 24,
     "metadata": {},
     "output_type": "execute_result"
    }
   ],
   "source": [
    "len(df_edit)"
   ]
  },
  {
   "cell_type": "code",
   "execution_count": 25,
   "metadata": {},
   "outputs": [
    {
     "data": {
      "text/plain": [
       "29"
      ]
     },
     "execution_count": 25,
     "metadata": {},
     "output_type": "execute_result"
    }
   ],
   "source": [
    "len(df_edit.loc[df_edit['ratings']>10])"
   ]
  },
  {
   "cell_type": "markdown",
   "metadata": {},
   "source": [
    "Рейтинг не может быть больше 10. Там засели подозрительные проценты, не похожие на общепринятые рейтинги. Не очень полезная информация и таких столбцов крайне мало, так что можно позволить себе обойтись без них."
   ]
  },
  {
   "cell_type": "markdown",
   "metadata": {},
   "source": [
    "<div class=\"alert alert-success\"; style=\"border-left: 7px solid green\">\n",
    "<h3>✔ Комментарий ревьюера</h3>\n",
    "    \n",
    "Чтобы не удалять сами фильмы, можно заменить рейтинги в провентах на пропуски. Например, с помощью того же `pd.to_numeric(errors='coerce')`\n",
    "</div>    "
   ]
  },
  {
   "cell_type": "code",
   "execution_count": 26,
   "metadata": {},
   "outputs": [],
   "source": [
    "df_edit = df_edit.loc[(df_edit['ratings']<=10)|(df_edit['ratings'].isna())]"
   ]
  },
  {
   "cell_type": "markdown",
   "metadata": {},
   "source": [
    "Посмотрим на бюджет фильмов."
   ]
  },
  {
   "cell_type": "code",
   "execution_count": 27,
   "metadata": {},
   "outputs": [
    {
     "data": {
      "text/plain": [
       "count                 330.00\n",
       "mean          127,835,768.11\n",
       "std           188,996,337.04\n",
       "min                     0.00\n",
       "25%            42,404,381.75\n",
       "50%            69,118,977.00\n",
       "75%           145,905,958.50\n",
       "max         2,305,074,303.00\n",
       "Name: budget, dtype: float64"
      ]
     },
     "execution_count": 27,
     "metadata": {},
     "output_type": "execute_result"
    }
   ],
   "source": [
    "df_edit['budget'].describe()"
   ]
  },
  {
   "cell_type": "code",
   "execution_count": 28,
   "metadata": {},
   "outputs": [
    {
     "data": {
      "text/plain": [
       "17"
      ]
     },
     "execution_count": 28,
     "metadata": {},
     "output_type": "execute_result"
    }
   ],
   "source": [
    "len(df_edit.loc[df_edit['budget'] == 0])"
   ]
  },
  {
   "cell_type": "code",
   "execution_count": 29,
   "metadata": {},
   "outputs": [
    {
     "data": {
      "text/html": [
       "<div>\n",
       "<style scoped>\n",
       "    .dataframe tbody tr th:only-of-type {\n",
       "        vertical-align: middle;\n",
       "    }\n",
       "\n",
       "    .dataframe tbody tr th {\n",
       "        vertical-align: top;\n",
       "    }\n",
       "\n",
       "    .dataframe thead th {\n",
       "        text-align: right;\n",
       "    }\n",
       "</style>\n",
       "<table border=\"1\" class=\"dataframe\">\n",
       "  <thead>\n",
       "    <tr style=\"text-align: right;\">\n",
       "      <th></th>\n",
       "      <th>budget</th>\n",
       "      <th>refundable_support</th>\n",
       "      <th>non_refundable_support</th>\n",
       "    </tr>\n",
       "  </thead>\n",
       "  <tbody>\n",
       "    <tr>\n",
       "      <th>2053</th>\n",
       "      <td>0.00</td>\n",
       "      <td>0.00</td>\n",
       "      <td>23,000,000.00</td>\n",
       "    </tr>\n",
       "    <tr>\n",
       "      <th>2058</th>\n",
       "      <td>0.00</td>\n",
       "      <td>0.00</td>\n",
       "      <td>75,000,000.00</td>\n",
       "    </tr>\n",
       "    <tr>\n",
       "      <th>2472</th>\n",
       "      <td>0.00</td>\n",
       "      <td>10,000,000.00</td>\n",
       "      <td>70,000,000.00</td>\n",
       "    </tr>\n",
       "    <tr>\n",
       "      <th>2532</th>\n",
       "      <td>0.00</td>\n",
       "      <td>20,000,000.00</td>\n",
       "      <td>0.00</td>\n",
       "    </tr>\n",
       "    <tr>\n",
       "      <th>2615</th>\n",
       "      <td>0.00</td>\n",
       "      <td>60,000,000.00</td>\n",
       "      <td>100,000,000.00</td>\n",
       "    </tr>\n",
       "    <tr>\n",
       "      <th>2684</th>\n",
       "      <td>0.00</td>\n",
       "      <td>0.00</td>\n",
       "      <td>59,000,000.00</td>\n",
       "    </tr>\n",
       "    <tr>\n",
       "      <th>2788</th>\n",
       "      <td>0.00</td>\n",
       "      <td>0.00</td>\n",
       "      <td>35,000,000.00</td>\n",
       "    </tr>\n",
       "    <tr>\n",
       "      <th>2874</th>\n",
       "      <td>0.00</td>\n",
       "      <td>0.00</td>\n",
       "      <td>6,000,000.00</td>\n",
       "    </tr>\n",
       "    <tr>\n",
       "      <th>3047</th>\n",
       "      <td>0.00</td>\n",
       "      <td>19,000,000.00</td>\n",
       "      <td>51,000,000.00</td>\n",
       "    </tr>\n",
       "    <tr>\n",
       "      <th>3565</th>\n",
       "      <td>0.00</td>\n",
       "      <td>0.00</td>\n",
       "      <td>250,000,000.00</td>\n",
       "    </tr>\n",
       "    <tr>\n",
       "      <th>3675</th>\n",
       "      <td>0.00</td>\n",
       "      <td>20,000,000.00</td>\n",
       "      <td>20,000,000.00</td>\n",
       "    </tr>\n",
       "    <tr>\n",
       "      <th>3739</th>\n",
       "      <td>0.00</td>\n",
       "      <td>25,000,000.00</td>\n",
       "      <td>20,000,000.00</td>\n",
       "    </tr>\n",
       "    <tr>\n",
       "      <th>5672</th>\n",
       "      <td>0.00</td>\n",
       "      <td>20,000,000.00</td>\n",
       "      <td>40,000,000.00</td>\n",
       "    </tr>\n",
       "    <tr>\n",
       "      <th>5805</th>\n",
       "      <td>0.00</td>\n",
       "      <td>10,000,000.00</td>\n",
       "      <td>60,000,000.00</td>\n",
       "    </tr>\n",
       "    <tr>\n",
       "      <th>6007</th>\n",
       "      <td>0.00</td>\n",
       "      <td>40,000,000.00</td>\n",
       "      <td>40,000,000.00</td>\n",
       "    </tr>\n",
       "    <tr>\n",
       "      <th>6322</th>\n",
       "      <td>0.00</td>\n",
       "      <td>0.00</td>\n",
       "      <td>138,969,465.00</td>\n",
       "    </tr>\n",
       "    <tr>\n",
       "      <th>6822</th>\n",
       "      <td>0.00</td>\n",
       "      <td>60,000,000.00</td>\n",
       "      <td>120,000,000.00</td>\n",
       "    </tr>\n",
       "  </tbody>\n",
       "</table>\n",
       "</div>"
      ],
      "text/plain": [
       "                   budget   refundable_support  non_refundable_support\n",
       "2053                 0.00                 0.00           23,000,000.00\n",
       "2058                 0.00                 0.00           75,000,000.00\n",
       "2472                 0.00        10,000,000.00           70,000,000.00\n",
       "2532                 0.00        20,000,000.00                    0.00\n",
       "2615                 0.00        60,000,000.00          100,000,000.00\n",
       "2684                 0.00                 0.00           59,000,000.00\n",
       "2788                 0.00                 0.00           35,000,000.00\n",
       "2874                 0.00                 0.00            6,000,000.00\n",
       "3047                 0.00        19,000,000.00           51,000,000.00\n",
       "3565                 0.00                 0.00          250,000,000.00\n",
       "3675                 0.00        20,000,000.00           20,000,000.00\n",
       "3739                 0.00        25,000,000.00           20,000,000.00\n",
       "5672                 0.00        20,000,000.00           40,000,000.00\n",
       "5805                 0.00        10,000,000.00           60,000,000.00\n",
       "6007                 0.00        40,000,000.00           40,000,000.00\n",
       "6322                 0.00                 0.00          138,969,465.00\n",
       "6822                 0.00        60,000,000.00          120,000,000.00"
      ]
     },
     "execution_count": 29,
     "metadata": {},
     "output_type": "execute_result"
    }
   ],
   "source": [
    "df_edit[['budget', 'refundable_support', 'non_refundable_support']].loc[df_edit['budget'] == 0]"
   ]
  },
  {
   "cell_type": "markdown",
   "metadata": {},
   "source": [
    "В этом столбце итак крайне мало показателей, поэтому потерять и эти совсем не хочется. Бюджет фильма никак не может быть нулевым. Заполним его, посчитав как сумму гос поддержек, умноженную на медианное количество раз, в которое бюджет обычно больше суммы поддержек."
   ]
  },
  {
   "cell_type": "markdown",
   "metadata": {},
   "source": [
    "<div class=\"alert alert-success\"; style=\"border-left: 7px solid green\">\n",
    "<h3>✔ Комментарий ревьюера</h3>\n",
    "    \n",
    "Да, неплохая замена</div>    "
   ]
  },
  {
   "cell_type": "code",
   "execution_count": 30,
   "metadata": {},
   "outputs": [
    {
     "data": {
      "text/plain": [
       "1.6245159999999998"
      ]
     },
     "execution_count": 30,
     "metadata": {},
     "output_type": "execute_result"
    }
   ],
   "source": [
    "df_sum = df_edit\n",
    "df_sum ['sum'] = df_sum['refundable_support']+df_sum['non_refundable_support']\n",
    "kf_bud = (df_sum['budget']/df_sum['sum']).median()\n",
    "kf_bud"
   ]
  },
  {
   "cell_type": "code",
   "execution_count": 31,
   "metadata": {},
   "outputs": [],
   "source": [
    "df_edit.loc[df_edit['budget'] == 0, 'budget'] = df_sum['sum']*kf_bud"
   ]
  },
  {
   "cell_type": "code",
   "execution_count": 32,
   "metadata": {},
   "outputs": [
    {
     "data": {
      "text/plain": [
       "0"
      ]
     },
     "execution_count": 32,
     "metadata": {},
     "output_type": "execute_result"
    }
   ],
   "source": [
    "len(df_edit.loc[df_edit['budget'] == 0])"
   ]
  },
  {
   "cell_type": "code",
   "execution_count": 33,
   "metadata": {},
   "outputs": [
    {
     "data": {
      "text/plain": [
       "count                 330.00\n",
       "mean          134,688,121.64\n",
       "std           188,060,063.77\n",
       "min             9,747,096.00\n",
       "25%            46,168,856.75\n",
       "50%            74,955,000.00\n",
       "75%           150,006,429.75\n",
       "max         2,305,074,303.00\n",
       "Name: budget, dtype: float64"
      ]
     },
     "execution_count": 33,
     "metadata": {},
     "output_type": "execute_result"
    }
   ],
   "source": [
    "df_edit['budget'].describe()"
   ]
  },
  {
   "cell_type": "code",
   "execution_count": 34,
   "metadata": {},
   "outputs": [
    {
     "data": {
      "text/plain": [
       "7456"
      ]
     },
     "execution_count": 34,
     "metadata": {},
     "output_type": "execute_result"
    }
   ],
   "source": [
    "len(df_edit)"
   ]
  },
  {
   "cell_type": "markdown",
   "metadata": {},
   "source": [
    "В итоге мы удалили 30 подозрительные строчек, а это не дотягивает даже до 1% изначальных данных. Сохранили их большую часть, неплохо."
   ]
  },
  {
   "cell_type": "markdown",
   "metadata": {},
   "source": [
    "Остались строки show_start_date, type, financing_source. financing_source описывает, кто именно финансирует фильм, если он снимался с гос поддержкой, поэтому дозаполнять здесь точно ничего не надо. \n",
    "\n",
    "Время же переведем во время, а строчку с типом проверим на неочевидные дубликаты. Устраним, если найдем."
   ]
  },
  {
   "cell_type": "code",
   "execution_count": 35,
   "metadata": {},
   "outputs": [],
   "source": [
    "df_edit['show_start_date'] = pd.to_datetime(df_edit['show_start_date'], format='%Y-%m-%dT%H:%M:%S.%fZ')"
   ]
  },
  {
   "cell_type": "code",
   "execution_count": 36,
   "metadata": {},
   "outputs": [
    {
     "data": {
      "text/plain": [
       "array(['Художественный', 'Анимационный', 'Прочие', 'Документальный',\n",
       "       'Научно-популярный', 'Музыкально-развлекательный'], dtype=object)"
      ]
     },
     "execution_count": 36,
     "metadata": {},
     "output_type": "execute_result"
    }
   ],
   "source": [
    "df_edit['type'].unique() # проблема только в пробелах, уберем их\n",
    "df_edit['type'] = df_edit['type'].str.strip()\n",
    "df_edit['type'].unique() # проверка\n"
   ]
  },
  {
   "cell_type": "markdown",
   "metadata": {},
   "source": [
    "<div class=\"alert alert-success\"; style=\"border-left: 7px solid green\">\n",
    "<h3>✔ Комментарий ревьюера</h3>\n",
    "    \n",
    "👍</div>    "
   ]
  },
  {
   "cell_type": "markdown",
   "metadata": {
    "id": "i0MOLbF-gFyP"
   },
   "source": [
    "#### Шаг 2.2. Изучите пропуски в датафрейме\n",
    "\n",
    "- Объясните, почему заполнили пропуски определённым образом или почему не стали этого делать."
   ]
  },
  {
   "cell_type": "markdown",
   "metadata": {
    "id": "8MJD_lkngFyP"
   },
   "source": [
    "Было сделано в ходе выполнения шага 2.1. Показалось, что \"проверьте типы данных в датафрейме и преобразуйте их там, где это необходимо\" уже включают и это.\n",
    "\n",
    "Дозаполнили столбец с бюджетом. Таких данных итак мало, а мы могли полагаясь на коэффициент соотношения бюджета к гос поддержке рассчитать примерный бюджет, это и сделали.\n",
    "\n",
    "Попытались заполнить недостающие данные по странам, продюссерам, жанрам и другим параметрам исходя из названий фильмов, но оказалось, что у отсутствующих данных нет парных фильмов с заполненными строками. Заполнять вручную через поиск в интернете каждого отдельного фильма было бы небыстро, так что оставили как есть. Пропущенных данных не так много и они вряд ли пригодятся для анализа.\n",
    "\n",
    "В других столбиках дозаполнять значения было бы неразумно. Например, если бы мы дозаполнили столбец \"бюджет\", то получили бы либо крайне искаженную статистику (непустых строк у нас было примерно 40% и часть из них была нулевая, а это значит, что 60 процентов мы бы заполнили своими цифрами, это глупо), либо, если бы заполнили нулями, в будущем получили бы расчет графиков и других значений из расчета с нулями. Это очень сильно сместило бы медиану, среднее, да и получилось бы еще хуже, чем если бы заполнили медианой. Столбик источника гос поддержки дозаполнять также незачем. Нет гос поддержки-нет источника. Это очевидный нан. Зачем выдумывать и усложнять себе задачу в будущем."
   ]
  },
  {
   "cell_type": "markdown",
   "metadata": {
    "id": "4c6k1t9ygFyQ"
   },
   "source": [
    "#### Шаг 2.3. Изучите дубликаты в датафрейме\n",
    "- Проверьте, есть ли в данных дубликаты. Опишите причины, которые могли повлиять на появление дублей."
   ]
  },
  {
   "cell_type": "markdown",
   "metadata": {
    "id": "aKck8RIdgFyQ"
   },
   "source": [
    "Дубли могли появится либо потому что кто-то неверно указал номер удостоверения, или потому что данные в каком-то месте выгрузились немного неверно. Одно удостоверение просто учли дважды. Возможно, проверяли по режиссеру, чье имя в разных случаях написали чуть по-разному (Герисон и Хэрисон). Повторений было всего 2 пары, так что критичным это не оказалось. Повторения названий фильмов вообще нельзя считать проблемой: у одного фильма может быть несколько строк с разными удостоверениями, а какие-то фильмы просто тезки.\n",
    "\n",
    "Остальное было сделано в ходе выполнения шага 2.1."
   ]
  },
  {
   "cell_type": "markdown",
   "metadata": {
    "id": "52fOPrEBgFyQ"
   },
   "source": [
    "#### Шаг 2.4. Изучите категориальные значения\n",
    "\n",
    "- Посмотрите, какая общая проблема встречается почти во всех категориальных столбцах;\n",
    "- Исправьте проблемные значения в поле `type`.\n",
    "\n",
    "<div id=\"accordion\">\n",
    "    <div class=\"card\">\n",
    "        <div class=\"card-header\" id=\"headingThree\">\n",
    "            <button class=\"btn btn-link collapsed\" data-toggle=\"collapse\" data-target=\"#collapseHint_1\" aria-expanded=\"false\" aria-controls=\"collapseHint_1\">Подсказка</button>\n",
    "        </div>\n",
    "        <div id=\"collapseHint_1\" class=\"collapse\" aria-labelledby=\"headingThree\" data-parent=\"#accordion\">\n",
    "            <div class=\"card-body\">\n",
    "В поле <code>type</code> есть несколько значений, у которых появился пробел в начале строки. Самый простой способ их «починить» -- использовать метод <a href=\"https://pandas.pydata.org/docs/reference/api/pandas.Series.str.strip.html#pandas.Series.str.strip\">.str.strip</a>. Этот метод удаляет все пробелы, которые встречаются в начале и в конце строки. Применяют его таким образом:<br>\n",
    "<code>df['type'].str.strip()</code>\n",
    "            </div>\n",
    "        </div>\n",
    "    </div>\n",
    "</div>"
   ]
  },
  {
   "cell_type": "markdown",
   "metadata": {
    "id": "PnXKIVdFgFyR"
   },
   "source": [
    "Также было сделано в шаге 2.1."
   ]
  },
  {
   "cell_type": "markdown",
   "metadata": {},
   "source": [
    "<div class=\"alert alert-success\"; style=\"border-left: 7px solid green\">\n",
    "<h3>✔ Комментарий ревьюера</h3>\n",
    "    \n",
    "👍</div>    "
   ]
  },
  {
   "cell_type": "markdown",
   "metadata": {
    "id": "XFSN5lrEgFyR"
   },
   "source": [
    "#### Шаг 2.5. Проверьте количественные значения\n",
    "\n",
    "- Проверьте, обнаружились ли в таких столбцах подозрительные данные. Как с такими данными лучше поступить?\n",
    "\n",
    "<div id=\"accordion\">\n",
    "    <div class=\"card\">\n",
    "        <div class=\"card-header\" id=\"headingThree\">\n",
    "            <button class=\"btn btn-link collapsed\" data-toggle=\"collapse\" data-target=\"#collapseHint_budget\" aria-expanded=\"false\" aria-controls=\"collapseHint_budget\">Подсказка</button>\n",
    "        </div>\n",
    "        <div id=\"collapseHint_budget\" class=\"collapse\" aria-labelledby=\"headingThree\" data-parent=\"#accordion\">\n",
    "            <div class=\"card-body\">\n",
    "Обратите внимание на описание столбца <code>budget</code>. Как этот столбец соотносится с двумя другими: <code>refundable_support</code> и <code>nonrefundable_support</code>?\n",
    "            </div>\n",
    "        </div>\n",
    "    </div>\n",
    "</div>"
   ]
  },
  {
   "cell_type": "markdown",
   "metadata": {},
   "source": [
    "В шаге 2.1 мы уже дополнили нулевые значения бюджета, потому что такого просто не может быть. Но можно изучить информацию более пристально и проверить, не превышают ли гос выплаты бюджет. Посмотрим это срезом. Если кто-то выйдет за рамки, думаю, их лучше не учитывать в нашем исследовании, они будут слишком подозрительны. Главное, чтобы их не оказалось много, если они будут."
   ]
  },
  {
   "cell_type": "code",
   "execution_count": 37,
   "metadata": {},
   "outputs": [
    {
     "data": {
      "text/html": [
       "<div>\n",
       "<style scoped>\n",
       "    .dataframe tbody tr th:only-of-type {\n",
       "        vertical-align: middle;\n",
       "    }\n",
       "\n",
       "    .dataframe tbody tr th {\n",
       "        vertical-align: top;\n",
       "    }\n",
       "\n",
       "    .dataframe thead th {\n",
       "        text-align: right;\n",
       "    }\n",
       "</style>\n",
       "<table border=\"1\" class=\"dataframe\">\n",
       "  <thead>\n",
       "    <tr style=\"text-align: right;\">\n",
       "      <th></th>\n",
       "      <th>budget</th>\n",
       "      <th>refundable_support</th>\n",
       "      <th>non_refundable_support</th>\n",
       "    </tr>\n",
       "  </thead>\n",
       "  <tbody>\n",
       "    <tr>\n",
       "      <th>1281</th>\n",
       "      <td>79,411,900.00</td>\n",
       "      <td>0.00</td>\n",
       "      <td>26,500,000.00</td>\n",
       "    </tr>\n",
       "    <tr>\n",
       "      <th>1448</th>\n",
       "      <td>37,142,857.00</td>\n",
       "      <td>0.00</td>\n",
       "      <td>26,000,000.00</td>\n",
       "    </tr>\n",
       "    <tr>\n",
       "      <th>1498</th>\n",
       "      <td>176,023,490.00</td>\n",
       "      <td>0.00</td>\n",
       "      <td>107,847,945.00</td>\n",
       "    </tr>\n",
       "    <tr>\n",
       "      <th>1524</th>\n",
       "      <td>40,574,140.00</td>\n",
       "      <td>0.00</td>\n",
       "      <td>28,000,000.00</td>\n",
       "    </tr>\n",
       "    <tr>\n",
       "      <th>1792</th>\n",
       "      <td>40,015,122.00</td>\n",
       "      <td>0.00</td>\n",
       "      <td>25,000,000.00</td>\n",
       "    </tr>\n",
       "    <tr>\n",
       "      <th>...</th>\n",
       "      <td>...</td>\n",
       "      <td>...</td>\n",
       "      <td>...</td>\n",
       "    </tr>\n",
       "    <tr>\n",
       "      <th>7463</th>\n",
       "      <td>980,000,000.00</td>\n",
       "      <td>100,000,000.00</td>\n",
       "      <td>400,000,000.00</td>\n",
       "    </tr>\n",
       "    <tr>\n",
       "      <th>7465</th>\n",
       "      <td>190,000,000.00</td>\n",
       "      <td>100,000,000.00</td>\n",
       "      <td>0.00</td>\n",
       "    </tr>\n",
       "    <tr>\n",
       "      <th>7473</th>\n",
       "      <td>944,000,000.00</td>\n",
       "      <td>100,000,000.00</td>\n",
       "      <td>400,000,000.00</td>\n",
       "    </tr>\n",
       "    <tr>\n",
       "      <th>7475</th>\n",
       "      <td>46,154,000.00</td>\n",
       "      <td>0.00</td>\n",
       "      <td>30,000,000.00</td>\n",
       "    </tr>\n",
       "    <tr>\n",
       "      <th>7477</th>\n",
       "      <td>150,147,502.00</td>\n",
       "      <td>40,000,000.00</td>\n",
       "      <td>60,000,000.00</td>\n",
       "    </tr>\n",
       "  </tbody>\n",
       "</table>\n",
       "<p>330 rows × 3 columns</p>\n",
       "</div>"
      ],
      "text/plain": [
       "                   budget   refundable_support  non_refundable_support\n",
       "1281        79,411,900.00                 0.00           26,500,000.00\n",
       "1448        37,142,857.00                 0.00           26,000,000.00\n",
       "1498       176,023,490.00                 0.00          107,847,945.00\n",
       "1524        40,574,140.00                 0.00           28,000,000.00\n",
       "1792        40,015,122.00                 0.00           25,000,000.00\n",
       "...                   ...                  ...                     ...\n",
       "7463       980,000,000.00       100,000,000.00          400,000,000.00\n",
       "7465       190,000,000.00       100,000,000.00                    0.00\n",
       "7473       944,000,000.00       100,000,000.00          400,000,000.00\n",
       "7475        46,154,000.00                 0.00           30,000,000.00\n",
       "7477       150,147,502.00        40,000,000.00           60,000,000.00\n",
       "\n",
       "[330 rows x 3 columns]"
      ]
     },
     "execution_count": 37,
     "metadata": {},
     "output_type": "execute_result"
    }
   ],
   "source": [
    "df_edit.loc[~df_edit['budget'].isna(), ['budget', 'refundable_support', 'non_refundable_support']]"
   ]
  },
  {
   "cell_type": "code",
   "execution_count": 38,
   "metadata": {},
   "outputs": [
    {
     "data": {
      "text/plain": [
       "0"
      ]
     },
     "execution_count": 38,
     "metadata": {},
     "output_type": "execute_result"
    }
   ],
   "source": [
    "len(df_edit.loc[((df_edit['refundable_support']+df_edit['non_refundable_support']) >= df_edit['budget']), ['budget', 'refundable_support', 'non_refundable_support']])"
   ]
  },
  {
   "cell_type": "markdown",
   "metadata": {
    "id": "YbzClBxagFyS"
   },
   "source": [
    "Бюджет в каждом случае оказывается больше государственной поддержки в целом. Это хорошо. Значит, в нашей подчищенной выборке остались только порядочные творческие личности, не рассчитывающие поживиться в гос казне."
   ]
  },
  {
   "cell_type": "markdown",
   "metadata": {},
   "source": [
    "\n",
    "<div class=\"alert alert-warning\"; style=\"border-left: 7px solid yellow\" >\n",
    "<h3>!! Комментарий ревьюера</h3>\n",
    "    \n",
    "Стоило на `describe` для числовых столбцов посмотерть. Можно было бы заметить нулевые сборы, что кажется довольно странным. Можно также совсем небольшие сборы заметить, можно подумать, как они появились или выборочно их проверить\n",
    "</div>   "
   ]
  },
  {
   "cell_type": "markdown",
   "metadata": {
    "id": "Eu6oWp2CgFyS"
   },
   "source": [
    "#### Шаг 2.6. Добавьте новые столбцы\n",
    "\n",
    "\n",
    "\n"
   ]
  },
  {
   "cell_type": "markdown",
   "metadata": {
    "id": "7GgW-UpAgFyS"
   },
   "source": [
    "- Создайте столбец с информацией о годе проката. Выделите год из даты премьеры фильма."
   ]
  },
  {
   "cell_type": "code",
   "execution_count": 39,
   "metadata": {
    "id": "I-yd1DkWgFyT"
   },
   "outputs": [],
   "source": [
    "df_edit['year'] = df_edit['show_start_date'].dt.year\n",
    "#df_edit.head()"
   ]
  },
  {
   "cell_type": "markdown",
   "metadata": {
    "id": "nFTDLDYOgFyT"
   },
   "source": [
    "- Создайте два столбца: с именем и фамилией главного режиссёра и основным жанром фильма. В столбцы войдут первые значения из списка режиссёров и жанров соответственно.\n",
    "\n",
    "<div id=\"accordion\">\n",
    "    <div class=\"card\">\n",
    "        <div class=\"card-header\" id=\"headingThree\">\n",
    "            <button class=\"btn btn-link collapsed\" data-toggle=\"collapse\" data-target=\"#collapseHint_2\" aria-expanded=\"false\" aria-controls=\"collapseHint_2\">Подсказка</button>\n",
    "        </div>\n",
    "        <div id=\"collapseHint_2\" class=\"collapse\" aria-labelledby=\"headingThree\" data-parent=\"#accordion\">\n",
    "            <div class=\"card-body\">\n",
    "Чтобы создать такие столбцы, лучше всего использовать собственную функцию. Эту функцию можно применить к двум столбцам сразу. \n",
    "            </div>\n",
    "        </div>\n",
    "    </div>\n",
    "</div>"
   ]
  },
  {
   "cell_type": "code",
   "execution_count": 40,
   "metadata": {
    "id": "LSbRZKbMgFyU"
   },
   "outputs": [],
   "source": [
    "def get_name(num):\n",
    "    '''\n",
    "    num = 0: firstname\n",
    "    num =-1: lastname\n",
    "    '''\n",
    "    def wrapper(res):\n",
    "        res = res.split()\n",
    "        if num == 0 and len(res) < 2:  # Если нет имени, то имя np.nan\n",
    "            return np.nan\n",
    "        else:  # Первый элемент - имя, последний - фамилия\n",
    "            return res[num]\n",
    "    return wrapper\n",
    "\n",
    "main_director_condition = ~df_edit['director'].isna()  # мы будем часто обращаться к этому условию,\n",
    "                                                  # так что выведем в отдельную переменную\n",
    "\n",
    "# Обработаем столбик, чтобы его можно было использовать более эффективно\n",
    "# Следующим кодом мы заменяем в 2х частных случаях запятую на точку\n",
    "condition = main_director_condition & df_edit['director'].isin(['М,Найт Шьямалан', 'Ю,Гапон'])  # Временная переменная для условия\n",
    "df_edit.loc[condition, 'director'] =\\\n",
    "    df_edit.loc[condition,\n",
    "                'director'\n",
    "                ].str.replace(',', '.')"
   ]
  },
  {
   "cell_type": "markdown",
   "metadata": {},
   "source": [
    "Немного паттернов для удаления лишнего"
   ]
  },
  {
   "cell_type": "code",
   "execution_count": 41,
   "metadata": {},
   "outputs": [],
   "source": [
    "patterns_for_delete = [\n",
    "    r'\\s*\\(.*\\)\\s*$',  # Удаление скобочек и их содержимого\n",
    "    r'\\s*$|^\\s*',  # Удаление лишних пробелов в начале и в конце\n",
    "    r'.*(хореограф|постановка)',  # Удаление \"хореографии\" и то, что было до неё\n",
    "    r'\\s(?:по|при|в|и)\\s.*'  # Удаление частиц и то, что будет после\n",
    "]"
   ]
  },
  {
   "cell_type": "markdown",
   "metadata": {},
   "source": [
    "Обрабатываем 'director' и заносим в переменную 'main_director'"
   ]
  },
  {
   "cell_type": "code",
   "execution_count": 42,
   "metadata": {},
   "outputs": [],
   "source": [
    "main_director = (df_edit.loc[main_director_condition, 'director']\n",
    "                 .str.lower()  # Приводим всё к нижнему регистру\n",
    "                 .replace(';', ',', regex=True)  # Меняем ';' на ',', чтобы разделители были одинаковые\n",
    "                 .apply(lambda names: names.split(',')[0])  # Берём первого человека из списка\n",
    "                 .replace(r'\\.\\b', '. ', regex=True)  # Ставим после каждой точки пробел\n",
    "                 .replace(r'|'.join(patterns_for_delete), '', regex=True)  # Применяем паттерны для удаления значений\n",
    "                 .str.title()  # Возвращаем заглавные буквы\n",
    "                 )"
   ]
  },
  {
   "cell_type": "markdown",
   "metadata": {},
   "source": [
    "<div class=\"alert alert-success\"; style=\"border-left: 7px solid green\">\n",
    "<h3>✔ Комментарий ревьюера</h3>\n",
    "    \n",
    "Лайк за регекспы 👍 Можно чуть сэкономить, не писать `apply`, а сделать `.str.split(',').str[0]`\n",
    "</div>    \n",
    "\n"
   ]
  },
  {
   "cell_type": "code",
   "execution_count": 43,
   "metadata": {},
   "outputs": [],
   "source": [
    "# Обрабатываем частный случай\n",
    "main_director[main_director == 'Ия Василия Вайнонена. Андреас Морелл'] = 'Ия Василия Вайнонена'"
   ]
  },
  {
   "cell_type": "markdown",
   "metadata": {},
   "source": [
    "Проверим, что же мы тут намудрили."
   ]
  },
  {
   "cell_type": "code",
   "execution_count": 44,
   "metadata": {},
   "outputs": [
    {
     "name": "stdout",
     "output_type": "stream",
     "text": [
      "Онир\n",
      "И Гэ\n",
      "Майкл\n",
      "Питоф\n",
      "Ян Гэ\n",
      "Энг Ли\n",
      "Макджи\n",
      "Том Лу\n",
      "М. Рык\n",
      "Э. Шуб\n",
      "Б. Гуц\n",
      "П. Бар\n",
      "У. Бош\n",
      "Ф. Ало\n",
      "В. Бек\n",
      "Са Ниа\n",
      "Бэнкси\n",
      "Шон Ку\n",
      "Ю. Ауг\n",
      "Б. Бум\n",
      "А. Ким\n",
      "Е. Шин\n",
      "Дин Ши\n",
      "Си Чао\n",
      "Цзоу И\n",
      "М. Ромм\n",
      "К. Юдин\n",
      "А. Роом\n",
      "А. Алов\n",
      "Дон Рус\n",
      "Мадонна\n",
      "Зигфрид\n",
      "Ти Вест\n",
      "Пол Сен\n",
      "Том Вон\n",
      "Н. Эген\n",
      "Рич Мур\n",
      "А. Хван\n",
      "М. Блаш\n",
      "Макинов\n",
      "Лунг Ах\n",
      "Хи Зили\n",
      "В. Котт\n",
      "Ян Хафт\n",
      "Триш Си\n",
      "Пер Флю\n",
      "А. Котт\n",
      "М. Янчо\n",
      "К. Денё\n",
      "В. Орёл\n",
      "Ма Юань\n",
      "Пол Фиг\n",
      "Джон Ву\n",
      "О. Ланд\n",
      "И. Триф\n",
      "Ник Рид\n",
      "Б. Яшин\n",
      "А. Хант\n",
      "С. Рамз\n",
      "А. Шейн\n",
      "Чуан Лу\n",
      "Том Дей\n",
      "Сэм Вуд\n",
      "Джон Чу\n",
      "Ю. Кара\n",
      "Р. Хрущ\n",
      "Ронни Ю\n",
      "Кеер Ху\n",
      "Ник Мур\n",
      "Масаюки\n",
      "Том Дэй\n",
      "С. Росс\n",
      "Дэн Буш\n",
      "М. Идов\n",
      "И. Стам\n",
      "Вари Ом\n",
      "А. Руже\n",
      "Шэнь Юй\n",
      "Бинг Лю\n",
      "Лу Жене\n",
      "Бен Гез\n",
      "И. Фрэз\n",
      "Чан Хун\n",
      "Ладж Ли\n",
      "В. Титов\n",
      "И. Бабич\n",
      "Р. Быков\n",
      "В. Басов\n",
      "А. Эфрос\n",
      "А. Серый\n",
      "А. Митта\n",
      "А. Зархи\n",
      "Джо Райт\n",
      "Гай Ричи\n",
      "Фрэнк Оз\n",
      "Н. Орлов\n",
      "Стив Бек\n",
      "Роб Коэн\n",
      "Сон-Юн О\n",
      "Тони Кэй\n",
      "А. Пурер\n",
      "Фил Лорд\n",
      "А. Кещян\n",
      "Кен Лоуч\n",
      "Ф. Попов\n",
      "Дик Маас\n",
      "Адам Кук\n",
      "Энн Эмон\n",
      "В. Барбэ\n",
      "А. Мычко\n",
      "Цуй Харк\n",
      "Люк Жаке\n",
      "Г. Орлов\n",
      "Р. Ершов\n",
      "Сэм Данн\n",
      "Джош Бун\n",
      "Яш Чопра\n",
      "Крис Бак\n",
      "Пол Фейг\n",
      "Пол Вайц\n",
      "Сеск Гай\n",
      "Ю. Мороз\n",
      "Джон Пог\n",
      "О. Галин\n",
      "Скотт Во\n",
      "О. Штром\n",
      "Спайк Ли\n",
      "Шон Леви\n",
      "Д. Тюрин\n",
      "Роб Ситч\n",
      "А. Вейль\n",
      "К. Кузин\n",
      "С. Юзеев\n",
      "Джо Линч\n",
      "А. Килин\n",
      "В. Перов\n",
      "Дэн Бирс\n",
      "Дрор Мор\n",
      "М. Калик\n",
      "М. Сегал\n",
      "Г. Гитис\n",
      "С. Попов\n",
      "Фанг Лей\n",
      "Гари Шор\n",
      "С. Дахин\n",
      "Илай Рот\n",
      "А. Яхнис\n",
      "Уэс Болл\n",
      "Бен Нотт\n",
      "Ю. Быков\n",
      "Дэни Бун\n",
      "Пол Кинг\n",
      "В. Елина\n",
      "М. Капля\n",
      "В. Рощин\n",
      "Томм Мур\n",
      "Том Грин\n",
      "А. Демин\n",
      "Росс Кац\n",
      "М. Валто\n",
      "Элай Рот\n",
      "Д. Шмидт\n",
      "Р. Сафин\n",
      "М. Плура\n",
      "Дэн Кван\n",
      "Д. Таран\n",
      "Том Форд\n",
      "С. Азази\n",
      "А. Ильин\n",
      "Фил Горн\n",
      "И. Перин\n",
      "В. Рудак\n",
      "Джон Мур\n",
      "Шон Бирн\n",
      "О. Карас\n",
      "А. Васин\n",
      "В. Юркус\n",
      "А. Кавун\n",
      "Алан Пол\n",
      "А. Аболс\n",
      "Хью Лори\n",
      "Хью Родс\n",
      "А. Эшпай\n",
      "Сяолу Го\n",
      "Уве Болл\n",
      "Дани Бон\n",
      "М. Алиев\n",
      "Л. Усова\n",
      "Э. Гущин\n",
      "Вл. Китт\n",
      "Д. Карро\n",
      "Тим Хилл\n",
      "Майкл Ли\n",
      "С. Лобан\n",
      "С. Ландо\n",
      "Тим Кокс\n",
      "Род Лури\n",
      "Д. Абель\n",
      "Э. Парри\n",
      "Со Абади\n",
      "А. Сурин\n",
      "О. Зуева\n",
      "Г. Щукин\n",
      "А. Занин\n",
      "Жак Дере\n",
      "Д. Прима\n",
      "Ник Парк\n",
      "Эбби Кон\n",
      "Ю. Сизов\n",
      "Пол Вонг\n",
      "М. Елкин\n",
      "Бен Луин\n",
      "Хань Янь\n",
      "А. Шемес\n",
      "Лео Жанг\n",
      "Дрю Пирс\n",
      "В. Белов\n",
      "В. Марин\n",
      "Гэри Ван\n",
      "А. Титов\n",
      "А. Голуб\n",
      "Пол Дано\n",
      "К. Румак\n",
      "В. Азеев\n",
      "В. Саков\n",
      "Грег Кос\n",
      "А. Линич\n",
      "С. Митин\n",
      "В. Ракша\n",
      "О. Товма\n",
      " Матс Эк\n",
      "М. Алина\n",
      "Е. Милых\n",
      "О. Ларин\n",
      "Е. Савин\n",
      "Г. Щерба\n",
      "Крис Мул\n",
      "А. Розов\n",
      "Н. Фомин\n",
      "А. Лукин\n",
      "Э. Балье\n",
      "Ю. Гапон\n",
      "П. Селин\n",
      "Карл Кох\n",
      "Т. Тания\n",
      "Р. Паушу\n",
      "Ли Лиань\n",
      "Дэн Креч\n",
      "О. Фомин\n",
      "М. Зыков\n",
      "Ю. Мамин\n",
      "Рон Юань\n",
      "И. Белов\n",
      "Томас Ян\n",
      "Ник Хэмм\n",
      "Т. Байбл\n",
      "М. Карри\n",
      "Майк Ган\n",
      "А. Басов\n",
      "Л. Гайдай\n",
      "В. Азаров\n",
      "Бен Янгер\n",
      "Е. Ташков\n",
      "Г. Полока\n",
      "И. Гостев\n",
      "А. Птушко\n",
      "И. Пырьев\n",
      "Майк Слии\n",
      "К. Воинов\n",
      "П. Чухрай\n",
      "Г. Чухрай\n",
      "С. Бодров\n",
      "В. Шукшин\n",
      "Жан Боден\n",
      "Б. Барнет\n",
      "М. Хуциев\n",
      "Р. Балаян\n",
      "В. Пронин\n",
      "Э. Климов\n",
      "Э. Лотяну\n",
      "Тони Билл\n",
      "Ричардэйр\n",
      "И. Зайцев\n",
      "Г. Рошаль\n",
      "Гай Риччи\n",
      "Крис Вайц\n",
      "Тедди Чан\n",
      "Чжан Имоу\n",
      "Фил Трэйл\n",
      "Асгер Лет\n",
      "Адам Смит\n",
      "В. Иванов\n",
      "А. Силкин\n",
      "Д. Додсон\n",
      "П. Лунгин\n",
      "Гэри Росс\n",
      "Томаш Сас\n",
      "О. Сенцов\n",
      "Боаз Якин\n",
      "Ник Мерфи\n",
      "Крис Рено\n",
      "А. Козлов\n",
      "Джей Роач\n",
      "Сэм Рэйми\n",
      "Крис Уэдж\n",
      "В. Панжев\n",
      "Том Хупер\n",
      "Ол Паркер\n",
      "Джон Райт\n",
      "С. Ткачев\n",
      "Ален Шаба\n",
      "Марк Уэбб\n",
      "Т. Ильина\n",
      "Рон Фрике\n",
      "В. Волгин\n",
      "Мэт Аскем\n",
      "Кен Скотт\n",
      "Шейн Блэк\n",
      "Петер Зер\n",
      "Ден Мазер\n",
      "Роб Зомби\n",
      "Грег Гарт\n",
      "М. Саакян\n",
      "Дэвид Эйр\n",
      "Дэвид Кин\n",
      "Жак Одиар\n",
      "Жан Рабек\n",
      "Чжеки Чан\n",
      "Маниш Джа\n",
      "В. Суслин\n",
      "М. Козлов\n",
      "В. Панков\n",
      "Бен Уитли\n",
      "Мэтт Росс\n",
      "Тони Тэнг\n",
      "Жоан Фонт\n",
      "К. Кемниц\n",
      "Майкл Бэй\n",
      "Ли Анкрич\n",
      "Жак Уаниш\n",
      "К. Буслов\n",
      "О. Каптур\n",
      "Франк Хоф\n",
      "Ю. Ботоев\n",
      "К. Козлов\n",
      "Барри Кук\n",
      "Марк Манн\n",
      "Клэй Холл\n",
      "Бенсон Ли\n",
      "Адам Леон\n",
      "Джо Руссо\n",
      "Карл Ринш\n",
      "Е. Абызов\n",
      "А. Першин\n",
      "Шана Фест\n",
      "В. Козлов\n",
      "Б. Юсупов\n",
      "Мэтт Ривз\n",
      "Крис Белл\n",
      "Джонни То\n",
      "Гэвин Худ\n",
      "Майкл Ури\n",
      "А. Строев\n",
      "Клер Дени\n",
      "Г. Бардин\n",
      "А. Бобров\n",
      "Дэвид Туи\n",
      "А. Герман\n",
      "М. Угаров\n",
      "А. Баршак\n",
      "А. Сиверс\n",
      "Ю. Гусман\n",
      "Бен Бранд\n",
      "Д. Туприн\n",
      "В. Бортко\n",
      "Стив Пинк\n",
      "Жанна Эри\n",
      "Г. Малков\n",
      "Ю. Озеров\n",
      "А. Фролов\n",
      "А. Гордон\n",
      "В. Плучек\n",
      "Д. Грачев\n",
      "В. Тумаев\n",
      "А. Ягубец\n",
      "Джофф Мур\n",
      "Джим Микл\n",
      "Ваге Саян\n",
      "А. Зайцев\n",
      "Э. Змойро\n",
      "Фуюань Лю\n",
      "Даэ Джонг\n",
      "П. Санаев\n",
      "Уилл Глак\n",
      "Мона Ашаш\n",
      "В. Демент\n",
      "Одри Дана\n",
      "Пол Солет\n",
      "Е. Грибов\n",
      "Дэвид Юнг\n",
      "Зоя Ахтар\n",
      "Зак Брафф\n",
      "Б. Волчек\n",
      "Х. Бакаев\n",
      "Ю. Фетинг\n",
      "А. Кордон\n",
      "Ули Эдель\n",
      "Колин Фей\n",
      "Р. Асхаев\n",
      "А. Аравин\n",
      "В. Петров\n",
      "Д. Чернов\n",
      "Брэд Бёрд\n",
      "М. Фадеев\n",
      "Стив Карр\n",
      "Т. Зубова\n",
      "К. Сафина\n",
      "Стив Бокс\n",
      "П. Буслов\n",
      "Киран Фой\n",
      "А. Нужный\n",
      "С Чекалов\n",
      "Дуг Эллин\n",
      "Питер Сон\n",
      "Билли Рэй\n",
      "Рене Фере\n",
      "В. Павлов\n",
      "Джей Роуч\n",
      "Бен Блейн\n",
      "М. Шевчук\n",
      "Эмили Янг\n",
      "М. Волков\n",
      "Джон Лойд\n",
      "Тим Стори\n",
      "Рошди Зем\n",
      "А. Амиров\n",
      "Ю. Сысоев\n",
      "Тео Пирри\n",
      "Т. Саакян\n",
      "Дэйв Грин\n",
      "О. Лопато\n",
      "Луи Симон\n",
      "Эндрю Хэй\n",
      "Раман Хюи\n",
      "Хонгки Ли\n",
      "Э. Бостан\n",
      "Л. Сааков\n",
      "Уолт Дорн\n",
      "Д. Наумов\n",
      "Люк Бонди\n",
      "Шон Эллис\n",
      "Пако Леон\n",
      "А. Бильжо\n",
      "Хак Ботко\n",
      "Пьер Годо\n",
      "Марен Аде\n",
      "Т. Эсадзе\n",
      "Пол Карри\n",
      "А. Пармас\n",
      "А. Грачев\n",
      "Рик Барнс\n",
      "Ники Каро\n",
      "Зак Уэдон\n",
      "Брайан Фи\n",
      "Ён Сан-Хо\n",
      "Ю. Грымов\n",
      "Лукас Цяо\n",
      "Д. Глисон\n",
      "Люк Скотт\n",
      "А. Каурых\n",
      "Д. Дунаев\n",
      "Т. Корнев\n",
      "А. Волгин\n",
      "Хосе Майа\n",
      "Майкл Мур\n",
      "Кенни Янг\n",
      "Тед Мелфи\n",
      "С. Ушаков\n",
      "Данте Лам\n",
      "Ли Ункрич\n",
      "Орен Пели\n",
      "В. Аравин\n",
      "Джо Данте\n",
      "Дэни Леви\n",
      "Мира Наир\n",
      "Р. Ганган\n",
      "И. Цветов\n",
      "Мэтью Вон\n",
      "Итэн Коэн\n",
      "Ален Вулф\n",
      "А. Бзаров\n",
      "Дэвид Мур\n",
      "Генри Бин\n",
      "П. Бардин\n",
      "Ли Сингму\n",
      "Эли Крэйг\n",
      "А. Виткин\n",
      "А. Петрас\n",
      "Джина Ким\n",
      "Ю. Шиллер\n",
      "С. Линцов\n",
      "В. Ивакин\n",
      "Ли Чандон\n",
      "С. Щербин\n",
      "Адам Грин\n",
      "Питер Уир\n",
      "А. Гутман\n",
      "А. Бурцев\n",
      "Джоан Чен\n",
      "Бо Дзенга\n",
      "Гил Кинан\n",
      "С. Глезин\n",
      "А. Шадров\n",
      "Ален Рене\n",
      "Тодд Филд\n",
      "Шенг Динг\n",
      "В. Акобян\n",
      "О. Осипов\n",
      "Пьер Алли\n",
      "Джулия Ли\n",
      "Оксид Пан\n",
      "С. Сенцов\n",
      "Робин Сип\n",
      "Сара Смит\n",
      "Том Хэнкс\n",
      "А. Цацуев\n",
      "Бен Сэфди\n",
      "Р. Кериси\n",
      "Давид Ало\n",
      "А. Мышкин\n",
      "Майк Уайт\n",
      "Чарли Бин\n",
      "Реми Шайе\n",
      "А. Колпин\n",
      "В. Марков\n",
      "Макс Кроу\n",
      "Бруно Шиш\n",
      "А. Басаев\n",
      "О. Попова\n",
      "Уэсс Болл\n",
      "О. Трофим\n",
      "Лин Одинг\n",
      "К. Одегов\n",
      "Н. Венлок\n",
      "Боб Фишер\n",
      "Вон Стайн\n",
      "Ари Астер\n",
      "Т. Жалнин\n",
      "С. Храмых\n",
      "А. Безрук\n",
      "С. Ливнев\n",
      "А. Петров\n",
      "А. Бушнев\n",
      "В. Сунцов\n",
      "Брэд Берд\n",
      "А. Бойков\n",
      "Н. Раужин\n",
      "А. Кузина\n",
      "И. Иванов\n",
      "В. Гришин\n",
      "Лян Сюань\n",
      "Д. Крылов\n",
      "А. Игудин\n",
      "В. Арясов\n",
      "Н. Шмелёв\n",
      "Е. Белова\n",
      "А. Злобин\n",
      "В. Хохлов\n",
      "Д. Демура\n",
      "Б. Мамлин\n",
      "Т. Малова\n",
      "Том Вольф\n",
      "А. Южаков\n",
      "М. Черных\n",
      "Гари Вонг\n",
      "Ю. Ершова\n",
      "М. Юсупов\n",
      "Е. Цымбал\n",
      "П. Ходнев\n",
      "Л. Лысцов\n",
      "Л. Коршик\n",
      "С. Иванов\n",
      "С. Миляев\n",
      "А. Егоров\n",
      "В. Лавров\n",
      "М. Рафаил\n",
      "И. Осипов\n",
      "Дарья Жук\n",
      "В. Есинов\n",
      "В. Орехов\n",
      "В. Эйснер\n",
      "Я. Лаптев\n",
      "Хуан Вера\n",
      "Итан Коэн\n",
      "Е. Егоров\n",
      "В. Копцев\n",
      "И. Малкин\n",
      "А. Усаков\n",
      "А. Зозуля\n",
      "Джо Пенна\n",
      "Гай Гвидо\n",
      "С. Уваров\n",
      "Ли Кронин\n",
      "Н. Лопато\n",
      "Элен Жиро\n",
      "М. Фомина\n",
      "Айк Кбеян\n",
      "Ара Пайая\n",
      "Е. Яцкина\n",
      "А. Лунгин\n",
      "Д. Павлов\n",
      "Д. Сергин\n",
      "Б. Акопов\n",
      "Джош Кули\n",
      "Пол Хайет\n",
      "Дорон Пас\n",
      "Е. Гусева\n",
      "Ян Бергер\n",
      "С. Шанкар\n",
      "Хи-Чан Ра\n",
      "Брайан Ли\n",
      "А. Попова\n",
      "Тони Уэст\n",
      "П. Анделл\n",
      "Леон Динг\n",
      "И. Соснин\n",
      "Д. Фадеев\n",
      "А. Шархун\n",
      "Лулу Ванг\n",
      "Дон Харди\n",
      "Скотт Бек\n",
      "Юго Желен\n",
      "Т. Гулина\n",
      "Пол Кампф\n",
      "А. Иванов\n",
      "В. Лаптев\n",
      "Я. Лапшин\n",
      "Мати Диоп\n",
      "И. Рожков\n",
      "Дяо Инань\n",
      "Джефф Чан\n",
      "Н. Герман\n",
      "Ник Пойнц\n",
      "А. Беляев\n",
      "И. Трусов\n",
      "Е. Матвеев\n",
      "В. Меньшов\n",
      "Г. Данелия\n",
      "А. Смирнов\n",
      "Ю. Чулюкин\n",
      "Крис Нунан\n",
      "Йэн Софтли\n",
      "Роб Райнер\n",
      "Ю. Карасик\n",
      "Ю. Райзман\n",
      "А. Столпер\n",
      "М. Швейцер\n",
      "Л. Марягин\n",
      "Фэн Сяоган\n",
      "Дэвид Йетс\n",
      "Дэнни Панг\n",
      "Дэвид Моро\n",
      "А. Рыбаков\n",
      "Е. Карелов\n",
      "Кевин Смит\n",
      "А. Мкртчян\n",
      "Э. Рязанов\n",
      "В. Скуйбин\n",
      "Пол Уиланд\n",
      "С. Колосов\n",
      "Тим Дисней\n",
      "Крис Уэйтс\n",
      "Н. Губенко\n",
      "Даг Лайман\n",
      "С. Туманов\n",
      "А. Сахаров\n",
      "Э. Кеосаян\n",
      "Ричард Эйр\n",
      "Майкл Манн\n",
      "Питер Берг\n",
      "П. Фоменко\n",
      "Р. Фрунтов\n",
      "Анно Зауль\n",
      "Том Тыквер\n",
      "Пол Хантер\n",
      "Йорген Лет\n",
      "Тим Бёртон\n",
      "Дэвид Линч\n",
      "К. Худяков\n",
      "В. Назаров\n",
      "Кали Коури\n",
      "Стефан Лоу\n",
      "Николя Кюш\n",
      "Лиза Аскан\n",
      "Бигас Луна\n",
      "Кен Коупис\n",
      "Люк Бессон\n",
      "Рауль Руис\n",
      "Д. Файзиев\n",
      "Е. Анашкин\n",
      "Пэт Холден\n",
      "Макс Джива\n",
      "Ю. Бахшиев\n",
      "А. Малюков\n",
      "В. Яковлев\n",
      "А. Прошкин\n",
      "Р. Газизов\n",
      "Тим Бертон\n",
      "Скотт Хикс\n",
      "А. Кулямин\n",
      "Кирк Джонс\n",
      "Роберт Хит\n",
      "Майкл Дауз\n",
      "Шон Дуркин\n",
      "Кике Майло\n",
      "Дрю Годдар\n",
      "Питер Лорд\n",
      "Детлеф Бук\n",
      "Анна Негри\n",
      "Питер Тимм\n",
      "Д. Киселев\n",
      "Лео Каракс\n",
      "Кит Уорнер\n",
      "О. Фесенко\n",
      "Джон Лукас\n",
      "Сет Гордон\n",
      "Дэн Брэдли\n",
      "П. Руминов\n",
      "С. Баскова\n",
      "Айке Грамс\n",
      "Сан-Су Хон\n",
      "Ким Нгуйен\n",
      "Сара Полли\n",
      "Лиз Гарбус\n",
      "Джон М. Чу\n",
      "Эрик Рошан\n",
      "Эрен Криви\n",
      "Н. Лебедев\n",
      "Дэнни Бойл\n",
      "Пит Трэвис\n",
      "Дени Криеф\n",
      "Дэрил Вейн\n",
      "Бенуа Жако\n",
      "Тодд Луисо\n",
      "Вонг Юнфей\n",
      "Софи Файнс\n",
      "Тим Диасон\n",
      "Ким Ки-Дук\n",
      "Майя Кениг\n",
      "Баз Лурман\n",
      "Том Элкинс\n",
      "Джоэл Коэн\n",
      "Билл Джонс\n",
      "П. Худяков\n",
      "Пако Пласа\n",
      "Петер Несс\n",
      "Г. Курлаев\n",
      "М. Ильенко\n",
      "Роб Хейдон\n",
      "Ланс Дэйли\n",
      "И. Блохина\n",
      "Грэм Мерфи\n",
      "Шон Андерс\n",
      "Вуди Аллен\n",
      "Бэз Лурман\n",
      "Скотт Спир\n",
      "Седрик Кан\n",
      "Пит Доктер\n",
      "Ким Чжи Ун\n",
      "Вейн Тонли\n",
      "Дэнни Муни\n",
      "Джон Кафка\n",
      "Е. Баранов\n",
      "Бен Аффлек\n",
      "Дэвид Хорн\n",
      "Сэм Мендес\n",
      "Ли Дэниелс\n",
      "Жиль Бурдо\n",
      "Дин Деблуа\n",
      "С. Жигунов\n",
      "Стефан Каз\n",
      "И. Волошин\n",
      "Питер Морс\n",
      "Джон Фавро\n",
      "Пит Вейрич\n",
      "И. Евтеева\n",
      "Алекс Олье\n",
      "Эдгар Райт\n",
      "Роджер Рот\n",
      "Мэгги Кэри\n",
      "Давид Моро\n",
      "Джеймс Ван\n",
      "А. Якимчук\n",
      "Дин Паризо\n",
      "А. Храмцов\n",
      "А. Невский\n",
      "Е. Сокуров\n",
      "Е. Невский\n",
      "В. Сериков\n",
      "Морган Буш\n",
      "Ким Ки Дук\n",
      "Том Моррис\n",
      "Д. Филюков\n",
      "Пол Шредер\n",
      "Е. Соколов\n",
      "Ю. Разыков\n",
      "Рон Ховард\n",
      "В. Донсков\n",
      "Джон Карни\n",
      "Арно Ларьё\n",
      "К. Бронзит\n",
      "И. Сколков\n",
      "Крис Джеро\n",
      "А. Лобанов\n",
      "Джеймс Вон\n",
      "В. Шамиров\n",
      "Р. Каримов\n",
      "Пеги Холмс\n",
      "С. Чекалов\n",
      "С. Грознов\n",
      "Т. Кеосаян\n",
      "Бен Грегор\n",
      "Ник Харран\n",
      "А. Учитель\n",
      "О. Бычкова\n",
      "Джон Уэллс\n",
      "Джон Паско\n",
      "Хелен Жиро\n",
      "А. Хвостов\n",
      "О. Беляева\n",
      "С. Назиров\n",
      "Ноам Мурро\n",
      "Нил Бёргер\n",
      "Р. Мосафир\n",
      "С. Серегин\n",
      "Дэвид Кепп\n",
      "Т. Мамедов\n",
      "Б. Дышенов\n",
      "Люси Уокер\n",
      "Шон Андрес\n",
      "М. Джусоев\n",
      "О. Джураев\n",
      "Д. Федоров\n",
      "С. Тарасов\n",
      "Г. Бежанов\n",
      "В. Кремнев\n",
      "Дэвид Мишо\n",
      "А. Пиманов\n",
      "А. Баранов\n",
      "А. Цицилин\n",
      "Б. Токарев\n",
      "Торун Лиан\n",
      "Д. Родимин\n",
      "Б. Уладаев\n",
      "Нед Бенсон\n",
      "Стив Лотер\n",
      "Е. Тетерин\n",
      "Майкл Даус\n",
      "С. Пучинян\n",
      "Дени Аркан\n",
      "Д. Месхиев\n",
      "Джон Бруно\n",
      "Том Харпер\n",
      "Лиэнн Пули\n",
      "Э. Бочаров\n",
      "Эри Сандел\n",
      "Н. Сутырин\n",
      "Е. Клейнот\n",
      "Пол Тиббит\n",
      "А. Мельник\n",
      "Тибо Дуран\n",
      "Тим Элбери\n",
      "Е. Салабай\n",
      "Ф. Абрютин\n",
      "Юфенг Сонг\n",
      "Дэвид Гелб\n",
      "Пупи Авати\n",
      "Пол Хаггис\n",
      "Мак Картер\n",
      "Илмар Рааг\n",
      "К. Шипенко\n",
      "Р. Шаляпин\n",
      "А. Столбов\n",
      "А. Муратов\n",
      "Джон Ридли\n",
      "В. Лонской\n",
      "А. Ладынин\n",
      "Стэнли Юнг\n",
      "П. Фетисов\n",
      "М. Медведь\n",
      "Е. Татаров\n",
      "Мэттью Вон\n",
      "Динг Лианг\n",
      "А. Захаров\n",
      "Фатих Акин\n",
      "А. Меликян\n",
      "И. Ковалев\n",
      "А. Хамраев\n",
      "Уолт Бекер\n",
      "И. Чижиков\n",
      "А. Романец\n",
      "Тед Гейган\n",
      "Джош Форбс\n",
      "Давид Лево\n",
      "С. Комаров\n",
      "С. Юткевич\n",
      "О. Ремизов\n",
      "И. Северов\n",
      "К. Белевич\n",
      "В. Крючков\n",
      "И. Пшонкин\n",
      "Джил Кинан\n",
      "Кайл Балда\n",
      "Ли Уоннелл\n",
      "Ник Саймон\n",
      "Анн Фонтен\n",
      "Р. Ильясов\n",
      "Карл Тордж\n",
      "М. Абрамов\n",
      "Пейтон Рид\n",
      "Тадонг Пак\n",
      "А. Чукарев\n",
      "Джон Копли\n",
      "Д. Лазарев\n",
      "Дана Браун\n",
      "Д. Кузьмин\n",
      "Дэн Гилрой\n",
      "Йуис Килес\n",
      "Ю. Попович\n",
      "А. Шелехов\n",
      "С. Антонов\n",
      "Жоанн Сфар\n",
      "В. Угличин\n",
      "А. Галибин\n",
      "Хаято Датэ\n",
      "Родни Эшер\n",
      "Дамон Гамо\n",
      "Г. Куценко\n",
      "Тим Миллер\n",
      "Кент Джонс\n",
      "А. Миронов\n",
      "Е. Сергеев\n",
      "И. Волкова\n",
      "А. Дамскер\n",
      "Е. Шелякин\n",
      "С. Снежкин\n",
      "Сара Адина\n",
      "А. Матисон\n",
      "Н. Мубинов\n",
      "Скотт Манн\n",
      "В. Харьков\n",
      "Г. Дюкарев\n",
      "Атом Эгоян\n",
      "П. Ливолси\n",
      "В. Лакисов\n",
      "П. Воллрат\n",
      "Д. Суворов\n",
      "В. Сигарев\n",
      "Грен Уэллс\n",
      "Кевин Гетц\n",
      "Бёрр Стирс\n",
      "Уилл Кэнон\n",
      "А. Майовер\n",
      "А. Соколов\n",
      "С. Соколов\n",
      "У. Грайнер\n",
      "Р. Светлов\n",
      "Тодд Хейнс\n",
      "Дин Тейлор\n",
      "А. Федотов\n",
      "Д. Кубасов\n",
      "О. Арнольд\n",
      "А. Абидова\n",
      "Кюнг Хо Ли\n",
      "Ник Сандов\n",
      "Мел Гибсон\n",
      "И. Учитель\n",
      "А. Кравчук\n",
      "В. Мережко\n",
      "Д. Хананов\n",
      "Е. Морозов\n",
      "К. Балагов\n",
      "С. Аксенов\n",
      "Н. Досталь\n",
      "Теа Шеррок\n",
      "Р. Шульман\n",
      "А. Мурадов\n",
      "Р. Жигалов\n",
      "В. Галкина\n",
      "Гийом Кане\n",
      "Эш Браннон\n",
      "Стэнли Тун\n",
      "И. Евланов\n",
      "Эндрю Лоэр\n",
      "Ю. Кулаков\n",
      "А. Аббасов\n",
      "И. Щербань\n",
      "Н. Дрейден\n",
      "Э. Веливис\n",
      "М. Кумыков\n",
      "Гарт Дэвис\n",
      "С. Меринов\n",
      "В. Мирзоев\n",
      "Б. Доржиев\n",
      "И. Мережко\n",
      "А. Симонов\n",
      "А. Лукичев\n",
      "Чан Гуанси\n",
      "Х. Стойчев\n",
      "А. Бальчев\n",
      "А. Созонов\n",
      "Кен Сэнзел\n",
      "О. Агейчев\n",
      "Джон Уоттс\n",
      "М. Барынин\n",
      "Ж. Альберт\n",
      "Р. Рашитов\n",
      "А. Грабарь\n",
      "Э. Назаров\n",
      "Е. Семенов\n",
      "С. Дебижев\n",
      "В. Потапов\n",
      "Л. Носырев\n",
      "Х. Нарлиев\n",
      "И. Сафаров\n",
      "Тим Бартон\n",
      "Р. Кубаева\n",
      "Хон Сан Су\n",
      "Ришар Бери\n",
      "Обри Паулл\n",
      "Клод Берри\n",
      "Жак Перрен\n",
      "А. Сухарев\n",
      "Нил Бергер\n",
      "Н. Мирзоян\n",
      "Д. Мамулия\n",
      "Эмма Данте\n",
      "Е. Сысоева\n",
      "С. Арланов\n",
      "Гари Виник\n",
      "Нора Эфрон\n",
      "Тони Скотт\n",
      "Гаспар Ноэ\n",
      "В. Федоров\n",
      "Берр Стирс\n",
      "Марк Махон\n",
      "А. Марутян\n",
      "А. Мачерет\n",
      "Г. Негашев\n",
      "Б. Бадриев\n",
      "Л. Горовец\n",
      "Р. Сабиров\n",
      "Марк Льюис\n",
      "А. Мамедов\n",
      "А. Черняев\n",
      "В. Ефремов\n",
      "Н. Очигава\n",
      "А. Луканев\n",
      "Ван Сылинь\n",
      "С. Гордеев\n",
      "Ли Даниэлс\n",
      "Н. Наумова\n",
      "И. Копылов\n",
      "Д. О'Рейли\n",
      "А. Чеканов\n",
      "М. Снежная\n",
      "И. Каленов\n",
      "Йен Софтли\n",
      "С. Осипьян\n",
      "М. Мкртчян\n",
      "Кабир Кхан\n",
      "Дэвид Хакл\n",
      "Кен Куопис\n",
      "Б. Казаков\n",
      "Ю. Королев\n",
      "Стив Энтин\n",
      "Алекс Замм\n",
      "С. Газаров\n",
      "В. Меньков\n",
      "Джозеф Кан\n",
      "Джоди Хилл\n",
      "Марк Дэвис\n",
      "Стивен Лоу\n",
      "Е. Чернова\n",
      "Джон Айвэй\n",
      "Ю Сун-Донг\n",
      "Алекс Колл\n",
      "А. Сокуров\n",
      "Клод Лелуш\n",
      "И. Тойонов\n",
      "Феи Сяоган\n",
      "Адам Гираш\n",
      "Джеймс Хат\n",
      "В. Шепелев\n",
      "О. Погодин\n",
      "Бэн Палмер\n",
      "Аун Хое Го\n",
      "Гай Кассье\n",
      "Трой Никси\n",
      "Дайна Рейд\n",
      "Джон Рекуа\n",
      "Кан Чжэ Гю\n",
      "Крис Горак\n",
      "А. Сидоров\n",
      "Питер Додд\n",
      "Джордж Ихл\n",
      "Линн Рэмси\n",
      "Майкл Мэнн\n",
      "Л. Кулишов\n",
      "Е. Бычкова\n",
      "А. Дерошер\n",
      "Дэвид Литч\n",
      "А. Кутерье\n",
      "Д. Кэмерон\n",
      "К. Шелепов\n",
      "Жак Дуайон\n",
      "Дин Девлин\n",
      "Д. Юзбашев\n",
      "Питер Футт\n",
      "Е. Жигаева\n",
      "Д. Фирсова\n",
      "Л. Арнштам\n",
      "Н. Скуйбин\n",
      "Эрик Лавэн\n",
      "Рон Шелтон\n",
      "Я. Поляруш\n",
      "Арно Бурон\n",
      "Ф. Шабанов\n",
      "Е. Никитин\n",
      "Шон Бэйкер\n",
      "О. Денисов\n",
      "П. Москвин\n",
      "Н. Соколов\n",
      "Мари Окада\n",
      "П. Дроздов\n",
      "А. Кретова\n",
      "А. Чижиков\n",
      "Лаки Макки\n",
      "Робин Обер\n",
      "А. Новиков\n",
      "Серж Бозон\n",
      "Кэй Кэннон\n",
      "А. Поличук\n",
      "И. Петухов\n",
      "М. Шалаева\n",
      "Н. Першина\n",
      "В. Битоков\n",
      "И. Басенко\n",
      "Е. Киреева\n",
      "В. Новиков\n",
      "И. Бахтина\n",
      "Майкл Пирс\n",
      "А. Корытко\n",
      "Е. Туркова\n",
      "М. Куклина\n",
      "Ю. Курочка\n",
      "А. Барыкин\n",
      "Матьё Тури\n",
      "В. Алфёров\n",
      "С. Майоров\n",
      "К. Кокорев\n",
      "А. Осипова\n",
      "И. Фирсова\n",
      "Е. Кривцов\n",
      "М. Мошкова\n",
      "И. Куликов\n",
      "Ю. Шамилов\n",
      "А. Шадрина\n",
      "А. Емкужев\n",
      "Мари Мондж\n",
      "Н. Фролова\n",
      "Пьер Греко\n",
      "Н. Антонов\n",
      "Ю. Бобкова\n",
      "Клайв Тонг\n",
      "Д. Курочка\n",
      "Н. Тамаров\n",
      "Н. Климчук\n",
      "С. Токалов\n",
      "И. Калядин\n",
      "А. Сашнева\n",
      "Е. Кожокин\n",
      "В. Смолина\n",
      "Т. Джураев\n",
      "Р. Фазлиев\n",
      "Эмили Атеф\n",
      "Д. Цветков\n",
      "Я. Войтова\n",
      "И. Семашко\n",
      "Ю. Малюгин\n",
      "Р. Верещак\n",
      "Е. Стишова\n",
      "Хезер Ленц\n",
      "Дэвид Керр\n",
      "К. Плетнёв\n",
      "Али Аббаси\n",
      "К. Соколов\n",
      "Чак Пауэрс\n",
      "К. Попович\n",
      "Скатт Спир\n",
      "К. Козлова\n",
      "М. Киреева\n",
      "О. Нарлыев\n",
      "И. Корнеев\n",
      "А. Куликов\n",
      "Луиш Диого\n",
      "П. Мирзоев\n",
      "Ари Сендел\n",
      "М. Якубсон\n",
      "Е. Дубкова\n",
      "А. Шабаров\n",
      "П. Хвалеев\n",
      "Е. Захаров\n",
      "Е. Окопная\n",
      "А. Рожнова\n",
      "Эрик Зонка\n",
      "М. Смирнов\n",
      "М. Ховенко\n",
      "Д. Силяков\n",
      "В. Захаров\n",
      "А. Колядин\n",
      "К. Мирзоян\n",
      "Перри Лэнг\n",
      "И. Долгина\n",
      "Д. Кабаков\n",
      "А. Круглов\n",
      "М. Васюнов\n",
      "О. Лещинер\n",
      "Джози Рурк\n",
      "С. Мкртчян\n",
      "О Семёнова\n",
      "С. Быченко\n",
      "Е. Хломова\n",
      "Г. Игнатов\n",
      "Янн Деманж\n",
      "Лукас Донт\n",
      "Р. Чумаков\n",
      "П. Сидоров\n",
      "С. Крючков\n",
      "А. Хаакана\n",
      "Ю. Морская\n",
      "М. Архипов\n",
      "Е. Жиркова\n",
      "Джо Корниш\n",
      "А. Джазоян\n",
      "Мими Ледер\n",
      "Н. Бучнева\n",
      "Л. Круглов\n",
      "М. Олейник\n",
      "Анна Боден\n",
      "А. Петрова\n",
      "И. Ермолов\n",
      "Фред Вульф\n",
      "Джона Хилл\n",
      "Тим Молтби\n",
      "А. Пичужин\n",
      "Ф. Золоева\n",
      "Д. Рудаков\n",
      "Я. Лебедев\n",
      "Кевин Колш\n",
      "Е. Бедарев\n",
      "Том О'Дэлл\n",
      "Айрис Заки\n",
      "Рэйф Файнс\n",
      "Тоуб Хупер\n",
      "Н. Кеппенс\n",
      "А. Хатулик\n",
      "Жак Клюгер\n",
      "Эрик Тости\n",
      "П. Смирнов\n",
      "Эмма Тамми\n",
      "Чак Рассел\n",
      "Ю. Перкуль\n",
      "И. Мардарь\n",
      "Арно Лемор\n",
      "О. Дибцева\n",
      "А. Кибкало\n",
      "А. Соколюк\n",
      "Гай Наттив\n",
      "Дэн Вэйфэн\n",
      "Д. Давыдов\n",
      "Ю. Ардашев\n",
      "А. Цыренов\n",
      "Тони Пауэр\n",
      "М. Морсков\n",
      "И. Кунилов\n",
      "Го Аун Хое\n",
      "Сэфи Неббу\n",
      "Элиз Дюран\n",
      "А. Митёшин\n",
      "А. Бажанов\n",
      "А. Федоров\n",
      "Ли Джон-Хо\n",
      "Софи Такал\n",
      "Ник Пауэлл\n",
      "Майк Фиггис\n",
      "А. Салтыков\n",
      "М. Чиаурели\n",
      "Роб Маршалл\n",
      "Н. Михалков\n",
      "С. Соловьев\n",
      "Ролан Быков\n",
      "Питер Сигал\n",
      "Дрю Дэйуолт\n",
      "С. Самсонов\n",
      "Айрон Блейз\n",
      "В. Павлович\n",
      "Г. Натансон\n",
      "В. Георгиев\n",
      "А. Сурикова\n",
      "М. Микаэлян\n",
      "Г. Панфилов\n",
      "В. Пудовкин\n",
      "С. Алексеев\n",
      "Ридли Скотт\n",
      "Майк Ньюэлл\n",
      "Эл Гиддингс\n",
      "Б. Бабочкин\n",
      "В. Дербенев\n",
      "Сидни Люмет\n",
      "Питер Хаймс\n",
      "Эдвард Цвик\n",
      "Ю. Кушнерев\n",
      "Дэвид Слейд\n",
      "Анн Фонтейн\n",
      "Е. Гинзбург\n",
      "Брек Эйзнер\n",
      "А. Карпыков\n",
      "Патрик Люнг\n",
      "Курт Уиммер\n",
      "Брек Айзнер\n",
      "Дэвид Йейтс\n",
      "И. Таланкин\n",
      "В. Шамшурин\n",
      "Саймон Уэст\n",
      "Натан Грино\n",
      "Генри Джуст\n",
      "Джон Мэдден\n",
      "Дэвид Ликли\n",
      "Ева Ионеско\n",
      "Тейт Тейлор\n",
      "Брэд Пейтон\n",
      "А. Смирнова\n",
      "Тарсем Синх\n",
      "Роб Минкофф\n",
      "Ю. Васильев\n",
      "Б. Куломзин\n",
      "А. Мизгирев\n",
      "Гарет Эванс\n",
      "Майк Маккой\n",
      "Тони Майерс\n",
      "Говард Холл\n",
      "Гейл Эвардс\n",
      "Мэттью Диас\n",
      "А. Борматов\n",
      "Санг-Хан Хо\n",
      "Ральф Файнс\n",
      "Томаш Лунак\n",
      "Дэвид Брукс\n",
      "Габи Амионе\n",
      "Петер Флинт\n",
      "Билл Кондон\n",
      "Эйтор Далия\n",
      "Майкл Сакси\n",
      "Е. Борисова\n",
      "Р. Прыгунов\n",
      "Джосс Уидон\n",
      "Джон Каздан\n",
      "А. Касаткин\n",
      "Джон Эйч Ли\n",
      "Стивен Найт\n",
      "Роар Утхауг\n",
      "Робин Кларк\n",
      "Стив Баркер\n",
      "Джастин Лин\n",
      "Нурбек Эген\n",
      "Сид Беннетт\n",
      "Шон Гэррити\n",
      "К. Тимофеев\n",
      "А. Аманшаев\n",
      "Эцио Греджо\n",
      "Е. Барханов\n",
      "Лен Уайзман\n",
      "А. Арутюнов\n",
      "Энди Фикмен\n",
      "Уолтер Хилл\n",
      "С. Бурнашев\n",
      "Рамаа Мосли\n",
      "Пьер Коффин\n",
      "И. Вырыпаев\n",
      "Фрэнк Мерле\n",
      "Амир Надери\n",
      "Джейсон Мур\n",
      "Джей Ананья\n",
      "Иван Атталь\n",
      "Стефан Обье\n",
      "Эрик Ле Рош\n",
      "Энрике Гато\n",
      "Агнес Мерле\n",
      "Тони Гилрой\n",
      "Д. Алексеев\n",
      "Саймон Вест\n",
      "Крис Миллер\n",
      "Андрес Баиз\n",
      "Бен Зайтлин\n",
      "Софи Леллуш\n",
      "К. Оганесян\n",
      "Крис Батлер\n",
      "Бен Стассен\n",
      "Джеймс Хант\n",
      "Джон Хайамс\n",
      "Лоран Тирар\n",
      "Кьюнг Хо Ли\n",
      "Питер Рэмси\n",
      "Давид Шарон\n",
      "К. Оганисян\n",
      "Ари Фольман\n",
      "Джеймс Грэй\n",
      "Кристоф Ган\n",
      "А. Кириллов\n",
      "Сатоси Мики\n",
      "Фанни Ардан\n",
      "Патрик Хьюз\n",
      "А. Атанесян\n",
      "Томас Лукас\n",
      "Реим Керичи\n",
      "Шарль Немес\n",
      "Леон Джусен\n",
      "Оливье Даан\n",
      "Каспар Мунк\n",
      "Алан Тейлор\n",
      "Дэвид Сорен\n",
      "Иссара Нади\n",
      "Спайк Джонс\n",
      "К. Мурзенко\n",
      "П. Гладилин\n",
      "М. Мигунова\n",
      "Брюно Дюмон\n",
      "А. Григорян\n",
      "Бен Стиллер\n",
      "Дуэйн Адлер\n",
      "Уэйн Крамер\n",
      "Стивен Фанг\n",
      "Е. Телегина\n",
      "Нил Джордан\n",
      "Д. Дьяченко\n",
      "Лоран Тюэль\n",
      "Е. Миндадзе\n",
      "А. Вартанов\n",
      "А. Симакова\n",
      "Луи Летерье\n",
      "Зак Снайдер\n",
      "Стобе Харью\n",
      "Скотт Уокер\n",
      "Дэвид Кларк\n",
      "Ханнес Холм\n",
      "Джон Хаддлс\n",
      "Том Донахью\n",
      "Рохер Гуаль\n",
      "Брэд Фурман\n",
      "Мэттью Миле\n",
      "Михаэль Иён\n",
      "Конор Эллин\n",
      "Мани Хагиги\n",
      "Дэн Скэнлон\n",
      "Андреа Брет\n",
      "Гэри Фледер\n",
      "Неи Базаире\n",
      "В. Торопчин\n",
      "М. Панфилов\n",
      "А. Зеленков\n",
      "Ноа Баумбах\n",
      "Энцо Д'Алло\n",
      "Д. Банников\n",
      "А. Геворгян\n",
      "Е. Трусевич\n",
      "Марк Уотерс\n",
      "Ральф Зиман\n",
      "А. Гончуков\n",
      "К. Муратова\n",
      "О. Асадулин\n",
      "Марк Бертон\n",
      "Джеймс Марш\n",
      "Адам Маккей\n",
      "Скотт Фрэнк\n",
      "Роуэн Жоффе\n",
      "Пол Дагдейл\n",
      "Тим Джонсон\n",
      "Фред Кавайе\n",
      "Терри Майлз\n",
      "Майкл Талли\n",
      "Марк Аткинс\n",
      "Рассел Кроу\n",
      "Стайлз Уайт\n",
      "Филлип Нойс\n",
      "Стивен Лэнс\n",
      "Э. Ходжикян\n",
      "Джэфф Баэна\n",
      "Алекс Коллс\n",
      "В. Журавлев\n",
      "Марко Вебер\n",
      "В. Чубриков\n",
      "Джини Финли\n",
      "Джон Кёрран\n",
      "Зак Хилдитч\n",
      "Дэвид Мерфи\n",
      "Матиас Хёне\n",
      "Дэвид Олден\n",
      "Д. Червяцов\n",
      "Тони Маршал\n",
      "Ю. Солнцева\n",
      "Л. Трауберг\n",
      "И. Короткий\n",
      "А. Молочник\n",
      "Флоран Сири\n",
      "И. Маслюков\n",
      "В. Бродский\n",
      "Ф. Махмутов\n",
      "Жером Салль\n",
      "Е. Махнутин\n",
      "Макс Николс\n",
      "Джеймс Ганн\n",
      "В. Немоляев\n",
      "Д. Васильев\n",
      "Ю. Даниялов\n",
      "Г. Мелконян\n",
      "Линн Шелтон\n",
      "Мираэ Мицуэ\n",
      "Клаудио Фах\n",
      "Е. Баранов.\n",
      "Э. Гаврилов\n",
      "Лоран Пелли\n",
      "В. Харченко\n",
      "А. А. Эшпай\n",
      "М. Захариас\n",
      "С. Самошина\n",
      "Алекс Гибни\n",
      "Остин Старк\n",
      "Э. Шенгелая\n",
      "Виола Байер\n",
      "Л. Шмурьева\n",
      "Э. Манжеева\n",
      "Д. Нейдманд\n",
      "А. Калинкин\n",
      "Кайл Ньюман\n",
      "Энн Флетчер\n",
      "Кэт Кэндлер\n",
      "Пьер Морель\n",
      "Алан Тэйлор\n",
      "Риад Саттуф\n",
      "Одед Биннун\n",
      "Марике Блау\n",
      "Скотт Купер\n",
      "Ф. Дмитриев\n",
      "К. Ангелина\n",
      "В. Штерянов\n",
      "О. Бондарев\n",
      "Б. Бушмелев\n",
      "В. Максаков\n",
      "Джош Лоусон\n",
      "А. Ананикян\n",
      "А. Темников\n",
      "Седрик Анже\n",
      "Макс Джозеф\n",
      "М. Ксейбати\n",
      "Петер Штайн\n",
      "Д. Зинченко\n",
      "Е. Хазанова\n",
      "Э. Оганесян\n",
      "Жослин Таун\n",
      "Джеймс Кент\n",
      "Исаак Федер\n",
      "Эрве Мимран\n",
      "Филипп Амио\n",
      "Энди Годдар\n",
      "Брек Эйснер\n",
      "Э. Бордуков\n",
      "А. Миндадзе\n",
      "А. Петрухин\n",
      "Вим Вендерс\n",
      "И. Кордзаия\n",
      "Терри Джонс\n",
      "С. Хажироко\n",
      "Корин Харди\n",
      "К. Дружинин\n",
      "Артур Делер\n",
      "Брэдли Кинг\n",
      "Луи Гаррель\n",
      "Ласло Немеш\n",
      "Клэй Кейтис\n",
      "Лука Лучини\n",
      "О. Семёнова\n",
      "Тревор Уолл\n",
      "Т. Сличенко\n",
      "А. Давыдова\n",
      "К. Геворкян\n",
      "Е. Данченко\n",
      "Ким Фаррант\n",
      "Р. Артемьев\n",
      "Дэвид Фейсс\n",
      "Робин Верет\n",
      "С. Кравцова\n",
      "Н. Кудряшов\n",
      "Джеймс Нанн\n",
      "Г. Проценко\n",
      "А. Китайцев\n",
      "А. Кириенко\n",
      "Кан Евренол\n",
      "Ю. Белюсева\n",
      "Люка Бельво\n",
      "Т. Харкевич\n",
      "М. Вартанян\n",
      "Эли Важеман\n",
      "А. Михалков\n",
      "Джон Краули\n",
      "Р. Волобуев\n",
      "Оуэн Харрис\n",
      "Т. М. Райвс\n",
      "Лука Виотто\n",
      "Эриксон Кор\n",
      "Марк Осборн\n",
      "Хулио Медем\n",
      "Джон Маклин\n",
      "Трэвис Найт\n",
      "Джаред Хесс\n",
      "Нельсон Шин\n",
      "Том Макграт\n",
      "Аарон Вудли\n",
      "Стелла Меги\n",
      "Жюли Дельпи\n",
      "Эдуард Баэр\n",
      "Эван Трэмал\n",
      "Деклан Дэйл\n",
      "Джош Гордон\n",
      "Е. Чичканов\n",
      "Эрик Саммер\n",
      "Хьюго Желен\n",
      "С. Гинзбург\n",
      "М. Демченко\n",
      "Н. Хомерики\n",
      "Том Денуччи\n",
      "А. Ефремова\n",
      "Филипп Лашо\n",
      "А. Незлобин\n",
      "В. Алеников\n",
      "Ховард Холл\n",
      "Е. Алексеев\n",
      "Клод Баррас\n",
      "Марк Каллен\n",
      "Т. Столбова\n",
      "А. Оганесян\n",
      "Майкл Аптед\n",
      "Л. Марголин\n",
      "Джордан Пил\n",
      "Грег Маклин\n",
      "Маниш Шарма\n",
      "Крис Маккей\n",
      "Акан Сатаев\n",
      "Чхан Ук Пак\n",
      "В. Фурманов\n",
      "С. Абрахамс\n",
      "Р. Хамдамов\n",
      "О. Кузовков\n",
      "Ф. Коршунов\n",
      "К. Ратушная\n",
      "Стив Лихтаг\n",
      "Ю. Сапонова\n",
      "Джон Дженкс\n",
      "Игор Биддау\n",
      "Эндрю Росси\n",
      "Жюстин Трие\n",
      "Ю. Калинина\n",
      "М. Кукушкин\n",
      "Л. Гладунко\n",
      "В. Воробьев\n",
      "М. Вайсберг\n",
      "Лоне Шерфиг\n",
      "Г. Михалков\n",
      "Уолт Беккер\n",
      "К. Папакуль\n",
      "Спайк Джонз\n",
      "Филипп Нойс\n",
      "Томас Джейн\n",
      "Эрик Бревиг\n",
      "Р. Нугманов\n",
      "Бетти Томас\n",
      "Хойт Йетман\n",
      "Нил Маршалл\n",
      "П. Масларов\n",
      "Энтони Бэлл\n",
      "Трой Миллер\n",
      "Д. Мастеров\n",
      "Клод Миллер\n",
      "Софи Бартез\n",
      "М. Рязанова\n",
      "Трент Купер\n",
      "М. Маханько\n",
      "Дени Деркур\n",
      "Юэнь Ву-Пин\n",
      "Уэс Крейвен\n",
      "Нил Ла Бьют\n",
      "Ю. Мазурова\n",
      "А. Юмагулов\n",
      "Джей Дюплис\n",
      "Энди Фикман\n",
      "Дункан Уорд\n",
      "Деон Тейлор\n",
      "Чхан-Ук Пак\n",
      "Майкл Эптед\n",
      "И. Савельев\n",
      "Эндрю Дэвис\n",
      "С. Борчуков\n",
      "А. Щербинин\n",
      "Нил Бреннан\n",
      "Райан Мерфи\n",
      "Д. Коробкин\n",
      "Тони Лойзер\n",
      "Джун-Хо Бон\n",
      "Ж. Романова\n",
      "И. Комладзе\n",
      "Тод Уильямс\n",
      "А. Богданов\n",
      "Д. Астрахан\n",
      "И. Соловьев\n",
      "Дэвид Слэйд\n",
      "Д. Белоусов\n",
      "И. Савченко\n",
      "Джон Харрис\n",
      "Д. Вершинин\n",
      "Алберт Хьюз\n",
      "Майк Митчел\n",
      "Дэвид Цукер\n",
      "А. Михайлов\n",
      "Джеймс Вонг\n",
      "Роджер Камб\n",
      "Джеймс Грей\n",
      "Кевин Мунро\n",
      "Крэйг Мэзин\n",
      "Гай Ферланд\n",
      "Жилль Бурдо\n",
      "Патрис Шеро\n",
      "Лес Мэйфилд\n",
      "Марк Лоренс\n",
      "А. Фенченко\n",
      "Н. Углицких\n",
      "Р. Исмайлов\n",
      "Т. Таш-Заде\n",
      "П. Медведев\n",
      "А. Замыслов\n",
      "Дейв Филони\n",
      "Эрик Валетт\n",
      "Розелин Бош\n",
      "Ли Тамахори\n",
      "Генри Селик\n",
      "Н. Ченышева\n",
      "Трак Бренсс\n",
      "Элисон Рейд\n",
      "Джек Каздан\n",
      "Н. Макарова\n",
      "Н. Щербаков\n",
      "В. Гинзбург\n",
      "Дженнифер Ю\n",
      "И. Казанков\n",
      "Майк Гюнтер\n",
      "Сан Ли Джан\n",
      "Джон Лэндис\n",
      "Марк Майлод\n",
      "М. Воронков\n",
      "В. Бархатов\n",
      "Марк Росман\n",
      "Ахеро Манас\n",
      "Карим Дриди\n",
      "Т. Ивашкина\n",
      "Софи Дерасп\n",
      "Ховард Халл\n",
      "Дэмиан Чапа\n",
      "Нил Армфилд\n",
      "И. Замалиев\n",
      "Е. Соломина\n",
      "Эмилио Саги\n",
      "А. Званцова\n",
      "А. Кагадеев\n",
      "Кэйити Хара\n",
      "Джон Хейман\n",
      "Пол Дугдейл\n",
      "Зэк Снайдер\n",
      "Йен Де Бонт\n",
      "Э. Пискатор\n",
      "Б. Дробязко\n",
      "Викрам Батт\n",
      "А. Калюжный\n",
      "Матье Рэтхи\n",
      "Луис Прието\n",
      "О. Червоняк\n",
      "Лоун Шерфиг\n",
      "Питер Дьюкс\n",
      "Уилл Верник\n",
      "Ромейн Леви\n",
      "Ксавье Жанс\n",
      "Брайан Смрз\n",
      "Хью Велчман\n",
      "Энди Серкис\n",
      "К. Максимов\n",
      "Фабрис Эбуе\n",
      "Джоан Шемла\n",
      "Трэвис Райс\n",
      "Лоуренс Шер\n",
      "З. Болотаев\n",
      "К. Васильев\n",
      "Роар Ухтауг\n",
      "Эндрю Эрвин\n",
      "В. Глухушин\n",
      "Дэвид Фрейн\n",
      "Т. Полосина\n",
      "Ричард Дэйл\n",
      "Мартин Гиги\n",
      "Тоа Фрейзер\n",
      "М. Немойтин\n",
      "Лорна Такер\n",
      "С. Ганночка\n",
      "Ноэль Клири\n",
      "Дэниэл Роби\n",
      "А. Горчилин\n",
      "Тара Пирния\n",
      "А. Коломеец\n",
      "Д. Дваджиев\n",
      "И. Ягафаров\n",
      "Энтони Бирн\n",
      "Ориол Паоло\n",
      "Т. Дондурей\n",
      "А. Зенкович\n",
      "И. Максимов\n",
      "Д. Степанов\n",
      "Джеймс Окли\n",
      "В. Фатьянов\n",
      "М. Новикова\n",
      "О. Холодова\n",
      "А. Сутормин\n",
      "Д. Гринькин\n",
      "Н. Урвачева\n",
      "О. Высоцкая\n",
      "В. Мякишева\n",
      "М. Сергеева\n",
      "М. Бирюкова\n",
      "Ли Чхан-Дон\n",
      "М. Нефедова\n",
      "Э. Арутюнов\n",
      "В. Кузнецов\n",
      "А. Писаркин\n",
      "Д. Даниелян\n",
      "О. Головина\n",
      "А. Горбунов\n",
      "Джеймс Кокс\n",
      "В. Салтыков\n",
      "Ю. Миронова\n",
      "Т. Бочарова\n",
      "Т. Корнеева\n",
      "А. Истратов\n",
      "Дэвид Бэтти\n",
      "А. Свирский\n",
      "С. Курченко\n",
      "Ю. Захарова\n",
      "С. Шаглеева\n",
      "Е. Резников\n",
      "Л. Шмельков\n",
      "В. Чичайкин\n",
      "Е. Королева\n",
      "Э. Нелидова\n",
      "М. Бигоцкий\n",
      "Л. Кулагина\n",
      "Карл Мендес\n",
      "Н. Федченко\n",
      "П. Олевский\n",
      "А. Денисова\n",
      "А. Полунина\n",
      "Карин Пройя\n",
      "Е. Останина\n",
      "В. Непевный\n",
      "Дрю Годдард\n",
      "Е. Болычева\n",
      "Сторм Эшвуд\n",
      "Д. Кузнецов\n",
      "Д. Колонтай\n",
      "А. Арутюнян\n",
      "А. Самойлов\n",
      "Финн Тейлор\n",
      "М. Костарев\n",
      "Куинн Лэшер\n",
      "Айан Бонхот\n",
      "Билл Оливер\n",
      "В. Потёмкин\n",
      "А. Жакулина\n",
      "Г. Голубева\n",
      "Н. Грофпель\n",
      "Бьёрн Рунге\n",
      "Жиль Леллуш\n",
      "А. Рубецкой\n",
      "Н. Батраева\n",
      "Г. Калинина\n",
      "Н. Бисярина\n",
      "А. Соколова\n",
      "Пьер Шоллер\n",
      "А. Проскура\n",
      "С. Рубенчик\n",
      "Том Эдмундс\n",
      "Джон Леннон\n",
      "С. Данилина\n",
      "В. Воронцов\n",
      "С. Черников\n",
      "Е. Обермаер\n",
      "Т. Новикова\n",
      "Андрэ Шефер\n",
      "В. Витовцев\n",
      "Д. Резванов\n",
      "Е. Ермолина\n",
      "Ю. Рыбакова\n",
      "А. Карелина\n",
      "Энди Миттон\n",
      "А. Кадыкова\n",
      "В. Дьяченко\n",
      "Э. Тухарели\n",
      "В. Николаев\n",
      "Манс Бертас\n",
      "Д. Панченко\n",
      "С. Лыгденов\n",
      "В. Потемкин\n",
      "О. Дроздова\n",
      "Луис Ортега\n",
      "А. Бадягина\n",
      "Р. Кузьмина\n",
      "А. Гришаков\n",
      "Б. Батуллин\n",
      "В. Кузенков\n",
      "А. Васильев\n",
      "Эрик Барбье\n",
      "Майкл Майер\n",
      "В. Олькович\n",
      "Аманда Шарп\n",
      "М. Довженко\n",
      "С. Сафонова\n",
      "В. Медведев\n",
      "З. Гапиенко\n",
      "М. Катушкин\n",
      "Д. Иванкова\n",
      "С. Васильев\n",
      "А. Гаврилов\n",
      "С. Ивекович\n",
      "Л. Борисова\n",
      "Тревор Нанн\n",
      "С. Саркисов\n",
      "Майкл Чавес\n",
      "Деннис Ботс\n",
      "Марин Атлан\n",
      "Милад Алами\n",
      "Надав Лапид\n",
      "Н. Назарова\n",
      "Люк Джейден\n",
      "А. Рыбников\n",
      "Илья Трусов\n",
      "Л. Садилова\n",
      "Г. Добрыгин\n",
      "Мэри Хэррон\n",
      "В. Кузовлев\n",
      "Д. Вологдин\n",
      "П. Левченко\n",
      "Оливье Бару\n",
      "Лайам Гэвин\n",
      "Т. Абрамова\n",
      "Дианна Грон\n",
      "Мартин Оуэн\n",
      "Лев Прудкин\n",
      "Ф. Петрухин\n",
      "В. Фекленко\n",
      "Н. Сергеева\n",
      "Пон Чжун-Хо\n",
      "Д. Шумакова\n",
      "Мариано Кон\n",
      "Пак Чжун Су\n",
      "А. Манзуров\n",
      "Чхве Гук-Хи\n",
      "Самуэль Жуи\n",
      "Рёта Накано\n",
      "Н. Маханько\n",
      "Андреа Блок\n",
      "И. Дамаскин\n",
      "Кори Пирсон\n",
      "Линь Хуэйда\n",
      "Дэвид Дитль\n",
      "Абе Форсайт\n",
      "Джим Хоскин\n",
      "Руперт Гулд\n",
      "Аньес Варда\n",
      "Г. Менкяров\n",
      "Н. Малыгина\n",
      "А. Пинхасов\n",
      "Фил Грабски\n",
      "Грег Тирнан\n",
      "Кевин Монро\n",
      "Роман Козич\n",
      "Петра Хёфер\n",
      "Джастин Дек\n",
      "Г. Кузнецов\n",
      "Алла Ковган\n",
      "Брайан Кирк\n",
      "Роуэн Этейл\n",
      "Фенар Ахмад\n",
      "Ю. Казачков\n",
      "К. Чувикова\n",
      "Эрик Беснард\n",
      "Клинт Иствуд\n",
      "В. Чеботарев\n",
      "Эндрю Никкол\n",
      "Г. Мыльников\n",
      "Стивен Фрирз\n",
      "Найл Джонсон\n",
      "Т. Лукашевич\n",
      "Эмиль Лотяну\n",
      "Тиль Швайгер\n",
      "С. Бондарчук\n",
      "Дин Хэмилтон\n",
      "Крис Уильямс\n",
      "Марк Форстер\n",
      "Г. Егиазаров\n",
      "Джордж Клуни\n",
      "Дэвид Аубурн\n",
      "Питер Хоуитт\n",
      "Мартин Брест\n",
      "Бен Стэйссен\n",
      "Джозеф Рубен\n",
      "Дэвид Финчер\n",
      "В. Герасимов\n",
      "Р. Нахапетов\n",
      "Ф. Гари Грэй\n",
      "Пол Макгиган\n",
      "Ананд Таккер\n",
      "Т. Вульфович\n",
      "Бретт Рэтнер\n",
      "А. Габриелян\n",
      "Карел Смычек\n",
      "А. Панкратов\n",
      "Адам Шенкман\n",
      "Дэвид Миркин\n",
      "В. Ордынский\n",
      "Стивен Гэган\n",
      "Ульрих Зейдл\n",
      "Э. Савельева\n",
      "С. Говорухин\n",
      "Дэйв Бортвик\n",
      "Сет Гроссман\n",
      "Тоби Уилкинс\n",
      "Франсуа Озон\n",
      "Джули Тэймор\n",
      "Скотт Калвер\n",
      "Джим Шеридан\n",
      "Дэниел Барнц\n",
      "Ренни Харлин\n",
      "Уэс Андерсон\n",
      "Брайан Лардж\n",
      "Джо Карнахан\n",
      "Уильям Юбэнк\n",
      "Оливер Барру\n",
      "Лиза Азуэлос\n",
      "С. Андреасян\n",
      "Ларри Чарльз\n",
      "Майкл Фиггис\n",
      "Эрик Дарнелл\n",
      "М. Бальчунас\n",
      "Джошуа Транк\n",
      "Мэтт Пидмонт\n",
      "Жан-Жак Анно\n",
      "Джеймс Бобин\n",
      "Джефф Николс\n",
      "Джеймс Мэтер\n",
      "Пол Андерсон\n",
      "Брэйден Кинг\n",
      "Режис Варнье\n",
      "А. Магомедов\n",
      "А. Мармонтов\n",
      "А. Стреляная\n",
      "Бернард Роуз\n",
      "Андре Тешине\n",
      "Джон Харвитц\n",
      "Стив Маккуин\n",
      "Джордж Лукас\n",
      "Деннис Дуган\n",
      "Грег Уайтели\n",
      "Стивен Кижак\n",
      "Джудд Апатоу\n",
      "Вонг Чинг По\n",
      "Фрэнк Корачи\n",
      "Аку Лоухимис\n",
      "Антуан Фукуа\n",
      "Феде Алварес\n",
      "Марсал Форес\n",
      "Б. Хлебников\n",
      "Найджел Коул\n",
      "Джеми Линден\n",
      "Джозеф Седар\n",
      "Мигель Гомеш\n",
      "Режи Ройнсар\n",
      "Давид Манули\n",
      "Е. Михайлова\n",
      "Такаши Миике\n",
      "Крейг Зобель\n",
      "Рон Клементс\n",
      "Такаси Миике\n",
      "Стив Мартино\n",
      "Рэй Манзарек\n",
      "Оливер Стоун\n",
      "Ахмед Сонмез\n",
      "С. Карпунина\n",
      "Ырыс Окенова\n",
      "С. Дружинина\n",
      "Майкл Гантон\n",
      "Руфус Норрис\n",
      "Анубав Синха\n",
      "Йос Стеллинг\n",
      "Рик Роман Во\n",
      "Бертран Блие\n",
      "Шунсуке Тада\n",
      "Мартин Клэпп\n",
      "Альберто Мар\n",
      "Джозеф Рубин\n",
      "Диего Каплан\n",
      "Бруно Халлин\n",
      "Грач Кешишян\n",
      "Тодд Филлипс\n",
      "Майкл Винник\n",
      "Франк Халфун\n",
      "Дэвид Баррет\n",
      "Ксавье Долан\n",
      "Вонг Кар Вай\n",
      "Стюарт Урбан\n",
      "Акива Шаффер\n",
      "Люк Крессуел\n",
      "Керн Секстон\n",
      "Джон Гулажер\n",
      "Юрген Лердам\n",
      "Стивен Брилл\n",
      "Дэвид Палмер\n",
      "Билле Аугуст\n",
      "Сильви Тестю\n",
      "Майкл Тиддес\n",
      "Г. Киракосян\n",
      "Тодд Солондз\n",
      "С. Мокрицкий\n",
      "Сюзанна Биер\n",
      "Джон Эспинач\n",
      "Джон Хилкоут\n",
      "Пабло Бергер\n",
      "Джойл Бродли\n",
      "А. Кананович\n",
      "А. Аксененко\n",
      "Дж. Т. Петти\n",
      "Алекс Пастор\n",
      "Маркус Винер\n",
      "Том Гормикэн\n",
      "Мэтт Орландо\n",
      "Нил Бломкамп\n",
      "Н. Меркулова\n",
      "Коди Кэмерон\n",
      "Сильвен Уайт\n",
      "Нэнси Севард\n",
      "Адам Вингард\n",
      "Джим Джармуш\n",
      "Джефф Уодлоу\n",
      "Стюарт Битти\n",
      "Рэндолл Коул\n",
      "Марион Верну\n",
      "Каран Джохар\n",
      "Малик Бейдер\n",
      "Оливье Барру\n",
      "Е. Звездаков\n",
      "Дени Вильнев\n",
      "Блэр Эриксон\n",
      "Карло Карлей\n",
      "Сильвен Шоне\n",
      "Хершел Фабер\n",
      "Е. Антимоний\n",
      "Джеймс Тобэк\n",
      "Томас Арслан\n",
      "Хидэаки Анно\n",
      "Торстен Клай\n",
      "О. Степченко\n",
      "А. Чернакова\n",
      "Шейн Салерно\n",
      "Майк Леонард\n",
      "Жером Энрико\n",
      "Эндрю Трауки\n",
      "А. Поженский\n",
      "Ф. Бондарчук\n",
      "В. Плотников\n",
      "Кеннет Брэна\n",
      "Хоми Аджаниа\n",
      "Зандор Йессе\n",
      "В. Минорский\n",
      "Тьерри Донар\n",
      "Джефф Ренфро\n",
      "А. Богатырев\n",
      "В. Сторожева\n",
      "Нимрод Антал\n",
      "Аньес Обадья\n",
      "Бобо Бёрманс\n",
      "Паоло Вирдзи\n",
      "Дэвид Добкин\n",
      "Клаудио Ноче\n",
      "В. Глаголева\n",
      "Майкл Куэста\n",
      "Пако Кабесас\n",
      "Габе Ибаньес\n",
      "Мария Саакян\n",
      "Майкл Спириг\n",
      "Ю. Вышинский\n",
      "Л. Агранович\n",
      "Т. Аленикова\n",
      "Билл Беннетт\n",
      "А. Стриженов\n",
      "Дэвид Дуглас\n",
      "Н. Арутюнова\n",
      "Питер Челсом\n",
      "Джером Сейбл\n",
      "А. Ибрагимов\n",
      "Э. Никогосян\n",
      "Билл Плимтон\n",
      "Соул Свиммер\n",
      "В. Щегольков\n",
      "Дороти Себба\n",
      "Эрик Ван Лой\n",
      "Оливье Накаш\n",
      "Надав Ширман\n",
      "А. Зингерман\n",
      "К. Сухарьков\n",
      "Дэвид Хэйтер\n",
      "М. Бальчюнас\n",
      "А. Звягинцев\n",
      "Серджо Бассо\n",
      "Люк Гринфилд\n",
      "Дэн Сан Пьер\n",
      "Джейк Касдан\n",
      "А. Розенберг\n",
      "Стивен Куэйл\n",
      "Д. Елеонский\n",
      "С. Никоненко\n",
      "И. Анненский\n",
      "Фрэнк Миллер\n",
      "Фред Скеписи\n",
      "М. Калатозов\n",
      "Мелани Лоран\n",
      "Винсент Чжоу\n",
      "Винко Брешан\n",
      "Энтони Фукуа\n",
      "Питер Муллан\n",
      "В. Пономарёв\n",
      "Эрик Инглэнд\n",
      "А. Адраникян\n",
      "Джастин Стил\n",
      "А. Андрианов\n",
      "Джеймс Моран\n",
      "А. Коручеков\n",
      "В. Хотиненко\n",
      "З. Аграненко\n",
      "Адам Робител\n",
      "Тоби Генкель\n",
      "И. Перекатов\n",
      "Джейк Шрейер\n",
      "Лора Пойтрас\n",
      "Джошуа Трэнк\n",
      "А. Грицаенко\n",
      "Азиф Кападиа\n",
      "Тарсем Сингх\n",
      "Н. Кудряшова\n",
      "Г. Нуриманов\n",
      "Нэнси Мейерс\n",
      "Роланд Жоффе\n",
      "М. Местецкий\n",
      "Майк Ван Дим\n",
      "Гейб Польски\n",
      "Виктор Левин\n",
      "Андре Сингер\n",
      "Кэри Мёрнион\n",
      "Б. Терекбаев\n",
      "Ф. Гэри Грей\n",
      "А. Балахонов\n",
      "А. Агаджанян\n",
      "В. Пономарев\n",
      "А. Анненский\n",
      "Л. Трофимова\n",
      "Адам Шиндлер\n",
      "Д. Изместьев\n",
      "Том Коркоран\n",
      "В. Ровенский\n",
      "Росс Венокур\n",
      "Йоаким Триер\n",
      "Тоби Бауманн\n",
      "Теренс Дэвис\n",
      "Мэттью Барни\n",
      "Стефан Бризе\n",
      "Джоди Фостер\n",
      "Вано Бурдули\n",
      "Майкл Мэдсен\n",
      "Сюзанна Уайт\n",
      "Дункан Джонс\n",
      "А. Русланова\n",
      "Луи Летеррье\n",
      "Алис Винокур\n",
      "А. Андризани\n",
      "Лиза Джонсон\n",
      "О. Субботина\n",
      "Джейсон Зада\n",
      "Карлос Саура\n",
      "А. Коваленко\n",
      "М. Кравченко\n",
      "Хидео Наката\n",
      "Алекс Пройас\n",
      "Эндрю Морган\n",
      "Райан Куглер\n",
      "Н. Бондарчук\n",
      "М. Михайлова\n",
      "Дэвид Листер\n",
      "Том Маккарти\n",
      "Е. Кравченко\n",
      "Келли Эсбери\n",
      "Е. Живайкина\n",
      "Ри Руссо-Янг\n",
      "Сильви Веред\n",
      "Пол Верховен\n",
      "Энди Теннант\n",
      "Антон Азаров\n",
      "Манук Депоян\n",
      "Гастон Дюпра\n",
      "Хатем Храиче\n",
      "Гилберт Кинг\n",
      "Синг-Чунг Фу\n",
      "Дэвид Лоуэри\n",
      "Энтони Пауэр\n",
      "Саймон Эбауд\n",
      "Ноэми Саглио\n",
      "Стэйси Тайтл\n",
      "Дэн Израэлит\n",
      "Джеймс Фоули\n",
      "Дени Вильнёв\n",
      "Гэвин Вьесен\n",
      "Уит Стиллман\n",
      "М. Свешников\n",
      "Джон Гамбург\n",
      "Синсуке Сато\n",
      "И. Слабневич\n",
      "Грег Моттола\n",
      "Николя Бедос\n",
      "Чан Ань Хунг\n",
      "Тобиас Вебер\n",
      "Терри Джордж\n",
      "Анна Ферстер\n",
      "А. Кузьминых\n",
      "К. Трофимова\n",
      "Ю. Матросова\n",
      "Мартен Прово\n",
      "Е. Абраменко\n",
      "В. Шевельков\n",
      "В. Татарский\n",
      "Тьерри Фремо\n",
      "А. Журавлева\n",
      "Марилу Берри\n",
      "К. Баскакова\n",
      "Чарльз Покел\n",
      "Кимо Стамбол\n",
      "Марк Уильямс\n",
      "Мари Мадинье\n",
      "Скотт Стюарт\n",
      "Доминик Сена\n",
      "Д. Боголепов\n",
      "Джесс Гордон\n",
      "Джон Мктиран\n",
      "Нэнси Майерс\n",
      "Л. Габриадзе\n",
      "Самуэль Маоз\n",
      "Марк Лоуренс\n",
      "Карин Кусама\n",
      "Майкл Ньюэлл\n",
      "Сэмюэл Байер\n",
      "Хава Эссуман\n",
      "Джордж Нолфи\n",
      "Бретт Ратнер\n",
      "Гейб Ибаньес\n",
      "Д. Ефремович\n",
      "Дрю Бэрримор\n",
      "И. Соловьева\n",
      "Саймон Уэллс\n",
      "Лука Ронкони\n",
      "Энди Тэннант\n",
      "Дэвид Маллет\n",
      "А. Адилханян\n",
      "В. Кущинский\n",
      "Густаво Кова\n",
      "А. Самойлова\n",
      "С. Дворцевой\n",
      "Ниа Вардалос\n",
      "Дэннис Дуган\n",
      "Мик Ван Дием\n",
      "Питер Доктер\n",
      "Кенни Ортега\n",
      "Е. Тирдатова\n",
      "Марк Романек\n",
      "Том Ди Чилло\n",
      "Джадд Апатов\n",
      "Аллен Колтер\n",
      "Л. Шалгачева\n",
      "Ю. Мерзляков\n",
      "Роджер Камбл\n",
      "К. Хрестинин\n",
      "Ник Стрингер\n",
      "Люк Крэссуэл\n",
      "Я. Трофимова\n",
      "Н. Березовая\n",
      "А. Балабанов\n",
      "В. Мариничев\n",
      "Деррик Борте\n",
      "Паскаль Вонг\n",
      "Браян Левант\n",
      "Е. Цыплакова\n",
      "Колин Штраус\n",
      "Джей Расселл\n",
      "Гэри Маршалл\n",
      "И. Пелинский\n",
      "Джо Джонстон\n",
      "Жанна Лабрюн\n",
      "С. Маховиков\n",
      "А. Драницына\n",
      "С. Насенкова\n",
      "Питер Хайамс\n",
      "Стив Одекерк\n",
      "Дэнни Лернер\n",
      "Эрик Лартиго\n",
      "Курт Мэттила\n",
      "В. Карабанов\n",
      "Сильвен Шомэ\n",
      "Пэт О'Коннор\n",
      "Ю. Афанасьев\n",
      "Гейбор Ксапо\n",
      "Ричард Келли\n",
      "Терри Звигоф\n",
      "Дэнни Девито\n",
      "Эндрю Дейвис\n",
      "М. Дворянкин\n",
      "А. Зельдович\n",
      "С. Амбросова\n",
      "Дэнни Гордон\n",
      "Майкл Дейвис\n",
      "Джон Симпсон\n",
      "Дейвид Тоухи\n",
      "Б. Бакурадзе\n",
      "З. Трофимова\n",
      "Н. Чернышева\n",
      "И. Черницкий\n",
      "Дэвид Вустер\n",
      "Крисс Миллер\n",
      "Ю. Лейдерман\n",
      "Гас Ван Сент\n",
      "Хэтти Далтон\n",
      "Тим Фельбаум\n",
      "Мэтью Чэпмен\n",
      "Дэнни Кэннон\n",
      "Лех Майевски\n",
      "Манс Марлинд\n",
      "Руперт Виатт\n",
      "Эрик Валетте\n",
      "Ричард Льюис\n",
      "Томас Безуча\n",
      "Уэсс Крэйвен\n",
      "В. Каминский\n",
      "Алекс Оруэлл\n",
      "Дебра Граник\n",
      "Д. Ж. Карузо\n",
      "Чарльз Шайер\n",
      "Э. Салаватов\n",
      "В. Мельников\n",
      "Мэнс Мэрлинд\n",
      "Дэвид Боуэрс\n",
      "Стефано Пода\n",
      "Бартлетт Шер\n",
      "Такэси Коикэ\n",
      "Майк Митчелл\n",
      "Кэмерон Кроу\n",
      "Антуан Томас\n",
      "Таня Уэкслер\n",
      "Р. Литвинова\n",
      "Майкл Хэгнер\n",
      "Н. Кузнецова\n",
      "Тони Леондис\n",
      "Гарри Клевен\n",
      "М. Мышанский\n",
      "Давид Гриеко\n",
      "Аманда Штерс\n",
      "А Андрющенко\n",
      "Дэни Вильнёв\n",
      "Дитер Бернер\n",
      "Рич Рэгсдэйл\n",
      "Эдуард Делюк\n",
      "Давид Алонсо\n",
      "Кеннет Брана\n",
      "Лоррэйн Леви\n",
      "В. Чигинский\n",
      "Тарек Будали\n",
      "К. Коваленко\n",
      "Джейда Торун\n",
      "Дэнни Стронг\n",
      "Майкл Грейси\n",
      "Лука Миньеро\n",
      "Максим Говар\n",
      "Салли Поттер\n",
      "Леонор Серай\n",
      "Стенли Туччи\n",
      "Аарон Соркин\n",
      "Лиза Лангсет\n",
      "Патрик Милле\n",
      "Алекс Оррель\n",
      "А. Амбросьев\n",
      "Питер Энтони\n",
      "Якуб Вронски\n",
      "В. Перельман\n",
      "Грета Гервиг\n",
      "Ава Дюверней\n",
      "Эрдал Сейлан\n",
      "Лаура Шредер\n",
      "Нэш Эдгертон\n",
      "Лиза Аддарио\n",
      "Патрик Имбер\n",
      "Жозе Падилья\n",
      "Леннарт Рафф\n",
      "Мишель Ларок\n",
      "К. Хабенский\n",
      "Энтони Руссо\n",
      "А. Новоселов\n",
      "М. Воробьева\n",
      "Д. Алейников\n",
      "М. Лиманский\n",
      "Фридрих Боэм\n",
      "А. Верещагин\n",
      "П. Сергацков\n",
      "Н. Веревкина\n",
      "А. Поздняков\n",
      "Франк Дюбоск\n",
      "Е. Астрецова\n",
      "С. Филиппова\n",
      "О. Белоусова\n",
      "Джефф Томсич\n",
      "С. Ермоленко\n",
      "Доминик Роше\n",
      "В. Семёновых\n",
      "Майкл Уинник\n",
      "Н. Михалкова\n",
      "М. Солошенко\n",
      "Томас Штубер\n",
      "Аниш Чаганти\n",
      "А. Марсакова\n",
      "А. Краевский\n",
      "Альберт Хьюз\n",
      "Хади Хаджэйг\n",
      "Оливер Дэйли\n",
      "Силвейн Уайт\n",
      "В. Приходько\n",
      "Джеймс Крамп\n",
      "А. Остапенко\n",
      "Е. Дворецкая\n",
      "Ромен Гаврас\n",
      "Н. Брусенцев\n",
      "А. Хачатурян\n",
      "Д. Кудрявцев\n",
      "С. Харчевина\n",
      "Кайл Райдаут\n",
      "А. Шустикова\n",
      "Клаудио Поли\n",
      "Е. Кашинцева\n",
      "А. Рудницкая\n",
      "Мэтью Каллен\n",
      "Н. Евстифеев\n",
      "Михаэль Ноер\n",
      "Даниель Отой\n",
      "Брэдли Купер\n",
      "Николя Ванье\n",
      "В. Янковский\n",
      "В. Локтионов\n",
      "Микеле Малли\n",
      "А. Почивалов\n",
      "Демиан Рунья\n",
      "Донован Марш\n",
      "С. Кирсанова\n",
      "Эндрю Боулер\n",
      "Фил Джонстон\n",
      "В. Макарихин\n",
      "Сэм Левинсон\n",
      "О. Арлаускас\n",
      "В. Тертышный\n",
      "О. Аверкиева\n",
      "Р. Янковский\n",
      "Скотт Моужер\n",
      "Н. Микрюкова\n",
      "Ю. Бердников\n",
      "В. Тимощенко\n",
      "Герман Васке\n",
      "В. Сидоренко\n",
      "А. Домогаров\n",
      "Г. Жихаревич\n",
      "Р. Карапетян\n",
      "В. Вохминцев\n",
      "Сара Драйвер\n",
      "Е. Дорофеева\n",
      "И. Затевахин\n",
      "С. Гарькавый\n",
      "К. Герасимов\n",
      "Гейб Клингер\n",
      "И. Красников\n",
      "Питер Хеджес\n",
      "Надин Лабаки\n",
      "А. Золотухин\n",
      "Н. Ведмицкая\n",
      "Тува Новотны\n",
      "Майкл Чимино\n",
      "Л. Геращенко\n",
      "С. Алякимова\n",
      "Монс Морлинд\n",
      "Энтони Марас\n",
      "Ана Урушадзе\n",
      "Бастер Китон\n",
      "Дженни Гейдж\n",
      "Тае Йонг Ким\n",
      "Катрин Филип\n",
      "Чания Баттон\n",
      "М. Агранович\n",
      "Оуэн Эгертон\n",
      "Крис Эддисон\n",
      "Лила Авильес\n",
      "А. Никифоров\n",
      "Микаэль Херс\n",
      "Г. Евтушенко\n",
      "Джордж Галло\n",
      "Хоао Пекенао\n",
      "Митали Гошал\n",
      "Оливье Мейру\n",
      "Роберт Будро\n",
      "Гейл Манкусо\n",
      "Ольга Львова\n",
      "Е. Логунцова\n",
      "Мэтт Аселтон\n",
      "Олег Маламуж\n",
      "Марк Веркерк\n",
      "Эндрю Раймер\n",
      "М. Айрапетов\n",
      "С. Ростоцкий\n",
      "Кейси Аффлек\n",
      "Келли Эсбёрн\n",
      "Гаррет Прайс\n",
      "Г. Сальников\n",
      "М. Мерзликин\n",
      "Мэтт Тирнаур\n",
      "Шеймус Мёрфи\n",
      "Алан Линдсэй\n",
      "Ник Брумфилд\n",
      "Зак Липовски\n",
      "М. Игнатенко\n",
      "Майкл Энглер\n",
      "Игорь Тувери\n",
      "Уэйн Робертс\n",
      "Патрик Брайс\n",
      "Джун Янг Йом\n",
      "Уэс Андерсен\n",
      "Джейк Кэздан\n",
      "Майкл Мелски\n",
      "Луи Валлекан\n",
      "А. Герасимов\n",
      "Адам Рэндолл\n",
      "В. Бедошвили\n",
      "Закари Адлер\n",
      "Кирби Аткинс\n",
      "Н. Карачкова\n",
      "Д. Григорьев\n",
      "Кевин Костнер\n",
      "В. Абдрашитов\n",
      "Джон Туртурро\n",
      "Пол Грингросс\n",
      "Боривой Земан\n",
      "Джонатан Кинг\n",
      "А. Тарковский\n",
      "Оливье Маршал\n",
      "Семен Туманов\n",
      "К. Шахназаров\n",
      "Джеймс Айвори\n",
      "Томми О'Хавер\n",
      "И. Киасашвили\n",
      "Франк Манкузо\n",
      "Крис Коламбус\n",
      "Виктор Сальва\n",
      "Шерон Магуайр\n",
      "Жан-Пьер Жене\n",
      "Владимир Дрга\n",
      "Н. Москаленко\n",
      "Питер Джексон\n",
      "Питер Гринуэй\n",
      "Хаяо Миядзаки\n",
      "Н. Ардашников\n",
      "Паскаль Ложье\n",
      "Тони Бэнкфорт\n",
      "Гарри Маршалл\n",
      "С. Эйзенштейн\n",
      "Пол Гринграсс\n",
      "Эндрю Адамсон\n",
      "Гэвин Грейзер\n",
      "Жерар Кравчик\n",
      "Джулия Тэймор\n",
      "Джим Гиллеспи\n",
      "Е. Андриканис\n",
      "Шон Макнамара\n",
      "Джон Хиллкоут\n",
      "Жаклин Шеффер\n",
      "Оливер Паркер\n",
      "Марио Мартоне\n",
      "Бренда Чапмен\n",
      "Вишес Бразерс\n",
      "Хуан Таратуто\n",
      "Николас Лопес\n",
      "Эндрю Стэнтон\n",
      "Маркус Грейвз\n",
      "Нима Нуризаде\n",
      "Катарина Оуэн\n",
      "Джеймс Мактиг\n",
      "Эрик Геновеси\n",
      "Филлида Ллойд\n",
      "Джереми Левин\n",
      "Оливье Накаша\n",
      "Реми Безансон\n",
      "Рубен Остлунд\n",
      "Уильям Бейкер\n",
      "М. Железников\n",
      "Данис Танович\n",
      "Шери Фольксон\n",
      "Саймон Кертис\n",
      "Джон Стоквелл\n",
      "Пабло Ларрайн\n",
      "Ульрих Зайдль\n",
      "Такеши Китано\n",
      "Гэри Трусдейл\n",
      "Хармони Корин\n",
      "Уолтер Саллес\n",
      "Райан Джонсон\n",
      "Мишель Франко\n",
      "Лана Вачовски\n",
      "Майкл Хоффман\n",
      "И. Квирикадзе\n",
      "Януш Жомболай\n",
      "Эйприл Маллен\n",
      "Лаура Моранте\n",
      "Ребекка Томас\n",
      "Патрис Леконт\n",
      "Джули Бенасра\n",
      "Джулия Локтев\n",
      "Марк Тондерай\n",
      "Квентин Дюпье\n",
      "Дэвид Фрэнкел\n",
      "Рубен Фляйшер\n",
      "Уле Борнедаль\n",
      "Эндрю Доминик\n",
      "Брэд Андерсон\n",
      "Лесли Хэдланд\n",
      "Роджер Мишелл\n",
      "Дик Каррутерс\n",
      "А. Войтинский\n",
      "Мамору Хосода\n",
      "Джастин Закэм\n",
      "Леоне Маруччи\n",
      "Г. Островский\n",
      "Джон Сталберг\n",
      "Роман Коппола\n",
      "П. Пархоменко\n",
      "Такао Окамура\n",
      "Филипп Леллуш\n",
      "Йоахим Лафосс\n",
      "Никхил Адвани\n",
      "Терренс Малик\n",
      "Роберт Карсен\n",
      "В. Москаленко\n",
      "Тодд Линкольн\n",
      "Эдуард Кортес\n",
      "Гленио Бондер\n",
      "К. Феоктистов\n",
      "Абель Феррара\n",
      "Стивен Чбоски\n",
      "А. Федорченко\n",
      "Брэдли Паркер\n",
      "Саша Джерваси\n",
      "Мэттью Эйкерс\n",
      "Брайан Сингер\n",
      "Фишер Стивенс\n",
      "А. Мегердичев\n",
      "Кимбл Рендалл\n",
      "Томми Виркола\n",
      "Джон Поликуин\n",
      "Джон Макилдаф\n",
      "Бенуа Делепин\n",
      "Кертис Хэнсон\n",
      "Кристоф Оноре\n",
      "А. Артамонова\n",
      "Керк Де Микко\n",
      "Стивен Эллиот\n",
      "Эндрю Флеминг\n",
      "Мариам Клеман\n",
      "Патрик Ротман\n",
      "Франсуа Ханнс\n",
      "О. Массарыгин\n",
      "Джон Стокуэлл\n",
      "С. Карандашов\n",
      "Д. Светозаров\n",
      "Майк Флэнеган\n",
      "Уолли Пфистер\n",
      "Ричард Айоади\n",
      "Скотт Макгихи\n",
      "М. Хлебородов\n",
      "Джэми Кастнер\n",
      "Раджа Госнелл\n",
      "Брайан Томсон\n",
      "Давид Бисбано\n",
      "Харольд Цварт\n",
      "Гор Вербински\n",
      "Джош Столберг\n",
      "Марк Лампрелл\n",
      "Кандида Бреди\n",
      "Т. Игуменцева\n",
      "Ричард Кертис\n",
      "Марк Ротемунд\n",
      "София Коппола\n",
      "С. Проскурина\n",
      "Рот Стромберг\n",
      "Ариэль Вромен\n",
      "Гийом Винсент\n",
      "Джон С. Бейрд\n",
      "Аарон Зельцер\n",
      "Марина Де Ван\n",
      "Макото Синкай\n",
      "Седрик Клапиш\n",
      "Н. Джорджадзе\n",
      "Гарет Эдвардс\n",
      "Квентин Дюпьё\n",
      "Росс Макгибон\n",
      "Бора Дагтекин\n",
      "Брайан Фогель\n",
      "Лим Пхиль Сон\n",
      "Николаз Лопез\n",
      "Бабак Наджафи\n",
      "Мишель Гондри\n",
      "Гор Киракосян\n",
      "Пабло Ларкуэн\n",
      "Гийом Гальенн\n",
      "Мария Фридман\n",
      "Кимберли Пирс\n",
      "Андрей Щербан\n",
      "А. Сеитаблаев\n",
      "Э. Радзюкевич\n",
      "Шуджит Сиркар\n",
      "Уолтер Турнье\n",
      "А. Федосеенко\n",
      "Кристиан Ламб\n",
      "Кристофер Боэ\n",
      "Серж Аведикян\n",
      "Ариэль Зейтун\n",
      "Дэниэль Стамм\n",
      "Фредерик Бонд\n",
      "Эван Голдберг\n",
      "Франциска Бух\n",
      "Аарон Кешалес\n",
      "Халлвар Витзо\n",
      "Фридерик Ченг\n",
      "Морган Невилл\n",
      "Джоэл Хопкинс\n",
      "Джейн Поллард\n",
      "Масаюки Отиай\n",
      "Хоакин Льямас\n",
      "Пер Ханефьорд\n",
      "Чад Стахелски\n",
      "А. Файнциммер\n",
      "Сэм Гарбарски\n",
      "А. Бобровский\n",
      "Кевин Гротерт\n",
      "Сергей Бодров\n",
      "А. Манасарова\n",
      "Виктор Гарсия\n",
      "Мигель Артета\n",
      "Л. Квинихидзе\n",
      "К. Поплавский\n",
      "Нил Макгрегор\n",
      "Казуаки Кирия\n",
      "Брайан Пойсер\n",
      "Таика Вайтити\n",
      "Б. Грачевский\n",
      "Дон Маккеллар\n",
      "Т. Воронецкая\n",
      "Дэмьен Шазелл\n",
      "Генри Бедуэлл\n",
      "Вэй Кеунг Лау\n",
      "Энтони Стакки\n",
      "П. Костомаров\n",
      "Азия Ардженто\n",
      "Оливье Ассаяс\n",
      "Г. Параджанов\n",
      "Джонатан Кент\n",
      "В. Толкачиков\n",
      "Биргер Ларсен\n",
      "Жан-Люк Годар\n",
      "Жан-Пьер Жёне\n",
      "Антон Корбайн\n",
      "Мишель Дэннер\n",
      "Джереми Джонс\n",
      "Дэниэл Шехтер\n",
      "Руперт Уайатт\n",
      "Дин Израэлайт\n",
      "Гленн Фикарра\n",
      "Серджо Манфио\n",
      "Дамиан Шифрон\n",
      "Шейн Аткинсон\n",
      "Вик Армстронг\n",
      "Б. Жамьянгийн\n",
      "Джафар Панахи\n",
      "Нанни Моретти\n",
      "Алик Моухибян\n",
      "Д. Штурманова\n",
      "С. Урусевский\n",
      "А. Пархоменко\n",
      "Джордж Миллер\n",
      "Петер Торварт\n",
      "Цунэо Кобаяси\n",
      "Маркус Ниспел\n",
      "Жамель Деббуз\n",
      "С. Пускепалис\n",
      "Трейвис Клафф\n",
      "Лео Габриадзе\n",
      "Александр Бах\n",
      "Баран Бо Одар\n",
      "Синдзи Хигути\n",
      "Ёлкин Туйчиев\n",
      "Елена Аршакян\n",
      "Р. Гарифуллин\n",
      "О. Смольников\n",
      "Рой Андерссон\n",
      "И. Джендубаев\n",
      "Дэн Фогельман\n",
      "Райан Гослинг\n",
      "Адриан Биньес\n",
      "Рубен Эстлунд\n",
      "Мэттью Уорчас\n",
      "Юнг Куюн Парк\n",
      "Пабло Фендрик\n",
      "Штефан Кромер\n",
      "Арман Марутян\n",
      "Антон Корбейн\n",
      "Тиан Сяо Пенг\n",
      "Афонсо Пойарт\n",
      "Пабло Троперо\n",
      "А. Рубинштейн\n",
      "Фузаль Булифа\n",
      "Т. Эверестова\n",
      "Роман Мушегян\n",
      "Питер Соллетт\n",
      "И. Найтшуллер\n",
      "А. Красовский\n",
      "Мадс Маттисен\n",
      "Бенжамин Роше\n",
      "Гэрри Маршалл\n",
      "И. Угольников\n",
      "Майкл Догерти\n",
      "Джей Блейксон\n",
      "Георгий Орлов\n",
      "Роб Леттерман\n",
      "Андрей Беляев\n",
      "Элла Лемхаген\n",
      "Марк Дакаскос\n",
      "И. Болотников\n",
      "Кодзи Шираиши\n",
      "Дрейк Доримус\n",
      "Феде Альварес\n",
      "Колм Маккарти\n",
      "Петер Бросенс\n",
      "И. Шахназаров\n",
      "И. Каграманов\n",
      "Александр Ажа\n",
      "Дито Монтиель\n",
      "Стивен Гейган\n",
      "Стивен Кантор\n",
      "Аарон Кауфман\n",
      "Конрад Вернон\n",
      "Робин Суикорд\n",
      "Эндрю Стентон\n",
      "Брэйди Корбет\n",
      "Майк Термайер\n",
      "Шелдон Уилсон\n",
      "Дениз Ди Нови\n",
      "Юхо Куосманен\n",
      "Николь Гарсия\n",
      "Андре Овредал\n",
      "Эллиот Лестер\n",
      "Лусия Аньелло\n",
      "Роберт Легато\n",
      "Брайан Гудман\n",
      "Джейсон Момоа\n",
      "Асгар Фархади\n",
      "Кейт Шортланд\n",
      "Джеймс Франко\n",
      "Доминик Молль\n",
      "И. Стороженко\n",
      "Р. Каргаполов\n",
      "Юэн Макгрегор\n",
      "Педро Морелли\n",
      "Шэрон Магуайр\n",
      "Н. Беляускене\n",
      "А. Молочников\n",
      "Пабло Ларраин\n",
      "А. Самохвалов\n",
      "Валерио Мьели\n",
      "Айван Райтман\n",
      "Джон Уайтселл\n",
      "Айвен Райтман\n",
      "Дональд Шебиб\n",
      "Патрик Люссье\n",
      "Йорген Лердам\n",
      "Паскаль Шомей\n",
      "Эндрю Морахан\n",
      "Пэдди Бретнэк\n",
      "Д. Сулейманов\n",
      "Роберт Уилсон\n",
      "Р. Нестеренко\n",
      "Джеф Треймейн\n",
      "Гела Баблуани\n",
      "А. Барщевский\n",
      "Шем Биттерман\n",
      "Джоэл Шумахер\n",
      "Йорма Такконе\n",
      "Е. Гроховская\n",
      "Скандер Копти\n",
      "М. Сулейманов\n",
      "Сильвэйн Уайт\n",
      "Даниэль Штамм\n",
      "В. Короленков\n",
      "Джон Харрисон\n",
      "Томас Бальмес\n",
      "Э. Давлетшина\n",
      "Дональд Петри\n",
      "Рассел Малкэй\n",
      "С. Айнутдинов\n",
      "Роберт Олтман\n",
      "Грэг Берланти\n",
      "В. Виноградов\n",
      "Билл Плимптон\n",
      "Дейвид Добкин\n",
      "Хэрольд Рэмис\n",
      "Лоренс Кэздан\n",
      "Фредерик Берт\n",
      "Саймон Уинсер\n",
      "Уильям Батлер\n",
      "Ричард Шепард\n",
      "Маркус Голлер\n",
      "Барбет Шрёдер\n",
      "Роджер Мичелл\n",
      "Кира Муратова\n",
      "Роланд Джоффе\n",
      "Эндрю Эдамсон\n",
      "М. Кондрикова\n",
      "В. Ивановская\n",
      "Стюарт Бейард\n",
      "Д. Дж. Карузо\n",
      "Ричард Доннер\n",
      "Жильбер Дефло\n",
      "Стив Бенделэк\n",
      "Дрейк Доремус\n",
      "Ксави Хименез\n",
      "Маркус Вайнер\n",
      "Мелисса Баттс\n",
      "Ричард Айоэйд\n",
      "Ола Симмонсон\n",
      "В. Кушнирович\n",
      "Джон Лассетер\n",
      "Жюльен Лякомб\n",
      "Бени Бернардт\n",
      "Мэтью Маскери\n",
      "Джон Синглтон\n",
      "Алекс Грегори\n",
      "Николь Кэссел\n",
      "А. Фон Боррис\n",
      "Саулюс Друнга\n",
      "Брюс Робинсон\n",
      "А. Колмогоров\n",
      "Брюс Э. Эванс\n",
      "Элиотт Лестер\n",
      "Вернер Херцог\n",
      "Мэрлин Агрело\n",
      "Майкл Кэтлман\n",
      "Анхель Грация\n",
      "Бибо Бержерон\n",
      "Стив Гебхардт\n",
      "Сидней Поллак\n",
      "Бретт Симмонс\n",
      "Д. Поволоцкий\n",
      "Майкл Редфорд\n",
      "Макато Синкай\n",
      "Доминик Абель\n",
      "Кэри Фукунага\n",
      "Эндрю С. Эрин\n",
      "Джей Барушель\n",
      "Билл Джирхарт\n",
      "Джорджо Амато\n",
      "Симоне Годано\n",
      "Саймон Кёртис\n",
      "А. Петровская\n",
      "Г. Коломийцев\n",
      "Чарльз Мартин\n",
      "Хольгер Таппи\n",
      "Тайка Вайтити\n",
      "Орен Муверман\n",
      "Адриан Молина\n",
      "А. Х. Песонен\n",
      "Мэтт Драммонд\n",
      "Рафаэль Рибас\n",
      "Сьюзен Уолтер\n",
      "Роберт Энрико\n",
      "Дэннис Барток\n",
      "Ф. Фархшатова\n",
      "Симен Альсвик\n",
      "А. Черномазов\n",
      "Николас Ванье\n",
      "А. Котёночкин\n",
      "Д. Козловский\n",
      "Крис Дженкинс\n",
      "Аскар Узабаев\n",
      "Филипп Волкен\n",
      "С. Григорьева\n",
      "К. Малкин-Фам\n",
      "Н. Мещанинова\n",
      "М. Кузовенков\n",
      "Г. Якубовский\n",
      "А. Чеботарева\n",
      "Г. Заозёрский\n",
      "И. Волосецкий\n",
      "Е. Безбородов\n",
      "Стэнли Кубрик\n",
      "Карлус Диегос\n",
      "Яне Магнуссон\n",
      "Дэвид Зеллнер\n",
      "Брайан Хенсон\n",
      "Т. Семенченко\n",
      "Исида Хироясу\n",
      "Г. Болдугеров\n",
      "Мэнди Флетчер\n",
      "А. Цыренжапов\n",
      "О. Гончаренко\n",
      "Д. Семибратов\n",
      "Рубен Флейшер\n",
      "Мамора Хосода\n",
      "К. Серебряков\n",
      "А. Турчанинов\n",
      "Э. Габидуллин\n",
      "Томас Граскур\n",
      "Такуя Игараси\n",
      "Мила Онг-Твин\n",
      "Вэйшали Синха\n",
      "Мат Уайткросс\n",
      "Я. Хальпукова\n",
      "А. Праздников\n",
      "Эндрю Десмонд\n",
      "Е. Бронникова\n",
      "Отто Батхёрст\n",
      "Аркадий Коган\n",
      "А. Сайфуллина\n",
      "Жиль Де Местр\n",
      "С. Раздорский\n",
      "Антони Кордье\n",
      "Николас Песке\n",
      "Митци Пейроне\n",
      "О. Барковская\n",
      "Патрик Кассир\n",
      "Майкл Митчелл\n",
      "С. Сильвертон\n",
      "М. Волчанская\n",
      "С. Андрианова\n",
      "Рашид Бушареб\n",
      "Мэтт Хейнеман\n",
      "В. Фанасютина\n",
      "Гильермо Иван\n",
      "Я. Варлашкина\n",
      "А. Боровикова\n",
      "Анне Севитски\n",
      "Джейсон Стоун\n",
      "Деннис Хоппер\n",
      "Роберт Эггерс\n",
      "Люк Лорентцен\n",
      "Джордан Дауни\n",
      "Фарад Сафиниа\n",
      "Пит Де Риккер\n",
      "Мэй Аль-Тукхи\n",
      "Джо Берлингер\n",
      "Эмилио Портес\n",
      "Антонин Бодри\n",
      "Грант Спьютор\n",
      "Макс Мингелла\n",
      "Стэйси Пассон\n",
      "Ринат Газизов\n",
      "В. Лисневский\n",
      "Ларс Клевберг\n",
      "Гари Доберман\n",
      "Джон Херцфелд\n",
      "Танигути Горо\n",
      "Клэр Маккарти\n",
      "Дэвид Махмуди\n",
      "Амели Равалек\n",
      "Герард Квинто\n",
      "Лукас Бернард\n",
      "Кевин Джонсон\n",
      "Дэвид Рэймонд\n",
      "Джакомо Гатти\n",
      "Энди Мускетти\n",
      "Юхэй Сакураги\n",
      "Арно Деплешен\n",
      "П. Ольденбург\n",
      "Т. Андрианова\n",
      "Аюму Ватанабэ\n",
      "Патриша Уитли\n",
      "Жослин Дебоэр\n",
      "Селин Скьямма\n",
      "Рейчел Хиронс\n",
      "Ванесса Фильо\n",
      "Анхель Алонсо\n",
      "Чарльз Чаплин\n",
      "О. Городецкая\n",
      "Дэвид Холройд\n",
      "Фредерик Ченг\n",
      "Мартин Шрейер\n",
      "Мумин Шакиров\n",
      "Азиз Джиндани\n",
      "О. Степанцова\n",
      "Эдвард Нортон\n",
      "Артем Лукичев\n",
      "Л. Соломатина\n",
      "М. Туманишвили\n",
      "Даниэль Робишо\n",
      "Грегори Хоблит\n",
      "Иоахим Реннинг\n",
      "Н. Трахтенберг\n",
      "Г. Александров\n",
      "Матьё Кассовиц\n",
      "Роберт Лукетич\n",
      "Ник Кассаветис\n",
      "Михаэль Ханеке\n",
      "Томми О'Хэйвер\n",
      "Уильям Фридкин\n",
      "П. Тодоровский\n",
      "Джон Шлезингер\n",
      "Харольд Бэккер\n",
      "Райан Эслингер\n",
      "Марк С. Уотерс\n",
      "Кэтрин Бигелоу\n",
      "Джесси Джонсон\n",
      "Уильям Монахэн\n",
      "Филипп Гаррель\n",
      "Джон Карпентер\n",
      "Энтони Дибласи\n",
      "Дэвид Маквикар\n",
      "Стюарт Маундер\n",
      "Руперт Сандерс\n",
      "Дэвид Маккензи\n",
      "Мартин Валенте\n",
      "Стефан Рибожад\n",
      "Жан-Марк Валли\n",
      "Антонио Негрет\n",
      "Джеймс Камерон\n",
      "Джейсон Айзнер\n",
      "Йен Фитцгиббон\n",
      "Дермот Малруни\n",
      "Александр Пэйн\n",
      "Джеймс Уоткинс\n",
      "Эммануэль Муре\n",
      "Оливье Моршаль\n",
      "Джейсон Ритмэн\n",
      "Марк Невелдайн\n",
      "Клод Нуридзани\n",
      "Дункан Макнили\n",
      "Стефан Эллиотт\n",
      "Мортен Тильдум\n",
      "Эрни Барабараш\n",
      "Магнус Мартенс\n",
      "Питер Темплмен\n",
      "Лукас Мудиссон\n",
      "Элисон Клэймен\n",
      "Майкл Гринспен\n",
      "Дастин Хоффман\n",
      "Р. Давлетьяров\n",
      "Русудан Чкония\n",
      "Мартин Макдона\n",
      "Давид Феррарио\n",
      "Каллэн Брункер\n",
      "Рюхэй Китамура\n",
      "Гэри Траусдейл\n",
      "Хоаким Роннинг\n",
      "Аки Каурисмяки\n",
      "Наоёси Сиотани\n",
      "Филипп Штёльцл\n",
      "Роберт Земекис\n",
      "Оливье Мегатон\n",
      "Сергей Лозница\n",
      "Окиура Хироюки\n",
      "Оливье Ассайас\n",
      "Джоэл Потрикус\n",
      "Малкольм Д. Ли\n",
      "Изуру Нарушима\n",
      "Роберт Швентке\n",
      "Тьерри Гиллиам\n",
      "К. Лопушанский\n",
      "Лорен Скафария\n",
      "Кодзи Вакамацу\n",
      "Брайан Клагман\n",
      "Маркус Данстен\n",
      "Джулиан Фарино\n",
      "Ферзан Оспетек\n",
      "Мишель Таверна\n",
      "Начо Вигалондо\n",
      "Родриго Кортес\n",
      "Сет Макфарлейн\n",
      "Арам Раппапорт\n",
      "Стивен Сильвер\n",
      "Жалиль Леспере\n",
      "Доминик Тьелль\n",
      "Эдуардо Санчес\n",
      "Анджелп Беттис\n",
      "Паскаль Эрольд\n",
      "Эдуардо Шульдт\n",
      "Джонатан Левин\n",
      "Тэйлор Хэкфорд\n",
      "Джон Льюсенхоп\n",
      "Джейми Брэдшоу\n",
      "Паскаль Шомель\n",
      "В. Криштофович\n",
      "Джим Филд Смит\n",
      "Эндрю О'Коннор\n",
      "Маттео Гарроне\n",
      "Дестин Креттон\n",
      "Карлос Салдана\n",
      "Джалиль Леспер\n",
      "Каспер Хольтен\n",
      "И. Белостоцкий\n",
      "Джулиан Джилби\n",
      "Стефан Херхейм\n",
      "Тэнгай Дейрейн\n",
      "Елена Тихонова\n",
      "Джеймс Мэнголд\n",
      "Ларс Фон Триер\n",
      "Росс Макгиббон\n",
      "Аббадо Даниэле\n",
      "Миккель Нёргор\n",
      "Кристофер Карр\n",
      "С. Подгаевский\n",
      "Ясухиро Есиура\n",
      "Сельма Вилунен\n",
      "Джимми Хейуорд\n",
      "Якоб Розенберг\n",
      "А. Сильвестров\n",
      "Фарид Гумбатов\n",
      "Жан-Марк Валле\n",
      " Моники Мейсон\n",
      "Роланд Эммерих\n",
      "Саньтяго Занно\n",
      "Мишель Леклерк\n",
      "Дэннис Илиадис\n",
      "Доме Карукоски\n",
      "В. Соколовский\n",
      "Энди Де Эммони\n",
      "Тод Фреденталь\n",
      "В. Моргенштерн\n",
      "Захари Донохью\n",
      "Карлес Торренс\n",
      "Джефф Треймейн\n",
      "Синдзи Арамаки\n",
      "Морган Спарлок\n",
      "Тим Ван Даммен\n",
      "Джон Ли Хэнкок\n",
      "Джей Си Чендор\n",
      "Роман Полански\n",
      "А. Велединский\n",
      "Акива Голдсман\n",
      "Майкл Бартлетт\n",
      "Джордж С. Волф\n",
      "Даниэл Аугусту\n",
      "Микаэл Саломон\n",
      "Бенжамин Гуэди\n",
      "Евгений Дербез\n",
      "Бобби Фаррелли\n",
      "Виченте Аморим\n",
      "Т. Бекмамбетов\n",
      "Барри Левинсон\n",
      "Беннетт Миллер\n",
      "Брайан Хориути\n",
      "Грачья Кешишян\n",
      "И. Котельников\n",
      "И. Твердовский\n",
      "Мартин Уильямс\n",
      "Джастин Бенсон\n",
      "Н. Сайфуллаева\n",
      "Лассе Халстром\n",
      "Амат Эскаланте\n",
      "Николас Бенаму\n",
      "Сакет Чаудхари\n",
      "Скот Армстронг\n",
      "Дженнифер Кент\n",
      "Т. Березанцева\n",
      "Б. Метальников\n",
      "Митчелл Алтери\n",
      "Даниэль Бурман\n",
      "Седрик Хименес\n",
      "А. Берденников\n",
      "С. Эйзенштейна\n",
      "Джулиус Эйвери\n",
      "Элизабет Бэнкс\n",
      "Губерт Вайланд\n",
      "Рикардо Арнаиз\n",
      "Маржан Сатрапи\n",
      "Рон Скальпелло\n",
      "Тони Макнамара\n",
      "Джонатан Демме\n",
      "Дэвид С. Гойер\n",
      "Бенуа Филиппон\n",
      "Джон Фулджеймс\n",
      "Джоэл Эдгертон\n",
      "Арнольд Гискин\n",
      "Джэймс Кэмерон\n",
      "Рето Салимбени\n",
      "Е. Перволовичи\n",
      "Акош Барноцкий\n",
      "Клаудио Уберти\n",
      "Ижинио Страффи\n",
      "Жан-Мари Пуаре\n",
      "Роберт Карлайл\n",
      "Иван Джерголет\n",
      "Пьетро Паролин\n",
      "О. Столповская\n",
      "Отар Иоселиани\n",
      "Клаудиа Майерс\n",
      "Артур Бензакен\n",
      "А. Томашевский\n",
      "Крэйг Гиллеспи\n",
      "С. Крэйг Залер\n",
      "Джесси Нельсон\n",
      "Гэвин О'Коннор\n",
      "М. Левитин Мл.\n",
      "Алиса Хазанова\n",
      "Кристиан Сесма\n",
      "Кайжайр Акопян\n",
      "Маджид Маджиди\n",
      "Эрик Д. Хауэлл\n",
      "Деннис Ганзель\n",
      "Сидней Сибилиа\n",
      "Дэвин Дихэйвен\n",
      "Дэвид Кэмпбэлл\n",
      "Джон Клацкевич\n",
      "Пэтти Дженкинс\n",
      "Стивен Хопкинс\n",
      "Родриго Гарсия\n",
      "Паскаль Бурдьо\n",
      "Сэм Фридлендер\n",
      "Ди Джей Карузо\n",
      "Джейк Зимански\n",
      "Семёнова О. А.\n",
      "А. Лукьянчиков\n",
      "Йоаким Реннинг\n",
      "Элинор Коппола\n",
      "Эмир Кустурица\n",
      "Майкл Грандадж\n",
      "Джошуа Марстон\n",
      "Стефани Робели\n",
      "Садык Шер-Нияз\n",
      "Алекс Куртцман\n",
      "В. Тодоровский\n",
      "Гарт Дженнингс\n",
      "Стюарт Хендлер\n",
      "Маркус Дэнстон\n",
      "Барри Дженкинс\n",
      "Каспер Барфоэд\n",
      "Дэвид Френкель\n",
      "М. Расходников\n",
      "В. Огородников\n",
      "Брюс Бересфорд\n",
      "В. Дубровицкий\n",
      "Джеймс Кэмерон\n",
      "К. Котельников\n",
      "Сэм Тейлор Вуд\n",
      "Кэтрин Хардвик\n",
      "Зенке Вортманн\n",
      "Джон Тертлтауб\n",
      "А. Джунковский\n",
      "Карлос Саладна\n",
      "Рейнхард Клоос\n",
      "Рассел Малкэхи\n",
      "Дэвид Макнелли\n",
      "Стефен Соммерс\n",
      "Матье Амальрик\n",
      "Ларри Вачовски\n",
      "Тейлор Хекфорд\n",
      "Рэйджа Госнелл\n",
      "С. Кальварский\n",
      "Катрин Корсини\n",
      "Оливье Маршаль\n",
      "Дэниэль Монзон\n",
      "Леси Халлстрем\n",
      "М. Коновальчук\n",
      "Мартин Кэмпбэл\n",
      "Кэтлин Бельхер\n",
      "Микеле Плачидо\n",
      "Грегор Джордан\n",
      "Андреа Арнольд\n",
      "Месси Таджедин\n",
      "Джон А. Дэйвис\n",
      "Керн Конвайзер\n",
      "Паскаль Пузаду\n",
      "Кевин Рейнолдс\n",
      "Кевин Гройтерт\n",
      "Кэтрин Хардуик\n",
      "Фрэнк Дарабонт\n",
      "Энтони Леондис\n",
      "А. Хмельницкая\n",
      "Эллори Элкайем\n",
      "Джеймс Мактэйг\n",
      "Федерико Тицци\n",
      "Аннабель Арден\n",
      "Пипилотти Рист\n",
      "Маркус Вельтер\n",
      "Жан-Пьер Амери\n",
      "Дэвид Р. Эллис\n",
      "Бени Бернхардт\n",
      "Гэри Маккендри\n",
      "Дуглас Макграт\n",
      "Миранда Джулай\n",
      "Такаши Ямазаки\n",
      "Грэг Мэнваринг\n",
      "Давид Фонкинос\n",
      "Оливер Хорлайт\n",
      "Ронан Чапалайн\n",
      "Гарольд Беккер\n",
      "Роберт Редфорд\n",
      "А. Соболевский\n",
      "Николай Арсель\n",
      "Тейлор Шеридан\n",
      "Уильям Олдройд\n",
      "Пьер Зандрович\n",
      "Джастин Чадвик\n",
      "Кэллан Брункер\n",
      "Ильдико Эньеди\n",
      "Хани Абу-Ассад\n",
      "Джейсон Тиссен\n",
      "Филипп Фалардо\n",
      "Эммануэль Амон\n",
      "Анастасия Дыро\n",
      "И. Шурховецкий\n",
      "Трэвис Заривны\n",
      "Е. Грамматиков\n",
      "Донато Карризи\n",
      "А. Протоковило\n",
      "Николай Фьюлси\n",
      "Джон Стивенсон\n",
      "И. Шерстобитов\n",
      "Аличе Рорвахер\n",
      "Хауме Балагеро\n",
      "Джереми Дайсон\n",
      "И. Евланникова\n",
      "Бландин Ленуар\n",
      "Андрес Кутерье\n",
      "А. Залдастанов\n",
      "Билл Холдермэн\n",
      "Лоуренс Фаулер\n",
      "Р. Гиматдинова\n",
      "Кристиан Дюгей\n",
      "Элайджа Байнум\n",
      "Джон Тёртлтауб\n",
      "Кевин Коннолли\n",
      "Сузанна Фогель\n",
      "В. Кильчевская\n",
      "С. Воронежский\n",
      "Панос Косматос\n",
      "Мэттью М. Росс\n",
      "Изабель Койшет\n",
      "Жюльен Леклерк\n",
      "А. Судиловский\n",
      "Камаль Бансаль\n",
      "Д. Гусельников\n",
      "А. Голубовский\n",
      "Е. Шереметьева\n",
      "Н. Пиотровский\n",
      "К. Красноперов\n",
      "Сантьяго Лимон\n",
      "Уош Уэстмоленд\n",
      "О. Броневицкая\n",
      "Е. Севастьянов\n",
      "Джордж Рэтлифф\n",
      "Боб Персичетти\n",
      "Д. Цибаускайте\n",
      "Питер Фаррелли\n",
      "Хеннинг Кастен\n",
      "Асаф Бернштейн\n",
      "А. Сахелашвили\n",
      "Анна Соловьева\n",
      "А. Шемятовский\n",
      "Патрисия Уитли\n",
      "П. Солдатенков\n",
      "Понгса Корнсри\n",
      "Лучано Лигабуэ\n",
      "Лайонел Стекти\n",
      "Андреас Дрезен\n",
      "Такахиро Омори\n",
      "Карлос Каррера\n",
      "Питер Хатчингс\n",
      "А. Хржановский\n",
      "Д. Великовская\n",
      "Джош Аппелбаум\n",
      "С. Струсовский\n",
      "Ю. Забурьянный\n",
      "Эспен Сандберг\n",
      "Л. Арчидиаконо\n",
      "Милорад Крстич\n",
      "Пия Хелленталь\n",
      "Д. Былинушкина\n",
      "Ладислас Шолла\n",
      "Джереми Люттер\n",
      "Дэвид Яровецки\n",
      "Лизе И. Осволл\n",
      "Саймон Кинберг\n",
      "Денис Червяцов\n",
      "Иван Кальберак\n",
      "Джиджи Рокатти\n",
      "Сергей Гордеев\n",
      "Дарио Ардженто\n",
      "Райан Белгхарт\n",
      "Амели Ван Элбт\n",
      "Майкл С. Ойеда\n",
      "Фархат Шарипов\n",
      "Л. Искандерова\n",
      "Алексей Козлов\n",
      "Антуан Блоссье\n",
      "Анна Аревшатян\n",
      "Маноло Мунгуйя\n",
      "Кэндзи Камияма\n",
      "Хироюки Имаиси\n",
      "Йоаким Роннинг\n",
      "Валерия Паризи\n",
      "Сальвадор Симо\n",
      "Лорин Скафария\n",
      "Барт Фрейндлих\n",
      "Каллен Брункер\n",
      "Тодд Вилдерман\n",
      "Джереми Деллер\n",
      "Андрей Гринько\n",
      "Джейсон Кэбелл\n",
      "Тайлер Нильсен\n",
      "Джузеппе Стази\n",
      "Уильям Кауфман\n",
      "Харука Фудзита\n",
      "Хади Мохамадян\n",
      "О. Арлаускайте\n",
      "Зёнке Вортманн\n",
      "Виктор Флеминг\n",
      "Симона Костова\n",
      "Лассе Халлстрем\n",
      "Альфонсо Куарон\n",
      "Ди. Джи. Карузо\n",
      "Марк Пеллингтон\n",
      "Вадим Перельман\n",
      "Джейсон Рейтман\n",
      "Мартин Кемпбелл\n",
      "В. Каплуновский\n",
      "Кристофер Нолан\n",
      "Мартин Кэмпбелл\n",
      "Брэд Силберлинг\n",
      "Брюно Подалидес\n",
      "Стивен Спилберг\n",
      "Кристиан Клавье\n",
      "Фредерик Жарден\n",
      "С. Дж. Кларксон\n",
      "Николас Столлер\n",
      "Дэниэл Эспиноза\n",
      "Пэдди Консидайн\n",
      "Хеннинг Карлсен\n",
      "Франсиз Нильсен\n",
      "Дэниэль Нетхейм\n",
      "Адриан Грюнберг\n",
      "Уильям Кентридж\n",
      "Анджелина Джоли\n",
      "Кристиан Швохов\n",
      "Тосиюки Кубоока\n",
      "Уберто Пазолини\n",
      "Саймон Верховен\n",
      "Джейсон Рэйтман\n",
      "Эммануэль Берко\n",
      "Эд Гасс-Донелли\n",
      "Валери Донзелли\n",
      "Джозеф Косински\n",
      "Кирстен Шеридан\n",
      "Тизнано Манчини\n",
      "Ия Питера Райта\n",
      "Паскаль Арнольд\n",
      "Скотт Дерриксон\n",
      "Дэниэл Фриделль\n",
      "Бертран Бонелло\n",
      "Андрес Мускетти\n",
      "А. Карпиловский\n",
      "Карлос Рейгадас\n",
      "Г. Долматовская\n",
      "Тизиано Манчини\n",
      "Джонатан Дейтон\n",
      "Иджинио Страффи\n",
      "Роберт Гэннавэй\n",
      "Тео Ангелопулос\n",
      "Дерек Сьянфранс\n",
      "Джеймс Демонако\n",
      "Такаши Ямадзаки\n",
      "Фернандо Молина\n",
      "Тимо Вуоренсола\n",
      "Жофрей Энтховен\n",
      "Цутому Ханабуса\n",
      "Николас Джареки\n",
      "Кэтрин Бингелоу\n",
      "Мартин Скорсезе\n",
      "Колин Треворроу\n",
      "Стефано Салвати\n",
      "Винсент Паронно\n",
      "Беппе Де Томази\n",
      "Морис Бартелеми\n",
      "В. Мухаметзянов\n",
      "Роберт Родригес\n",
      "Б. Худойназаров\n",
      "Рафаэль Фридман\n",
      "Френсис Лоуренс\n",
      "Джеймс Гриффитс\n",
      "Роберт Б. Уайде\n",
      "Оливер Жан-Мари\n",
      "Эмманюэль Берко\n",
      "Джеффри Фридман\n",
      "Стивен Р. Монро\n",
      "Джеффри Флетчер\n",
      "Рейнир Лингдаль\n",
      "Тристан Сегуэла\n",
      "Том Ван Авермат\n",
      "Вольфганг Гроос\n",
      "Джон Тёртелтауб\n",
      "Камиль Деламарр\n",
      "Р. Салахутдинов\n",
      "Абделатиф Кешиш\n",
      "Дебора Андерсон\n",
      "Энтони Марсиано\n",
      "Себастьян Лелио\n",
      "Сесиль Телерман\n",
      "Йохан Нийенхейс\n",
      "Винченцо Натали\n",
      "Джейсон Айзенер\n",
      "Стивен Лангридж\n",
      "Франсис Нильсен\n",
      "Симон Бартесаги\n",
      "Питер Ландесман\n",
      "Райнхард Клоосс\n",
      "Филипп Штёльцль\n",
      "Филипп Аппиетто\n",
      "Джонатан Инглиш\n",
      "Мануэль Сисилия\n",
      "Майкл Алмерейда\n",
      "Кшиштоф Занусси\n",
      "Тьерри Рагоберт\n",
      "Александр Астье\n",
      "Пьер Сальвадори\n",
      "Саймон Дж. Смит\n",
      "Мартин Ле Галль\n",
      "Р. Джей. Катлер\n",
      "Дастин Гай Дэфа\n",
      "Борис Альинович\n",
      "Сарик Андреасян\n",
      "Джейк Армстронг\n",
      "Уильям Дикерсон\n",
      "Алистер Сиддонс\n",
      "Вич Каосаянанда\n",
      "Хорхе Гутьеррес\n",
      "Даниэль Бенмаур\n",
      "Аллан Голдстайн\n",
      "Кристиан Диттер\n",
      "Джон Эрик Даудл\n",
      "Роберт Ганнэвей\n",
      "Питер Стрикленд\n",
      "Хорхе С. Дорадо\n",
      "Хэмиш Гамильтон\n",
      "Жауме Балагуэро\n",
      "А. Кончаловский\n",
      "Е. Зильберштейн\n",
      "Стефано Лоренци\n",
      "Ялмари Хеландер\n",
      "Норберт Хайткер\n",
      "Стефан Либерски\n",
      "Халлвард Браэин\n",
      "Яннис Смарагдис\n",
      "Р. Гигинеишвили\n",
      "Грегори Плоткин\n",
      "Джонни О'Райлли\n",
      "Милчо Манчевски\n",
      "Масахико Мурата\n",
      "Мартин Бурбулон\n",
      "Джастин Курзель\n",
      "Альберт Майзелс\n",
      "Симон Ферхоэвен\n",
      "С. Мирошниченко\n",
      "Жан-Поль Раппно\n",
      "Вильям Де Витал\n",
      "Джерика Клилэнд\n",
      "Дэн Трактенберг\n",
      "Стефано Инчерти\n",
      "Роландо Равелло\n",
      "Давиде Феррарио\n",
      "Ксавье Джанноли\n",
      "Лука Гуаданьино\n",
      "Декстер Флетчер\n",
      "Майкл Дж. Сарна\n",
      "Марко Беллоккио\n",
      "Франсуа Бриссон\n",
      "Дэвид О. Рассел\n",
      "Кеннет Лонерган\n",
      "Сирил Барбанкон\n",
      "Паоло Дженовезе\n",
      "Джанфранко Рози\n",
      "Джослин Мурхаус\n",
      "Стивен Шейнберг\n",
      "Катерина Кароне\n",
      "Д. Золототрубов\n",
      "А. Арпеньтеньер\n",
      "Марио Ван Пиблз\n",
      "Мартин Кулховен\n",
      "Франк Гастамбид\n",
      "Фернандо Труэба\n",
      "М. Ван Айертрик\n",
      "Джефф Цимбалист\n",
      "Мартен Бурбулон\n",
      "Джонатан Мостоу\n",
      "Ю. Суходольский\n",
      "Дерек Сиенфрэнс\n",
      "Фабио Бонифаччи\n",
      "Бенедикт Эндрюс\n",
      "Антонио Капуано\n",
      "А. Попогребский\n",
      "Кристиан Алварт\n",
      "Дэвид О'Расселл\n",
      "Тошикадзу Нагаэ\n",
      "Дэйвид Р. Эллис\n",
      "Дейвид Макнэлли\n",
      "Е. Кончаловский\n",
      "Кристиан Молина\n",
      "Нанетт Бурстайн\n",
      "Микаэль Саломон\n",
      "Йоахим Роуннинг\n",
      "Мика Каурисмяки\n",
      "Фернандо Труэбо\n",
      "Жюли Бертучелли\n",
      "Паскаль Бурдиак\n",
      "Берни Маттинсон\n",
      "Дениэл Эспиноза\n",
      "А. Стемпковский\n",
      "Джон Х. Уильямс\n",
      "Джон Льюссенхоп\n",
      "Инжинио Страффи\n",
      "Майкл Кристофер\n",
      "Дэвид Аттенборо\n",
      "Раду Михайлеану\n",
      "Роберт Куртцман\n",
      "Мигель Сапочник\n",
      "Кевин Танчароэн\n",
      "Дейвид Р. Эллис\n",
      "Ричард Лонкрейн\n",
      "Ф. Ибрагимбеков\n",
      "Джордж С. Вульф\n",
      "Энтони Мингелла\n",
      "Анжела Робинсон\n",
      "Джонатан Миллер\n",
      "Николай Ленхофф\n",
      "М. Ибрагимбеков\n",
      "Джеймс Л. Брукс\n",
      "Алистер Грирсон\n",
      "И. Коробейников\n",
      "Карла Лиа Монти\n",
      "Эми Канаан Манн\n",
      "Элайджа Дреннер\n",
      "Фрэнсис Лоуренс\n",
      "Стефан Лангридж\n",
      "Марина Кунарова\n",
      "Серджи Визкайно\n",
      "Ж. Бадмацыренов\n",
      "Андреа Андерман\n",
      "Федерико Тьеззи\n",
      "Филлип Джей Рот\n",
      "Роберто Снейдер\n",
      "Марк Циммерманн\n",
      "Энтони Дж. Коэн\n",
      "Лукино Висконти\n",
      "Цзянь Мин Хуанг\n",
      "Кристиан Карион\n",
      "Виталий Манский\n",
      "Лайам О'Доннелл\n",
      "Джонатан Дэйтон\n",
      "Карстен Килерих\n",
      "Жан-Стефан Брон\n",
      "А. Богуславский\n",
      "Джейсон Флеминг\n",
      "Людвиг Шаммасян\n",
      "С. С. Раджамули\n",
      "Гектор Эрнандес\n",
      "Йоргос Лантимос\n",
      "Джон Красинский\n",
      "Брайан О. Мэлли\n",
      "Дженнифер Пидом\n",
      "Стефано Соллима\n",
      "Джейсон Райтман\n",
      "Максим Арбугаев\n",
      "Гильермо Амоедо\n",
      "Ж. Бекмамбетова\n",
      "Джонатан Бэйкер\n",
      "Кловис Корнийяк\n",
      "Даниэле Лукетти\n",
      "Хлинюр Палмасон\n",
      "Кэри Киркпатрик\n",
      "Ю. Горбачевская\n",
      "А. Коновальцева\n",
      "И. Сарахатунова\n",
      "Франческо Мунци\n",
      "Кристиан Риверс\n",
      "Мачией Лиговски\n",
      "Сара Коланджело\n",
      "Джованни Троило\n",
      "Р. Шарафутдинов\n",
      "А. Красильщиков\n",
      "Джулиан Шнабель\n",
      "М. Абдулкадыров\n",
      "Е. Трапезникова\n",
      "Анатолий Иванов\n",
      "Джастин Типпинг\n",
      "Антонио Падован\n",
      "Алексис Михалик\n",
      "Франсуа Дезанья\n",
      "Адам Макдональд\n",
      "Габриела Пихлер\n",
      "Стивен Вутерлуд\n",
      "Хьюберт Вейланд\n",
      "Шрирам Рагхаван\n",
      "Дэниэл Фаррандс\n",
      "Риккардо Милани\n",
      "Питер Стриклэнд\n",
      "Кия Роуч-Тернер\n",
      "Йоахим Масаннек\n",
      "Туроп Ван Орман\n",
      "Кацуси Сакураби\n",
      "Бертран Банелло\n",
      "Джонатан Макхью\n",
      "Масаюки Кодзима\n",
      "Гэбриел Маскаро\n",
      "Марко Беллоккьо\n",
      "Сиддхартх Ананд\n",
      "Рейчел Гриффитс\n",
      "Элис Вэддингтон\n",
      "Себастьян Джонс\n",
      "О. Николаевский\n",
      "Рафик Сарджанян\n",
      "Вадих Эль Хайек\n",
      "Сергей Бондарчук\n",
      "Жан Франсуа Рише\n",
      "Стивен Содерберг\n",
      "Пол Джей Болджер\n",
      "Бобкэт Голдтуэйт\n",
      "Кристиан Биодани\n",
      "Тобиас Линдхольм\n",
      "Дэвид Кроненберг\n",
      "Оускар Йоунассон\n",
      "Йоханнес Робертс\n",
      "Лоуренс Казанофф\n",
      "Жан-Жак Мантелло\n",
      "Жан-Пьер Дарденн\n",
      "Майкл Ди Джакомо\n",
      "Томас Альфредсон\n",
      "Деклан Доннеллан\n",
      "Лассе Халльстрём\n",
      "Марк А. З. Диппе\n",
      "Педро Альмодовар\n",
      "Йоганнес Вайланд\n",
      "Томас Винтерберг\n",
      "Алехандро Бругес\n",
      "Ксавье Джианолли\n",
      "Леандер Хаусманн\n",
      "Арни Линдер Нэсс\n",
      "Срджан Драгоевич\n",
      "Грэг Макгиливрэй\n",
      "Джей Джей Абрамс\n",
      "Лассе Халльстрем\n",
      "Артюс Де Пенгерн\n",
      "Фолькер Шлендорф\n",
      "Франк Гастамбиде\n",
      "М. Найт Шьямалан\n",
      "К. Серебренников\n",
      "Кевин Макдональд\n",
      "Винсент Патерсон\n",
      "Стефан Рузовицки\n",
      "Дэвид О. Расселл\n",
      "Витторио Тавиани\n",
      "Мабрук Эль Мекри\n",
      "Хоакин Ористрелл\n",
      "Габриэле Муччино\n",
      "Кристиан Мунджиу\n",
      "Даррен Аронофски\n",
      "Микаэль Хофстрём\n",
      "Паоло Соррентино\n",
      "  Жоржа Вакевича\n",
      "Питер Веллингтон\n",
      "Роберт Фестингер\n",
      "Фредерик Обуртин\n",
      "Бернхард Каммель\n",
      "Питер Лепениотис\n",
      "Брайан Персиваль\n",
      "Александр Коффре\n",
      "Раджкумар Хирани\n",
      "Томас Боденштайн\n",
      "Алессандро Сиани\n",
      "Ия Пьера Лакотта\n",
      "Джесси Маккормак\n",
      "В. Гай Германика\n",
      "Киран Дарси-Смит\n",
      "Дуглас Амиокоски\n",
      "Ленни Абрахамсон\n",
      "Фредерик Фонтейн\n",
      "Дени Де Ла Орден\n",
      "Альбер Дюпонтель\n",
      "Джереми Дегрусон\n",
      "Мартин Миэ-Ренар\n",
      "Сильвестр Сбилье\n",
      "Карен Ли Хопкинс\n",
      "Грегори Левассер\n",
      "Максим Свешников\n",
      "Кристиан Левринг\n",
      "Брайан А. Миллер\n",
      "Ярослав Губченко\n",
      "Питер Богданович\n",
      "Ли Толанд Кригер\n",
      "Алекс Стадерманн\n",
      "Кристиан Де Вита\n",
      "Филиппе Мартинес\n",
      "Николаус Ленхофф\n",
      "Леван Когуашвили\n",
      "Филипп Де Шоврон\n",
      "Джонатан Глейзер\n",
      "Джон Р. Леонетти\n",
      "Э. Архангельская\n",
      "Дмитрий Черняков\n",
      "Жуанра Фернандез\n",
      "Марко Пьянджиани\n",
      "Андреас Прохазка\n",
      "Инджинио Страффи\n",
      "Корнель Мундруцо\n",
      "Альфредо Монтеро\n",
      "Жако Ван Дормель\n",
      "Е. Константинова\n",
      "Грегори Джейкобс\n",
      "Р. Д. Браунштейн\n",
      "Жан-Франсуа Рише\n",
      "Себастьян Шиппер\n",
      "Дэниэль Эспиноса\n",
      "Брайан Хелгеленд\n",
      "Кристофер Лэндон\n",
      "Л. Густаво Купер\n",
      "Майвенн Ле Беско\n",
      "Наталья Мальгина\n",
      "Винсент Кестелут\n",
      "Дани Де Ла Орден\n",
      "Стивен С. Миллер\n",
      "Дж. П. Сниадецки\n",
      "Маттиас Олоф Эйх\n",
      "Даниэль Эспиноса\n",
      "Роксан Бенджамин\n",
      "Валентино Пиконе\n",
      "Али Замади Ахади\n",
      "Джеймс Понсольдт\n",
      "Ежи Сколимовский\n",
      "Юлиан Радльмайер\n",
      "Эген Уулу Нурбек\n",
      "Даниэль Рагуссис\n",
      "Шинтаро Шимосава\n",
      "Жан-Франсуа Пуле\n",
      "Кристиан Матысек\n",
      "Анджей Бартковяк\n",
      "Джессика Хауснер\n",
      "Питер Биллингсли\n",
      "Тенисон Бардуэлл\n",
      "Джейсон Эпперсон\n",
      "Жалмари Хеландер\n",
      "Роберт Дорнхельм\n",
      "Джуеме Балогуеро\n",
      "В. Пендраковский\n",
      "Гильермо Арриага\n",
      "Дэвид Сильверман\n",
      "Бертран Тавернье\n",
      "Лоуренс Гутерман\n",
      "Кристофер Моррис\n",
      "Джон Г. Эвилдсен\n",
      "Фредерико Моччиа\n",
      "Микаэль Хофстрем\n",
      "Брайан Де Пальма\n",
      "Аббас Киаростами\n",
      "Гиоргос Лантимос\n",
      "В. Златопольский\n",
      "Элайджа Мошински\n",
      "Джоао Нуно Пинто\n",
      "Сильвио Сольдини\n",
      "Евгений Пашкевич\n",
      "Марианна Ченильо\n",
      "Абделлатиф Кешиш\n",
      "Маркос Карневале\n",
      "Федерико Феллини\n",
      "Алессандро Сьяни\n",
      "Тайлер Макинтайр\n",
      "Биргитте Стэмозе\n",
      "Серхио Х. Санчес\n",
      "Айзек Флорентайн\n",
      "Армандо Ианнуччи\n",
      "Джонатан Хопкинс\n",
      "Кристиано Анания\n",
      "Пол Том Андерсон\n",
      "Райнер Хольцемер\n",
      "Саверио Костанцо\n",
      "Стивен С. Денайт\n",
      "Цутому Мидзусима\n",
      "Свен Унтервальдт\n",
      "Айбек Дайырбеков\n",
      "Хайфа Аль-Мансур\n",
      "Торстен Кюнстлер\n",
      "Массимо Гаудиозо\n",
      "Густаво Эрнандес\n",
      "Йеспер Гансландт\n",
      "Герард Макмюррей\n",
      "Галина Миклинова\n",
      "Жан-Стефан Совер\n",
      "П. Фаттахутдинов\n",
      "Ганс Вайнгартнер\n",
      "Фредерик Пакстон\n",
      "Леопольдо Агиляр\n",
      "Себастиан Гробер\n",
      "Е. Паршина-Штайн\n",
      "Али Самади Ахади\n",
      "Наталья Малыгина\n",
      "Евгений Голынкин\n",
      "Стивен Кейпл-Мл.\n",
      "Николас Маккарти\n",
      "Кристиан Альварт\n",
      "Эмануэле Имбуччи\n",
      "Мигель А. Феррер\n",
      "Джастин Бальдони\n",
      "Роксана Бенжамин\n",
      "Джордж А. Ромеро\n",
      "Чальз Е. Бастьен\n",
      "Николаус Лейтнер\n",
      "Бронвин Деннисон\n",
      "Майкл Дэвид Пэйт\n",
      "Сюнъити Ёсидзава\n",
      "Деннисон Рамальо\n",
      "Даниэль Фергюсон\n",
      "Йоханнес Нюхольм\n",
      "Люсия Гарибальди\n",
      "Илья Хржановский\n",
      "Нильс Болбринкер\n",
      "Генри Джейкобсон\n",
      "Гийом Медачевски\n",
      "Дэвид Бикерстафф\n",
      "Тимур Бекмамбетов\n",
      "В. Краснопольский\n",
      "Алехандро Агрести\n",
      "Джонатан Хейнслей\n",
      "Джон Патрик Шэнли\n",
      "Джонатан Либесман\n",
      "Роджер Споттисвуд\n",
      "Уильям Брент Бэлл\n",
      "Фредерик Бегбедер\n",
      "Барри Зонненфельд\n",
      "Эмануэле Криалезе\n",
      "Франческо Фаласки\n",
      "Майкл Дж. Бассетт\n",
      "М. Коростышевский\n",
      "Кристиан Петцольд\n",
      "Бенисио Дель Торо\n",
      "Мохсен Махмальбаф\n",
      "Оливер Цигенбальг\n",
      "Нильс Орден Оплев\n",
      "Дункан Макфарланд\n",
      "Мэттью Беттинелли\n",
      " Кеннет Макмиллан\n",
      "Альберто Родригес\n",
      "Анджей Якимовский\n",
      "Ия Мариуса Петипа\n",
      "Квентин Тарантино\n",
      "Хорхе Торрегросса\n",
      "Шарль Оливье-Мишо\n",
      "Дуглас Арниокоски\n",
      "Йошихиро Нишимура\n",
      "Уильям Брент Белл\n",
      "Джастин Макмиллан\n",
      "Кейси Патрик Тебо\n",
      "Франсуа Россильон\n",
      "Кристофер Нельсон\n",
      "Джонатан Теплицки\n",
      "Йорханнес Вейланд\n",
      "Олатунд Осунсанми\n",
      "Дэвид Гордон Грин\n",
      "Сандра Неттельбек\n",
      "Пьер Луиджи Пицци\n",
      "Джей Чандрашекхар\n",
      "Компин Кемгумнирд\n",
      "Оливер Хиршбигель\n",
      "Ия Карлоса Акосты\n",
      "Ричард Линклейтер\n",
      "Момчило Мрдакович\n",
      "Билли Боб Торнтон\n",
      "Альфредо Содергит\n",
      "Генрик Рубен Генц\n",
      "Д. Вятич-Бережных\n",
      "Михаэль Р. Роскам\n",
      "Александр Потехин\n",
      "Майкл Д'Иса-Хоган\n",
      "Ричард Лагравенес\n",
      "Роджер Дональдсон\n",
      "Джованни Веронези\n",
      "Джулиан Джаррольд\n",
      "Энрико Кастильоне\n",
      "Антуан Бардо-Жаке\n",
      "Тристан Паттерсон\n",
      "Дэниел Альфредсон\n",
      "Андреа Ди Стефано\n",
      "Деннис Виллануэве\n",
      "Татьяна Данильянц\n",
      "Александр Сокуров\n",
      "Карадог В. Джеймс\n",
      "Грег Макгилливрэй\n",
      "Томохиро Кавамура\n",
      "Кристобаль Крузен\n",
      "Хайме Колье-Серра\n",
      "Стефани Ди Джусто\n",
      "Кристофер Фитчетт\n",
      "Альберто Родригез\n",
      "Ребекка Злотовски\n",
      "Дэвид Ф. Сэндберг\n",
      "Тод \"Кип\" Уильямс\n",
      "Хаум Коллет-Серра\n",
      "С. Бодров-Старший\n",
      "Майкл Патрик Кинг\n",
      "Нильс Арден Оплев\n",
      "Агустин Диас Янес\n",
      "Стефан Брауншвейг\n",
      "А. Щербович-Вечер\n",
      "Дарен Линн Босман\n",
      "Микаэл Хальфстрем\n",
      "Летиция Коломбани\n",
      "Майкл Кэтон-Джонс\n",
      "Доминик Фарруджия\n",
      "Паула Ван Дер Уст\n",
      "Гюстав Де Керверн\n",
      "Трей Эдвард Шульц\n",
      "Дэвид Ф. Сандберг\n",
      "Джеральд Рашинато\n",
      "Грэг Макгилливрэй\n",
      "Янус Мец Педерсен\n",
      "Жиль Паке-Бреннер\n",
      "Кристиан Гьюдгэст\n",
      "Димитри Логотетис\n",
      "Брайан Декьюбелис\n",
      "Хиромаса Ёнэбаяси\n",
      "Присцилла Камерон\n",
      "Наталья Березовая\n",
      "Амалия Несби Фика\n",
      "Аудни Аусгейрссон\n",
      "М. Жигалова-Озкан\n",
      "Хирокадзу Корээда\n",
      "Лукас Фейгельфилд\n",
      "Джованни Пискалья\n",
      "А. Кузмин-Тарасов\n",
      "Андрес Пуустусмаа\n",
      "Джеффри Начманофф\n",
      "Эммануэль Жилибер\n",
      "А. Новокреповская\n",
      "Валерио Аттаназио\n",
      "Дидерик Ван Ружен\n",
      "Джесси В. Джонсон\n",
      "Чарльз Е. Бастьен\n",
      "Лакарион Вайнайна\n",
      "Андрей Тарковский\n",
      "Мануэль Х. Гарсиа\n",
      "Винсент Д'Онофрио\n",
      "Урсула Макфарлейн\n",
      "Джастин Пембертон\n",
      "Кристиан Волькман\n",
      "Франко Кастеллано\n",
      "Марианна Яровская\n",
      "Джон Франкенхаймер\n",
      "Владимир Чеботарев\n",
      "Франко Дзеффирелли\n",
      "Гильермо Дель Торо\n",
      "Сильвестр Сталлоне\n",
      "Мишель Хазанавичус\n",
      "Хиромаса Йонебаяши\n",
      "Хендрик Хандлёгтен\n",
      "Майкл Уинтерботтом\n",
      "Хермини Хунтгебурх\n",
      "Малгожата Шумовска\n",
      "Дженнифер Уэстфелд\n",
      "Бальтазар Кормакур\n",
      "Джули Энн Робинсон\n",
      "Пол Томас Андерсон\n",
      "Гермина Хунтгебурт\n",
      "Феликс Фуксштайнер\n",
      "Эсбен Тофт Якобсен\n",
      "Екатерина Еременко\n",
      "Ричард Ла Гравенес\n",
      "Пол У. С. Андерсон\n",
      "Хуан Диего Соланас\n",
      "Фернандо Мейреллиш\n",
      "Кристофер Маккуори\n",
      "Франческа Замбелло\n",
      "Рэймонд Де Фелитта\n",
      "Джон Майкл Макдона\n",
      "Ребекка Золотовски\n",
      "Джошуа Майкл Штерн\n",
      "Хауме Кольет-Серра\n",
      "Франческо Эспозито\n",
      "Жан-Марк Рудницкий\n",
      "Виктор Косаковский\n",
      "Прапас Чолсаранонт\n",
      "Джонатан Гарфилкел\n",
      "Джузеппе Торнаторе\n",
      "Фил Олден Робинсон\n",
      "Чарльз Мартин Смит\n",
      "Джеримайя С. Чечик\n",
      "Сантьяго Табарнеро\n",
      "Тадеуш Страсбергер\n",
      "Оскар Сантос Гомес\n",
      "Ганс Петтер Моланд\n",
      "Энтони Сильверстон\n",
      "Сэм Тейлор-Джонсон\n",
      "Джошуа Оппенхаймер\n",
      "Джонатан Голдстейн\n",
      "Алехандро Хидальго\n",
      "Алессандро Карлони\n",
      "Джонатан Силвермен\n",
      "Алехандро Аменабар\n",
      "Даниэль Альфредсон\n",
      "Бальтасар Кормакур\n",
      "Джонатан Кесселман\n",
      "Хулио Сото Гурпиде\n",
      "Джулиан Розефельдт\n",
      "Дженнаро Нунцианте\n",
      "Олатунда Осунсанми\n",
      "Вольфганг Петерсен\n",
      "Хауме Коллет-Серра\n",
      "Корнелиу Порумбойю\n",
      "Томас Борч-Нельсен\n",
      "Хирокадзу Корэ-Эда\n",
      "Вольфганг Петерсон\n",
      "Ричард Лагравенезе\n",
      "Малькольм Венвилль\n",
      "Холли Мейерс-Шайер\n",
      "Александр Бустильо\n",
      "Хуан Карлос Медина\n",
      "Миккель Мунк-Фальс\n",
      "Кристина Коминчини\n",
      "Жаума Кольет-Серра\n",
      "Джон Френсис Дейли\n",
      "Джанлука Ансанелли\n",
      "Сиддхартх Малхотра\n",
      "Павел Павликовский\n",
      "Дженнифер Весткотт\n",
      "Брэндон Кристенсен\n",
      "Александр Абатуров\n",
      "Г. Тесля-Герасимов\n",
      "Ханс Петтер Муланд\n",
      "Кристоффер Нюхольм\n",
      "Флориан Дэвид Фитц\n",
      "П. \"Хики\" Стручков\n",
      "Клаудио Джованнези\n",
      "Хуан Пабло Поланко\n",
      "Карла Фон Бенгтсон\n",
      "Тодд Дуглас Миллер\n",
      "Кирилл Михановский\n",
      "Шон Патрик О'Рейли\n",
      "Александр Клименко\n",
      "Микаэль Хальфстрем\n",
      "Фернанду Мейрелльеш\n",
      "Оле Кристиан Мадсен\n",
      "Беньямин Хайзенберг\n",
      "Джон Майкл Макдонах\n",
      "Спирос Статулопулос\n",
      "Алекс Де Ла Иглесиа\n",
      "Ия Фредерика Эштона\n",
      "Кристофер Б. Стоукс\n",
      "Даррен Линн Боусман\n",
      "Андрей Кончаловский\n",
      "Мукунда Майкл Дьюил\n",
      "Скотт Чарльз Стюарт\n",
      "Бернардо Бертолуччи\n",
      "Хуан Антонио Байона\n",
      "Алекс Ван Вармердам\n",
      "Жан Кристоф Дюссант\n",
      "Марк Стивен Джонсон\n",
      "Даниэль Кальпарсоро\n",
      "Александр Алешечкин\n",
      "Расмус А. Сивертсен\n",
      "Кристофер Б. Лэндон\n",
      "Нури Бильге Джейлан\n",
      "А. Панкратов-Черный\n",
      "Бенедикт Эрлингссон\n",
      "Жан-Батист Леонетти\n",
      "Ия Фредерика Аштона\n",
      "Дениз Гамзе Эргювен\n",
      "Шон Патрик О. Рейли\n",
      "Седрик Николя-Троян\n",
      "Люсиль Адзиалилович\n",
      "Ф. Хавьер Гутьеррес\n",
      "Роджер Росс Уильямс\n",
      "Микинори Сакакибара\n",
      "Даррин Линн Боусман\n",
      "Фернанаду Майреллиш\n",
      "Майкл Кейтон-Джоунс\n",
      "Даррен Лион Бойсман\n",
      "Даррен Линн Баусмэн\n",
      "Кинен Айвори Уэйанс\n",
      "Джон Камерон Митчел\n",
      "Жозе Антонио Негрет\n",
      "Мигель Анхель Вивас\n",
      "Жеральд Юсташ-Матьё\n",
      "Уте Фон Мюнхов-Поль\n",
      "Жаргалсаихан Баатар\n",
      "Виктор Сейнт Макари\n",
      "Карл Кристиан Раабе\n",
      "Кристофер Маккуорри\n",
      "Стивен Номура Шибле\n",
      "Нестор Саенц Кампос\n",
      "Оливье Массе-Депасс\n",
      "Марко Кройцпайнтнер\n",
      "Аасне Ваа Грейброкк\n",
      "Мария Солее Тоньяцци\n",
      "Френсис Форд Коппола\n",
      "Николас Виндинг Рефн\n",
      "Родриго Ортузар Линч\n",
      "Флавио Р. Тамбеллини\n",
      "Фрэнсис Форд Коппола\n",
      "Ия Василия Вайнонена\n",
      "Феликс Ван Гронинген\n",
      "Джозеф Гордон-Левитт\n",
      "Виджай Кришна Ачария\n",
      "Марко Артуро Марелли\n",
      "Хуан Карлос Манеглиа\n",
      "Летиция Хорхе Ромеро\n",
      "Ракеш Омпракаш Мехра\n",
      "Жан-Поль Лилиенфельд\n",
      "Джордан Вогт-Робертс\n",
      "Хуан Хосе Кампанелла\n",
      "Карлос Маркус-Марсет\n",
      "Дэвид Роберт Митчелл\n",
      "Тинатаин Каджришвили\n",
      "Стивен С. Кампанелли\n",
      "Флориан Галленбергер\n",
      "Георгий Варсимашвили\n",
      "Гуэндалина Дзампаньи\n",
      "Джордан Вогг-Робертс\n",
      "Марта Гёрджи-Кесслер\n",
      "Мигель Анхель Ламата\n",
      "Михаэль Дюдок Де Вит\n",
      "Феликс Энрике Алкала\n",
      "Чарльз Роберт Карнер\n",
      "Манодж Найт Шьямалан\n",
      "Гэри Дэйвид Голдберг\n",
      "Шэри Спрингер Берман\n",
      "Ия Джорджа Баланчина\n",
      "Рудольф Ван Ден Берг\n",
      "Хесус Гарсес Ламберт\n",
      "Джон Кэмерон Митчелл\n",
      "Дженнифер Ю. Нельсон\n",
      "Вольфганг Лауэнштайн\n",
      "Феликс Ван Грунинген\n",
      "Пабло Рохас Кастильо\n",
      "А. Соколов-Дворников\n",
      "Франческо Инверницци\n",
      "Альфонсо Гомес-Рехон\n",
      "Кристофер Сунь Лэп Ки\n",
      "Яннике Систад Якобсен\n",
      "Геннадий Тартаковский\n",
      "Валерия Бруни-Тедески\n",
      "Ия Кристофера Уилдона\n",
      "Владислав Пасиковский\n",
      "Джионата Зарантонелло\n",
      "С. Ольденбург-Свинцов\n",
      "Россон Маршалл Тёрбер\n",
      "Алехандро Ходоровский\n",
      "Ия Кеннета Макмиллана\n",
      "Мирослав Слабошпицкий\n",
      "Владислав Байрамгулов\n",
      "Зося (София) Родкевич\n",
      "Александр Высоковский\n",
      "Роусон Маршалл Тёрбер\n",
      "Джанкарло Дель Монако\n",
      "Паскаль-Алекс Винсент\n",
      "Гонсало Лопес-Гальего\n",
      "Джеймс Каллен Брэссак\n",
      "Андерс Вальтер Хансен\n",
      "Серикбол Утепбергенов\n",
      "О. Лопато-Джагацпанян\n",
      "Валерия Гай Германика\n",
      "Крэйг Уильям Макнейлл\n",
      "Елена Коссон Кизилова\n",
      "Вильгельм Домке-Шульц\n",
      "Юкка-Пекка Валькеапяя\n",
      "Джеймс Напье Робертсон\n",
      "Даниэль Санчес Аревало\n",
      "Мэтт Беттинелли-Ольпин\n",
      "Джонатан Ауф Дер Хайди\n",
      "Джордж Тильман Младший\n",
      "Лиза Иммордино Врилэнд\n",
      "Агнешка Войтович-Восло\n",
      "Г. Константинопольский\n",
      "Апичатпонг Вирасетакул\n",
      "Тимоти Вудворд Младший\n",
      "Кристиан Е. Кристиансен\n",
      "Барбара Топсе-Ротенборг\n",
      "Фернандо Леон Де Араноа\n",
      "Эмилио Бельмонте Молина\n",
      "Джузеппе Доминго Романо\n",
      "Габриэль Жюльен-Лаферье\n",
      "А. Михалков-Кончаловский\n",
      "Джулиано Никколо Лигабуэ\n",
      "Фернандо Гонзалез Молина\n",
      "Е. Михалков-Кончаловский\n",
      "Микеланджело Фраммартино\n",
      "Миккель Бренне Сандемусе\n",
      "Карлос Гутиеррез Медрано\n",
      "Миккель Бранде Сандемузе\n",
      "Мигель Ларрайа Валенсуела\n",
      "Мари-Кастиль Менсьон-Шаар\n",
      "Пернилла Фишер Кристенсен\n",
      "Н. Михалкова-Кончаловская\n",
      "Пьер-Франсуа Мартен-Лаваль\n",
      "Лори Фельдман Сантоликвидо\n",
      "Крестен Вестбьерг Андерсен\n",
      "Маттис Ван Хейникен Младший\n",
      "Алехандро Гонсалес Иньярриту\n",
      "Габриэль Рива Паласио Алатристе\n",
      "Флориан Хенкель Фон Доннерсмарк\n"
     ]
    }
   ],
   "source": [
    "print('\\n'.join(sorted(list(main_director.unique()), key=len)))"
   ]
  },
  {
   "cell_type": "markdown",
   "metadata": {},
   "source": [
    "Заносим в столбец \"firstname_main_director\" имена главных режиссёров, а в 'lastname_main_director' фамилии главных режиссёров."
   ]
  },
  {
   "cell_type": "code",
   "execution_count": 45,
   "metadata": {},
   "outputs": [],
   "source": [
    "df_edit.loc[main_director_condition, 'firstname_main_director'] = main_director.sort_values().apply(get_name(0))\n",
    "df_edit.loc[main_director_condition, 'lastname_main_director'] = main_director.sort_values().apply(get_name(-1))"
   ]
  },
  {
   "cell_type": "markdown",
   "metadata": {},
   "source": [
    "Имён меньше, чем фамилий, т к переодически встречаются такие записи, как 'Онир'. Скорее всего это не имя, а фамилия, поэтому мы заполняем столбик 'lastname_main_director' единственным значением, а столбик 'firstname_main_director' делаем пустым"
   ]
  },
  {
   "cell_type": "markdown",
   "metadata": {},
   "source": [
    "Теперь разберемся со столбцом жанра."
   ]
  },
  {
   "cell_type": "code",
   "execution_count": 46,
   "metadata": {},
   "outputs": [],
   "source": [
    "df_edit.loc[~df_edit['genres'].isna(), 'main_genres'] = df_edit.loc[~df_edit['genres'].isna(), 'genres'].replace(',.*$', '', regex=True)"
   ]
  },
  {
   "cell_type": "code",
   "execution_count": 47,
   "metadata": {},
   "outputs": [
    {
     "data": {
      "text/plain": [
       "array(['боевик', 'драма', 'фантастика', 'мелодрама', 'мюзикл', 'комедия',\n",
       "       'триллер', 'ужасы', 'мультфильм', nan, 'военный', 'документальный',\n",
       "       'фэнтези', 'криминал', 'приключения', 'аниме', 'детектив',\n",
       "       'для взрослых', 'семейный', 'концерт', 'история',\n",
       "       'короткометражка', 'детский', 'спорт', 'биография', 'вестерн',\n",
       "       'музыка', 'фильм-нуар', 'реальное ТВ'], dtype=object)"
      ]
     },
     "execution_count": 47,
     "metadata": {},
     "output_type": "execute_result"
    }
   ],
   "source": [
    "df_edit['main_genres'].unique()"
   ]
  },
  {
   "cell_type": "markdown",
   "metadata": {
    "id": "1FsCXHwdgFyU"
   },
   "source": [
    "- Посчитайте, какую долю от общего бюджета фильма составляет государственная поддержка."
   ]
  },
  {
   "cell_type": "code",
   "execution_count": 48,
   "metadata": {
    "id": "LV6qFuZLgFyV"
   },
   "outputs": [],
   "source": [
    "df_edit['gov_support'] = (df_edit['refundable_support']+df_edit['non_refundable_support'])/df_edit['budget']\n",
    "#df_edit.loc[~df_edit['budget'].isna()].head()"
   ]
  },
  {
   "cell_type": "markdown",
   "metadata": {},
   "source": [
    "<div class=\"alert alert-success\"; style=\"border-left: 7px solid green\">\n",
    "<h3>✔ Комментарий ревьюера</h3>\n",
    "    \n",
    "👍\n",
    "</div>    \n",
    "\n"
   ]
  },
  {
   "cell_type": "markdown",
   "metadata": {
    "id": "6t4EukPLgFyV"
   },
   "source": [
    "### Шаг 3. Проведите исследовательский анализ данных\n"
   ]
  },
  {
   "cell_type": "markdown",
   "metadata": {
    "id": "vAH8WCzugFyV"
   },
   "source": [
    "- Посмотрите, сколько фильмов выходило в прокат каждый год. Обратите внимание, что данные о прокате в кинотеатрах известны не для всех фильмов. Посчитайте, какую долю составляют фильмы с указанной информацией о прокате в кинотеатрах."
   ]
  },
  {
   "cell_type": "markdown",
   "metadata": {},
   "source": [
    "За то, был ли фильм в прокате, отвечает столбик box_office - кассовые сборы. И стало понятно, почему у нас такие пропуски-информации просто нет. Плохо, но что поделать. Будем считать из того, что есть"
   ]
  },
  {
   "cell_type": "code",
   "execution_count": 49,
   "metadata": {
    "id": "ABeV47y7gFyW"
   },
   "outputs": [
    {
     "data": {
      "text/html": [
       "<div>\n",
       "<style scoped>\n",
       "    .dataframe tbody tr th:only-of-type {\n",
       "        vertical-align: middle;\n",
       "    }\n",
       "\n",
       "    .dataframe tbody tr th {\n",
       "        vertical-align: top;\n",
       "    }\n",
       "\n",
       "    .dataframe thead th {\n",
       "        text-align: right;\n",
       "    }\n",
       "</style>\n",
       "<table border=\"1\" class=\"dataframe\">\n",
       "  <thead>\n",
       "    <tr style=\"text-align: right;\">\n",
       "      <th></th>\n",
       "      <th>box_office</th>\n",
       "      <th>title</th>\n",
       "      <th>have_inform</th>\n",
       "    </tr>\n",
       "    <tr>\n",
       "      <th>year</th>\n",
       "      <th></th>\n",
       "      <th></th>\n",
       "      <th></th>\n",
       "    </tr>\n",
       "  </thead>\n",
       "  <tbody>\n",
       "    <tr>\n",
       "      <th>2010</th>\n",
       "      <td>105</td>\n",
       "      <td>983</td>\n",
       "      <td>0.11</td>\n",
       "    </tr>\n",
       "    <tr>\n",
       "      <th>2011</th>\n",
       "      <td>109</td>\n",
       "      <td>621</td>\n",
       "      <td>0.18</td>\n",
       "    </tr>\n",
       "    <tr>\n",
       "      <th>2012</th>\n",
       "      <td>127</td>\n",
       "      <td>591</td>\n",
       "      <td>0.21</td>\n",
       "    </tr>\n",
       "    <tr>\n",
       "      <th>2013</th>\n",
       "      <td>184</td>\n",
       "      <td>629</td>\n",
       "      <td>0.29</td>\n",
       "    </tr>\n",
       "    <tr>\n",
       "      <th>2014</th>\n",
       "      <td>278</td>\n",
       "      <td>806</td>\n",
       "      <td>0.34</td>\n",
       "    </tr>\n",
       "    <tr>\n",
       "      <th>2015</th>\n",
       "      <td>460</td>\n",
       "      <td>697</td>\n",
       "      <td>0.66</td>\n",
       "    </tr>\n",
       "    <tr>\n",
       "      <th>2016</th>\n",
       "      <td>523</td>\n",
       "      <td>813</td>\n",
       "      <td>0.64</td>\n",
       "    </tr>\n",
       "    <tr>\n",
       "      <th>2017</th>\n",
       "      <td>356</td>\n",
       "      <td>503</td>\n",
       "      <td>0.71</td>\n",
       "    </tr>\n",
       "    <tr>\n",
       "      <th>2018</th>\n",
       "      <td>474</td>\n",
       "      <td>888</td>\n",
       "      <td>0.53</td>\n",
       "    </tr>\n",
       "    <tr>\n",
       "      <th>2019</th>\n",
       "      <td>527</td>\n",
       "      <td>925</td>\n",
       "      <td>0.57</td>\n",
       "    </tr>\n",
       "  </tbody>\n",
       "</table>\n",
       "</div>"
      ],
      "text/plain": [
       "      box_office  title          have_inform\n",
       "year                                        \n",
       "2010         105    983                 0.11\n",
       "2011         109    621                 0.18\n",
       "2012         127    591                 0.21\n",
       "2013         184    629                 0.29\n",
       "2014         278    806                 0.34\n",
       "2015         460    697                 0.66\n",
       "2016         523    813                 0.64\n",
       "2017         356    503                 0.71\n",
       "2018         474    888                 0.53\n",
       "2019         527    925                 0.57"
      ]
     },
     "execution_count": 49,
     "metadata": {},
     "output_type": "execute_result"
    }
   ],
   "source": [
    "df_year = df_edit.pivot_table (index='year', values = ['title', 'box_office'], aggfunc='count')\n",
    "df_year['have_inform'] = df_year['box_office']/df_year['title']\n",
    "df_year"
   ]
  },
  {
   "cell_type": "markdown",
   "metadata": {},
   "source": [
    "<div class=\"alert alert-success\"; style=\"border-left: 7px solid green\">\n",
    "<h3>✔ Комментарий ревьюера</h3>\n",
    "    \n",
    "👍 Можно на самом деле за одну группировку посчитать:\n",
    "</div>    \n",
    "\n"
   ]
  },
  {
   "cell_type": "code",
   "execution_count": 50,
   "metadata": {},
   "outputs": [
    {
     "data": {
      "text/html": [
       "<div>\n",
       "<style scoped>\n",
       "    .dataframe tbody tr th:only-of-type {\n",
       "        vertical-align: middle;\n",
       "    }\n",
       "\n",
       "    .dataframe tbody tr th {\n",
       "        vertical-align: top;\n",
       "    }\n",
       "\n",
       "    .dataframe thead th {\n",
       "        text-align: right;\n",
       "    }\n",
       "</style>\n",
       "<table border=\"1\" class=\"dataframe\">\n",
       "  <thead>\n",
       "    <tr style=\"text-align: right;\">\n",
       "      <th></th>\n",
       "      <th>title_count</th>\n",
       "      <th>box_office_count</th>\n",
       "      <th>box_office_share</th>\n",
       "    </tr>\n",
       "    <tr>\n",
       "      <th>year</th>\n",
       "      <th></th>\n",
       "      <th></th>\n",
       "      <th></th>\n",
       "    </tr>\n",
       "  </thead>\n",
       "  <tbody>\n",
       "    <tr>\n",
       "      <th>2010</th>\n",
       "      <td>983</td>\n",
       "      <td>105</td>\n",
       "      <td>0.11</td>\n",
       "    </tr>\n",
       "    <tr>\n",
       "      <th>2011</th>\n",
       "      <td>621</td>\n",
       "      <td>109</td>\n",
       "      <td>0.18</td>\n",
       "    </tr>\n",
       "    <tr>\n",
       "      <th>2012</th>\n",
       "      <td>591</td>\n",
       "      <td>127</td>\n",
       "      <td>0.21</td>\n",
       "    </tr>\n",
       "    <tr>\n",
       "      <th>2013</th>\n",
       "      <td>629</td>\n",
       "      <td>184</td>\n",
       "      <td>0.29</td>\n",
       "    </tr>\n",
       "    <tr>\n",
       "      <th>2014</th>\n",
       "      <td>806</td>\n",
       "      <td>278</td>\n",
       "      <td>0.34</td>\n",
       "    </tr>\n",
       "    <tr>\n",
       "      <th>2015</th>\n",
       "      <td>697</td>\n",
       "      <td>460</td>\n",
       "      <td>0.66</td>\n",
       "    </tr>\n",
       "    <tr>\n",
       "      <th>2016</th>\n",
       "      <td>813</td>\n",
       "      <td>523</td>\n",
       "      <td>0.64</td>\n",
       "    </tr>\n",
       "    <tr>\n",
       "      <th>2017</th>\n",
       "      <td>503</td>\n",
       "      <td>356</td>\n",
       "      <td>0.71</td>\n",
       "    </tr>\n",
       "    <tr>\n",
       "      <th>2018</th>\n",
       "      <td>888</td>\n",
       "      <td>474</td>\n",
       "      <td>0.53</td>\n",
       "    </tr>\n",
       "    <tr>\n",
       "      <th>2019</th>\n",
       "      <td>925</td>\n",
       "      <td>527</td>\n",
       "      <td>0.57</td>\n",
       "    </tr>\n",
       "  </tbody>\n",
       "</table>\n",
       "</div>"
      ],
      "text/plain": [
       "      title_count  box_office_count     box_office_share\n",
       "year                                                    \n",
       "2010          983               105                 0.11\n",
       "2011          621               109                 0.18\n",
       "2012          591               127                 0.21\n",
       "2013          629               184                 0.29\n",
       "2014          806               278                 0.34\n",
       "2015          697               460                 0.66\n",
       "2016          813               523                 0.64\n",
       "2017          503               356                 0.71\n",
       "2018          888               474                 0.53\n",
       "2019          925               527                 0.57"
      ]
     },
     "execution_count": 50,
     "metadata": {},
     "output_type": "execute_result"
    }
   ],
   "source": [
    "# Код ревьюера\n",
    "\n",
    "df_edit.groupby('year').agg(title_count=('title','count'),\n",
    "                            box_office_count=('box_office','count'),\n",
    "                            box_office_share=('box_office',lambda x : (x.isna()==False).mean()))"
   ]
  },
  {
   "cell_type": "markdown",
   "metadata": {},
   "source": [
    "Нарисуем наглядный график, чтобы еще и увидеть это визуально."
   ]
  },
  {
   "cell_type": "code",
   "execution_count": 51,
   "metadata": {},
   "outputs": [
    {
     "data": {
      "text/plain": [
       "[<matplotlib.lines.Line2D at 0x7f19ec225550>,\n",
       " <matplotlib.lines.Line2D at 0x7f19ec2255e0>]"
      ]
     },
     "execution_count": 51,
     "metadata": {},
     "output_type": "execute_result"
    },
    {
     "data": {
      "image/png": "[encoded data removed]",
      "text/plain": [
       "<Figure size 432x288 with 1 Axes>"
      ]
     },
     "metadata": {
      "needs_background": "light"
     },
     "output_type": "display_data"
    }
   ],
   "source": [
    "plt.title('Количество фильмов и информация о прокате')\n",
    "plt.plot(df_year[['box_office', 'title']])"
   ]
  },
  {
   "cell_type": "markdown",
   "metadata": {},
   "source": [
    "В 2010 году явно был пик выхода фильмов, а вот ближе к 2012 все как-то немного стихло. В 14 и 16 годах снова пошло наверх, а 2017 стал каким-то совсем нетворческим и некоммерческим. Даже кассовые сборы резко просели. После 18 года и количество выпускаемых фильмов, и информация о кассовых сборах и сами сборы снова поползли вверх. Радует и то, что количество информации о кассовых сборах растет. В 2010 мы могли обладать только 10%ной информацией о кассовых сборах вышедших фильмов, а в 2019 году уже больше половины прокатных творений сообщают о своем коммерческом успехе."
   ]
  },
  {
   "cell_type": "markdown",
   "metadata": {},
   "source": [
    "<div class=\"alert alert-success\"; style=\"border-left: 7px solid green\">\n",
    "<h3>✔ Комментарий ревьюера</h3>\n",
    "    \n",
    "Чтобы график был чуть лучшего разрешения и было видно каждый отдельный год, можно сделать что-то в духе (ну и легенду стоит писать :)):</div>    \n",
    "\n"
   ]
  },
  {
   "cell_type": "code",
   "execution_count": 52,
   "metadata": {},
   "outputs": [
    {
     "data": {
      "image/png": "[encoded data removed]",
      "text/plain": [
       "<Figure size 2250x900 with 1 Axes>"
      ]
     },
     "metadata": {
      "needs_background": "light"
     },
     "output_type": "display_data"
    }
   ],
   "source": [
    "# Код ревьюера\n",
    "\n",
    "import matplotlib.ticker as ticker\n",
    "\n",
    "fig, ax = plt.subplots(figsize=(15,6), dpi=150)\n",
    "\n",
    "df_year.plot(y=['box_office','title'], ax=ax)\n",
    "\n",
    "ax.xaxis.set_major_locator(ticker.MultipleLocator(1))"
   ]
  },
  {
   "cell_type": "markdown",
   "metadata": {
    "id": "BEOdcIrIgFyW"
   },
   "source": [
    "- Изучите, как менялась динамика проката по годам. В каком году сумма сборов была минимальной? А максимальной?"
   ]
  },
  {
   "cell_type": "markdown",
   "metadata": {},
   "source": [
    "Построим график, подобный предыдущему, но посчитаем уже не значения, а сумму сборов."
   ]
  },
  {
   "cell_type": "code",
   "execution_count": 53,
   "metadata": {},
   "outputs": [
    {
     "data": {
      "text/plain": [
       "<AxesSubplot:xlabel='year'>"
      ]
     },
     "execution_count": 53,
     "metadata": {},
     "output_type": "execute_result"
    },
    {
     "data": {
      "image/png": "[encoded data removed]",
      "text/plain": [
       "<Figure size 864x360 with 1 Axes>"
      ]
     },
     "metadata": {
      "needs_background": "light"
     },
     "output_type": "display_data"
    }
   ],
   "source": [
    "df_edit.pivot_table(index='year', values = 'box_office', aggfunc='sum').plot(grid=True, figsize=(12, 5))"
   ]
  },
  {
   "cell_type": "code",
   "execution_count": 54,
   "metadata": {},
   "outputs": [
    {
     "data": {
      "text/html": [
       "<div>\n",
       "<style scoped>\n",
       "    .dataframe tbody tr th:only-of-type {\n",
       "        vertical-align: middle;\n",
       "    }\n",
       "\n",
       "    .dataframe tbody tr th {\n",
       "        vertical-align: top;\n",
       "    }\n",
       "\n",
       "    .dataframe thead th {\n",
       "        text-align: right;\n",
       "    }\n",
       "</style>\n",
       "<table border=\"1\" class=\"dataframe\">\n",
       "  <thead>\n",
       "    <tr style=\"text-align: right;\">\n",
       "      <th></th>\n",
       "      <th>box_office</th>\n",
       "    </tr>\n",
       "    <tr>\n",
       "      <th>year</th>\n",
       "      <th></th>\n",
       "    </tr>\n",
       "  </thead>\n",
       "  <tbody>\n",
       "    <tr>\n",
       "      <th>2010</th>\n",
       "      <td>2,428,654.00</td>\n",
       "    </tr>\n",
       "    <tr>\n",
       "      <th>2011</th>\n",
       "      <td>14,102,765.00</td>\n",
       "    </tr>\n",
       "    <tr>\n",
       "      <th>2012</th>\n",
       "      <td>6,953,683.00</td>\n",
       "    </tr>\n",
       "    <tr>\n",
       "      <th>2013</th>\n",
       "      <td>29,799,706.20</td>\n",
       "    </tr>\n",
       "    <tr>\n",
       "      <th>2014</th>\n",
       "      <td>7,444,947,564.20</td>\n",
       "    </tr>\n",
       "    <tr>\n",
       "      <th>2015</th>\n",
       "      <td>38,966,066,659.70</td>\n",
       "    </tr>\n",
       "    <tr>\n",
       "      <th>2016</th>\n",
       "      <td>47,862,924,556.91</td>\n",
       "    </tr>\n",
       "    <tr>\n",
       "      <th>2017</th>\n",
       "      <td>48,563,669,257.51</td>\n",
       "    </tr>\n",
       "    <tr>\n",
       "      <th>2018</th>\n",
       "      <td>49,666,815,912.81</td>\n",
       "    </tr>\n",
       "    <tr>\n",
       "      <th>2019</th>\n",
       "      <td>48,421,074,314.64</td>\n",
       "    </tr>\n",
       "  </tbody>\n",
       "</table>\n",
       "</div>"
      ],
      "text/plain": [
       "               box_office\n",
       "year                     \n",
       "2010         2,428,654.00\n",
       "2011        14,102,765.00\n",
       "2012         6,953,683.00\n",
       "2013        29,799,706.20\n",
       "2014     7,444,947,564.20\n",
       "2015    38,966,066,659.70\n",
       "2016    47,862,924,556.91\n",
       "2017    48,563,669,257.51\n",
       "2018    49,666,815,912.81\n",
       "2019    48,421,074,314.64"
      ]
     },
     "execution_count": 54,
     "metadata": {},
     "output_type": "execute_result"
    }
   ],
   "source": [
    "df_edit.pivot_table(index='year', values = 'box_office', aggfunc='sum')"
   ]
  },
  {
   "cell_type": "code",
   "execution_count": 55,
   "metadata": {},
   "outputs": [
    {
     "data": {
      "text/plain": [
       "<AxesSubplot:title={'center':'Данные о сборах с 2010 по 2014 годы'}, xlabel='year'>"
      ]
     },
     "execution_count": 55,
     "metadata": {},
     "output_type": "execute_result"
    },
    {
     "data": {
      "image/png": "[encoded data removed]",
      "text/plain": [
       "<Figure size 504x360 with 1 Axes>"
      ]
     },
     "metadata": {
      "needs_background": "light"
     },
     "output_type": "display_data"
    }
   ],
   "source": [
    "(df_edit\n",
    " .pivot_table(index='year', values = 'box_office', aggfunc='sum')\n",
    " .plot(grid=True, figsize=(7, 5), title = 'Данные о сборах с 2010 по 2014 годы')\n",
    ")"
   ]
  },
  {
   "cell_type": "markdown",
   "metadata": {},
   "source": [
    "<div class=\"alert alert-success\"; style=\"border-left: 7px solid green\">\n",
    "<h3>✔ Комментарий ревьюера</h3>\n",
    "    \n",
    "На графике тоже можно отформатировать суммы, иногда это может быть удобно:</div>    \n",
    "\n"
   ]
  },
  {
   "cell_type": "code",
   "execution_count": 56,
   "metadata": {},
   "outputs": [
    {
     "data": {
      "image/png": "[encoded data removed]",
      "text/plain": [
       "<Figure size 2250x900 with 1 Axes>"
      ]
     },
     "metadata": {
      "needs_background": "light"
     },
     "output_type": "display_data"
    }
   ],
   "source": [
    "# Код ревьюера\n",
    "\n",
    "fig, ax = plt.subplots(figsize=(15,6), dpi=150)\n",
    "\n",
    "(df_edit\n",
    " .pivot_table(index='year', values = 'box_office', aggfunc='sum')\n",
    " .plot(grid=True, title = 'Данные о сборах с 2010 по 2014 годы', ax=ax)\n",
    ")\n",
    "\n",
    "ax.yaxis.set_major_formatter(ticker.FuncFormatter(lambda x, pos : '{:,.0f}'.format(x)))"
   ]
  },
  {
   "cell_type": "markdown",
   "metadata": {},
   "source": [
    "2 млн рублей против 48 млрд рублей кажутся настолько незначительными, что 'приклеиваются' к оси х. Такой график мало что нам показывает. Проблема заключается еще и в том, что эти показатели не могут быть объективными: в 2010 году мы имели данные проката только 105 случаям, а в 2019 уже по 527. Это значит, что сумма сборов может быть минимум в 5 раз больше. Чтобы получить чуть более адекватную картину, разделив график на 2 части: до 2014 года включительно (где доля известных данных была <= 0.34, и посде 2014, когда произошел резкий скачок известных данных (целые 0.66))."
   ]
  },
  {
   "cell_type": "code",
   "execution_count": 57,
   "metadata": {},
   "outputs": [
    {
     "data": {
      "text/plain": [
       "<AxesSubplot:title={'center':'Данные о сборах с 2010 по 2014 годы'}, xlabel='year'>"
      ]
     },
     "execution_count": 57,
     "metadata": {},
     "output_type": "execute_result"
    },
    {
     "data": {
      "image/png": "[encoded data removed]",
      "text/plain": [
       "<Figure size 504x360 with 1 Axes>"
      ]
     },
     "metadata": {
      "needs_background": "light"
     },
     "output_type": "display_data"
    }
   ],
   "source": [
    "(df_edit.loc[df_edit['year'] <= 2014]\n",
    " .pivot_table(index='year', values = 'box_office', aggfunc='sum')\n",
    " .plot(grid=True, figsize=(7, 5), title = 'Данные о сборах с 2010 по 2014 годы')\n",
    ")"
   ]
  },
  {
   "cell_type": "markdown",
   "metadata": {},
   "source": [
    "Вот график опять практически полностью 'лёг' на ось х. Разница в доле известной информации между 2013 и 2014 годом не настолько большая, как этот скачок (0,29 и 0,34), а, значит, нужно немного присмотреться к другим данным. К такому резкому скачку могло привести общее увеличение вышедших фильмов, а, как следствие, и увеличение случае проката, за ним и кассовых сборов. И действительно, в таблице чуть выше ('Количество фильмов и информация о прокате') вижно, что в 2013 фильмов вышло 629, а в 2014 -806. Кассовые сборы все равно выросли сильнее, нежели количество вышедших фильмов, а, значит, кассовые сборы в любом случае значительно увеличились. В 2013 году кассовые сборы собрали всего 29,8 млн рублей против целых 7,4 млр оублей в 2014! Видимо, 2014 год стал каким-то первым прорывом в мире кино. Либо просто наши данные стали понаполненнее.\n",
    "\n",
    "Чтобы не упустить из вида спрятавшиеся менее удачные 2010-2013 года, построим по ним график отдельно."
   ]
  },
  {
   "cell_type": "markdown",
   "metadata": {},
   "source": [
    "<div class=\"alert alert-success\"; style=\"border-left: 7px solid green\">\n",
    "<h3>✔ Комментарий ревьюера</h3>\n",
    "    \n",
    "На самом деле некоторые данные о сборах очень малого порядка для сборов. Возможно с 2013 года формат чисел в источнике изменился или что-то в этом духе. Опять же, можно выборочно проверить</div>    \n",
    "\n"
   ]
  },
  {
   "cell_type": "code",
   "execution_count": 58,
   "metadata": {
    "id": "tfEhofYvgFyX"
   },
   "outputs": [
    {
     "data": {
      "text/plain": [
       "<AxesSubplot:title={'center':'Данные о сборах с 2010 по 2013 годы'}, xlabel='year'>"
      ]
     },
     "execution_count": 58,
     "metadata": {},
     "output_type": "execute_result"
    },
    {
     "data": {
      "image/png": "[encoded data removed]",
      "text/plain": [
       "<Figure size 504x360 with 1 Axes>"
      ]
     },
     "metadata": {
      "needs_background": "light"
     },
     "output_type": "display_data"
    }
   ],
   "source": [
    "(df_edit.loc[df_edit['year']<= 2013]\n",
    " .pivot_table(index='year', values = 'box_office', aggfunc='sum')\n",
    " .plot(grid=True, figsize=(7, 5), title = 'Данные о сборах с 2010 по 2013 годы')\n",
    ")"
   ]
  },
  {
   "cell_type": "markdown",
   "metadata": {},
   "source": [
    "2010 и 2012 были наименее удачными годами для кассовых сборов, зато в 2013 они резко увеличились, превратишься после в прорыв 2014 года."
   ]
  },
  {
   "cell_type": "code",
   "execution_count": 59,
   "metadata": {},
   "outputs": [
    {
     "data": {
      "text/plain": [
       "<AxesSubplot:title={'center':'Данные о сборах с 2015 по 2019 годы'}, xlabel='year'>"
      ]
     },
     "execution_count": 59,
     "metadata": {},
     "output_type": "execute_result"
    },
    {
     "data": {
      "image/png": "[encoded data removed]",
      "text/plain": [
       "<Figure size 504x360 with 1 Axes>"
      ]
     },
     "metadata": {
      "needs_background": "light"
     },
     "output_type": "display_data"
    }
   ],
   "source": [
    "(df_edit.loc[df_edit['year'] >= 2015]\n",
    " .pivot_table(index='year', values = 'box_office', aggfunc='sum')\n",
    " .plot(grid=True, figsize=(7, 5), title = 'Данные о сборах с 2015 по 2019 годы')\n",
    ")"
   ]
  },
  {
   "cell_type": "markdown",
   "metadata": {},
   "source": [
    "Крайне резкий рост, начавшийся в 2013-2014 гг прекратился в 2016, но продолжил медленными темпами тянуться вверх. В 2019 году не много спал, но сильно уровень не потерял."
   ]
  },
  {
   "cell_type": "markdown",
   "metadata": {
    "id": "G-7qS-N-gFyY"
   },
   "source": [
    "- С помощью сводной таблицы посчитайте среднюю и медианную сумму сборов для каждого года."
   ]
  },
  {
   "cell_type": "code",
   "execution_count": 60,
   "metadata": {
    "id": "jmp-rgg9gFyY"
   },
   "outputs": [
    {
     "data": {
      "text/html": [
       "<div>\n",
       "<style scoped>\n",
       "    .dataframe tbody tr th:only-of-type {\n",
       "        vertical-align: middle;\n",
       "    }\n",
       "\n",
       "    .dataframe tbody tr th {\n",
       "        vertical-align: top;\n",
       "    }\n",
       "\n",
       "    .dataframe thead tr th {\n",
       "        text-align: left;\n",
       "    }\n",
       "\n",
       "    .dataframe thead tr:last-of-type th {\n",
       "        text-align: right;\n",
       "    }\n",
       "</style>\n",
       "<table border=\"1\" class=\"dataframe\">\n",
       "  <thead>\n",
       "    <tr>\n",
       "      <th></th>\n",
       "      <th>mean</th>\n",
       "      <th>median</th>\n",
       "    </tr>\n",
       "    <tr>\n",
       "      <th></th>\n",
       "      <th>box_office</th>\n",
       "      <th>box_office</th>\n",
       "    </tr>\n",
       "    <tr>\n",
       "      <th>year</th>\n",
       "      <th></th>\n",
       "      <th></th>\n",
       "    </tr>\n",
       "  </thead>\n",
       "  <tbody>\n",
       "    <tr>\n",
       "      <th>2010</th>\n",
       "      <td>23,130.04</td>\n",
       "      <td>1,700.00</td>\n",
       "    </tr>\n",
       "    <tr>\n",
       "      <th>2011</th>\n",
       "      <td>129,383.17</td>\n",
       "      <td>3,000.00</td>\n",
       "    </tr>\n",
       "    <tr>\n",
       "      <th>2012</th>\n",
       "      <td>54,753.41</td>\n",
       "      <td>5,760.00</td>\n",
       "    </tr>\n",
       "    <tr>\n",
       "      <th>2013</th>\n",
       "      <td>161,954.92</td>\n",
       "      <td>3,522.50</td>\n",
       "    </tr>\n",
       "    <tr>\n",
       "      <th>2014</th>\n",
       "      <td>26,780,386.92</td>\n",
       "      <td>18,885.00</td>\n",
       "    </tr>\n",
       "    <tr>\n",
       "      <th>2015</th>\n",
       "      <td>84,708,840.56</td>\n",
       "      <td>5,003,450.15</td>\n",
       "    </tr>\n",
       "    <tr>\n",
       "      <th>2016</th>\n",
       "      <td>91,516,108.14</td>\n",
       "      <td>4,000,811.00</td>\n",
       "    </tr>\n",
       "    <tr>\n",
       "      <th>2017</th>\n",
       "      <td>136,414,801.29</td>\n",
       "      <td>10,177,833.50</td>\n",
       "    </tr>\n",
       "    <tr>\n",
       "      <th>2018</th>\n",
       "      <td>104,782,312.05</td>\n",
       "      <td>8,911,533.94</td>\n",
       "    </tr>\n",
       "    <tr>\n",
       "      <th>2019</th>\n",
       "      <td>91,880,596.42</td>\n",
       "      <td>4,732,610.10</td>\n",
       "    </tr>\n",
       "  </tbody>\n",
       "</table>\n",
       "</div>"
      ],
      "text/plain": [
       "                     mean               median\n",
       "               box_office           box_office\n",
       "year                                          \n",
       "2010            23,130.04             1,700.00\n",
       "2011           129,383.17             3,000.00\n",
       "2012            54,753.41             5,760.00\n",
       "2013           161,954.92             3,522.50\n",
       "2014        26,780,386.92            18,885.00\n",
       "2015        84,708,840.56         5,003,450.15\n",
       "2016        91,516,108.14         4,000,811.00\n",
       "2017       136,414,801.29        10,177,833.50\n",
       "2018       104,782,312.05         8,911,533.94\n",
       "2019        91,880,596.42         4,732,610.10"
      ]
     },
     "execution_count": 60,
     "metadata": {},
     "output_type": "execute_result"
    }
   ],
   "source": [
    "df_edit.pivot_table(index='year', values = 'box_office', aggfunc=['mean', 'median'])"
   ]
  },
  {
   "cell_type": "markdown",
   "metadata": {},
   "source": [
    "Медиана и среднее очень разнятся, значит, в данных есть фильмы-рекордсмены с кассовыми сборами выброса. По-хорошему, стоило бы задуматься над этим, но наших данных итак немного, да и очевидной ошибки по типу 'забыл дописать нолики' не подходит. Вывод может заключаться только в том, что на нормальное это распределение и близко не походит, а, значит, при расчетах и определении зависимостей лучше использовать медиану, т к она устойчивее к выбросам."
   ]
  },
  {
   "cell_type": "markdown",
   "metadata": {},
   "source": [
    "<div class=\"alert alert-success\"; style=\"border-left: 7px solid green\">\n",
    "<h3>✔ Комментарий ревьюера</h3>\n",
    "    \n",
    "👍</div>    \n",
    "\n"
   ]
  },
  {
   "cell_type": "code",
   "execution_count": 61,
   "metadata": {},
   "outputs": [
    {
     "name": "stdout",
     "output_type": "stream",
     "text": [
      "<class 'pandas.core.frame.DataFrame'>\n",
      "Int64Index: 7456 entries, 0 to 7484\n",
      "Data columns (total 22 columns):\n",
      " #   Column                   Non-Null Count  Dtype         \n",
      "---  ------                   --------------  -----         \n",
      " 0   title                    7456 non-null   object        \n",
      " 1   pu_number                7456 non-null   object        \n",
      " 2   show_start_date          7456 non-null   datetime64[ns]\n",
      " 3   type                     7456 non-null   object        \n",
      " 4   film_studio              7438 non-null   object        \n",
      " 5   production_country       7454 non-null   object        \n",
      " 6   director                 7447 non-null   object        \n",
      " 7   producer                 6888 non-null   object        \n",
      " 8   age_restriction          7456 non-null   object        \n",
      " 9   refundable_support       330 non-null    float64       \n",
      " 10  non_refundable_support   330 non-null    float64       \n",
      " 11  budget                   330 non-null    float64       \n",
      " 12  financing_source         330 non-null    object        \n",
      " 13  ratings                  6489 non-null   float64       \n",
      " 14  genres                   6483 non-null   object        \n",
      " 15  box_office               3143 non-null   float64       \n",
      " 16  sum                      330 non-null    float64       \n",
      " 17  year                     7456 non-null   int64         \n",
      " 18  firstname_main_director  7431 non-null   object        \n",
      " 19  lastname_main_director   7447 non-null   object        \n",
      " 20  main_genres              6483 non-null   object        \n",
      " 21  gov_support              330 non-null    float64       \n",
      "dtypes: datetime64[ns](1), float64(7), int64(1), object(13)\n",
      "memory usage: 1.6+ MB\n"
     ]
    }
   ],
   "source": [
    "df_edit.info()"
   ]
  },
  {
   "cell_type": "markdown",
   "metadata": {
    "id": "Ok89WFwJgFyZ"
   },
   "source": [
    "- Определите, влияет ли возрастное ограничение аудитории («6+», «12+», «16+», «18+» и т. д.) на сборы фильма в прокате в период с 2015 по 2019 год? Фильмы с каким возрастным ограничением собрали больше всего денег в прокате? Меняется ли картина в зависимости от года? Если да, предположите, с чем это может быть связано."
   ]
  },
  {
   "cell_type": "markdown",
   "metadata": {},
   "source": [
    "Создадим удобный столбик для такой группировки"
   ]
  },
  {
   "cell_type": "code",
   "execution_count": 62,
   "metadata": {},
   "outputs": [],
   "source": [
    "df_edit['int_age_restriction'] = df_edit['age_restriction'].replace(r'^\\D*|\\+.*$', '', regex=True).astype('int64')"
   ]
  },
  {
   "cell_type": "markdown",
   "metadata": {},
   "source": [
    "А теперь сгруппируем"
   ]
  },
  {
   "cell_type": "code",
   "execution_count": 63,
   "metadata": {},
   "outputs": [
    {
     "data": {
      "text/plain": [
       "<AxesSubplot:title={'center':'Влияние возрастного ограничения на кассовые сборы в период с 2010 по 2013 гг.'}, xlabel='year'>"
      ]
     },
     "execution_count": 63,
     "metadata": {},
     "output_type": "execute_result"
    },
    {
     "data": {
      "image/png": "[encoded data removed]",
      "text/plain": [
       "<Figure size 1080x432 with 1 Axes>"
      ]
     },
     "metadata": {
      "needs_background": "light"
     },
     "output_type": "display_data"
    }
   ],
   "source": [
    "(df_edit\n",
    " .pivot_table(\n",
    "     index='year',\n",
    "     values = 'box_office', \n",
    "     columns='int_age_restriction', \n",
    "     aggfunc=['median']\n",
    " )\n",
    " .plot(legend=True, figsize=(15, 6), grid = True, title = 'Влияние возрастного ограничения на кассовые сборы в период с 2010 по 2013 гг.')\n",
    ")"
   ]
  },
  {
   "cell_type": "markdown",
   "metadata": {},
   "source": [
    "<div class=\"alert alert-success\"; style=\"border-left: 7px solid green\">\n",
    "<h3>✔ Комментарий ревьюера</h3>\n",
    "    \n",
    "Чтобы не было мультиндекса, `aggfunc` в скобки не надо оборачивать, т.к. функция одна\n",
    "</div>    \n",
    "\n"
   ]
  },
  {
   "cell_type": "markdown",
   "metadata": {},
   "source": [
    "Здесь график также отчасти 'ложится' на ось х, поэтому также поделим его на периоды."
   ]
  },
  {
   "cell_type": "code",
   "execution_count": 64,
   "metadata": {},
   "outputs": [
    {
     "data": {
      "text/plain": [
       "<AxesSubplot:title={'center':'Влияние возрастного ограничения на кассовые сборы в период с 2010 по 2013 гг.'}, xlabel='year'>"
      ]
     },
     "execution_count": 64,
     "metadata": {},
     "output_type": "execute_result"
    },
    {
     "data": {
      "image/png": "[encoded data removed]",
      "text/plain": [
       "<Figure size 1080x432 with 1 Axes>"
      ]
     },
     "metadata": {
      "needs_background": "light"
     },
     "output_type": "display_data"
    }
   ],
   "source": [
    "(df_edit.loc[df_edit['year']<=2013]\n",
    " .pivot_table(\n",
    "     index='year',\n",
    "     values = 'box_office', \n",
    "     columns='int_age_restriction', \n",
    "     aggfunc=['median']\n",
    " )\n",
    " .plot(legend=True, figsize=(15, 6), grid = True, title = 'Влияние возрастного ограничения на кассовые сборы в период с 2010 по 2013 гг.')\n",
    ")"
   ]
  },
  {
   "cell_type": "markdown",
   "metadata": {},
   "source": [
    "В период с 2010 по 2013 год самые большие кассовые сборы получали фильмы с полным отсутствием возврастного ограничения. С 2011 их рейтинг начал заметно расти, достигнув пика в 2012. А вот 'лузерами' оказались противоположные им фильмы 18+, хотя с 2011 их сборы стали очень медленно, но расти. О фильмах 6+ до 2011 года ничего неизвестно, хотя эту категорию фильмов ввели еще в СССР. Она достигла своего пика кассовых сборов в 2012 году и медленно пошла на спад. 12+ идет более-менее ровненько. Нет сильных спадов или пиков. Подобие пика можно заметить в 2012 года. Довольно спорная категори-16+. Ее кассовые сборы немного росли до 2011 года, чуть снизившись в 2012 и снова пойдя в рост в 2013."
   ]
  },
  {
   "cell_type": "code",
   "execution_count": 65,
   "metadata": {},
   "outputs": [
    {
     "data": {
      "text/plain": [
       "<AxesSubplot:title={'center':'Влияние возрастного ограничения на кассовые сборы в период с 2014 по 2019 гг.'}, xlabel='year'>"
      ]
     },
     "execution_count": 65,
     "metadata": {},
     "output_type": "execute_result"
    },
    {
     "data": {
      "image/png": "[encoded data removed]",
      "text/plain": [
       "<Figure size 1080x432 with 1 Axes>"
      ]
     },
     "metadata": {
      "needs_background": "light"
     },
     "output_type": "display_data"
    }
   ],
   "source": [
    "(df_edit.loc[df_edit['year']>=2014]\n",
    " .pivot_table(\n",
    "     index='year',\n",
    "     values = 'box_office', \n",
    "     columns='int_age_restriction', \n",
    "     aggfunc=['median']\n",
    " )\n",
    " .plot(legend=True, figsize=(15, 6), grid = True, title = 'Влияние возрастного ограничения на кассовые сборы в период с 2014 по 2019 гг.')\n",
    ")"
   ]
  },
  {
   "cell_type": "markdown",
   "metadata": {},
   "source": [
    "В период с 2014 по 2019 гг. первенство кассовых сборов, хоть и спорно, но завоевал 6+. В 2016 у этого рейтинга произошел серьезные спад, но он отвоевал свое и достиг пика уже в 2017 году. 2018 и 2019 гг. он снова спал, но остался лидером. Рост 0+ в 2014 стал слишком медленным и до 2016 от оставался аутсайдером, но уже в 2017 вышел на пик и завоевал второе место. Однако после его кассовые сборы снова поползли вниз. 12+ нравится мне больше всего. Он не занимает первые места, но стабильно остается примерно в центре, не получая серьезных просадок. Однако в 2019 его кассовые сборы дали сбой. А вот 16+ и 18+ также остались спорными, хотя в 2015-2018 году смогли серьезно посоперничать с другими ограничениями и выбится в общую массу.\n",
    "\n",
    "Все таки, фильмы для семейного просмотра популярнее 18+ и 16+. В принципе, это довольно логично, ведь на 0+ могут ходить все, а вот на 18+ нет."
   ]
  },
  {
   "cell_type": "markdown",
   "metadata": {},
   "source": [
    "<div class=\"alert alert-success\"; style=\"border-left: 7px solid green\">\n",
    "<h3>✔ Комментарий ревьюера</h3>\n",
    "    \n",
    "Возможно по барчарту было бы чуть проще сравнивать:</div>    \n",
    "\n"
   ]
  },
  {
   "cell_type": "code",
   "execution_count": 66,
   "metadata": {},
   "outputs": [
    {
     "data": {
      "text/plain": [
       "<AxesSubplot:title={'center':'Влияние возрастного ограничения на кассовые сборы в период с 2014 по 2019 гг.'}, xlabel='year'>"
      ]
     },
     "execution_count": 66,
     "metadata": {},
     "output_type": "execute_result"
    },
    {
     "data": {
      "image/png": "[encoded data removed]",
      "text/plain": [
       "<Figure size 1080x432 with 1 Axes>"
      ]
     },
     "metadata": {
      "needs_background": "light"
     },
     "output_type": "display_data"
    }
   ],
   "source": [
    "# Код ревьюера\n",
    "\n",
    "(df_edit.loc[df_edit['year']>=2014]\n",
    " .pivot_table(\n",
    "     index='year',\n",
    "     values = 'box_office', \n",
    "     columns='int_age_restriction', \n",
    "     aggfunc='median'))\\\n",
    " .plot(kind='bar',\n",
    "       legend=True,\n",
    "       figsize=(15, 6),\n",
    "       grid = True,\n",
    "       title = 'Влияние возрастного ограничения на кассовые сборы в период с 2014 по 2019 гг.')"
   ]
  },
  {
   "cell_type": "markdown",
   "metadata": {
    "id": "l_Kg6Ku4gFya"
   },
   "source": [
    "### Шаг 4. Исследуйте фильмы, которые получили государственную поддержку\n",
    "\n",
    "На этом этапе нет конкретных инструкций и заданий — поищите интересные закономерности в данных. Посмотрите, сколько выделяют средств на поддержку кино. Проверьте, хорошо ли окупаются такие фильмы, какой у них рейтинг."
   ]
  },
  {
   "cell_type": "code",
   "execution_count": 67,
   "metadata": {},
   "outputs": [
    {
     "name": "stdout",
     "output_type": "stream",
     "text": [
      "<class 'pandas.core.frame.DataFrame'>\n",
      "Int64Index: 7456 entries, 0 to 7484\n",
      "Data columns (total 23 columns):\n",
      " #   Column                   Non-Null Count  Dtype         \n",
      "---  ------                   --------------  -----         \n",
      " 0   title                    7456 non-null   object        \n",
      " 1   pu_number                7456 non-null   object        \n",
      " 2   show_start_date          7456 non-null   datetime64[ns]\n",
      " 3   type                     7456 non-null   object        \n",
      " 4   film_studio              7438 non-null   object        \n",
      " 5   production_country       7454 non-null   object        \n",
      " 6   director                 7447 non-null   object        \n",
      " 7   producer                 6888 non-null   object        \n",
      " 8   age_restriction          7456 non-null   object        \n",
      " 9   refundable_support       330 non-null    float64       \n",
      " 10  non_refundable_support   330 non-null    float64       \n",
      " 11  budget                   330 non-null    float64       \n",
      " 12  financing_source         330 non-null    object        \n",
      " 13  ratings                  6489 non-null   float64       \n",
      " 14  genres                   6483 non-null   object        \n",
      " 15  box_office               3143 non-null   float64       \n",
      " 16  sum                      330 non-null    float64       \n",
      " 17  year                     7456 non-null   int64         \n",
      " 18  firstname_main_director  7431 non-null   object        \n",
      " 19  lastname_main_director   7447 non-null   object        \n",
      " 20  main_genres              6483 non-null   object        \n",
      " 21  gov_support              330 non-null    float64       \n",
      " 22  int_age_restriction      7456 non-null   int64         \n",
      "dtypes: datetime64[ns](1), float64(7), int64(2), object(13)\n",
      "memory usage: 1.6+ MB\n"
     ]
    }
   ],
   "source": [
    "df_edit.info()"
   ]
  },
  {
   "cell_type": "code",
   "execution_count": 68,
   "metadata": {
    "id": "W9QKpjUdgFyb"
   },
   "outputs": [],
   "source": [
    "gov_sup = df_edit[['title', 'pu_number', 'type', 'refundable_support', 'non_refundable_support', 'box_office', 'budget', 'financing_source', 'main_genres', 'sum', 'int_age_restriction']]\n",
    "\n",
    "#gov_sup = gov_sup.loc[(~gov_sup['non_refundable_support'].isna())|(~gov_sup['refundable_support'].isna())]\n",
    "\n"
   ]
  },
  {
   "cell_type": "markdown",
   "metadata": {},
   "source": [
    "Посмотрим, сколько средств выделяют на поддержку киматографа в разрезе по годам."
   ]
  },
  {
   "cell_type": "code",
   "execution_count": 69,
   "metadata": {},
   "outputs": [
    {
     "data": {
      "text/plain": [
       "<AxesSubplot:title={'center':'Сумма государственной поддержки кинематографа в период с 2010 по 2019 гг.'}, xlabel='year'>"
      ]
     },
     "execution_count": 69,
     "metadata": {},
     "output_type": "execute_result"
    },
    {
     "data": {
      "image/png": "[encoded data removed]",
      "text/plain": [
       "<Figure size 1080x432 with 1 Axes>"
      ]
     },
     "metadata": {
      "needs_background": "light"
     },
     "output_type": "display_data"
    }
   ],
   "source": [
    "(df_edit\n",
    " .pivot_table(\n",
    "     index='year',\n",
    "     values = 'sum',\n",
    "     aggfunc=['sum']\n",
    " )\n",
    " .plot(legend=True, figsize=(15, 6), grid = True, title = 'Сумма государственной поддержки кинематографа в период с 2010 по 2019 гг.')\n",
    ")"
   ]
  },
  {
   "cell_type": "markdown",
   "metadata": {},
   "source": [
    "Этот график немного напоминает график бюджета фильмов. В принципе, это вполне логично. Во-первых, в графах с информацией о гос поддержке почти всегда была информация о бюджета, а во-вторых, мы заполнили пропуски исходят из информации о гос поддержке, но все же довольно логично выглядят данные роста: чем больше государство выделяет средств на кино, тем больше бюджет фильмов. Так же можно заметить, что в 2017 году была просадка по выпускаемым фильмам, а на этом графике можно заметить, что и гос поддержка в 2017 году была поменьше остальных годов. Звучит довольно логично: чем меньше фильмов, тем меньше кандидатов на получение гос поддержки."
   ]
  },
  {
   "cell_type": "markdown",
   "metadata": {},
   "source": [
    "<div class=\"alert alert-success\"; style=\"border-left: 7px solid green\">\n",
    "<h3>✔ Комментарий ревьюера</h3>\n",
    "    \n",
    "Выше были только графики для сборов :)</div>    \n",
    "\n"
   ]
  },
  {
   "cell_type": "code",
   "execution_count": 70,
   "metadata": {},
   "outputs": [
    {
     "data": {
      "text/plain": [
       "<AxesSubplot:title={'center':'Сравнение суммы государственной поддержки кинематографа и бюджета фильмов в период с 2010 по 2019 гг.'}, xlabel='year'>"
      ]
     },
     "execution_count": 70,
     "metadata": {},
     "output_type": "execute_result"
    },
    {
     "data": {
      "image/png": "[encoded data removed]",
      "text/plain": [
       "<Figure size 1080x432 with 1 Axes>"
      ]
     },
     "metadata": {
      "needs_background": "light"
     },
     "output_type": "display_data"
    }
   ],
   "source": [
    "(df_edit\n",
    " .pivot_table(\n",
    "     index='year',\n",
    "     values = ['sum', 'budget'],\n",
    "     aggfunc= {'sum':sum, 'budget':sum}\n",
    " )\n",
    " .plot(legend=True, figsize=(15, 6), grid = True, title = 'Сравнение суммы государственной поддержки кинематографа и бюджета фильмов в период с 2010 по 2019 гг.')\n",
    ")"
   ]
  },
  {
   "cell_type": "markdown",
   "metadata": {},
   "source": [
    "Выглядит очень правдоподобно и подтверждает выводы выше. Кажется, что средний процент гос поддержки кинематографа очень высок и составляет где-то 40%. Проверим."
   ]
  },
  {
   "cell_type": "code",
   "execution_count": 71,
   "metadata": {},
   "outputs": [
    {
     "data": {
      "text/plain": [
       "45.415780400706055"
      ]
     },
     "execution_count": 71,
     "metadata": {},
     "output_type": "execute_result"
    }
   ],
   "source": [
    "(df_edit['sum'].sum()/df_edit['budget'].sum())*100"
   ]
  },
  {
   "cell_type": "markdown",
   "metadata": {},
   "source": [
    "Практически в яблочко. Государство неплохо поддерживает кинематограф. В среднем она спонсирует 45,4% бюджета выбранного фильма."
   ]
  },
  {
   "cell_type": "markdown",
   "metadata": {},
   "source": [
    "<div class=\"alert alert-success\"; style=\"border-left: 7px solid green\">\n",
    "<h3>✔ Комментарий ревьюера</h3>\n",
    "    \n",
    "В среднем всё такие спонсирует:</div>    \n",
    "\n"
   ]
  },
  {
   "cell_type": "code",
   "execution_count": 72,
   "metadata": {},
   "outputs": [
    {
     "data": {
      "text/plain": [
       "0.5238369980153393"
      ]
     },
     "execution_count": 72,
     "metadata": {},
     "output_type": "execute_result"
    }
   ],
   "source": [
    "# Код ревьюера\n",
    "\n",
    "df_edit['gov_support'].mean()"
   ]
  },
  {
   "cell_type": "markdown",
   "metadata": {},
   "source": [
    "<div class=\"alert alert-success\"; style=\"border-left: 7px solid green\">\n",
    "<h3>✔ Комментарий ревьюера</h3>\n",
    "    \n",
    "Это немного разные величины, хоть и примерно про одно и то же</div>    \n",
    "\n"
   ]
  },
  {
   "cell_type": "markdown",
   "metadata": {},
   "source": [
    "Изучим, какие конкретно фильмы получают гос поддержку чаще."
   ]
  },
  {
   "cell_type": "code",
   "execution_count": 73,
   "metadata": {},
   "outputs": [
    {
     "data": {
      "text/html": [
       "<div>\n",
       "<style scoped>\n",
       "    .dataframe tbody tr th:only-of-type {\n",
       "        vertical-align: middle;\n",
       "    }\n",
       "\n",
       "    .dataframe tbody tr th {\n",
       "        vertical-align: top;\n",
       "    }\n",
       "\n",
       "    .dataframe thead tr th {\n",
       "        text-align: left;\n",
       "    }\n",
       "\n",
       "    .dataframe thead tr:last-of-type th {\n",
       "        text-align: right;\n",
       "    }\n",
       "</style>\n",
       "<table border=\"1\" class=\"dataframe\">\n",
       "  <thead>\n",
       "    <tr>\n",
       "      <th></th>\n",
       "      <th>sum</th>\n",
       "      <th>count</th>\n",
       "    </tr>\n",
       "    <tr>\n",
       "      <th></th>\n",
       "      <th>sum</th>\n",
       "      <th>sum</th>\n",
       "    </tr>\n",
       "    <tr>\n",
       "      <th>int_age_restriction</th>\n",
       "      <th></th>\n",
       "      <th></th>\n",
       "    </tr>\n",
       "  </thead>\n",
       "  <tbody>\n",
       "    <tr>\n",
       "      <th>0</th>\n",
       "      <td>273,520,000.00</td>\n",
       "      <td>8</td>\n",
       "    </tr>\n",
       "    <tr>\n",
       "      <th>6</th>\n",
       "      <td>5,536,373,947.00</td>\n",
       "      <td>64</td>\n",
       "    </tr>\n",
       "    <tr>\n",
       "      <th>12</th>\n",
       "      <td>7,799,394,165.00</td>\n",
       "      <td>106</td>\n",
       "    </tr>\n",
       "    <tr>\n",
       "      <th>16</th>\n",
       "      <td>5,564,353,319.00</td>\n",
       "      <td>124</td>\n",
       "    </tr>\n",
       "    <tr>\n",
       "      <th>18</th>\n",
       "      <td>1,012,346,881.00</td>\n",
       "      <td>28</td>\n",
       "    </tr>\n",
       "  </tbody>\n",
       "</table>\n",
       "</div>"
      ],
      "text/plain": [
       "                                     sum count\n",
       "                                     sum   sum\n",
       "int_age_restriction                           \n",
       "0                         273,520,000.00     8\n",
       "6                       5,536,373,947.00    64\n",
       "12                      7,799,394,165.00   106\n",
       "16                      5,564,353,319.00   124\n",
       "18                      1,012,346,881.00    28"
      ]
     },
     "execution_count": 73,
     "metadata": {},
     "output_type": "execute_result"
    }
   ],
   "source": [
    "(df_edit.loc[~df_edit['int_age_restriction'].isna()]\n",
    " .pivot_table(\n",
    "     index='int_age_restriction',\n",
    "     values = ['sum'],\n",
    "     aggfunc= ['sum', 'count']\n",
    " )\n",
    ")"
   ]
  },
  {
   "cell_type": "markdown",
   "metadata": {},
   "source": [
    "Чаще гос поддержку получают фильмы 16+, но вот бюджетных средств больше выделяют 12+."
   ]
  },
  {
   "cell_type": "markdown",
   "metadata": {},
   "source": [
    "<div class=\"alert alert-success\"; style=\"border-left: 7px solid green\">\n",
    "<h3>✔ Комментарий ревьюера</h3>\n",
    "    \n",
    "Может быть больше смысла смотреть на относительные показатели, т.е. для каждого параметра смотреть на **долю фильмов, которые получили поддержу**, иначе будут получаться очевидные выводы, что чаще поддерживают более популярные жанры/рейтинги и т.п.\n",
    "\n",
    "\n",
    "А зачем пропуски убирать? \n",
    "</div>    \n",
    "\n"
   ]
  },
  {
   "cell_type": "code",
   "execution_count": 74,
   "metadata": {},
   "outputs": [
    {
     "data": {
      "text/html": [
       "<div>\n",
       "<style scoped>\n",
       "    .dataframe tbody tr th:only-of-type {\n",
       "        vertical-align: middle;\n",
       "    }\n",
       "\n",
       "    .dataframe tbody tr th {\n",
       "        vertical-align: top;\n",
       "    }\n",
       "\n",
       "    .dataframe thead th {\n",
       "        text-align: right;\n",
       "    }\n",
       "</style>\n",
       "<table border=\"1\" class=\"dataframe\">\n",
       "  <thead>\n",
       "    <tr style=\"text-align: right;\">\n",
       "      <th></th>\n",
       "      <th>sum</th>\n",
       "    </tr>\n",
       "    <tr>\n",
       "      <th>type</th>\n",
       "      <th></th>\n",
       "    </tr>\n",
       "  </thead>\n",
       "  <tbody>\n",
       "    <tr>\n",
       "      <th>Анимационный</th>\n",
       "      <td>31</td>\n",
       "    </tr>\n",
       "    <tr>\n",
       "      <th>Документальный</th>\n",
       "      <td>1</td>\n",
       "    </tr>\n",
       "    <tr>\n",
       "      <th>Музыкально-развлекательный</th>\n",
       "      <td>0</td>\n",
       "    </tr>\n",
       "    <tr>\n",
       "      <th>Научно-популярный</th>\n",
       "      <td>0</td>\n",
       "    </tr>\n",
       "    <tr>\n",
       "      <th>Прочие</th>\n",
       "      <td>0</td>\n",
       "    </tr>\n",
       "    <tr>\n",
       "      <th>Художественный</th>\n",
       "      <td>298</td>\n",
       "    </tr>\n",
       "  </tbody>\n",
       "</table>\n",
       "</div>"
      ],
      "text/plain": [
       "                            sum\n",
       "type                           \n",
       "Анимационный                 31\n",
       "Документальный                1\n",
       "Музыкально-развлекательный    0\n",
       "Научно-популярный             0\n",
       "Прочие                        0\n",
       "Художественный              298"
      ]
     },
     "execution_count": 74,
     "metadata": {},
     "output_type": "execute_result"
    }
   ],
   "source": [
    "(df_edit.loc[~df_edit['type'].isna()]\n",
    " .pivot_table(\n",
    "     index='type',\n",
    "     values = 'sum',\n",
    "     aggfunc= 'count'\n",
    " )\n",
    ")"
   ]
  },
  {
   "cell_type": "markdown",
   "metadata": {},
   "source": [
    "Абсолютный победитель в получении гос поддержки-художественный фильм!"
   ]
  },
  {
   "cell_type": "code",
   "execution_count": 75,
   "metadata": {},
   "outputs": [
    {
     "data": {
      "text/html": [
       "<div>\n",
       "<style scoped>\n",
       "    .dataframe tbody tr th:only-of-type {\n",
       "        vertical-align: middle;\n",
       "    }\n",
       "\n",
       "    .dataframe tbody tr th {\n",
       "        vertical-align: top;\n",
       "    }\n",
       "\n",
       "    .dataframe thead th {\n",
       "        text-align: right;\n",
       "    }\n",
       "</style>\n",
       "<table border=\"1\" class=\"dataframe\">\n",
       "  <thead>\n",
       "    <tr style=\"text-align: right;\">\n",
       "      <th></th>\n",
       "      <th>sum</th>\n",
       "    </tr>\n",
       "    <tr>\n",
       "      <th>financing_source</th>\n",
       "      <th></th>\n",
       "    </tr>\n",
       "  </thead>\n",
       "  <tbody>\n",
       "    <tr>\n",
       "      <th>Министерство культуры</th>\n",
       "      <td>162</td>\n",
       "    </tr>\n",
       "    <tr>\n",
       "      <th>Министерство культуры, Фонд кино</th>\n",
       "      <td>22</td>\n",
       "    </tr>\n",
       "    <tr>\n",
       "      <th>Фонд кино</th>\n",
       "      <td>146</td>\n",
       "    </tr>\n",
       "  </tbody>\n",
       "</table>\n",
       "</div>"
      ],
      "text/plain": [
       "                                  sum\n",
       "financing_source                     \n",
       "Министерство культуры             162\n",
       "Министерство культуры, Фонд кино   22\n",
       "Фонд кино                         146"
      ]
     },
     "execution_count": 75,
     "metadata": {},
     "output_type": "execute_result"
    }
   ],
   "source": [
    "(df_edit.loc[~df_edit['financing_source'].isna()]\n",
    " .pivot_table(\n",
    "     index='financing_source',\n",
    "     values = 'sum',\n",
    "     aggfunc= 'count'\n",
    " )\n",
    ")"
   ]
  },
  {
   "cell_type": "markdown",
   "metadata": {},
   "source": [
    "Чаще всего финансирование выдается Министерством Культуры (вот кто так старается)."
   ]
  },
  {
   "cell_type": "markdown",
   "metadata": {},
   "source": [
    "<div class=\"alert alert-success\"; style=\"border-left: 7px solid green\">\n",
    "<h3>✔ Комментарий ревьюера</h3>\n",
    "    \n",
    "Суммы выше тоже стоило посмотреть, чтобы понять, кто больше выделил средств\n",
    "</div>    \n",
    "\n"
   ]
  },
  {
   "cell_type": "code",
   "execution_count": 76,
   "metadata": {},
   "outputs": [
    {
     "data": {
      "text/html": [
       "<div>\n",
       "<style scoped>\n",
       "    .dataframe tbody tr th:only-of-type {\n",
       "        vertical-align: middle;\n",
       "    }\n",
       "\n",
       "    .dataframe tbody tr th {\n",
       "        vertical-align: top;\n",
       "    }\n",
       "\n",
       "    .dataframe thead th {\n",
       "        text-align: right;\n",
       "    }\n",
       "</style>\n",
       "<table border=\"1\" class=\"dataframe\">\n",
       "  <thead>\n",
       "    <tr style=\"text-align: right;\">\n",
       "      <th></th>\n",
       "      <th>sum</th>\n",
       "    </tr>\n",
       "    <tr>\n",
       "      <th>main_genres</th>\n",
       "      <th></th>\n",
       "    </tr>\n",
       "  </thead>\n",
       "  <tbody>\n",
       "    <tr>\n",
       "      <th>аниме</th>\n",
       "      <td>0</td>\n",
       "    </tr>\n",
       "    <tr>\n",
       "      <th>биография</th>\n",
       "      <td>3</td>\n",
       "    </tr>\n",
       "    <tr>\n",
       "      <th>боевик</th>\n",
       "      <td>6</td>\n",
       "    </tr>\n",
       "    <tr>\n",
       "      <th>вестерн</th>\n",
       "      <td>0</td>\n",
       "    </tr>\n",
       "    <tr>\n",
       "      <th>военный</th>\n",
       "      <td>9</td>\n",
       "    </tr>\n",
       "    <tr>\n",
       "      <th>детектив</th>\n",
       "      <td>5</td>\n",
       "    </tr>\n",
       "    <tr>\n",
       "      <th>детский</th>\n",
       "      <td>4</td>\n",
       "    </tr>\n",
       "    <tr>\n",
       "      <th>для взрослых</th>\n",
       "      <td>0</td>\n",
       "    </tr>\n",
       "    <tr>\n",
       "      <th>документальный</th>\n",
       "      <td>0</td>\n",
       "    </tr>\n",
       "    <tr>\n",
       "      <th>драма</th>\n",
       "      <td>92</td>\n",
       "    </tr>\n",
       "    <tr>\n",
       "      <th>история</th>\n",
       "      <td>4</td>\n",
       "    </tr>\n",
       "    <tr>\n",
       "      <th>комедия</th>\n",
       "      <td>74</td>\n",
       "    </tr>\n",
       "    <tr>\n",
       "      <th>концерт</th>\n",
       "      <td>0</td>\n",
       "    </tr>\n",
       "    <tr>\n",
       "      <th>короткометражка</th>\n",
       "      <td>0</td>\n",
       "    </tr>\n",
       "    <tr>\n",
       "      <th>криминал</th>\n",
       "      <td>3</td>\n",
       "    </tr>\n",
       "    <tr>\n",
       "      <th>мелодрама</th>\n",
       "      <td>15</td>\n",
       "    </tr>\n",
       "    <tr>\n",
       "      <th>музыка</th>\n",
       "      <td>0</td>\n",
       "    </tr>\n",
       "    <tr>\n",
       "      <th>мультфильм</th>\n",
       "      <td>31</td>\n",
       "    </tr>\n",
       "    <tr>\n",
       "      <th>мюзикл</th>\n",
       "      <td>4</td>\n",
       "    </tr>\n",
       "    <tr>\n",
       "      <th>приключения</th>\n",
       "      <td>7</td>\n",
       "    </tr>\n",
       "    <tr>\n",
       "      <th>реальное ТВ</th>\n",
       "      <td>1</td>\n",
       "    </tr>\n",
       "    <tr>\n",
       "      <th>семейный</th>\n",
       "      <td>7</td>\n",
       "    </tr>\n",
       "    <tr>\n",
       "      <th>спорт</th>\n",
       "      <td>3</td>\n",
       "    </tr>\n",
       "    <tr>\n",
       "      <th>триллер</th>\n",
       "      <td>15</td>\n",
       "    </tr>\n",
       "    <tr>\n",
       "      <th>ужасы</th>\n",
       "      <td>10</td>\n",
       "    </tr>\n",
       "    <tr>\n",
       "      <th>фантастика</th>\n",
       "      <td>10</td>\n",
       "    </tr>\n",
       "    <tr>\n",
       "      <th>фильм-нуар</th>\n",
       "      <td>0</td>\n",
       "    </tr>\n",
       "    <tr>\n",
       "      <th>фэнтези</th>\n",
       "      <td>11</td>\n",
       "    </tr>\n",
       "  </tbody>\n",
       "</table>\n",
       "</div>"
      ],
      "text/plain": [
       "                 sum\n",
       "main_genres         \n",
       "аниме              0\n",
       "биография          3\n",
       "боевик             6\n",
       "вестерн            0\n",
       "военный            9\n",
       "детектив           5\n",
       "детский            4\n",
       "для взрослых       0\n",
       "документальный     0\n",
       "драма             92\n",
       "история            4\n",
       "комедия           74\n",
       "концерт            0\n",
       "короткометражка    0\n",
       "криминал           3\n",
       "мелодрама         15\n",
       "музыка             0\n",
       "мультфильм        31\n",
       "мюзикл             4\n",
       "приключения        7\n",
       "реальное ТВ        1\n",
       "семейный           7\n",
       "спорт              3\n",
       "триллер           15\n",
       "ужасы             10\n",
       "фантастика        10\n",
       "фильм-нуар         0\n",
       "фэнтези           11"
      ]
     },
     "execution_count": 76,
     "metadata": {},
     "output_type": "execute_result"
    }
   ],
   "source": [
    "(df_edit.loc[~df_edit['main_genres'].isna()]\n",
    " .pivot_table(\n",
    "     index='main_genres',\n",
    "     values = 'sum',\n",
    "     aggfunc= 'count'\n",
    " )\n",
    ")"
   ]
  },
  {
   "cell_type": "markdown",
   "metadata": {},
   "source": [
    "Драма пользуется особой любовью у нашего государства."
   ]
  },
  {
   "cell_type": "code",
   "execution_count": 77,
   "metadata": {},
   "outputs": [],
   "source": [
    "#payback = df_edit['box_office'].sum()/df_edit['budget'].sum()\n",
    "#payback"
   ]
  },
  {
   "cell_type": "markdown",
   "metadata": {},
   "source": [
    "В среднем фильмы с гос поддержкой возвращают свой бюджет размером в 5 раз больше изначального."
   ]
  },
  {
   "cell_type": "markdown",
   "metadata": {},
   "source": [
    "    \n",
    "<div class=\"alert alert-danger\"; style=\"border-left: 7px solid red\">\n",
    "<h3>👀 Комментарий ревьюера</h3>\n",
    "    \n",
    "Это неправда. Т.к. ты складываешь сумму сборов для всех фильмов, то один успешный фильм может перекрыть неуспех кучи других фильмов. Нужно добавить такой столбец в датафрейм и брать по нему среднее. **Более того, у нас бюджет известен для 300 фильмов, а сборы для 3000** :)\n",
    "</div>    "
   ]
  },
  {
   "cell_type": "markdown",
   "metadata": {},
   "source": [
    "<div class = \"alert alert-info\" style=\"border-left: 7px solid blue\">\n",
    "<h3>Комментарий студента I </h3>\n",
    "Исправляем неправду\n",
    "</div>"
   ]
  },
  {
   "cell_type": "markdown",
   "metadata": {},
   "source": [
    "Создаем нужный новый столбец с соотношением сборов и бюджета фильма. Если половину сборов оставляют кинотеатрам и прочим дистрибьюторам, то показатели столбца >= 2 будут положительно говорить об окупаемости."
   ]
  },
  {
   "cell_type": "code",
   "execution_count": 78,
   "metadata": {},
   "outputs": [],
   "source": [
    "df_edit['payback'] = df_edit['box_office']/df_edit['budget'] #проверяем, сколько бюджетов укладывается в кассовые сборы"
   ]
  },
  {
   "cell_type": "code",
   "execution_count": 79,
   "metadata": {},
   "outputs": [
    {
     "data": {
      "text/html": [
       "<div>\n",
       "<style scoped>\n",
       "    .dataframe tbody tr th:only-of-type {\n",
       "        vertical-align: middle;\n",
       "    }\n",
       "\n",
       "    .dataframe tbody tr th {\n",
       "        vertical-align: top;\n",
       "    }\n",
       "\n",
       "    .dataframe thead th {\n",
       "        text-align: right;\n",
       "    }\n",
       "</style>\n",
       "<table border=\"1\" class=\"dataframe\">\n",
       "  <thead>\n",
       "    <tr style=\"text-align: right;\">\n",
       "      <th></th>\n",
       "      <th>title</th>\n",
       "      <th>pu_number</th>\n",
       "      <th>show_start_date</th>\n",
       "      <th>type</th>\n",
       "      <th>film_studio</th>\n",
       "      <th>production_country</th>\n",
       "      <th>director</th>\n",
       "      <th>producer</th>\n",
       "      <th>age_restriction</th>\n",
       "      <th>refundable_support</th>\n",
       "      <th>...</th>\n",
       "      <th>genres</th>\n",
       "      <th>box_office</th>\n",
       "      <th>sum</th>\n",
       "      <th>year</th>\n",
       "      <th>firstname_main_director</th>\n",
       "      <th>lastname_main_director</th>\n",
       "      <th>main_genres</th>\n",
       "      <th>gov_support</th>\n",
       "      <th>int_age_restriction</th>\n",
       "      <th>payback</th>\n",
       "    </tr>\n",
       "  </thead>\n",
       "  <tbody>\n",
       "    <tr>\n",
       "      <th>6</th>\n",
       "      <td>любовь и голуби</td>\n",
       "      <td>111007013</td>\n",
       "      <td>2013-10-18 12:00:00</td>\n",
       "      <td>Художественный</td>\n",
       "      <td>Киностудия \"Мосфильм\"</td>\n",
       "      <td>СССР</td>\n",
       "      <td>В.Меньшов</td>\n",
       "      <td>NaN</td>\n",
       "      <td>«12+» - для детей старше 12 лет</td>\n",
       "      <td>NaN</td>\n",
       "      <td>...</td>\n",
       "      <td>мелодрама,комедия</td>\n",
       "      <td>2,700.00</td>\n",
       "      <td>NaN</td>\n",
       "      <td>2013</td>\n",
       "      <td>В.</td>\n",
       "      <td>Меньшов</td>\n",
       "      <td>мелодрама</td>\n",
       "      <td>NaN</td>\n",
       "      <td>12</td>\n",
       "      <td>NaN</td>\n",
       "    </tr>\n",
       "    <tr>\n",
       "      <th>18</th>\n",
       "      <td>неподдающиеся</td>\n",
       "      <td>111003616</td>\n",
       "      <td>2016-02-12 12:00:00</td>\n",
       "      <td>Художественный</td>\n",
       "      <td>Киностудия \"Мосфильм\"</td>\n",
       "      <td>СССР</td>\n",
       "      <td>Ю.Чулюкин</td>\n",
       "      <td>NaN</td>\n",
       "      <td>«6+» - для детей старше 6 лет</td>\n",
       "      <td>NaN</td>\n",
       "      <td>...</td>\n",
       "      <td>мелодрама,комедия</td>\n",
       "      <td>360.00</td>\n",
       "      <td>NaN</td>\n",
       "      <td>2016</td>\n",
       "      <td>Ю.</td>\n",
       "      <td>Чулюкин</td>\n",
       "      <td>мелодрама</td>\n",
       "      <td>NaN</td>\n",
       "      <td>6</td>\n",
       "      <td>NaN</td>\n",
       "    </tr>\n",
       "    <tr>\n",
       "      <th>19</th>\n",
       "      <td>неподсуден</td>\n",
       "      <td>111003716</td>\n",
       "      <td>2016-02-12 12:00:00</td>\n",
       "      <td>Художественный</td>\n",
       "      <td>Киностудия \"Мосфильм\"</td>\n",
       "      <td>СССР</td>\n",
       "      <td>В.Краснопольский, В.Усков</td>\n",
       "      <td>NaN</td>\n",
       "      <td>«6+» - для детей старше 6 лет</td>\n",
       "      <td>NaN</td>\n",
       "      <td>...</td>\n",
       "      <td>драма</td>\n",
       "      <td>420.00</td>\n",
       "      <td>NaN</td>\n",
       "      <td>2016</td>\n",
       "      <td>В.</td>\n",
       "      <td>Краснопольский</td>\n",
       "      <td>драма</td>\n",
       "      <td>NaN</td>\n",
       "      <td>6</td>\n",
       "      <td>NaN</td>\n",
       "    </tr>\n",
       "  </tbody>\n",
       "</table>\n",
       "<p>3 rows × 24 columns</p>\n",
       "</div>"
      ],
      "text/plain": [
       "              title  pu_number     show_start_date            type  \\\n",
       "6   любовь и голуби  111007013 2013-10-18 12:00:00  Художественный   \n",
       "18    неподдающиеся  111003616 2016-02-12 12:00:00  Художественный   \n",
       "19       неподсуден  111003716 2016-02-12 12:00:00  Художественный   \n",
       "\n",
       "              film_studio production_country                   director  \\\n",
       "6   Киностудия \"Мосфильм\"               СССР                  В.Меньшов   \n",
       "18  Киностудия \"Мосфильм\"               СССР                  Ю.Чулюкин   \n",
       "19  Киностудия \"Мосфильм\"               СССР  В.Краснопольский, В.Усков   \n",
       "\n",
       "   producer                  age_restriction  refundable_support  ...  \\\n",
       "6       NaN  «12+» - для детей старше 12 лет                 NaN  ...   \n",
       "18      NaN    «6+» - для детей старше 6 лет                 NaN  ...   \n",
       "19      NaN    «6+» - для детей старше 6 лет                 NaN  ...   \n",
       "\n",
       "               genres           box_office sum  year firstname_main_director  \\\n",
       "6   мелодрама,комедия             2,700.00 NaN  2013                      В.   \n",
       "18  мелодрама,комедия               360.00 NaN  2016                      Ю.   \n",
       "19              драма               420.00 NaN  2016                      В.   \n",
       "\n",
       "    lastname_main_director  main_genres  gov_support int_age_restriction  \\\n",
       "6                  Меньшов    мелодрама          NaN                  12   \n",
       "18                 Чулюкин    мелодрама          NaN                   6   \n",
       "19          Краснопольский        драма          NaN                   6   \n",
       "\n",
       "   payback  \n",
       "6      NaN  \n",
       "18     NaN  \n",
       "19     NaN  \n",
       "\n",
       "[3 rows x 24 columns]"
      ]
     },
     "execution_count": 79,
     "metadata": {},
     "output_type": "execute_result"
    }
   ],
   "source": [
    "df_edit.loc[(df_edit['budget'].isna())&(~df_edit['box_office'].isna())].head(3)\n",
    "#на всякий случай проверяю, как обработались строки, где бюджет пропущен, ведь, как и было сказано, \n",
    "#непропущенных строк в этом значении 300, а у сборов 3 тысячи"
   ]
  },
  {
   "cell_type": "markdown",
   "metadata": {},
   "source": [
    "Теперь посчитаем реальный средний показатель окупаемость фильмов с гос поддержкой. Так как в столбце 'budget' заполнены только строки фильмов с гос поддержкой, таблицу можно не сортировать и просто вывести среднее столбца"
   ]
  },
  {
   "cell_type": "code",
   "execution_count": 80,
   "metadata": {},
   "outputs": [
    {
     "data": {
      "text/plain": [
       "0.7908777998588545"
      ]
     },
     "execution_count": 80,
     "metadata": {},
     "output_type": "execute_result"
    }
   ],
   "source": [
    "df_edit['payback'].mean()"
   ]
  },
  {
   "cell_type": "code",
   "execution_count": 81,
   "metadata": {},
   "outputs": [
    {
     "data": {
      "text/plain": [
       "<AxesSubplot:title={'center':'Окупаемость фильмов с гос поддержкой в России в период с 2013 по 2019 гг.'}, xlabel='year'>"
      ]
     },
     "execution_count": 81,
     "metadata": {},
     "output_type": "execute_result"
    },
    {
     "data": {
      "image/png": "[encoded data removed]",
      "text/plain": [
       "<Figure size 1080x432 with 1 Axes>"
      ]
     },
     "metadata": {
      "needs_background": "light"
     },
     "output_type": "display_data"
    }
   ],
   "source": [
    "df_edit.pivot_table(index='year', values = 'payback', aggfunc= 'mean').plot(legend=True, figsize=(15, 6), grid = True, title = 'Окупаемость фильмов с гос поддержкой в России в период с 2013 по 2019 гг.')"
   ]
  },
  {
   "cell_type": "markdown",
   "metadata": {},
   "source": [
    "<div class = \"alert alert-info\" style=\"border-left: 7px solid blue\">\n",
    "<h3>Комментарий студента I </h3>\n",
    "\n",
    "А вот и реальная ситуация. Фильмы, которые государство решает поддержать, вообще себя не окупают. Они не возвращают даже один свой бюджет, не то, что действительно окупиться. Возможно, стоит пересмотреть критерии отбора фильма-кандидатов, но не думаю, что это многое поменяет. Российское кино не так сильно соответствует тенденциям. \n",
    "    \n",
    "Несмотря на средние плохие показатели заметна положительная динамика окупаемости. К сожалению, в 2019 году окупаемость немного спала, но, может, 2022 год это исправит.\n",
    "    \n",
    "</div>"
   ]
  },
  {
   "cell_type": "markdown",
   "metadata": {},
   "source": [
    "<div class=\"alert alert-success\"; style=\"border-left: 7px solid green\">\n",
    "<h3>✔ Комментарий ревьюера V.2</h3>\n",
    "    \n",
    "Да, в 2018 году средняя окупаемость хотя бы было больше 1 :) Не для всех фильмов цель -- заработать денег, некоторые носят просветительский характер </div>    \n"
   ]
  },
  {
   "cell_type": "code",
   "execution_count": 91,
   "metadata": {},
   "outputs": [
    {
     "data": {
      "text/plain": [
       "0.2310126582278481"
      ]
     },
     "execution_count": 91,
     "metadata": {},
     "output_type": "execute_result"
    }
   ],
   "source": [
    "# Код ревьюера\n",
    "\n",
    "(df_edit['payback'].dropna() > 1).mean()"
   ]
  },
  {
   "cell_type": "markdown",
   "metadata": {},
   "source": [
    "<div class=\"alert alert-success\"; style=\"border-left: 7px solid green\">\n",
    "<h3>✔ Комментарий ревьюера V.2</h3>\n",
    "    \n",
    "Окупилось собственно около 23 процентов фильмов </div>    \n"
   ]
  },
  {
   "cell_type": "code",
   "execution_count": 87,
   "metadata": {},
   "outputs": [
    {
     "data": {
      "text/plain": [
       "73"
      ]
     },
     "execution_count": 87,
     "metadata": {},
     "output_type": "execute_result"
    }
   ],
   "source": [
    "# Код ревьюера\n",
    "(df_edit['payback'] > 1).sum()"
   ]
  },
  {
   "cell_type": "code",
   "execution_count": 83,
   "metadata": {},
   "outputs": [
    {
     "data": {
      "text/html": [
       "<div>\n",
       "<style scoped>\n",
       "    .dataframe tbody tr th:only-of-type {\n",
       "        vertical-align: middle;\n",
       "    }\n",
       "\n",
       "    .dataframe tbody tr th {\n",
       "        vertical-align: top;\n",
       "    }\n",
       "\n",
       "    .dataframe thead th {\n",
       "        text-align: right;\n",
       "    }\n",
       "</style>\n",
       "<table border=\"1\" class=\"dataframe\">\n",
       "  <thead>\n",
       "    <tr style=\"text-align: right;\">\n",
       "      <th></th>\n",
       "      <th>budget</th>\n",
       "    </tr>\n",
       "    <tr>\n",
       "      <th>ratings</th>\n",
       "      <th></th>\n",
       "    </tr>\n",
       "  </thead>\n",
       "  <tbody>\n",
       "    <tr>\n",
       "      <th>1.00</th>\n",
       "      <td>1</td>\n",
       "    </tr>\n",
       "    <tr>\n",
       "      <th>2.00</th>\n",
       "      <td>1</td>\n",
       "    </tr>\n",
       "    <tr>\n",
       "      <th>3.00</th>\n",
       "      <td>10</td>\n",
       "    </tr>\n",
       "    <tr>\n",
       "      <th>4.00</th>\n",
       "      <td>16</td>\n",
       "    </tr>\n",
       "    <tr>\n",
       "      <th>5.00</th>\n",
       "      <td>60</td>\n",
       "    </tr>\n",
       "    <tr>\n",
       "      <th>6.00</th>\n",
       "      <td>122</td>\n",
       "    </tr>\n",
       "    <tr>\n",
       "      <th>7.00</th>\n",
       "      <td>79</td>\n",
       "    </tr>\n",
       "    <tr>\n",
       "      <th>8.00</th>\n",
       "      <td>25</td>\n",
       "    </tr>\n",
       "    <tr>\n",
       "      <th>9.00</th>\n",
       "      <td>0</td>\n",
       "    </tr>\n",
       "  </tbody>\n",
       "</table>\n",
       "</div>"
      ],
      "text/plain": [
       "         budget\n",
       "ratings        \n",
       "1.00          1\n",
       "2.00          1\n",
       "3.00         10\n",
       "4.00         16\n",
       "5.00         60\n",
       "6.00        122\n",
       "7.00         79\n",
       "8.00         25\n",
       "9.00          0"
      ]
     },
     "execution_count": 83,
     "metadata": {},
     "output_type": "execute_result"
    }
   ],
   "source": [
    "df_rat_gov = df_edit\n",
    "df_rat_gov ['ratings'] = df_rat_gov ['ratings'].round()\n",
    "df_rat_gov = (df_rat_gov.loc[~df_edit['ratings'].isna()]\n",
    " .pivot_table(\n",
    "     index='ratings',\n",
    "     values = 'budget',\n",
    "     aggfunc= 'count'\n",
    " )\n",
    ")\n",
    "df_rat_gov"
   ]
  },
  {
   "cell_type": "markdown",
   "metadata": {},
   "source": [
    "Чаще всего фильмы с гос поддержкой получают оценку около 6. Выше среднего."
   ]
  },
  {
   "cell_type": "markdown",
   "metadata": {},
   "source": [
    "<div class=\"alert alert-success\"; style=\"border-left: 7px solid green\">\n",
    "<h3>✔ Комментарий ревьюера</h3>\n",
    "    \n",
    "Да, рейтинг не такой плохой у фильмов. Можно сравнить с рейтингом фильмов без поддержки. Можно также посмотерть на окупаемост ьфильмов по годам, по жанрам, по режиссерам, по отдельным фильмам и т.п.    \n",
    "</div>    "
   ]
  },
  {
   "cell_type": "markdown",
   "metadata": {
    "id": "V2gYwMcPgFyd"
   },
   "source": [
    "### Шаг 5. Напишите общий вывод"
   ]
  },
  {
   "cell_type": "markdown",
   "metadata": {
    "id": "AYRg3dzXgFye"
   },
   "source": [
    "Выводы по проведенному анализу:\n",
    "\n",
    "1. Пики выхода фильмов пришлись на 2010 и 2019 гг, а пик прокатов - на 2016. В 2017 можно наблюдать серьезный провал как по вызоду фильмов, так и по прокатам;\n",
    "\n",
    "2. Минимальная сумма сборов пришлась на 2010 год, в котором также меньше всего прокатов. Неудачным оказался и 2012 год, зато в период с 2013 сборы начали резко расти и в 2018 достигли отметки в 49,7 млрд рублей;\n",
    "\n",
    "3. Самым богатым как по медианному, так и по среднему значению суммы сборов для одного фильма стал 2017 год;\n",
    "\n",
    "4. Стабильно позицию популярных возрастных категорий держат фильмы для семейного просмотра (не входящие в группу 16 и 18+);\n",
    "\n",
    "5. Кинематограф неплохо поддерживает государство. В среднем, оно финансирует 45% бюджета выбранного фильма;\n",
    "\n",
    "6. Чаще всего гос поддержку получают фильмы с возрастным ограничением 16+, но при этом больше средств из бюджета (на 2,2 млн рублей) получил рейтинг 12+;\n",
    "\n",
    "7. Если вы смотрите фильм, который снят за счет гос поддержки, то очень велика вероятность, что вы смотрите художественный фильм. Но иногда это могут быть и анимационные, а совсем редко документальные фильмы;\n",
    "\n",
    "8. Финансирование обычно поступает за счет средств Министерства Культуры, но Фонд кино не сильно отстает в этих показателях;\n",
    "\n",
    "9. Финансировать предпочитают фильмы жанра драма, комедия и мультфильм;\n",
    "\n",
    "10. Фильмы с гос поддержкой совсем себя не окупают, однако заметна положительная статистика роста это показателя."
   ]
  },
  {
   "cell_type": "markdown",
   "metadata": {},
   "source": [
    "<div class=\"alert alert-success\"; style=\"border-left: 7px solid green\">\n",
    "<h3>✔ Комментарий ревьюера</h3>\n",
    "    \n",
    "В целом очень хорошая работа, нужно только момент с окупаемостью поправить :)\n",
    "</div>    "
   ]
  }
 ],
 "metadata": {
  "ExecuteTimeLog": [
   {
    "duration": 537,
    "start_time": "2021-07-07T10:12:08.634Z"
   },
   {
    "duration": 206,
    "start_time": "2021-07-07T10:12:30.191Z"
   },
   {
    "duration": 227,
    "start_time": "2021-07-07T10:12:33.078Z"
   },
   {
    "duration": 153,
    "start_time": "2021-07-07T10:13:42.146Z"
   },
   {
    "duration": 233,
    "start_time": "2021-07-07T10:30:09.252Z"
   },
   {
    "duration": 19,
    "start_time": "2021-07-07T10:30:15.577Z"
   },
   {
    "duration": 18,
    "start_time": "2021-07-07T10:30:57.348Z"
   },
   {
    "duration": 19,
    "start_time": "2021-07-07T10:31:17.452Z"
   },
   {
    "duration": 21,
    "start_time": "2021-07-07T10:31:32.227Z"
   },
   {
    "duration": 27,
    "start_time": "2021-07-07T10:32:06.588Z"
   },
   {
    "duration": 23,
    "start_time": "2021-07-07T10:32:43.645Z"
   },
   {
    "duration": 24,
    "start_time": "2021-07-07T10:33:06.948Z"
   },
   {
    "duration": 7,
    "start_time": "2021-07-07T10:33:28.558Z"
   },
   {
    "duration": 23,
    "start_time": "2021-07-07T10:33:43.761Z"
   },
   {
    "duration": 28,
    "start_time": "2021-07-07T10:34:13.466Z"
   },
   {
    "duration": 23,
    "start_time": "2021-07-07T10:35:56.187Z"
   },
   {
    "duration": 6,
    "start_time": "2021-07-07T10:36:48.182Z"
   },
   {
    "duration": 14,
    "start_time": "2021-07-07T10:37:49.641Z"
   },
   {
    "duration": 6,
    "start_time": "2021-07-07T10:38:06.694Z"
   },
   {
    "duration": 6,
    "start_time": "2021-07-07T10:38:13.493Z"
   },
   {
    "duration": 19,
    "start_time": "2021-07-07T10:38:44.056Z"
   },
   {
    "duration": 186,
    "start_time": "2021-07-07T10:48:35.618Z"
   },
   {
    "duration": 24,
    "start_time": "2021-07-07T10:48:51.498Z"
   },
   {
    "duration": 20,
    "start_time": "2021-07-07T10:48:59.415Z"
   },
   {
    "duration": 20,
    "start_time": "2021-07-07T10:53:02.195Z"
   },
   {
    "duration": 188,
    "start_time": "2021-07-07T10:54:40.486Z"
   },
   {
    "duration": 115,
    "start_time": "2021-07-07T10:54:52.552Z"
   },
   {
    "duration": 214,
    "start_time": "2021-07-07T10:54:56.354Z"
   },
   {
    "duration": 47,
    "start_time": "2021-07-07T10:54:58.282Z"
   },
   {
    "duration": 217,
    "start_time": "2021-07-07T10:59:16.075Z"
   },
   {
    "duration": 51,
    "start_time": "2021-07-07T10:59:16.243Z"
   },
   {
    "duration": 578,
    "start_time": "2021-07-07T10:59:18.774Z"
   },
   {
    "duration": 161,
    "start_time": "2021-07-07T10:59:21.238Z"
   },
   {
    "duration": 59,
    "start_time": "2021-07-07T10:59:21.453Z"
   },
   {
    "duration": 3,
    "start_time": "2021-07-07T11:02:10.786Z"
   },
   {
    "duration": 13,
    "start_time": "2021-07-07T11:07:07.722Z"
   },
   {
    "duration": 26,
    "start_time": "2021-07-07T11:07:17.958Z"
   },
   {
    "duration": 22,
    "start_time": "2021-07-07T11:08:17.939Z"
   },
   {
    "duration": 212,
    "start_time": "2021-07-07T11:08:19.665Z"
   },
   {
    "duration": 21,
    "start_time": "2021-07-07T11:08:29.945Z"
   },
   {
    "duration": 31,
    "start_time": "2021-07-07T11:08:38.899Z"
   },
   {
    "duration": 23,
    "start_time": "2021-07-07T11:08:54.527Z"
   },
   {
    "duration": 8,
    "start_time": "2021-07-07T11:18:55.974Z"
   },
   {
    "duration": 7,
    "start_time": "2021-07-07T11:19:03.639Z"
   },
   {
    "duration": 7,
    "start_time": "2021-07-07T11:19:06.444Z"
   },
   {
    "duration": 578,
    "start_time": "2021-07-07T12:09:59.576Z"
   },
   {
    "duration": 195,
    "start_time": "2021-07-07T12:10:00.156Z"
   },
   {
    "duration": 115,
    "start_time": "2021-07-07T12:10:00.353Z"
   },
   {
    "duration": 3,
    "start_time": "2021-07-07T12:10:00.470Z"
   },
   {
    "duration": 32,
    "start_time": "2021-07-07T12:10:00.474Z"
   },
   {
    "duration": 23,
    "start_time": "2021-07-07T12:10:00.508Z"
   },
   {
    "duration": 19,
    "start_time": "2021-07-07T12:10:00.533Z"
   },
   {
    "duration": 44,
    "start_time": "2021-07-07T12:10:00.553Z"
   },
   {
    "duration": 7,
    "start_time": "2021-07-07T12:10:00.600Z"
   },
   {
    "duration": 7,
    "start_time": "2021-07-07T12:19:45.761Z"
   },
   {
    "duration": 21,
    "start_time": "2021-07-07T12:21:35.482Z"
   },
   {
    "duration": 21,
    "start_time": "2021-07-07T12:29:23.569Z"
   },
   {
    "duration": 525,
    "start_time": "2021-07-07T12:29:44.542Z"
   },
   {
    "duration": 214,
    "start_time": "2021-07-07T12:29:45.069Z"
   },
   {
    "duration": 92,
    "start_time": "2021-07-07T12:29:45.285Z"
   },
   {
    "duration": 3,
    "start_time": "2021-07-07T12:29:45.379Z"
   },
   {
    "duration": 28,
    "start_time": "2021-07-07T12:29:45.384Z"
   },
   {
    "duration": 23,
    "start_time": "2021-07-07T12:29:45.413Z"
   },
   {
    "duration": 21,
    "start_time": "2021-07-07T12:29:45.437Z"
   },
   {
    "duration": 41,
    "start_time": "2021-07-07T12:29:45.460Z"
   },
   {
    "duration": 7,
    "start_time": "2021-07-07T12:29:45.502Z"
   },
   {
    "duration": 20,
    "start_time": "2021-07-07T12:29:45.511Z"
   },
   {
    "duration": 12,
    "start_time": "2021-07-07T12:34:02.800Z"
   },
   {
    "duration": 7,
    "start_time": "2021-07-07T12:35:10.479Z"
   },
   {
    "duration": 8,
    "start_time": "2021-07-07T12:35:22.440Z"
   },
   {
    "duration": 6,
    "start_time": "2021-07-07T12:35:35.649Z"
   },
   {
    "duration": 6,
    "start_time": "2021-07-07T12:35:43.107Z"
   },
   {
    "duration": 22,
    "start_time": "2021-07-07T12:38:03.029Z"
   },
   {
    "duration": 10,
    "start_time": "2021-07-07T12:38:06.592Z"
   },
   {
    "duration": 563,
    "start_time": "2021-07-07T12:38:46.493Z"
   },
   {
    "duration": 265,
    "start_time": "2021-07-07T12:38:47.058Z"
   },
   {
    "duration": 94,
    "start_time": "2021-07-07T12:38:47.325Z"
   },
   {
    "duration": 3,
    "start_time": "2021-07-07T12:38:47.422Z"
   },
   {
    "duration": 30,
    "start_time": "2021-07-07T12:38:47.427Z"
   },
   {
    "duration": 16,
    "start_time": "2021-07-07T12:38:53.305Z"
   },
   {
    "duration": 10,
    "start_time": "2021-07-07T12:38:53.499Z"
   },
   {
    "duration": 8,
    "start_time": "2021-07-07T12:39:48.161Z"
   },
   {
    "duration": 27,
    "start_time": "2021-07-07T12:41:17.629Z"
   },
   {
    "duration": 17,
    "start_time": "2021-07-07T12:41:17.867Z"
   },
   {
    "duration": 21,
    "start_time": "2021-07-07T12:41:19.310Z"
   },
   {
    "duration": 7,
    "start_time": "2021-07-07T12:41:19.544Z"
   },
   {
    "duration": 20,
    "start_time": "2021-07-07T12:41:20.504Z"
   },
   {
    "duration": 554,
    "start_time": "2021-07-07T12:56:23.696Z"
   },
   {
    "duration": 200,
    "start_time": "2021-07-07T12:56:25.234Z"
   },
   {
    "duration": 119,
    "start_time": "2021-07-07T12:56:25.480Z"
   },
   {
    "duration": 4,
    "start_time": "2021-07-07T12:56:25.762Z"
   },
   {
    "duration": 26,
    "start_time": "2021-07-07T12:56:27.172Z"
   },
   {
    "duration": 12,
    "start_time": "2021-07-07T12:56:29.051Z"
   },
   {
    "duration": 10,
    "start_time": "2021-07-07T12:56:29.291Z"
   },
   {
    "duration": 8,
    "start_time": "2021-07-07T12:56:29.623Z"
   },
   {
    "duration": 28,
    "start_time": "2021-07-07T12:56:32.137Z"
   },
   {
    "duration": 19,
    "start_time": "2021-07-07T12:56:39.785Z"
   },
   {
    "duration": 20,
    "start_time": "2021-07-07T12:56:44.297Z"
   },
   {
    "duration": 7,
    "start_time": "2021-07-07T12:56:45.392Z"
   },
   {
    "duration": 23,
    "start_time": "2021-07-07T12:56:46.615Z"
   },
   {
    "duration": 4,
    "start_time": "2021-07-07T12:57:06.625Z"
   },
   {
    "duration": 32,
    "start_time": "2021-07-07T12:57:36.690Z"
   },
   {
    "duration": 18,
    "start_time": "2021-07-07T12:58:00.149Z"
   },
   {
    "duration": 15,
    "start_time": "2021-07-07T12:59:16.793Z"
   },
   {
    "duration": 7,
    "start_time": "2021-07-07T13:19:22.624Z"
   },
   {
    "duration": 6,
    "start_time": "2021-07-07T14:17:33.527Z"
   },
   {
    "duration": 9,
    "start_time": "2021-07-07T14:17:48.409Z"
   },
   {
    "duration": 8,
    "start_time": "2021-07-07T14:20:13.060Z"
   },
   {
    "duration": 8,
    "start_time": "2021-07-07T14:20:37.957Z"
   },
   {
    "duration": 8,
    "start_time": "2021-07-07T14:20:47.470Z"
   },
   {
    "duration": 9,
    "start_time": "2021-07-07T14:20:54.503Z"
   },
   {
    "duration": 10,
    "start_time": "2021-07-07T14:28:57.763Z"
   },
   {
    "duration": 3,
    "start_time": "2021-07-07T14:30:23.377Z"
   },
   {
    "duration": 3,
    "start_time": "2021-07-07T14:30:36.489Z"
   },
   {
    "duration": 103,
    "start_time": "2021-07-07T14:30:52.351Z"
   },
   {
    "duration": 8,
    "start_time": "2021-07-07T14:30:54.763Z"
   },
   {
    "duration": 8,
    "start_time": "2021-07-07T14:31:29.301Z"
   },
   {
    "duration": 13,
    "start_time": "2021-07-07T14:31:44.516Z"
   },
   {
    "duration": 7,
    "start_time": "2021-07-07T14:33:10.972Z"
   },
   {
    "duration": 11,
    "start_time": "2021-07-07T14:33:27.780Z"
   },
   {
    "duration": 8,
    "start_time": "2021-07-07T14:34:44.588Z"
   },
   {
    "duration": 57,
    "start_time": "2021-07-07T14:35:59.042Z"
   },
   {
    "duration": 3,
    "start_time": "2021-07-07T14:36:28.168Z"
   },
   {
    "duration": 5,
    "start_time": "2021-07-07T14:36:46.254Z"
   },
   {
    "duration": 4,
    "start_time": "2021-07-07T14:36:52.714Z"
   },
   {
    "duration": 3,
    "start_time": "2021-07-07T14:36:56.612Z"
   },
   {
    "duration": 4,
    "start_time": "2021-07-07T14:36:57.049Z"
   },
   {
    "duration": 3,
    "start_time": "2021-07-07T14:39:21.214Z"
   },
   {
    "duration": 7,
    "start_time": "2021-07-07T14:39:52.406Z"
   },
   {
    "duration": 11,
    "start_time": "2021-07-07T14:39:58.576Z"
   },
   {
    "duration": 9,
    "start_time": "2021-07-07T14:40:26.301Z"
   },
   {
    "duration": 10,
    "start_time": "2021-07-07T14:40:31.704Z"
   },
   {
    "duration": 11,
    "start_time": "2021-07-07T14:40:36.249Z"
   },
   {
    "duration": 10,
    "start_time": "2021-07-07T14:40:39.783Z"
   },
   {
    "duration": 9,
    "start_time": "2021-07-07T14:40:48.558Z"
   },
   {
    "duration": 10,
    "start_time": "2021-07-07T14:40:57.143Z"
   },
   {
    "duration": 9,
    "start_time": "2021-07-07T14:41:06.074Z"
   },
   {
    "duration": 4324,
    "start_time": "2021-07-07T14:41:22.004Z"
   },
   {
    "duration": 11,
    "start_time": "2021-07-07T14:41:33.392Z"
   },
   {
    "duration": 9,
    "start_time": "2021-07-07T14:41:39.288Z"
   },
   {
    "duration": 569,
    "start_time": "2021-07-07T14:42:14.387Z"
   },
   {
    "duration": 197,
    "start_time": "2021-07-07T14:42:14.959Z"
   },
   {
    "duration": 84,
    "start_time": "2021-07-07T14:42:16.052Z"
   },
   {
    "duration": 4,
    "start_time": "2021-07-07T14:42:16.900Z"
   },
   {
    "duration": 27,
    "start_time": "2021-07-07T14:42:19.898Z"
   },
   {
    "duration": 12,
    "start_time": "2021-07-07T14:42:21.577Z"
   },
   {
    "duration": 9,
    "start_time": "2021-07-07T14:42:21.813Z"
   },
   {
    "duration": 9,
    "start_time": "2021-07-07T14:42:22.569Z"
   },
   {
    "duration": 29,
    "start_time": "2021-07-07T14:42:25.837Z"
   },
   {
    "duration": 20,
    "start_time": "2021-07-07T14:42:27.003Z"
   },
   {
    "duration": 21,
    "start_time": "2021-07-07T14:42:28.767Z"
   },
   {
    "duration": 7,
    "start_time": "2021-07-07T14:42:29.838Z"
   },
   {
    "duration": 4,
    "start_time": "2021-07-07T14:43:25.493Z"
   },
   {
    "duration": 7,
    "start_time": "2021-07-07T14:43:26.573Z"
   },
   {
    "duration": 10,
    "start_time": "2021-07-07T14:43:31.639Z"
   },
   {
    "duration": 9,
    "start_time": "2021-07-07T14:43:32.046Z"
   },
   {
    "duration": 10,
    "start_time": "2021-07-07T14:43:33.301Z"
   },
   {
    "duration": 12,
    "start_time": "2021-07-07T14:43:33.658Z"
   },
   {
    "duration": 8,
    "start_time": "2021-07-07T14:43:34.552Z"
   },
   {
    "duration": 9,
    "start_time": "2021-07-07T14:43:35.058Z"
   },
   {
    "duration": 12,
    "start_time": "2021-07-07T14:43:35.914Z"
   },
   {
    "duration": 17,
    "start_time": "2021-07-07T14:45:34.368Z"
   },
   {
    "duration": 512,
    "start_time": "2021-07-07T14:51:58.236Z"
   },
   {
    "duration": 223,
    "start_time": "2021-07-07T14:51:58.750Z"
   },
   {
    "duration": 93,
    "start_time": "2021-07-07T14:51:58.977Z"
   },
   {
    "duration": 4,
    "start_time": "2021-07-07T14:51:59.071Z"
   },
   {
    "duration": 37,
    "start_time": "2021-07-07T14:51:59.077Z"
   },
   {
    "duration": 18,
    "start_time": "2021-07-07T14:51:59.116Z"
   },
   {
    "duration": 10,
    "start_time": "2021-07-07T14:51:59.137Z"
   },
   {
    "duration": 8,
    "start_time": "2021-07-07T14:51:59.149Z"
   },
   {
    "duration": 54,
    "start_time": "2021-07-07T14:51:59.158Z"
   },
   {
    "duration": 18,
    "start_time": "2021-07-07T14:51:59.213Z"
   },
   {
    "duration": 22,
    "start_time": "2021-07-07T14:51:59.232Z"
   },
   {
    "duration": 36,
    "start_time": "2021-07-07T14:51:59.255Z"
   },
   {
    "duration": 7,
    "start_time": "2021-07-07T14:51:59.293Z"
   },
   {
    "duration": 10,
    "start_time": "2021-07-07T14:51:59.302Z"
   },
   {
    "duration": 9,
    "start_time": "2021-07-07T14:51:59.313Z"
   },
   {
    "duration": 11,
    "start_time": "2021-07-07T14:51:59.324Z"
   },
   {
    "duration": 8,
    "start_time": "2021-07-07T14:51:59.337Z"
   },
   {
    "duration": 46,
    "start_time": "2021-07-07T14:51:59.347Z"
   },
   {
    "duration": 22,
    "start_time": "2021-07-07T14:51:59.395Z"
   },
   {
    "duration": 24,
    "start_time": "2021-07-07T14:57:32.911Z"
   },
   {
    "duration": 7,
    "start_time": "2021-07-07T14:58:22.070Z"
   },
   {
    "duration": 4,
    "start_time": "2021-07-07T14:59:11.239Z"
   },
   {
    "duration": 25,
    "start_time": "2021-07-07T15:07:22.208Z"
   },
   {
    "duration": 16,
    "start_time": "2021-07-07T15:08:25.560Z"
   },
   {
    "duration": 15,
    "start_time": "2021-07-07T15:08:40.647Z"
   },
   {
    "duration": 14,
    "start_time": "2021-07-07T15:08:46.669Z"
   },
   {
    "duration": 533,
    "start_time": "2021-07-07T15:18:07.440Z"
   },
   {
    "duration": 173,
    "start_time": "2021-07-07T15:18:07.974Z"
   },
   {
    "duration": 84,
    "start_time": "2021-07-07T15:18:08.149Z"
   },
   {
    "duration": 3,
    "start_time": "2021-07-07T15:18:08.235Z"
   },
   {
    "duration": 30,
    "start_time": "2021-07-07T15:18:08.240Z"
   },
   {
    "duration": 22,
    "start_time": "2021-07-07T15:18:08.272Z"
   },
   {
    "duration": 11,
    "start_time": "2021-07-07T15:18:08.295Z"
   },
   {
    "duration": 11,
    "start_time": "2021-07-07T15:18:08.309Z"
   },
   {
    "duration": 40,
    "start_time": "2021-07-07T15:18:08.322Z"
   },
   {
    "duration": 42,
    "start_time": "2021-07-07T15:18:08.364Z"
   },
   {
    "duration": 22,
    "start_time": "2021-07-07T15:18:08.408Z"
   },
   {
    "duration": 5,
    "start_time": "2021-07-07T15:18:08.432Z"
   },
   {
    "duration": 13,
    "start_time": "2021-07-07T15:18:08.439Z"
   },
   {
    "duration": 9,
    "start_time": "2021-07-07T15:18:08.454Z"
   },
   {
    "duration": 32,
    "start_time": "2021-07-07T15:18:08.465Z"
   },
   {
    "duration": 10,
    "start_time": "2021-07-07T15:18:08.501Z"
   },
   {
    "duration": 7,
    "start_time": "2021-07-07T15:18:08.513Z"
   },
   {
    "duration": 11,
    "start_time": "2021-07-07T15:18:08.521Z"
   },
   {
    "duration": 17,
    "start_time": "2021-07-07T15:18:08.534Z"
   },
   {
    "duration": 44,
    "start_time": "2021-07-07T15:18:08.553Z"
   },
   {
    "duration": 22,
    "start_time": "2021-07-07T15:18:08.599Z"
   },
   {
    "duration": 61,
    "start_time": "2021-07-07T15:18:08.622Z"
   },
   {
    "duration": 7,
    "start_time": "2021-07-07T15:18:39.457Z"
   },
   {
    "duration": 5,
    "start_time": "2021-07-07T16:05:17.020Z"
   },
   {
    "duration": 5,
    "start_time": "2021-07-07T16:51:28.794Z"
   },
   {
    "duration": 546,
    "start_time": "2021-07-07T16:52:26.306Z"
   },
   {
    "duration": 203,
    "start_time": "2021-07-07T16:52:27.523Z"
   },
   {
    "duration": 85,
    "start_time": "2021-07-07T16:52:27.736Z"
   },
   {
    "duration": 4,
    "start_time": "2021-07-07T16:52:27.899Z"
   },
   {
    "duration": 25,
    "start_time": "2021-07-07T16:52:28.674Z"
   },
   {
    "duration": 8,
    "start_time": "2021-07-07T16:52:32.956Z"
   },
   {
    "duration": 18,
    "start_time": "2021-07-07T16:52:35.616Z"
   },
   {
    "duration": 6,
    "start_time": "2021-07-07T16:52:36.913Z"
   },
   {
    "duration": 11,
    "start_time": "2021-07-07T16:52:40.258Z"
   },
   {
    "duration": 10,
    "start_time": "2021-07-07T16:52:46.251Z"
   },
   {
    "duration": 8,
    "start_time": "2021-07-07T16:52:47.182Z"
   },
   {
    "duration": 27,
    "start_time": "2021-07-07T16:53:20.391Z"
   },
   {
    "duration": 20,
    "start_time": "2021-07-07T16:53:22.022Z"
   },
   {
    "duration": 23,
    "start_time": "2021-07-07T16:53:23.690Z"
   },
   {
    "duration": 8,
    "start_time": "2021-07-07T16:53:24.261Z"
   },
   {
    "duration": 4,
    "start_time": "2021-07-07T16:53:38.733Z"
   },
   {
    "duration": 7,
    "start_time": "2021-07-07T16:53:40.445Z"
   },
   {
    "duration": 11,
    "start_time": "2021-07-07T16:53:41.348Z"
   },
   {
    "duration": 13,
    "start_time": "2021-07-07T16:53:45.250Z"
   },
   {
    "duration": 12,
    "start_time": "2021-07-07T16:53:45.467Z"
   },
   {
    "duration": 4,
    "start_time": "2021-07-07T16:55:32.704Z"
   },
   {
    "duration": 12,
    "start_time": "2021-07-07T16:55:49.012Z"
   },
   {
    "duration": 18,
    "start_time": "2021-07-07T16:55:49.547Z"
   },
   {
    "duration": 611,
    "start_time": "2021-07-07T16:58:35.156Z"
   },
   {
    "duration": 200,
    "start_time": "2021-07-07T16:58:35.770Z"
   },
   {
    "duration": 86,
    "start_time": "2021-07-07T16:58:35.972Z"
   },
   {
    "duration": 3,
    "start_time": "2021-07-07T16:58:36.060Z"
   },
   {
    "duration": 27,
    "start_time": "2021-07-07T16:58:36.065Z"
   },
   {
    "duration": 8,
    "start_time": "2021-07-07T16:58:36.094Z"
   },
   {
    "duration": 17,
    "start_time": "2021-07-07T16:58:36.103Z"
   },
   {
    "duration": 5,
    "start_time": "2021-07-07T16:58:36.123Z"
   },
   {
    "duration": 11,
    "start_time": "2021-07-07T16:58:36.130Z"
   },
   {
    "duration": 7,
    "start_time": "2021-07-07T16:58:36.143Z"
   },
   {
    "duration": 37,
    "start_time": "2021-07-07T16:58:36.152Z"
   },
   {
    "duration": 27,
    "start_time": "2021-07-07T16:58:36.191Z"
   },
   {
    "duration": 19,
    "start_time": "2021-07-07T16:58:36.219Z"
   },
   {
    "duration": 49,
    "start_time": "2021-07-07T16:58:36.240Z"
   },
   {
    "duration": 6,
    "start_time": "2021-07-07T16:58:36.291Z"
   },
   {
    "duration": 3,
    "start_time": "2021-07-07T16:58:36.299Z"
   },
   {
    "duration": 13,
    "start_time": "2021-07-07T16:58:36.304Z"
   },
   {
    "duration": 10,
    "start_time": "2021-07-07T16:58:36.319Z"
   },
   {
    "duration": 10,
    "start_time": "2021-07-07T16:58:36.331Z"
   },
   {
    "duration": 44,
    "start_time": "2021-07-07T16:58:36.343Z"
   },
   {
    "duration": 4,
    "start_time": "2021-07-07T16:58:36.388Z"
   },
   {
    "duration": 13,
    "start_time": "2021-07-07T16:58:36.394Z"
   },
   {
    "duration": 16,
    "start_time": "2021-07-07T16:58:36.410Z"
   },
   {
    "duration": 8,
    "start_time": "2021-07-07T17:02:31.629Z"
   },
   {
    "duration": 8,
    "start_time": "2021-07-07T17:02:34.308Z"
   },
   {
    "duration": 6,
    "start_time": "2021-07-07T17:05:13.483Z"
   },
   {
    "duration": 17,
    "start_time": "2021-07-07T17:05:20.606Z"
   },
   {
    "duration": 7,
    "start_time": "2021-07-07T17:05:34.638Z"
   },
   {
    "duration": 3,
    "start_time": "2021-07-07T17:06:31.883Z"
   },
   {
    "duration": 570,
    "start_time": "2021-07-07T17:06:37.165Z"
   },
   {
    "duration": 174,
    "start_time": "2021-07-07T17:06:37.737Z"
   },
   {
    "duration": 47,
    "start_time": "2021-07-07T17:06:37.913Z"
   },
   {
    "duration": 3,
    "start_time": "2021-07-07T17:06:37.962Z"
   },
   {
    "duration": 27,
    "start_time": "2021-07-07T17:06:37.967Z"
   },
   {
    "duration": 7,
    "start_time": "2021-07-07T17:06:37.996Z"
   },
   {
    "duration": 16,
    "start_time": "2021-07-07T17:06:38.005Z"
   },
   {
    "duration": 6,
    "start_time": "2021-07-07T17:06:38.024Z"
   },
   {
    "duration": 12,
    "start_time": "2021-07-07T17:06:38.031Z"
   },
   {
    "duration": 41,
    "start_time": "2021-07-07T17:06:38.045Z"
   },
   {
    "duration": 8,
    "start_time": "2021-07-07T17:06:38.088Z"
   },
   {
    "duration": 26,
    "start_time": "2021-07-07T17:06:38.098Z"
   },
   {
    "duration": 17,
    "start_time": "2021-07-07T17:06:38.126Z"
   },
   {
    "duration": 43,
    "start_time": "2021-07-07T17:06:38.144Z"
   },
   {
    "duration": 6,
    "start_time": "2021-07-07T17:06:38.188Z"
   },
   {
    "duration": 5,
    "start_time": "2021-07-07T17:06:38.195Z"
   },
   {
    "duration": 9,
    "start_time": "2021-07-07T17:06:38.201Z"
   },
   {
    "duration": 12,
    "start_time": "2021-07-07T17:06:38.212Z"
   },
   {
    "duration": 11,
    "start_time": "2021-07-07T17:06:38.226Z"
   },
   {
    "duration": 47,
    "start_time": "2021-07-07T17:06:38.239Z"
   },
   {
    "duration": 4,
    "start_time": "2021-07-07T17:06:38.288Z"
   },
   {
    "duration": 13,
    "start_time": "2021-07-07T17:06:38.293Z"
   },
   {
    "duration": 5,
    "start_time": "2021-07-07T17:06:38.309Z"
   },
   {
    "duration": 18,
    "start_time": "2021-07-07T17:06:38.325Z"
   },
   {
    "duration": 20,
    "start_time": "2021-07-07T17:07:02.805Z"
   },
   {
    "duration": 19,
    "start_time": "2021-07-07T17:07:08.527Z"
   },
   {
    "duration": 19,
    "start_time": "2021-07-07T17:07:12.758Z"
   },
   {
    "duration": 22,
    "start_time": "2021-07-07T17:07:17.497Z"
   },
   {
    "duration": 19,
    "start_time": "2021-07-07T17:07:19.645Z"
   },
   {
    "duration": 10,
    "start_time": "2021-07-07T17:07:34.239Z"
   },
   {
    "duration": 17,
    "start_time": "2021-07-07T17:07:54.144Z"
   },
   {
    "duration": 14,
    "start_time": "2021-07-07T17:08:14.357Z"
   },
   {
    "duration": 616,
    "start_time": "2021-07-07T17:08:45.254Z"
   },
   {
    "duration": 178,
    "start_time": "2021-07-07T17:08:45.872Z"
   },
   {
    "duration": 60,
    "start_time": "2021-07-07T17:08:46.054Z"
   },
   {
    "duration": 3,
    "start_time": "2021-07-07T17:08:46.116Z"
   },
   {
    "duration": 26,
    "start_time": "2021-07-07T17:08:46.121Z"
   },
   {
    "duration": 7,
    "start_time": "2021-07-07T17:08:46.149Z"
   },
   {
    "duration": 17,
    "start_time": "2021-07-07T17:08:46.158Z"
   },
   {
    "duration": 14,
    "start_time": "2021-07-07T17:08:46.176Z"
   },
   {
    "duration": 17,
    "start_time": "2021-07-07T17:08:46.193Z"
   },
   {
    "duration": 9,
    "start_time": "2021-07-07T17:08:46.211Z"
   },
   {
    "duration": 21,
    "start_time": "2021-07-07T17:08:46.221Z"
   },
   {
    "duration": 49,
    "start_time": "2021-07-07T17:08:46.244Z"
   },
   {
    "duration": 24,
    "start_time": "2021-07-07T17:08:46.295Z"
   },
   {
    "duration": 22,
    "start_time": "2021-07-07T17:08:46.321Z"
   },
   {
    "duration": 6,
    "start_time": "2021-07-07T17:08:46.345Z"
   },
   {
    "duration": 5,
    "start_time": "2021-07-07T17:08:46.353Z"
   },
   {
    "duration": 13,
    "start_time": "2021-07-07T17:08:46.386Z"
   },
   {
    "duration": 12,
    "start_time": "2021-07-07T17:08:46.402Z"
   },
   {
    "duration": 10,
    "start_time": "2021-07-07T17:08:46.415Z"
   },
   {
    "duration": 7,
    "start_time": "2021-07-07T17:08:46.427Z"
   },
   {
    "duration": 8,
    "start_time": "2021-07-07T17:08:46.435Z"
   },
   {
    "duration": 68,
    "start_time": "2021-07-07T17:08:46.446Z"
   },
   {
    "duration": 13,
    "start_time": "2021-07-07T17:08:46.516Z"
   },
   {
    "duration": 78,
    "start_time": "2021-07-07T17:08:46.530Z"
   },
   {
    "duration": 40,
    "start_time": "2021-07-07T17:09:08.185Z"
   },
   {
    "duration": 16,
    "start_time": "2021-07-07T17:09:19.324Z"
   },
   {
    "duration": 21,
    "start_time": "2021-07-07T17:09:23.290Z"
   },
   {
    "duration": 13,
    "start_time": "2021-07-07T17:09:54.812Z"
   },
   {
    "duration": 13,
    "start_time": "2021-07-07T17:10:02.039Z"
   },
   {
    "duration": 10,
    "start_time": "2021-07-07T17:10:29.632Z"
   },
   {
    "duration": 13,
    "start_time": "2021-07-07T17:10:52.372Z"
   },
   {
    "duration": 13,
    "start_time": "2021-07-07T17:11:17.270Z"
   },
   {
    "duration": 13,
    "start_time": "2021-07-07T17:14:59.284Z"
   },
   {
    "duration": 547,
    "start_time": "2021-07-07T17:18:52.403Z"
   },
   {
    "duration": 163,
    "start_time": "2021-07-07T17:18:52.952Z"
   },
   {
    "duration": 44,
    "start_time": "2021-07-07T17:18:53.117Z"
   },
   {
    "duration": 3,
    "start_time": "2021-07-07T17:18:53.162Z"
   },
   {
    "duration": 26,
    "start_time": "2021-07-07T17:18:53.167Z"
   },
   {
    "duration": 6,
    "start_time": "2021-07-07T17:18:53.195Z"
   },
   {
    "duration": 15,
    "start_time": "2021-07-07T17:18:53.203Z"
   },
   {
    "duration": 5,
    "start_time": "2021-07-07T17:18:53.220Z"
   },
   {
    "duration": 11,
    "start_time": "2021-07-07T17:18:53.228Z"
   },
   {
    "duration": 9,
    "start_time": "2021-07-07T17:18:53.241Z"
   },
   {
    "duration": 41,
    "start_time": "2021-07-07T17:18:53.252Z"
   },
   {
    "duration": 33,
    "start_time": "2021-07-07T17:18:53.295Z"
   },
   {
    "duration": 19,
    "start_time": "2021-07-07T17:18:53.330Z"
   },
   {
    "duration": 49,
    "start_time": "2021-07-07T17:18:53.350Z"
   },
   {
    "duration": 5,
    "start_time": "2021-07-07T17:18:53.401Z"
   },
   {
    "duration": 5,
    "start_time": "2021-07-07T17:18:53.408Z"
   },
   {
    "duration": 11,
    "start_time": "2021-07-07T17:18:53.414Z"
   },
   {
    "duration": 9,
    "start_time": "2021-07-07T17:18:53.427Z"
   },
   {
    "duration": 10,
    "start_time": "2021-07-07T17:18:53.437Z"
   },
   {
    "duration": 39,
    "start_time": "2021-07-07T17:18:53.448Z"
   },
   {
    "duration": 26,
    "start_time": "2021-07-07T17:18:55.799Z"
   },
   {
    "duration": 598,
    "start_time": "2021-07-07T17:20:17.862Z"
   },
   {
    "duration": 161,
    "start_time": "2021-07-07T17:20:18.462Z"
   },
   {
    "duration": 45,
    "start_time": "2021-07-07T17:20:18.626Z"
   },
   {
    "duration": 4,
    "start_time": "2021-07-07T17:20:18.673Z"
   },
   {
    "duration": 38,
    "start_time": "2021-07-07T17:20:26.877Z"
   },
   {
    "duration": 7,
    "start_time": "2021-07-07T17:20:37.405Z"
   },
   {
    "duration": 19,
    "start_time": "2021-07-07T17:20:51.534Z"
   },
   {
    "duration": 5,
    "start_time": "2021-07-07T17:20:57.228Z"
   },
   {
    "duration": 7,
    "start_time": "2021-07-07T17:21:08.235Z"
   },
   {
    "duration": 19,
    "start_time": "2021-07-07T17:21:42.158Z"
   },
   {
    "duration": 14,
    "start_time": "2021-07-07T17:21:50.225Z"
   },
   {
    "duration": 22,
    "start_time": "2021-07-07T17:22:54.104Z"
   },
   {
    "duration": 5,
    "start_time": "2021-07-07T17:22:56.371Z"
   },
   {
    "duration": 14,
    "start_time": "2021-07-07T17:22:58.316Z"
   },
   {
    "duration": 5,
    "start_time": "2021-07-07T17:22:58.493Z"
   },
   {
    "duration": 35,
    "start_time": "2021-07-07T17:22:59.666Z"
   },
   {
    "duration": 6,
    "start_time": "2021-07-07T17:23:02.410Z"
   },
   {
    "duration": 611,
    "start_time": "2021-07-07T17:24:59.664Z"
   },
   {
    "duration": 178,
    "start_time": "2021-07-07T17:25:01.945Z"
   },
   {
    "duration": 47,
    "start_time": "2021-07-07T17:25:02.125Z"
   },
   {
    "duration": 2,
    "start_time": "2021-07-07T17:25:07.903Z"
   },
   {
    "duration": 254,
    "start_time": "2021-07-07T17:25:08.232Z"
   },
   {
    "duration": 182,
    "start_time": "2021-07-07T17:25:08.671Z"
   },
   {
    "duration": 6,
    "start_time": "2021-07-07T17:25:13.104Z"
   },
   {
    "duration": 36,
    "start_time": "2021-07-07T17:25:13.662Z"
   },
   {
    "duration": 7,
    "start_time": "2021-07-07T17:25:14.528Z"
   },
   {
    "duration": 24,
    "start_time": "2021-07-07T17:25:27.982Z"
   },
   {
    "duration": 3,
    "start_time": "2021-07-07T17:25:48.982Z"
   },
   {
    "duration": 165,
    "start_time": "2021-07-07T17:25:48.987Z"
   },
   {
    "duration": 50,
    "start_time": "2021-07-07T17:25:49.154Z"
   },
   {
    "duration": 4,
    "start_time": "2021-07-07T17:25:49.206Z"
   },
   {
    "duration": 26,
    "start_time": "2021-07-07T17:25:49.212Z"
   },
   {
    "duration": 7,
    "start_time": "2021-07-07T17:25:49.240Z"
   },
   {
    "duration": 16,
    "start_time": "2021-07-07T17:25:49.249Z"
   },
   {
    "duration": 22,
    "start_time": "2021-07-07T17:25:49.266Z"
   },
   {
    "duration": 16,
    "start_time": "2021-07-07T17:25:49.291Z"
   },
   {
    "duration": 9,
    "start_time": "2021-07-07T17:25:49.309Z"
   },
   {
    "duration": 7,
    "start_time": "2021-07-07T17:25:49.319Z"
   },
   {
    "duration": 28,
    "start_time": "2021-07-07T17:25:49.328Z"
   },
   {
    "duration": 44,
    "start_time": "2021-07-07T17:25:49.357Z"
   },
   {
    "duration": 22,
    "start_time": "2021-07-07T17:25:49.403Z"
   },
   {
    "duration": 7,
    "start_time": "2021-07-07T17:25:49.427Z"
   },
   {
    "duration": 3,
    "start_time": "2021-07-07T17:25:49.436Z"
   },
   {
    "duration": 44,
    "start_time": "2021-07-07T17:25:49.441Z"
   },
   {
    "duration": 12,
    "start_time": "2021-07-07T17:25:49.488Z"
   },
   {
    "duration": 13,
    "start_time": "2021-07-07T17:25:49.502Z"
   },
   {
    "duration": 10,
    "start_time": "2021-07-07T17:25:49.516Z"
   },
   {
    "duration": 62,
    "start_time": "2021-07-07T17:25:49.527Z"
   },
   {
    "duration": 26,
    "start_time": "2021-07-07T17:26:51.809Z"
   },
   {
    "duration": 26,
    "start_time": "2021-07-07T17:26:55.759Z"
   },
   {
    "duration": 26,
    "start_time": "2021-07-07T17:27:04.501Z"
   },
   {
    "duration": 25,
    "start_time": "2021-07-07T17:28:24.859Z"
   },
   {
    "duration": 21,
    "start_time": "2021-07-07T17:28:55.250Z"
   },
   {
    "duration": 21,
    "start_time": "2021-07-07T17:28:58.885Z"
   },
   {
    "duration": 7,
    "start_time": "2021-07-07T17:45:40.972Z"
   },
   {
    "duration": 13,
    "start_time": "2021-07-07T17:45:42.529Z"
   },
   {
    "duration": 27,
    "start_time": "2021-07-07T17:45:51.026Z"
   },
   {
    "duration": 518,
    "start_time": "2021-07-07T17:46:15.532Z"
   },
   {
    "duration": 235,
    "start_time": "2021-07-07T17:46:16.053Z"
   },
   {
    "duration": 80,
    "start_time": "2021-07-07T17:46:16.292Z"
   },
   {
    "duration": 5,
    "start_time": "2021-07-07T17:46:16.373Z"
   },
   {
    "duration": 26,
    "start_time": "2021-07-07T17:46:16.380Z"
   },
   {
    "duration": 7,
    "start_time": "2021-07-07T17:46:16.408Z"
   },
   {
    "duration": 16,
    "start_time": "2021-07-07T17:46:16.418Z"
   },
   {
    "duration": 5,
    "start_time": "2021-07-07T17:46:16.436Z"
   },
   {
    "duration": 13,
    "start_time": "2021-07-07T17:46:16.442Z"
   },
   {
    "duration": 35,
    "start_time": "2021-07-07T17:46:16.456Z"
   },
   {
    "duration": 8,
    "start_time": "2021-07-07T17:46:16.493Z"
   },
   {
    "duration": 28,
    "start_time": "2021-07-07T17:46:16.502Z"
   },
   {
    "duration": 17,
    "start_time": "2021-07-07T17:46:16.532Z"
   },
   {
    "duration": 44,
    "start_time": "2021-07-07T17:46:16.551Z"
   },
   {
    "duration": 6,
    "start_time": "2021-07-07T17:46:16.597Z"
   },
   {
    "duration": 4,
    "start_time": "2021-07-07T17:46:16.605Z"
   },
   {
    "duration": 9,
    "start_time": "2021-07-07T17:46:16.610Z"
   },
   {
    "duration": 9,
    "start_time": "2021-07-07T17:46:16.621Z"
   },
   {
    "duration": 10,
    "start_time": "2021-07-07T17:46:16.632Z"
   },
   {
    "duration": 43,
    "start_time": "2021-07-07T17:46:16.644Z"
   },
   {
    "duration": 26,
    "start_time": "2021-07-07T17:46:16.689Z"
   },
   {
    "duration": 19,
    "start_time": "2021-07-07T17:46:16.718Z"
   },
   {
    "duration": 8,
    "start_time": "2021-07-07T17:46:16.738Z"
   },
   {
    "duration": 43,
    "start_time": "2021-07-07T17:46:16.747Z"
   },
   {
    "duration": 19,
    "start_time": "2021-07-07T17:46:16.791Z"
   },
   {
    "duration": 9,
    "start_time": "2021-07-07T17:46:16.812Z"
   },
   {
    "duration": 60,
    "start_time": "2021-07-07T17:46:16.822Z"
   },
   {
    "duration": -8,
    "start_time": "2021-07-07T17:46:16.892Z"
   },
   {
    "duration": 12,
    "start_time": "2021-07-07T17:48:47.707Z"
   },
   {
    "duration": 553,
    "start_time": "2021-07-07T18:10:09.350Z"
   },
   {
    "duration": 230,
    "start_time": "2021-07-07T18:10:09.905Z"
   },
   {
    "duration": 97,
    "start_time": "2021-07-07T18:10:10.137Z"
   },
   {
    "duration": 5,
    "start_time": "2021-07-07T18:10:10.236Z"
   },
   {
    "duration": 29,
    "start_time": "2021-07-07T18:10:10.242Z"
   },
   {
    "duration": 7,
    "start_time": "2021-07-07T18:10:10.272Z"
   },
   {
    "duration": 15,
    "start_time": "2021-07-07T18:10:10.281Z"
   },
   {
    "duration": 4,
    "start_time": "2021-07-07T18:10:10.299Z"
   },
   {
    "duration": 14,
    "start_time": "2021-07-07T18:10:10.305Z"
   },
   {
    "duration": 8,
    "start_time": "2021-07-07T18:10:10.321Z"
   },
   {
    "duration": 8,
    "start_time": "2021-07-07T18:10:10.331Z"
   },
   {
    "duration": 56,
    "start_time": "2021-07-07T18:10:10.341Z"
   },
   {
    "duration": 19,
    "start_time": "2021-07-07T18:10:10.399Z"
   },
   {
    "duration": 23,
    "start_time": "2021-07-07T18:10:10.419Z"
   },
   {
    "duration": 6,
    "start_time": "2021-07-07T18:10:10.444Z"
   },
   {
    "duration": 9,
    "start_time": "2021-07-07T18:10:10.451Z"
   },
   {
    "duration": 30,
    "start_time": "2021-07-07T18:10:10.462Z"
   },
   {
    "duration": 9,
    "start_time": "2021-07-07T18:10:10.494Z"
   },
   {
    "duration": 14,
    "start_time": "2021-07-07T18:10:10.505Z"
   },
   {
    "duration": 7,
    "start_time": "2021-07-07T18:10:10.521Z"
   },
   {
    "duration": 26,
    "start_time": "2021-07-07T18:10:10.530Z"
   },
   {
    "duration": 44,
    "start_time": "2021-07-07T18:10:10.558Z"
   },
   {
    "duration": 7,
    "start_time": "2021-07-07T18:10:10.605Z"
   },
   {
    "duration": 11,
    "start_time": "2021-07-07T18:10:10.614Z"
   },
   {
    "duration": 19,
    "start_time": "2021-07-07T18:10:10.626Z"
   },
   {
    "duration": 44,
    "start_time": "2021-07-07T18:10:10.646Z"
   },
   {
    "duration": 516,
    "start_time": "2021-07-07T18:14:00.826Z"
   },
   {
    "duration": 230,
    "start_time": "2021-07-07T18:14:01.344Z"
   },
   {
    "duration": 105,
    "start_time": "2021-07-07T18:14:01.576Z"
   },
   {
    "duration": 5,
    "start_time": "2021-07-07T18:14:01.683Z"
   },
   {
    "duration": 46,
    "start_time": "2021-07-07T18:14:01.690Z"
   },
   {
    "duration": 7,
    "start_time": "2021-07-07T18:14:01.738Z"
   },
   {
    "duration": 20,
    "start_time": "2021-07-07T18:14:01.747Z"
   },
   {
    "duration": 16,
    "start_time": "2021-07-07T18:14:01.769Z"
   },
   {
    "duration": 14,
    "start_time": "2021-07-07T18:14:01.787Z"
   },
   {
    "duration": 15,
    "start_time": "2021-07-07T18:14:01.803Z"
   },
   {
    "duration": 12,
    "start_time": "2021-07-07T18:14:01.820Z"
   },
   {
    "duration": 35,
    "start_time": "2021-07-07T18:14:01.833Z"
   },
   {
    "duration": 31,
    "start_time": "2021-07-07T18:14:01.869Z"
   },
   {
    "duration": 37,
    "start_time": "2021-07-07T18:14:01.902Z"
   },
   {
    "duration": 8,
    "start_time": "2021-07-07T18:14:01.942Z"
   },
   {
    "duration": 16,
    "start_time": "2021-07-07T18:14:01.952Z"
   },
   {
    "duration": 13,
    "start_time": "2021-07-07T18:14:01.970Z"
   },
   {
    "duration": 32,
    "start_time": "2021-07-07T18:14:01.985Z"
   },
   {
    "duration": 11,
    "start_time": "2021-07-07T18:14:02.019Z"
   },
   {
    "duration": 22,
    "start_time": "2021-07-07T18:14:02.031Z"
   },
   {
    "duration": 27,
    "start_time": "2021-07-07T18:14:02.055Z"
   },
   {
    "duration": 18,
    "start_time": "2021-07-07T18:14:02.084Z"
   },
   {
    "duration": 18,
    "start_time": "2021-07-07T18:14:02.106Z"
   },
   {
    "duration": 11,
    "start_time": "2021-07-07T18:14:02.126Z"
   },
   {
    "duration": 21,
    "start_time": "2021-07-07T18:14:02.138Z"
   },
   {
    "duration": 32,
    "start_time": "2021-07-07T18:14:02.161Z"
   },
   {
    "duration": 28,
    "start_time": "2021-07-07T18:14:44.295Z"
   },
   {
    "duration": 6,
    "start_time": "2021-07-07T18:15:05.834Z"
   },
   {
    "duration": 511,
    "start_time": "2021-07-07T18:15:41.541Z"
   },
   {
    "duration": 183,
    "start_time": "2021-07-07T18:15:42.054Z"
   },
   {
    "duration": 50,
    "start_time": "2021-07-07T18:15:42.239Z"
   },
   {
    "duration": 5,
    "start_time": "2021-07-07T18:15:42.291Z"
   },
   {
    "duration": 48,
    "start_time": "2021-07-07T18:15:42.297Z"
   },
   {
    "duration": 8,
    "start_time": "2021-07-07T18:15:42.346Z"
   },
   {
    "duration": 17,
    "start_time": "2021-07-07T18:15:42.356Z"
   },
   {
    "duration": 15,
    "start_time": "2021-07-07T18:15:42.375Z"
   },
   {
    "duration": 12,
    "start_time": "2021-07-07T18:15:42.392Z"
   },
   {
    "duration": 7,
    "start_time": "2021-07-07T18:15:42.406Z"
   },
   {
    "duration": 7,
    "start_time": "2021-07-07T18:15:42.415Z"
   },
   {
    "duration": 29,
    "start_time": "2021-07-07T18:15:42.423Z"
   },
   {
    "duration": 43,
    "start_time": "2021-07-07T18:15:42.453Z"
   },
   {
    "duration": 18,
    "start_time": "2021-07-07T18:15:42.497Z"
   },
   {
    "duration": 6,
    "start_time": "2021-07-07T18:15:42.516Z"
   },
   {
    "duration": 3,
    "start_time": "2021-07-07T18:15:42.523Z"
   },
   {
    "duration": 18,
    "start_time": "2021-07-07T18:15:42.528Z"
   },
   {
    "duration": 10,
    "start_time": "2021-07-07T18:15:42.547Z"
   },
   {
    "duration": 36,
    "start_time": "2021-07-07T18:15:42.559Z"
   },
   {
    "duration": 8,
    "start_time": "2021-07-07T18:15:42.597Z"
   },
   {
    "duration": 28,
    "start_time": "2021-07-07T18:15:42.606Z"
   },
   {
    "duration": 52,
    "start_time": "2021-07-07T18:15:42.635Z"
   },
   {
    "duration": 7,
    "start_time": "2021-07-07T18:15:42.690Z"
   },
   {
    "duration": 10,
    "start_time": "2021-07-07T18:15:42.699Z"
   },
   {
    "duration": 19,
    "start_time": "2021-07-07T18:15:42.711Z"
   },
   {
    "duration": 9,
    "start_time": "2021-07-07T18:15:42.732Z"
   },
   {
    "duration": 5,
    "start_time": "2021-07-07T18:15:42.743Z"
   },
   {
    "duration": 1450,
    "start_time": "2021-07-07T18:15:51.984Z"
   },
   {
    "duration": 161,
    "start_time": "2021-07-07T18:15:53.435Z"
   },
   {
    "duration": 124,
    "start_time": "2021-07-07T18:15:53.598Z"
   },
   {
    "duration": 5,
    "start_time": "2021-07-07T18:15:53.724Z"
   },
   {
    "duration": 34,
    "start_time": "2021-07-07T18:15:53.730Z"
   },
   {
    "duration": 7,
    "start_time": "2021-07-07T18:15:53.765Z"
   },
   {
    "duration": 15,
    "start_time": "2021-07-07T18:15:53.773Z"
   },
   {
    "duration": 5,
    "start_time": "2021-07-07T18:15:53.791Z"
   },
   {
    "duration": 19,
    "start_time": "2021-07-07T18:15:53.798Z"
   },
   {
    "duration": 9,
    "start_time": "2021-07-07T18:15:53.818Z"
   },
   {
    "duration": 19,
    "start_time": "2021-07-07T18:15:53.828Z"
   },
   {
    "duration": 27,
    "start_time": "2021-07-07T18:15:53.848Z"
   },
   {
    "duration": 16,
    "start_time": "2021-07-07T18:15:53.884Z"
   },
   {
    "duration": 29,
    "start_time": "2021-07-07T18:15:53.901Z"
   },
   {
    "duration": 5,
    "start_time": "2021-07-07T18:15:53.932Z"
   },
   {
    "duration": 15,
    "start_time": "2021-07-07T18:15:53.939Z"
   },
   {
    "duration": 13,
    "start_time": "2021-07-07T18:15:53.956Z"
   },
   {
    "duration": 20,
    "start_time": "2021-07-07T18:15:53.971Z"
   },
   {
    "duration": 14,
    "start_time": "2021-07-07T18:15:53.992Z"
   },
   {
    "duration": 9,
    "start_time": "2021-07-07T18:15:54.009Z"
   },
   {
    "duration": 28,
    "start_time": "2021-07-07T18:15:54.020Z"
   },
   {
    "duration": 50,
    "start_time": "2021-07-07T18:15:54.051Z"
   },
   {
    "duration": 8,
    "start_time": "2021-07-07T18:15:54.105Z"
   },
   {
    "duration": 11,
    "start_time": "2021-07-07T18:15:54.115Z"
   },
   {
    "duration": 20,
    "start_time": "2021-07-07T18:15:54.128Z"
   },
   {
    "duration": 13,
    "start_time": "2021-07-07T18:15:54.184Z"
   },
   {
    "duration": 7,
    "start_time": "2021-07-07T18:15:54.199Z"
   },
   {
    "duration": 7,
    "start_time": "2021-07-07T18:17:08.042Z"
   },
   {
    "duration": 8,
    "start_time": "2021-07-07T18:17:21.008Z"
   },
   {
    "duration": 7,
    "start_time": "2021-07-07T18:17:29.003Z"
   },
   {
    "duration": 8,
    "start_time": "2021-07-07T18:17:32.492Z"
   },
   {
    "duration": 9,
    "start_time": "2021-07-07T18:17:41.758Z"
   },
   {
    "duration": 255,
    "start_time": "2021-07-07T18:20:20.897Z"
   },
   {
    "duration": 173,
    "start_time": "2021-07-07T18:20:26.636Z"
   },
   {
    "duration": 7,
    "start_time": "2021-07-07T18:21:47.164Z"
   },
   {
    "duration": 254,
    "start_time": "2021-07-07T18:23:08.703Z"
   },
   {
    "duration": 21,
    "start_time": "2021-07-07T18:23:22.506Z"
   },
   {
    "duration": 315,
    "start_time": "2021-07-07T18:25:54.801Z"
   },
   {
    "duration": 34,
    "start_time": "2021-07-07T18:26:51.817Z"
   },
   {
    "duration": 327,
    "start_time": "2021-07-07T18:26:56.147Z"
   },
   {
    "duration": 342,
    "start_time": "2021-07-07T18:27:15.887Z"
   },
   {
    "duration": 302,
    "start_time": "2021-07-07T18:28:18.569Z"
   },
   {
    "duration": 226,
    "start_time": "2021-07-07T18:29:20.879Z"
   },
   {
    "duration": 207,
    "start_time": "2021-07-07T18:29:58.114Z"
   },
   {
    "duration": 140,
    "start_time": "2021-07-07T18:32:04.372Z"
   },
   {
    "duration": 158,
    "start_time": "2021-07-07T18:32:32.508Z"
   },
   {
    "duration": 145,
    "start_time": "2021-07-07T18:32:41.365Z"
   },
   {
    "duration": 132,
    "start_time": "2021-07-07T18:32:45.199Z"
   },
   {
    "duration": 11,
    "start_time": "2021-07-07T18:35:24.679Z"
   },
   {
    "duration": 268,
    "start_time": "2021-07-07T18:36:16.145Z"
   },
   {
    "duration": 227,
    "start_time": "2021-07-07T18:37:04.918Z"
   },
   {
    "duration": 3,
    "start_time": "2021-07-07T18:37:33.012Z"
   },
   {
    "duration": 671,
    "start_time": "2021-07-07T18:37:38.295Z"
   },
   {
    "duration": 54,
    "start_time": "2021-07-07T18:37:53.406Z"
   },
   {
    "duration": 631,
    "start_time": "2021-07-07T18:37:56.463Z"
   },
   {
    "duration": 19,
    "start_time": "2021-07-07T18:39:40.535Z"
   },
   {
    "duration": 20,
    "start_time": "2021-07-07T18:40:12.236Z"
   },
   {
    "duration": 633,
    "start_time": "2021-07-07T18:42:00.398Z"
   },
   {
    "duration": 218,
    "start_time": "2021-07-07T18:42:01.033Z"
   },
   {
    "duration": 49,
    "start_time": "2021-07-07T18:42:01.253Z"
   },
   {
    "duration": 5,
    "start_time": "2021-07-07T18:42:01.303Z"
   },
   {
    "duration": 27,
    "start_time": "2021-07-07T18:42:01.310Z"
   },
   {
    "duration": 8,
    "start_time": "2021-07-07T18:42:01.339Z"
   },
   {
    "duration": 20,
    "start_time": "2021-07-07T18:42:01.348Z"
   },
   {
    "duration": 6,
    "start_time": "2021-07-07T18:42:01.386Z"
   },
   {
    "duration": 16,
    "start_time": "2021-07-07T18:42:01.394Z"
   },
   {
    "duration": 9,
    "start_time": "2021-07-07T18:42:01.411Z"
   },
   {
    "duration": 11,
    "start_time": "2021-07-07T18:42:01.421Z"
   },
   {
    "duration": 31,
    "start_time": "2021-07-07T18:42:01.434Z"
   },
   {
    "duration": 18,
    "start_time": "2021-07-07T18:42:01.485Z"
   },
   {
    "duration": 23,
    "start_time": "2021-07-07T18:42:01.505Z"
   },
   {
    "duration": 6,
    "start_time": "2021-07-07T18:42:01.530Z"
   },
   {
    "duration": 10,
    "start_time": "2021-07-07T18:42:01.538Z"
   },
   {
    "duration": 13,
    "start_time": "2021-07-07T18:42:01.550Z"
   },
   {
    "duration": 24,
    "start_time": "2021-07-07T18:42:01.564Z"
   },
   {
    "duration": 20,
    "start_time": "2021-07-07T18:42:01.590Z"
   },
   {
    "duration": 8,
    "start_time": "2021-07-07T18:42:01.611Z"
   },
   {
    "duration": 31,
    "start_time": "2021-07-07T18:42:01.620Z"
   },
   {
    "duration": 39,
    "start_time": "2021-07-07T18:42:01.653Z"
   },
   {
    "duration": 8,
    "start_time": "2021-07-07T18:42:01.696Z"
   },
   {
    "duration": 13,
    "start_time": "2021-07-07T18:42:01.705Z"
   },
   {
    "duration": 20,
    "start_time": "2021-07-07T18:42:01.720Z"
   },
   {
    "duration": 12,
    "start_time": "2021-07-07T18:42:01.741Z"
   },
   {
    "duration": 35,
    "start_time": "2021-07-07T18:42:01.755Z"
   },
   {
    "duration": 14,
    "start_time": "2021-07-07T18:42:01.792Z"
   },
   {
    "duration": 188,
    "start_time": "2021-07-07T18:42:01.808Z"
   },
   {
    "duration": 19,
    "start_time": "2021-07-07T18:42:01.998Z"
   },
   {
    "duration": 175,
    "start_time": "2021-07-07T18:42:02.019Z"
   },
   {
    "duration": 134,
    "start_time": "2021-07-07T18:42:02.196Z"
   },
   {
    "duration": 10,
    "start_time": "2021-07-07T18:42:02.331Z"
   },
   {
    "duration": 19,
    "start_time": "2021-07-07T18:42:02.343Z"
   },
   {
    "duration": 628,
    "start_time": "2021-07-07T18:46:30.701Z"
   },
   {
    "duration": 183,
    "start_time": "2021-07-07T18:46:31.331Z"
   },
   {
    "duration": 48,
    "start_time": "2021-07-07T18:46:31.516Z"
   },
   {
    "duration": 5,
    "start_time": "2021-07-07T18:46:31.566Z"
   },
   {
    "duration": 28,
    "start_time": "2021-07-07T18:46:31.572Z"
   },
   {
    "duration": 8,
    "start_time": "2021-07-07T18:46:31.602Z"
   },
   {
    "duration": 19,
    "start_time": "2021-07-07T18:46:31.611Z"
   },
   {
    "duration": 6,
    "start_time": "2021-07-07T18:46:31.633Z"
   },
   {
    "duration": 17,
    "start_time": "2021-07-07T18:46:31.642Z"
   },
   {
    "duration": 10,
    "start_time": "2021-07-07T18:46:31.684Z"
   },
   {
    "duration": 9,
    "start_time": "2021-07-07T18:46:31.695Z"
   },
   {
    "duration": 28,
    "start_time": "2021-07-07T18:46:31.705Z"
   },
   {
    "duration": 18,
    "start_time": "2021-07-07T18:46:31.735Z"
   },
   {
    "duration": 48,
    "start_time": "2021-07-07T18:46:31.755Z"
   },
   {
    "duration": 6,
    "start_time": "2021-07-07T18:46:31.804Z"
   },
   {
    "duration": 4,
    "start_time": "2021-07-07T18:46:31.812Z"
   },
   {
    "duration": 9,
    "start_time": "2021-07-07T18:46:31.817Z"
   },
   {
    "duration": 10,
    "start_time": "2021-07-07T18:46:31.827Z"
   },
   {
    "duration": 12,
    "start_time": "2021-07-07T18:46:31.838Z"
   },
   {
    "duration": 39,
    "start_time": "2021-07-07T18:46:31.851Z"
   },
   {
    "duration": 24,
    "start_time": "2021-07-07T18:46:31.892Z"
   },
   {
    "duration": 15,
    "start_time": "2021-07-07T18:46:31.918Z"
   },
   {
    "duration": 7,
    "start_time": "2021-07-07T18:46:31.936Z"
   },
   {
    "duration": 8,
    "start_time": "2021-07-07T18:46:31.944Z"
   },
   {
    "duration": 19,
    "start_time": "2021-07-07T18:46:31.984Z"
   },
   {
    "duration": 10,
    "start_time": "2021-07-07T18:46:32.004Z"
   },
   {
    "duration": 5,
    "start_time": "2021-07-07T18:46:32.016Z"
   },
   {
    "duration": 9,
    "start_time": "2021-07-07T18:46:32.023Z"
   },
   {
    "duration": 199,
    "start_time": "2021-07-07T18:46:32.033Z"
   },
   {
    "duration": 19,
    "start_time": "2021-07-07T18:46:32.234Z"
   },
   {
    "duration": 159,
    "start_time": "2021-07-07T18:46:32.255Z"
   },
   {
    "duration": 134,
    "start_time": "2021-07-07T18:46:32.416Z"
   },
   {
    "duration": 10,
    "start_time": "2021-07-07T18:46:32.552Z"
   },
   {
    "duration": 34,
    "start_time": "2021-07-07T18:46:32.563Z"
   },
   {
    "duration": 1039,
    "start_time": "2021-07-08T08:41:09.419Z"
   },
   {
    "duration": 333,
    "start_time": "2021-07-08T08:41:10.459Z"
   },
   {
    "duration": 173,
    "start_time": "2021-07-08T08:41:10.794Z"
   },
   {
    "duration": 5,
    "start_time": "2021-07-08T08:41:10.968Z"
   },
   {
    "duration": 25,
    "start_time": "2021-07-08T08:41:10.975Z"
   },
   {
    "duration": 9,
    "start_time": "2021-07-08T08:41:11.002Z"
   },
   {
    "duration": 18,
    "start_time": "2021-07-08T08:41:11.013Z"
   },
   {
    "duration": 6,
    "start_time": "2021-07-08T08:41:11.033Z"
   },
   {
    "duration": 44,
    "start_time": "2021-07-08T08:41:11.042Z"
   },
   {
    "duration": 10,
    "start_time": "2021-07-08T08:41:11.088Z"
   },
   {
    "duration": 9,
    "start_time": "2021-07-08T08:41:11.100Z"
   },
   {
    "duration": 27,
    "start_time": "2021-07-08T08:41:11.111Z"
   },
   {
    "duration": 46,
    "start_time": "2021-07-08T08:41:11.140Z"
   },
   {
    "duration": 17,
    "start_time": "2021-07-08T08:41:11.187Z"
   },
   {
    "duration": 6,
    "start_time": "2021-07-08T08:41:11.206Z"
   },
   {
    "duration": 5,
    "start_time": "2021-07-08T08:41:11.213Z"
   },
   {
    "duration": 10,
    "start_time": "2021-07-08T08:41:11.219Z"
   },
   {
    "duration": 9,
    "start_time": "2021-07-08T08:41:11.230Z"
   },
   {
    "duration": 45,
    "start_time": "2021-07-08T08:41:11.241Z"
   },
   {
    "duration": 7,
    "start_time": "2021-07-08T08:41:11.287Z"
   },
   {
    "duration": 24,
    "start_time": "2021-07-08T08:41:11.296Z"
   },
   {
    "duration": 16,
    "start_time": "2021-07-08T08:41:11.322Z"
   },
   {
    "duration": 7,
    "start_time": "2021-07-08T08:41:11.341Z"
   },
   {
    "duration": 41,
    "start_time": "2021-07-08T08:41:11.349Z"
   },
   {
    "duration": 17,
    "start_time": "2021-07-08T08:41:11.391Z"
   },
   {
    "duration": 9,
    "start_time": "2021-07-08T08:41:11.410Z"
   },
   {
    "duration": 5,
    "start_time": "2021-07-08T08:41:11.421Z"
   },
   {
    "duration": 6,
    "start_time": "2021-07-08T08:41:11.428Z"
   },
   {
    "duration": 198,
    "start_time": "2021-07-08T08:41:11.435Z"
   },
   {
    "duration": 18,
    "start_time": "2021-07-08T08:41:11.635Z"
   },
   {
    "duration": 155,
    "start_time": "2021-07-08T08:41:11.655Z"
   },
   {
    "duration": 138,
    "start_time": "2021-07-08T08:41:11.811Z"
   },
   {
    "duration": 10,
    "start_time": "2021-07-08T08:41:11.950Z"
   },
   {
    "duration": 29,
    "start_time": "2021-07-08T08:41:11.961Z"
   },
   {
    "duration": 171,
    "start_time": "2021-07-08T08:47:44.522Z"
   },
   {
    "duration": 124,
    "start_time": "2021-07-08T08:47:46.872Z"
   },
   {
    "duration": 191,
    "start_time": "2021-07-08T08:47:58.148Z"
   },
   {
    "duration": 191,
    "start_time": "2021-07-08T08:48:07.412Z"
   },
   {
    "duration": 261,
    "start_time": "2021-07-08T08:48:10.385Z"
   },
   {
    "duration": 255,
    "start_time": "2021-07-08T08:48:14.494Z"
   },
   {
    "duration": 219,
    "start_time": "2021-07-08T08:48:22.752Z"
   },
   {
    "duration": 173,
    "start_time": "2021-07-08T08:49:06.395Z"
   },
   {
    "duration": 180,
    "start_time": "2021-07-08T08:49:21.011Z"
   },
   {
    "duration": 6,
    "start_time": "2021-07-08T08:50:31.697Z"
   },
   {
    "duration": 10,
    "start_time": "2021-07-08T08:50:47.394Z"
   },
   {
    "duration": 11,
    "start_time": "2021-07-08T08:53:49.332Z"
   },
   {
    "duration": 171,
    "start_time": "2021-07-08T08:54:28.408Z"
   },
   {
    "duration": 636,
    "start_time": "2021-07-08T09:02:48.385Z"
   },
   {
    "duration": 227,
    "start_time": "2021-07-08T09:02:49.023Z"
   },
   {
    "duration": 104,
    "start_time": "2021-07-08T09:02:49.252Z"
   },
   {
    "duration": 5,
    "start_time": "2021-07-08T09:02:49.358Z"
   },
   {
    "duration": 27,
    "start_time": "2021-07-08T09:02:49.365Z"
   },
   {
    "duration": 8,
    "start_time": "2021-07-08T09:02:49.394Z"
   },
   {
    "duration": 18,
    "start_time": "2021-07-08T09:02:49.404Z"
   },
   {
    "duration": 6,
    "start_time": "2021-07-08T09:02:49.424Z"
   },
   {
    "duration": 11,
    "start_time": "2021-07-08T09:02:49.433Z"
   },
   {
    "duration": 13,
    "start_time": "2021-07-08T09:02:49.485Z"
   },
   {
    "duration": 9,
    "start_time": "2021-07-08T09:02:49.500Z"
   },
   {
    "duration": 38,
    "start_time": "2021-07-08T09:02:49.511Z"
   },
   {
    "duration": 42,
    "start_time": "2021-07-08T09:02:49.551Z"
   },
   {
    "duration": 21,
    "start_time": "2021-07-08T09:02:49.594Z"
   },
   {
    "duration": 6,
    "start_time": "2021-07-08T09:02:49.616Z"
   },
   {
    "duration": 3,
    "start_time": "2021-07-08T09:02:49.623Z"
   },
   {
    "duration": 9,
    "start_time": "2021-07-08T09:02:49.628Z"
   },
   {
    "duration": 52,
    "start_time": "2021-07-08T09:02:49.638Z"
   },
   {
    "duration": 11,
    "start_time": "2021-07-08T09:02:49.692Z"
   },
   {
    "duration": 8,
    "start_time": "2021-07-08T09:02:49.704Z"
   },
   {
    "duration": 27,
    "start_time": "2021-07-08T09:02:49.713Z"
   },
   {
    "duration": 59,
    "start_time": "2021-07-08T09:02:49.741Z"
   },
   {
    "duration": 8,
    "start_time": "2021-07-08T09:02:49.803Z"
   },
   {
    "duration": 14,
    "start_time": "2021-07-08T09:02:49.813Z"
   },
   {
    "duration": 20,
    "start_time": "2021-07-08T09:02:49.829Z"
   },
   {
    "duration": 44,
    "start_time": "2021-07-08T09:02:49.851Z"
   },
   {
    "duration": 14,
    "start_time": "2021-07-08T09:02:49.896Z"
   },
   {
    "duration": 221,
    "start_time": "2021-07-08T09:02:49.912Z"
   },
   {
    "duration": 6,
    "start_time": "2021-07-08T09:02:50.134Z"
   },
   {
    "duration": 206,
    "start_time": "2021-07-08T09:02:50.142Z"
   },
   {
    "duration": 19,
    "start_time": "2021-07-08T09:02:50.350Z"
   },
   {
    "duration": 21,
    "start_time": "2021-07-08T09:02:50.370Z"
   },
   {
    "duration": 20,
    "start_time": "2021-07-08T09:02:50.393Z"
   },
   {
    "duration": 5,
    "start_time": "2021-07-08T09:02:50.414Z"
   },
   {
    "duration": 5,
    "start_time": "2021-07-08T09:03:34.173Z"
   },
   {
    "duration": 6,
    "start_time": "2021-07-08T09:04:49.062Z"
   },
   {
    "duration": 9,
    "start_time": "2021-07-08T09:04:50.118Z"
   },
   {
    "duration": 14,
    "start_time": "2021-07-08T09:04:58.512Z"
   },
   {
    "duration": 9,
    "start_time": "2021-07-08T09:05:10.988Z"
   },
   {
    "duration": 11,
    "start_time": "2021-07-08T09:05:11.743Z"
   },
   {
    "duration": 7,
    "start_time": "2021-07-08T09:05:25.677Z"
   },
   {
    "duration": 13,
    "start_time": "2021-07-08T09:05:47.189Z"
   },
   {
    "duration": 13,
    "start_time": "2021-07-08T09:05:54.755Z"
   },
   {
    "duration": 4,
    "start_time": "2021-07-08T09:06:29.189Z"
   },
   {
    "duration": 244,
    "start_time": "2021-07-08T09:06:29.195Z"
   },
   {
    "duration": 91,
    "start_time": "2021-07-08T09:06:29.441Z"
   },
   {
    "duration": 4,
    "start_time": "2021-07-08T09:06:29.534Z"
   },
   {
    "duration": 28,
    "start_time": "2021-07-08T09:06:29.540Z"
   },
   {
    "duration": 6,
    "start_time": "2021-07-08T09:06:29.570Z"
   },
   {
    "duration": 18,
    "start_time": "2021-07-08T09:06:29.578Z"
   },
   {
    "duration": 5,
    "start_time": "2021-07-08T09:06:29.597Z"
   },
   {
    "duration": 13,
    "start_time": "2021-07-08T09:06:29.605Z"
   },
   {
    "duration": 8,
    "start_time": "2021-07-08T09:06:29.620Z"
   },
   {
    "duration": 7,
    "start_time": "2021-07-08T09:06:29.630Z"
   },
   {
    "duration": 63,
    "start_time": "2021-07-08T09:06:29.639Z"
   },
   {
    "duration": 17,
    "start_time": "2021-07-08T09:06:29.704Z"
   },
   {
    "duration": 20,
    "start_time": "2021-07-08T09:06:29.723Z"
   },
   {
    "duration": 6,
    "start_time": "2021-07-08T09:06:29.745Z"
   },
   {
    "duration": 3,
    "start_time": "2021-07-08T09:06:29.752Z"
   },
   {
    "duration": 7,
    "start_time": "2021-07-08T09:06:29.785Z"
   },
   {
    "duration": 11,
    "start_time": "2021-07-08T09:06:29.794Z"
   },
   {
    "duration": 15,
    "start_time": "2021-07-08T09:06:29.807Z"
   },
   {
    "duration": 8,
    "start_time": "2021-07-08T09:06:29.823Z"
   },
   {
    "duration": 70,
    "start_time": "2021-07-08T09:06:29.832Z"
   },
   {
    "duration": 17,
    "start_time": "2021-07-08T09:06:29.903Z"
   },
   {
    "duration": 9,
    "start_time": "2021-07-08T09:06:29.921Z"
   },
   {
    "duration": 9,
    "start_time": "2021-07-08T09:06:29.932Z"
   },
   {
    "duration": 57,
    "start_time": "2021-07-08T09:06:29.942Z"
   },
   {
    "duration": 11,
    "start_time": "2021-07-08T09:06:30.001Z"
   },
   {
    "duration": 19,
    "start_time": "2021-07-08T09:06:30.016Z"
   },
   {
    "duration": 217,
    "start_time": "2021-07-08T09:06:30.037Z"
   },
   {
    "duration": 6,
    "start_time": "2021-07-08T09:06:30.255Z"
   },
   {
    "duration": 205,
    "start_time": "2021-07-08T09:06:30.263Z"
   },
   {
    "duration": 27,
    "start_time": "2021-07-08T09:06:30.470Z"
   },
   {
    "duration": 11,
    "start_time": "2021-07-08T09:06:30.500Z"
   },
   {
    "duration": 31,
    "start_time": "2021-07-08T09:06:30.513Z"
   },
   {
    "duration": 18,
    "start_time": "2021-07-08T09:06:30.546Z"
   },
   {
    "duration": 11,
    "start_time": "2021-07-08T09:06:30.566Z"
   },
   {
    "duration": 19,
    "start_time": "2021-07-08T09:06:30.579Z"
   },
   {
    "duration": 20,
    "start_time": "2021-07-08T09:06:49.466Z"
   },
   {
    "duration": 9,
    "start_time": "2021-07-08T09:06:51.994Z"
   },
   {
    "duration": 20,
    "start_time": "2021-07-08T09:06:52.273Z"
   },
   {
    "duration": 246,
    "start_time": "2021-07-08T09:10:21.272Z"
   },
   {
    "duration": 84,
    "start_time": "2021-07-08T09:10:21.436Z"
   },
   {
    "duration": 7,
    "start_time": "2021-07-08T09:10:37.608Z"
   },
   {
    "duration": 189,
    "start_time": "2021-07-08T09:10:38.573Z"
   },
   {
    "duration": 185,
    "start_time": "2021-07-08T09:10:53.181Z"
   },
   {
    "duration": 11,
    "start_time": "2021-07-08T09:10:59.549Z"
   },
   {
    "duration": 42,
    "start_time": "2021-07-08T09:10:59.709Z"
   },
   {
    "duration": 12,
    "start_time": "2021-07-08T09:11:02.857Z"
   },
   {
    "duration": 28,
    "start_time": "2021-07-08T09:11:10.062Z"
   },
   {
    "duration": 249,
    "start_time": "2021-07-08T09:11:37.388Z"
   },
   {
    "duration": 232,
    "start_time": "2021-07-08T09:11:49.485Z"
   },
   {
    "duration": 453,
    "start_time": "2021-07-08T09:12:01.546Z"
   },
   {
    "duration": 440,
    "start_time": "2021-07-08T09:12:12.347Z"
   },
   {
    "duration": 213,
    "start_time": "2021-07-08T09:13:32.196Z"
   },
   {
    "duration": 172,
    "start_time": "2021-07-08T09:14:07.400Z"
   },
   {
    "duration": 185,
    "start_time": "2021-07-08T09:14:14.905Z"
   },
   {
    "duration": 209,
    "start_time": "2021-07-08T09:14:40.109Z"
   },
   {
    "duration": 201,
    "start_time": "2021-07-08T09:14:54.506Z"
   },
   {
    "duration": 622,
    "start_time": "2021-07-08T09:18:14.497Z"
   },
   {
    "duration": 220,
    "start_time": "2021-07-08T09:18:15.121Z"
   },
   {
    "duration": 79,
    "start_time": "2021-07-08T09:18:15.343Z"
   },
   {
    "duration": 4,
    "start_time": "2021-07-08T09:18:15.425Z"
   },
   {
    "duration": 24,
    "start_time": "2021-07-08T09:18:15.431Z"
   },
   {
    "duration": 8,
    "start_time": "2021-07-08T09:18:15.457Z"
   },
   {
    "duration": 16,
    "start_time": "2021-07-08T09:18:15.466Z"
   },
   {
    "duration": 5,
    "start_time": "2021-07-08T09:18:15.484Z"
   },
   {
    "duration": 10,
    "start_time": "2021-07-08T09:18:15.493Z"
   },
   {
    "duration": 8,
    "start_time": "2021-07-08T09:18:15.504Z"
   },
   {
    "duration": 7,
    "start_time": "2021-07-08T09:18:15.513Z"
   },
   {
    "duration": 26,
    "start_time": "2021-07-08T09:18:15.522Z"
   },
   {
    "duration": 49,
    "start_time": "2021-07-08T09:18:15.550Z"
   },
   {
    "duration": 21,
    "start_time": "2021-07-08T09:18:15.601Z"
   },
   {
    "duration": 8,
    "start_time": "2021-07-08T09:18:15.624Z"
   },
   {
    "duration": 3,
    "start_time": "2021-07-08T09:18:15.634Z"
   },
   {
    "duration": 8,
    "start_time": "2021-07-08T09:18:15.639Z"
   },
   {
    "duration": 45,
    "start_time": "2021-07-08T09:18:15.649Z"
   },
   {
    "duration": 13,
    "start_time": "2021-07-08T09:18:15.696Z"
   },
   {
    "duration": 10,
    "start_time": "2021-07-08T09:18:15.711Z"
   },
   {
    "duration": 64,
    "start_time": "2021-07-08T09:18:15.722Z"
   },
   {
    "duration": 19,
    "start_time": "2021-07-08T09:18:15.788Z"
   },
   {
    "duration": 9,
    "start_time": "2021-07-08T09:18:15.809Z"
   },
   {
    "duration": 9,
    "start_time": "2021-07-08T09:18:15.820Z"
   },
   {
    "duration": 18,
    "start_time": "2021-07-08T09:18:15.831Z"
   },
   {
    "duration": 43,
    "start_time": "2021-07-08T09:18:15.851Z"
   },
   {
    "duration": 12,
    "start_time": "2021-07-08T09:18:15.897Z"
   },
   {
    "duration": 219,
    "start_time": "2021-07-08T09:18:15.911Z"
   },
   {
    "duration": 8,
    "start_time": "2021-07-08T09:18:16.132Z"
   },
   {
    "duration": 199,
    "start_time": "2021-07-08T09:18:16.141Z"
   },
   {
    "duration": 18,
    "start_time": "2021-07-08T09:18:16.341Z"
   },
   {
    "duration": 24,
    "start_time": "2021-07-08T09:18:16.361Z"
   },
   {
    "duration": 24,
    "start_time": "2021-07-08T09:18:16.387Z"
   },
   {
    "duration": 211,
    "start_time": "2021-07-08T09:18:16.413Z"
   },
   {
    "duration": 18,
    "start_time": "2021-07-08T09:18:16.626Z"
   },
   {
    "duration": 596,
    "start_time": "2021-07-08T10:06:33.623Z"
   },
   {
    "duration": 181,
    "start_time": "2021-07-08T10:06:34.221Z"
   },
   {
    "duration": 176,
    "start_time": "2021-07-08T10:06:34.635Z"
   },
   {
    "duration": 239,
    "start_time": "2021-07-08T10:06:55.572Z"
   },
   {
    "duration": 6,
    "start_time": "2021-07-08T10:06:57.687Z"
   },
   {
    "duration": 4,
    "start_time": "2021-07-08T10:07:03.956Z"
   },
   {
    "duration": 4,
    "start_time": "2021-07-08T10:07:10.376Z"
   },
   {
    "duration": 4,
    "start_time": "2021-07-08T10:17:19.889Z"
   },
   {
    "duration": 3,
    "start_time": "2021-07-08T10:19:19.407Z"
   },
   {
    "duration": 197,
    "start_time": "2021-07-08T10:19:19.412Z"
   },
   {
    "duration": 127,
    "start_time": "2021-07-08T10:19:19.611Z"
   },
   {
    "duration": 4,
    "start_time": "2021-07-08T10:19:19.740Z"
   },
   {
    "duration": 27,
    "start_time": "2021-07-08T10:19:19.746Z"
   },
   {
    "duration": 7,
    "start_time": "2021-07-08T10:19:19.775Z"
   },
   {
    "duration": 30,
    "start_time": "2021-07-08T10:19:19.784Z"
   },
   {
    "duration": 7,
    "start_time": "2021-07-08T10:19:19.817Z"
   },
   {
    "duration": 26,
    "start_time": "2021-07-08T10:19:19.826Z"
   },
   {
    "duration": 18,
    "start_time": "2021-07-08T10:19:19.854Z"
   },
   {
    "duration": 14,
    "start_time": "2021-07-08T10:19:19.874Z"
   },
   {
    "duration": 48,
    "start_time": "2021-07-08T10:19:19.890Z"
   },
   {
    "duration": 17,
    "start_time": "2021-07-08T10:19:19.940Z"
   },
   {
    "duration": 38,
    "start_time": "2021-07-08T10:19:19.959Z"
   },
   {
    "duration": 8,
    "start_time": "2021-07-08T10:19:19.999Z"
   },
   {
    "duration": 15,
    "start_time": "2021-07-08T10:19:20.009Z"
   },
   {
    "duration": 22,
    "start_time": "2021-07-08T10:19:20.026Z"
   },
   {
    "duration": 10,
    "start_time": "2021-07-08T10:19:20.050Z"
   },
   {
    "duration": 10,
    "start_time": "2021-07-08T10:19:20.062Z"
   },
   {
    "duration": 20,
    "start_time": "2021-07-08T10:19:20.073Z"
   },
   {
    "duration": 29,
    "start_time": "2021-07-08T10:19:20.095Z"
   },
   {
    "duration": 17,
    "start_time": "2021-07-08T10:19:20.126Z"
   },
   {
    "duration": 40,
    "start_time": "2021-07-08T10:19:20.146Z"
   },
   {
    "duration": 15,
    "start_time": "2021-07-08T10:19:20.189Z"
   },
   {
    "duration": 19,
    "start_time": "2021-07-08T10:19:20.206Z"
   },
   {
    "duration": 10,
    "start_time": "2021-07-08T10:19:20.226Z"
   },
   {
    "duration": 11,
    "start_time": "2021-07-08T10:19:20.238Z"
   },
   {
    "duration": 297,
    "start_time": "2021-07-08T10:19:20.250Z"
   },
   {
    "duration": 6,
    "start_time": "2021-07-08T10:19:20.549Z"
   },
   {
    "duration": 191,
    "start_time": "2021-07-08T10:19:20.557Z"
   },
   {
    "duration": 19,
    "start_time": "2021-07-08T10:19:20.750Z"
   },
   {
    "duration": 20,
    "start_time": "2021-07-08T10:19:20.771Z"
   },
   {
    "duration": 15,
    "start_time": "2021-07-08T10:19:20.793Z"
   },
   {
    "duration": 222,
    "start_time": "2021-07-08T10:19:20.809Z"
   },
   {
    "duration": 20,
    "start_time": "2021-07-08T10:19:21.033Z"
   },
   {
    "duration": 27,
    "start_time": "2021-07-08T10:45:04.055Z"
   },
   {
    "duration": 8,
    "start_time": "2021-07-08T10:45:08.478Z"
   },
   {
    "duration": 8,
    "start_time": "2021-07-08T10:45:31.982Z"
   },
   {
    "duration": 10,
    "start_time": "2021-07-08T10:46:01.221Z"
   },
   {
    "duration": 17,
    "start_time": "2021-07-08T10:46:40.011Z"
   },
   {
    "duration": 193,
    "start_time": "2021-07-08T10:48:19.471Z"
   },
   {
    "duration": 225,
    "start_time": "2021-07-08T10:49:26.480Z"
   },
   {
    "duration": 204,
    "start_time": "2021-07-08T10:49:59.992Z"
   },
   {
    "duration": 435,
    "start_time": "2021-07-08T10:50:06.779Z"
   },
   {
    "duration": 199,
    "start_time": "2021-07-08T10:50:14.891Z"
   },
   {
    "duration": 204,
    "start_time": "2021-07-08T10:50:18.501Z"
   },
   {
    "duration": 244,
    "start_time": "2021-07-08T10:50:23.359Z"
   },
   {
    "duration": 192,
    "start_time": "2021-07-08T10:50:29.135Z"
   },
   {
    "duration": 218,
    "start_time": "2021-07-08T10:50:33.092Z"
   },
   {
    "duration": 207,
    "start_time": "2021-07-08T10:52:45.381Z"
   },
   {
    "duration": 5,
    "start_time": "2021-07-08T10:53:34.641Z"
   },
   {
    "duration": 196,
    "start_time": "2021-07-08T10:53:41.478Z"
   },
   {
    "duration": 43,
    "start_time": "2021-07-08T10:53:50.335Z"
   },
   {
    "duration": 32,
    "start_time": "2021-07-08T10:53:55.294Z"
   },
   {
    "duration": 55,
    "start_time": "2021-07-08T10:54:09.675Z"
   },
   {
    "duration": 16,
    "start_time": "2021-07-08T10:54:12.260Z"
   },
   {
    "duration": 15,
    "start_time": "2021-07-08T10:54:49.150Z"
   },
   {
    "duration": 20,
    "start_time": "2021-07-08T10:56:07.596Z"
   },
   {
    "duration": 16,
    "start_time": "2021-07-08T10:58:26.276Z"
   },
   {
    "duration": 22,
    "start_time": "2021-07-08T10:59:00.486Z"
   },
   {
    "duration": 18,
    "start_time": "2021-07-08T11:02:09.653Z"
   },
   {
    "duration": 10,
    "start_time": "2021-07-08T11:03:44.331Z"
   },
   {
    "duration": 10,
    "start_time": "2021-07-08T11:03:54.055Z"
   },
   {
    "duration": 12,
    "start_time": "2021-07-08T11:04:41.967Z"
   },
   {
    "duration": 24,
    "start_time": "2021-07-08T11:07:30.732Z"
   },
   {
    "duration": 6,
    "start_time": "2021-07-08T11:07:37.364Z"
   },
   {
    "duration": 16,
    "start_time": "2021-07-08T11:08:01.819Z"
   },
   {
    "duration": 17,
    "start_time": "2021-07-08T11:09:47.488Z"
   },
   {
    "duration": 246,
    "start_time": "2021-07-08T11:10:00.830Z"
   },
   {
    "duration": 18,
    "start_time": "2021-07-08T11:13:55.195Z"
   },
   {
    "duration": 204,
    "start_time": "2021-07-08T11:14:04.951Z"
   },
   {
    "duration": 19,
    "start_time": "2021-07-08T11:15:10.613Z"
   },
   {
    "duration": 680,
    "start_time": "2021-07-08T11:16:25.793Z"
   },
   {
    "duration": 451,
    "start_time": "2021-07-08T11:16:40.313Z"
   },
   {
    "duration": 469,
    "start_time": "2021-07-08T11:17:21.286Z"
   },
   {
    "duration": 20,
    "start_time": "2021-07-08T11:19:12.554Z"
   },
   {
    "duration": 35,
    "start_time": "2021-07-08T11:20:05.484Z"
   },
   {
    "duration": 53,
    "start_time": "2021-07-08T11:21:40.050Z"
   },
   {
    "duration": 13,
    "start_time": "2021-07-08T11:22:26.059Z"
   },
   {
    "duration": 19,
    "start_time": "2021-07-08T11:22:47.419Z"
   },
   {
    "duration": 25,
    "start_time": "2021-07-08T11:23:19.958Z"
   },
   {
    "duration": 29,
    "start_time": "2021-07-08T11:23:25.415Z"
   },
   {
    "duration": 10,
    "start_time": "2021-07-08T11:24:45.138Z"
   },
   {
    "duration": 19,
    "start_time": "2021-07-08T11:24:54.498Z"
   },
   {
    "duration": 12,
    "start_time": "2021-07-08T11:25:32.225Z"
   },
   {
    "duration": 19,
    "start_time": "2021-07-08T11:25:37.092Z"
   },
   {
    "duration": 17,
    "start_time": "2021-07-08T11:25:58.116Z"
   },
   {
    "duration": 15,
    "start_time": "2021-07-08T11:26:02.258Z"
   },
   {
    "duration": 8,
    "start_time": "2021-07-08T11:26:59.682Z"
   },
   {
    "duration": 184,
    "start_time": "2021-07-08T11:27:21.894Z"
   },
   {
    "duration": 8,
    "start_time": "2021-07-08T11:27:23.824Z"
   },
   {
    "duration": 202,
    "start_time": "2021-07-08T11:27:23.962Z"
   },
   {
    "duration": 360,
    "start_time": "2021-07-08T11:28:33.215Z"
   },
   {
    "duration": 231,
    "start_time": "2021-07-08T11:32:05.542Z"
   },
   {
    "duration": 607,
    "start_time": "2021-07-08T11:36:27.854Z"
   },
   {
    "duration": 241,
    "start_time": "2021-07-08T11:36:28.463Z"
   },
   {
    "duration": 67,
    "start_time": "2021-07-08T11:36:28.709Z"
   },
   {
    "duration": 5,
    "start_time": "2021-07-08T11:36:28.778Z"
   },
   {
    "duration": 32,
    "start_time": "2021-07-08T11:36:28.784Z"
   },
   {
    "duration": 11,
    "start_time": "2021-07-08T11:36:28.819Z"
   },
   {
    "duration": 20,
    "start_time": "2021-07-08T11:36:28.834Z"
   },
   {
    "duration": 36,
    "start_time": "2021-07-08T11:36:28.857Z"
   },
   {
    "duration": 16,
    "start_time": "2021-07-08T11:36:28.895Z"
   },
   {
    "duration": 14,
    "start_time": "2021-07-08T11:36:28.913Z"
   },
   {
    "duration": 9,
    "start_time": "2021-07-08T11:36:28.930Z"
   },
   {
    "duration": 55,
    "start_time": "2021-07-08T11:36:28.941Z"
   },
   {
    "duration": 27,
    "start_time": "2021-07-08T11:36:28.999Z"
   },
   {
    "duration": 30,
    "start_time": "2021-07-08T11:36:29.028Z"
   },
   {
    "duration": 31,
    "start_time": "2021-07-08T11:36:29.060Z"
   },
   {
    "duration": 3,
    "start_time": "2021-07-08T11:36:29.093Z"
   },
   {
    "duration": 12,
    "start_time": "2021-07-08T11:36:29.099Z"
   },
   {
    "duration": 11,
    "start_time": "2021-07-08T11:36:29.112Z"
   },
   {
    "duration": 12,
    "start_time": "2021-07-08T11:36:29.125Z"
   },
   {
    "duration": 9,
    "start_time": "2021-07-08T11:36:29.139Z"
   },
   {
    "duration": 31,
    "start_time": "2021-07-08T11:36:29.191Z"
   },
   {
    "duration": 17,
    "start_time": "2021-07-08T11:36:29.226Z"
   },
   {
    "duration": 7,
    "start_time": "2021-07-08T11:36:29.245Z"
   },
   {
    "duration": 10,
    "start_time": "2021-07-08T11:36:29.254Z"
   },
   {
    "duration": 30,
    "start_time": "2021-07-08T11:36:29.292Z"
   },
   {
    "duration": 11,
    "start_time": "2021-07-08T11:36:29.324Z"
   },
   {
    "duration": 11,
    "start_time": "2021-07-08T11:36:29.337Z"
   },
   {
    "duration": 230,
    "start_time": "2021-07-08T11:36:29.349Z"
   },
   {
    "duration": 13,
    "start_time": "2021-07-08T11:36:29.588Z"
   },
   {
    "duration": 205,
    "start_time": "2021-07-08T11:36:29.603Z"
   },
   {
    "duration": 20,
    "start_time": "2021-07-08T11:36:29.810Z"
   },
   {
    "duration": 9,
    "start_time": "2021-07-08T11:36:29.832Z"
   },
   {
    "duration": 16,
    "start_time": "2021-07-08T11:36:29.843Z"
   },
   {
    "duration": 283,
    "start_time": "2021-07-08T11:36:29.861Z"
   },
   {
    "duration": 50,
    "start_time": "2021-07-08T11:36:30.146Z"
   },
   {
    "duration": 14,
    "start_time": "2021-07-08T11:36:30.198Z"
   },
   {
    "duration": 11,
    "start_time": "2021-07-08T11:36:30.214Z"
   },
   {
    "duration": 245,
    "start_time": "2021-07-08T11:36:30.227Z"
   },
   {
    "duration": 439,
    "start_time": "2021-07-08T11:36:30.474Z"
   },
   {
    "duration": 210,
    "start_time": "2021-07-08T11:36:30.915Z"
   },
   {
    "duration": 15,
    "start_time": "2021-07-08T11:36:31.127Z"
   },
   {
    "duration": 17,
    "start_time": "2021-07-08T11:38:20.451Z"
   },
   {
    "duration": 642,
    "start_time": "2021-07-08T11:46:17.881Z"
   },
   {
    "duration": 210,
    "start_time": "2021-07-08T11:46:18.525Z"
   },
   {
    "duration": 104,
    "start_time": "2021-07-08T11:46:18.741Z"
   },
   {
    "duration": 8,
    "start_time": "2021-07-08T11:46:18.847Z"
   },
   {
    "duration": 25,
    "start_time": "2021-07-08T11:46:18.857Z"
   },
   {
    "duration": 14,
    "start_time": "2021-07-08T11:46:18.884Z"
   },
   {
    "duration": 22,
    "start_time": "2021-07-08T11:46:18.900Z"
   },
   {
    "duration": 5,
    "start_time": "2021-07-08T11:46:18.924Z"
   },
   {
    "duration": 13,
    "start_time": "2021-07-08T11:46:18.931Z"
   },
   {
    "duration": 45,
    "start_time": "2021-07-08T11:46:18.946Z"
   },
   {
    "duration": 12,
    "start_time": "2021-07-08T11:46:18.993Z"
   },
   {
    "duration": 38,
    "start_time": "2021-07-08T11:46:19.006Z"
   },
   {
    "duration": 50,
    "start_time": "2021-07-08T11:46:19.046Z"
   },
   {
    "duration": 29,
    "start_time": "2021-07-08T11:46:19.099Z"
   },
   {
    "duration": 7,
    "start_time": "2021-07-08T11:46:19.130Z"
   },
   {
    "duration": 3,
    "start_time": "2021-07-08T11:46:19.139Z"
   },
   {
    "duration": 11,
    "start_time": "2021-07-08T11:46:19.144Z"
   },
   {
    "duration": 40,
    "start_time": "2021-07-08T11:46:19.157Z"
   },
   {
    "duration": 15,
    "start_time": "2021-07-08T11:46:19.199Z"
   },
   {
    "duration": 10,
    "start_time": "2021-07-08T11:46:19.217Z"
   },
   {
    "duration": 68,
    "start_time": "2021-07-08T11:46:19.230Z"
   },
   {
    "duration": 17,
    "start_time": "2021-07-08T11:46:19.301Z"
   },
   {
    "duration": 7,
    "start_time": "2021-07-08T11:46:19.321Z"
   },
   {
    "duration": 11,
    "start_time": "2021-07-08T11:46:19.330Z"
   },
   {
    "duration": 59,
    "start_time": "2021-07-08T11:46:19.343Z"
   },
   {
    "duration": 17,
    "start_time": "2021-07-08T11:46:19.405Z"
   },
   {
    "duration": 16,
    "start_time": "2021-07-08T11:46:19.424Z"
   },
   {
    "duration": 252,
    "start_time": "2021-07-08T11:46:19.443Z"
   },
   {
    "duration": 9,
    "start_time": "2021-07-08T11:46:19.697Z"
   },
   {
    "duration": 224,
    "start_time": "2021-07-08T11:46:19.708Z"
   },
   {
    "duration": 21,
    "start_time": "2021-07-08T11:46:19.934Z"
   },
   {
    "duration": 9,
    "start_time": "2021-07-08T11:46:19.956Z"
   },
   {
    "duration": 32,
    "start_time": "2021-07-08T11:46:19.967Z"
   },
   {
    "duration": 288,
    "start_time": "2021-07-08T11:46:20.004Z"
   },
   {
    "duration": 23,
    "start_time": "2021-07-08T11:46:20.300Z"
   },
   {
    "duration": 11,
    "start_time": "2021-07-08T11:46:20.325Z"
   },
   {
    "duration": 11,
    "start_time": "2021-07-08T11:46:20.339Z"
   },
   {
    "duration": 259,
    "start_time": "2021-07-08T11:46:20.352Z"
   },
   {
    "duration": 438,
    "start_time": "2021-07-08T11:46:20.613Z"
   },
   {
    "duration": 207,
    "start_time": "2021-07-08T11:46:21.054Z"
   },
   {
    "duration": 27,
    "start_time": "2021-07-08T11:46:21.262Z"
   },
   {
    "duration": 19,
    "start_time": "2021-07-08T11:46:21.291Z"
   },
   {
    "duration": 820,
    "start_time": "2021-07-08T11:49:01.655Z"
   },
   {
    "duration": 372,
    "start_time": "2021-07-08T11:49:02.478Z"
   },
   {
    "duration": 98,
    "start_time": "2021-07-08T11:49:02.853Z"
   },
   {
    "duration": 6,
    "start_time": "2021-07-08T11:49:02.953Z"
   },
   {
    "duration": 39,
    "start_time": "2021-07-08T11:49:02.960Z"
   },
   {
    "duration": 9,
    "start_time": "2021-07-08T11:49:03.003Z"
   },
   {
    "duration": 23,
    "start_time": "2021-07-08T11:49:03.014Z"
   },
   {
    "duration": 6,
    "start_time": "2021-07-08T11:49:03.041Z"
   },
   {
    "duration": 20,
    "start_time": "2021-07-08T11:49:03.049Z"
   },
   {
    "duration": 18,
    "start_time": "2021-07-08T11:49:03.084Z"
   },
   {
    "duration": 14,
    "start_time": "2021-07-08T11:49:03.104Z"
   },
   {
    "duration": 39,
    "start_time": "2021-07-08T11:49:03.119Z"
   },
   {
    "duration": 38,
    "start_time": "2021-07-08T11:49:03.160Z"
   },
   {
    "duration": 26,
    "start_time": "2021-07-08T11:49:03.200Z"
   },
   {
    "duration": 7,
    "start_time": "2021-07-08T11:49:03.227Z"
   },
   {
    "duration": 4,
    "start_time": "2021-07-08T11:49:03.236Z"
   },
   {
    "duration": 15,
    "start_time": "2021-07-08T11:49:03.243Z"
   },
   {
    "duration": 21,
    "start_time": "2021-07-08T11:49:03.285Z"
   },
   {
    "duration": 17,
    "start_time": "2021-07-08T11:49:03.309Z"
   },
   {
    "duration": 10,
    "start_time": "2021-07-08T11:49:03.328Z"
   },
   {
    "duration": 65,
    "start_time": "2021-07-08T11:49:03.340Z"
   },
   {
    "duration": 18,
    "start_time": "2021-07-08T11:49:03.407Z"
   },
   {
    "duration": 8,
    "start_time": "2021-07-08T11:49:03.428Z"
   },
   {
    "duration": 15,
    "start_time": "2021-07-08T11:49:03.438Z"
   },
   {
    "duration": 40,
    "start_time": "2021-07-08T11:49:03.455Z"
   },
   {
    "duration": 12,
    "start_time": "2021-07-08T11:49:03.497Z"
   },
   {
    "duration": 29,
    "start_time": "2021-07-08T11:49:03.511Z"
   },
   {
    "duration": 285,
    "start_time": "2021-07-08T11:49:03.542Z"
   },
   {
    "duration": 8,
    "start_time": "2021-07-08T11:49:03.829Z"
   },
   {
    "duration": 227,
    "start_time": "2021-07-08T11:49:03.838Z"
   },
   {
    "duration": 40,
    "start_time": "2021-07-08T11:49:04.066Z"
   },
   {
    "duration": 10,
    "start_time": "2021-07-08T11:49:04.108Z"
   },
   {
    "duration": 26,
    "start_time": "2021-07-08T11:49:04.121Z"
   },
   {
    "duration": 290,
    "start_time": "2021-07-08T11:49:04.149Z"
   },
   {
    "duration": 26,
    "start_time": "2021-07-08T11:49:04.441Z"
   },
   {
    "duration": 31,
    "start_time": "2021-07-08T11:49:04.470Z"
   },
   {
    "duration": 14,
    "start_time": "2021-07-08T11:49:04.503Z"
   },
   {
    "duration": 259,
    "start_time": "2021-07-08T11:49:04.521Z"
   },
   {
    "duration": 480,
    "start_time": "2021-07-08T11:49:04.782Z"
   },
   {
    "duration": 225,
    "start_time": "2021-07-08T11:49:05.264Z"
   },
   {
    "duration": 22,
    "start_time": "2021-07-08T11:49:05.491Z"
   },
   {
    "duration": 24,
    "start_time": "2021-07-08T11:49:05.515Z"
   },
   {
    "duration": 634,
    "start_time": "2021-07-08T11:52:24.960Z"
   },
   {
    "duration": 199,
    "start_time": "2021-07-08T11:52:25.599Z"
   },
   {
    "duration": 106,
    "start_time": "2021-07-08T11:52:25.803Z"
   },
   {
    "duration": 7,
    "start_time": "2021-07-08T11:52:25.911Z"
   },
   {
    "duration": 29,
    "start_time": "2021-07-08T11:52:25.920Z"
   },
   {
    "duration": 7,
    "start_time": "2021-07-08T11:52:25.951Z"
   },
   {
    "duration": 26,
    "start_time": "2021-07-08T11:52:25.961Z"
   },
   {
    "duration": 11,
    "start_time": "2021-07-08T11:52:25.990Z"
   },
   {
    "duration": 29,
    "start_time": "2021-07-08T11:52:26.005Z"
   },
   {
    "duration": 9,
    "start_time": "2021-07-08T11:52:26.036Z"
   },
   {
    "duration": 8,
    "start_time": "2021-07-08T11:52:26.047Z"
   },
   {
    "duration": 63,
    "start_time": "2021-07-08T11:52:26.057Z"
   },
   {
    "duration": 17,
    "start_time": "2021-07-08T11:52:26.122Z"
   },
   {
    "duration": 43,
    "start_time": "2021-07-08T11:52:26.142Z"
   },
   {
    "duration": 17,
    "start_time": "2021-07-08T11:52:26.187Z"
   },
   {
    "duration": 5,
    "start_time": "2021-07-08T11:52:26.206Z"
   },
   {
    "duration": 12,
    "start_time": "2021-07-08T11:52:26.212Z"
   },
   {
    "duration": 11,
    "start_time": "2021-07-08T11:52:26.226Z"
   },
   {
    "duration": 12,
    "start_time": "2021-07-08T11:52:26.238Z"
   },
   {
    "duration": 38,
    "start_time": "2021-07-08T11:52:26.252Z"
   },
   {
    "duration": 40,
    "start_time": "2021-07-08T11:52:26.292Z"
   },
   {
    "duration": 17,
    "start_time": "2021-07-08T11:52:26.336Z"
   },
   {
    "duration": 39,
    "start_time": "2021-07-08T11:52:26.355Z"
   },
   {
    "duration": 11,
    "start_time": "2021-07-08T11:52:26.395Z"
   },
   {
    "duration": 23,
    "start_time": "2021-07-08T11:52:26.408Z"
   },
   {
    "duration": 12,
    "start_time": "2021-07-08T11:52:26.432Z"
   },
   {
    "duration": 41,
    "start_time": "2021-07-08T11:52:26.446Z"
   },
   {
    "duration": 215,
    "start_time": "2021-07-08T11:52:26.493Z"
   },
   {
    "duration": 8,
    "start_time": "2021-07-08T11:52:26.710Z"
   },
   {
    "duration": 228,
    "start_time": "2021-07-08T11:52:26.720Z"
   },
   {
    "duration": 18,
    "start_time": "2021-07-08T11:52:26.950Z"
   },
   {
    "duration": 35,
    "start_time": "2021-07-08T11:52:26.969Z"
   },
   {
    "duration": 23,
    "start_time": "2021-07-08T11:52:27.006Z"
   },
   {
    "duration": 258,
    "start_time": "2021-07-08T11:52:27.030Z"
   },
   {
    "duration": 24,
    "start_time": "2021-07-08T11:52:27.290Z"
   },
   {
    "duration": 12,
    "start_time": "2021-07-08T11:52:27.316Z"
   },
   {
    "duration": 10,
    "start_time": "2021-07-08T11:52:27.329Z"
   },
   {
    "duration": 298,
    "start_time": "2021-07-08T11:52:27.341Z"
   },
   {
    "duration": 436,
    "start_time": "2021-07-08T11:52:27.641Z"
   },
   {
    "duration": 216,
    "start_time": "2021-07-08T11:52:28.079Z"
   },
   {
    "duration": 20,
    "start_time": "2021-07-08T11:52:28.297Z"
   },
   {
    "duration": 17,
    "start_time": "2021-07-08T11:52:28.319Z"
   },
   {
    "duration": 754,
    "start_time": "2022-09-21T12:34:28.419Z"
   },
   {
    "duration": 183,
    "start_time": "2022-09-21T12:37:06.431Z"
   },
   {
    "duration": 96,
    "start_time": "2022-09-21T12:37:12.258Z"
   },
   {
    "duration": 149,
    "start_time": "2022-09-21T12:37:52.637Z"
   },
   {
    "duration": 21,
    "start_time": "2022-09-21T12:38:19.181Z"
   },
   {
    "duration": 22,
    "start_time": "2022-09-21T12:39:01.718Z"
   },
   {
    "duration": 20,
    "start_time": "2022-09-21T12:39:17.038Z"
   },
   {
    "duration": 77,
    "start_time": "2022-09-21T14:18:48.072Z"
   },
   {
    "duration": 10,
    "start_time": "2022-09-21T14:21:20.602Z"
   },
   {
    "duration": 187,
    "start_time": "2022-09-21T14:21:49.512Z"
   },
   {
    "duration": 214,
    "start_time": "2022-09-21T14:21:53.937Z"
   },
   {
    "duration": 7,
    "start_time": "2022-09-21T14:22:36.945Z"
   },
   {
    "duration": 230,
    "start_time": "2022-09-21T14:23:48.457Z"
   },
   {
    "duration": 3,
    "start_time": "2022-09-21T14:23:58.381Z"
   },
   {
    "duration": 12,
    "start_time": "2022-09-21T14:25:45.760Z"
   },
   {
    "duration": 9,
    "start_time": "2022-09-21T14:26:09.752Z"
   },
   {
    "duration": 13,
    "start_time": "2022-09-21T14:26:17.782Z"
   },
   {
    "duration": 21,
    "start_time": "2022-09-21T14:26:34.406Z"
   },
   {
    "duration": 13,
    "start_time": "2022-09-21T14:26:36.807Z"
   },
   {
    "duration": 12,
    "start_time": "2022-09-21T14:27:10.049Z"
   },
   {
    "duration": 21,
    "start_time": "2022-09-21T14:27:19.245Z"
   },
   {
    "duration": 12,
    "start_time": "2022-09-21T14:27:45.301Z"
   },
   {
    "duration": 20,
    "start_time": "2022-09-21T14:28:00.187Z"
   },
   {
    "duration": 115,
    "start_time": "2022-09-21T14:28:11.274Z"
   },
   {
    "duration": 19,
    "start_time": "2022-09-21T14:28:31.192Z"
   },
   {
    "duration": 24,
    "start_time": "2022-09-21T14:29:02.195Z"
   },
   {
    "duration": 20,
    "start_time": "2022-09-21T14:29:22.952Z"
   },
   {
    "duration": 12,
    "start_time": "2022-09-21T14:29:34.574Z"
   },
   {
    "duration": 21,
    "start_time": "2022-09-21T14:29:51.652Z"
   },
   {
    "duration": 11,
    "start_time": "2022-09-21T14:30:18.440Z"
   },
   {
    "duration": 112,
    "start_time": "2022-09-21T14:30:38.370Z"
   },
   {
    "duration": 24,
    "start_time": "2022-09-21T14:30:39.140Z"
   },
   {
    "duration": 23,
    "start_time": "2022-09-21T14:30:42.852Z"
   },
   {
    "duration": 187,
    "start_time": "2022-09-21T14:30:46.361Z"
   },
   {
    "duration": 8,
    "start_time": "2022-09-21T14:31:01.564Z"
   },
   {
    "duration": 300,
    "start_time": "2022-09-21T14:31:17.752Z"
   },
   {
    "duration": 8,
    "start_time": "2022-09-21T14:31:28.371Z"
   },
   {
    "duration": 260,
    "start_time": "2022-09-21T14:31:33.814Z"
   },
   {
    "duration": 7,
    "start_time": "2022-09-21T14:33:11.744Z"
   },
   {
    "duration": 7,
    "start_time": "2022-09-21T14:33:15.571Z"
   },
   {
    "duration": 584,
    "start_time": "2022-09-21T14:33:27.059Z"
   },
   {
    "duration": 423,
    "start_time": "2022-09-21T14:33:43.985Z"
   },
   {
    "duration": 674,
    "start_time": "2022-09-21T14:34:23.058Z"
   },
   {
    "duration": 3,
    "start_time": "2022-09-21T14:38:42.971Z"
   },
   {
    "duration": 225,
    "start_time": "2022-09-21T14:38:53.393Z"
   },
   {
    "duration": 260,
    "start_time": "2022-09-21T14:39:11.862Z"
   },
   {
    "duration": 295,
    "start_time": "2022-09-21T14:39:36.642Z"
   },
   {
    "duration": 284,
    "start_time": "2022-09-21T14:40:23.679Z"
   },
   {
    "duration": 871,
    "start_time": "2022-09-21T14:42:25.248Z"
   },
   {
    "duration": 591,
    "start_time": "2022-09-21T14:43:05.769Z"
   },
   {
    "duration": 115,
    "start_time": "2022-09-21T14:43:06.362Z"
   },
   {
    "duration": 23,
    "start_time": "2022-09-21T14:43:06.481Z"
   },
   {
    "duration": 29,
    "start_time": "2022-09-21T14:43:06.505Z"
   },
   {
    "duration": 700,
    "start_time": "2022-09-21T14:43:06.535Z"
   },
   {
    "duration": 0,
    "start_time": "2022-09-21T14:43:07.237Z"
   },
   {
    "duration": 384,
    "start_time": "2022-09-21T14:44:10.371Z"
   },
   {
    "duration": 11,
    "start_time": "2022-09-21T14:47:05.149Z"
   },
   {
    "duration": 7,
    "start_time": "2022-09-21T14:50:17.165Z"
   },
   {
    "duration": 9,
    "start_time": "2022-09-21T14:50:32.660Z"
   },
   {
    "duration": 23,
    "start_time": "2022-09-21T14:53:07.910Z"
   },
   {
    "duration": 15,
    "start_time": "2022-09-21T14:55:00.221Z"
   },
   {
    "duration": 10,
    "start_time": "2022-09-21T14:55:06.974Z"
   },
   {
    "duration": 13,
    "start_time": "2022-09-21T14:55:09.702Z"
   },
   {
    "duration": 12,
    "start_time": "2022-09-21T14:56:38.266Z"
   },
   {
    "duration": 25,
    "start_time": "2022-09-21T14:56:45.095Z"
   },
   {
    "duration": 13,
    "start_time": "2022-09-23T16:49:15.594Z"
   },
   {
    "duration": 49,
    "start_time": "2022-09-23T16:57:05.706Z"
   },
   {
    "duration": 711,
    "start_time": "2022-09-23T16:58:00.567Z"
   },
   {
    "duration": 132,
    "start_time": "2022-09-23T16:58:01.280Z"
   },
   {
    "duration": 26,
    "start_time": "2022-09-23T16:58:01.414Z"
   },
   {
    "duration": 88,
    "start_time": "2022-09-23T16:58:01.442Z"
   },
   {
    "duration": 17,
    "start_time": "2022-09-23T16:58:01.534Z"
   },
   {
    "duration": 10,
    "start_time": "2022-09-23T16:58:01.553Z"
   },
   {
    "duration": 46,
    "start_time": "2022-09-23T16:58:01.565Z"
   },
   {
    "duration": 5,
    "start_time": "2022-09-23T16:58:01.613Z"
   },
   {
    "duration": 55,
    "start_time": "2022-09-23T16:58:01.620Z"
   },
   {
    "duration": 16,
    "start_time": "2022-09-23T16:58:01.678Z"
   },
   {
    "duration": 13,
    "start_time": "2022-09-23T16:58:01.696Z"
   },
   {
    "duration": 37,
    "start_time": "2022-09-23T16:58:01.711Z"
   },
   {
    "duration": 13,
    "start_time": "2022-09-23T16:58:01.750Z"
   },
   {
    "duration": 69,
    "start_time": "2022-09-23T16:58:01.766Z"
   },
   {
    "duration": 32,
    "start_time": "2022-09-23T16:58:01.838Z"
   },
   {
    "duration": 12,
    "start_time": "2022-09-23T16:58:01.872Z"
   },
   {
    "duration": 22,
    "start_time": "2022-09-23T16:58:01.886Z"
   },
   {
    "duration": 7,
    "start_time": "2022-09-23T16:58:01.911Z"
   },
   {
    "duration": 16,
    "start_time": "2022-09-23T16:58:01.920Z"
   },
   {
    "duration": 160,
    "start_time": "2022-09-23T16:58:01.938Z"
   },
   {
    "duration": 4,
    "start_time": "2022-09-23T16:58:02.100Z"
   },
   {
    "duration": 8,
    "start_time": "2022-09-23T16:58:02.106Z"
   },
   {
    "duration": 7,
    "start_time": "2022-09-23T16:58:02.116Z"
   },
   {
    "duration": 9,
    "start_time": "2022-09-23T16:58:02.125Z"
   },
   {
    "duration": 10,
    "start_time": "2022-09-23T16:58:02.135Z"
   },
   {
    "duration": 45,
    "start_time": "2022-09-23T16:58:02.146Z"
   },
   {
    "duration": 13,
    "start_time": "2022-09-23T16:58:02.193Z"
   },
   {
    "duration": 8,
    "start_time": "2022-09-23T16:58:02.208Z"
   },
   {
    "duration": 11,
    "start_time": "2022-09-23T16:58:02.217Z"
   },
   {
    "duration": 13,
    "start_time": "2022-09-23T16:58:02.229Z"
   },
   {
    "duration": 4,
    "start_time": "2022-09-23T16:58:02.244Z"
   },
   {
    "duration": 15,
    "start_time": "2022-09-23T16:58:02.250Z"
   },
   {
    "duration": 10,
    "start_time": "2022-09-23T16:58:02.288Z"
   },
   {
    "duration": 12,
    "start_time": "2022-09-23T16:58:02.300Z"
   },
   {
    "duration": 9,
    "start_time": "2022-09-23T16:58:02.313Z"
   },
   {
    "duration": 6,
    "start_time": "2022-09-23T16:58:02.323Z"
   },
   {
    "duration": 9,
    "start_time": "2022-09-23T16:58:02.331Z"
   },
   {
    "duration": 7,
    "start_time": "2022-09-23T16:58:02.342Z"
   },
   {
    "duration": 108,
    "start_time": "2022-09-23T16:58:02.351Z"
   },
   {
    "duration": 7,
    "start_time": "2022-09-23T16:58:02.461Z"
   },
   {
    "duration": 20,
    "start_time": "2022-09-23T16:58:02.473Z"
   },
   {
    "duration": 31,
    "start_time": "2022-09-23T16:58:02.495Z"
   },
   {
    "duration": 16,
    "start_time": "2022-09-23T16:58:02.527Z"
   },
   {
    "duration": 7,
    "start_time": "2022-09-23T16:58:02.545Z"
   },
   {
    "duration": 37,
    "start_time": "2022-09-23T16:58:02.554Z"
   },
   {
    "duration": 24,
    "start_time": "2022-09-23T16:58:02.593Z"
   },
   {
    "duration": 128,
    "start_time": "2022-09-23T16:58:02.619Z"
   },
   {
    "duration": 250,
    "start_time": "2022-09-23T16:58:02.748Z"
   },
   {
    "duration": 13,
    "start_time": "2022-09-23T16:58:02.999Z"
   },
   {
    "duration": 312,
    "start_time": "2022-09-23T16:58:03.013Z"
   },
   {
    "duration": 486,
    "start_time": "2022-09-23T16:58:03.327Z"
   },
   {
    "duration": 379,
    "start_time": "2022-09-23T16:58:03.816Z"
   },
   {
    "duration": 336,
    "start_time": "2022-09-23T16:58:04.196Z"
   },
   {
    "duration": 74,
    "start_time": "2022-09-23T16:58:04.534Z"
   },
   {
    "duration": 18,
    "start_time": "2022-09-23T16:58:04.609Z"
   },
   {
    "duration": 70,
    "start_time": "2022-09-23T16:58:04.628Z"
   },
   {
    "duration": 241,
    "start_time": "2022-09-23T16:58:04.700Z"
   },
   {
    "duration": 278,
    "start_time": "2022-09-23T16:58:04.942Z"
   },
   {
    "duration": 260,
    "start_time": "2022-09-23T16:58:05.222Z"
   },
   {
    "duration": 19,
    "start_time": "2022-09-23T16:58:05.484Z"
   },
   {
    "duration": 4,
    "start_time": "2022-09-23T16:58:05.505Z"
   },
   {
    "duration": 198,
    "start_time": "2022-09-23T16:58:05.511Z"
   },
   {
    "duration": 217,
    "start_time": "2022-09-23T16:58:05.711Z"
   },
   {
    "duration": 4,
    "start_time": "2022-09-23T16:58:05.930Z"
   },
   {
    "duration": 40,
    "start_time": "2022-09-23T16:58:05.936Z"
   },
   {
    "duration": 16,
    "start_time": "2022-09-23T16:58:05.978Z"
   },
   {
    "duration": 12,
    "start_time": "2022-09-23T16:58:05.996Z"
   },
   {
    "duration": 19,
    "start_time": "2022-09-23T16:58:06.010Z"
   },
   {
    "duration": 4,
    "start_time": "2022-09-23T16:58:06.031Z"
   },
   {
    "duration": 19,
    "start_time": "2022-09-23T16:58:06.037Z"
   },
   {
    "duration": 79,
    "start_time": "2022-09-23T16:59:27.254Z"
   },
   {
    "duration": 92,
    "start_time": "2022-09-23T16:59:32.467Z"
   },
   {
    "duration": 80,
    "start_time": "2022-09-23T17:03:04.089Z"
   },
   {
    "duration": 4,
    "start_time": "2022-09-23T17:05:46.709Z"
   },
   {
    "duration": 402,
    "start_time": "2022-09-23T17:07:05.204Z"
   },
   {
    "duration": 5,
    "start_time": "2022-09-23T17:07:46.508Z"
   },
   {
    "duration": 5,
    "start_time": "2022-09-23T17:07:50.137Z"
   },
   {
    "duration": 6,
    "start_time": "2022-09-23T17:07:52.670Z"
   },
   {
    "duration": 6,
    "start_time": "2022-09-23T17:07:57.466Z"
   },
   {
    "duration": 600,
    "start_time": "2022-09-23T17:08:13.947Z"
   },
   {
    "duration": 23,
    "start_time": "2022-09-23T17:11:56.254Z"
   },
   {
    "duration": 90,
    "start_time": "2022-09-23T17:12:19.520Z"
   },
   {
    "duration": 9,
    "start_time": "2022-09-23T17:16:54.971Z"
   },
   {
    "duration": 6,
    "start_time": "2022-09-23T17:17:02.239Z"
   },
   {
    "duration": 72,
    "start_time": "2022-09-23T17:26:13.688Z"
   },
   {
    "duration": 22,
    "start_time": "2022-09-23T17:26:19.827Z"
   },
   {
    "duration": 315,
    "start_time": "2022-09-23T17:31:24.006Z"
   },
   {
    "duration": 291,
    "start_time": "2022-09-23T17:31:49.377Z"
   },
   {
    "duration": 297,
    "start_time": "2022-09-23T17:31:55.365Z"
   },
   {
    "duration": 225,
    "start_time": "2022-09-23T17:33:28.379Z"
   },
   {
    "duration": 326,
    "start_time": "2022-09-23T17:33:47.587Z"
   },
   {
    "duration": 307,
    "start_time": "2022-09-23T17:34:13.366Z"
   },
   {
    "duration": 311,
    "start_time": "2022-09-23T17:34:18.904Z"
   },
   {
    "duration": 74,
    "start_time": "2022-09-23T17:38:17.989Z"
   },
   {
    "duration": 81,
    "start_time": "2022-09-23T17:38:27.928Z"
   },
   {
    "duration": 251,
    "start_time": "2022-09-23T17:38:28.863Z"
   },
   {
    "duration": 41,
    "start_time": "2022-09-23T17:40:58.984Z"
   },
   {
    "duration": 4,
    "start_time": "2022-09-23T17:41:52.249Z"
   },
   {
    "duration": 879,
    "start_time": "2022-09-23T18:29:01.838Z"
   },
   {
    "duration": 429,
    "start_time": "2022-09-23T18:29:02.720Z"
   },
   {
    "duration": 28,
    "start_time": "2022-09-23T18:29:03.150Z"
   },
   {
    "duration": 28,
    "start_time": "2022-09-23T18:29:03.180Z"
   },
   {
    "duration": 44,
    "start_time": "2022-09-23T18:29:03.210Z"
   },
   {
    "duration": 10,
    "start_time": "2022-09-23T18:29:03.256Z"
   },
   {
    "duration": 27,
    "start_time": "2022-09-23T18:29:03.267Z"
   },
   {
    "duration": 4,
    "start_time": "2022-09-23T18:29:03.296Z"
   },
   {
    "duration": 24,
    "start_time": "2022-09-23T18:29:03.302Z"
   },
   {
    "duration": 15,
    "start_time": "2022-09-23T18:29:03.353Z"
   },
   {
    "duration": 7,
    "start_time": "2022-09-23T18:29:03.370Z"
   },
   {
    "duration": 19,
    "start_time": "2022-09-23T18:29:03.379Z"
   },
   {
    "duration": 2,
    "start_time": "2022-09-23T18:29:03.400Z"
   },
   {
    "duration": 698,
    "start_time": "2022-09-23T18:29:03.404Z"
   },
   {
    "duration": 22,
    "start_time": "2022-09-23T18:29:04.104Z"
   },
   {
    "duration": 41,
    "start_time": "2022-09-23T18:29:04.128Z"
   },
   {
    "duration": 17,
    "start_time": "2022-09-23T18:29:04.171Z"
   },
   {
    "duration": 7,
    "start_time": "2022-09-23T18:29:04.190Z"
   },
   {
    "duration": 16,
    "start_time": "2022-09-23T18:29:04.200Z"
   },
   {
    "duration": 39,
    "start_time": "2022-09-23T18:29:04.218Z"
   },
   {
    "duration": 13,
    "start_time": "2022-09-23T18:29:04.259Z"
   },
   {
    "duration": 180,
    "start_time": "2022-09-23T18:29:04.274Z"
   },
   {
    "duration": 5,
    "start_time": "2022-09-23T18:29:04.456Z"
   },
   {
    "duration": 12,
    "start_time": "2022-09-23T18:29:04.465Z"
   },
   {
    "duration": 10,
    "start_time": "2022-09-23T18:29:04.480Z"
   },
   {
    "duration": 21,
    "start_time": "2022-09-23T18:29:04.492Z"
   },
   {
    "duration": 8,
    "start_time": "2022-09-23T18:29:04.515Z"
   },
   {
    "duration": 13,
    "start_time": "2022-09-23T18:29:04.527Z"
   },
   {
    "duration": 9,
    "start_time": "2022-09-23T18:29:04.555Z"
   },
   {
    "duration": 9,
    "start_time": "2022-09-23T18:29:04.566Z"
   },
   {
    "duration": 7,
    "start_time": "2022-09-23T18:29:04.577Z"
   },
   {
    "duration": 13,
    "start_time": "2022-09-23T18:29:04.587Z"
   },
   {
    "duration": 4,
    "start_time": "2022-09-23T18:29:04.603Z"
   },
   {
    "duration": 51,
    "start_time": "2022-09-23T18:29:04.609Z"
   },
   {
    "duration": 12,
    "start_time": "2022-09-23T18:29:04.663Z"
   },
   {
    "duration": 20,
    "start_time": "2022-09-23T18:29:04.677Z"
   },
   {
    "duration": 18,
    "start_time": "2022-09-23T18:29:04.699Z"
   },
   {
    "duration": 9,
    "start_time": "2022-09-23T18:29:04.720Z"
   },
   {
    "duration": 26,
    "start_time": "2022-09-23T18:29:04.732Z"
   },
   {
    "duration": 6,
    "start_time": "2022-09-23T18:29:04.760Z"
   },
   {
    "duration": 73,
    "start_time": "2022-09-23T18:29:04.768Z"
   },
   {
    "duration": 5,
    "start_time": "2022-09-23T18:29:04.855Z"
   },
   {
    "duration": 43,
    "start_time": "2022-09-23T18:29:04.862Z"
   },
   {
    "duration": 31,
    "start_time": "2022-09-23T18:29:04.907Z"
   },
   {
    "duration": 15,
    "start_time": "2022-09-23T18:29:04.940Z"
   },
   {
    "duration": 7,
    "start_time": "2022-09-23T18:29:04.957Z"
   },
   {
    "duration": 7,
    "start_time": "2022-09-23T18:29:04.966Z"
   },
   {
    "duration": 29,
    "start_time": "2022-09-23T18:29:04.974Z"
   },
   {
    "duration": 23,
    "start_time": "2022-09-23T18:29:05.006Z"
   },
   {
    "duration": 144,
    "start_time": "2022-09-23T18:29:05.030Z"
   },
   {
    "duration": 396,
    "start_time": "2022-09-23T18:29:05.176Z"
   },
   {
    "duration": 226,
    "start_time": "2022-09-23T18:29:05.574Z"
   },
   {
    "duration": 16,
    "start_time": "2022-09-23T18:29:05.801Z"
   },
   {
    "duration": 180,
    "start_time": "2022-09-23T18:29:05.819Z"
   },
   {
    "duration": 320,
    "start_time": "2022-09-23T18:29:06.002Z"
   },
   {
    "duration": 204,
    "start_time": "2022-09-23T18:29:06.324Z"
   },
   {
    "duration": 184,
    "start_time": "2022-09-23T18:29:06.530Z"
   },
   {
    "duration": 214,
    "start_time": "2022-09-23T18:29:06.717Z"
   },
   {
    "duration": 34,
    "start_time": "2022-09-23T18:29:06.933Z"
   },
   {
    "duration": 25,
    "start_time": "2022-09-23T18:29:06.969Z"
   },
   {
    "duration": 29,
    "start_time": "2022-09-23T18:29:06.997Z"
   },
   {
    "duration": 274,
    "start_time": "2022-09-23T18:29:07.028Z"
   },
   {
    "duration": 266,
    "start_time": "2022-09-23T18:29:07.304Z"
   },
   {
    "duration": 271,
    "start_time": "2022-09-23T18:29:07.572Z"
   },
   {
    "duration": 285,
    "start_time": "2022-09-23T18:29:07.845Z"
   },
   {
    "duration": 27,
    "start_time": "2022-09-23T18:29:08.132Z"
   },
   {
    "duration": 5,
    "start_time": "2022-09-23T18:29:08.162Z"
   },
   {
    "duration": 284,
    "start_time": "2022-09-23T18:29:08.170Z"
   },
   {
    "duration": 225,
    "start_time": "2022-09-23T18:29:08.456Z"
   },
   {
    "duration": 7,
    "start_time": "2022-09-23T18:29:08.683Z"
   },
   {
    "duration": 7,
    "start_time": "2022-09-23T18:29:08.692Z"
   },
   {
    "duration": 54,
    "start_time": "2022-09-23T18:29:08.701Z"
   },
   {
    "duration": 19,
    "start_time": "2022-09-23T18:29:08.757Z"
   },
   {
    "duration": 20,
    "start_time": "2022-09-23T18:29:08.778Z"
   },
   {
    "duration": 23,
    "start_time": "2022-09-23T18:29:08.801Z"
   },
   {
    "duration": 31,
    "start_time": "2022-09-23T18:29:08.826Z"
   },
   {
    "duration": 19,
    "start_time": "2022-09-23T18:29:08.859Z"
   },
   {
    "duration": 25,
    "start_time": "2022-09-23T18:35:52.204Z"
   },
   {
    "duration": 6,
    "start_time": "2022-09-23T18:36:01.905Z"
   },
   {
    "duration": 26,
    "start_time": "2022-09-23T18:36:03.424Z"
   },
   {
    "duration": 653,
    "start_time": "2022-09-23T18:36:44.565Z"
   },
   {
    "duration": 120,
    "start_time": "2022-09-23T18:36:45.220Z"
   },
   {
    "duration": 28,
    "start_time": "2022-09-23T18:36:45.342Z"
   },
   {
    "duration": 27,
    "start_time": "2022-09-23T18:36:45.373Z"
   },
   {
    "duration": 14,
    "start_time": "2022-09-23T18:36:45.402Z"
   },
   {
    "duration": 11,
    "start_time": "2022-09-23T18:36:45.418Z"
   },
   {
    "duration": 23,
    "start_time": "2022-09-23T18:36:45.455Z"
   },
   {
    "duration": 4,
    "start_time": "2022-09-23T18:36:45.479Z"
   },
   {
    "duration": 25,
    "start_time": "2022-09-23T18:36:45.485Z"
   },
   {
    "duration": 15,
    "start_time": "2022-09-23T18:36:45.513Z"
   },
   {
    "duration": 32,
    "start_time": "2022-09-23T18:36:45.530Z"
   },
   {
    "duration": 15,
    "start_time": "2022-09-23T18:36:45.564Z"
   },
   {
    "duration": 8,
    "start_time": "2022-09-23T18:36:45.581Z"
   },
   {
    "duration": 644,
    "start_time": "2022-09-23T18:36:45.590Z"
   },
   {
    "duration": 23,
    "start_time": "2022-09-23T18:36:46.236Z"
   },
   {
    "duration": 24,
    "start_time": "2022-09-23T18:36:46.261Z"
   },
   {
    "duration": 19,
    "start_time": "2022-09-23T18:36:46.288Z"
   },
   {
    "duration": 5,
    "start_time": "2022-09-23T18:36:46.309Z"
   },
   {
    "duration": 14,
    "start_time": "2022-09-23T18:36:46.316Z"
   },
   {
    "duration": 26,
    "start_time": "2022-09-23T18:36:46.331Z"
   },
   {
    "duration": 8,
    "start_time": "2022-09-23T18:36:46.359Z"
   },
   {
    "duration": 142,
    "start_time": "2022-09-23T18:36:46.369Z"
   },
   {
    "duration": 4,
    "start_time": "2022-09-23T18:36:46.513Z"
   },
   {
    "duration": 8,
    "start_time": "2022-09-23T18:36:46.518Z"
   },
   {
    "duration": 7,
    "start_time": "2022-09-23T18:36:46.528Z"
   },
   {
    "duration": 26,
    "start_time": "2022-09-23T18:36:46.536Z"
   },
   {
    "duration": 5,
    "start_time": "2022-09-23T18:36:46.563Z"
   },
   {
    "duration": 11,
    "start_time": "2022-09-23T18:36:46.572Z"
   },
   {
    "duration": 9,
    "start_time": "2022-09-23T18:36:46.585Z"
   },
   {
    "duration": 5,
    "start_time": "2022-09-23T18:36:46.596Z"
   },
   {
    "duration": 8,
    "start_time": "2022-09-23T18:36:46.603Z"
   },
   {
    "duration": 43,
    "start_time": "2022-09-23T18:36:46.612Z"
   },
   {
    "duration": 4,
    "start_time": "2022-09-23T18:36:46.657Z"
   },
   {
    "duration": 17,
    "start_time": "2022-09-23T18:36:46.663Z"
   },
   {
    "duration": 9,
    "start_time": "2022-09-23T18:36:46.681Z"
   },
   {
    "duration": 12,
    "start_time": "2022-09-23T18:36:46.691Z"
   },
   {
    "duration": 9,
    "start_time": "2022-09-23T18:36:46.704Z"
   },
   {
    "duration": 39,
    "start_time": "2022-09-23T18:36:46.715Z"
   },
   {
    "duration": 10,
    "start_time": "2022-09-23T18:36:46.756Z"
   },
   {
    "duration": 6,
    "start_time": "2022-09-23T18:36:46.768Z"
   },
   {
    "duration": 81,
    "start_time": "2022-09-23T18:36:46.776Z"
   },
   {
    "duration": 6,
    "start_time": "2022-09-23T18:36:46.859Z"
   },
   {
    "duration": 57,
    "start_time": "2022-09-23T18:36:46.867Z"
   },
   {
    "duration": 27,
    "start_time": "2022-09-23T18:36:46.926Z"
   },
   {
    "duration": 16,
    "start_time": "2022-09-23T18:36:46.955Z"
   },
   {
    "duration": 8,
    "start_time": "2022-09-23T18:36:46.973Z"
   },
   {
    "duration": 6,
    "start_time": "2022-09-23T18:36:46.984Z"
   },
   {
    "duration": 22,
    "start_time": "2022-09-23T18:36:46.992Z"
   },
   {
    "duration": 45,
    "start_time": "2022-09-23T18:36:47.016Z"
   },
   {
    "duration": 133,
    "start_time": "2022-09-23T18:36:47.064Z"
   },
   {
    "duration": 386,
    "start_time": "2022-09-23T18:36:47.200Z"
   },
   {
    "duration": 172,
    "start_time": "2022-09-23T18:36:47.588Z"
   },
   {
    "duration": 14,
    "start_time": "2022-09-23T18:36:47.762Z"
   },
   {
    "duration": 171,
    "start_time": "2022-09-23T18:36:47.778Z"
   },
   {
    "duration": 334,
    "start_time": "2022-09-23T18:36:47.951Z"
   },
   {
    "duration": 192,
    "start_time": "2022-09-23T18:36:48.286Z"
   },
   {
    "duration": 189,
    "start_time": "2022-09-23T18:36:48.480Z"
   },
   {
    "duration": 187,
    "start_time": "2022-09-23T18:36:48.672Z"
   },
   {
    "duration": 19,
    "start_time": "2022-09-23T18:36:48.861Z"
   },
   {
    "duration": 20,
    "start_time": "2022-09-23T18:36:48.882Z"
   },
   {
    "duration": 16,
    "start_time": "2022-09-23T18:36:48.904Z"
   },
   {
    "duration": 253,
    "start_time": "2022-09-23T18:36:48.922Z"
   },
   {
    "duration": 261,
    "start_time": "2022-09-23T18:36:49.176Z"
   },
   {
    "duration": 277,
    "start_time": "2022-09-23T18:36:49.439Z"
   },
   {
    "duration": 262,
    "start_time": "2022-09-23T18:36:49.718Z"
   },
   {
    "duration": 18,
    "start_time": "2022-09-23T18:36:49.981Z"
   },
   {
    "duration": 4,
    "start_time": "2022-09-23T18:36:50.001Z"
   },
   {
    "duration": 274,
    "start_time": "2022-09-23T18:36:50.007Z"
   },
   {
    "duration": 215,
    "start_time": "2022-09-23T18:36:50.282Z"
   },
   {
    "duration": 5,
    "start_time": "2022-09-23T18:36:50.499Z"
   },
   {
    "duration": 6,
    "start_time": "2022-09-23T18:36:50.506Z"
   },
   {
    "duration": 42,
    "start_time": "2022-09-23T18:36:50.514Z"
   },
   {
    "duration": 17,
    "start_time": "2022-09-23T18:36:50.558Z"
   },
   {
    "duration": 14,
    "start_time": "2022-09-23T18:36:50.577Z"
   },
   {
    "duration": 23,
    "start_time": "2022-09-23T18:36:50.593Z"
   },
   {
    "duration": 3,
    "start_time": "2022-09-23T18:36:50.617Z"
   },
   {
    "duration": 35,
    "start_time": "2022-09-23T18:36:50.622Z"
   },
   {
    "duration": 32,
    "start_time": "2022-09-23T18:36:50.659Z"
   },
   {
    "duration": 19,
    "start_time": "2022-09-23T18:36:50.692Z"
   },
   {
    "duration": 14,
    "start_time": "2022-09-23T18:37:26.265Z"
   },
   {
    "duration": 31,
    "start_time": "2022-09-23T18:37:44.447Z"
   },
   {
    "duration": 604,
    "start_time": "2022-09-23T18:37:52.783Z"
   },
   {
    "duration": 118,
    "start_time": "2022-09-23T18:37:53.389Z"
   },
   {
    "duration": 27,
    "start_time": "2022-09-23T18:37:53.511Z"
   },
   {
    "duration": 27,
    "start_time": "2022-09-23T18:37:53.540Z"
   },
   {
    "duration": 18,
    "start_time": "2022-09-23T18:37:53.570Z"
   },
   {
    "duration": 17,
    "start_time": "2022-09-23T18:37:53.590Z"
   },
   {
    "duration": 29,
    "start_time": "2022-09-23T18:37:53.609Z"
   },
   {
    "duration": 6,
    "start_time": "2022-09-23T18:37:53.654Z"
   },
   {
    "duration": 30,
    "start_time": "2022-09-23T18:37:53.664Z"
   },
   {
    "duration": 14,
    "start_time": "2022-09-23T18:37:53.696Z"
   },
   {
    "duration": 12,
    "start_time": "2022-09-23T18:37:53.712Z"
   },
   {
    "duration": 36,
    "start_time": "2022-09-23T18:37:53.725Z"
   },
   {
    "duration": 4,
    "start_time": "2022-09-23T18:37:53.763Z"
   },
   {
    "duration": 659,
    "start_time": "2022-09-23T18:37:53.769Z"
   },
   {
    "duration": 28,
    "start_time": "2022-09-23T18:37:54.429Z"
   },
   {
    "duration": 34,
    "start_time": "2022-09-23T18:37:54.459Z"
   },
   {
    "duration": 20,
    "start_time": "2022-09-23T18:37:54.494Z"
   },
   {
    "duration": 6,
    "start_time": "2022-09-23T18:37:54.516Z"
   },
   {
    "duration": 14,
    "start_time": "2022-09-23T18:37:54.524Z"
   },
   {
    "duration": 16,
    "start_time": "2022-09-23T18:37:54.540Z"
   },
   {
    "duration": 9,
    "start_time": "2022-09-23T18:37:54.559Z"
   },
   {
    "duration": 135,
    "start_time": "2022-09-23T18:37:54.570Z"
   },
   {
    "duration": 4,
    "start_time": "2022-09-23T18:37:54.706Z"
   },
   {
    "duration": 10,
    "start_time": "2022-09-23T18:37:54.711Z"
   },
   {
    "duration": 11,
    "start_time": "2022-09-23T18:37:54.722Z"
   },
   {
    "duration": 19,
    "start_time": "2022-09-23T18:37:54.735Z"
   },
   {
    "duration": 4,
    "start_time": "2022-09-23T18:37:54.759Z"
   },
   {
    "duration": 16,
    "start_time": "2022-09-23T18:37:54.765Z"
   },
   {
    "duration": 13,
    "start_time": "2022-09-23T18:37:54.783Z"
   },
   {
    "duration": 7,
    "start_time": "2022-09-23T18:37:54.797Z"
   },
   {
    "duration": 7,
    "start_time": "2022-09-23T18:37:54.805Z"
   },
   {
    "duration": 20,
    "start_time": "2022-09-23T18:37:54.814Z"
   },
   {
    "duration": 4,
    "start_time": "2022-09-23T18:37:54.836Z"
   },
   {
    "duration": 14,
    "start_time": "2022-09-23T18:37:54.854Z"
   },
   {
    "duration": 8,
    "start_time": "2022-09-23T18:37:54.870Z"
   },
   {
    "duration": 11,
    "start_time": "2022-09-23T18:37:54.880Z"
   },
   {
    "duration": 6,
    "start_time": "2022-09-23T18:37:54.893Z"
   },
   {
    "duration": 16,
    "start_time": "2022-09-23T18:37:54.900Z"
   },
   {
    "duration": 9,
    "start_time": "2022-09-23T18:37:54.917Z"
   },
   {
    "duration": 27,
    "start_time": "2022-09-23T18:37:54.928Z"
   },
   {
    "duration": 66,
    "start_time": "2022-09-23T18:37:54.957Z"
   },
   {
    "duration": 5,
    "start_time": "2022-09-23T18:37:55.025Z"
   },
   {
    "duration": 44,
    "start_time": "2022-09-23T18:37:55.032Z"
   },
   {
    "duration": 26,
    "start_time": "2022-09-23T18:37:55.078Z"
   },
   {
    "duration": 21,
    "start_time": "2022-09-23T18:37:55.106Z"
   },
   {
    "duration": 11,
    "start_time": "2022-09-23T18:37:55.129Z"
   },
   {
    "duration": 16,
    "start_time": "2022-09-23T18:37:55.141Z"
   },
   {
    "duration": 28,
    "start_time": "2022-09-23T18:37:55.158Z"
   },
   {
    "duration": 21,
    "start_time": "2022-09-23T18:37:55.187Z"
   },
   {
    "duration": 148,
    "start_time": "2022-09-23T18:37:55.209Z"
   },
   {
    "duration": 384,
    "start_time": "2022-09-23T18:37:55.359Z"
   },
   {
    "duration": 160,
    "start_time": "2022-09-23T18:37:55.744Z"
   },
   {
    "duration": 13,
    "start_time": "2022-09-23T18:37:55.905Z"
   },
   {
    "duration": 158,
    "start_time": "2022-09-23T18:37:55.920Z"
   },
   {
    "duration": 322,
    "start_time": "2022-09-23T18:37:56.080Z"
   },
   {
    "duration": 189,
    "start_time": "2022-09-23T18:37:56.404Z"
   },
   {
    "duration": 186,
    "start_time": "2022-09-23T18:37:56.594Z"
   },
   {
    "duration": 176,
    "start_time": "2022-09-23T18:37:56.782Z"
   },
   {
    "duration": 19,
    "start_time": "2022-09-23T18:37:56.960Z"
   },
   {
    "duration": 20,
    "start_time": "2022-09-23T18:37:56.981Z"
   },
   {
    "duration": 23,
    "start_time": "2022-09-23T18:37:57.003Z"
   },
   {
    "duration": 242,
    "start_time": "2022-09-23T18:37:57.027Z"
   },
   {
    "duration": 277,
    "start_time": "2022-09-23T18:37:57.272Z"
   },
   {
    "duration": 243,
    "start_time": "2022-09-23T18:37:57.550Z"
   },
   {
    "duration": 245,
    "start_time": "2022-09-23T18:37:57.795Z"
   },
   {
    "duration": 24,
    "start_time": "2022-09-23T18:37:58.041Z"
   },
   {
    "duration": 10,
    "start_time": "2022-09-23T18:37:58.066Z"
   },
   {
    "duration": 275,
    "start_time": "2022-09-23T18:37:58.077Z"
   },
   {
    "duration": 208,
    "start_time": "2022-09-23T18:37:58.354Z"
   },
   {
    "duration": 6,
    "start_time": "2022-09-23T18:37:58.564Z"
   },
   {
    "duration": 8,
    "start_time": "2022-09-23T18:37:58.572Z"
   },
   {
    "duration": 35,
    "start_time": "2022-09-23T18:37:58.582Z"
   },
   {
    "duration": 40,
    "start_time": "2022-09-23T18:37:58.619Z"
   },
   {
    "duration": 15,
    "start_time": "2022-09-23T18:37:58.661Z"
   },
   {
    "duration": 21,
    "start_time": "2022-09-23T18:37:58.678Z"
   },
   {
    "duration": 2,
    "start_time": "2022-09-23T18:37:58.701Z"
   },
   {
    "duration": 6,
    "start_time": "2022-09-23T18:37:58.705Z"
   },
   {
    "duration": 49,
    "start_time": "2022-09-23T18:37:58.713Z"
   },
   {
    "duration": 20,
    "start_time": "2022-09-23T18:37:58.764Z"
   },
   {
    "duration": 42,
    "start_time": "2022-09-23T18:38:55.673Z"
   },
   {
    "duration": 5,
    "start_time": "2022-09-23T18:39:50.008Z"
   },
   {
    "duration": 44,
    "start_time": "2022-09-23T18:39:54.524Z"
   },
   {
    "duration": 39,
    "start_time": "2022-09-23T18:40:07.141Z"
   },
   {
    "duration": 563,
    "start_time": "2022-09-23T18:48:42.297Z"
   },
   {
    "duration": 4,
    "start_time": "2022-09-23T18:51:49.942Z"
   },
   {
    "duration": 6,
    "start_time": "2022-09-23T18:51:55.849Z"
   },
   {
    "duration": 4,
    "start_time": "2022-09-23T18:54:16.093Z"
   },
   {
    "duration": 46,
    "start_time": "2022-09-23T18:54:17.081Z"
   },
   {
    "duration": 6,
    "start_time": "2022-09-23T18:54:20.619Z"
   },
   {
    "duration": 7,
    "start_time": "2022-09-23T18:57:49.715Z"
   },
   {
    "duration": 5,
    "start_time": "2022-09-23T18:59:10.484Z"
   },
   {
    "duration": 29,
    "start_time": "2022-09-23T18:59:32.120Z"
   },
   {
    "duration": 6,
    "start_time": "2022-09-23T19:01:21.857Z"
   },
   {
    "duration": 5,
    "start_time": "2022-09-23T19:03:43.451Z"
   },
   {
    "duration": 34,
    "start_time": "2022-09-23T19:03:52.125Z"
   },
   {
    "duration": 29,
    "start_time": "2022-09-23T19:04:00.334Z"
   },
   {
    "duration": 6,
    "start_time": "2022-09-23T19:04:18.098Z"
   },
   {
    "duration": 7,
    "start_time": "2022-09-23T19:08:16.456Z"
   },
   {
    "duration": 240,
    "start_time": "2022-09-23T19:13:12.029Z"
   },
   {
    "duration": 246,
    "start_time": "2022-09-23T19:13:24.670Z"
   },
   {
    "duration": 211,
    "start_time": "2022-09-23T19:13:47.281Z"
   },
   {
    "duration": 30,
    "start_time": "2022-09-23T19:15:40.696Z"
   },
   {
    "duration": 27,
    "start_time": "2022-09-23T19:16:02.501Z"
   },
   {
    "duration": 963,
    "start_time": "2022-09-23T19:17:56.608Z"
   },
   {
    "duration": 1163,
    "start_time": "2022-09-23T19:18:10.717Z"
   },
   {
    "duration": 15,
    "start_time": "2022-09-23T19:18:32.253Z"
   },
   {
    "duration": 16,
    "start_time": "2022-09-23T19:19:10.338Z"
   },
   {
    "duration": 18,
    "start_time": "2022-09-23T19:19:26.092Z"
   },
   {
    "duration": 15,
    "start_time": "2022-09-23T19:19:35.127Z"
   },
   {
    "duration": 11,
    "start_time": "2022-09-23T19:19:58.139Z"
   },
   {
    "duration": 6,
    "start_time": "2022-09-23T19:21:48.065Z"
   },
   {
    "duration": 24,
    "start_time": "2022-09-23T19:21:48.722Z"
   },
   {
    "duration": 7,
    "start_time": "2022-09-23T19:21:50.181Z"
   },
   {
    "duration": 6,
    "start_time": "2022-09-23T19:21:57.885Z"
   },
   {
    "duration": 222,
    "start_time": "2022-09-23T19:22:17.529Z"
   },
   {
    "duration": 12,
    "start_time": "2022-09-23T19:28:13.821Z"
   },
   {
    "duration": 239,
    "start_time": "2022-09-23T19:29:08.446Z"
   },
   {
    "duration": 5,
    "start_time": "2022-09-23T19:29:27.149Z"
   },
   {
    "duration": 284,
    "start_time": "2022-09-23T19:29:30.605Z"
   },
   {
    "duration": 221,
    "start_time": "2022-09-23T19:30:09.854Z"
   },
   {
    "duration": 200,
    "start_time": "2022-09-23T19:32:08.416Z"
   },
   {
    "duration": 712,
    "start_time": "2022-09-23T19:48:33.399Z"
   },
   {
    "duration": 132,
    "start_time": "2022-09-23T19:48:34.113Z"
   },
   {
    "duration": 37,
    "start_time": "2022-09-23T19:48:34.246Z"
   },
   {
    "duration": 40,
    "start_time": "2022-09-23T19:48:34.286Z"
   },
   {
    "duration": 14,
    "start_time": "2022-09-23T19:48:34.327Z"
   },
   {
    "duration": 29,
    "start_time": "2022-09-23T19:48:34.343Z"
   },
   {
    "duration": 40,
    "start_time": "2022-09-23T19:48:34.374Z"
   },
   {
    "duration": 5,
    "start_time": "2022-09-23T19:48:34.416Z"
   },
   {
    "duration": 23,
    "start_time": "2022-09-23T19:48:34.423Z"
   },
   {
    "duration": 32,
    "start_time": "2022-09-23T19:48:34.449Z"
   },
   {
    "duration": 24,
    "start_time": "2022-09-23T19:48:34.485Z"
   },
   {
    "duration": 40,
    "start_time": "2022-09-23T19:48:34.511Z"
   },
   {
    "duration": 34,
    "start_time": "2022-09-23T19:48:34.552Z"
   },
   {
    "duration": 755,
    "start_time": "2022-09-23T19:48:34.588Z"
   },
   {
    "duration": 39,
    "start_time": "2022-09-23T19:48:35.346Z"
   },
   {
    "duration": 40,
    "start_time": "2022-09-23T19:48:35.396Z"
   },
   {
    "duration": 31,
    "start_time": "2022-09-23T19:48:35.438Z"
   },
   {
    "duration": 42,
    "start_time": "2022-09-23T19:48:35.471Z"
   },
   {
    "duration": 79,
    "start_time": "2022-09-23T19:48:35.515Z"
   },
   {
    "duration": 7,
    "start_time": "2022-09-23T19:48:35.596Z"
   },
   {
    "duration": 24,
    "start_time": "2022-09-23T19:48:35.605Z"
   },
   {
    "duration": 162,
    "start_time": "2022-09-23T19:48:35.631Z"
   },
   {
    "duration": 3,
    "start_time": "2022-09-23T19:48:35.796Z"
   },
   {
    "duration": 9,
    "start_time": "2022-09-23T19:48:35.801Z"
   },
   {
    "duration": 8,
    "start_time": "2022-09-23T19:48:35.812Z"
   },
   {
    "duration": 10,
    "start_time": "2022-09-23T19:48:35.821Z"
   },
   {
    "duration": 23,
    "start_time": "2022-09-23T19:48:35.832Z"
   },
   {
    "duration": 32,
    "start_time": "2022-09-23T19:48:35.868Z"
   },
   {
    "duration": 12,
    "start_time": "2022-09-23T19:48:35.902Z"
   },
   {
    "duration": 6,
    "start_time": "2022-09-23T19:48:35.916Z"
   },
   {
    "duration": 6,
    "start_time": "2022-09-23T19:48:35.924Z"
   },
   {
    "duration": 9,
    "start_time": "2022-09-23T19:48:35.932Z"
   },
   {
    "duration": 16,
    "start_time": "2022-09-23T19:48:35.943Z"
   },
   {
    "duration": 33,
    "start_time": "2022-09-23T19:48:35.967Z"
   },
   {
    "duration": 12,
    "start_time": "2022-09-23T19:48:36.002Z"
   },
   {
    "duration": 13,
    "start_time": "2022-09-23T19:48:36.016Z"
   },
   {
    "duration": 9,
    "start_time": "2022-09-23T19:48:36.031Z"
   },
   {
    "duration": 6,
    "start_time": "2022-09-23T19:48:36.042Z"
   },
   {
    "duration": 15,
    "start_time": "2022-09-23T19:48:36.049Z"
   },
   {
    "duration": 21,
    "start_time": "2022-09-23T19:48:36.071Z"
   },
   {
    "duration": 72,
    "start_time": "2022-09-23T19:48:36.093Z"
   },
   {
    "duration": 5,
    "start_time": "2022-09-23T19:48:36.166Z"
   },
   {
    "duration": 55,
    "start_time": "2022-09-23T19:48:36.174Z"
   },
   {
    "duration": 28,
    "start_time": "2022-09-23T19:48:36.230Z"
   },
   {
    "duration": 24,
    "start_time": "2022-09-23T19:48:36.259Z"
   },
   {
    "duration": 17,
    "start_time": "2022-09-23T19:48:36.285Z"
   },
   {
    "duration": 7,
    "start_time": "2022-09-23T19:48:36.303Z"
   },
   {
    "duration": 26,
    "start_time": "2022-09-23T19:48:36.311Z"
   },
   {
    "duration": 31,
    "start_time": "2022-09-23T19:48:36.339Z"
   },
   {
    "duration": 144,
    "start_time": "2022-09-23T19:48:36.372Z"
   },
   {
    "duration": 408,
    "start_time": "2022-09-23T19:48:36.518Z"
   },
   {
    "duration": 204,
    "start_time": "2022-09-23T19:48:36.928Z"
   },
   {
    "duration": 14,
    "start_time": "2022-09-23T19:48:37.134Z"
   },
   {
    "duration": 180,
    "start_time": "2022-09-23T19:48:37.158Z"
   },
   {
    "duration": 364,
    "start_time": "2022-09-23T19:48:37.340Z"
   },
   {
    "duration": 216,
    "start_time": "2022-09-23T19:48:37.706Z"
   },
   {
    "duration": 193,
    "start_time": "2022-09-23T19:48:37.924Z"
   },
   {
    "duration": 200,
    "start_time": "2022-09-23T19:48:38.119Z"
   },
   {
    "duration": 20,
    "start_time": "2022-09-23T19:48:38.321Z"
   },
   {
    "duration": 42,
    "start_time": "2022-09-23T19:48:38.342Z"
   },
   {
    "duration": 24,
    "start_time": "2022-09-23T19:48:38.386Z"
   },
   {
    "duration": 268,
    "start_time": "2022-09-23T19:48:38.411Z"
   },
   {
    "duration": 268,
    "start_time": "2022-09-23T19:48:38.684Z"
   },
   {
    "duration": 263,
    "start_time": "2022-09-23T19:48:38.959Z"
   },
   {
    "duration": 283,
    "start_time": "2022-09-23T19:48:39.224Z"
   },
   {
    "duration": 17,
    "start_time": "2022-09-23T19:48:39.509Z"
   },
   {
    "duration": 10,
    "start_time": "2022-09-23T19:48:39.528Z"
   },
   {
    "duration": 345,
    "start_time": "2022-09-23T19:48:39.540Z"
   },
   {
    "duration": 207,
    "start_time": "2022-09-23T19:48:39.888Z"
   },
   {
    "duration": 5,
    "start_time": "2022-09-23T19:48:40.097Z"
   },
   {
    "duration": 26,
    "start_time": "2022-09-23T19:48:40.103Z"
   },
   {
    "duration": 37,
    "start_time": "2022-09-23T19:48:40.131Z"
   },
   {
    "duration": 19,
    "start_time": "2022-09-23T19:48:40.170Z"
   },
   {
    "duration": 26,
    "start_time": "2022-09-23T19:48:40.190Z"
   },
   {
    "duration": 24,
    "start_time": "2022-09-23T19:48:40.218Z"
   },
   {
    "duration": 13,
    "start_time": "2022-09-23T19:48:40.244Z"
   },
   {
    "duration": 38,
    "start_time": "2022-09-23T19:48:40.262Z"
   },
   {
    "duration": 31,
    "start_time": "2022-09-23T19:48:40.302Z"
   },
   {
    "duration": 5,
    "start_time": "2022-09-23T19:48:40.334Z"
   },
   {
    "duration": 238,
    "start_time": "2022-09-23T19:48:40.341Z"
   },
   {
    "duration": 20,
    "start_time": "2022-09-23T19:48:40.584Z"
   },
   {
    "duration": 41,
    "start_time": "2022-09-24T14:05:31.681Z"
   },
   {
    "duration": 608,
    "start_time": "2022-09-24T14:05:34.495Z"
   },
   {
    "duration": 413,
    "start_time": "2022-09-24T14:05:35.105Z"
   },
   {
    "duration": 22,
    "start_time": "2022-09-24T14:05:35.519Z"
   },
   {
    "duration": 22,
    "start_time": "2022-09-24T14:05:35.543Z"
   },
   {
    "duration": 12,
    "start_time": "2022-09-24T14:05:35.567Z"
   },
   {
    "duration": 19,
    "start_time": "2022-09-24T14:05:35.580Z"
   },
   {
    "duration": 35,
    "start_time": "2022-09-24T14:05:35.600Z"
   },
   {
    "duration": 3,
    "start_time": "2022-09-24T14:05:35.637Z"
   },
   {
    "duration": 23,
    "start_time": "2022-09-24T14:05:35.642Z"
   },
   {
    "duration": 13,
    "start_time": "2022-09-24T14:05:35.668Z"
   },
   {
    "duration": 29,
    "start_time": "2022-09-24T14:05:35.682Z"
   },
   {
    "duration": 11,
    "start_time": "2022-09-24T14:05:35.713Z"
   },
   {
    "duration": 16,
    "start_time": "2022-09-24T14:05:35.725Z"
   },
   {
    "duration": 583,
    "start_time": "2022-09-24T14:05:35.743Z"
   },
   {
    "duration": 17,
    "start_time": "2022-09-24T14:05:36.327Z"
   },
   {
    "duration": 39,
    "start_time": "2022-09-24T14:05:36.345Z"
   },
   {
    "duration": 33,
    "start_time": "2022-09-24T14:05:36.386Z"
   },
   {
    "duration": 22,
    "start_time": "2022-09-24T14:05:36.421Z"
   },
   {
    "duration": 17,
    "start_time": "2022-09-24T14:05:36.444Z"
   },
   {
    "duration": 8,
    "start_time": "2022-09-24T14:05:36.463Z"
   },
   {
    "duration": 9,
    "start_time": "2022-09-24T14:05:36.472Z"
   },
   {
    "duration": 109,
    "start_time": "2022-09-24T14:05:36.482Z"
   },
   {
    "duration": 9,
    "start_time": "2022-09-24T14:05:36.593Z"
   },
   {
    "duration": 15,
    "start_time": "2022-09-24T14:05:36.603Z"
   },
   {
    "duration": 16,
    "start_time": "2022-09-24T14:05:36.619Z"
   },
   {
    "duration": 10,
    "start_time": "2022-09-24T14:05:36.637Z"
   },
   {
    "duration": 16,
    "start_time": "2022-09-24T14:05:36.649Z"
   },
   {
    "duration": 12,
    "start_time": "2022-09-24T14:05:36.669Z"
   },
   {
    "duration": 19,
    "start_time": "2022-09-24T14:05:36.683Z"
   },
   {
    "duration": 14,
    "start_time": "2022-09-24T14:05:36.704Z"
   },
   {
    "duration": 18,
    "start_time": "2022-09-24T14:05:36.719Z"
   },
   {
    "duration": 14,
    "start_time": "2022-09-24T14:05:36.739Z"
   },
   {
    "duration": 13,
    "start_time": "2022-09-24T14:05:36.755Z"
   },
   {
    "duration": 22,
    "start_time": "2022-09-24T14:05:36.769Z"
   },
   {
    "duration": 8,
    "start_time": "2022-09-24T14:05:36.793Z"
   },
   {
    "duration": 14,
    "start_time": "2022-09-24T14:05:36.802Z"
   },
   {
    "duration": 12,
    "start_time": "2022-09-24T14:05:36.817Z"
   },
   {
    "duration": 11,
    "start_time": "2022-09-24T14:05:36.830Z"
   },
   {
    "duration": 20,
    "start_time": "2022-09-24T14:05:36.843Z"
   },
   {
    "duration": 27,
    "start_time": "2022-09-24T14:05:36.864Z"
   },
   {
    "duration": 64,
    "start_time": "2022-09-24T14:05:36.892Z"
   },
   {
    "duration": 4,
    "start_time": "2022-09-24T14:05:36.958Z"
   },
   {
    "duration": 35,
    "start_time": "2022-09-24T14:05:36.964Z"
   },
   {
    "duration": 23,
    "start_time": "2022-09-24T14:05:37.001Z"
   },
   {
    "duration": 13,
    "start_time": "2022-09-24T14:05:37.026Z"
   },
   {
    "duration": 7,
    "start_time": "2022-09-24T14:05:37.041Z"
   },
   {
    "duration": 7,
    "start_time": "2022-09-24T14:05:37.049Z"
   },
   {
    "duration": 25,
    "start_time": "2022-09-24T14:05:37.057Z"
   },
   {
    "duration": 18,
    "start_time": "2022-09-24T14:05:37.100Z"
   },
   {
    "duration": 114,
    "start_time": "2022-09-24T14:05:37.120Z"
   },
   {
    "duration": 342,
    "start_time": "2022-09-24T14:05:37.236Z"
   },
   {
    "duration": 148,
    "start_time": "2022-09-24T14:05:37.580Z"
   },
   {
    "duration": 11,
    "start_time": "2022-09-24T14:05:37.730Z"
   },
   {
    "duration": 148,
    "start_time": "2022-09-24T14:05:37.743Z"
   },
   {
    "duration": 305,
    "start_time": "2022-09-24T14:05:37.892Z"
   },
   {
    "duration": 172,
    "start_time": "2022-09-24T14:05:38.198Z"
   },
   {
    "duration": 158,
    "start_time": "2022-09-24T14:05:38.372Z"
   },
   {
    "duration": 165,
    "start_time": "2022-09-24T14:05:38.532Z"
   },
   {
    "duration": 17,
    "start_time": "2022-09-24T14:05:38.699Z"
   },
   {
    "duration": 15,
    "start_time": "2022-09-24T14:05:38.718Z"
   },
   {
    "duration": 16,
    "start_time": "2022-09-24T14:05:38.735Z"
   },
   {
    "duration": 234,
    "start_time": "2022-09-24T14:05:38.753Z"
   },
   {
    "duration": 247,
    "start_time": "2022-09-24T14:05:38.989Z"
   },
   {
    "duration": 250,
    "start_time": "2022-09-24T14:05:39.238Z"
   },
   {
    "duration": 246,
    "start_time": "2022-09-24T14:05:39.490Z"
   },
   {
    "duration": 15,
    "start_time": "2022-09-24T14:05:39.737Z"
   },
   {
    "duration": 5,
    "start_time": "2022-09-24T14:05:39.754Z"
   },
   {
    "duration": 224,
    "start_time": "2022-09-24T14:05:39.761Z"
   },
   {
    "duration": 230,
    "start_time": "2022-09-24T14:05:39.986Z"
   },
   {
    "duration": 5,
    "start_time": "2022-09-24T14:05:40.218Z"
   },
   {
    "duration": 5,
    "start_time": "2022-09-24T14:05:40.224Z"
   },
   {
    "duration": 24,
    "start_time": "2022-09-24T14:05:40.230Z"
   },
   {
    "duration": 14,
    "start_time": "2022-09-24T14:05:40.256Z"
   },
   {
    "duration": 13,
    "start_time": "2022-09-24T14:05:40.272Z"
   },
   {
    "duration": 24,
    "start_time": "2022-09-24T14:05:40.286Z"
   },
   {
    "duration": 2,
    "start_time": "2022-09-24T14:05:40.311Z"
   },
   {
    "duration": 6,
    "start_time": "2022-09-24T14:05:40.315Z"
   },
   {
    "duration": 25,
    "start_time": "2022-09-24T14:05:40.322Z"
   },
   {
    "duration": 5,
    "start_time": "2022-09-24T14:05:40.348Z"
   },
   {
    "duration": 249,
    "start_time": "2022-09-24T14:05:40.354Z"
   },
   {
    "duration": 4,
    "start_time": "2022-09-24T14:05:40.605Z"
   },
   {
    "duration": 17,
    "start_time": "2022-09-24T14:05:40.613Z"
   },
   {
    "duration": 5,
    "start_time": "2022-09-24T14:06:16.923Z"
   },
   {
    "duration": 5,
    "start_time": "2022-09-24T14:06:21.841Z"
   },
   {
    "duration": 5,
    "start_time": "2022-09-24T14:06:25.731Z"
   },
   {
    "duration": 4,
    "start_time": "2022-09-24T14:06:26.889Z"
   },
   {
    "duration": 4,
    "start_time": "2022-09-24T14:07:28.592Z"
   },
   {
    "duration": 6,
    "start_time": "2022-09-24T14:07:45.354Z"
   },
   {
    "duration": 5,
    "start_time": "2022-09-24T14:07:47.599Z"
   },
   {
    "duration": 4,
    "start_time": "2022-09-24T14:07:58.899Z"
   }
  ],
  "colab": {
   "name": "DA+. Сборный проект 1. Шаблон (1).ipynb",
   "provenance": []
  },
  "kernelspec": {
   "display_name": "Python 3 (ipykernel)",
   "language": "python",
   "name": "python3"
  },
  "language_info": {
   "codemirror_mode": {
    "name": "ipython",
    "version": 3
   },
   "file_extension": ".py",
   "mimetype": "text/x-python",
   "name": "python",
   "nbconvert_exporter": "python",
   "pygments_lexer": "ipython3",
   "version": "3.9.5"
  },
  "toc": {
   "base_numbering": 1,
   "nav_menu": {},
   "number_sections": true,
   "sideBar": true,
   "skip_h1_title": true,
   "title_cell": "Table of Contents",
   "title_sidebar": "Contents",
   "toc_cell": false,
   "toc_position": {
    "height": "calc(100% - 180px)",
    "left": "10px",
    "top": "150px",
    "width": "375.391px"
   },
   "toc_section_display": true,
   "toc_window_display": true
  }
 },
 "nbformat": 4,
 "nbformat_minor": 1
}
